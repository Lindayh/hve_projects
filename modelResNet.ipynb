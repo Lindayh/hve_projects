{
 "cells": [
  {
   "cell_type": "code",
   "execution_count": 1,
   "metadata": {},
   "outputs": [],
   "source": [
    "# ! pip install pandas numpy scikit-learn plotly matplotlib\n",
    "# ! pip install nbformat\n",
    "# ! pip install --upgrade nbformat\n",
    "# ! pip install tensorflow[and-cuda]"
   ]
  },
  {
   "cell_type": "markdown",
   "metadata": {},
   "source": [
    "#### Notes"
   ]
  },
  {
   "cell_type": "markdown",
   "metadata": {},
   "source": [
    "### Imports"
   ]
  },
  {
   "cell_type": "code",
   "execution_count": 2,
   "metadata": {},
   "outputs": [
    {
     "name": "stderr",
     "output_type": "stream",
     "text": [
      "2024-10-20 11:54:01.277596: E external/local_xla/xla/stream_executor/cuda/cuda_fft.cc:485] Unable to register cuFFT factory: Attempting to register factory for plugin cuFFT when one has already been registered\n",
      "2024-10-20 11:54:01.288540: E external/local_xla/xla/stream_executor/cuda/cuda_dnn.cc:8454] Unable to register cuDNN factory: Attempting to register factory for plugin cuDNN when one has already been registered\n",
      "2024-10-20 11:54:01.292022: E external/local_xla/xla/stream_executor/cuda/cuda_blas.cc:1452] Unable to register cuBLAS factory: Attempting to register factory for plugin cuBLAS when one has already been registered\n",
      "2024-10-20 11:54:01.301410: I tensorflow/core/platform/cpu_feature_guard.cc:210] This TensorFlow binary is optimized to use available CPU instructions in performance-critical operations.\n",
      "To enable the following instructions: AVX2 FMA, in other operations, rebuild TensorFlow with the appropriate compiler flags.\n",
      "2024-10-20 11:54:02.120156: W tensorflow/compiler/tf2tensorrt/utils/py_utils.cc:38] TF-TRT Warning: Could not find TensorRT\n"
     ]
    }
   ],
   "source": [
    "import pandas as pd\n",
    "import numpy as np\n",
    "import tensorflow as tf\n",
    "from datetime import datetime as dt\n",
    "import glob\n",
    "\n",
    "from sklearn import datasets\n",
    "from sklearn.model_selection import train_test_split\n",
    "from sklearn.preprocessing import StandardScaler\n",
    "from sklearn.metrics import confusion_matrix\n",
    "\n",
    "from tensorflow.keras.applications import ResNet50, ResNet101\n",
    "from tensorflow.keras.preprocessing.image import ImageDataGenerator\n",
    "from tensorflow.keras.layers import Dense, Input, Dropout, Rescaling, Conv2D, MaxPooling2D, Flatten, Dropout, Activation, BatchNormalization\n",
    "from tensorflow.keras.models import Sequential,Model\n",
    "from tensorflow.keras.optimizers import SGD, Adam\n",
    "from tensorflow.keras.losses import BinaryCrossentropy\n",
    "from tensorflow.keras.callbacks import EarlyStopping\n",
    "from tensorflow.keras.regularizers import l2\n",
    "from tensorflow.keras.metrics import Precision, Recall, F1Score\n",
    "import visualkeras\n",
    "\n",
    "from sklearn.model_selection import GridSearchCV\n",
    "import matplotlib.pyplot as plt\n",
    "from plotly.subplots import make_subplots\n",
    "import plotly.graph_objects as go\n",
    "import plotly.express as px\n",
    "\n",
    "import warnings \n",
    "warnings.filterwarnings('ignore')"
   ]
  },
  {
   "cell_type": "code",
   "execution_count": 3,
   "metadata": {},
   "outputs": [
    {
     "name": "stdout",
     "output_type": "stream",
     "text": [
      "Num GPUs Available:  1\n"
     ]
    },
    {
     "name": "stderr",
     "output_type": "stream",
     "text": [
      "WARNING: All log messages before absl::InitializeLog() is called are written to STDERR\n",
      "I0000 00:00:1729418043.554435   40765 cuda_executor.cc:1015] successful NUMA node read from SysFS had negative value (-1), but there must be at least one NUMA node, so returning NUMA node zero. See more at https://github.com/torvalds/linux/blob/v6.0/Documentation/ABI/testing/sysfs-bus-pci#L344-L355\n",
      "I0000 00:00:1729418043.588561   40765 cuda_executor.cc:1015] successful NUMA node read from SysFS had negative value (-1), but there must be at least one NUMA node, so returning NUMA node zero. See more at https://github.com/torvalds/linux/blob/v6.0/Documentation/ABI/testing/sysfs-bus-pci#L344-L355\n",
      "I0000 00:00:1729418043.588759   40765 cuda_executor.cc:1015] successful NUMA node read from SysFS had negative value (-1), but there must be at least one NUMA node, so returning NUMA node zero. See more at https://github.com/torvalds/linux/blob/v6.0/Documentation/ABI/testing/sysfs-bus-pci#L344-L355\n"
     ]
    }
   ],
   "source": [
    "# Check if GPUs are available for training \n",
    "print(\"Num GPUs Available: \", len(tf.config.list_physical_devices('GPU')))"
   ]
  },
  {
   "cell_type": "code",
   "execution_count": 4,
   "metadata": {},
   "outputs": [
    {
     "name": "stderr",
     "output_type": "stream",
     "text": [
      "I0000 00:00:1729418043.610784   40765 cuda_executor.cc:1015] successful NUMA node read from SysFS had negative value (-1), but there must be at least one NUMA node, so returning NUMA node zero. See more at https://github.com/torvalds/linux/blob/v6.0/Documentation/ABI/testing/sysfs-bus-pci#L344-L355\n",
      "I0000 00:00:1729418043.611005   40765 cuda_executor.cc:1015] successful NUMA node read from SysFS had negative value (-1), but there must be at least one NUMA node, so returning NUMA node zero. See more at https://github.com/torvalds/linux/blob/v6.0/Documentation/ABI/testing/sysfs-bus-pci#L344-L355\n",
      "I0000 00:00:1729418043.611160   40765 cuda_executor.cc:1015] successful NUMA node read from SysFS had negative value (-1), but there must be at least one NUMA node, so returning NUMA node zero. See more at https://github.com/torvalds/linux/blob/v6.0/Documentation/ABI/testing/sysfs-bus-pci#L344-L355\n",
      "I0000 00:00:1729418043.672196   40765 cuda_executor.cc:1015] successful NUMA node read from SysFS had negative value (-1), but there must be at least one NUMA node, so returning NUMA node zero. See more at https://github.com/torvalds/linux/blob/v6.0/Documentation/ABI/testing/sysfs-bus-pci#L344-L355\n",
      "I0000 00:00:1729418043.672411   40765 cuda_executor.cc:1015] successful NUMA node read from SysFS had negative value (-1), but there must be at least one NUMA node, so returning NUMA node zero. See more at https://github.com/torvalds/linux/blob/v6.0/Documentation/ABI/testing/sysfs-bus-pci#L344-L355\n",
      "I0000 00:00:1729418043.672573   40765 cuda_executor.cc:1015] successful NUMA node read from SysFS had negative value (-1), but there must be at least one NUMA node, so returning NUMA node zero. See more at https://github.com/torvalds/linux/blob/v6.0/Documentation/ABI/testing/sysfs-bus-pci#L344-L355\n",
      "2024-10-20 11:54:03.672739: I tensorflow/core/common_runtime/gpu/gpu_device.cc:2021] Created device /job:localhost/replica:0/task:0/device:GPU:0 with 4482 MB memory:  -> device: 0, name: NVIDIA GeForce GTX 1060 6GB, pci bus id: 0000:06:00.0, compute capability: 6.1\n"
     ]
    }
   ],
   "source": [
    "DATASET_FOLDER_TRAIN = 'CIFAKE/train'\n",
    "DATASET_FOLDER_TEST = 'CIFAKE/test'\n",
    "\n",
    "BATCH_SIZE = 24\n",
    "COLOR_MODE = 'grayscale'\n",
    "CLASS_MODE = 'binary'\n",
    "TARGET_SIZE = (32, 32)\n",
    "LEARN_RATE = 0.0005\n",
    "SEED = 42\n",
    "\n",
    "N_EPOCHS = 50\n",
    "MODEL = ResNet101(weights='imagenet', include_top=False, input_shape=(32,32,3))      "
   ]
  },
  {
   "cell_type": "markdown",
   "metadata": {},
   "source": [
    "### Train/test sets"
   ]
  },
  {
   "cell_type": "code",
   "execution_count": 5,
   "metadata": {},
   "outputs": [
    {
     "name": "stdout",
     "output_type": "stream",
     "text": [
      "Found 70000 images belonging to 2 classes.\n",
      "Found 30000 images belonging to 2 classes.\n",
      "Found 20000 images belonging to 2 classes.\n"
     ]
    }
   ],
   "source": [
    "train_datagen = ImageDataGenerator(\n",
    "    rescale=1./255,  \n",
    "    rotation_range=45,\n",
    "    width_shift_range=0.5,\n",
    "    height_shift_range=0.5,\n",
    "    zoom_range=0.5,\n",
    "    horizontal_flip=True,  \n",
    "    vertical_flip=True,  \n",
    "    validation_split=0.3,  \n",
    ")\n",
    "\n",
    "# Load training data from directory and apply transformations\n",
    "train_generator = train_datagen.flow_from_directory(\n",
    "    DATASET_FOLDER_TRAIN,  \n",
    "    target_size=TARGET_SIZE,    \n",
    "    color_mode=COLOR_MODE,  \n",
    "    batch_size=BATCH_SIZE,\n",
    "    class_mode=CLASS_MODE,  \n",
    "    subset='training', \n",
    "    seed = SEED\n",
    ")\n",
    "\n",
    "# Load validation data (20% of the training data)\n",
    "validation_generator = train_datagen.flow_from_directory(\n",
    "    DATASET_FOLDER_TRAIN, \n",
    "    target_size=TARGET_SIZE,\n",
    "    color_mode=COLOR_MODE,\n",
    "    batch_size=BATCH_SIZE,\n",
    "    class_mode=CLASS_MODE,\n",
    "    subset='validation', \n",
    "    shuffle=False,\n",
    ")\n",
    "\n",
    "test_datagen = ImageDataGenerator(rescale=1./255)\n",
    "\n",
    "test_generator = test_datagen.flow_from_directory(\n",
    "    DATASET_FOLDER_TEST,  \n",
    "    target_size=TARGET_SIZE,\n",
    "    color_mode=COLOR_MODE,\n",
    "    batch_size=BATCH_SIZE,\n",
    "    class_mode=CLASS_MODE,\n",
    ")"
   ]
  },
  {
   "cell_type": "markdown",
   "metadata": {},
   "source": [
    "### EDA"
   ]
  },
  {
   "cell_type": "code",
   "execution_count": 6,
   "metadata": {},
   "outputs": [
    {
     "name": "stdout",
     "output_type": "stream",
     "text": [
      "Class distribution: \n",
      "Train REAL images: 50000\n",
      "Train FAKE images: 50000\n",
      "Test REAL images: 10000\n",
      "Test FAKE images: 10000\n"
     ]
    }
   ],
   "source": [
    "print('Class distribution: ')\n",
    "print( f'Train REAL images: {len(glob.glob('CIFAKE/train/REAL/*'))}'  )\n",
    "print( f'Train FAKE images: {len(glob.glob('CIFAKE/train/FAKE/*'))}'  )\n",
    "\n",
    "print( f'Test REAL images: {len(glob.glob('CIFAKE/test/REAL/*'))}'  )\n",
    "print( f'Test FAKE images: {len(glob.glob('CIFAKE/test/FAKE/*'))}'  )"
   ]
  },
  {
   "cell_type": "code",
   "execution_count": 7,
   "metadata": {},
   "outputs": [],
   "source": [
    "# Show random image"
   ]
  },
  {
   "cell_type": "markdown",
   "metadata": {},
   "source": [
    "#### Image normalisation"
   ]
  },
  {
   "cell_type": "code",
   "execution_count": 8,
   "metadata": {},
   "outputs": [],
   "source": [
    "# Image normalisation"
   ]
  },
  {
   "cell_type": "markdown",
   "metadata": {},
   "source": [
    "### Load model"
   ]
  },
  {
   "cell_type": "code",
   "execution_count": 9,
   "metadata": {},
   "outputs": [],
   "source": [
    "# Convert to rgb\n",
    "def convert_grayscale_to_rgb(batch):\n",
    "    tensor_batch = tf.convert_to_tensor(batch)\n",
    "\n",
    "    rgb_batch = tf.image.grayscale_to_rgb(tensor_batch)\n",
    "    return rgb_batch\n",
    "\n",
    "def rgb_wrapper(generator):\n",
    "    for batch, labels in generator:\n",
    "        yield convert_grayscale_to_rgb(batch), labels\n",
    "\n",
    "train_generator_rgb = rgb_wrapper(train_generator)\n",
    "validation_generator_rgb = rgb_wrapper(validation_generator)\n",
    "test_generator_rgb = rgb_wrapper(test_generator)"
   ]
  },
  {
   "cell_type": "code",
   "execution_count": 10,
   "metadata": {},
   "outputs": [],
   "source": [
    "n_classes = train_generator.num_classes\n",
    "\n",
    "VGG_model = MODEL\n",
    "\n",
    "for layer in VGG_model.layers:\n",
    "    layer.trainable = False\n",
    "\n",
    "x = Flatten()(VGG_model.output)\n",
    "x = Dense(1024, activation='relu')(x)\n",
    "x = Dense(128, activation='relu')(x)\n",
    "x = Dense(1, activation='sigmoid')(x)\n",
    "\n",
    "# Custom model\n",
    "customResNet = Model(inputs=VGG_model.input, outputs=x)\n",
    "\n",
    "customResNet.compile(loss=BinaryCrossentropy(), \n",
    "                  optimizer=Adam(learning_rate=LEARN_RATE), \n",
    "                  metrics=['accuracy', Precision(), Recall()])"
   ]
  },
  {
   "cell_type": "markdown",
   "metadata": {},
   "source": [
    "### Train model"
   ]
  },
  {
   "cell_type": "code",
   "execution_count": 11,
   "metadata": {},
   "outputs": [
    {
     "name": "stdout",
     "output_type": "stream",
     "text": [
      "Epoch 1/50\n"
     ]
    },
    {
     "name": "stderr",
     "output_type": "stream",
     "text": [
      "WARNING: All log messages before absl::InitializeLog() is called are written to STDERR\n",
      "I0000 00:00:1729418053.191750   40840 service.cc:146] XLA service 0x7b45a8021fb0 initialized for platform CUDA (this does not guarantee that XLA will be used). Devices:\n",
      "I0000 00:00:1729418053.191766   40840 service.cc:154]   StreamExecutor device (0): NVIDIA GeForce GTX 1060 6GB, Compute Capability 6.1\n",
      "2024-10-20 11:54:13.403265: I tensorflow/compiler/mlir/tensorflow/utils/dump_mlir_util.cc:268] disabling MLIR crash reproducer, set env var `MLIR_CRASH_REPRODUCER_DIRECTORY` to enable.\n",
      "2024-10-20 11:54:14.586329: I external/local_xla/xla/stream_executor/cuda/cuda_dnn.cc:531] Loaded cuDNN version 8907\n"
     ]
    },
    {
     "name": "stdout",
     "output_type": "stream",
     "text": [
      "\u001b[1m   9/2916\u001b[0m \u001b[37m━━━━━━━━━━━━━━━━━━━━\u001b[0m \u001b[1m44s\u001b[0m 15ms/step - accuracy: 0.5236 - loss: 0.8186 - precision: 0.3909 - recall: 0.3002          "
     ]
    },
    {
     "name": "stderr",
     "output_type": "stream",
     "text": [
      "I0000 00:00:1729418056.818603   40840 device_compiler.h:188] Compiled cluster using XLA!  This line is logged at most once for the lifetime of the process.\n"
     ]
    },
    {
     "name": "stdout",
     "output_type": "stream",
     "text": [
      "\u001b[1m2916/2916\u001b[0m \u001b[32m━━━━━━━━━━━━━━━━━━━━\u001b[0m\u001b[37m\u001b[0m \u001b[1m71s\u001b[0m 21ms/step - accuracy: 0.5387 - loss: 0.6987 - precision: 0.5375 - recall: 0.5662 - val_accuracy: 0.5573 - val_loss: 0.6809 - val_precision: 0.5357 - val_recall: 0.8595\n",
      "Epoch 2/50\n",
      "\u001b[1m2916/2916\u001b[0m \u001b[32m━━━━━━━━━━━━━━━━━━━━\u001b[0m\u001b[37m\u001b[0m \u001b[1m61s\u001b[0m 20ms/step - accuracy: 0.5680 - loss: 0.6767 - precision: 0.5553 - recall: 0.6684 - val_accuracy: 0.5855 - val_loss: 0.6732 - val_precision: 0.5821 - val_recall: 0.6057\n",
      "Epoch 3/50\n",
      "\u001b[1m2916/2916\u001b[0m \u001b[32m━━━━━━━━━━━━━━━━━━━━\u001b[0m\u001b[37m\u001b[0m \u001b[1m58s\u001b[0m 20ms/step - accuracy: 0.5758 - loss: 0.6746 - precision: 0.5665 - recall: 0.6512 - val_accuracy: 0.5844 - val_loss: 0.6711 - val_precision: 0.5698 - val_recall: 0.6893\n",
      "Epoch 4/50\n",
      "\u001b[1m2916/2916\u001b[0m \u001b[32m━━━━━━━━━━━━━━━━━━━━\u001b[0m\u001b[37m\u001b[0m \u001b[1m58s\u001b[0m 20ms/step - accuracy: 0.5792 - loss: 0.6734 - precision: 0.5695 - recall: 0.6611 - val_accuracy: 0.5869 - val_loss: 0.6664 - val_precision: 0.6056 - val_recall: 0.4982\n",
      "Epoch 5/50\n",
      "\u001b[1m2916/2916\u001b[0m \u001b[32m━━━━━━━━━━━━━━━━━━━━\u001b[0m\u001b[37m\u001b[0m \u001b[1m58s\u001b[0m 20ms/step - accuracy: 0.5806 - loss: 0.6717 - precision: 0.5764 - recall: 0.6240 - val_accuracy: 0.5910 - val_loss: 0.6658 - val_precision: 0.5786 - val_recall: 0.6697\n",
      "Epoch 6/50\n",
      "\u001b[1m2916/2916\u001b[0m \u001b[32m━━━━━━━━━━━━━━━━━━━━\u001b[0m\u001b[37m\u001b[0m \u001b[1m59s\u001b[0m 20ms/step - accuracy: 0.5830 - loss: 0.6713 - precision: 0.5752 - recall: 0.6290 - val_accuracy: 0.5819 - val_loss: 0.6705 - val_precision: 0.6081 - val_recall: 0.4607\n",
      "Epoch 7/50\n",
      "\u001b[1m2916/2916\u001b[0m \u001b[32m━━━━━━━━━━━━━━━━━━━━\u001b[0m\u001b[37m\u001b[0m \u001b[1m59s\u001b[0m 20ms/step - accuracy: 0.5853 - loss: 0.6706 - precision: 0.5810 - recall: 0.6227 - val_accuracy: 0.5903 - val_loss: 0.6647 - val_precision: 0.5727 - val_recall: 0.7110\n",
      "Epoch 8/50\n",
      "\u001b[1m2916/2916\u001b[0m \u001b[32m━━━━━━━━━━━━━━━━━━━━\u001b[0m\u001b[37m\u001b[0m \u001b[1m59s\u001b[0m 20ms/step - accuracy: 0.5858 - loss: 0.6686 - precision: 0.5822 - recall: 0.6027 - val_accuracy: 0.5893 - val_loss: 0.6678 - val_precision: 0.6075 - val_recall: 0.5045\n",
      "Epoch 9/50\n",
      "\u001b[1m2916/2916\u001b[0m \u001b[32m━━━━━━━━━━━━━━━━━━━━\u001b[0m\u001b[37m\u001b[0m \u001b[1m62s\u001b[0m 21ms/step - accuracy: 0.5907 - loss: 0.6649 - precision: 0.5867 - recall: 0.6116 - val_accuracy: 0.5975 - val_loss: 0.6619 - val_precision: 0.5945 - val_recall: 0.6135\n",
      "Epoch 10/50\n",
      "\u001b[1m2916/2916\u001b[0m \u001b[32m━━━━━━━━━━━━━━━━━━━━\u001b[0m\u001b[37m\u001b[0m \u001b[1m62s\u001b[0m 21ms/step - accuracy: 0.5922 - loss: 0.6644 - precision: 0.5881 - recall: 0.6159 - val_accuracy: 0.5983 - val_loss: 0.6621 - val_precision: 0.6115 - val_recall: 0.5390\n",
      "Epoch 11/50\n",
      "\u001b[1m2916/2916\u001b[0m \u001b[32m━━━━━━━━━━━━━━━━━━━━\u001b[0m\u001b[37m\u001b[0m \u001b[1m62s\u001b[0m 21ms/step - accuracy: 0.5940 - loss: 0.6642 - precision: 0.5935 - recall: 0.5965 - val_accuracy: 0.5955 - val_loss: 0.6607 - val_precision: 0.5931 - val_recall: 0.6086\n",
      "Epoch 12/50\n",
      "\u001b[1m2916/2916\u001b[0m \u001b[32m━━━━━━━━━━━━━━━━━━━━\u001b[0m\u001b[37m\u001b[0m \u001b[1m62s\u001b[0m 21ms/step - accuracy: 0.5898 - loss: 0.6646 - precision: 0.5910 - recall: 0.5827 - val_accuracy: 0.5952 - val_loss: 0.6603 - val_precision: 0.5792 - val_recall: 0.6968\n",
      "Epoch 13/50\n",
      "\u001b[1m2916/2916\u001b[0m \u001b[32m━━━━━━━━━━━━━━━━━━━━\u001b[0m\u001b[37m\u001b[0m \u001b[1m62s\u001b[0m 21ms/step - accuracy: 0.5885 - loss: 0.6646 - precision: 0.5854 - recall: 0.6032 - val_accuracy: 0.6054 - val_loss: 0.6585 - val_precision: 0.6053 - val_recall: 0.6055\n",
      "Epoch 14/50\n",
      "\u001b[1m2916/2916\u001b[0m \u001b[32m━━━━━━━━━━━━━━━━━━━━\u001b[0m\u001b[37m\u001b[0m \u001b[1m63s\u001b[0m 22ms/step - accuracy: 0.5975 - loss: 0.6629 - precision: 0.5964 - recall: 0.6006 - val_accuracy: 0.5920 - val_loss: 0.6621 - val_precision: 0.5709 - val_recall: 0.7404\n",
      "Epoch 15/50\n",
      "\u001b[1m2916/2916\u001b[0m \u001b[32m━━━━━━━━━━━━━━━━━━━━\u001b[0m\u001b[37m\u001b[0m \u001b[1m63s\u001b[0m 22ms/step - accuracy: 0.5920 - loss: 0.6642 - precision: 0.5873 - recall: 0.5932 - val_accuracy: 0.6016 - val_loss: 0.6614 - val_precision: 0.6375 - val_recall: 0.4708\n",
      "Epoch 16/50\n",
      "\u001b[1m2916/2916\u001b[0m \u001b[32m━━━━━━━━━━━━━━━━━━━━\u001b[0m\u001b[37m\u001b[0m \u001b[1m64s\u001b[0m 22ms/step - accuracy: 0.5951 - loss: 0.6620 - precision: 0.5979 - recall: 0.5859 - val_accuracy: 0.6031 - val_loss: 0.6593 - val_precision: 0.6323 - val_recall: 0.4927\n",
      "Epoch 17/50\n",
      "\u001b[1m2916/2916\u001b[0m \u001b[32m━━━━━━━━━━━━━━━━━━━━\u001b[0m\u001b[37m\u001b[0m \u001b[1m62s\u001b[0m 21ms/step - accuracy: 0.5996 - loss: 0.6620 - precision: 0.6007 - recall: 0.5870 - val_accuracy: 0.5930 - val_loss: 0.6627 - val_precision: 0.5700 - val_recall: 0.7580\n",
      "Epoch 18/50\n",
      "\u001b[1m2916/2916\u001b[0m \u001b[32m━━━━━━━━━━━━━━━━━━━━\u001b[0m\u001b[37m\u001b[0m \u001b[1m63s\u001b[0m 21ms/step - accuracy: 0.5961 - loss: 0.6621 - precision: 0.5930 - recall: 0.6019 - val_accuracy: 0.6064 - val_loss: 0.6553 - val_precision: 0.5901 - val_recall: 0.6974\n",
      "Epoch 19/50\n",
      "\u001b[1m2916/2916\u001b[0m \u001b[32m━━━━━━━━━━━━━━━━━━━━\u001b[0m\u001b[37m\u001b[0m \u001b[1m65s\u001b[0m 22ms/step - accuracy: 0.5970 - loss: 0.6620 - precision: 0.5984 - recall: 0.5971 - val_accuracy: 0.5999 - val_loss: 0.6560 - val_precision: 0.5918 - val_recall: 0.6442\n",
      "Epoch 20/50\n",
      "\u001b[1m2916/2916\u001b[0m \u001b[32m━━━━━━━━━━━━━━━━━━━━\u001b[0m\u001b[37m\u001b[0m \u001b[1m63s\u001b[0m 22ms/step - accuracy: 0.5999 - loss: 0.6612 - precision: 0.5999 - recall: 0.5980 - val_accuracy: 0.5791 - val_loss: 0.6802 - val_precision: 0.5521 - val_recall: 0.8373\n",
      "Epoch 21/50\n",
      "\u001b[1m2916/2916\u001b[0m \u001b[32m━━━━━━━━━━━━━━━━━━━━\u001b[0m\u001b[37m\u001b[0m \u001b[1m62s\u001b[0m 21ms/step - accuracy: 0.5961 - loss: 0.6626 - precision: 0.5940 - recall: 0.5916 - val_accuracy: 0.5786 - val_loss: 0.6705 - val_precision: 0.6906 - val_recall: 0.2849\n",
      "Epoch 22/50\n",
      "\u001b[1m2916/2916\u001b[0m \u001b[32m━━━━━━━━━━━━━━━━━━━━\u001b[0m\u001b[37m\u001b[0m \u001b[1m63s\u001b[0m 22ms/step - accuracy: 0.5999 - loss: 0.6606 - precision: 0.6037 - recall: 0.5857 - val_accuracy: 0.6089 - val_loss: 0.6563 - val_precision: 0.6137 - val_recall: 0.5876\n",
      "Epoch 23/50\n",
      "\u001b[1m2916/2916\u001b[0m \u001b[32m━━━━━━━━━━━━━━━━━━━━\u001b[0m\u001b[37m\u001b[0m \u001b[1m63s\u001b[0m 22ms/step - accuracy: 0.5974 - loss: 0.6611 - precision: 0.5984 - recall: 0.6013 - val_accuracy: 0.6097 - val_loss: 0.6556 - val_precision: 0.6061 - val_recall: 0.6270\n",
      "Epoch 24/50\n",
      "\u001b[1m2916/2916\u001b[0m \u001b[32m━━━━━━━━━━━━━━━━━━━━\u001b[0m\u001b[37m\u001b[0m \u001b[1m62s\u001b[0m 21ms/step - accuracy: 0.6007 - loss: 0.6592 - precision: 0.6039 - recall: 0.5939 - val_accuracy: 0.6102 - val_loss: 0.6524 - val_precision: 0.6101 - val_recall: 0.6107\n",
      "Epoch 25/50\n",
      "\u001b[1m2916/2916\u001b[0m \u001b[32m━━━━━━━━━━━━━━━━━━━━\u001b[0m\u001b[37m\u001b[0m \u001b[1m63s\u001b[0m 21ms/step - accuracy: 0.5951 - loss: 0.6612 - precision: 0.5990 - recall: 0.5796 - val_accuracy: 0.6065 - val_loss: 0.6543 - val_precision: 0.5993 - val_recall: 0.6428\n",
      "Epoch 26/50\n",
      "\u001b[1m2916/2916\u001b[0m \u001b[32m━━━━━━━━━━━━━━━━━━━━\u001b[0m\u001b[37m\u001b[0m \u001b[1m63s\u001b[0m 21ms/step - accuracy: 0.6006 - loss: 0.6594 - precision: 0.6006 - recall: 0.6091 - val_accuracy: 0.6111 - val_loss: 0.6527 - val_precision: 0.6043 - val_recall: 0.6438\n",
      "Epoch 27/50\n",
      "\u001b[1m2916/2916\u001b[0m \u001b[32m━━━━━━━━━━━━━━━━━━━━\u001b[0m\u001b[37m\u001b[0m \u001b[1m63s\u001b[0m 22ms/step - accuracy: 0.6042 - loss: 0.6576 - precision: 0.6039 - recall: 0.5964 - val_accuracy: 0.5571 - val_loss: 0.6782 - val_precision: 0.6916 - val_recall: 0.2063\n",
      "Epoch 28/50\n",
      "\u001b[1m2916/2916\u001b[0m \u001b[32m━━━━━━━━━━━━━━━━━━━━\u001b[0m\u001b[37m\u001b[0m \u001b[1m63s\u001b[0m 22ms/step - accuracy: 0.6020 - loss: 0.6573 - precision: 0.6049 - recall: 0.5905 - val_accuracy: 0.6068 - val_loss: 0.6541 - val_precision: 0.6000 - val_recall: 0.6409\n",
      "Epoch 29/50\n",
      "\u001b[1m2916/2916\u001b[0m \u001b[32m━━━━━━━━━━━━━━━━━━━━\u001b[0m\u001b[37m\u001b[0m \u001b[1m62s\u001b[0m 21ms/step - accuracy: 0.6029 - loss: 0.6573 - precision: 0.6021 - recall: 0.6065 - val_accuracy: 0.6069 - val_loss: 0.6554 - val_precision: 0.5984 - val_recall: 0.6499\n",
      "Epoch 30/50\n",
      "\u001b[1m2916/2916\u001b[0m \u001b[32m━━━━━━━━━━━━━━━━━━━━\u001b[0m\u001b[37m\u001b[0m \u001b[1m62s\u001b[0m 21ms/step - accuracy: 0.6074 - loss: 0.6551 - precision: 0.6114 - recall: 0.5906 - val_accuracy: 0.6037 - val_loss: 0.6576 - val_precision: 0.5843 - val_recall: 0.7190\n",
      "Epoch 31/50\n",
      "\u001b[1m2916/2916\u001b[0m \u001b[32m━━━━━━━━━━━━━━━━━━━━\u001b[0m\u001b[37m\u001b[0m \u001b[1m61s\u001b[0m 21ms/step - accuracy: 0.6007 - loss: 0.6589 - precision: 0.6037 - recall: 0.5906 - val_accuracy: 0.6156 - val_loss: 0.6509 - val_precision: 0.6060 - val_recall: 0.6608\n",
      "Epoch 32/50\n",
      "\u001b[1m2916/2916\u001b[0m \u001b[32m━━━━━━━━━━━━━━━━━━━━\u001b[0m\u001b[37m\u001b[0m \u001b[1m62s\u001b[0m 21ms/step - accuracy: 0.6055 - loss: 0.6562 - precision: 0.6050 - recall: 0.6049 - val_accuracy: 0.6039 - val_loss: 0.6562 - val_precision: 0.5831 - val_recall: 0.7291\n",
      "Epoch 33/50\n",
      "\u001b[1m2916/2916\u001b[0m \u001b[32m━━━━━━━━━━━━━━━━━━━━\u001b[0m\u001b[37m\u001b[0m \u001b[1m63s\u001b[0m 22ms/step - accuracy: 0.6008 - loss: 0.6567 - precision: 0.5990 - recall: 0.6069 - val_accuracy: 0.6172 - val_loss: 0.6501 - val_precision: 0.6214 - val_recall: 0.6001\n",
      "Epoch 34/50\n",
      "\u001b[1m2916/2916\u001b[0m \u001b[32m━━━━━━━━━━━━━━━━━━━━\u001b[0m\u001b[37m\u001b[0m \u001b[1m61s\u001b[0m 21ms/step - accuracy: 0.6094 - loss: 0.6547 - precision: 0.6101 - recall: 0.6107 - val_accuracy: 0.5926 - val_loss: 0.6605 - val_precision: 0.5642 - val_recall: 0.8140\n",
      "Epoch 35/50\n",
      "\u001b[1m2916/2916\u001b[0m \u001b[32m━━━━━━━━━━━━━━━━━━━━\u001b[0m\u001b[37m\u001b[0m \u001b[1m61s\u001b[0m 21ms/step - accuracy: 0.6047 - loss: 0.6575 - precision: 0.6051 - recall: 0.6112 - val_accuracy: 0.5975 - val_loss: 0.6594 - val_precision: 0.5715 - val_recall: 0.7790\n",
      "Epoch 36/50\n",
      "\u001b[1m2916/2916\u001b[0m \u001b[32m━━━━━━━━━━━━━━━━━━━━\u001b[0m\u001b[37m\u001b[0m \u001b[1m65s\u001b[0m 22ms/step - accuracy: 0.6040 - loss: 0.6563 - precision: 0.6047 - recall: 0.6110 - val_accuracy: 0.6103 - val_loss: 0.6525 - val_precision: 0.5948 - val_recall: 0.6918\n",
      "Epoch 37/50\n",
      "\u001b[1m2916/2916\u001b[0m \u001b[32m━━━━━━━━━━━━━━━━━━━━\u001b[0m\u001b[37m\u001b[0m \u001b[1m62s\u001b[0m 21ms/step - accuracy: 0.6014 - loss: 0.6572 - precision: 0.6019 - recall: 0.6069 - val_accuracy: 0.6106 - val_loss: 0.6512 - val_precision: 0.5955 - val_recall: 0.6894\n",
      "Epoch 38/50\n",
      "\u001b[1m2916/2916\u001b[0m \u001b[32m━━━━━━━━━━━━━━━━━━━━\u001b[0m\u001b[37m\u001b[0m \u001b[1m63s\u001b[0m 22ms/step - accuracy: 0.6106 - loss: 0.6536 - precision: 0.6077 - recall: 0.6190 - val_accuracy: 0.6137 - val_loss: 0.6514 - val_precision: 0.5927 - val_recall: 0.7274\n",
      "Epoch 39/50\n",
      "\u001b[1m2916/2916\u001b[0m \u001b[32m━━━━━━━━━━━━━━━━━━━━\u001b[0m\u001b[37m\u001b[0m \u001b[1m62s\u001b[0m 21ms/step - accuracy: 0.6057 - loss: 0.6554 - precision: 0.6050 - recall: 0.6141 - val_accuracy: 0.6127 - val_loss: 0.6533 - val_precision: 0.5914 - val_recall: 0.7287\n",
      "Epoch 40/50\n",
      "\u001b[1m2916/2916\u001b[0m \u001b[32m━━━━━━━━━━━━━━━━━━━━\u001b[0m\u001b[37m\u001b[0m \u001b[1m61s\u001b[0m 21ms/step - accuracy: 0.6078 - loss: 0.6542 - precision: 0.6109 - recall: 0.6020 - val_accuracy: 0.6127 - val_loss: 0.6525 - val_precision: 0.6019 - val_recall: 0.6661\n",
      "Epoch 41/50\n",
      "\u001b[1m2916/2916\u001b[0m \u001b[32m━━━━━━━━━━━━━━━━━━━━\u001b[0m\u001b[37m\u001b[0m \u001b[1m62s\u001b[0m 21ms/step - accuracy: 0.6092 - loss: 0.6520 - precision: 0.6084 - recall: 0.6074 - val_accuracy: 0.6041 - val_loss: 0.6539 - val_precision: 0.5824 - val_recall: 0.7363\n",
      "Epoch 42/50\n",
      "\u001b[1m2916/2916\u001b[0m \u001b[32m━━━━━━━━━━━━━━━━━━━━\u001b[0m\u001b[37m\u001b[0m \u001b[1m63s\u001b[0m 21ms/step - accuracy: 0.6057 - loss: 0.6548 - precision: 0.6087 - recall: 0.5969 - val_accuracy: 0.6074 - val_loss: 0.6531 - val_precision: 0.6282 - val_recall: 0.5261\n",
      "Epoch 43/50\n",
      "\u001b[1m2916/2916\u001b[0m \u001b[32m━━━━━━━━━━━━━━━━━━━━\u001b[0m\u001b[37m\u001b[0m \u001b[1m63s\u001b[0m 22ms/step - accuracy: 0.6107 - loss: 0.6542 - precision: 0.6113 - recall: 0.5992 - val_accuracy: 0.6112 - val_loss: 0.6524 - val_precision: 0.6540 - val_recall: 0.4723\n"
     ]
    }
   ],
   "source": [
    "history = customResNet.fit(train_generator_rgb, \n",
    "                             callbacks=[EarlyStopping(monitor='val_loss', patience=10, restore_best_weights=True)],\n",
    "                             epochs=N_EPOCHS, \n",
    "                             validation_data=validation_generator_rgb,\n",
    "                             steps_per_epoch=train_generator.samples // BATCH_SIZE,\n",
    "                             validation_steps=validation_generator.samples // BATCH_SIZE,\n",
    "                        )"
   ]
  },
  {
   "cell_type": "code",
   "execution_count": 12,
   "metadata": {},
   "outputs": [
    {
     "data": {
      "text/plain": [
       "['accuracy',\n",
       " 'loss',\n",
       " 'precision',\n",
       " 'recall',\n",
       " 'val_accuracy',\n",
       " 'val_loss',\n",
       " 'val_precision',\n",
       " 'val_recall']"
      ]
     },
     "execution_count": 12,
     "metadata": {},
     "output_type": "execute_result"
    }
   ],
   "source": [
    "hist = history.history\n",
    "cols = list(history.history.keys())\n",
    "cols"
   ]
  },
  {
   "cell_type": "code",
   "execution_count": 13,
   "metadata": {},
   "outputs": [],
   "source": [
    "# n = int(cols[3][-1])\n",
    "\n",
    "# dict_ = { 'loss' : hist['loss'],\n",
    "#          'accuracy' : hist[f'accuracy'],\n",
    "#          'precision' : hist[f'precision_{n}'],\n",
    "#          'recall' : hist[f'recall_{n}'],\n",
    "#          'val_loss' : hist['val_loss'],\n",
    "#          'val_accuracy' : hist[f'val_accuracy'],\n",
    "#          'val_precision' : hist[f'val_precision_{n}'],\n",
    "#          'val_recall' : hist[f'val_recall_{n}']\n",
    "\n",
    "# }\n",
    "# hist = pd.DataFrame(dict_)"
   ]
  },
  {
   "cell_type": "markdown",
   "metadata": {},
   "source": [
    "### Evaluation"
   ]
  },
  {
   "cell_type": "code",
   "execution_count": 14,
   "metadata": {},
   "outputs": [],
   "source": [
    "fig_metrics = make_subplots(rows=2, cols=2, subplot_titles=(\"Loss\", f\"Precision\", \"Accuracy\", \"Recall\"), vertical_spacing=0.07)\n",
    "\n",
    "# Loss\n",
    "fig_metrics.add_trace( go.Scatter(x=list(range(len(hist['loss']))), y=hist['loss'], mode='lines+markers', name='Train Loss'), row=1, col=1 )\n",
    "fig_metrics.add_trace( go.Scatter(x=list(range(len(hist['val_loss']))), y=hist['val_loss'], mode='lines+markers', name='Val Loss'), row=1, col=1 )\n",
    "\n",
    "# Precision\n",
    "fig_metrics.add_trace(  go.Scatter(x=list(range(len(hist['precision']))), y=hist['precision'],  mode='lines+markers', name=f'Train precision'),  row=1, col=2 )\n",
    "fig_metrics.add_trace( go.Scatter(x=list(range(len(hist['val_precision']))), y=hist['val_precision'], mode='lines+markers', name=f'Val precision'), row=1, col=2)\n",
    "\n",
    "# Accuracy\n",
    "fig_metrics.add_trace(  go.Scatter(x=list(range(len(hist['accuracy']))), y=hist['accuracy'],  mode='lines+markers', name=f'Train accuracy'),  row=2, col=1 )\n",
    "fig_metrics.add_trace( go.Scatter(x=list(range(len(hist['val_accuracy']))), y=hist['val_accuracy'], mode='lines+markers', name=f'Val accuracy'), row=2, col=1)\n",
    "\n",
    "# Recall\n",
    "fig_metrics.add_trace(  go.Scatter(x=list(range(len(hist['recall']))), y=hist['recall'],  mode='lines+markers', name=f'Train recall'),  row=2, col=2 )\n",
    "fig_metrics.add_trace( go.Scatter(x=list(range(len(hist['val_recall']))), y=hist['val_recall'], mode='lines+markers', name=f'Val recall'), row=2, col=2)\n",
    "\n",
    "# fig.update_xaxes(title_text=\"Epochs\", row=1, col=1)\n",
    "fig_metrics.update_yaxes(title_text=\"Loss\", row=1, col=1)\n",
    "fig_metrics.update_yaxes(title_text=f\"Precision\", row=1, col=2)\n",
    "fig_metrics.update_yaxes(title_text=f\"Accuracy\", row=2, col=1)\n",
    "fig_metrics.update_yaxes(title_text=f\"Recall\", row=2, col=2)\n",
    "\n",
    "fig_metrics.update_layout(\n",
    "    # title_text=\"Training and validation metrics over epochs\",\n",
    "    showlegend=True,\n",
    "    margin=dict(l=10, r=10, b=10, t=30),\n",
    "    width=1400, height=800\n",
    ")\n",
    "\n",
    "for annotation in fig_metrics['layout']['annotations']:\n",
    "    annotation['y'] = annotation['y'] + 0.002"
   ]
  },
  {
   "cell_type": "code",
   "execution_count": 15,
   "metadata": {},
   "outputs": [
    {
     "name": "stdout",
     "output_type": "stream",
     "text": [
      "\u001b[1m833/833\u001b[0m \u001b[32m━━━━━━━━━━━━━━━━━━━━\u001b[0m\u001b[37m\u001b[0m \u001b[1m12s\u001b[0m 14ms/step - accuracy: 0.6555 - loss: 0.6140 - precision: 0.7283 - recall: 0.4914\n"
     ]
    }
   ],
   "source": [
    "# Evaluate the model on test data\n",
    "test_loss, test_acc, test_prec, test_recall = customResNet.evaluate(\n",
    "    test_generator_rgb,\n",
    "    steps=test_generator.samples // test_generator.batch_size\n",
    ")"
   ]
  },
  {
   "cell_type": "code",
   "execution_count": 16,
   "metadata": {},
   "outputs": [
    {
     "name": "stdout",
     "output_type": "stream",
     "text": [
      "\u001b[1m833/833\u001b[0m \u001b[32m━━━━━━━━━━━━━━━━━━━━\u001b[0m\u001b[37m\u001b[0m \u001b[1m21s\u001b[0m 21ms/step\n"
     ]
    }
   ],
   "source": [
    "from sklearn.metrics import confusion_matrix\n",
    "y_true = test_generator.classes\n",
    "y_pred = customResNet.predict(test_generator_rgb, steps=test_generator.samples // test_generator.batch_size)\n",
    "y_pred_classes = np.argmax(y_pred, axis=1)\n",
    "# y_pred_classes = (y_pred > 0.5).astype(int)\n",
    "y_true = y_true[:len(y_pred_classes)]"
   ]
  },
  {
   "cell_type": "code",
   "execution_count": 17,
   "metadata": {},
   "outputs": [
    {
     "data": {
      "text/plain": [
       "((19976,), (19976,), dict_keys(['FAKE', 'REAL']))"
      ]
     },
     "execution_count": 17,
     "metadata": {},
     "output_type": "execute_result"
    }
   ],
   "source": [
    "y_true.shape, y_pred_classes.shape, test_generator.class_indices.keys()"
   ]
  },
  {
   "cell_type": "code",
   "execution_count": 18,
   "metadata": {},
   "outputs": [
    {
     "name": "stdout",
     "output_type": "stream",
     "text": [
      "\n"
     ]
    }
   ],
   "source": [
    "# Generate the confusion matrix\n",
    "cm = confusion_matrix(y_true, y_pred_classes)\n",
    "\n",
    "class_labels = list(test_generator.class_indices.keys())\n",
    "\n",
    "# Plotly heatmap for confusion matrix\n",
    "fig_confMatrix = go.Figure(data=go.Heatmap(\n",
    "    z=cm,\n",
    "    x=['REAL', 'FAKE'] ,  # Predicted labels\n",
    "    y= ['FAKE', 'REAL'],  # True labels\n",
    "    hoverongaps=False,\n",
    "    colorscale='Blues',\n",
    "    showscale=True,\n",
    "    text=cm,\n",
    "    texttemplate=\"%{text}\",\n",
    "    textfont={\"size\":15}\n",
    "))\n",
    "\n",
    "# Update layout to add labels and title\n",
    "fig_confMatrix.update_layout(\n",
    "    title='Confusion Matrix',\n",
    "    xaxis_title='Predicted Label',\n",
    "    yaxis_title='True Label',\n",
    "    width=600,\n",
    "    height=500,\n",
    ")\n",
    "print()"
   ]
  },
  {
   "cell_type": "code",
   "execution_count": 19,
   "metadata": {},
   "outputs": [
    {
     "data": {
      "text/plain": [
       "array([0, 0, 0, ..., 1, 1, 1], dtype=int32)"
      ]
     },
     "execution_count": 19,
     "metadata": {},
     "output_type": "execute_result"
    }
   ],
   "source": [
    "test_generator.classes"
   ]
  },
  {
   "cell_type": "code",
   "execution_count": 20,
   "metadata": {},
   "outputs": [
    {
     "name": "stdout",
     "output_type": "stream",
     "text": [
      "\n"
     ]
    }
   ],
   "source": [
    "from sklearn.preprocessing import label_binarize\n",
    "from sklearn.metrics import roc_curve, auc\n",
    "\n",
    "\n",
    "# Compute ROC curve and ROC AUC\n",
    "fpr, tpr, _ = roc_curve(y_true, y_pred_classes)\n",
    "roc_auc = auc(fpr, tpr)\n",
    "\n",
    "# Plot the ROC curve using Plotly\n",
    "fig_rocauc = go.Figure()\n",
    "\n",
    "# Add the ROC curve\n",
    "fig_rocauc.add_trace(go.Scatter(\n",
    "    x=fpr, y=tpr,\n",
    "    mode='lines',\n",
    "    line=dict(color='blue', width=2),\n",
    "    name=f'ROC curve (AUC = {roc_auc:0.2f})'\n",
    "))\n",
    "\n",
    "# Add the diagonal line (random classifier)\n",
    "fig_rocauc.add_trace(go.Scatter(\n",
    "    x=[0, 1], y=[0, 1],\n",
    "    mode='lines',\n",
    "    line=dict(color='black', dash='dash'),\n",
    "    showlegend=False,\n",
    "    hoverinfo='skip'\n",
    "))\n",
    "\n",
    "# Update layout with axis titles and legend\n",
    "fig_rocauc.update_layout(\n",
    "    title='ROC AUC for Binary Classification',\n",
    "    xaxis_title='False Positive Rate',\n",
    "    yaxis_title='True Positive Rate',\n",
    "    width=700,\n",
    "    height=600,\n",
    "    legend=dict(x=0.6, y=0.1),\n",
    "    margin=dict(l=40, r=40, t=40, b=40),)\n",
    "print()"
   ]
  },
  {
   "cell_type": "code",
   "execution_count": 21,
   "metadata": {},
   "outputs": [],
   "source": [
    "# Classification report \n",
    "from sklearn.metrics import classification_report\n",
    "\n",
    "report = classification_report(y_true, y_pred_classes, target_names=class_labels, \n",
    "                               zero_division=False,\n",
    "                               labels = [0, 1])"
   ]
  },
  {
   "cell_type": "markdown",
   "metadata": {},
   "source": [
    "### Evaluation plots+"
   ]
  },
  {
   "cell_type": "code",
   "execution_count": 22,
   "metadata": {},
   "outputs": [],
   "source": [
    "# print(hist)\n",
    "# hist"
   ]
  },
  {
   "cell_type": "code",
   "execution_count": 23,
   "metadata": {},
   "outputs": [
    {
     "data": {
      "application/vnd.plotly.v1+json": {
       "config": {
        "plotlyServerURL": "https://plot.ly"
       },
       "data": [
        {
         "mode": "text",
         "showlegend": false,
         "text": [
          "x = Flatten()(VGG_model.output)<br>x = Dense(32, activation='relu')(x)<br>x = Dense(32, activation='relu')(x)<br>x = Dense(n_classes, activation='sigmoid')(x)"
         ],
         "type": "scatter",
         "x": [
          0.5
         ],
         "xaxis": "x",
         "y": [
          0.5
         ],
         "yaxis": "y"
        },
        {
         "mode": "text",
         "showlegend": false,
         "text": [
          "Test loss: 0.6144<br>Test accuracy: 0.6567<br>Test precision: 0.7296<br>Test recall: 0.4982<br><br>ROC-AUC: 0.5000<br><br>Classification report<br>              precision    recall  f1-score   support<br><br>        FAKE       0.50      1.00      0.67     10000<br>        REAL       0.00      0.00      0.00      9976<br><br>    accuracy                           0.50     19976<br>   macro avg       0.25      0.50      0.33     19976<br>weighted avg       0.25      0.50      0.33     19976<br>"
         ],
         "type": "scatter",
         "x": [
          0.5
         ],
         "xaxis": "x2",
         "y": [
          0.5
         ],
         "yaxis": "y2"
        },
        {
         "mode": "lines+markers",
         "name": "Train Loss",
         "type": "scatter",
         "x": [
          0,
          1,
          2,
          3,
          4,
          5,
          6,
          7,
          8,
          9,
          10,
          11,
          12,
          13,
          14,
          15,
          16,
          17,
          18,
          19,
          20,
          21,
          22,
          23,
          24,
          25,
          26,
          27,
          28,
          29,
          30,
          31,
          32,
          33,
          34,
          35,
          36,
          37,
          38,
          39,
          40,
          41,
          42
         ],
         "xaxis": "x3",
         "y": [
          0.6862137317657471,
          0.6762942671775818,
          0.6745026707649231,
          0.6728871464729309,
          0.6712024807929993,
          0.670129120349884,
          0.6699457764625549,
          0.6686246395111084,
          0.6653523445129395,
          0.6651802659034729,
          0.6639968752861023,
          0.6653155088424683,
          0.6653364300727844,
          0.6625330448150635,
          0.6626072525978088,
          0.6629717350006104,
          0.6628506183624268,
          0.6621967554092407,
          0.6615638136863708,
          0.6602824330329895,
          0.6612474918365479,
          0.660686194896698,
          0.661386251449585,
          0.6600197553634644,
          0.6587538719177246,
          0.6586530208587646,
          0.6590347290039062,
          0.6581560373306274,
          0.6581785082817078,
          0.6557187438011169,
          0.6579630374908447,
          0.6560838222503662,
          0.6561817526817322,
          0.6553002595901489,
          0.6562870144844055,
          0.6558107733726501,
          0.6558073163032532,
          0.6537113189697266,
          0.6546757221221924,
          0.6536568999290466,
          0.6538969874382019,
          0.6553657650947571,
          0.6535799503326416
         ],
         "yaxis": "y3"
        },
        {
         "mode": "lines+markers",
         "name": "Val Loss",
         "type": "scatter",
         "x": [
          0,
          1,
          2,
          3,
          4,
          5,
          6,
          7,
          8,
          9,
          10,
          11,
          12,
          13,
          14,
          15,
          16,
          17,
          18,
          19,
          20,
          21,
          22,
          23,
          24,
          25,
          26,
          27,
          28,
          29,
          30,
          31,
          32,
          33,
          34,
          35,
          36,
          37,
          38,
          39,
          40,
          41,
          42
         ],
         "xaxis": "x3",
         "y": [
          0.6809051036834717,
          0.6732121109962463,
          0.6710944771766663,
          0.6663965582847595,
          0.6658258438110352,
          0.6704567670822144,
          0.6647332310676575,
          0.6678192615509033,
          0.6618795394897461,
          0.6621177792549133,
          0.6606919169425964,
          0.6602734327316284,
          0.6585249900817871,
          0.6620619297027588,
          0.6614493727684021,
          0.6592956185340881,
          0.6626809239387512,
          0.6552501916885376,
          0.6559821367263794,
          0.6801783442497253,
          0.6705291867256165,
          0.6563461422920227,
          0.6556429862976074,
          0.6523555517196655,
          0.6543428897857666,
          0.6527215242385864,
          0.6782456636428833,
          0.6540926694869995,
          0.6553534865379333,
          0.6576207876205444,
          0.6508756279945374,
          0.6561868786811829,
          0.6500616073608398,
          0.6605455875396729,
          0.6594240665435791,
          0.6525259017944336,
          0.6512272357940674,
          0.6513878107070923,
          0.6532921195030212,
          0.6525153517723083,
          0.6538975834846497,
          0.6531115174293518,
          0.6523644924163818
         ],
         "yaxis": "y3"
        },
        {
         "mode": "lines+markers",
         "name": "Train precision",
         "type": "scatter",
         "x": [
          0,
          1,
          2,
          3,
          4,
          5,
          6,
          7,
          8,
          9,
          10,
          11,
          12,
          13,
          14,
          15,
          16,
          17,
          18,
          19,
          20,
          21,
          22,
          23,
          24,
          25,
          26,
          27,
          28,
          29,
          30,
          31,
          32,
          33,
          34,
          35,
          36,
          37,
          38,
          39,
          40,
          41,
          42
         ],
         "xaxis": "x4",
         "y": [
          0.5489170551300049,
          0.5585898160934448,
          0.5653727650642395,
          0.5692781805992126,
          0.5756005048751831,
          0.5784404277801514,
          0.5808589458465576,
          0.5812199711799622,
          0.5857111811637878,
          0.5872308611869812,
          0.590774655342102,
          0.5891751646995544,
          0.5860493183135986,
          0.5947087407112122,
          0.5947462916374207,
          0.595929741859436,
          0.5982421040534973,
          0.594343900680542,
          0.5979045629501343,
          0.5999547243118286,
          0.5976850390434265,
          0.5998597741127014,
          0.5976425409317017,
          0.6010898947715759,
          0.6019912362098694,
          0.6005668044090271,
          0.6009511947631836,
          0.600543737411499,
          0.6026473045349121,
          0.6095277070999146,
          0.6049023270606995,
          0.6044459342956543,
          0.6027900576591492,
          0.6067617535591125,
          0.6072044372558594,
          0.6061399579048157,
          0.6055155396461487,
          0.6085423231124878,
          0.6057434678077698,
          0.6105156540870667,
          0.609946608543396,
          0.6089863181114197,
          0.613365650177002
         ],
         "yaxis": "y4"
        },
        {
         "mode": "lines+markers",
         "name": "Val precision",
         "type": "scatter",
         "x": [
          0,
          1,
          2,
          3,
          4,
          5,
          6,
          7,
          8,
          9,
          10,
          11,
          12,
          13,
          14,
          15,
          16,
          17,
          18,
          19,
          20,
          21,
          22,
          23,
          24,
          25,
          26,
          27,
          28,
          29,
          30,
          31,
          32,
          33,
          34,
          35,
          36,
          37,
          38,
          39,
          40,
          41,
          42
         ],
         "xaxis": "x4",
         "y": [
          0.5356905460357666,
          0.5821478962898254,
          0.569767415523529,
          0.6056406497955322,
          0.5785866379737854,
          0.6080605387687683,
          0.5727404356002808,
          0.6074811220169067,
          0.5944828391075134,
          0.611527144908905,
          0.5930618047714233,
          0.5791544318199158,
          0.605331540107727,
          0.5709438323974609,
          0.6375372409820557,
          0.6323038935661316,
          0.5699533820152283,
          0.590050220489502,
          0.5917692184448242,
          0.552141010761261,
          0.6905800700187683,
          0.6137455701828003,
          0.6060703992843628,
          0.6100972294807434,
          0.5992914438247681,
          0.6043179035186768,
          0.6915512084960938,
          0.5999875068664551,
          0.5984286069869995,
          0.5842678546905518,
          0.6059790849685669,
          0.5830889940261841,
          0.6213846802711487,
          0.5641546845436096,
          0.5715333819389343,
          0.5948068499565125,
          0.5955082178115845,
          0.5926670432090759,
          0.5914403200149536,
          0.6018674969673157,
          0.5823665857315063,
          0.6282142996788025,
          0.6540201306343079
         ],
         "yaxis": "y4"
        },
        {
         "mode": "lines+markers",
         "name": "Train accuracy",
         "type": "scatter",
         "x": [
          0,
          1,
          2,
          3,
          4,
          5,
          6,
          7,
          8,
          9,
          10,
          11,
          12,
          13,
          14,
          15,
          16,
          17,
          18,
          19,
          20,
          21,
          22,
          23,
          24,
          25,
          26,
          27,
          28,
          29,
          30,
          31,
          32,
          33,
          34,
          35,
          36,
          37,
          38,
          39,
          40,
          41,
          42
         ],
         "xaxis": "x5",
         "y": [
          0.5529692769050598,
          0.5694666504859924,
          0.5753400921821594,
          0.5789556503295898,
          0.5821853280067444,
          0.5850005745887756,
          0.5858151316642761,
          0.5853435397148132,
          0.5902023315429688,
          0.5902023315429688,
          0.5912455916404724,
          0.5885875225067139,
          0.5888733267784119,
          0.5961615443229675,
          0.5955756306648254,
          0.595332682132721,
          0.5965188145637512,
          0.5958042740821838,
          0.5959329009056091,
          0.6007488369941711,
          0.5979764461517334,
          0.5980764627456665,
          0.5965331196784973,
          0.5996484756469727,
          0.5995627045631409,
          0.6011489629745483,
          0.6009488701820374,
          0.6005916595458984,
          0.6018920540809631,
          0.6061792373657227,
          0.6029353141784668,
          0.604764461517334,
          0.6030924916267395,
          0.6071653366088867,
          0.6062507033348083,
          0.6058077216148376,
          0.60602205991745,
          0.6098805069923401,
          0.6073225140571594,
          0.6090230941772461,
          0.6081085205078125,
          0.6064221858978271,
          0.6111524105072021
         ],
         "yaxis": "y5"
        },
        {
         "mode": "lines+markers",
         "name": "Val accuracy",
         "type": "scatter",
         "x": [
          0,
          1,
          2,
          3,
          4,
          5,
          6,
          7,
          8,
          9,
          10,
          11,
          12,
          13,
          14,
          15,
          16,
          17,
          18,
          19,
          20,
          21,
          22,
          23,
          24,
          25,
          26,
          27,
          28,
          29,
          30,
          31,
          32,
          33,
          34,
          35,
          36,
          37,
          38,
          39,
          40,
          41,
          42
         ],
         "xaxis": "x5",
         "y": [
          0.5572666525840759,
          0.5854666829109192,
          0.5843999981880188,
          0.586899995803833,
          0.5909666419029236,
          0.5818666815757751,
          0.5903000235557556,
          0.5892666578292847,
          0.5975000262260437,
          0.5982999801635742,
          0.5954999923706055,
          0.5952333211898804,
          0.6053666472434998,
          0.5920000076293945,
          0.6015666723251343,
          0.6031000018119812,
          0.5930333137512207,
          0.6064333319664001,
          0.5999000072479248,
          0.5790666937828064,
          0.5786333084106445,
          0.6089000105857849,
          0.6097333431243896,
          0.6101999878883362,
          0.6065000295639038,
          0.611133337020874,
          0.5571333169937134,
          0.6068000197410583,
          0.6068999767303467,
          0.6036999821662903,
          0.6155666708946228,
          0.6039000153541565,
          0.6172333359718323,
          0.5925666689872742,
          0.5975000262260437,
          0.6102666854858398,
          0.6105666756629944,
          0.6137333512306213,
          0.612666666507721,
          0.6127333045005798,
          0.6041333079338074,
          0.607366681098938,
          0.6112333536148071
         ],
         "yaxis": "y5"
        },
        {
         "mode": "lines+markers",
         "name": "Train recall",
         "type": "scatter",
         "x": [
          0,
          1,
          2,
          3,
          4,
          5,
          6,
          7,
          8,
          9,
          10,
          11,
          12,
          13,
          14,
          15,
          16,
          17,
          18,
          19,
          20,
          21,
          22,
          23,
          24,
          25,
          26,
          27,
          28,
          29,
          30,
          31,
          32,
          33,
          34,
          35,
          36,
          37,
          38,
          39,
          40,
          41,
          42
         ],
         "xaxis": "x6",
         "y": [
          0.5939580798149109,
          0.6628754138946533,
          0.6511548161506653,
          0.6494928002357483,
          0.6253715753555298,
          0.6265542507171631,
          0.6162069439888,
          0.6121696829795837,
          0.6160816550254822,
          0.6066038012504578,
          0.5937634110450745,
          0.5849816799163818,
          0.6049622893333435,
          0.6070164442062378,
          0.5972647666931152,
          0.5931544899940491,
          0.5875375270843506,
          0.602670431137085,
          0.5869210958480835,
          0.6055428385734558,
          0.5980610847473145,
          0.5872829556465149,
          0.5923333764076233,
          0.5926550626754761,
          0.587589681148529,
          0.60533607006073,
          0.5997827053070068,
          0.60001140832901,
          0.5974783301353455,
          0.5915195345878601,
          0.5938214659690857,
          0.6068121790885925,
          0.605029284954071,
          0.6080976724624634,
          0.6032675504684448,
          0.602568507194519,
          0.6096494793891907,
          0.6164199709892273,
          0.6139528155326843,
          0.6023321747779846,
          0.6003085970878601,
          0.595852255821228,
          0.6006690263748169
         ],
         "yaxis": "y6"
        },
        {
         "mode": "lines+markers",
         "name": "Val recall",
         "type": "scatter",
         "x": [
          0,
          1,
          2,
          3,
          4,
          5,
          6,
          7,
          8,
          9,
          10,
          11,
          12,
          13,
          14,
          15,
          16,
          17,
          18,
          19,
          20,
          21,
          22,
          23,
          24,
          25,
          26,
          27,
          28,
          29,
          30,
          31,
          32,
          33,
          34,
          35,
          36,
          37,
          38,
          39,
          40,
          41,
          42
         ],
         "xaxis": "x6",
         "y": [
          0.8595333099365234,
          0.6056666374206543,
          0.6892666816711426,
          0.498199999332428,
          0.6697333455085754,
          0.4606666564941406,
          0.7110000252723694,
          0.5045333504676819,
          0.6134666800498962,
          0.5389999747276306,
          0.6086000204086304,
          0.6967999935150146,
          0.6055333614349365,
          0.7404000163078308,
          0.4708000123500824,
          0.49273332953453064,
          0.7580000162124634,
          0.6973999738693237,
          0.6442000269889832,
          0.8372666835784912,
          0.28493332862854004,
          0.5875999927520752,
          0.6269999742507935,
          0.6106666922569275,
          0.642799973487854,
          0.6438000202178955,
          0.20626667141914368,
          0.6408666372299194,
          0.6499333381652832,
          0.718999981880188,
          0.6607999801635742,
          0.7291333079338074,
          0.6001333594322205,
          0.8140000104904175,
          0.7789999842643738,
          0.6917999982833862,
          0.6894000172615051,
          0.727400004863739,
          0.7287333607673645,
          0.6660666465759277,
          0.7362666726112366,
          0.5260666608810425,
          0.4723333418369293
         ],
         "yaxis": "y6"
        },
        {
         "colorscale": [
          [
           0,
           "rgb(247,251,255)"
          ],
          [
           0.125,
           "rgb(222,235,247)"
          ],
          [
           0.25,
           "rgb(198,219,239)"
          ],
          [
           0.375,
           "rgb(158,202,225)"
          ],
          [
           0.5,
           "rgb(107,174,214)"
          ],
          [
           0.625,
           "rgb(66,146,198)"
          ],
          [
           0.75,
           "rgb(33,113,181)"
          ],
          [
           0.875,
           "rgb(8,81,156)"
          ],
          [
           1,
           "rgb(8,48,107)"
          ]
         ],
         "hoverongaps": false,
         "showscale": true,
         "text": [
          [
           10000,
           0
          ],
          [
           9976,
           0
          ]
         ],
         "textfont": {
          "size": 15
         },
         "texttemplate": "%{text}",
         "type": "heatmap",
         "x": [
          "REAL",
          "FAKE"
         ],
         "xaxis": "x7",
         "y": [
          "FAKE",
          "REAL"
         ],
         "yaxis": "y7",
         "z": [
          [
           10000,
           0
          ],
          [
           9976,
           0
          ]
         ]
        },
        {
         "line": {
          "color": "blue",
          "width": 2
         },
         "mode": "lines",
         "name": "ROC curve (AUC = 0.50)",
         "type": "scatter",
         "x": [
          0,
          1
         ],
         "xaxis": "x8",
         "y": [
          0,
          1
         ],
         "yaxis": "y8"
        },
        {
         "hoverinfo": "skip",
         "line": {
          "color": "black",
          "dash": "dash"
         },
         "mode": "lines",
         "showlegend": false,
         "type": "scatter",
         "x": [
          0,
          1
         ],
         "xaxis": "x8",
         "y": [
          0,
          1
         ],
         "yaxis": "y8"
        }
       ],
       "layout": {
        "annotations": [
         {
          "font": {
           "size": 16
          },
          "showarrow": false,
          "text": "Loss",
          "x": 0.2375,
          "xanchor": "center",
          "xref": "paper",
          "y": 0.7375,
          "yanchor": "bottom",
          "yref": "paper"
         },
         {
          "font": {
           "size": 16
          },
          "showarrow": false,
          "text": "Precision",
          "x": 0.7625,
          "xanchor": "center",
          "xref": "paper",
          "y": 0.7375,
          "yanchor": "bottom",
          "yref": "paper"
         },
         {
          "font": {
           "size": 16
          },
          "showarrow": false,
          "text": "Accuracy",
          "x": 0.2375,
          "xanchor": "center",
          "xref": "paper",
          "y": 0.475,
          "yanchor": "bottom",
          "yref": "paper"
         },
         {
          "font": {
           "size": 16
          },
          "showarrow": false,
          "text": "Recall",
          "x": 0.7625,
          "xanchor": "center",
          "xref": "paper",
          "y": 0.475,
          "yanchor": "bottom",
          "yref": "paper"
         },
         {
          "font": {
           "size": 16
          },
          "showarrow": false,
          "text": "Confusion Matrix",
          "x": 0.2375,
          "xanchor": "center",
          "xref": "paper",
          "y": 0.2125,
          "yanchor": "bottom",
          "yref": "paper"
         },
         {
          "font": {
           "size": 16
          },
          "showarrow": false,
          "text": "ROC-AUC curve",
          "x": 0.7625,
          "xanchor": "center",
          "xref": "paper",
          "y": 0.2125,
          "yanchor": "bottom",
          "yref": "paper"
         }
        ],
        "height": 1600,
        "margin": {
         "b": 10,
         "l": 10,
         "r": 10,
         "t": 50
        },
        "showlegend": false,
        "template": {
         "data": {
          "bar": [
           {
            "error_x": {
             "color": "#2a3f5f"
            },
            "error_y": {
             "color": "#2a3f5f"
            },
            "marker": {
             "line": {
              "color": "#E5ECF6",
              "width": 0.5
             },
             "pattern": {
              "fillmode": "overlay",
              "size": 10,
              "solidity": 0.2
             }
            },
            "type": "bar"
           }
          ],
          "barpolar": [
           {
            "marker": {
             "line": {
              "color": "#E5ECF6",
              "width": 0.5
             },
             "pattern": {
              "fillmode": "overlay",
              "size": 10,
              "solidity": 0.2
             }
            },
            "type": "barpolar"
           }
          ],
          "carpet": [
           {
            "aaxis": {
             "endlinecolor": "#2a3f5f",
             "gridcolor": "white",
             "linecolor": "white",
             "minorgridcolor": "white",
             "startlinecolor": "#2a3f5f"
            },
            "baxis": {
             "endlinecolor": "#2a3f5f",
             "gridcolor": "white",
             "linecolor": "white",
             "minorgridcolor": "white",
             "startlinecolor": "#2a3f5f"
            },
            "type": "carpet"
           }
          ],
          "choropleth": [
           {
            "colorbar": {
             "outlinewidth": 0,
             "ticks": ""
            },
            "type": "choropleth"
           }
          ],
          "contour": [
           {
            "colorbar": {
             "outlinewidth": 0,
             "ticks": ""
            },
            "colorscale": [
             [
              0,
              "#0d0887"
             ],
             [
              0.1111111111111111,
              "#46039f"
             ],
             [
              0.2222222222222222,
              "#7201a8"
             ],
             [
              0.3333333333333333,
              "#9c179e"
             ],
             [
              0.4444444444444444,
              "#bd3786"
             ],
             [
              0.5555555555555556,
              "#d8576b"
             ],
             [
              0.6666666666666666,
              "#ed7953"
             ],
             [
              0.7777777777777778,
              "#fb9f3a"
             ],
             [
              0.8888888888888888,
              "#fdca26"
             ],
             [
              1,
              "#f0f921"
             ]
            ],
            "type": "contour"
           }
          ],
          "contourcarpet": [
           {
            "colorbar": {
             "outlinewidth": 0,
             "ticks": ""
            },
            "type": "contourcarpet"
           }
          ],
          "heatmap": [
           {
            "colorbar": {
             "outlinewidth": 0,
             "ticks": ""
            },
            "colorscale": [
             [
              0,
              "#0d0887"
             ],
             [
              0.1111111111111111,
              "#46039f"
             ],
             [
              0.2222222222222222,
              "#7201a8"
             ],
             [
              0.3333333333333333,
              "#9c179e"
             ],
             [
              0.4444444444444444,
              "#bd3786"
             ],
             [
              0.5555555555555556,
              "#d8576b"
             ],
             [
              0.6666666666666666,
              "#ed7953"
             ],
             [
              0.7777777777777778,
              "#fb9f3a"
             ],
             [
              0.8888888888888888,
              "#fdca26"
             ],
             [
              1,
              "#f0f921"
             ]
            ],
            "type": "heatmap"
           }
          ],
          "heatmapgl": [
           {
            "colorbar": {
             "outlinewidth": 0,
             "ticks": ""
            },
            "colorscale": [
             [
              0,
              "#0d0887"
             ],
             [
              0.1111111111111111,
              "#46039f"
             ],
             [
              0.2222222222222222,
              "#7201a8"
             ],
             [
              0.3333333333333333,
              "#9c179e"
             ],
             [
              0.4444444444444444,
              "#bd3786"
             ],
             [
              0.5555555555555556,
              "#d8576b"
             ],
             [
              0.6666666666666666,
              "#ed7953"
             ],
             [
              0.7777777777777778,
              "#fb9f3a"
             ],
             [
              0.8888888888888888,
              "#fdca26"
             ],
             [
              1,
              "#f0f921"
             ]
            ],
            "type": "heatmapgl"
           }
          ],
          "histogram": [
           {
            "marker": {
             "pattern": {
              "fillmode": "overlay",
              "size": 10,
              "solidity": 0.2
             }
            },
            "type": "histogram"
           }
          ],
          "histogram2d": [
           {
            "colorbar": {
             "outlinewidth": 0,
             "ticks": ""
            },
            "colorscale": [
             [
              0,
              "#0d0887"
             ],
             [
              0.1111111111111111,
              "#46039f"
             ],
             [
              0.2222222222222222,
              "#7201a8"
             ],
             [
              0.3333333333333333,
              "#9c179e"
             ],
             [
              0.4444444444444444,
              "#bd3786"
             ],
             [
              0.5555555555555556,
              "#d8576b"
             ],
             [
              0.6666666666666666,
              "#ed7953"
             ],
             [
              0.7777777777777778,
              "#fb9f3a"
             ],
             [
              0.8888888888888888,
              "#fdca26"
             ],
             [
              1,
              "#f0f921"
             ]
            ],
            "type": "histogram2d"
           }
          ],
          "histogram2dcontour": [
           {
            "colorbar": {
             "outlinewidth": 0,
             "ticks": ""
            },
            "colorscale": [
             [
              0,
              "#0d0887"
             ],
             [
              0.1111111111111111,
              "#46039f"
             ],
             [
              0.2222222222222222,
              "#7201a8"
             ],
             [
              0.3333333333333333,
              "#9c179e"
             ],
             [
              0.4444444444444444,
              "#bd3786"
             ],
             [
              0.5555555555555556,
              "#d8576b"
             ],
             [
              0.6666666666666666,
              "#ed7953"
             ],
             [
              0.7777777777777778,
              "#fb9f3a"
             ],
             [
              0.8888888888888888,
              "#fdca26"
             ],
             [
              1,
              "#f0f921"
             ]
            ],
            "type": "histogram2dcontour"
           }
          ],
          "mesh3d": [
           {
            "colorbar": {
             "outlinewidth": 0,
             "ticks": ""
            },
            "type": "mesh3d"
           }
          ],
          "parcoords": [
           {
            "line": {
             "colorbar": {
              "outlinewidth": 0,
              "ticks": ""
             }
            },
            "type": "parcoords"
           }
          ],
          "pie": [
           {
            "automargin": true,
            "type": "pie"
           }
          ],
          "scatter": [
           {
            "fillpattern": {
             "fillmode": "overlay",
             "size": 10,
             "solidity": 0.2
            },
            "type": "scatter"
           }
          ],
          "scatter3d": [
           {
            "line": {
             "colorbar": {
              "outlinewidth": 0,
              "ticks": ""
             }
            },
            "marker": {
             "colorbar": {
              "outlinewidth": 0,
              "ticks": ""
             }
            },
            "type": "scatter3d"
           }
          ],
          "scattercarpet": [
           {
            "marker": {
             "colorbar": {
              "outlinewidth": 0,
              "ticks": ""
             }
            },
            "type": "scattercarpet"
           }
          ],
          "scattergeo": [
           {
            "marker": {
             "colorbar": {
              "outlinewidth": 0,
              "ticks": ""
             }
            },
            "type": "scattergeo"
           }
          ],
          "scattergl": [
           {
            "marker": {
             "colorbar": {
              "outlinewidth": 0,
              "ticks": ""
             }
            },
            "type": "scattergl"
           }
          ],
          "scattermapbox": [
           {
            "marker": {
             "colorbar": {
              "outlinewidth": 0,
              "ticks": ""
             }
            },
            "type": "scattermapbox"
           }
          ],
          "scatterpolar": [
           {
            "marker": {
             "colorbar": {
              "outlinewidth": 0,
              "ticks": ""
             }
            },
            "type": "scatterpolar"
           }
          ],
          "scatterpolargl": [
           {
            "marker": {
             "colorbar": {
              "outlinewidth": 0,
              "ticks": ""
             }
            },
            "type": "scatterpolargl"
           }
          ],
          "scatterternary": [
           {
            "marker": {
             "colorbar": {
              "outlinewidth": 0,
              "ticks": ""
             }
            },
            "type": "scatterternary"
           }
          ],
          "surface": [
           {
            "colorbar": {
             "outlinewidth": 0,
             "ticks": ""
            },
            "colorscale": [
             [
              0,
              "#0d0887"
             ],
             [
              0.1111111111111111,
              "#46039f"
             ],
             [
              0.2222222222222222,
              "#7201a8"
             ],
             [
              0.3333333333333333,
              "#9c179e"
             ],
             [
              0.4444444444444444,
              "#bd3786"
             ],
             [
              0.5555555555555556,
              "#d8576b"
             ],
             [
              0.6666666666666666,
              "#ed7953"
             ],
             [
              0.7777777777777778,
              "#fb9f3a"
             ],
             [
              0.8888888888888888,
              "#fdca26"
             ],
             [
              1,
              "#f0f921"
             ]
            ],
            "type": "surface"
           }
          ],
          "table": [
           {
            "cells": {
             "fill": {
              "color": "#EBF0F8"
             },
             "line": {
              "color": "white"
             }
            },
            "header": {
             "fill": {
              "color": "#C8D4E3"
             },
             "line": {
              "color": "white"
             }
            },
            "type": "table"
           }
          ]
         },
         "layout": {
          "annotationdefaults": {
           "arrowcolor": "#2a3f5f",
           "arrowhead": 0,
           "arrowwidth": 1
          },
          "autotypenumbers": "strict",
          "coloraxis": {
           "colorbar": {
            "outlinewidth": 0,
            "ticks": ""
           }
          },
          "colorscale": {
           "diverging": [
            [
             0,
             "#8e0152"
            ],
            [
             0.1,
             "#c51b7d"
            ],
            [
             0.2,
             "#de77ae"
            ],
            [
             0.3,
             "#f1b6da"
            ],
            [
             0.4,
             "#fde0ef"
            ],
            [
             0.5,
             "#f7f7f7"
            ],
            [
             0.6,
             "#e6f5d0"
            ],
            [
             0.7,
             "#b8e186"
            ],
            [
             0.8,
             "#7fbc41"
            ],
            [
             0.9,
             "#4d9221"
            ],
            [
             1,
             "#276419"
            ]
           ],
           "sequential": [
            [
             0,
             "#0d0887"
            ],
            [
             0.1111111111111111,
             "#46039f"
            ],
            [
             0.2222222222222222,
             "#7201a8"
            ],
            [
             0.3333333333333333,
             "#9c179e"
            ],
            [
             0.4444444444444444,
             "#bd3786"
            ],
            [
             0.5555555555555556,
             "#d8576b"
            ],
            [
             0.6666666666666666,
             "#ed7953"
            ],
            [
             0.7777777777777778,
             "#fb9f3a"
            ],
            [
             0.8888888888888888,
             "#fdca26"
            ],
            [
             1,
             "#f0f921"
            ]
           ],
           "sequentialminus": [
            [
             0,
             "#0d0887"
            ],
            [
             0.1111111111111111,
             "#46039f"
            ],
            [
             0.2222222222222222,
             "#7201a8"
            ],
            [
             0.3333333333333333,
             "#9c179e"
            ],
            [
             0.4444444444444444,
             "#bd3786"
            ],
            [
             0.5555555555555556,
             "#d8576b"
            ],
            [
             0.6666666666666666,
             "#ed7953"
            ],
            [
             0.7777777777777778,
             "#fb9f3a"
            ],
            [
             0.8888888888888888,
             "#fdca26"
            ],
            [
             1,
             "#f0f921"
            ]
           ]
          },
          "colorway": [
           "#636efa",
           "#EF553B",
           "#00cc96",
           "#ab63fa",
           "#FFA15A",
           "#19d3f3",
           "#FF6692",
           "#B6E880",
           "#FF97FF",
           "#FECB52"
          ],
          "font": {
           "color": "#2a3f5f"
          },
          "geo": {
           "bgcolor": "white",
           "lakecolor": "white",
           "landcolor": "#E5ECF6",
           "showlakes": true,
           "showland": true,
           "subunitcolor": "white"
          },
          "hoverlabel": {
           "align": "left"
          },
          "hovermode": "closest",
          "mapbox": {
           "style": "light"
          },
          "paper_bgcolor": "white",
          "plot_bgcolor": "#E5ECF6",
          "polar": {
           "angularaxis": {
            "gridcolor": "white",
            "linecolor": "white",
            "ticks": ""
           },
           "bgcolor": "#E5ECF6",
           "radialaxis": {
            "gridcolor": "white",
            "linecolor": "white",
            "ticks": ""
           }
          },
          "scene": {
           "xaxis": {
            "backgroundcolor": "#E5ECF6",
            "gridcolor": "white",
            "gridwidth": 2,
            "linecolor": "white",
            "showbackground": true,
            "ticks": "",
            "zerolinecolor": "white"
           },
           "yaxis": {
            "backgroundcolor": "#E5ECF6",
            "gridcolor": "white",
            "gridwidth": 2,
            "linecolor": "white",
            "showbackground": true,
            "ticks": "",
            "zerolinecolor": "white"
           },
           "zaxis": {
            "backgroundcolor": "#E5ECF6",
            "gridcolor": "white",
            "gridwidth": 2,
            "linecolor": "white",
            "showbackground": true,
            "ticks": "",
            "zerolinecolor": "white"
           }
          },
          "shapedefaults": {
           "line": {
            "color": "#2a3f5f"
           }
          },
          "ternary": {
           "aaxis": {
            "gridcolor": "white",
            "linecolor": "white",
            "ticks": ""
           },
           "baxis": {
            "gridcolor": "white",
            "linecolor": "white",
            "ticks": ""
           },
           "bgcolor": "#E5ECF6",
           "caxis": {
            "gridcolor": "white",
            "linecolor": "white",
            "ticks": ""
           }
          },
          "title": {
           "x": 0.05
          },
          "xaxis": {
           "automargin": true,
           "gridcolor": "white",
           "linecolor": "white",
           "ticks": "",
           "title": {
            "standoff": 15
           },
           "zerolinecolor": "white",
           "zerolinewidth": 2
          },
          "yaxis": {
           "automargin": true,
           "gridcolor": "white",
           "linecolor": "white",
           "ticks": "",
           "title": {
            "standoff": 15
           },
           "zerolinecolor": "white",
           "zerolinewidth": 2
          }
         }
        },
        "title": {
         "text": "--- resnet101 ---"
        },
        "width": 1400,
        "xaxis": {
         "anchor": "y",
         "domain": [
          0,
          0.475
         ],
         "visible": false
        },
        "xaxis2": {
         "anchor": "y2",
         "domain": [
          0.525,
          1
         ]
        },
        "xaxis3": {
         "anchor": "y3",
         "domain": [
          0,
          0.475
         ]
        },
        "xaxis4": {
         "anchor": "y4",
         "domain": [
          0.525,
          1
         ]
        },
        "xaxis5": {
         "anchor": "y5",
         "domain": [
          0,
          0.475
         ]
        },
        "xaxis6": {
         "anchor": "y6",
         "domain": [
          0.525,
          1
         ]
        },
        "xaxis7": {
         "anchor": "y7",
         "domain": [
          0,
          0.475
         ]
        },
        "xaxis8": {
         "anchor": "y8",
         "domain": [
          0.525,
          1
         ]
        },
        "yaxis": {
         "anchor": "x",
         "domain": [
          0.7875,
          1
         ],
         "visible": false
        },
        "yaxis2": {
         "anchor": "x2",
         "domain": [
          0.7875,
          1
         ]
        },
        "yaxis3": {
         "anchor": "x3",
         "domain": [
          0.525,
          0.7375
         ]
        },
        "yaxis4": {
         "anchor": "x4",
         "domain": [
          0.525,
          0.7375
         ]
        },
        "yaxis5": {
         "anchor": "x5",
         "domain": [
          0.2625,
          0.475
         ]
        },
        "yaxis6": {
         "anchor": "x6",
         "domain": [
          0.2625,
          0.475
         ]
        },
        "yaxis7": {
         "anchor": "x7",
         "domain": [
          0,
          0.2125
         ]
        },
        "yaxis8": {
         "anchor": "x8",
         "domain": [
          0,
          0.2125
         ]
        }
       }
      }
     },
     "metadata": {},
     "output_type": "display_data"
    }
   ],
   "source": [
    "fig = make_subplots(\n",
    "    rows=4, cols=2, \n",
    "    subplot_titles=(\"\", \"\",\n",
    "                    \"Loss\", \"Precision\", \n",
    "                    \"Accuracy\", 'Recall',\n",
    "                    'Confusion Matrix', 'ROC-AUC curve'), \n",
    "    horizontal_spacing=0.05, \n",
    "    vertical_spacing=0.05  \n",
    ")\n",
    "\n",
    "fig.add_trace(\n",
    "    go.Scatter(\n",
    "        x=[0.5], y=[0.5], \n",
    "        text=[\n",
    "            f\"\"\"x = Flatten()(VGG_model.output)<br>x = Dense(32, activation='relu')(x)<br>x = Dense(32, activation='relu')(x)<br>x = Dense(n_classes, activation='sigmoid')(x)\"\"\"       \n",
    "        ],\n",
    "        mode='text',\n",
    "        showlegend=False,\n",
    "    ),\n",
    "    row=1, col=1  \n",
    ")\n",
    "\n",
    "fig.add_trace(\n",
    "    go.Scatter(\n",
    "        x=[0.5], y=[0.5], \n",
    "        text=[\n",
    "            f\"Test loss: {test_loss:.4f}<br>\"\n",
    "            f\"Test accuracy: {test_acc:.4f}<br>\"\n",
    "            f\"Test precision: {test_prec:.4f}<br>\"\n",
    "            f\"Test recall: {test_recall:.4f}<br><br>\"\n",
    "            f\"ROC-AUC: {roc_auc:.4f}<br><br>\"\n",
    "            f\"Classification report<br>\"\n",
    "            f\"{report.replace('\\n','<br>')}\"\n",
    "        ],\n",
    "        mode='text',\n",
    "        showlegend=False,\n",
    "    ),\n",
    "    row=1, col=2  \n",
    ")\n",
    "\n",
    "\n",
    "# fig.update_layout(\n",
    "#     annotations=[dict(text=\"Model Metrics\", x=0.25, y=1.05, showarrow=False, xref=\"paper\", yref=\"paper\", font=dict(size=16))], \n",
    "# )\n",
    "\n",
    "# Hide the axes for the annotation row\n",
    "fig.update_xaxes(visible=False, row=1, col=1)\n",
    "fig.update_yaxes(visible=False, row=1, col=1)\n",
    "\n",
    "\n",
    "# Loss and Precision\n",
    "fig.add_trace(fig_metrics['data'][0], row=2, col=1)\n",
    "fig.add_trace(fig_metrics['data'][1], row=2, col=1)\n",
    "fig.add_trace(fig_metrics['data'][2], row=2, col=2)\n",
    "fig.add_trace(fig_metrics['data'][3], row=2, col=2)\n",
    "\n",
    "# Accuracy and Recall \n",
    "fig.add_trace(fig_metrics['data'][4], row=3, col=1)\n",
    "fig.add_trace(fig_metrics['data'][5], row=3, col=1)\n",
    "fig.add_trace(fig_metrics['data'][6], row=3, col=2)\n",
    "fig.add_trace(fig_metrics['data'][7], row=3, col=2)\n",
    "\n",
    "# Confusion Matrix and ROC-AUC curve \n",
    "fig.add_trace(fig_confMatrix['data'][0], row=4, col=1)\n",
    "fig.add_trace(fig_rocauc['data'][0], row=4, col=2)\n",
    "fig.add_trace(fig_rocauc['data'][1], row=4, col=2)\n",
    "\n",
    "fig.update_layout(\n",
    "    height=400*4, \n",
    "    width=1400, \n",
    "    title_text=f\"--- {MODEL.name} ---\",\n",
    "    showlegend=False, \n",
    "    margin=dict(l=10, r=10, t=50, b=10),  \n",
    ")\n",
    "\n",
    "fig.show()"
   ]
  },
  {
   "cell_type": "markdown",
   "metadata": {},
   "source": [
    "### Class activation map"
   ]
  },
  {
   "cell_type": "code",
   "execution_count": null,
   "metadata": {},
   "outputs": [],
   "source": []
  }
 ],
 "metadata": {
  "kernelspec": {
   "display_name": ".venv",
   "language": "python",
   "name": "python3"
  },
  "language_info": {
   "codemirror_mode": {
    "name": "ipython",
    "version": 3
   },
   "file_extension": ".py",
   "mimetype": "text/x-python",
   "name": "python",
   "nbconvert_exporter": "python",
   "pygments_lexer": "ipython3",
   "version": "3.12.3"
  }
 },
 "nbformat": 4,
 "nbformat_minor": 2
}
