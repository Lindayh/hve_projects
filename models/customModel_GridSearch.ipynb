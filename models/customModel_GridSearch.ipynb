{
 "cells": [
  {
   "cell_type": "code",
   "execution_count": 1,
   "metadata": {},
   "outputs": [],
   "source": [
    "# ! pip install pandas numpy scikit-learn plotly matplotlib\n",
    "# ! pip install nbformat\n",
    "# ! pip install --upgrade nbformat\n",
    "# ! pip install tensorflow[and-cuda]"
   ]
  },
  {
   "cell_type": "code",
   "execution_count": 2,
   "metadata": {},
   "outputs": [],
   "source": [
    "# ! pip install pandas numpy scikit-learn plotly matplotlib\n",
    "# ! pip install nbformat\n",
    "# ! pip install --upgrade nbformat\n",
    "# ! pip install tensorflow[and-cuda]"
   ]
  },
  {
   "cell_type": "code",
   "execution_count": 3,
   "metadata": {},
   "outputs": [
    {
     "name": "stderr",
     "output_type": "stream",
     "text": [
      "2024-11-06 15:42:59.069221: E external/local_xla/xla/stream_executor/cuda/cuda_fft.cc:485] Unable to register cuFFT factory: Attempting to register factory for plugin cuFFT when one has already been registered\n",
      "2024-11-06 15:42:59.081059: E external/local_xla/xla/stream_executor/cuda/cuda_dnn.cc:8454] Unable to register cuDNN factory: Attempting to register factory for plugin cuDNN when one has already been registered\n",
      "2024-11-06 15:42:59.084480: E external/local_xla/xla/stream_executor/cuda/cuda_blas.cc:1452] Unable to register cuBLAS factory: Attempting to register factory for plugin cuBLAS when one has already been registered\n",
      "2024-11-06 15:42:59.104376: I tensorflow/core/platform/cpu_feature_guard.cc:210] This TensorFlow binary is optimized to use available CPU instructions in performance-critical operations.\n",
      "To enable the following instructions: AVX2 FMA, in other operations, rebuild TensorFlow with the appropriate compiler flags.\n",
      "2024-11-06 15:43:00.496882: W tensorflow/compiler/tf2tensorrt/utils/py_utils.cc:38] TF-TRT Warning: Could not find TensorRT\n"
     ]
    }
   ],
   "source": [
    "import pandas as pd\n",
    "import numpy as np\n",
    "import tensorflow as tf\n",
    "from datetime import datetime as dt\n",
    "import glob\n",
    "from PIL import Image\n",
    "\n",
    "from sklearn import datasets\n",
    "from sklearn.model_selection import train_test_split\n",
    "from sklearn.preprocessing import StandardScaler\n",
    "from sklearn.metrics import confusion_matrix\n",
    "\n",
    "from tensorflow.keras.layers import Dense, Input, Dropout, Rescaling, Conv2D, MaxPooling2D, Flatten\n",
    "from tensorflow.keras.models import Sequential\n",
    "from tensorflow.keras.optimizers import SGD, Adam\n",
    "from tensorflow.keras.losses import BinaryCrossentropy\n",
    "from tensorflow.keras.metrics import Precision, Recall\n",
    "\n",
    "from sklearn.model_selection import GridSearchCV\n",
    "import matplotlib.pyplot as plt\n",
    "from plotly.subplots import make_subplots\n",
    "import plotly.graph_objects as go\n",
    "import plotly.express as px\n",
    "\n",
    "import warnings \n",
    "warnings.filterwarnings('ignore')"
   ]
  },
  {
   "cell_type": "code",
   "execution_count": 4,
   "metadata": {},
   "outputs": [
    {
     "name": "stdout",
     "output_type": "stream",
     "text": [
      "Num GPUs Available:  1\n"
     ]
    },
    {
     "name": "stderr",
     "output_type": "stream",
     "text": [
      "WARNING: All log messages before absl::InitializeLog() is called are written to STDERR\n",
      "I0000 00:00:1730904182.767887   14012 cuda_executor.cc:1015] successful NUMA node read from SysFS had negative value (-1), but there must be at least one NUMA node, so returning NUMA node zero. See more at https://github.com/torvalds/linux/blob/v6.0/Documentation/ABI/testing/sysfs-bus-pci#L344-L355\n",
      "I0000 00:00:1730904183.184076   14012 cuda_executor.cc:1015] successful NUMA node read from SysFS had negative value (-1), but there must be at least one NUMA node, so returning NUMA node zero. See more at https://github.com/torvalds/linux/blob/v6.0/Documentation/ABI/testing/sysfs-bus-pci#L344-L355\n",
      "I0000 00:00:1730904183.184368   14012 cuda_executor.cc:1015] successful NUMA node read from SysFS had negative value (-1), but there must be at least one NUMA node, so returning NUMA node zero. See more at https://github.com/torvalds/linux/blob/v6.0/Documentation/ABI/testing/sysfs-bus-pci#L344-L355\n"
     ]
    }
   ],
   "source": [
    "# Check if GPUs are available for training \n",
    "print(\"Num GPUs Available: \", len(tf.config.list_physical_devices('GPU')))"
   ]
  },
  {
   "cell_type": "code",
   "execution_count": 5,
   "metadata": {},
   "outputs": [],
   "source": [
    "BATCH_SIZE=32"
   ]
  },
  {
   "cell_type": "markdown",
   "metadata": {},
   "source": [
    "#### Train/test sets"
   ]
  },
  {
   "cell_type": "code",
   "execution_count": 6,
   "metadata": {},
   "outputs": [],
   "source": [
    "# X_train, y_train\n",
    "train_imgs = glob.glob(f'../CIFAKE/train/*/*')\n",
    "X_train = []\n",
    "y_train = []\n",
    "\n",
    "for path, img_path in enumerate(train_imgs):\n",
    "    class_ = img_path.split('/')[-2]\n",
    "\n",
    "    # FAKE : 0 -  REAL : 1\n",
    "    if class_=='FAKE': img_class = 0\n",
    "    if class_=='REAL': img_class = 1\n",
    "\n",
    "    # X_train to tensor\n",
    "    img_pil = Image.open(img_path)\n",
    "    img_np = np.asarray(img_pil)\n",
    "\n",
    "    X_train.append(img_np)\n",
    "    y_train.append(img_class)\n",
    "\n",
    "X_train = np.asarray(X_train, dtype='uint8')\n",
    "y_train = np.asarray(y_train)\n",
    "\n",
    "# X_test, y_test\n",
    "test_imgs = glob.glob(f'../CIFAKE/test/*/*')\n",
    "\n",
    "X_test = []\n",
    "y_test = []\n",
    "\n",
    "for path, img_path in enumerate(test_imgs):\n",
    "    class_ = img_path.split('/')[-2]\n",
    "\n",
    "    # FAKE : 0 -  REAL : 1\n",
    "    if class_=='FAKE': img_class = 0\n",
    "    if class_=='REAL': img_class = 1\n",
    "\n",
    "    # X_test to tensor\n",
    "    img_pil = Image.open(img_path)\n",
    "    img_np = np.asarray(img_pil)\n",
    "\n",
    "    X_test.append(img_np)\n",
    "    y_test.append(img_class)\n",
    "    \n",
    "X_test = np.asarray(X_train, dtype='uint8')\n",
    "y_test = np.asarray(y_train)"
   ]
  },
  {
   "cell_type": "code",
   "execution_count": 7,
   "metadata": {},
   "outputs": [
    {
     "name": "stdout",
     "output_type": "stream",
     "text": [
      "X_train shape: (100000, 32, 32, 3) | y_train shape: (100000,)\n",
      "X_test shape: (100000, 32, 32, 3) | y_test shape: (100000,)\n"
     ]
    }
   ],
   "source": [
    "print(f'X_train shape: {X_train.shape} | y_train shape: {y_train.shape}')\n",
    "print(f'X_test shape: {X_test.shape} | y_test shape: {y_test.shape}')"
   ]
  },
  {
   "cell_type": "markdown",
   "metadata": {},
   "source": [
    "#### Class balance"
   ]
  },
  {
   "cell_type": "code",
   "execution_count": 8,
   "metadata": {},
   "outputs": [
    {
     "name": "stdout",
     "output_type": "stream",
     "text": [
      "Class distribution: \n",
      "Train REAL images: 50000\n",
      "Train FAKE images: 50000\n",
      "Test REAL images: 10000\n",
      "Test FAKE images: 10000\n"
     ]
    }
   ],
   "source": [
    "import glob\n",
    "print('Class distribution: ')\n",
    "print( f'Train REAL images: {len(glob.glob('../CIFAKE/train/REAL/*'))}'  )\n",
    "print( f'Train FAKE images: {len(glob.glob('../CIFAKE/train/FAKE/*'))}'  )\n",
    "\n",
    "print( f'Test REAL images: {len(glob.glob('../CIFAKE/test/REAL/*'))}'  )\n",
    "print( f'Test FAKE images: {len(glob.glob('../CIFAKE/test/FAKE/*'))}'  )"
   ]
  },
  {
   "cell_type": "code",
   "execution_count": 9,
   "metadata": {},
   "outputs": [],
   "source": [
    "# Show random image"
   ]
  },
  {
   "cell_type": "markdown",
   "metadata": {},
   "source": [
    "#### Image scaling"
   ]
  },
  {
   "cell_type": "code",
   "execution_count": 10,
   "metadata": {},
   "outputs": [],
   "source": [
    "# Image normalisation  1/255"
   ]
  },
  {
   "cell_type": "markdown",
   "metadata": {},
   "source": [
    "#### Build model"
   ]
  },
  {
   "cell_type": "code",
   "execution_count": 11,
   "metadata": {},
   "outputs": [],
   "source": [
    "# Build model\n",
    "def CNN_model01(n_neurons_layer01=128, n_neurons_layer02=128, activation='relu', dropout_rate=.2):\n",
    "    model = Sequential([\n",
    "        Rescaling(1./255),\n",
    "\n",
    "        Conv2D(n_neurons_layer01, 3, activation=activation),\n",
    "        MaxPooling2D(),\n",
    "\n",
    "        Conv2D(n_neurons_layer02, 3, activation=activation),\n",
    "        MaxPooling2D(),\n",
    "\n",
    "        Flatten(),\n",
    "        Dense(24, activation=activation),\n",
    "        Dropout(dropout_rate),\n",
    "        Dense(1, activation='sigmoid')\n",
    "    ])\n",
    "\n",
    "    model.compile( optimizer=Adam(), \n",
    "                  loss=BinaryCrossentropy(),\n",
    "                  metrics = ['accuracy', Precision(), Recall()],                \n",
    "                  )\n",
    "\n",
    "    model.build(input_shape=(None, 32, 32, 3))\n",
    "    return model"
   ]
  },
  {
   "cell_type": "markdown",
   "metadata": {},
   "source": [
    "#### Train model"
   ]
  },
  {
   "cell_type": "code",
   "execution_count": 12,
   "metadata": {},
   "outputs": [],
   "source": [
    "N_EPOCHS = 30"
   ]
  },
  {
   "cell_type": "code",
   "execution_count": 13,
   "metadata": {},
   "outputs": [],
   "source": [
    "from sklearn.model_selection import GridSearchCV\n",
    "from scikeras.wrappers import KerasClassifier\n",
    "from datetime import datetime as dt\n",
    "\n",
    "\n",
    "def train(model):\n",
    "  time_start = dt.now()\n",
    "  print(f'Start training, time: {time_start.time()}')\n",
    "\n",
    "  history = model.fit(\n",
    "    X_train, y_train,\n",
    "    validation_data=(X_test, y_test),\n",
    "    epochs=N_EPOCHS,\n",
    "    verbose=1\n",
    "  )\n",
    "\n",
    "  print(f'Time elapsed: {dt.now() - time_start}')\n",
    "\n",
    "  return history\n",
    "\n",
    "# Train with GRID search\n",
    "def train_gridSearch(model):\n",
    "\n",
    "  keras_classifier = KerasClassifier(model=model)\n",
    "\n",
    "  param_grid = dict(\n",
    "      epochs=[5],\n",
    "      batch_size= [64],  #[32, 64],\n",
    "      model__n_neurons_layer01 = [192], #np.arange(64,513,64),\n",
    "      model__n_neurons_layer02 = [192], # np.arange(64,513,64),\n",
    "      model__dropout_rate = [0.2] # np.arange(.2, .51, .1),\n",
    "      # model__activation = ['relu', 'tanh'],\n",
    "  )\n",
    "\n",
    "  grid = GridSearchCV(estimator=keras_classifier, param_grid=param_grid,\n",
    "                      # cv=3,\n",
    "                       scoring='accuracy')\n",
    "\n",
    "  start_t = dt.now()\n",
    "  print(f'GridSearch start time: {start_t.hour}:{start_t.minute:02}:{start_t.second:02}')\n",
    "  grid_result = grid.fit(X_train, y_train, validation_data=(X_test, y_test))\n",
    "\n",
    "  print(f'GridSearch complete. Time elapsed: {dt.now()-start_t}')\n",
    "\n",
    "  # Best results \n",
    "  print(f'Best parameters: {grid_result.best_params_}')\n",
    "  print(f'Best result (R2): {grid_result.best_score_}')\n",
    "\n",
    "  history = grid_result.best_estimator_.history_\n",
    "\n",
    "  return [history, grid_result.best_estimator_]"
   ]
  },
  {
   "cell_type": "code",
   "execution_count": 14,
   "metadata": {},
   "outputs": [
    {
     "name": "stdout",
     "output_type": "stream",
     "text": [
      "GridSearch start time: 15:43:35\n"
     ]
    },
    {
     "name": "stderr",
     "output_type": "stream",
     "text": [
      "I0000 00:00:1730904215.657186   14012 cuda_executor.cc:1015] successful NUMA node read from SysFS had negative value (-1), but there must be at least one NUMA node, so returning NUMA node zero. See more at https://github.com/torvalds/linux/blob/v6.0/Documentation/ABI/testing/sysfs-bus-pci#L344-L355\n",
      "I0000 00:00:1730904215.657428   14012 cuda_executor.cc:1015] successful NUMA node read from SysFS had negative value (-1), but there must be at least one NUMA node, so returning NUMA node zero. See more at https://github.com/torvalds/linux/blob/v6.0/Documentation/ABI/testing/sysfs-bus-pci#L344-L355\n",
      "I0000 00:00:1730904215.657590   14012 cuda_executor.cc:1015] successful NUMA node read from SysFS had negative value (-1), but there must be at least one NUMA node, so returning NUMA node zero. See more at https://github.com/torvalds/linux/blob/v6.0/Documentation/ABI/testing/sysfs-bus-pci#L344-L355\n",
      "I0000 00:00:1730904215.717214   14012 cuda_executor.cc:1015] successful NUMA node read from SysFS had negative value (-1), but there must be at least one NUMA node, so returning NUMA node zero. See more at https://github.com/torvalds/linux/blob/v6.0/Documentation/ABI/testing/sysfs-bus-pci#L344-L355\n",
      "I0000 00:00:1730904215.717410   14012 cuda_executor.cc:1015] successful NUMA node read from SysFS had negative value (-1), but there must be at least one NUMA node, so returning NUMA node zero. See more at https://github.com/torvalds/linux/blob/v6.0/Documentation/ABI/testing/sysfs-bus-pci#L344-L355\n",
      "I0000 00:00:1730904215.717569   14012 cuda_executor.cc:1015] successful NUMA node read from SysFS had negative value (-1), but there must be at least one NUMA node, so returning NUMA node zero. See more at https://github.com/torvalds/linux/blob/v6.0/Documentation/ABI/testing/sysfs-bus-pci#L344-L355\n",
      "2024-11-06 15:43:35.717688: I tensorflow/core/common_runtime/gpu/gpu_device.cc:2021] Created device /job:localhost/replica:0/task:0/device:GPU:0 with 4179 MB memory:  -> device: 0, name: NVIDIA GeForce GTX 1060 6GB, pci bus id: 0000:06:00.0, compute capability: 6.1\n"
     ]
    },
    {
     "name": "stdout",
     "output_type": "stream",
     "text": [
      "Epoch 1/5\n"
     ]
    },
    {
     "name": "stderr",
     "output_type": "stream",
     "text": [
      "WARNING: All log messages before absl::InitializeLog() is called are written to STDERR\n",
      "I0000 00:00:1730904217.518439   14084 service.cc:146] XLA service 0x70d238002e90 initialized for platform CUDA (this does not guarantee that XLA will be used). Devices:\n",
      "I0000 00:00:1730904217.518458   14084 service.cc:154]   StreamExecutor device (0): NVIDIA GeForce GTX 1060 6GB, Compute Capability 6.1\n",
      "2024-11-06 15:43:37.543222: I tensorflow/compiler/mlir/tensorflow/utils/dump_mlir_util.cc:268] disabling MLIR crash reproducer, set env var `MLIR_CRASH_REPRODUCER_DIRECTORY` to enable.\n",
      "2024-11-06 15:43:37.698811: I external/local_xla/xla/stream_executor/cuda/cuda_dnn.cc:531] Loaded cuDNN version 8907\n"
     ]
    },
    {
     "name": "stdout",
     "output_type": "stream",
     "text": [
      "\u001b[1m  18/1250\u001b[0m \u001b[37m━━━━━━━━━━━━━━━━━━━━\u001b[0m \u001b[1m10s\u001b[0m 8ms/step - accuracy: 0.5370 - loss: 0.6950 - precision: 0.5347 - recall: 0.5260"
     ]
    },
    {
     "name": "stderr",
     "output_type": "stream",
     "text": [
      "2024-11-06 15:43:39.375325: I external/local_xla/xla/stream_executor/cuda/cuda_asm_compiler.cc:393] ptxas warning : Registers are spilled to local memory in function 'loop_add_subtract_fusion_4', 4 bytes spill stores, 12 bytes spill loads\n",
      "\n",
      "I0000 00:00:1730904219.382513   14084 device_compiler.h:188] Compiled cluster using XLA!  This line is logged at most once for the lifetime of the process.\n"
     ]
    },
    {
     "name": "stdout",
     "output_type": "stream",
     "text": [
      "\u001b[1m1250/1250\u001b[0m \u001b[32m━━━━━━━━━━━━━━━━━━━━\u001b[0m\u001b[37m\u001b[0m \u001b[1m17s\u001b[0m 12ms/step - accuracy: 0.7665 - loss: 0.4739 - precision: 0.7606 - recall: 0.7713 - val_accuracy: 0.8842 - val_loss: 0.2817 - val_precision: 0.8845 - val_recall: 0.8838\n",
      "Epoch 2/5\n",
      "\u001b[1m1250/1250\u001b[0m \u001b[32m━━━━━━━━━━━━━━━━━━━━\u001b[0m\u001b[37m\u001b[0m \u001b[1m14s\u001b[0m 11ms/step - accuracy: 0.8770 - loss: 0.2991 - precision: 0.8769 - recall: 0.8781 - val_accuracy: 0.9104 - val_loss: 0.2221 - val_precision: 0.8887 - val_recall: 0.9385\n",
      "Epoch 3/5\n",
      "\u001b[1m1250/1250\u001b[0m \u001b[32m━━━━━━━━━━━━━━━━━━━━\u001b[0m\u001b[37m\u001b[0m \u001b[1m13s\u001b[0m 11ms/step - accuracy: 0.9017 - loss: 0.2473 - precision: 0.9038 - recall: 0.8991 - val_accuracy: 0.9220 - val_loss: 0.1989 - val_precision: 0.9202 - val_recall: 0.9242\n",
      "Epoch 4/5\n",
      "\u001b[1m1250/1250\u001b[0m \u001b[32m━━━━━━━━━━━━━━━━━━━━\u001b[0m\u001b[37m\u001b[0m \u001b[1m14s\u001b[0m 11ms/step - accuracy: 0.9142 - loss: 0.2202 - precision: 0.9169 - recall: 0.9086 - val_accuracy: 0.9201 - val_loss: 0.1966 - val_precision: 0.9594 - val_recall: 0.8774\n",
      "Epoch 5/5\n",
      "\u001b[1m1250/1250\u001b[0m \u001b[32m━━━━━━━━━━━━━━━━━━━━\u001b[0m\u001b[37m\u001b[0m \u001b[1m13s\u001b[0m 10ms/step - accuracy: 0.9236 - loss: 0.1978 - precision: 0.9270 - recall: 0.9199 - val_accuracy: 0.9356 - val_loss: 0.1646 - val_precision: 0.9252 - val_recall: 0.9479\n",
      "\u001b[1m313/313\u001b[0m \u001b[32m━━━━━━━━━━━━━━━━━━━━\u001b[0m\u001b[37m\u001b[0m \u001b[1m1s\u001b[0m 2ms/step\n",
      "Epoch 1/5\n",
      "\u001b[1m1250/1250\u001b[0m \u001b[32m━━━━━━━━━━━━━━━━━━━━\u001b[0m\u001b[37m\u001b[0m \u001b[1m16s\u001b[0m 11ms/step - accuracy: 0.7683 - loss: 0.4693 - precision_2: 0.7598 - recall_2: 0.7790 - val_accuracy: 0.8778 - val_loss: 0.3058 - val_precision_2: 0.9007 - val_recall_2: 0.8493\n",
      "Epoch 2/5\n",
      "\u001b[1m1250/1250\u001b[0m \u001b[32m━━━━━━━━━━━━━━━━━━━━\u001b[0m\u001b[37m\u001b[0m \u001b[1m13s\u001b[0m 10ms/step - accuracy: 0.8812 - loss: 0.2905 - precision_2: 0.8786 - recall_2: 0.8844 - val_accuracy: 0.9165 - val_loss: 0.2114 - val_precision_2: 0.9119 - val_recall_2: 0.9221\n",
      "Epoch 3/5\n",
      "\u001b[1m1250/1250\u001b[0m \u001b[32m━━━━━━━━━━━━━━━━━━━━\u001b[0m\u001b[37m\u001b[0m \u001b[1m14s\u001b[0m 11ms/step - accuracy: 0.9084 - loss: 0.2298 - precision_2: 0.9091 - recall_2: 0.9075 - val_accuracy: 0.9330 - val_loss: 0.1725 - val_precision_2: 0.9365 - val_recall_2: 0.9289\n",
      "Epoch 4/5\n",
      "\u001b[1m1250/1250\u001b[0m \u001b[32m━━━━━━━━━━━━━━━━━━━━\u001b[0m\u001b[37m\u001b[0m \u001b[1m14s\u001b[0m 11ms/step - accuracy: 0.9209 - loss: 0.2049 - precision_2: 0.9216 - recall_2: 0.9193 - val_accuracy: 0.9273 - val_loss: 0.1785 - val_precision_2: 0.8946 - val_recall_2: 0.9688\n",
      "Epoch 5/5\n",
      "\u001b[1m1250/1250\u001b[0m \u001b[32m━━━━━━━━━━━━━━━━━━━━\u001b[0m\u001b[37m\u001b[0m \u001b[1m13s\u001b[0m 10ms/step - accuracy: 0.9283 - loss: 0.1848 - precision_2: 0.9289 - recall_2: 0.9286 - val_accuracy: 0.9136 - val_loss: 0.2191 - val_precision_2: 0.8670 - val_recall_2: 0.9771\n",
      "\u001b[1m313/313\u001b[0m \u001b[32m━━━━━━━━━━━━━━━━━━━━\u001b[0m\u001b[37m\u001b[0m \u001b[1m1s\u001b[0m 2ms/step\n",
      "Epoch 1/5\n",
      "\u001b[1m1250/1250\u001b[0m \u001b[32m━━━━━━━━━━━━━━━━━━━━\u001b[0m\u001b[37m\u001b[0m \u001b[1m16s\u001b[0m 11ms/step - accuracy: 0.7429 - loss: 0.5101 - precision_3: 0.7447 - recall_3: 0.7304 - val_accuracy: 0.8773 - val_loss: 0.2990 - val_precision_3: 0.8603 - val_recall_3: 0.9009\n",
      "Epoch 2/5\n",
      "\u001b[1m1250/1250\u001b[0m \u001b[32m━━━━━━━━━━━━━━━━━━━━\u001b[0m\u001b[37m\u001b[0m \u001b[1m13s\u001b[0m 10ms/step - accuracy: 0.8728 - loss: 0.3123 - precision_3: 0.8666 - recall_3: 0.8827 - val_accuracy: 0.8931 - val_loss: 0.2730 - val_precision_3: 0.9283 - val_recall_3: 0.8520\n",
      "Epoch 3/5\n",
      "\u001b[1m1250/1250\u001b[0m \u001b[32m━━━━━━━━━━━━━━━━━━━━\u001b[0m\u001b[37m\u001b[0m \u001b[1m13s\u001b[0m 10ms/step - accuracy: 0.8955 - loss: 0.2593 - precision_3: 0.8931 - recall_3: 0.8990 - val_accuracy: 0.9208 - val_loss: 0.1981 - val_precision_3: 0.9298 - val_recall_3: 0.9102\n",
      "Epoch 4/5\n",
      "\u001b[1m1250/1250\u001b[0m \u001b[32m━━━━━━━━━━━━━━━━━━━━\u001b[0m\u001b[37m\u001b[0m \u001b[1m13s\u001b[0m 10ms/step - accuracy: 0.9102 - loss: 0.2296 - precision_3: 0.9080 - recall_3: 0.9140 - val_accuracy: 0.9261 - val_loss: 0.1913 - val_precision_3: 0.9100 - val_recall_3: 0.9457\n",
      "Epoch 5/5\n",
      "\u001b[1m1250/1250\u001b[0m \u001b[32m━━━━━━━━━━━━━━━━━━━━\u001b[0m\u001b[37m\u001b[0m \u001b[1m13s\u001b[0m 10ms/step - accuracy: 0.9183 - loss: 0.2100 - precision_3: 0.9149 - recall_3: 0.9230 - val_accuracy: 0.9335 - val_loss: 0.1721 - val_precision_3: 0.9300 - val_recall_3: 0.9377\n",
      "\u001b[1m313/313\u001b[0m \u001b[32m━━━━━━━━━━━━━━━━━━━━\u001b[0m\u001b[37m\u001b[0m \u001b[1m1s\u001b[0m 2ms/step\n",
      "Epoch 1/5\n",
      "\u001b[1m1250/1250\u001b[0m \u001b[32m━━━━━━━━━━━━━━━━━━━━\u001b[0m\u001b[37m\u001b[0m \u001b[1m16s\u001b[0m 12ms/step - accuracy: 0.7551 - loss: 0.4918 - precision_4: 0.7499 - recall_4: 0.7513 - val_accuracy: 0.8772 - val_loss: 0.3047 - val_precision_4: 0.8388 - val_recall_4: 0.9340\n",
      "Epoch 2/5\n",
      "\u001b[1m1250/1250\u001b[0m \u001b[32m━━━━━━━━━━━━━━━━━━━━\u001b[0m\u001b[37m\u001b[0m \u001b[1m16s\u001b[0m 13ms/step - accuracy: 0.8760 - loss: 0.3040 - precision_4: 0.8760 - recall_4: 0.8753 - val_accuracy: 0.9075 - val_loss: 0.2299 - val_precision_4: 0.9100 - val_recall_4: 0.9046\n",
      "Epoch 3/5\n",
      "\u001b[1m1250/1250\u001b[0m \u001b[32m━━━━━━━━━━━━━━━━━━━━\u001b[0m\u001b[37m\u001b[0m \u001b[1m14s\u001b[0m 11ms/step - accuracy: 0.8983 - loss: 0.2580 - precision_4: 0.8966 - recall_4: 0.9006 - val_accuracy: 0.9050 - val_loss: 0.2354 - val_precision_4: 0.9432 - val_recall_4: 0.8619\n",
      "Epoch 4/5\n",
      "\u001b[1m1250/1250\u001b[0m \u001b[32m━━━━━━━━━━━━━━━━━━━━\u001b[0m\u001b[37m\u001b[0m \u001b[1m13s\u001b[0m 10ms/step - accuracy: 0.9112 - loss: 0.2264 - precision_4: 0.9090 - recall_4: 0.9140 - val_accuracy: 0.9163 - val_loss: 0.2071 - val_precision_4: 0.8966 - val_recall_4: 0.9411\n",
      "Epoch 5/5\n",
      "\u001b[1m1250/1250\u001b[0m \u001b[32m━━━━━━━━━━━━━━━━━━━━\u001b[0m\u001b[37m\u001b[0m \u001b[1m13s\u001b[0m 10ms/step - accuracy: 0.9202 - loss: 0.2078 - precision_4: 0.9182 - recall_4: 0.9236 - val_accuracy: 0.9226 - val_loss: 0.1888 - val_precision_4: 0.8909 - val_recall_4: 0.9632\n",
      "\u001b[1m313/313\u001b[0m \u001b[32m━━━━━━━━━━━━━━━━━━━━\u001b[0m\u001b[37m\u001b[0m \u001b[1m1s\u001b[0m 2ms/step\n",
      "Epoch 1/5\n",
      "\u001b[1m1250/1250\u001b[0m \u001b[32m━━━━━━━━━━━━━━━━━━━━\u001b[0m\u001b[37m\u001b[0m \u001b[1m19s\u001b[0m 14ms/step - accuracy: 0.7632 - loss: 0.4751 - precision_5: 0.7581 - recall_5: 0.7689 - val_accuracy: 0.8712 - val_loss: 0.3022 - val_precision_5: 0.8775 - val_recall_5: 0.8628\n",
      "Epoch 2/5\n",
      "\u001b[1m1250/1250\u001b[0m \u001b[32m━━━━━━━━━━━━━━━━━━━━\u001b[0m\u001b[37m\u001b[0m \u001b[1m16s\u001b[0m 12ms/step - accuracy: 0.8824 - loss: 0.2883 - precision_5: 0.8844 - recall_5: 0.8807 - val_accuracy: 0.9061 - val_loss: 0.2341 - val_precision_5: 0.9436 - val_recall_5: 0.8640\n",
      "Epoch 3/5\n",
      "\u001b[1m1250/1250\u001b[0m \u001b[32m━━━━━━━━━━━━━━━━━━━━\u001b[0m\u001b[37m\u001b[0m \u001b[1m15s\u001b[0m 12ms/step - accuracy: 0.9026 - loss: 0.2395 - precision_5: 0.9040 - recall_5: 0.9002 - val_accuracy: 0.9232 - val_loss: 0.1952 - val_precision_5: 0.9439 - val_recall_5: 0.8998\n",
      "Epoch 4/5\n",
      "\u001b[1m1250/1250\u001b[0m \u001b[32m━━━━━━━━━━━━━━━━━━━━\u001b[0m\u001b[37m\u001b[0m \u001b[1m15s\u001b[0m 12ms/step - accuracy: 0.9165 - loss: 0.2126 - precision_5: 0.9163 - recall_5: 0.9169 - val_accuracy: 0.9202 - val_loss: 0.2005 - val_precision_5: 0.8858 - val_recall_5: 0.9647\n",
      "Epoch 5/5\n",
      "\u001b[1m1250/1250\u001b[0m \u001b[32m━━━━━━━━━━━━━━━━━━━━\u001b[0m\u001b[37m\u001b[0m \u001b[1m16s\u001b[0m 12ms/step - accuracy: 0.9225 - loss: 0.1988 - precision_5: 0.9228 - recall_5: 0.9220 - val_accuracy: 0.9340 - val_loss: 0.1703 - val_precision_5: 0.9175 - val_recall_5: 0.9536\n",
      "\u001b[1m313/313\u001b[0m \u001b[32m━━━━━━━━━━━━━━━━━━━━\u001b[0m\u001b[37m\u001b[0m \u001b[1m1s\u001b[0m 2ms/step\n",
      "Epoch 1/5\n",
      "\u001b[1m1250/1250\u001b[0m \u001b[32m━━━━━━━━━━━━━━━━━━━━\u001b[0m\u001b[37m\u001b[0m \u001b[1m23s\u001b[0m 16ms/step - accuracy: 0.7733 - loss: 0.4655 - precision_6: 0.7677 - recall_6: 0.7794 - val_accuracy: 0.8115 - val_loss: 0.3955 - val_precision_6: 0.9640 - val_recall_6: 0.6471\n",
      "Epoch 2/5\n",
      "\u001b[1m1250/1250\u001b[0m \u001b[32m━━━━━━━━━━━━━━━━━━━━\u001b[0m\u001b[37m\u001b[0m \u001b[1m18s\u001b[0m 15ms/step - accuracy: 0.8797 - loss: 0.2927 - precision_6: 0.8777 - recall_6: 0.8831 - val_accuracy: 0.9132 - val_loss: 0.2124 - val_precision_6: 0.9121 - val_recall_6: 0.9145\n",
      "Epoch 3/5\n",
      "\u001b[1m1250/1250\u001b[0m \u001b[32m━━━━━━━━━━━━━━━━━━━━\u001b[0m\u001b[37m\u001b[0m \u001b[1m19s\u001b[0m 15ms/step - accuracy: 0.9053 - loss: 0.2367 - precision_6: 0.9071 - recall_6: 0.9014 - val_accuracy: 0.9200 - val_loss: 0.2080 - val_precision_6: 0.8971 - val_recall_6: 0.9488\n",
      "Epoch 4/5\n",
      "\u001b[1m1250/1250\u001b[0m \u001b[32m━━━━━━━━━━━━━━━━━━━━\u001b[0m\u001b[37m\u001b[0m \u001b[1m19s\u001b[0m 15ms/step - accuracy: 0.9175 - loss: 0.2076 - precision_6: 0.9209 - recall_6: 0.9130 - val_accuracy: 0.9327 - val_loss: 0.1733 - val_precision_6: 0.9194 - val_recall_6: 0.9484\n",
      "Epoch 5/5\n",
      "\u001b[1m1250/1250\u001b[0m \u001b[32m━━━━━━━━━━━━━━━━━━━━\u001b[0m\u001b[37m\u001b[0m \u001b[1m19s\u001b[0m 15ms/step - accuracy: 0.9295 - loss: 0.1832 - precision_6: 0.9300 - recall_6: 0.9291 - val_accuracy: 0.9393 - val_loss: 0.1546 - val_precision_6: 0.9221 - val_recall_6: 0.9597\n",
      "\u001b[1m313/313\u001b[0m \u001b[32m━━━━━━━━━━━━━━━━━━━━\u001b[0m\u001b[37m\u001b[0m \u001b[1m1s\u001b[0m 3ms/step\n",
      "Epoch 1/5\n",
      "\u001b[1m1250/1250\u001b[0m \u001b[32m━━━━━━━━━━━━━━━━━━━━\u001b[0m\u001b[37m\u001b[0m \u001b[1m22s\u001b[0m 16ms/step - accuracy: 0.7793 - loss: 0.4560 - precision_7: 0.7707 - recall_7: 0.7951 - val_accuracy: 0.8745 - val_loss: 0.2963 - val_precision_7: 0.9393 - val_recall_7: 0.8008\n",
      "Epoch 2/5\n",
      "\u001b[1m1250/1250\u001b[0m \u001b[32m━━━━━━━━━━━━━━━━━━━━\u001b[0m\u001b[37m\u001b[0m \u001b[1m19s\u001b[0m 15ms/step - accuracy: 0.8896 - loss: 0.2699 - precision_7: 0.8861 - recall_7: 0.8937 - val_accuracy: 0.8673 - val_loss: 0.3214 - val_precision_7: 0.9749 - val_recall_7: 0.7540\n",
      "Epoch 3/5\n",
      "\u001b[1m1250/1250\u001b[0m \u001b[32m━━━━━━━━━━━━━━━━━━━━\u001b[0m\u001b[37m\u001b[0m \u001b[1m18s\u001b[0m 15ms/step - accuracy: 0.9090 - loss: 0.2292 - precision_7: 0.9091 - recall_7: 0.9090 - val_accuracy: 0.9282 - val_loss: 0.1814 - val_precision_7: 0.9498 - val_recall_7: 0.9041\n",
      "Epoch 4/5\n",
      "\u001b[1m1250/1250\u001b[0m \u001b[32m━━━━━━━━━━━━━━━━━━━━\u001b[0m\u001b[37m\u001b[0m \u001b[1m18s\u001b[0m 15ms/step - accuracy: 0.9261 - loss: 0.1905 - precision_7: 0.9249 - recall_7: 0.9281 - val_accuracy: 0.9353 - val_loss: 0.1602 - val_precision_7: 0.9362 - val_recall_7: 0.9342\n",
      "Epoch 5/5\n",
      "\u001b[1m1250/1250\u001b[0m \u001b[32m━━━━━━━━━━━━━━━━━━━━\u001b[0m\u001b[37m\u001b[0m \u001b[1m18s\u001b[0m 15ms/step - accuracy: 0.9328 - loss: 0.1758 - precision_7: 0.9298 - recall_7: 0.9361 - val_accuracy: 0.9431 - val_loss: 0.1483 - val_precision_7: 0.9319 - val_recall_7: 0.9559\n",
      "\u001b[1m313/313\u001b[0m \u001b[32m━━━━━━━━━━━━━━━━━━━━\u001b[0m\u001b[37m\u001b[0m \u001b[1m1s\u001b[0m 3ms/step\n",
      "Epoch 1/5\n",
      "\u001b[1m1250/1250\u001b[0m \u001b[32m━━━━━━━━━━━━━━━━━━━━\u001b[0m\u001b[37m\u001b[0m \u001b[1m21s\u001b[0m 16ms/step - accuracy: 0.7694 - loss: 0.4715 - precision_8: 0.7705 - recall_8: 0.7619 - val_accuracy: 0.8828 - val_loss: 0.2824 - val_precision_8: 0.9094 - val_recall_8: 0.8504\n",
      "Epoch 2/5\n",
      "\u001b[1m1250/1250\u001b[0m \u001b[32m━━━━━━━━━━━━━━━━━━━━\u001b[0m\u001b[37m\u001b[0m \u001b[1m18s\u001b[0m 15ms/step - accuracy: 0.8820 - loss: 0.2917 - precision_8: 0.8854 - recall_8: 0.8761 - val_accuracy: 0.8854 - val_loss: 0.2836 - val_precision_8: 0.8297 - val_recall_8: 0.9698\n",
      "Epoch 3/5\n",
      "\u001b[1m1250/1250\u001b[0m \u001b[32m━━━━━━━━━━━━━━━━━━━━\u001b[0m\u001b[37m\u001b[0m \u001b[1m18s\u001b[0m 15ms/step - accuracy: 0.9034 - loss: 0.2447 - precision_8: 0.9036 - recall_8: 0.9040 - val_accuracy: 0.9150 - val_loss: 0.2116 - val_precision_8: 0.9514 - val_recall_8: 0.8746\n",
      "Epoch 4/5\n",
      "\u001b[1m1250/1250\u001b[0m \u001b[32m━━━━━━━━━━━━━━━━━━━━\u001b[0m\u001b[37m\u001b[0m \u001b[1m19s\u001b[0m 15ms/step - accuracy: 0.9163 - loss: 0.2162 - precision_8: 0.9148 - recall_8: 0.9179 - val_accuracy: 0.9314 - val_loss: 0.1795 - val_precision_8: 0.9073 - val_recall_8: 0.9609\n",
      "Epoch 5/5\n",
      "\u001b[1m1250/1250\u001b[0m \u001b[32m━━━━━━━━━━━━━━━━━━━━\u001b[0m\u001b[37m\u001b[0m \u001b[1m17s\u001b[0m 14ms/step - accuracy: 0.9260 - loss: 0.1951 - precision_8: 0.9247 - recall_8: 0.9269 - val_accuracy: 0.9326 - val_loss: 0.1712 - val_precision_8: 0.9600 - val_recall_8: 0.9028\n",
      "\u001b[1m313/313\u001b[0m \u001b[32m━━━━━━━━━━━━━━━━━━━━\u001b[0m\u001b[37m\u001b[0m \u001b[1m1s\u001b[0m 3ms/step\n",
      "Epoch 1/5\n",
      "\u001b[1m1250/1250\u001b[0m \u001b[32m━━━━━━━━━━━━━━━━━━━━\u001b[0m\u001b[37m\u001b[0m \u001b[1m21s\u001b[0m 15ms/step - accuracy: 0.7576 - loss: 0.4946 - precision_9: 0.7575 - recall_9: 0.7554 - val_accuracy: 0.8882 - val_loss: 0.2735 - val_precision_9: 0.8582 - val_recall_9: 0.9301\n",
      "Epoch 2/5\n",
      "\u001b[1m1250/1250\u001b[0m \u001b[32m━━━━━━━━━━━━━━━━━━━━\u001b[0m\u001b[37m\u001b[0m \u001b[1m19s\u001b[0m 15ms/step - accuracy: 0.8805 - loss: 0.3100 - precision_9: 0.8721 - recall_9: 0.8903 - val_accuracy: 0.9086 - val_loss: 0.2293 - val_precision_9: 0.8803 - val_recall_9: 0.9457\n",
      "Epoch 3/5\n",
      "\u001b[1m1250/1250\u001b[0m \u001b[32m━━━━━━━━━━━━━━━━━━━━\u001b[0m\u001b[37m\u001b[0m \u001b[1m19s\u001b[0m 15ms/step - accuracy: 0.9023 - loss: 0.2572 - precision_9: 0.8935 - recall_9: 0.9129 - val_accuracy: 0.9248 - val_loss: 0.1945 - val_precision_9: 0.9280 - val_recall_9: 0.9210\n",
      "Epoch 4/5\n",
      "\u001b[1m1250/1250\u001b[0m \u001b[32m━━━━━━━━━━━━━━━━━━━━\u001b[0m\u001b[37m\u001b[0m \u001b[1m19s\u001b[0m 15ms/step - accuracy: 0.9153 - loss: 0.2217 - precision_9: 0.9048 - recall_9: 0.9285 - val_accuracy: 0.9363 - val_loss: 0.1622 - val_precision_9: 0.9305 - val_recall_9: 0.9431\n",
      "Epoch 5/5\n",
      "\u001b[1m1250/1250\u001b[0m \u001b[32m━━━━━━━━━━━━━━━━━━━━\u001b[0m\u001b[37m\u001b[0m \u001b[1m19s\u001b[0m 15ms/step - accuracy: 0.9270 - loss: 0.1934 - precision_9: 0.9168 - recall_9: 0.9396 - val_accuracy: 0.9400 - val_loss: 0.1528 - val_precision_9: 0.9254 - val_recall_9: 0.9572\n",
      "\u001b[1m313/313\u001b[0m \u001b[32m━━━━━━━━━━━━━━━━━━━━\u001b[0m\u001b[37m\u001b[0m \u001b[1m1s\u001b[0m 3ms/step\n",
      "Epoch 1/5\n",
      "\u001b[1m1250/1250\u001b[0m \u001b[32m━━━━━━━━━━━━━━━━━━━━\u001b[0m\u001b[37m\u001b[0m \u001b[1m22s\u001b[0m 16ms/step - accuracy: 0.7841 - loss: 0.4499 - precision_10: 0.7741 - recall_10: 0.8000 - val_accuracy: 0.8901 - val_loss: 0.2655 - val_precision_10: 0.8570 - val_recall_10: 0.9366\n",
      "Epoch 2/5\n",
      "\u001b[1m1250/1250\u001b[0m \u001b[32m━━━━━━━━━━━━━━━━━━━━\u001b[0m\u001b[37m\u001b[0m \u001b[1m19s\u001b[0m 15ms/step - accuracy: 0.8905 - loss: 0.2688 - precision_10: 0.8891 - recall_10: 0.8925 - val_accuracy: 0.9065 - val_loss: 0.2299 - val_precision_10: 0.9577 - val_recall_10: 0.8505\n",
      "Epoch 3/5\n",
      "\u001b[1m1250/1250\u001b[0m \u001b[32m━━━━━━━━━━━━━━━━━━━━\u001b[0m\u001b[37m\u001b[0m \u001b[1m17s\u001b[0m 13ms/step - accuracy: 0.9128 - loss: 0.2219 - precision_10: 0.9127 - recall_10: 0.9137 - val_accuracy: 0.9330 - val_loss: 0.1714 - val_precision_10: 0.9130 - val_recall_10: 0.9573\n",
      "Epoch 4/5\n",
      "\u001b[1m1250/1250\u001b[0m \u001b[32m━━━━━━━━━━━━━━━━━━━━\u001b[0m\u001b[37m\u001b[0m \u001b[1m16s\u001b[0m 13ms/step - accuracy: 0.9246 - loss: 0.1917 - precision_10: 0.9257 - recall_10: 0.9234 - val_accuracy: 0.9391 - val_loss: 0.1573 - val_precision_10: 0.9377 - val_recall_10: 0.9408\n",
      "Epoch 5/5\n",
      "\u001b[1m1250/1250\u001b[0m \u001b[32m━━━━━━━━━━━━━━━━━━━━\u001b[0m\u001b[37m\u001b[0m \u001b[1m16s\u001b[0m 13ms/step - accuracy: 0.9311 - loss: 0.1764 - precision_10: 0.9310 - recall_10: 0.9313 - val_accuracy: 0.9251 - val_loss: 0.1836 - val_precision_10: 0.8839 - val_recall_10: 0.9787\n",
      "\u001b[1m313/313\u001b[0m \u001b[32m━━━━━━━━━━━━━━━━━━━━\u001b[0m\u001b[37m\u001b[0m \u001b[1m1s\u001b[0m 2ms/step\n",
      "Epoch 1/5\n",
      "\u001b[1m1250/1250\u001b[0m \u001b[32m━━━━━━━━━━━━━━━━━━━━\u001b[0m\u001b[37m\u001b[0m \u001b[1m26s\u001b[0m 19ms/step - accuracy: 0.7497 - loss: 0.4936 - precision_11: 0.7403 - recall_11: 0.7696 - val_accuracy: 0.8799 - val_loss: 0.2850 - val_precision_11: 0.8463 - val_recall_11: 0.9285\n",
      "Epoch 2/5\n",
      "\u001b[1m1250/1250\u001b[0m \u001b[32m━━━━━━━━━━━━━━━━━━━━\u001b[0m\u001b[37m\u001b[0m \u001b[1m22s\u001b[0m 18ms/step - accuracy: 0.8772 - loss: 0.2978 - precision_11: 0.8743 - recall_11: 0.8831 - val_accuracy: 0.9002 - val_loss: 0.2432 - val_precision_11: 0.9457 - val_recall_11: 0.8491\n",
      "Epoch 3/5\n",
      "\u001b[1m1250/1250\u001b[0m \u001b[32m━━━━━━━━━━━━━━━━━━━━\u001b[0m\u001b[37m\u001b[0m \u001b[1m22s\u001b[0m 18ms/step - accuracy: 0.9020 - loss: 0.2465 - precision_11: 0.9026 - recall_11: 0.9018 - val_accuracy: 0.9225 - val_loss: 0.1955 - val_precision_11: 0.9485 - val_recall_11: 0.8935\n",
      "Epoch 4/5\n",
      "\u001b[1m1250/1250\u001b[0m \u001b[32m━━━━━━━━━━━━━━━━━━━━\u001b[0m\u001b[37m\u001b[0m \u001b[1m22s\u001b[0m 18ms/step - accuracy: 0.9139 - loss: 0.2193 - precision_11: 0.9129 - recall_11: 0.9151 - val_accuracy: 0.9132 - val_loss: 0.2165 - val_precision_11: 0.8683 - val_recall_11: 0.9740\n",
      "Epoch 5/5\n",
      "\u001b[1m1250/1250\u001b[0m \u001b[32m━━━━━━━━━━━━━━━━━━━━\u001b[0m\u001b[37m\u001b[0m \u001b[1m23s\u001b[0m 18ms/step - accuracy: 0.9234 - loss: 0.1984 - precision_11: 0.9229 - recall_11: 0.9239 - val_accuracy: 0.9393 - val_loss: 0.1533 - val_precision_11: 0.9545 - val_recall_11: 0.9226\n",
      "\u001b[1m313/313\u001b[0m \u001b[32m━━━━━━━━━━━━━━━━━━━━\u001b[0m\u001b[37m\u001b[0m \u001b[1m1s\u001b[0m 4ms/step\n",
      "Epoch 1/5\n",
      "\u001b[1m1250/1250\u001b[0m \u001b[32m━━━━━━━━━━━━━━━━━━━━\u001b[0m\u001b[37m\u001b[0m \u001b[1m26s\u001b[0m 19ms/step - accuracy: 0.7630 - loss: 0.4956 - precision_12: 0.7787 - recall_12: 0.7316 - val_accuracy: 0.8977 - val_loss: 0.2511 - val_precision_12: 0.8997 - val_recall_12: 0.8952\n",
      "Epoch 2/5\n",
      "\u001b[1m1250/1250\u001b[0m \u001b[32m━━━━━━━━━━━━━━━━━━━━\u001b[0m\u001b[37m\u001b[0m \u001b[1m22s\u001b[0m 18ms/step - accuracy: 0.8869 - loss: 0.2863 - precision_12: 0.8853 - recall_12: 0.8890 - val_accuracy: 0.8960 - val_loss: 0.2569 - val_precision_12: 0.9511 - val_recall_12: 0.8350\n",
      "Epoch 3/5\n",
      "\u001b[1m1250/1250\u001b[0m \u001b[32m━━━━━━━━━━━━━━━━━━━━\u001b[0m\u001b[37m\u001b[0m \u001b[1m23s\u001b[0m 18ms/step - accuracy: 0.9061 - loss: 0.2435 - precision_12: 0.9051 - recall_12: 0.9063 - val_accuracy: 0.9308 - val_loss: 0.1772 - val_precision_12: 0.9308 - val_recall_12: 0.9308\n",
      "Epoch 4/5\n",
      "\u001b[1m1250/1250\u001b[0m \u001b[32m━━━━━━━━━━━━━━━━━━━━\u001b[0m\u001b[37m\u001b[0m \u001b[1m23s\u001b[0m 18ms/step - accuracy: 0.9236 - loss: 0.2024 - precision_12: 0.9188 - recall_12: 0.9287 - val_accuracy: 0.9288 - val_loss: 0.1790 - val_precision_12: 0.9504 - val_recall_12: 0.9048\n",
      "Epoch 5/5\n",
      "\u001b[1m1250/1250\u001b[0m \u001b[32m━━━━━━━━━━━━━━━━━━━━\u001b[0m\u001b[37m\u001b[0m \u001b[1m23s\u001b[0m 18ms/step - accuracy: 0.9287 - loss: 0.1855 - precision_12: 0.9217 - recall_12: 0.9375 - val_accuracy: 0.9446 - val_loss: 0.1457 - val_precision_12: 0.9377 - val_recall_12: 0.9525\n",
      "\u001b[1m313/313\u001b[0m \u001b[32m━━━━━━━━━━━━━━━━━━━━\u001b[0m\u001b[37m\u001b[0m \u001b[1m1s\u001b[0m 4ms/step\n",
      "Epoch 1/5\n",
      "\u001b[1m1250/1250\u001b[0m \u001b[32m━━━━━━━━━━━━━━━━━━━━\u001b[0m\u001b[37m\u001b[0m \u001b[1m26s\u001b[0m 19ms/step - accuracy: 0.7649 - loss: 0.4696 - precision_13: 0.7655 - recall_13: 0.7555 - val_accuracy: 0.8962 - val_loss: 0.2605 - val_precision_13: 0.8769 - val_recall_13: 0.9218\n",
      "Epoch 2/5\n",
      "\u001b[1m1250/1250\u001b[0m \u001b[32m━━━━━━━━━━━━━━━━━━━━\u001b[0m\u001b[37m\u001b[0m \u001b[1m23s\u001b[0m 18ms/step - accuracy: 0.8926 - loss: 0.2668 - precision_13: 0.8913 - recall_13: 0.8936 - val_accuracy: 0.9150 - val_loss: 0.2126 - val_precision_13: 0.9306 - val_recall_13: 0.8969\n",
      "Epoch 3/5\n",
      "\u001b[1m1250/1250\u001b[0m \u001b[32m━━━━━━━━━━━━━━━━━━━━\u001b[0m\u001b[37m\u001b[0m \u001b[1m23s\u001b[0m 18ms/step - accuracy: 0.9148 - loss: 0.2162 - precision_13: 0.9140 - recall_13: 0.9162 - val_accuracy: 0.9317 - val_loss: 0.1738 - val_precision_13: 0.9457 - val_recall_13: 0.9160\n",
      "Epoch 4/5\n",
      "\u001b[1m1250/1250\u001b[0m \u001b[32m━━━━━━━━━━━━━━━━━━━━\u001b[0m\u001b[37m\u001b[0m \u001b[1m23s\u001b[0m 18ms/step - accuracy: 0.9252 - loss: 0.1904 - precision_13: 0.9250 - recall_13: 0.9254 - val_accuracy: 0.9265 - val_loss: 0.1793 - val_precision_13: 0.8901 - val_recall_13: 0.9731\n",
      "Epoch 5/5\n",
      "\u001b[1m1250/1250\u001b[0m \u001b[32m━━━━━━━━━━━━━━━━━━━━\u001b[0m\u001b[37m\u001b[0m \u001b[1m23s\u001b[0m 18ms/step - accuracy: 0.9332 - loss: 0.1745 - precision_13: 0.9321 - recall_13: 0.9348 - val_accuracy: 0.9444 - val_loss: 0.1442 - val_precision_13: 0.9551 - val_recall_13: 0.9326\n",
      "\u001b[1m313/313\u001b[0m \u001b[32m━━━━━━━━━━━━━━━━━━━━\u001b[0m\u001b[37m\u001b[0m \u001b[1m1s\u001b[0m 4ms/step\n",
      "Epoch 1/5\n",
      "\u001b[1m1250/1250\u001b[0m \u001b[32m━━━━━━━━━━━━━━━━━━━━\u001b[0m\u001b[37m\u001b[0m \u001b[1m26s\u001b[0m 19ms/step - accuracy: 0.7815 - loss: 0.4581 - precision_14: 0.7789 - recall_14: 0.7782 - val_accuracy: 0.8796 - val_loss: 0.2858 - val_precision_14: 0.8425 - val_recall_14: 0.9339\n",
      "Epoch 2/5\n",
      "\u001b[1m1250/1250\u001b[0m \u001b[32m━━━━━━━━━━━━━━━━━━━━\u001b[0m\u001b[37m\u001b[0m \u001b[1m23s\u001b[0m 18ms/step - accuracy: 0.8859 - loss: 0.2844 - precision_14: 0.8879 - recall_14: 0.8841 - val_accuracy: 0.9184 - val_loss: 0.2064 - val_precision_14: 0.9029 - val_recall_14: 0.9376\n",
      "Epoch 3/5\n",
      "\u001b[1m1250/1250\u001b[0m \u001b[32m━━━━━━━━━━━━━━━━━━━━\u001b[0m\u001b[37m\u001b[0m \u001b[1m23s\u001b[0m 18ms/step - accuracy: 0.9090 - loss: 0.2304 - precision_14: 0.9091 - recall_14: 0.9094 - val_accuracy: 0.9327 - val_loss: 0.1766 - val_precision_14: 0.9408 - val_recall_14: 0.9236\n",
      "Epoch 4/5\n",
      "\u001b[1m1250/1250\u001b[0m \u001b[32m━━━━━━━━━━━━━━━━━━━━\u001b[0m\u001b[37m\u001b[0m \u001b[1m23s\u001b[0m 18ms/step - accuracy: 0.9213 - loss: 0.2021 - precision_14: 0.9206 - recall_14: 0.9219 - val_accuracy: 0.9347 - val_loss: 0.1712 - val_precision_14: 0.9267 - val_recall_14: 0.9442\n",
      "Epoch 5/5\n",
      "\u001b[1m1250/1250\u001b[0m \u001b[32m━━━━━━━━━━━━━━━━━━━━\u001b[0m\u001b[37m\u001b[0m \u001b[1m23s\u001b[0m 18ms/step - accuracy: 0.9289 - loss: 0.1812 - precision_14: 0.9303 - recall_14: 0.9265 - val_accuracy: 0.9417 - val_loss: 0.1514 - val_precision_14: 0.9459 - val_recall_14: 0.9370\n",
      "\u001b[1m313/313\u001b[0m \u001b[32m━━━━━━━━━━━━━━━━━━━━\u001b[0m\u001b[37m\u001b[0m \u001b[1m1s\u001b[0m 3ms/step\n",
      "Epoch 1/5\n",
      "\u001b[1m1250/1250\u001b[0m \u001b[32m━━━━━━━━━━━━━━━━━━━━\u001b[0m\u001b[37m\u001b[0m \u001b[1m26s\u001b[0m 19ms/step - accuracy: 0.7837 - loss: 0.4515 - precision_15: 0.7761 - recall_15: 0.7959 - val_accuracy: 0.8824 - val_loss: 0.2833 - val_precision_15: 0.9404 - val_recall_15: 0.8166\n",
      "Epoch 2/5\n",
      "\u001b[1m1250/1250\u001b[0m \u001b[32m━━━━━━━━━━━━━━━━━━━━\u001b[0m\u001b[37m\u001b[0m \u001b[1m23s\u001b[0m 18ms/step - accuracy: 0.8919 - loss: 0.2679 - precision_15: 0.8948 - recall_15: 0.8897 - val_accuracy: 0.9070 - val_loss: 0.2295 - val_precision_15: 0.9492 - val_recall_15: 0.8601\n",
      "Epoch 3/5\n",
      "\u001b[1m1250/1250\u001b[0m \u001b[32m━━━━━━━━━━━━━━━━━━━━\u001b[0m\u001b[37m\u001b[0m \u001b[1m41s\u001b[0m 18ms/step - accuracy: 0.9086 - loss: 0.2289 - precision_15: 0.9083 - recall_15: 0.9088 - val_accuracy: 0.9298 - val_loss: 0.1826 - val_precision_15: 0.9160 - val_recall_15: 0.9464\n",
      "Epoch 4/5\n",
      "\u001b[1m1250/1250\u001b[0m \u001b[32m━━━━━━━━━━━━━━━━━━━━\u001b[0m\u001b[37m\u001b[0m \u001b[1m23s\u001b[0m 18ms/step - accuracy: 0.9252 - loss: 0.1940 - precision_15: 0.9263 - recall_15: 0.9234 - val_accuracy: 0.9412 - val_loss: 0.1511 - val_precision_15: 0.9397 - val_recall_15: 0.9430\n",
      "Epoch 5/5\n",
      "\u001b[1m1250/1250\u001b[0m \u001b[32m━━━━━━━━━━━━━━━━━━━━\u001b[0m\u001b[37m\u001b[0m \u001b[1m23s\u001b[0m 18ms/step - accuracy: 0.9313 - loss: 0.1791 - precision_15: 0.9315 - recall_15: 0.9317 - val_accuracy: 0.9456 - val_loss: 0.1416 - val_precision_15: 0.9341 - val_recall_15: 0.9588\n",
      "\u001b[1m313/313\u001b[0m \u001b[32m━━━━━━━━━━━━━━━━━━━━\u001b[0m\u001b[37m\u001b[0m \u001b[1m1s\u001b[0m 3ms/step\n",
      "Epoch 1/5\n",
      "\u001b[1m1250/1250\u001b[0m \u001b[32m━━━━━━━━━━━━━━━━━━━━\u001b[0m\u001b[37m\u001b[0m \u001b[1m32s\u001b[0m 23ms/step - accuracy: 0.7734 - loss: 0.4665 - precision_16: 0.7703 - recall_16: 0.7745 - val_accuracy: 0.8837 - val_loss: 0.2867 - val_precision_16: 0.8484 - val_recall_16: 0.9344\n",
      "Epoch 2/5\n",
      "\u001b[1m1250/1250\u001b[0m \u001b[32m━━━━━━━━━━━━━━━━━━━━\u001b[0m\u001b[37m\u001b[0m \u001b[1m27s\u001b[0m 21ms/step - accuracy: 0.8820 - loss: 0.2940 - precision_16: 0.8799 - recall_16: 0.8862 - val_accuracy: 0.9173 - val_loss: 0.2080 - val_precision_16: 0.9261 - val_recall_16: 0.9070\n",
      "Epoch 3/5\n",
      "\u001b[1m1250/1250\u001b[0m \u001b[32m━━━━━━━━━━━━━━━━━━━━\u001b[0m\u001b[37m\u001b[0m \u001b[1m27s\u001b[0m 21ms/step - accuracy: 0.9025 - loss: 0.2418 - precision_16: 0.8990 - recall_16: 0.9065 - val_accuracy: 0.9255 - val_loss: 0.1867 - val_precision_16: 0.9154 - val_recall_16: 0.9378\n",
      "Epoch 4/5\n",
      "\u001b[1m1250/1250\u001b[0m \u001b[32m━━━━━━━━━━━━━━━━━━━━\u001b[0m\u001b[37m\u001b[0m \u001b[1m27s\u001b[0m 21ms/step - accuracy: 0.9181 - loss: 0.2124 - precision_16: 0.9170 - recall_16: 0.9205 - val_accuracy: 0.9224 - val_loss: 0.1930 - val_precision_16: 0.9633 - val_recall_16: 0.8782\n",
      "Epoch 5/5\n",
      "\u001b[1m1250/1250\u001b[0m \u001b[32m━━━━━━━━━━━━━━━━━━━━\u001b[0m\u001b[37m\u001b[0m \u001b[1m27s\u001b[0m 22ms/step - accuracy: 0.9270 - loss: 0.1917 - precision_16: 0.9247 - recall_16: 0.9294 - val_accuracy: 0.9397 - val_loss: 0.1533 - val_precision_16: 0.9462 - val_recall_16: 0.9324\n",
      "\u001b[1m313/313\u001b[0m \u001b[32m━━━━━━━━━━━━━━━━━━━━\u001b[0m\u001b[37m\u001b[0m \u001b[1m1s\u001b[0m 4ms/step\n",
      "Epoch 1/5\n",
      "\u001b[1m1250/1250\u001b[0m \u001b[32m━━━━━━━━━━━━━━━━━━━━\u001b[0m\u001b[37m\u001b[0m \u001b[1m29s\u001b[0m 22ms/step - accuracy: 0.7667 - loss: 0.4742 - precision_17: 0.7632 - recall_17: 0.7699 - val_accuracy: 0.8782 - val_loss: 0.2962 - val_precision_17: 0.8421 - val_recall_17: 0.9309\n",
      "Epoch 2/5\n",
      "\u001b[1m1250/1250\u001b[0m \u001b[32m━━━━━━━━━━━━━━━━━━━━\u001b[0m\u001b[37m\u001b[0m \u001b[1m27s\u001b[0m 21ms/step - accuracy: 0.8844 - loss: 0.2899 - precision_17: 0.8819 - recall_17: 0.8881 - val_accuracy: 0.9171 - val_loss: 0.2265 - val_precision_17: 0.9177 - val_recall_17: 0.9164\n",
      "Epoch 3/5\n",
      "\u001b[1m1250/1250\u001b[0m \u001b[32m━━━━━━━━━━━━━━━━━━━━\u001b[0m\u001b[37m\u001b[0m \u001b[1m27s\u001b[0m 21ms/step - accuracy: 0.9105 - loss: 0.2323 - precision_17: 0.9084 - recall_17: 0.9141 - val_accuracy: 0.9213 - val_loss: 0.1946 - val_precision_17: 0.8919 - val_recall_17: 0.9588\n",
      "Epoch 4/5\n",
      "\u001b[1m1250/1250\u001b[0m \u001b[32m━━━━━━━━━━━━━━━━━━━━\u001b[0m\u001b[37m\u001b[0m \u001b[1m27s\u001b[0m 21ms/step - accuracy: 0.9219 - loss: 0.2025 - precision_17: 0.9184 - recall_17: 0.9258 - val_accuracy: 0.9377 - val_loss: 0.1596 - val_precision_17: 0.9277 - val_recall_17: 0.9493\n",
      "Epoch 5/5\n",
      "\u001b[1m1250/1250\u001b[0m \u001b[32m━━━━━━━━━━━━━━━━━━━━\u001b[0m\u001b[37m\u001b[0m \u001b[1m27s\u001b[0m 21ms/step - accuracy: 0.9305 - loss: 0.1824 - precision_17: 0.9265 - recall_17: 0.9347 - val_accuracy: 0.9439 - val_loss: 0.1423 - val_precision_17: 0.9547 - val_recall_17: 0.9320\n",
      "\u001b[1m313/313\u001b[0m \u001b[32m━━━━━━━━━━━━━━━━━━━━\u001b[0m\u001b[37m\u001b[0m \u001b[1m1s\u001b[0m 4ms/step\n",
      "Epoch 1/5\n",
      "\u001b[1m1250/1250\u001b[0m \u001b[32m━━━━━━━━━━━━━━━━━━━━\u001b[0m\u001b[37m\u001b[0m \u001b[1m29s\u001b[0m 22ms/step - accuracy: 0.7780 - loss: 0.4663 - precision_18: 0.7736 - recall_18: 0.7843 - val_accuracy: 0.8935 - val_loss: 0.2644 - val_precision_18: 0.8946 - val_recall_18: 0.8922\n",
      "Epoch 2/5\n",
      "\u001b[1m1250/1250\u001b[0m \u001b[32m━━━━━━━━━━━━━━━━━━━━\u001b[0m\u001b[37m\u001b[0m \u001b[1m26s\u001b[0m 21ms/step - accuracy: 0.8806 - loss: 0.2953 - precision_18: 0.8787 - recall_18: 0.8810 - val_accuracy: 0.8935 - val_loss: 0.2692 - val_precision_18: 0.9081 - val_recall_18: 0.8756\n",
      "Epoch 3/5\n",
      "\u001b[1m1250/1250\u001b[0m \u001b[32m━━━━━━━━━━━━━━━━━━━━\u001b[0m\u001b[37m\u001b[0m \u001b[1m27s\u001b[0m 21ms/step - accuracy: 0.9077 - loss: 0.2401 - precision_18: 0.9041 - recall_18: 0.9119 - val_accuracy: 0.9153 - val_loss: 0.2057 - val_precision_18: 0.9583 - val_recall_18: 0.8683\n",
      "Epoch 4/5\n",
      "\u001b[1m1250/1250\u001b[0m \u001b[32m━━━━━━━━━━━━━━━━━━━━\u001b[0m\u001b[37m\u001b[0m \u001b[1m26s\u001b[0m 21ms/step - accuracy: 0.9184 - loss: 0.2140 - precision_18: 0.9139 - recall_18: 0.9236 - val_accuracy: 0.9183 - val_loss: 0.2061 - val_precision_18: 0.9608 - val_recall_18: 0.8722\n",
      "Epoch 5/5\n",
      "\u001b[1m1250/1250\u001b[0m \u001b[32m━━━━━━━━━━━━━━━━━━━━\u001b[0m\u001b[37m\u001b[0m \u001b[1m26s\u001b[0m 21ms/step - accuracy: 0.9272 - loss: 0.1933 - precision_18: 0.9197 - recall_18: 0.9357 - val_accuracy: 0.9356 - val_loss: 0.1675 - val_precision_18: 0.9526 - val_recall_18: 0.9169\n",
      "\u001b[1m313/313\u001b[0m \u001b[32m━━━━━━━━━━━━━━━━━━━━\u001b[0m\u001b[37m\u001b[0m \u001b[1m1s\u001b[0m 4ms/step\n",
      "Epoch 1/5\n",
      "\u001b[1m1250/1250\u001b[0m \u001b[32m━━━━━━━━━━━━━━━━━━━━\u001b[0m\u001b[37m\u001b[0m \u001b[1m29s\u001b[0m 22ms/step - accuracy: 0.7456 - loss: 0.5001 - precision_19: 0.7451 - recall_19: 0.7413 - val_accuracy: 0.8771 - val_loss: 0.2993 - val_precision_19: 0.8634 - val_recall_19: 0.8959\n",
      "Epoch 2/5\n",
      "\u001b[1m1250/1250\u001b[0m \u001b[32m━━━━━━━━━━━━━━━━━━━━\u001b[0m\u001b[37m\u001b[0m \u001b[1m26s\u001b[0m 21ms/step - accuracy: 0.8678 - loss: 0.3276 - precision_19: 0.8590 - recall_19: 0.8795 - val_accuracy: 0.9051 - val_loss: 0.2400 - val_precision_19: 0.8960 - val_recall_19: 0.9166\n",
      "Epoch 3/5\n",
      "\u001b[1m1250/1250\u001b[0m \u001b[32m━━━━━━━━━━━━━━━━━━━━\u001b[0m\u001b[37m\u001b[0m \u001b[1m27s\u001b[0m 21ms/step - accuracy: 0.8950 - loss: 0.2664 - precision_19: 0.8899 - recall_19: 0.9012 - val_accuracy: 0.9161 - val_loss: 0.2112 - val_precision_19: 0.8903 - val_recall_19: 0.9491\n",
      "Epoch 4/5\n",
      "\u001b[1m1250/1250\u001b[0m \u001b[32m━━━━━━━━━━━━━━━━━━━━\u001b[0m\u001b[37m\u001b[0m \u001b[1m27s\u001b[0m 21ms/step - accuracy: 0.9088 - loss: 0.2319 - precision_19: 0.9019 - recall_19: 0.9170 - val_accuracy: 0.9189 - val_loss: 0.2074 - val_precision_19: 0.9551 - val_recall_19: 0.8791\n",
      "Epoch 5/5\n",
      "\u001b[1m1250/1250\u001b[0m \u001b[32m━━━━━━━━━━━━━━━━━━━━\u001b[0m\u001b[37m\u001b[0m \u001b[1m26s\u001b[0m 21ms/step - accuracy: 0.9157 - loss: 0.2107 - precision_19: 0.9081 - recall_19: 0.9247 - val_accuracy: 0.9341 - val_loss: 0.1639 - val_precision_19: 0.9566 - val_recall_19: 0.9095\n",
      "\u001b[1m313/313\u001b[0m \u001b[32m━━━━━━━━━━━━━━━━━━━━\u001b[0m\u001b[37m\u001b[0m \u001b[1m1s\u001b[0m 4ms/step\n",
      "Epoch 1/5\n",
      "\u001b[1m1250/1250\u001b[0m \u001b[32m━━━━━━━━━━━━━━━━━━━━\u001b[0m\u001b[37m\u001b[0m \u001b[1m29s\u001b[0m 22ms/step - accuracy: 0.7878 - loss: 0.4436 - precision_20: 0.7792 - recall_20: 0.8080 - val_accuracy: 0.8952 - val_loss: 0.2505 - val_precision_20: 0.9176 - val_recall_20: 0.8683\n",
      "Epoch 2/5\n",
      "\u001b[1m1250/1250\u001b[0m \u001b[32m━━━━━━━━━━━━━━━━━━━━\u001b[0m\u001b[37m\u001b[0m \u001b[1m26s\u001b[0m 21ms/step - accuracy: 0.8961 - loss: 0.2565 - precision_20: 0.8974 - recall_20: 0.8943 - val_accuracy: 0.9255 - val_loss: 0.1887 - val_precision_20: 0.9224 - val_recall_20: 0.9293\n",
      "Epoch 3/5\n",
      "\u001b[1m1250/1250\u001b[0m \u001b[32m━━━━━━━━━━━━━━━━━━━━\u001b[0m\u001b[37m\u001b[0m \u001b[1m26s\u001b[0m 21ms/step - accuracy: 0.9151 - loss: 0.2148 - precision_20: 0.9148 - recall_20: 0.9140 - val_accuracy: 0.9367 - val_loss: 0.1710 - val_precision_20: 0.9374 - val_recall_20: 0.9359\n",
      "Epoch 4/5\n",
      "\u001b[1m1250/1250\u001b[0m \u001b[32m━━━━━━━━━━━━━━━━━━━━\u001b[0m\u001b[37m\u001b[0m \u001b[1m27s\u001b[0m 21ms/step - accuracy: 0.9287 - loss: 0.1864 - precision_20: 0.9279 - recall_20: 0.9292 - val_accuracy: 0.9417 - val_loss: 0.1506 - val_precision_20: 0.9533 - val_recall_20: 0.9288\n",
      "Epoch 5/5\n",
      "\u001b[1m1250/1250\u001b[0m \u001b[32m━━━━━━━━━━━━━━━━━━━━\u001b[0m\u001b[37m\u001b[0m \u001b[1m26s\u001b[0m 21ms/step - accuracy: 0.9339 - loss: 0.1694 - precision_20: 0.9352 - recall_20: 0.9330 - val_accuracy: 0.9390 - val_loss: 0.1522 - val_precision_20: 0.9679 - val_recall_20: 0.9080\n",
      "\u001b[1m313/313\u001b[0m \u001b[32m━━━━━━━━━━━━━━━━━━━━\u001b[0m\u001b[37m\u001b[0m \u001b[1m1s\u001b[0m 4ms/step\n",
      "Epoch 1/5\n",
      "\u001b[1m1250/1250\u001b[0m \u001b[32m━━━━━━━━━━━━━━━━━━━━\u001b[0m\u001b[37m\u001b[0m \u001b[1m35s\u001b[0m 25ms/step - accuracy: 0.7580 - loss: 0.4850 - precision_21: 0.7438 - recall_21: 0.7884 - val_accuracy: 0.8742 - val_loss: 0.2980 - val_precision_21: 0.8251 - val_recall_21: 0.9498\n",
      "Epoch 2/5\n",
      "\u001b[1m1250/1250\u001b[0m \u001b[32m━━━━━━━━━━━━━━━━━━━━\u001b[0m\u001b[37m\u001b[0m \u001b[1m29s\u001b[0m 23ms/step - accuracy: 0.8864 - loss: 0.2824 - precision_21: 0.8857 - recall_21: 0.8890 - val_accuracy: 0.9110 - val_loss: 0.2278 - val_precision_21: 0.8914 - val_recall_21: 0.9361\n",
      "Epoch 3/5\n",
      "\u001b[1m1250/1250\u001b[0m \u001b[32m━━━━━━━━━━━━━━━━━━━━\u001b[0m\u001b[37m\u001b[0m \u001b[1m29s\u001b[0m 23ms/step - accuracy: 0.9076 - loss: 0.2350 - precision_21: 0.9045 - recall_21: 0.9112 - val_accuracy: 0.9094 - val_loss: 0.2195 - val_precision_21: 0.9622 - val_recall_21: 0.8523\n",
      "Epoch 4/5\n",
      "\u001b[1m1250/1250\u001b[0m \u001b[32m━━━━━━━━━━━━━━━━━━━━\u001b[0m\u001b[37m\u001b[0m \u001b[1m29s\u001b[0m 23ms/step - accuracy: 0.9200 - loss: 0.2061 - precision_21: 0.9186 - recall_21: 0.9220 - val_accuracy: 0.9170 - val_loss: 0.2039 - val_precision_21: 0.8737 - val_recall_21: 0.9748\n",
      "Epoch 5/5\n",
      "\u001b[1m1250/1250\u001b[0m \u001b[32m━━━━━━━━━━━━━━━━━━━━\u001b[0m\u001b[37m\u001b[0m \u001b[1m29s\u001b[0m 23ms/step - accuracy: 0.9289 - loss: 0.1869 - precision_21: 0.9253 - recall_21: 0.9325 - val_accuracy: 0.9312 - val_loss: 0.1666 - val_precision_21: 0.9052 - val_recall_21: 0.9632\n",
      "\u001b[1m313/313\u001b[0m \u001b[32m━━━━━━━━━━━━━━━━━━━━\u001b[0m\u001b[37m\u001b[0m \u001b[1m1s\u001b[0m 4ms/step\n",
      "Epoch 1/5\n",
      "\u001b[1m1250/1250\u001b[0m \u001b[32m━━━━━━━━━━━━━━━━━━━━\u001b[0m\u001b[37m\u001b[0m \u001b[1m30s\u001b[0m 22ms/step - accuracy: 0.7821 - loss: 0.4506 - precision_22: 0.7766 - recall_22: 0.7892 - val_accuracy: 0.8835 - val_loss: 0.2811 - val_precision_22: 0.9341 - val_recall_22: 0.8252\n",
      "Epoch 2/5\n",
      "\u001b[1m1250/1250\u001b[0m \u001b[32m━━━━━━━━━━━━━━━━━━━━\u001b[0m\u001b[37m\u001b[0m \u001b[1m27s\u001b[0m 21ms/step - accuracy: 0.8897 - loss: 0.2724 - precision_22: 0.8940 - recall_22: 0.8843 - val_accuracy: 0.9163 - val_loss: 0.2027 - val_precision_22: 0.8953 - val_recall_22: 0.9428\n",
      "Epoch 3/5\n",
      "\u001b[1m1250/1250\u001b[0m \u001b[32m━━━━━━━━━━━━━━━━━━━━\u001b[0m\u001b[37m\u001b[0m \u001b[1m27s\u001b[0m 22ms/step - accuracy: 0.9141 - loss: 0.2170 - precision_22: 0.9173 - recall_22: 0.9111 - val_accuracy: 0.9245 - val_loss: 0.1861 - val_precision_22: 0.9044 - val_recall_22: 0.9493\n",
      "Epoch 4/5\n",
      "\u001b[1m1250/1250\u001b[0m \u001b[32m━━━━━━━━━━━━━━━━━━━━\u001b[0m\u001b[37m\u001b[0m \u001b[1m27s\u001b[0m 22ms/step - accuracy: 0.9260 - loss: 0.1878 - precision_22: 0.9287 - recall_22: 0.9229 - val_accuracy: 0.9437 - val_loss: 0.1422 - val_precision_22: 0.9446 - val_recall_22: 0.9427\n",
      "Epoch 5/5\n",
      "\u001b[1m1250/1250\u001b[0m \u001b[32m━━━━━━━━━━━━━━━━━━━━\u001b[0m\u001b[37m\u001b[0m \u001b[1m27s\u001b[0m 21ms/step - accuracy: 0.9347 - loss: 0.1681 - precision_22: 0.9345 - recall_22: 0.9346 - val_accuracy: 0.9358 - val_loss: 0.1578 - val_precision_22: 0.9036 - val_recall_22: 0.9756\n",
      "\u001b[1m313/313\u001b[0m \u001b[32m━━━━━━━━━━━━━━━━━━━━\u001b[0m\u001b[37m\u001b[0m \u001b[1m1s\u001b[0m 4ms/step\n",
      "Epoch 1/5\n",
      "\u001b[1m1250/1250\u001b[0m \u001b[32m━━━━━━━━━━━━━━━━━━━━\u001b[0m\u001b[37m\u001b[0m \u001b[1m30s\u001b[0m 23ms/step - accuracy: 0.7813 - loss: 0.4580 - precision_23: 0.7808 - recall_23: 0.7769 - val_accuracy: 0.8888 - val_loss: 0.2709 - val_precision_23: 0.9026 - val_recall_23: 0.8716\n",
      "Epoch 2/5\n",
      "\u001b[1m1250/1250\u001b[0m \u001b[32m━━━━━━━━━━━━━━━━━━━━\u001b[0m\u001b[37m\u001b[0m \u001b[1m27s\u001b[0m 21ms/step - accuracy: 0.8843 - loss: 0.2880 - precision_23: 0.8877 - recall_23: 0.8793 - val_accuracy: 0.9199 - val_loss: 0.1994 - val_precision_23: 0.9213 - val_recall_23: 0.9182\n",
      "Epoch 3/5\n",
      "\u001b[1m1250/1250\u001b[0m \u001b[32m━━━━━━━━━━━━━━━━━━━━\u001b[0m\u001b[37m\u001b[0m \u001b[1m27s\u001b[0m 22ms/step - accuracy: 0.9104 - loss: 0.2261 - precision_23: 0.9102 - recall_23: 0.9113 - val_accuracy: 0.9332 - val_loss: 0.1753 - val_precision_23: 0.9334 - val_recall_23: 0.9329\n",
      "Epoch 4/5\n",
      "\u001b[1m1250/1250\u001b[0m \u001b[32m━━━━━━━━━━━━━━━━━━━━\u001b[0m\u001b[37m\u001b[0m \u001b[1m25s\u001b[0m 20ms/step - accuracy: 0.9243 - loss: 0.1976 - precision_23: 0.9216 - recall_23: 0.9285 - val_accuracy: 0.9416 - val_loss: 0.1498 - val_precision_23: 0.9358 - val_recall_23: 0.9482\n",
      "Epoch 5/5\n",
      "\u001b[1m1250/1250\u001b[0m \u001b[32m━━━━━━━━━━━━━━━━━━━━\u001b[0m\u001b[37m\u001b[0m \u001b[1m24s\u001b[0m 19ms/step - accuracy: 0.9355 - loss: 0.1708 - precision_23: 0.9325 - recall_23: 0.9384 - val_accuracy: 0.9468 - val_loss: 0.1415 - val_precision_23: 0.9327 - val_recall_23: 0.9630\n",
      "\u001b[1m313/313\u001b[0m \u001b[32m━━━━━━━━━━━━━━━━━━━━\u001b[0m\u001b[37m\u001b[0m \u001b[1m1s\u001b[0m 4ms/step\n",
      "Epoch 1/5\n",
      "\u001b[1m1250/1250\u001b[0m \u001b[32m━━━━━━━━━━━━━━━━━━━━\u001b[0m\u001b[37m\u001b[0m \u001b[1m27s\u001b[0m 20ms/step - accuracy: 0.7599 - loss: 0.4796 - precision_24: 0.7589 - recall_24: 0.7508 - val_accuracy: 0.8906 - val_loss: 0.2748 - val_precision_24: 0.8748 - val_recall_24: 0.9116\n",
      "Epoch 2/5\n",
      "\u001b[1m1250/1250\u001b[0m \u001b[32m━━━━━━━━━━━━━━━━━━━━\u001b[0m\u001b[37m\u001b[0m \u001b[1m24s\u001b[0m 19ms/step - accuracy: 0.8814 - loss: 0.2897 - precision_24: 0.8775 - recall_24: 0.8874 - val_accuracy: 0.9135 - val_loss: 0.2156 - val_precision_24: 0.9397 - val_recall_24: 0.8836\n",
      "Epoch 3/5\n",
      "\u001b[1m1250/1250\u001b[0m \u001b[32m━━━━━━━━━━━━━━━━━━━━\u001b[0m\u001b[37m\u001b[0m \u001b[1m27s\u001b[0m 22ms/step - accuracy: 0.9018 - loss: 0.2399 - precision_24: 0.8966 - recall_24: 0.9071 - val_accuracy: 0.9318 - val_loss: 0.1747 - val_precision_24: 0.9258 - val_recall_24: 0.9389\n",
      "Epoch 4/5\n",
      "\u001b[1m1250/1250\u001b[0m \u001b[32m━━━━━━━━━━━━━━━━━━━━\u001b[0m\u001b[37m\u001b[0m \u001b[1m27s\u001b[0m 22ms/step - accuracy: 0.9166 - loss: 0.2088 - precision_24: 0.9107 - recall_24: 0.9223 - val_accuracy: 0.9341 - val_loss: 0.1688 - val_precision_24: 0.9213 - val_recall_24: 0.9493\n",
      "Epoch 5/5\n",
      "\u001b[1m1250/1250\u001b[0m \u001b[32m━━━━━━━━━━━━━━━━━━━━\u001b[0m\u001b[37m\u001b[0m \u001b[1m27s\u001b[0m 22ms/step - accuracy: 0.9217 - loss: 0.1908 - precision_24: 0.9210 - recall_24: 0.9223 - val_accuracy: 0.9380 - val_loss: 0.1583 - val_precision_24: 0.9370 - val_recall_24: 0.9393\n",
      "\u001b[1m313/313\u001b[0m \u001b[32m━━━━━━━━━━━━━━━━━━━━\u001b[0m\u001b[37m\u001b[0m \u001b[1m1s\u001b[0m 4ms/step\n",
      "Epoch 1/5\n",
      "\u001b[1m1250/1250\u001b[0m \u001b[32m━━━━━━━━━━━━━━━━━━━━\u001b[0m\u001b[37m\u001b[0m \u001b[1m31s\u001b[0m 23ms/step - accuracy: 0.7809 - loss: 0.4565 - precision_25: 0.7732 - recall_25: 0.7965 - val_accuracy: 0.8824 - val_loss: 0.2787 - val_precision_25: 0.9298 - val_recall_25: 0.8273\n",
      "Epoch 2/5\n",
      "\u001b[1m1250/1250\u001b[0m \u001b[32m━━━━━━━━━━━━━━━━━━━━\u001b[0m\u001b[37m\u001b[0m \u001b[1m27s\u001b[0m 21ms/step - accuracy: 0.8901 - loss: 0.2733 - precision_25: 0.8929 - recall_25: 0.8863 - val_accuracy: 0.9166 - val_loss: 0.2097 - val_precision_25: 0.9495 - val_recall_25: 0.8801\n",
      "Epoch 3/5\n",
      "\u001b[1m1250/1250\u001b[0m \u001b[32m━━━━━━━━━━━━━━━━━━━━\u001b[0m\u001b[37m\u001b[0m \u001b[1m27s\u001b[0m 22ms/step - accuracy: 0.9142 - loss: 0.2203 - precision_25: 0.9140 - recall_25: 0.9140 - val_accuracy: 0.9197 - val_loss: 0.1983 - val_precision_25: 0.8861 - val_recall_25: 0.9631\n",
      "Epoch 4/5\n",
      "\u001b[1m1250/1250\u001b[0m \u001b[32m━━━━━━━━━━━━━━━━━━━━\u001b[0m\u001b[37m\u001b[0m \u001b[1m27s\u001b[0m 22ms/step - accuracy: 0.9264 - loss: 0.1931 - precision_25: 0.9259 - recall_25: 0.9273 - val_accuracy: 0.9357 - val_loss: 0.1674 - val_precision_25: 0.9469 - val_recall_25: 0.9232\n",
      "Epoch 5/5\n",
      "\u001b[1m1250/1250\u001b[0m \u001b[32m━━━━━━━━━━━━━━━━━━━━\u001b[0m\u001b[37m\u001b[0m \u001b[1m27s\u001b[0m 22ms/step - accuracy: 0.9322 - loss: 0.1778 - precision_25: 0.9295 - recall_25: 0.9359 - val_accuracy: 0.9435 - val_loss: 0.1445 - val_precision_25: 0.9588 - val_recall_25: 0.9267\n",
      "\u001b[1m313/313\u001b[0m \u001b[32m━━━━━━━━━━━━━━━━━━━━\u001b[0m\u001b[37m\u001b[0m \u001b[1m1s\u001b[0m 4ms/step\n",
      "Epoch 1/5\n",
      "\u001b[1m1250/1250\u001b[0m \u001b[32m━━━━━━━━━━━━━━━━━━━━\u001b[0m\u001b[37m\u001b[0m \u001b[1m39s\u001b[0m 28ms/step - accuracy: 0.7071 - loss: 0.5248 - precision_26: 0.6783 - recall_26: 0.7710 - val_accuracy: 0.8621 - val_loss: 0.3379 - val_precision_26: 0.9215 - val_recall_26: 0.7917\n",
      "Epoch 2/5\n",
      "\u001b[1m1250/1250\u001b[0m \u001b[32m━━━━━━━━━━━━━━━━━━━━\u001b[0m\u001b[37m\u001b[0m \u001b[1m31s\u001b[0m 25ms/step - accuracy: 0.8402 - loss: 0.3680 - precision_26: 0.8260 - recall_26: 0.8642 - val_accuracy: 0.8885 - val_loss: 0.2709 - val_precision_26: 0.9037 - val_recall_26: 0.8696\n",
      "Epoch 3/5\n",
      "\u001b[1m1250/1250\u001b[0m \u001b[32m━━━━━━━━━━━━━━━━━━━━\u001b[0m\u001b[37m\u001b[0m \u001b[1m30s\u001b[0m 24ms/step - accuracy: 0.8780 - loss: 0.3036 - precision_26: 0.8601 - recall_26: 0.9036 - val_accuracy: 0.9092 - val_loss: 0.2208 - val_precision_26: 0.8737 - val_recall_26: 0.9567\n",
      "Epoch 4/5\n",
      "\u001b[1m1250/1250\u001b[0m \u001b[32m━━━━━━━━━━━━━━━━━━━━\u001b[0m\u001b[37m\u001b[0m \u001b[1m31s\u001b[0m 25ms/step - accuracy: 0.8916 - loss: 0.2671 - precision_26: 0.8708 - recall_26: 0.9182 - val_accuracy: 0.9087 - val_loss: 0.2333 - val_precision_26: 0.9262 - val_recall_26: 0.8881\n",
      "Epoch 5/5\n",
      "\u001b[1m1250/1250\u001b[0m \u001b[32m━━━━━━━━━━━━━━━━━━━━\u001b[0m\u001b[37m\u001b[0m \u001b[1m32s\u001b[0m 26ms/step - accuracy: 0.9039 - loss: 0.2453 - precision_26: 0.8824 - recall_26: 0.9316 - val_accuracy: 0.9381 - val_loss: 0.1610 - val_precision_26: 0.9382 - val_recall_26: 0.9379\n",
      "\u001b[1m313/313\u001b[0m \u001b[32m━━━━━━━━━━━━━━━━━━━━\u001b[0m\u001b[37m\u001b[0m \u001b[1m2s\u001b[0m 6ms/step\n",
      "Epoch 1/5\n",
      "\u001b[1m1250/1250\u001b[0m \u001b[32m━━━━━━━━━━━━━━━━━━━━\u001b[0m\u001b[37m\u001b[0m \u001b[1m35s\u001b[0m 27ms/step - accuracy: 0.7859 - loss: 0.4463 - precision_27: 0.7763 - recall_27: 0.8032 - val_accuracy: 0.8833 - val_loss: 0.2809 - val_precision_27: 0.9450 - val_recall_27: 0.8140\n",
      "Epoch 2/5\n",
      "\u001b[1m1250/1250\u001b[0m \u001b[32m━━━━━━━━━━━━━━━━━━━━\u001b[0m\u001b[37m\u001b[0m \u001b[1m32s\u001b[0m 26ms/step - accuracy: 0.8927 - loss: 0.2644 - precision_27: 0.8920 - recall_27: 0.8932 - val_accuracy: 0.8998 - val_loss: 0.2403 - val_precision_27: 0.8517 - val_recall_27: 0.9681\n",
      "Epoch 3/5\n",
      "\u001b[1m1250/1250\u001b[0m \u001b[32m━━━━━━━━━━━━━━━━━━━━\u001b[0m\u001b[37m\u001b[0m \u001b[1m32s\u001b[0m 25ms/step - accuracy: 0.9151 - loss: 0.2149 - precision_27: 0.9144 - recall_27: 0.9157 - val_accuracy: 0.9350 - val_loss: 0.1672 - val_precision_27: 0.9184 - val_recall_27: 0.9548\n",
      "Epoch 4/5\n",
      "\u001b[1m1250/1250\u001b[0m \u001b[32m━━━━━━━━━━━━━━━━━━━━\u001b[0m\u001b[37m\u001b[0m \u001b[1m32s\u001b[0m 26ms/step - accuracy: 0.9295 - loss: 0.1814 - precision_27: 0.9289 - recall_27: 0.9300 - val_accuracy: 0.9402 - val_loss: 0.1554 - val_precision_27: 0.9360 - val_recall_27: 0.9450\n",
      "Epoch 5/5\n",
      "\u001b[1m1250/1250\u001b[0m \u001b[32m━━━━━━━━━━━━━━━━━━━━\u001b[0m\u001b[37m\u001b[0m \u001b[1m32s\u001b[0m 25ms/step - accuracy: 0.9356 - loss: 0.1692 - precision_27: 0.9351 - recall_27: 0.9358 - val_accuracy: 0.9481 - val_loss: 0.1350 - val_precision_27: 0.9448 - val_recall_27: 0.9518\n",
      "\u001b[1m313/313\u001b[0m \u001b[32m━━━━━━━━━━━━━━━━━━━━\u001b[0m\u001b[37m\u001b[0m \u001b[1m2s\u001b[0m 5ms/step\n",
      "Epoch 1/5\n",
      "\u001b[1m1250/1250\u001b[0m \u001b[32m━━━━━━━━━━━━━━━━━━━━\u001b[0m\u001b[37m\u001b[0m \u001b[1m35s\u001b[0m 27ms/step - accuracy: 0.7688 - loss: 0.4676 - precision_28: 0.7601 - recall_28: 0.7862 - val_accuracy: 0.8853 - val_loss: 0.2844 - val_precision_28: 0.9124 - val_recall_28: 0.8524\n",
      "Epoch 2/5\n",
      "\u001b[1m1250/1250\u001b[0m \u001b[32m━━━━━━━━━━━━━━━━━━━━\u001b[0m\u001b[37m\u001b[0m \u001b[1m32s\u001b[0m 26ms/step - accuracy: 0.8836 - loss: 0.2871 - precision_28: 0.8813 - recall_28: 0.8865 - val_accuracy: 0.9151 - val_loss: 0.2118 - val_precision_28: 0.8925 - val_recall_28: 0.9438\n",
      "Epoch 3/5\n",
      "\u001b[1m1250/1250\u001b[0m \u001b[32m━━━━━━━━━━━━━━━━━━━━\u001b[0m\u001b[37m\u001b[0m \u001b[1m32s\u001b[0m 26ms/step - accuracy: 0.9100 - loss: 0.2295 - precision_28: 0.9089 - recall_28: 0.9123 - val_accuracy: 0.9319 - val_loss: 0.1732 - val_precision_28: 0.9418 - val_recall_28: 0.9208\n",
      "Epoch 4/5\n",
      "\u001b[1m1250/1250\u001b[0m \u001b[32m━━━━━━━━━━━━━━━━━━━━\u001b[0m\u001b[37m\u001b[0m \u001b[1m32s\u001b[0m 26ms/step - accuracy: 0.9211 - loss: 0.2037 - precision_28: 0.9197 - recall_28: 0.9238 - val_accuracy: 0.9408 - val_loss: 0.1505 - val_precision_28: 0.9449 - val_recall_28: 0.9362\n",
      "Epoch 5/5\n",
      "\u001b[1m1250/1250\u001b[0m \u001b[32m━━━━━━━━━━━━━━━━━━━━\u001b[0m\u001b[37m\u001b[0m \u001b[1m32s\u001b[0m 26ms/step - accuracy: 0.9269 - loss: 0.1857 - precision_28: 0.9226 - recall_28: 0.9314 - val_accuracy: 0.9461 - val_loss: 0.1361 - val_precision_28: 0.9345 - val_recall_28: 0.9595\n",
      "\u001b[1m313/313\u001b[0m \u001b[32m━━━━━━━━━━━━━━━━━━━━\u001b[0m\u001b[37m\u001b[0m \u001b[1m2s\u001b[0m 5ms/step\n",
      "Epoch 1/5\n",
      "\u001b[1m1250/1250\u001b[0m \u001b[32m━━━━━━━━━━━━━━━━━━━━\u001b[0m\u001b[37m\u001b[0m \u001b[1m34s\u001b[0m 26ms/step - accuracy: 0.7584 - loss: 0.4893 - precision_29: 0.7537 - recall_29: 0.7739 - val_accuracy: 0.8772 - val_loss: 0.2984 - val_precision_29: 0.8941 - val_recall_29: 0.8557\n",
      "Epoch 2/5\n",
      "\u001b[1m1250/1250\u001b[0m \u001b[32m━━━━━━━━━━━━━━━━━━━━\u001b[0m\u001b[37m\u001b[0m \u001b[1m32s\u001b[0m 25ms/step - accuracy: 0.8722 - loss: 0.3157 - precision_29: 0.8712 - recall_29: 0.8733 - val_accuracy: 0.8949 - val_loss: 0.2596 - val_precision_29: 0.8586 - val_recall_29: 0.9455\n",
      "Epoch 3/5\n",
      "\u001b[1m1250/1250\u001b[0m \u001b[32m━━━━━━━━━━━━━━━━━━━━\u001b[0m\u001b[37m\u001b[0m \u001b[1m32s\u001b[0m 26ms/step - accuracy: 0.8962 - loss: 0.2629 - precision_29: 0.8921 - recall_29: 0.9020 - val_accuracy: 0.9065 - val_loss: 0.2303 - val_precision_29: 0.8642 - val_recall_29: 0.9645\n",
      "Epoch 4/5\n",
      "\u001b[1m1250/1250\u001b[0m \u001b[32m━━━━━━━━━━━━━━━━━━━━\u001b[0m\u001b[37m\u001b[0m \u001b[1m32s\u001b[0m 26ms/step - accuracy: 0.9101 - loss: 0.2341 - precision_29: 0.9045 - recall_29: 0.9168 - val_accuracy: 0.9248 - val_loss: 0.1927 - val_precision_29: 0.9567 - val_recall_29: 0.8898\n",
      "Epoch 5/5\n",
      "\u001b[1m1250/1250\u001b[0m \u001b[32m━━━━━━━━━━━━━━━━━━━━\u001b[0m\u001b[37m\u001b[0m \u001b[1m32s\u001b[0m 26ms/step - accuracy: 0.9172 - loss: 0.2122 - precision_29: 0.9083 - recall_29: 0.9285 - val_accuracy: 0.9393 - val_loss: 0.1570 - val_precision_29: 0.9448 - val_recall_29: 0.9332\n",
      "\u001b[1m313/313\u001b[0m \u001b[32m━━━━━━━━━━━━━━━━━━━━\u001b[0m\u001b[37m\u001b[0m \u001b[1m2s\u001b[0m 5ms/step\n",
      "Epoch 1/5\n",
      "\u001b[1m1250/1250\u001b[0m \u001b[32m━━━━━━━━━━━━━━━━━━━━\u001b[0m\u001b[37m\u001b[0m \u001b[1m34s\u001b[0m 26ms/step - accuracy: 0.7691 - loss: 0.5295 - precision_30: 0.7839 - recall_30: 0.7310 - val_accuracy: 0.8852 - val_loss: 0.2872 - val_precision_30: 0.8610 - val_recall_30: 0.9186\n",
      "Epoch 2/5\n",
      "\u001b[1m1250/1250\u001b[0m \u001b[32m━━━━━━━━━━━━━━━━━━━━\u001b[0m\u001b[37m\u001b[0m \u001b[1m32s\u001b[0m 26ms/step - accuracy: 0.8832 - loss: 0.3027 - precision_30: 0.8734 - recall_30: 0.8956 - val_accuracy: 0.9000 - val_loss: 0.2502 - val_precision_30: 0.9469 - val_recall_30: 0.8476\n",
      "Epoch 3/5\n",
      "\u001b[1m1250/1250\u001b[0m \u001b[32m━━━━━━━━━━━━━━━━━━━━\u001b[0m\u001b[37m\u001b[0m \u001b[1m32s\u001b[0m 25ms/step - accuracy: 0.9087 - loss: 0.2441 - precision_30: 0.9007 - recall_30: 0.9180 - val_accuracy: 0.9241 - val_loss: 0.1986 - val_precision_30: 0.9489 - val_recall_30: 0.8966\n",
      "Epoch 4/5\n",
      "\u001b[1m1250/1250\u001b[0m \u001b[32m━━━━━━━━━━━━━━━━━━━━\u001b[0m\u001b[37m\u001b[0m \u001b[1m32s\u001b[0m 25ms/step - accuracy: 0.9190 - loss: 0.2125 - precision_30: 0.9100 - recall_30: 0.9299 - val_accuracy: 0.9380 - val_loss: 0.1632 - val_precision_30: 0.9385 - val_recall_30: 0.9375\n",
      "Epoch 5/5\n",
      "\u001b[1m1250/1250\u001b[0m \u001b[32m━━━━━━━━━━━━━━━━━━━━\u001b[0m\u001b[37m\u001b[0m \u001b[1m32s\u001b[0m 26ms/step - accuracy: 0.9291 - loss: 0.1882 - precision_30: 0.9190 - recall_30: 0.9414 - val_accuracy: 0.9365 - val_loss: 0.1598 - val_precision_30: 0.9195 - val_recall_30: 0.9568\n",
      "\u001b[1m313/313\u001b[0m \u001b[32m━━━━━━━━━━━━━━━━━━━━\u001b[0m\u001b[37m\u001b[0m \u001b[1m2s\u001b[0m 6ms/step\n",
      "Epoch 1/5\n",
      "\u001b[1m1250/1250\u001b[0m \u001b[32m━━━━━━━━━━━━━━━━━━━━\u001b[0m\u001b[37m\u001b[0m \u001b[1m41s\u001b[0m 29ms/step - accuracy: 0.7269 - loss: 0.5643 - precision_31: 0.7045 - recall_31: 0.7699 - val_accuracy: 0.8570 - val_loss: 0.3896 - val_precision_31: 0.8221 - val_recall_31: 0.9112\n",
      "Epoch 2/5\n",
      "\u001b[1m1250/1250\u001b[0m \u001b[32m━━━━━━━━━━━━━━━━━━━━\u001b[0m\u001b[37m\u001b[0m \u001b[1m34s\u001b[0m 27ms/step - accuracy: 0.8549 - loss: 0.3856 - precision_31: 0.8249 - recall_31: 0.8995 - val_accuracy: 0.9034 - val_loss: 0.2826 - val_precision_31: 0.8785 - val_recall_31: 0.9363\n",
      "Epoch 3/5\n",
      "\u001b[1m1250/1250\u001b[0m \u001b[32m━━━━━━━━━━━━━━━━━━━━\u001b[0m\u001b[37m\u001b[0m \u001b[1m32s\u001b[0m 26ms/step - accuracy: 0.8876 - loss: 0.3056 - precision_31: 0.8620 - recall_31: 0.9222 - val_accuracy: 0.9214 - val_loss: 0.2313 - val_precision_31: 0.9249 - val_recall_31: 0.9173\n",
      "Epoch 4/5\n",
      "\u001b[1m1250/1250\u001b[0m \u001b[32m━━━━━━━━━━━━━━━━━━━━\u001b[0m\u001b[37m\u001b[0m \u001b[1m34s\u001b[0m 27ms/step - accuracy: 0.9064 - loss: 0.2530 - precision_31: 0.8849 - recall_31: 0.9339 - val_accuracy: 0.9341 - val_loss: 0.1912 - val_precision_31: 0.9214 - val_recall_31: 0.9492\n",
      "Epoch 5/5\n",
      "\u001b[1m1250/1250\u001b[0m \u001b[32m━━━━━━━━━━━━━━━━━━━━\u001b[0m\u001b[37m\u001b[0m \u001b[1m34s\u001b[0m 27ms/step - accuracy: 0.9164 - loss: 0.2194 - precision_31: 0.8971 - recall_31: 0.9405 - val_accuracy: 0.9371 - val_loss: 0.1630 - val_precision_31: 0.9244 - val_recall_31: 0.9520\n",
      "\u001b[1m313/313\u001b[0m \u001b[32m━━━━━━━━━━━━━━━━━━━━\u001b[0m\u001b[37m\u001b[0m \u001b[1m2s\u001b[0m 5ms/step\n",
      "Epoch 1/5\n",
      "\u001b[1m1250/1250\u001b[0m \u001b[32m━━━━━━━━━━━━━━━━━━━━\u001b[0m\u001b[37m\u001b[0m \u001b[1m37s\u001b[0m 28ms/step - accuracy: 0.7857 - loss: 0.4487 - precision_32: 0.7774 - recall_32: 0.7988 - val_accuracy: 0.8936 - val_loss: 0.2572 - val_precision_32: 0.8656 - val_recall_32: 0.9318\n",
      "Epoch 2/5\n",
      "\u001b[1m1250/1250\u001b[0m \u001b[32m━━━━━━━━━━━━━━━━━━━━\u001b[0m\u001b[37m\u001b[0m \u001b[1m34s\u001b[0m 27ms/step - accuracy: 0.8911 - loss: 0.2678 - precision_32: 0.8926 - recall_32: 0.8898 - val_accuracy: 0.9130 - val_loss: 0.2176 - val_precision_32: 0.9631 - val_recall_32: 0.8588\n",
      "Epoch 3/5\n",
      "\u001b[1m1250/1250\u001b[0m \u001b[32m━━━━━━━━━━━━━━━━━━━━\u001b[0m\u001b[37m\u001b[0m \u001b[1m34s\u001b[0m 27ms/step - accuracy: 0.9182 - loss: 0.2095 - precision_32: 0.9186 - recall_32: 0.9181 - val_accuracy: 0.9341 - val_loss: 0.1701 - val_precision_32: 0.9574 - val_recall_32: 0.9086\n",
      "Epoch 4/5\n",
      "\u001b[1m1250/1250\u001b[0m \u001b[32m━━━━━━━━━━━━━━━━━━━━\u001b[0m\u001b[37m\u001b[0m \u001b[1m35s\u001b[0m 28ms/step - accuracy: 0.9279 - loss: 0.1838 - precision_32: 0.9286 - recall_32: 0.9272 - val_accuracy: 0.9452 - val_loss: 0.1422 - val_precision_32: 0.9319 - val_recall_32: 0.9606\n",
      "Epoch 5/5\n",
      "\u001b[1m1250/1250\u001b[0m \u001b[32m━━━━━━━━━━━━━━━━━━━━\u001b[0m\u001b[37m\u001b[0m \u001b[1m34s\u001b[0m 27ms/step - accuracy: 0.9376 - loss: 0.1637 - precision_32: 0.9359 - recall_32: 0.9395 - val_accuracy: 0.9528 - val_loss: 0.1273 - val_precision_32: 0.9535 - val_recall_32: 0.9520\n",
      "\u001b[1m313/313\u001b[0m \u001b[32m━━━━━━━━━━━━━━━━━━━━\u001b[0m\u001b[37m\u001b[0m \u001b[1m2s\u001b[0m 5ms/step\n",
      "Epoch 1/5\n",
      "\u001b[1m1250/1250\u001b[0m \u001b[32m━━━━━━━━━━━━━━━━━━━━\u001b[0m\u001b[37m\u001b[0m \u001b[1m38s\u001b[0m 29ms/step - accuracy: 0.7762 - loss: 0.4668 - precision_33: 0.7787 - recall_33: 0.7704 - val_accuracy: 0.8939 - val_loss: 0.2638 - val_precision_33: 0.8924 - val_recall_33: 0.8958\n",
      "Epoch 2/5\n",
      "\u001b[1m1250/1250\u001b[0m \u001b[32m━━━━━━━━━━━━━━━━━━━━\u001b[0m\u001b[37m\u001b[0m \u001b[1m38s\u001b[0m 27ms/step - accuracy: 0.8859 - loss: 0.2974 - precision_33: 0.8832 - recall_33: 0.8907 - val_accuracy: 0.9114 - val_loss: 0.2211 - val_precision_33: 0.9035 - val_recall_33: 0.9213\n",
      "Epoch 3/5\n",
      "\u001b[1m1250/1250\u001b[0m \u001b[32m━━━━━━━━━━━━━━━━━━━━\u001b[0m\u001b[37m\u001b[0m \u001b[1m34s\u001b[0m 27ms/step - accuracy: 0.9078 - loss: 0.2479 - precision_33: 0.9005 - recall_33: 0.9182 - val_accuracy: 0.9303 - val_loss: 0.1840 - val_precision_33: 0.9171 - val_recall_33: 0.9461\n",
      "Epoch 4/5\n",
      "\u001b[1m1250/1250\u001b[0m \u001b[32m━━━━━━━━━━━━━━━━━━━━\u001b[0m\u001b[37m\u001b[0m \u001b[1m34s\u001b[0m 27ms/step - accuracy: 0.9213 - loss: 0.2119 - precision_33: 0.9108 - recall_33: 0.9341 - val_accuracy: 0.9299 - val_loss: 0.1756 - val_precision_33: 0.9046 - val_recall_33: 0.9611\n",
      "Epoch 5/5\n",
      "\u001b[1m1250/1250\u001b[0m \u001b[32m━━━━━━━━━━━━━━━━━━━━\u001b[0m\u001b[37m\u001b[0m \u001b[1m34s\u001b[0m 27ms/step - accuracy: 0.9302 - loss: 0.1884 - precision_33: 0.9218 - recall_33: 0.9397 - val_accuracy: 0.9332 - val_loss: 0.1864 - val_precision_33: 0.9656 - val_recall_33: 0.8985\n",
      "\u001b[1m313/313\u001b[0m \u001b[32m━━━━━━━━━━━━━━━━━━━━\u001b[0m\u001b[37m\u001b[0m \u001b[1m2s\u001b[0m 5ms/step\n",
      "Epoch 1/5\n",
      "\u001b[1m1250/1250\u001b[0m \u001b[32m━━━━━━━━━━━━━━━━━━━━\u001b[0m\u001b[37m\u001b[0m \u001b[1m37s\u001b[0m 28ms/step - accuracy: 0.7829 - loss: 0.4508 - precision_34: 0.7840 - recall_34: 0.7711 - val_accuracy: 0.8804 - val_loss: 0.2830 - val_precision_34: 0.9384 - val_recall_34: 0.8143\n",
      "Epoch 2/5\n",
      "\u001b[1m1250/1250\u001b[0m \u001b[32m━━━━━━━━━━━━━━━━━━━━\u001b[0m\u001b[37m\u001b[0m \u001b[1m34s\u001b[0m 27ms/step - accuracy: 0.8926 - loss: 0.2656 - precision_34: 0.8945 - recall_34: 0.8898 - val_accuracy: 0.8811 - val_loss: 0.2788 - val_precision_34: 0.8186 - val_recall_34: 0.9794\n",
      "Epoch 3/5\n",
      "\u001b[1m1250/1250\u001b[0m \u001b[32m━━━━━━━━━━━━━━━━━━━━\u001b[0m\u001b[37m\u001b[0m \u001b[1m34s\u001b[0m 27ms/step - accuracy: 0.9140 - loss: 0.2243 - precision_34: 0.9126 - recall_34: 0.9161 - val_accuracy: 0.9234 - val_loss: 0.1912 - val_precision_34: 0.8924 - val_recall_34: 0.9629\n",
      "Epoch 4/5\n",
      "\u001b[1m1250/1250\u001b[0m \u001b[32m━━━━━━━━━━━━━━━━━━━━\u001b[0m\u001b[37m\u001b[0m \u001b[1m34s\u001b[0m 27ms/step - accuracy: 0.9259 - loss: 0.1913 - precision_34: 0.9260 - recall_34: 0.9263 - val_accuracy: 0.9351 - val_loss: 0.1648 - val_precision_34: 0.9094 - val_recall_34: 0.9664\n",
      "Epoch 5/5\n",
      "\u001b[1m1250/1250\u001b[0m \u001b[32m━━━━━━━━━━━━━━━━━━━━\u001b[0m\u001b[37m\u001b[0m \u001b[1m34s\u001b[0m 27ms/step - accuracy: 0.9331 - loss: 0.1733 - precision_34: 0.9304 - recall_34: 0.9361 - val_accuracy: 0.9299 - val_loss: 0.1746 - val_precision_34: 0.9730 - val_recall_34: 0.8843\n",
      "\u001b[1m313/313\u001b[0m \u001b[32m━━━━━━━━━━━━━━━━━━━━\u001b[0m\u001b[37m\u001b[0m \u001b[1m2s\u001b[0m 5ms/step\n",
      "Epoch 1/5\n",
      "\u001b[1m1250/1250\u001b[0m \u001b[32m━━━━━━━━━━━━━━━━━━━━\u001b[0m\u001b[37m\u001b[0m \u001b[1m37s\u001b[0m 28ms/step - accuracy: 0.7772 - loss: 0.4546 - precision_35: 0.7722 - recall_35: 0.7862 - val_accuracy: 0.8730 - val_loss: 0.2930 - val_precision_35: 0.9423 - val_recall_35: 0.7947\n",
      "Epoch 2/5\n",
      "\u001b[1m1250/1250\u001b[0m \u001b[32m━━━━━━━━━━━━━━━━━━━━\u001b[0m\u001b[37m\u001b[0m \u001b[1m41s\u001b[0m 33ms/step - accuracy: 0.8930 - loss: 0.2669 - precision_35: 0.8928 - recall_35: 0.8929 - val_accuracy: 0.9099 - val_loss: 0.2229 - val_precision_35: 0.9340 - val_recall_35: 0.8822\n",
      "Epoch 3/5\n",
      "\u001b[1m1250/1250\u001b[0m \u001b[32m━━━━━━━━━━━━━━━━━━━━\u001b[0m\u001b[37m\u001b[0m \u001b[1m46s\u001b[0m 37ms/step - accuracy: 0.9109 - loss: 0.2304 - precision_35: 0.9110 - recall_35: 0.9120 - val_accuracy: 0.9311 - val_loss: 0.1779 - val_precision_35: 0.9312 - val_recall_35: 0.9309\n",
      "Epoch 4/5\n",
      "\u001b[1m1250/1250\u001b[0m \u001b[32m━━━━━━━━━━━━━━━━━━━━\u001b[0m\u001b[37m\u001b[0m \u001b[1m44s\u001b[0m 35ms/step - accuracy: 0.9275 - loss: 0.1891 - precision_35: 0.9259 - recall_35: 0.9283 - val_accuracy: 0.9421 - val_loss: 0.1475 - val_precision_35: 0.9325 - val_recall_35: 0.9531\n",
      "Epoch 5/5\n",
      "\u001b[1m1250/1250\u001b[0m \u001b[32m━━━━━━━━━━━━━━━━━━━━\u001b[0m\u001b[37m\u001b[0m \u001b[1m45s\u001b[0m 36ms/step - accuracy: 0.9353 - loss: 0.1714 - precision_35: 0.9334 - recall_35: 0.9377 - val_accuracy: 0.9350 - val_loss: 0.1720 - val_precision_35: 0.8989 - val_recall_35: 0.9803\n",
      "\u001b[1m313/313\u001b[0m \u001b[32m━━━━━━━━━━━━━━━━━━━━\u001b[0m\u001b[37m\u001b[0m \u001b[1m2s\u001b[0m 6ms/step\n",
      "Epoch 1/5\n",
      "\u001b[1m1250/1250\u001b[0m \u001b[32m━━━━━━━━━━━━━━━━━━━━\u001b[0m\u001b[37m\u001b[0m \u001b[1m59s\u001b[0m 42ms/step - accuracy: 0.7659 - loss: 0.4787 - precision_36: 0.7673 - recall_36: 0.7485 - val_accuracy: 0.8451 - val_loss: 0.3524 - val_precision_36: 0.9615 - val_recall_36: 0.7189\n",
      "Epoch 2/5\n",
      "\u001b[1m1250/1250\u001b[0m \u001b[32m━━━━━━━━━━━━━━━━━━━━\u001b[0m\u001b[37m\u001b[0m \u001b[1m50s\u001b[0m 40ms/step - accuracy: 0.8886 - loss: 0.2743 - precision_36: 0.8891 - recall_36: 0.8879 - val_accuracy: 0.9216 - val_loss: 0.1992 - val_precision_36: 0.9174 - val_recall_36: 0.9268\n",
      "Epoch 3/5\n",
      "\u001b[1m1250/1250\u001b[0m \u001b[32m━━━━━━━━━━━━━━━━━━━━\u001b[0m\u001b[37m\u001b[0m \u001b[1m51s\u001b[0m 40ms/step - accuracy: 0.9118 - loss: 0.2253 - precision_36: 0.9105 - recall_36: 0.9133 - val_accuracy: 0.9314 - val_loss: 0.1824 - val_precision_36: 0.9143 - val_recall_36: 0.9521\n",
      "Epoch 4/5\n",
      "\u001b[1m1250/1250\u001b[0m \u001b[32m━━━━━━━━━━━━━━━━━━━━\u001b[0m\u001b[37m\u001b[0m \u001b[1m49s\u001b[0m 39ms/step - accuracy: 0.9233 - loss: 0.1969 - precision_36: 0.9223 - recall_36: 0.9238 - val_accuracy: 0.9388 - val_loss: 0.1585 - val_precision_36: 0.9487 - val_recall_36: 0.9278\n",
      "Epoch 5/5\n",
      "\u001b[1m1250/1250\u001b[0m \u001b[32m━━━━━━━━━━━━━━━━━━━━\u001b[0m\u001b[37m\u001b[0m \u001b[1m49s\u001b[0m 39ms/step - accuracy: 0.9315 - loss: 0.1786 - precision_36: 0.9302 - recall_36: 0.9347 - val_accuracy: 0.9431 - val_loss: 0.1465 - val_precision_36: 0.9601 - val_recall_36: 0.9247\n",
      "\u001b[1m313/313\u001b[0m \u001b[32m━━━━━━━━━━━━━━━━━━━━\u001b[0m\u001b[37m\u001b[0m \u001b[1m2s\u001b[0m 7ms/step\n",
      "Epoch 1/5\n",
      "\u001b[1m1250/1250\u001b[0m \u001b[32m━━━━━━━━━━━━━━━━━━━━\u001b[0m\u001b[37m\u001b[0m \u001b[1m52s\u001b[0m 40ms/step - accuracy: 0.7792 - loss: 0.4515 - precision_37: 0.7862 - recall_37: 0.7640 - val_accuracy: 0.8902 - val_loss: 0.2603 - val_precision_37: 0.8481 - val_recall_37: 0.9506\n",
      "Epoch 2/5\n",
      "\u001b[1m1250/1250\u001b[0m \u001b[32m━━━━━━━━━━━━━━━━━━━━\u001b[0m\u001b[37m\u001b[0m \u001b[1m51s\u001b[0m 41ms/step - accuracy: 0.9008 - loss: 0.2492 - precision_37: 0.8970 - recall_37: 0.9058 - val_accuracy: 0.9149 - val_loss: 0.2111 - val_precision_37: 0.8872 - val_recall_37: 0.9506\n",
      "Epoch 3/5\n",
      "\u001b[1m1250/1250\u001b[0m \u001b[32m━━━━━━━━━━━━━━━━━━━━\u001b[0m\u001b[37m\u001b[0m \u001b[1m50s\u001b[0m 40ms/step - accuracy: 0.9193 - loss: 0.2060 - precision_37: 0.9174 - recall_37: 0.9214 - val_accuracy: 0.9372 - val_loss: 0.1581 - val_precision_37: 0.9493 - val_recall_37: 0.9237\n",
      "Epoch 4/5\n",
      "\u001b[1m1250/1250\u001b[0m \u001b[32m━━━━━━━━━━━━━━━━━━━━\u001b[0m\u001b[37m\u001b[0m \u001b[1m49s\u001b[0m 39ms/step - accuracy: 0.9318 - loss: 0.1753 - precision_37: 0.9311 - recall_37: 0.9325 - val_accuracy: 0.9393 - val_loss: 0.1553 - val_precision_37: 0.9699 - val_recall_37: 0.9067\n",
      "Epoch 5/5\n",
      "\u001b[1m1250/1250\u001b[0m \u001b[32m━━━━━━━━━━━━━━━━━━━━\u001b[0m\u001b[37m\u001b[0m \u001b[1m35s\u001b[0m 28ms/step - accuracy: 0.9393 - loss: 0.1561 - precision_37: 0.9380 - recall_37: 0.9416 - val_accuracy: 0.9459 - val_loss: 0.1380 - val_precision_37: 0.9328 - val_recall_37: 0.9611\n",
      "\u001b[1m313/313\u001b[0m \u001b[32m━━━━━━━━━━━━━━━━━━━━\u001b[0m\u001b[37m\u001b[0m \u001b[1m2s\u001b[0m 5ms/step\n",
      "Epoch 1/5\n",
      "\u001b[1m1250/1250\u001b[0m \u001b[32m━━━━━━━━━━━━━━━━━━━━\u001b[0m\u001b[37m\u001b[0m \u001b[1m36s\u001b[0m 27ms/step - accuracy: 0.7442 - loss: 0.4925 - precision_38: 0.7393 - recall_38: 0.7520 - val_accuracy: 0.8782 - val_loss: 0.3066 - val_precision_38: 0.8479 - val_recall_38: 0.9218\n",
      "Epoch 2/5\n",
      "\u001b[1m1250/1250\u001b[0m \u001b[32m━━━━━━━━━━━━━━━━━━━━\u001b[0m\u001b[37m\u001b[0m \u001b[1m33s\u001b[0m 27ms/step - accuracy: 0.8716 - loss: 0.3319 - precision_38: 0.8655 - recall_38: 0.8804 - val_accuracy: 0.8776 - val_loss: 0.2779 - val_precision_38: 0.8225 - val_recall_38: 0.9631\n",
      "Epoch 3/5\n",
      "\u001b[1m1250/1250\u001b[0m \u001b[32m━━━━━━━━━━━━━━━━━━━━\u001b[0m\u001b[37m\u001b[0m \u001b[1m33s\u001b[0m 27ms/step - accuracy: 0.8981 - loss: 0.2722 - precision_38: 0.8889 - recall_38: 0.9094 - val_accuracy: 0.9038 - val_loss: 0.2277 - val_precision_38: 0.8542 - val_recall_38: 0.9738\n",
      "Epoch 4/5\n",
      "\u001b[1m1250/1250\u001b[0m \u001b[32m━━━━━━━━━━━━━━━━━━━━\u001b[0m\u001b[37m\u001b[0m \u001b[1m33s\u001b[0m 27ms/step - accuracy: 0.9136 - loss: 0.2308 - precision_38: 0.9037 - recall_38: 0.9262 - val_accuracy: 0.9338 - val_loss: 0.1725 - val_precision_38: 0.9434 - val_recall_38: 0.9229\n",
      "Epoch 5/5\n",
      "\u001b[1m1250/1250\u001b[0m \u001b[32m━━━━━━━━━━━━━━━━━━━━\u001b[0m\u001b[37m\u001b[0m \u001b[1m33s\u001b[0m 27ms/step - accuracy: 0.9224 - loss: 0.2082 - precision_38: 0.9108 - recall_38: 0.9371 - val_accuracy: 0.9354 - val_loss: 0.1622 - val_precision_38: 0.9157 - val_recall_38: 0.9591\n",
      "\u001b[1m313/313\u001b[0m \u001b[32m━━━━━━━━━━━━━━━━━━━━\u001b[0m\u001b[37m\u001b[0m \u001b[1m2s\u001b[0m 5ms/step\n",
      "Epoch 1/5\n",
      "\u001b[1m1250/1250\u001b[0m \u001b[32m━━━━━━━━━━━━━━━━━━━━\u001b[0m\u001b[37m\u001b[0m \u001b[1m36s\u001b[0m 28ms/step - accuracy: 0.7783 - loss: 0.4608 - precision_39: 0.7734 - recall_39: 0.7832 - val_accuracy: 0.8378 - val_loss: 0.3830 - val_precision_39: 0.7677 - val_recall_39: 0.9686\n",
      "Epoch 2/5\n",
      "\u001b[1m1250/1250\u001b[0m \u001b[32m━━━━━━━━━━━━━━━━━━━━\u001b[0m\u001b[37m\u001b[0m \u001b[1m33s\u001b[0m 27ms/step - accuracy: 0.8883 - loss: 0.2769 - precision_39: 0.8868 - recall_39: 0.8899 - val_accuracy: 0.9081 - val_loss: 0.2242 - val_precision_39: 0.9234 - val_recall_39: 0.8900\n",
      "Epoch 3/5\n",
      "\u001b[1m1250/1250\u001b[0m \u001b[32m━━━━━━━━━━━━━━━━━━━━\u001b[0m\u001b[37m\u001b[0m \u001b[1m33s\u001b[0m 27ms/step - accuracy: 0.9106 - loss: 0.2262 - precision_39: 0.9122 - recall_39: 0.9086 - val_accuracy: 0.9312 - val_loss: 0.1723 - val_precision_39: 0.9113 - val_recall_39: 0.9555\n",
      "Epoch 4/5\n",
      "\u001b[1m1250/1250\u001b[0m \u001b[32m━━━━━━━━━━━━━━━━━━━━\u001b[0m\u001b[37m\u001b[0m \u001b[1m33s\u001b[0m 27ms/step - accuracy: 0.9266 - loss: 0.1917 - precision_39: 0.9266 - recall_39: 0.9263 - val_accuracy: 0.9393 - val_loss: 0.1557 - val_precision_39: 0.9282 - val_recall_39: 0.9522\n",
      "Epoch 5/5\n",
      "\u001b[1m1250/1250\u001b[0m \u001b[32m━━━━━━━━━━━━━━━━━━━━\u001b[0m\u001b[37m\u001b[0m \u001b[1m33s\u001b[0m 27ms/step - accuracy: 0.9343 - loss: 0.1679 - precision_39: 0.9352 - recall_39: 0.9340 - val_accuracy: 0.9475 - val_loss: 0.1391 - val_precision_39: 0.9566 - val_recall_39: 0.9376\n",
      "\u001b[1m313/313\u001b[0m \u001b[32m━━━━━━━━━━━━━━━━━━━━\u001b[0m\u001b[37m\u001b[0m \u001b[1m2s\u001b[0m 5ms/step\n",
      "Epoch 1/5\n",
      "\u001b[1m1250/1250\u001b[0m \u001b[32m━━━━━━━━━━━━━━━━━━━━\u001b[0m\u001b[37m\u001b[0m \u001b[1m36s\u001b[0m 28ms/step - accuracy: 0.7633 - loss: 0.4854 - precision_40: 0.7654 - recall_40: 0.7618 - val_accuracy: 0.8718 - val_loss: 0.2990 - val_precision_40: 0.8228 - val_recall_40: 0.9478\n",
      "Epoch 2/5\n",
      "\u001b[1m1250/1250\u001b[0m \u001b[32m━━━━━━━━━━━━━━━━━━━━\u001b[0m\u001b[37m\u001b[0m \u001b[1m33s\u001b[0m 27ms/step - accuracy: 0.8818 - loss: 0.3085 - precision_40: 0.8791 - recall_40: 0.8851 - val_accuracy: 0.9063 - val_loss: 0.2310 - val_precision_40: 0.9313 - val_recall_40: 0.8773\n",
      "Epoch 3/5\n",
      "\u001b[1m1250/1250\u001b[0m \u001b[32m━━━━━━━━━━━━━━━━━━━━\u001b[0m\u001b[37m\u001b[0m \u001b[1m33s\u001b[0m 27ms/step - accuracy: 0.9012 - loss: 0.2589 - precision_40: 0.8909 - recall_40: 0.9134 - val_accuracy: 0.9293 - val_loss: 0.1797 - val_precision_40: 0.9243 - val_recall_40: 0.9351\n",
      "Epoch 4/5\n",
      "\u001b[1m1250/1250\u001b[0m \u001b[32m━━━━━━━━━━━━━━━━━━━━\u001b[0m\u001b[37m\u001b[0m \u001b[1m33s\u001b[0m 27ms/step - accuracy: 0.9150 - loss: 0.2258 - precision_40: 0.9063 - recall_40: 0.9259 - val_accuracy: 0.9282 - val_loss: 0.1845 - val_precision_40: 0.9425 - val_recall_40: 0.9121\n",
      "Epoch 5/5\n",
      "\u001b[1m1250/1250\u001b[0m \u001b[32m━━━━━━━━━━━━━━━━━━━━\u001b[0m\u001b[37m\u001b[0m \u001b[1m34s\u001b[0m 27ms/step - accuracy: 0.9223 - loss: 0.2066 - precision_40: 0.9116 - recall_40: 0.9354 - val_accuracy: 0.9409 - val_loss: 0.1518 - val_precision_40: 0.9502 - val_recall_40: 0.9305\n",
      "\u001b[1m313/313\u001b[0m \u001b[32m━━━━━━━━━━━━━━━━━━━━\u001b[0m\u001b[37m\u001b[0m \u001b[1m2s\u001b[0m 5ms/step\n",
      "Epoch 1/5\n",
      "\u001b[1m1563/1563\u001b[0m \u001b[32m━━━━━━━━━━━━━━━━━━━━\u001b[0m\u001b[37m\u001b[0m \u001b[1m27s\u001b[0m 16ms/step - accuracy: 0.7841 - loss: 0.4524 - precision_41: 0.7801 - recall_41: 0.7925 - val_accuracy: 0.8944 - val_loss: 0.2566 - val_precision_41: 0.8620 - val_recall_41: 0.9392\n",
      "Epoch 2/5\n",
      "\u001b[1m1563/1563\u001b[0m \u001b[32m━━━━━━━━━━━━━━━━━━━━\u001b[0m\u001b[37m\u001b[0m \u001b[1m22s\u001b[0m 14ms/step - accuracy: 0.8880 - loss: 0.2785 - precision_41: 0.8847 - recall_41: 0.8931 - val_accuracy: 0.9206 - val_loss: 0.2080 - val_precision_41: 0.9322 - val_recall_41: 0.9071\n",
      "Epoch 3/5\n",
      "\u001b[1m1563/1563\u001b[0m \u001b[32m━━━━━━━━━━━━━━━━━━━━\u001b[0m\u001b[37m\u001b[0m \u001b[1m23s\u001b[0m 15ms/step - accuracy: 0.9136 - loss: 0.2266 - precision_41: 0.9118 - recall_41: 0.9147 - val_accuracy: 0.9111 - val_loss: 0.2220 - val_precision_41: 0.9686 - val_recall_41: 0.8496\n",
      "Epoch 4/5\n",
      "\u001b[1m1563/1563\u001b[0m \u001b[32m━━━━━━━━━━━━━━━━━━━━\u001b[0m\u001b[37m\u001b[0m \u001b[1m22s\u001b[0m 14ms/step - accuracy: 0.9261 - loss: 0.1960 - precision_41: 0.9239 - recall_41: 0.9287 - val_accuracy: 0.9389 - val_loss: 0.1572 - val_precision_41: 0.9220 - val_recall_41: 0.9588\n",
      "Epoch 5/5\n",
      "\u001b[1m1563/1563\u001b[0m \u001b[32m━━━━━━━━━━━━━━━━━━━━\u001b[0m\u001b[37m\u001b[0m \u001b[1m22s\u001b[0m 14ms/step - accuracy: 0.9327 - loss: 0.1787 - precision_41: 0.9287 - recall_41: 0.9371 - val_accuracy: 0.9507 - val_loss: 0.1277 - val_precision_41: 0.9394 - val_recall_41: 0.9637\n",
      "GridSearch complete. Time elapsed: 1:35:42.979246\n",
      "Best parameters: {'batch_size': 64, 'epochs': 5, 'model__dropout_rate': 0.2, 'model__n_neurons_layer01': 192, 'model__n_neurons_layer02': 192}\n",
      "Best result (R2): 0.933\n"
     ]
    }
   ],
   "source": [
    "history, best_model = train_gridSearch(CNN_model01)"
   ]
  },
  {
   "cell_type": "markdown",
   "metadata": {},
   "source": [
    "#### Visualisation"
   ]
  },
  {
   "cell_type": "code",
   "execution_count": 15,
   "metadata": {},
   "outputs": [],
   "source": [
    "hist = pd.DataFrame(history)\n",
    "cols = hist.columns\n",
    "\n",
    "n = int(cols[-1].split('_')[-1])\n",
    "\n",
    "\n",
    "dict_ = { 'loss' : hist['loss'],\n",
    "         'accuracy' : hist[f'accuracy'],\n",
    "         'precision' : hist[f'precision_{n}'],\n",
    "         'recall' : hist[f'recall_{n}'],\n",
    "         'val_loss' : hist['val_loss'],\n",
    "         'val_accuracy' : hist[f'val_accuracy'],\n",
    "         'val_precision' : hist[f'val_precision_{n}'],\n",
    "         'val_recall' : hist[f'val_recall_{n}']\n",
    "\n",
    "}\n",
    "hist = pd.DataFrame(dict_)"
   ]
  },
  {
   "cell_type": "code",
   "execution_count": 16,
   "metadata": {},
   "outputs": [
    {
     "name": "stdout",
     "output_type": "stream",
     "text": [
      "\u001b[1m1563/1563\u001b[0m \u001b[32m━━━━━━━━━━━━━━━━━━━━\u001b[0m\u001b[37m\u001b[0m \u001b[1m4s\u001b[0m 3ms/step\n"
     ]
    }
   ],
   "source": [
    "fig_metrics = make_subplots(rows=2, cols=2, subplot_titles=(\"Loss\", f\"Accuracy\", \"Recall\", \"Precision\"), vertical_spacing=0.07)\n",
    "\n",
    "fig_metrics.add_trace( go.Scatter(x=list(range(len(hist['loss']))), y=hist['loss'], mode='lines+markers', name='Training Loss'), row=1, col=1 )\n",
    "fig_metrics.add_trace( go.Scatter(x=list(range(len(hist['val_loss']))), y=hist['val_loss'], mode='lines+markers', name='Validation Loss'), row=1, col=1 )\n",
    "\n",
    "fig_metrics.add_trace(  go.Scatter(x=list(range(len(hist['precision']))), y=hist['precision'],  mode='lines+markers', name=f'Training precision'),  row=2, col=2 )\n",
    "fig_metrics.add_trace( go.Scatter(x=list(range(len(hist['val_precision']))), y=hist['val_precision'], mode='lines+markers', name=f'Validation precision'), row=2, col=2)\n",
    "\n",
    "fig_metrics.add_trace(  go.Scatter(x=list(range(len(hist['recall']))), y=hist['recall'],  mode='lines+markers', name=f'Training recall'),  row=2, col=1 )\n",
    "fig_metrics.add_trace( go.Scatter(x=list(range(len(hist['val_recall']))), y=hist['val_recall'], mode='lines+markers', name=f'Validation recall'), row=2, col=1)\n",
    "\n",
    "fig_metrics.add_trace(  go.Scatter(x=list(range(len(hist['accuracy']))), y=hist['accuracy'],  mode='lines+markers', name=f'Training accuracy'),  row=1, col=2 )\n",
    "fig_metrics.add_trace( go.Scatter(x=list(range(len(hist['val_accuracy']))), y=hist['val_accuracy'], mode='lines+markers', name=f'Validation accuracy'), row=1, col=2)\n",
    "\n",
    "\n",
    "# fig.update_xaxes(title_text=\"Epochs\", row=1, col=1)\n",
    "# fig.update_yaxes(title_text=\"Loss\", row=1, col=1)\n",
    "# fig.update_yaxes(title_text=f\"Accuracy\", row=1, col=2)\n",
    "# fig.update_yaxes(title_text=f\"Recall\", row=2, col=1)\n",
    "# fig.update_yaxes(title_text=f\"Precision\", row=2, col=2)\n",
    "\n",
    "fig_metrics.update_layout(\n",
    "    # title_text=\"Training and validation metrics over epochs\",\n",
    "    showlegend=True,\n",
    "    margin=dict(l=10, r=10, b=10, t=30),\n",
    "    width=1400, height=800\n",
    ")\n",
    "\n",
    "for annotation in fig_metrics['layout']['annotations']:\n",
    "    annotation['y'] = annotation['y'] + 0.002\n",
    "\n",
    "\n",
    "\n",
    "# Confusion matrix\n",
    "y_pred = best_model.predict(X_test)\n",
    "y_pred\n",
    "conf_matrix = confusion_matrix(y_test, y_pred)\n",
    "conf_matrix\n",
    "\n",
    "# Generate the confusion matrix\n",
    "cm = confusion_matrix(y_test, y_pred)\n",
    "class_labels = ['FAKE', 'REAL']\n",
    "\n",
    "# Plotly heatmap for confusion matrix\n",
    "fig_confMatrix = go.Figure(data=go.Heatmap(\n",
    "    z=cm,\n",
    "    x= class_labels ,   # Predicted labels\n",
    "    y= class_labels,    # True labels\n",
    "    hoverongaps=False,\n",
    "    colorscale='Blues',\n",
    "    showscale=True,\n",
    "    text=cm,\n",
    "    texttemplate=\"%{text}\",\n",
    "    textfont={\"size\":15}\n",
    "))\n",
    "\n",
    "# Update layout to add labels and title\n",
    "fig_confMatrix.update_layout(\n",
    "    title='Confusion Matrix',\n",
    "    xaxis_title='Predicted Label',\n",
    "    yaxis_title='True Label',\n",
    "    width=600,\n",
    "    height=500,\n",
    ")\n",
    "\n",
    "\n",
    "\n",
    "\n",
    "from sklearn.metrics import roc_curve, auc\n",
    "# Compute ROC curve and ROC AUC\n",
    "fpr, tpr, _ = roc_curve(y_test, y_pred)\n",
    "roc_auc = auc(fpr, tpr)\n",
    "\n",
    "# Plot the ROC curve using Plotly\n",
    "fig_rocauc = go.Figure()\n",
    "\n",
    "# Add the ROC curve\n",
    "fig_rocauc.add_trace(go.Scatter(\n",
    "    x=fpr, y=tpr,\n",
    "    mode='lines',\n",
    "    line=dict(color='blue', width=2),\n",
    "    name=f'ROC curve (AUC = {roc_auc:0.2f})'\n",
    "))\n",
    "\n",
    "# Add the diagonal line (random classifier)\n",
    "fig_rocauc.add_trace(go.Scatter(\n",
    "    x=[0, 1], y=[0, 1],\n",
    "    mode='lines',\n",
    "    line=dict(color='black', dash='dash'),\n",
    "    showlegend=False,\n",
    "    hoverinfo='skip'\n",
    "))\n",
    "\n",
    "# Update layout with axis titles and legend\n",
    "fig_rocauc.update_layout(\n",
    "    title='ROC AUC for Binary Classification',\n",
    "    xaxis_title='False Positive Rate',\n",
    "    yaxis_title='True Positive Rate',\n",
    "    width=700,\n",
    "    height=600,\n",
    "    legend=dict(x=0.6, y=0.1),\n",
    "    margin=dict(l=40, r=40, t=40, b=40),)\n",
    "\n",
    "\n",
    "\n",
    "\n",
    "from sklearn.metrics import classification_report\n",
    "\n",
    "report = classification_report(y_test, y_pred, target_names=class_labels, \n",
    "                               zero_division=False,\n",
    "                               labels = [0, 1])"
   ]
  },
  {
   "cell_type": "code",
   "execution_count": 17,
   "metadata": {},
   "outputs": [
    {
     "data": {
      "application/vnd.plotly.v1+json": {
       "config": {
        "plotlyServerURL": "https://plot.ly"
       },
       "data": [
        {
         "mode": "text",
         "showlegend": false,
         "text": [],
         "type": "scatter",
         "x": [
          0.5
         ],
         "xaxis": "x",
         "y": [
          0.5
         ],
         "yaxis": "y"
        },
        {
         "mode": "text",
         "showlegend": false,
         "text": [
          "Classification report<br>              precision    recall  f1-score   support<br><br>        FAKE       0.96      0.94      0.95     50000<br>        REAL       0.94      0.96      0.95     50000<br><br>    accuracy                           0.95    100000<br>   macro avg       0.95      0.95      0.95    100000<br>weighted avg       0.95      0.95      0.95    100000<br>"
         ],
         "type": "scatter",
         "x": [
          0.5
         ],
         "xaxis": "x2",
         "y": [
          0.5
         ],
         "yaxis": "y2"
        },
        {
         "mode": "lines+markers",
         "name": "Training Loss",
         "type": "scatter",
         "x": [
          0,
          1,
          2,
          3,
          4
         ],
         "xaxis": "x3",
         "y": [
          0.37904229760169983,
          0.2656653821468353,
          0.22152788937091827,
          0.1963110715150833,
          0.17990830540657043
         ],
         "yaxis": "y3"
        },
        {
         "mode": "lines+markers",
         "name": "Validation Loss",
         "type": "scatter",
         "x": [
          0,
          1,
          2,
          3,
          4
         ],
         "xaxis": "x3",
         "y": [
          0.2565684914588928,
          0.20799195766448975,
          0.2220204472541809,
          0.1572127491235733,
          0.1276799738407135
         ],
         "yaxis": "y3"
        },
        {
         "mode": "lines+markers",
         "name": "Training precision",
         "type": "scatter",
         "x": [
          0,
          1,
          2,
          3,
          4
         ],
         "xaxis": "x4",
         "y": [
          0.8327943086624146,
          0.8913935422897339,
          0.9125280380249023,
          0.9228861927986145,
          0.9268152713775635
         ],
         "yaxis": "y4"
        },
        {
         "mode": "lines+markers",
         "name": "Validation precision",
         "type": "scatter",
         "x": [
          0,
          1,
          2,
          3,
          4
         ],
         "xaxis": "x4",
         "y": [
          0.8619942665100098,
          0.9322302341461182,
          0.9686260223388672,
          0.9220132231712341,
          0.9393531680107117
         ],
         "yaxis": "y4"
        },
        {
         "mode": "lines+markers",
         "name": "Training recall",
         "type": "scatter",
         "x": [
          0,
          1,
          2,
          3,
          4
         ],
         "xaxis": "x5",
         "y": [
          0.8394399881362915,
          0.8992199897766113,
          0.9190800189971924,
          0.9303799867630005,
          0.9379000067710876
         ],
         "yaxis": "y5"
        },
        {
         "mode": "lines+markers",
         "name": "Validation recall",
         "type": "scatter",
         "x": [
          0,
          1,
          2,
          3,
          4
         ],
         "xaxis": "x5",
         "y": [
          0.9391599893569946,
          0.9070600271224976,
          0.8496400117874146,
          0.9588199853897095,
          0.9637200236320496
         ],
         "yaxis": "y5"
        },
        {
         "mode": "lines+markers",
         "name": "Training accuracy",
         "type": "scatter",
         "x": [
          0,
          1,
          2,
          3,
          4
         ],
         "xaxis": "x6",
         "y": [
          0.8354499936103821,
          0.8948299884796143,
          0.9154899716377258,
          0.9263200163841248,
          0.9319199919700623
         ],
         "yaxis": "y6"
        },
        {
         "mode": "lines+markers",
         "name": "Validation accuracy",
         "type": "scatter",
         "x": [
          0,
          1,
          2,
          3,
          4
         ],
         "xaxis": "x6",
         "y": [
          0.8944000005722046,
          0.9205600023269653,
          0.9110599756240845,
          0.9388599991798401,
          0.9507499933242798
         ],
         "yaxis": "y6"
        },
        {
         "colorscale": [
          [
           0,
           "rgb(247,251,255)"
          ],
          [
           0.125,
           "rgb(222,235,247)"
          ],
          [
           0.25,
           "rgb(198,219,239)"
          ],
          [
           0.375,
           "rgb(158,202,225)"
          ],
          [
           0.5,
           "rgb(107,174,214)"
          ],
          [
           0.625,
           "rgb(66,146,198)"
          ],
          [
           0.75,
           "rgb(33,113,181)"
          ],
          [
           0.875,
           "rgb(8,81,156)"
          ],
          [
           1,
           "rgb(8,48,107)"
          ]
         ],
         "hoverongaps": false,
         "showscale": true,
         "text": [
          [
           46889,
           3111
          ],
          [
           1814,
           48186
          ]
         ],
         "textfont": {
          "size": 15
         },
         "texttemplate": "%{text}",
         "type": "heatmap",
         "x": [
          "FAKE",
          "REAL"
         ],
         "xaxis": "x7",
         "y": [
          "FAKE",
          "REAL"
         ],
         "yaxis": "y7",
         "z": [
          [
           46889,
           3111
          ],
          [
           1814,
           48186
          ]
         ]
        },
        {
         "line": {
          "color": "blue",
          "width": 2
         },
         "mode": "lines",
         "name": "ROC curve (AUC = 0.95)",
         "type": "scatter",
         "x": [
          0,
          0.06222,
          1
         ],
         "xaxis": "x8",
         "y": [
          0,
          0.96372,
          1
         ],
         "yaxis": "y8"
        },
        {
         "hoverinfo": "skip",
         "line": {
          "color": "black",
          "dash": "dash"
         },
         "mode": "lines",
         "showlegend": false,
         "type": "scatter",
         "x": [
          0,
          1
         ],
         "xaxis": "x8",
         "y": [
          0,
          1
         ],
         "yaxis": "y8"
        }
       ],
       "layout": {
        "annotations": [
         {
          "font": {
           "size": 16
          },
          "showarrow": false,
          "text": "Loss",
          "x": 0.2375,
          "xanchor": "center",
          "xref": "paper",
          "y": 0.7375,
          "yanchor": "bottom",
          "yref": "paper"
         },
         {
          "font": {
           "size": 16
          },
          "showarrow": false,
          "text": "Precision",
          "x": 0.7625,
          "xanchor": "center",
          "xref": "paper",
          "y": 0.7375,
          "yanchor": "bottom",
          "yref": "paper"
         },
         {
          "font": {
           "size": 16
          },
          "showarrow": false,
          "text": "Accuracy",
          "x": 0.2375,
          "xanchor": "center",
          "xref": "paper",
          "y": 0.475,
          "yanchor": "bottom",
          "yref": "paper"
         },
         {
          "font": {
           "size": 16
          },
          "showarrow": false,
          "text": "Recall",
          "x": 0.7625,
          "xanchor": "center",
          "xref": "paper",
          "y": 0.475,
          "yanchor": "bottom",
          "yref": "paper"
         },
         {
          "font": {
           "size": 16
          },
          "showarrow": false,
          "text": "Confusion Matrix",
          "x": 0.2375,
          "xanchor": "center",
          "xref": "paper",
          "y": 0.2125,
          "yanchor": "bottom",
          "yref": "paper"
         },
         {
          "font": {
           "size": 16
          },
          "showarrow": false,
          "text": "ROC-AUC curve",
          "x": 0.7625,
          "xanchor": "center",
          "xref": "paper",
          "y": 0.2125,
          "yanchor": "bottom",
          "yref": "paper"
         }
        ],
        "height": 1600,
        "margin": {
         "b": 10,
         "l": 10,
         "r": 10,
         "t": 50
        },
        "showlegend": false,
        "template": {
         "data": {
          "bar": [
           {
            "error_x": {
             "color": "#2a3f5f"
            },
            "error_y": {
             "color": "#2a3f5f"
            },
            "marker": {
             "line": {
              "color": "#E5ECF6",
              "width": 0.5
             },
             "pattern": {
              "fillmode": "overlay",
              "size": 10,
              "solidity": 0.2
             }
            },
            "type": "bar"
           }
          ],
          "barpolar": [
           {
            "marker": {
             "line": {
              "color": "#E5ECF6",
              "width": 0.5
             },
             "pattern": {
              "fillmode": "overlay",
              "size": 10,
              "solidity": 0.2
             }
            },
            "type": "barpolar"
           }
          ],
          "carpet": [
           {
            "aaxis": {
             "endlinecolor": "#2a3f5f",
             "gridcolor": "white",
             "linecolor": "white",
             "minorgridcolor": "white",
             "startlinecolor": "#2a3f5f"
            },
            "baxis": {
             "endlinecolor": "#2a3f5f",
             "gridcolor": "white",
             "linecolor": "white",
             "minorgridcolor": "white",
             "startlinecolor": "#2a3f5f"
            },
            "type": "carpet"
           }
          ],
          "choropleth": [
           {
            "colorbar": {
             "outlinewidth": 0,
             "ticks": ""
            },
            "type": "choropleth"
           }
          ],
          "contour": [
           {
            "colorbar": {
             "outlinewidth": 0,
             "ticks": ""
            },
            "colorscale": [
             [
              0,
              "#0d0887"
             ],
             [
              0.1111111111111111,
              "#46039f"
             ],
             [
              0.2222222222222222,
              "#7201a8"
             ],
             [
              0.3333333333333333,
              "#9c179e"
             ],
             [
              0.4444444444444444,
              "#bd3786"
             ],
             [
              0.5555555555555556,
              "#d8576b"
             ],
             [
              0.6666666666666666,
              "#ed7953"
             ],
             [
              0.7777777777777778,
              "#fb9f3a"
             ],
             [
              0.8888888888888888,
              "#fdca26"
             ],
             [
              1,
              "#f0f921"
             ]
            ],
            "type": "contour"
           }
          ],
          "contourcarpet": [
           {
            "colorbar": {
             "outlinewidth": 0,
             "ticks": ""
            },
            "type": "contourcarpet"
           }
          ],
          "heatmap": [
           {
            "colorbar": {
             "outlinewidth": 0,
             "ticks": ""
            },
            "colorscale": [
             [
              0,
              "#0d0887"
             ],
             [
              0.1111111111111111,
              "#46039f"
             ],
             [
              0.2222222222222222,
              "#7201a8"
             ],
             [
              0.3333333333333333,
              "#9c179e"
             ],
             [
              0.4444444444444444,
              "#bd3786"
             ],
             [
              0.5555555555555556,
              "#d8576b"
             ],
             [
              0.6666666666666666,
              "#ed7953"
             ],
             [
              0.7777777777777778,
              "#fb9f3a"
             ],
             [
              0.8888888888888888,
              "#fdca26"
             ],
             [
              1,
              "#f0f921"
             ]
            ],
            "type": "heatmap"
           }
          ],
          "heatmapgl": [
           {
            "colorbar": {
             "outlinewidth": 0,
             "ticks": ""
            },
            "colorscale": [
             [
              0,
              "#0d0887"
             ],
             [
              0.1111111111111111,
              "#46039f"
             ],
             [
              0.2222222222222222,
              "#7201a8"
             ],
             [
              0.3333333333333333,
              "#9c179e"
             ],
             [
              0.4444444444444444,
              "#bd3786"
             ],
             [
              0.5555555555555556,
              "#d8576b"
             ],
             [
              0.6666666666666666,
              "#ed7953"
             ],
             [
              0.7777777777777778,
              "#fb9f3a"
             ],
             [
              0.8888888888888888,
              "#fdca26"
             ],
             [
              1,
              "#f0f921"
             ]
            ],
            "type": "heatmapgl"
           }
          ],
          "histogram": [
           {
            "marker": {
             "pattern": {
              "fillmode": "overlay",
              "size": 10,
              "solidity": 0.2
             }
            },
            "type": "histogram"
           }
          ],
          "histogram2d": [
           {
            "colorbar": {
             "outlinewidth": 0,
             "ticks": ""
            },
            "colorscale": [
             [
              0,
              "#0d0887"
             ],
             [
              0.1111111111111111,
              "#46039f"
             ],
             [
              0.2222222222222222,
              "#7201a8"
             ],
             [
              0.3333333333333333,
              "#9c179e"
             ],
             [
              0.4444444444444444,
              "#bd3786"
             ],
             [
              0.5555555555555556,
              "#d8576b"
             ],
             [
              0.6666666666666666,
              "#ed7953"
             ],
             [
              0.7777777777777778,
              "#fb9f3a"
             ],
             [
              0.8888888888888888,
              "#fdca26"
             ],
             [
              1,
              "#f0f921"
             ]
            ],
            "type": "histogram2d"
           }
          ],
          "histogram2dcontour": [
           {
            "colorbar": {
             "outlinewidth": 0,
             "ticks": ""
            },
            "colorscale": [
             [
              0,
              "#0d0887"
             ],
             [
              0.1111111111111111,
              "#46039f"
             ],
             [
              0.2222222222222222,
              "#7201a8"
             ],
             [
              0.3333333333333333,
              "#9c179e"
             ],
             [
              0.4444444444444444,
              "#bd3786"
             ],
             [
              0.5555555555555556,
              "#d8576b"
             ],
             [
              0.6666666666666666,
              "#ed7953"
             ],
             [
              0.7777777777777778,
              "#fb9f3a"
             ],
             [
              0.8888888888888888,
              "#fdca26"
             ],
             [
              1,
              "#f0f921"
             ]
            ],
            "type": "histogram2dcontour"
           }
          ],
          "mesh3d": [
           {
            "colorbar": {
             "outlinewidth": 0,
             "ticks": ""
            },
            "type": "mesh3d"
           }
          ],
          "parcoords": [
           {
            "line": {
             "colorbar": {
              "outlinewidth": 0,
              "ticks": ""
             }
            },
            "type": "parcoords"
           }
          ],
          "pie": [
           {
            "automargin": true,
            "type": "pie"
           }
          ],
          "scatter": [
           {
            "fillpattern": {
             "fillmode": "overlay",
             "size": 10,
             "solidity": 0.2
            },
            "type": "scatter"
           }
          ],
          "scatter3d": [
           {
            "line": {
             "colorbar": {
              "outlinewidth": 0,
              "ticks": ""
             }
            },
            "marker": {
             "colorbar": {
              "outlinewidth": 0,
              "ticks": ""
             }
            },
            "type": "scatter3d"
           }
          ],
          "scattercarpet": [
           {
            "marker": {
             "colorbar": {
              "outlinewidth": 0,
              "ticks": ""
             }
            },
            "type": "scattercarpet"
           }
          ],
          "scattergeo": [
           {
            "marker": {
             "colorbar": {
              "outlinewidth": 0,
              "ticks": ""
             }
            },
            "type": "scattergeo"
           }
          ],
          "scattergl": [
           {
            "marker": {
             "colorbar": {
              "outlinewidth": 0,
              "ticks": ""
             }
            },
            "type": "scattergl"
           }
          ],
          "scattermapbox": [
           {
            "marker": {
             "colorbar": {
              "outlinewidth": 0,
              "ticks": ""
             }
            },
            "type": "scattermapbox"
           }
          ],
          "scatterpolar": [
           {
            "marker": {
             "colorbar": {
              "outlinewidth": 0,
              "ticks": ""
             }
            },
            "type": "scatterpolar"
           }
          ],
          "scatterpolargl": [
           {
            "marker": {
             "colorbar": {
              "outlinewidth": 0,
              "ticks": ""
             }
            },
            "type": "scatterpolargl"
           }
          ],
          "scatterternary": [
           {
            "marker": {
             "colorbar": {
              "outlinewidth": 0,
              "ticks": ""
             }
            },
            "type": "scatterternary"
           }
          ],
          "surface": [
           {
            "colorbar": {
             "outlinewidth": 0,
             "ticks": ""
            },
            "colorscale": [
             [
              0,
              "#0d0887"
             ],
             [
              0.1111111111111111,
              "#46039f"
             ],
             [
              0.2222222222222222,
              "#7201a8"
             ],
             [
              0.3333333333333333,
              "#9c179e"
             ],
             [
              0.4444444444444444,
              "#bd3786"
             ],
             [
              0.5555555555555556,
              "#d8576b"
             ],
             [
              0.6666666666666666,
              "#ed7953"
             ],
             [
              0.7777777777777778,
              "#fb9f3a"
             ],
             [
              0.8888888888888888,
              "#fdca26"
             ],
             [
              1,
              "#f0f921"
             ]
            ],
            "type": "surface"
           }
          ],
          "table": [
           {
            "cells": {
             "fill": {
              "color": "#EBF0F8"
             },
             "line": {
              "color": "white"
             }
            },
            "header": {
             "fill": {
              "color": "#C8D4E3"
             },
             "line": {
              "color": "white"
             }
            },
            "type": "table"
           }
          ]
         },
         "layout": {
          "annotationdefaults": {
           "arrowcolor": "#2a3f5f",
           "arrowhead": 0,
           "arrowwidth": 1
          },
          "autotypenumbers": "strict",
          "coloraxis": {
           "colorbar": {
            "outlinewidth": 0,
            "ticks": ""
           }
          },
          "colorscale": {
           "diverging": [
            [
             0,
             "#8e0152"
            ],
            [
             0.1,
             "#c51b7d"
            ],
            [
             0.2,
             "#de77ae"
            ],
            [
             0.3,
             "#f1b6da"
            ],
            [
             0.4,
             "#fde0ef"
            ],
            [
             0.5,
             "#f7f7f7"
            ],
            [
             0.6,
             "#e6f5d0"
            ],
            [
             0.7,
             "#b8e186"
            ],
            [
             0.8,
             "#7fbc41"
            ],
            [
             0.9,
             "#4d9221"
            ],
            [
             1,
             "#276419"
            ]
           ],
           "sequential": [
            [
             0,
             "#0d0887"
            ],
            [
             0.1111111111111111,
             "#46039f"
            ],
            [
             0.2222222222222222,
             "#7201a8"
            ],
            [
             0.3333333333333333,
             "#9c179e"
            ],
            [
             0.4444444444444444,
             "#bd3786"
            ],
            [
             0.5555555555555556,
             "#d8576b"
            ],
            [
             0.6666666666666666,
             "#ed7953"
            ],
            [
             0.7777777777777778,
             "#fb9f3a"
            ],
            [
             0.8888888888888888,
             "#fdca26"
            ],
            [
             1,
             "#f0f921"
            ]
           ],
           "sequentialminus": [
            [
             0,
             "#0d0887"
            ],
            [
             0.1111111111111111,
             "#46039f"
            ],
            [
             0.2222222222222222,
             "#7201a8"
            ],
            [
             0.3333333333333333,
             "#9c179e"
            ],
            [
             0.4444444444444444,
             "#bd3786"
            ],
            [
             0.5555555555555556,
             "#d8576b"
            ],
            [
             0.6666666666666666,
             "#ed7953"
            ],
            [
             0.7777777777777778,
             "#fb9f3a"
            ],
            [
             0.8888888888888888,
             "#fdca26"
            ],
            [
             1,
             "#f0f921"
            ]
           ]
          },
          "colorway": [
           "#636efa",
           "#EF553B",
           "#00cc96",
           "#ab63fa",
           "#FFA15A",
           "#19d3f3",
           "#FF6692",
           "#B6E880",
           "#FF97FF",
           "#FECB52"
          ],
          "font": {
           "color": "#2a3f5f"
          },
          "geo": {
           "bgcolor": "white",
           "lakecolor": "white",
           "landcolor": "#E5ECF6",
           "showlakes": true,
           "showland": true,
           "subunitcolor": "white"
          },
          "hoverlabel": {
           "align": "left"
          },
          "hovermode": "closest",
          "mapbox": {
           "style": "light"
          },
          "paper_bgcolor": "white",
          "plot_bgcolor": "#E5ECF6",
          "polar": {
           "angularaxis": {
            "gridcolor": "white",
            "linecolor": "white",
            "ticks": ""
           },
           "bgcolor": "#E5ECF6",
           "radialaxis": {
            "gridcolor": "white",
            "linecolor": "white",
            "ticks": ""
           }
          },
          "scene": {
           "xaxis": {
            "backgroundcolor": "#E5ECF6",
            "gridcolor": "white",
            "gridwidth": 2,
            "linecolor": "white",
            "showbackground": true,
            "ticks": "",
            "zerolinecolor": "white"
           },
           "yaxis": {
            "backgroundcolor": "#E5ECF6",
            "gridcolor": "white",
            "gridwidth": 2,
            "linecolor": "white",
            "showbackground": true,
            "ticks": "",
            "zerolinecolor": "white"
           },
           "zaxis": {
            "backgroundcolor": "#E5ECF6",
            "gridcolor": "white",
            "gridwidth": 2,
            "linecolor": "white",
            "showbackground": true,
            "ticks": "",
            "zerolinecolor": "white"
           }
          },
          "shapedefaults": {
           "line": {
            "color": "#2a3f5f"
           }
          },
          "ternary": {
           "aaxis": {
            "gridcolor": "white",
            "linecolor": "white",
            "ticks": ""
           },
           "baxis": {
            "gridcolor": "white",
            "linecolor": "white",
            "ticks": ""
           },
           "bgcolor": "#E5ECF6",
           "caxis": {
            "gridcolor": "white",
            "linecolor": "white",
            "ticks": ""
           }
          },
          "title": {
           "x": 0.05
          },
          "xaxis": {
           "automargin": true,
           "gridcolor": "white",
           "linecolor": "white",
           "ticks": "",
           "title": {
            "standoff": 15
           },
           "zerolinecolor": "white",
           "zerolinewidth": 2
          },
          "yaxis": {
           "automargin": true,
           "gridcolor": "white",
           "linecolor": "white",
           "ticks": "",
           "title": {
            "standoff": 15
           },
           "zerolinecolor": "white",
           "zerolinewidth": 2
          }
         }
        },
        "width": 1400,
        "xaxis": {
         "anchor": "y",
         "domain": [
          0,
          0.475
         ],
         "visible": false
        },
        "xaxis2": {
         "anchor": "y2",
         "domain": [
          0.525,
          1
         ]
        },
        "xaxis3": {
         "anchor": "y3",
         "domain": [
          0,
          0.475
         ]
        },
        "xaxis4": {
         "anchor": "y4",
         "domain": [
          0.525,
          1
         ]
        },
        "xaxis5": {
         "anchor": "y5",
         "domain": [
          0,
          0.475
         ]
        },
        "xaxis6": {
         "anchor": "y6",
         "domain": [
          0.525,
          1
         ]
        },
        "xaxis7": {
         "anchor": "y7",
         "domain": [
          0,
          0.475
         ]
        },
        "xaxis8": {
         "anchor": "y8",
         "domain": [
          0.525,
          1
         ]
        },
        "yaxis": {
         "anchor": "x",
         "domain": [
          0.7875,
          1
         ],
         "visible": false
        },
        "yaxis2": {
         "anchor": "x2",
         "domain": [
          0.7875,
          1
         ]
        },
        "yaxis3": {
         "anchor": "x3",
         "domain": [
          0.525,
          0.7375
         ]
        },
        "yaxis4": {
         "anchor": "x4",
         "domain": [
          0.525,
          0.7375
         ]
        },
        "yaxis5": {
         "anchor": "x5",
         "domain": [
          0.2625,
          0.475
         ]
        },
        "yaxis6": {
         "anchor": "x6",
         "domain": [
          0.2625,
          0.475
         ]
        },
        "yaxis7": {
         "anchor": "x7",
         "domain": [
          0,
          0.2125
         ]
        },
        "yaxis8": {
         "anchor": "x8",
         "domain": [
          0,
          0.2125
         ]
        }
       }
      }
     },
     "metadata": {},
     "output_type": "display_data"
    }
   ],
   "source": [
    "fig = make_subplots(\n",
    "    rows=4, cols=2, \n",
    "    subplot_titles=(\"\", \"\",\n",
    "                    \"Loss\", \"Precision\", \n",
    "                    \"Accuracy\", 'Recall',\n",
    "                    'Confusion Matrix', 'ROC-AUC curve'), \n",
    "    horizontal_spacing=0.05, \n",
    "    vertical_spacing=0.05  \n",
    ")\n",
    "\n",
    "fig.add_trace(\n",
    "    go.Scatter(\n",
    "        x=[0.5], y=[0.5], \n",
    "        text=[\n",
    "            # top_layers_text\n",
    "        ],\n",
    "        mode='text',\n",
    "        showlegend=False,\n",
    "    ),\n",
    "    row=1, col=1  \n",
    ")\n",
    "\n",
    "fig.add_trace(\n",
    "    go.Scatter(\n",
    "        x=[0.5], y=[0.5], \n",
    "        text=[\n",
    "            # f\"Test loss: {test_loss:.4f}<br>\"\n",
    "            # f\"Test accuracy: {test_acc:.4f}<br>\"\n",
    "            # f\"Test precision: {test_prec:.4f}<br>\"\n",
    "            # f\"Test recall: {test_recall:.4f}<br><br>\"\n",
    "            # f\"ROC-AUC: {roc_auc:.4f}<br><br>\"\n",
    "            f\"Classification report<br>\"\n",
    "            f\"{report.replace('\\n','<br>')}\"\n",
    "        ],\n",
    "        mode='text',\n",
    "        showlegend=False,\n",
    "    ),\n",
    "    row=1, col=2  \n",
    ")\n",
    "\n",
    "# fig.update_layout(\n",
    "#     annotations=[dict(text=\"Model Metrics\", x=0.25, y=1.05, showarrow=False, xref=\"paper\", yref=\"paper\", font=dict(size=16))], \n",
    "# )\n",
    "\n",
    "# Hide the axes for the annotation row\n",
    "fig.update_xaxes(visible=False, row=1, col=1)\n",
    "fig.update_yaxes(visible=False, row=1, col=1)\n",
    "\n",
    "\n",
    "# Loss and Precision\n",
    "fig.add_trace(fig_metrics['data'][0], row=2, col=1)\n",
    "fig.add_trace(fig_metrics['data'][1], row=2, col=1)\n",
    "fig.add_trace(fig_metrics['data'][2], row=2, col=2)\n",
    "fig.add_trace(fig_metrics['data'][3], row=2, col=2)\n",
    "\n",
    "# Accuracy and Recall \n",
    "fig.add_trace(fig_metrics['data'][4], row=3, col=1)\n",
    "fig.add_trace(fig_metrics['data'][5], row=3, col=1)\n",
    "fig.add_trace(fig_metrics['data'][6], row=3, col=2)\n",
    "fig.add_trace(fig_metrics['data'][7], row=3, col=2)\n",
    "\n",
    "# Confusion Matrix and ROC-AUC curve \n",
    "fig.add_trace(fig_confMatrix['data'][0], row=4, col=1)\n",
    "fig.add_trace(fig_rocauc['data'][0], row=4, col=2)\n",
    "fig.add_trace(fig_rocauc['data'][1], row=4, col=2)\n",
    "\n",
    "fig.update_layout(\n",
    "    height=400*4, \n",
    "    width=1400, \n",
    "    # title_text=f\"--- {MODEL.name} ---\",\n",
    "    showlegend=False, \n",
    "    margin=dict(l=10, r=10, t=50, b=10),  \n",
    ")\n",
    "\n",
    "fig.show()"
   ]
  },
  {
   "cell_type": "markdown",
   "metadata": {},
   "source": [
    "#### Save model"
   ]
  },
  {
   "cell_type": "code",
   "execution_count": 18,
   "metadata": {},
   "outputs": [],
   "source": [
    "model_name = 'GridSearch_customModel'\n",
    "best_model.model().save(f'{model_name}.keras')"
   ]
  }
 ],
 "metadata": {
  "kernelspec": {
   "display_name": ".venv",
   "language": "python",
   "name": "python3"
  },
  "language_info": {
   "codemirror_mode": {
    "name": "ipython",
    "version": 3
   },
   "file_extension": ".py",
   "mimetype": "text/x-python",
   "name": "python",
   "nbconvert_exporter": "python",
   "pygments_lexer": "ipython3",
   "version": "3.12.7"
  }
 },
 "nbformat": 4,
 "nbformat_minor": 2
}
