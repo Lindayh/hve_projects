{
 "cells": [
  {
   "cell_type": "code",
   "execution_count": 1,
   "metadata": {},
   "outputs": [],
   "source": [
    "from pyspark.sql import SparkSession"
   ]
  },
  {
   "cell_type": "code",
   "execution_count": 2,
   "metadata": {},
   "outputs": [],
   "source": [
    "# Load a dataset \n",
    "spark = SparkSession.builder.getOrCreate()\n",
    "df = spark.read.csv(\"spotify_2023_TopSongs.csv\", header=True, inferSchema=True)"
   ]
  },
  {
   "cell_type": "code",
   "execution_count": 3,
   "metadata": {},
   "outputs": [
    {
     "name": "stdout",
     "output_type": "stream",
     "text": [
      "root\n",
      " |-- _c0: integer (nullable = true)\n",
      " |-- track_name: string (nullable = true)\n",
      " |-- artist: string (nullable = true)\n",
      " |-- artist_count: integer (nullable = true)\n",
      " |-- released_year: integer (nullable = true)\n",
      " |-- released_month: integer (nullable = true)\n",
      " |-- released_day: integer (nullable = true)\n",
      " |-- in_spotify_playlists: integer (nullable = true)\n",
      " |-- in_spotify_charts: integer (nullable = true)\n",
      " |-- streams: long (nullable = true)\n",
      " |-- in_apple_playlists: integer (nullable = true)\n",
      " |-- in_apple_charts: integer (nullable = true)\n",
      " |-- in_deezer_playlists: integer (nullable = true)\n",
      " |-- in_deezer_charts: integer (nullable = true)\n",
      " |-- in_shazam_charts: integer (nullable = true)\n",
      " |-- bpm: integer (nullable = true)\n",
      " |-- key: string (nullable = true)\n",
      " |-- mode: string (nullable = true)\n",
      " |-- danceability: integer (nullable = true)\n",
      " |-- valence: integer (nullable = true)\n",
      " |-- energy: integer (nullable = true)\n",
      " |-- acousticness: integer (nullable = true)\n",
      " |-- instrumentalness: integer (nullable = true)\n",
      " |-- liveness: integer (nullable = true)\n",
      " |-- speechiness: integer (nullable = true)\n",
      "\n",
      "+-------+-----------------+--------------------+--------+------------------+------------------+-----------------+------------------+--------------------+------------------+-------------------+------------------+-----------------+-------------------+-----------------+------------------+------------------+----+-----+------------------+-----------------+------------------+------------------+------------------+------------------+------------------+\n",
      "|summary|              _c0|          track_name|  artist|      artist_count|     released_year|   released_month|      released_day|in_spotify_playlists| in_spotify_charts|            streams|in_apple_playlists|  in_apple_charts|in_deezer_playlists| in_deezer_charts|  in_shazam_charts|               bpm| key| mode|      danceability|          valence|            energy|      acousticness|  instrumentalness|          liveness|       speechiness|\n",
      "+-------+-----------------+--------------------+--------+------------------+------------------+-----------------+------------------+--------------------+------------------+-------------------+------------------+-----------------+-------------------+-----------------+------------------+------------------+----+-----+------------------+-----------------+------------------+------------------+------------------+------------------+------------------+\n",
      "|  count|              953|                 953|     953|               953|               953|              953|               953|                 953|               953|                953|               953|              953|                953|              953|               953|               953| 953|  953|               953|              953|               953|               953|               953|               953|               953|\n",
      "|   mean|            476.0|            Infinity|    NULL|1.5561385099685205|2018.2381951731375|6.033578174186778|13.930745015739769|   5200.124868835257|12.009443861490032|5.135979313137461E8|  67.8121720881427| 51.9087093389297|  385.1878279118573|2.666316894018888| 56.84784889821616|122.54039874081847|NULL| NULL| 66.96956977964324|51.43126967471144|  64.2791185729276|27.057712486883524|1.5813221406086044|18.213011542497377|10.131164742917104|\n",
      "| stddev|275.2517029920069|                 NaN|    NULL|0.8930441928452751|11.116218075505934|3.566435132898138| 9.201949303162996|     7897.6089903751| 19.57599163605572|5.668038870588316E8| 86.44149293264272|50.63024075697996| 1130.5355610548786|6.035598942337866|157.44174905892496|28.057801508156185|NULL| NULL|14.630609874434812|23.48063183989132|16.550525977945224|25.996077310203724| 8.409799926557696|  13.7112233461488| 9.912887609763247|\n",
      "|    min|                0|\"Apna Bana Le (Fr...|(G)I-DLE|                 1|              1930|                1|                 1|                  31|                 0|                  0|                 0|                0|                  0|                0|                 0|                65|   A|Major|                23|                4|                 9|                 0|                 0|                 3|                 2|\n",
      "|    max|              952|ýýýýýýýýýýýýýýýýý...|    teto|                 8|              2023|               12|                31|               52898|               147|         3703895074|               672|              275|              12367|               58|              1451|               206|  G#|Minor|                96|               97|                97|                97|                91|                97|                64|\n",
      "+-------+-----------------+--------------------+--------+------------------+------------------+-----------------+------------------+--------------------+------------------+-------------------+------------------+-----------------+-------------------+-----------------+------------------+------------------+----+-----+------------------+-----------------+------------------+------------------+------------------+------------------+------------------+\n",
      "\n"
     ]
    }
   ],
   "source": [
    "# Visa info \n",
    "df.printSchema()\n",
    "df.describe().show()"
   ]
  },
  {
   "cell_type": "code",
   "execution_count": 4,
   "metadata": {},
   "outputs": [],
   "source": [
    "# Renaming Columns\n",
    "df = df.withColumnRenamed('released_year', 'year')\n",
    "df = df.withColumnRenamed('released_month', 'month')\n",
    "df = df.withColumnRenamed('released_day', 'day')"
   ]
  },
  {
   "cell_type": "code",
   "execution_count": 5,
   "metadata": {},
   "outputs": [
    {
     "name": "stdout",
     "output_type": "stream",
     "text": [
      "+--------------------+--------------------+-------------------+\n",
      "|          track_name|              artist|in_deezer_playlists|\n",
      "+--------------------+--------------------+-------------------+\n",
      "|Smells Like Teen ...|             Nirvana|              12367|\n",
      "|Get Lucky - Radio...|Pharrell Williams...|               8215|\n",
      "|       The Scientist|            Coldplay|               7827|\n",
      "+--------------------+--------------------+-------------------+\n",
      "only showing top 3 rows\n",
      "\n"
     ]
    }
   ],
   "source": [
    "# Sort\n",
    "df_01 = df.orderBy('in_deezer_playlists', ascending=False)\n",
    "\n",
    "df_01.select(['track_name','artist', 'in_deezer_playlists']).show(3)"
   ]
  },
  {
   "cell_type": "code",
   "execution_count": 6,
   "metadata": {},
   "outputs": [
    {
     "name": "stdout",
     "output_type": "stream",
     "text": [
      "+------------+------------+\n",
      "|artist      |sum(streams)|\n",
      "+------------+------------+\n",
      "|The Weeknd  |14185552870 |\n",
      "|Taylor Swift|14053658300 |\n",
      "|Ed Sheeran  |13908947204 |\n",
      "|Harry Styles|11608645649 |\n",
      "|Bad Bunny   |9997799607  |\n",
      "+------------+------------+\n",
      "only showing top 5 rows\n",
      "\n"
     ]
    }
   ],
   "source": [
    "# Toppartister efter streams\n",
    "df_02 = df.select('track_name','artist','streams').orderBy('streams', ascending=False)\n",
    "df_02 = df_02.groupBy('artist').sum('streams').orderBy('sum(streams)', ascending=False)\n",
    "\n",
    "df_02.show(5,truncate=False)"
   ]
  }
 ],
 "metadata": {
  "kernelspec": {
   "display_name": "plot_venv",
   "language": "python",
   "name": "python3"
  },
  "language_info": {
   "codemirror_mode": {
    "name": "ipython",
    "version": 3
   },
   "file_extension": ".py",
   "mimetype": "text/x-python",
   "name": "python",
   "nbconvert_exporter": "python",
   "pygments_lexer": "ipython3",
   "version": "3.12.1"
  }
 },
 "nbformat": 4,
 "nbformat_minor": 2
}
