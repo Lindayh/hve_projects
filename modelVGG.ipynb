{
 "cells": [
  {
   "cell_type": "code",
   "execution_count": 1,
   "metadata": {},
   "outputs": [],
   "source": [
    "# ! pip install pandas numpy scikit-learn plotly matplotlib\n",
    "# ! pip install nbformat\n",
    "# ! pip install --upgrade nbformat\n",
    "# ! pip install tensorflow[and-cuda]"
   ]
  },
  {
   "cell_type": "markdown",
   "metadata": {},
   "source": [
    "#### Notes"
   ]
  },
  {
   "cell_type": "markdown",
   "metadata": {},
   "source": [
    "### Imports"
   ]
  },
  {
   "cell_type": "code",
   "execution_count": 2,
   "metadata": {},
   "outputs": [
    {
     "name": "stderr",
     "output_type": "stream",
     "text": [
      "2024-10-19 11:44:00.756378: E external/local_xla/xla/stream_executor/cuda/cuda_fft.cc:485] Unable to register cuFFT factory: Attempting to register factory for plugin cuFFT when one has already been registered\n",
      "2024-10-19 11:44:00.767379: E external/local_xla/xla/stream_executor/cuda/cuda_dnn.cc:8454] Unable to register cuDNN factory: Attempting to register factory for plugin cuDNN when one has already been registered\n",
      "2024-10-19 11:44:00.770735: E external/local_xla/xla/stream_executor/cuda/cuda_blas.cc:1452] Unable to register cuBLAS factory: Attempting to register factory for plugin cuBLAS when one has already been registered\n",
      "2024-10-19 11:44:00.779740: I tensorflow/core/platform/cpu_feature_guard.cc:210] This TensorFlow binary is optimized to use available CPU instructions in performance-critical operations.\n",
      "To enable the following instructions: AVX2 FMA, in other operations, rebuild TensorFlow with the appropriate compiler flags.\n",
      "2024-10-19 11:44:01.737801: W tensorflow/compiler/tf2tensorrt/utils/py_utils.cc:38] TF-TRT Warning: Could not find TensorRT\n"
     ]
    }
   ],
   "source": [
    "import pandas as pd\n",
    "import numpy as np\n",
    "import tensorflow as tf\n",
    "from datetime import datetime as dt\n",
    "import glob\n",
    "\n",
    "from sklearn import datasets\n",
    "from sklearn.model_selection import train_test_split\n",
    "from sklearn.preprocessing import StandardScaler\n",
    "from sklearn.metrics import confusion_matrix\n",
    "\n",
    "from tensorflow.keras.applications import VGG16, VGG19\n",
    "from tensorflow.keras.preprocessing.image import ImageDataGenerator\n",
    "from tensorflow.keras.layers import Dense, Input, Dropout, Rescaling, Conv2D, MaxPooling2D, Flatten, Dropout, Activation, BatchNormalization\n",
    "from tensorflow.keras.models import Sequential,Model\n",
    "from tensorflow.keras.optimizers import SGD, Adam\n",
    "from tensorflow.keras.losses import BinaryCrossentropy\n",
    "from tensorflow.keras.callbacks import EarlyStopping\n",
    "from tensorflow.keras.regularizers import l2\n",
    "from tensorflow.keras.metrics import Precision, Recall, F1Score\n",
    "import visualkeras\n",
    "\n",
    "from sklearn.model_selection import GridSearchCV\n",
    "import matplotlib.pyplot as plt\n",
    "from plotly.subplots import make_subplots\n",
    "import plotly.graph_objects as go\n",
    "import plotly.express as px\n",
    "\n",
    "import warnings \n",
    "warnings.filterwarnings('ignore')"
   ]
  },
  {
   "cell_type": "code",
   "execution_count": 3,
   "metadata": {},
   "outputs": [
    {
     "name": "stdout",
     "output_type": "stream",
     "text": [
      "Num GPUs Available:  1\n"
     ]
    },
    {
     "name": "stderr",
     "output_type": "stream",
     "text": [
      "WARNING: All log messages before absl::InitializeLog() is called are written to STDERR\n",
      "I0000 00:00:1729331043.244907   11888 cuda_executor.cc:1015] successful NUMA node read from SysFS had negative value (-1), but there must be at least one NUMA node, so returning NUMA node zero. See more at https://github.com/torvalds/linux/blob/v6.0/Documentation/ABI/testing/sysfs-bus-pci#L344-L355\n",
      "I0000 00:00:1729331043.279027   11888 cuda_executor.cc:1015] successful NUMA node read from SysFS had negative value (-1), but there must be at least one NUMA node, so returning NUMA node zero. See more at https://github.com/torvalds/linux/blob/v6.0/Documentation/ABI/testing/sysfs-bus-pci#L344-L355\n",
      "I0000 00:00:1729331043.279240   11888 cuda_executor.cc:1015] successful NUMA node read from SysFS had negative value (-1), but there must be at least one NUMA node, so returning NUMA node zero. See more at https://github.com/torvalds/linux/blob/v6.0/Documentation/ABI/testing/sysfs-bus-pci#L344-L355\n"
     ]
    }
   ],
   "source": [
    "# Check if GPUs are available for training \n",
    "print(\"Num GPUs Available: \", len(tf.config.list_physical_devices('GPU')))"
   ]
  },
  {
   "cell_type": "code",
   "execution_count": 4,
   "metadata": {},
   "outputs": [
    {
     "name": "stderr",
     "output_type": "stream",
     "text": [
      "I0000 00:00:1729331043.299410   11888 cuda_executor.cc:1015] successful NUMA node read from SysFS had negative value (-1), but there must be at least one NUMA node, so returning NUMA node zero. See more at https://github.com/torvalds/linux/blob/v6.0/Documentation/ABI/testing/sysfs-bus-pci#L344-L355\n",
      "I0000 00:00:1729331043.299624   11888 cuda_executor.cc:1015] successful NUMA node read from SysFS had negative value (-1), but there must be at least one NUMA node, so returning NUMA node zero. See more at https://github.com/torvalds/linux/blob/v6.0/Documentation/ABI/testing/sysfs-bus-pci#L344-L355\n",
      "I0000 00:00:1729331043.299775   11888 cuda_executor.cc:1015] successful NUMA node read from SysFS had negative value (-1), but there must be at least one NUMA node, so returning NUMA node zero. See more at https://github.com/torvalds/linux/blob/v6.0/Documentation/ABI/testing/sysfs-bus-pci#L344-L355\n",
      "I0000 00:00:1729331043.359087   11888 cuda_executor.cc:1015] successful NUMA node read from SysFS had negative value (-1), but there must be at least one NUMA node, so returning NUMA node zero. See more at https://github.com/torvalds/linux/blob/v6.0/Documentation/ABI/testing/sysfs-bus-pci#L344-L355\n",
      "I0000 00:00:1729331043.359274   11888 cuda_executor.cc:1015] successful NUMA node read from SysFS had negative value (-1), but there must be at least one NUMA node, so returning NUMA node zero. See more at https://github.com/torvalds/linux/blob/v6.0/Documentation/ABI/testing/sysfs-bus-pci#L344-L355\n",
      "I0000 00:00:1729331043.359431   11888 cuda_executor.cc:1015] successful NUMA node read from SysFS had negative value (-1), but there must be at least one NUMA node, so returning NUMA node zero. See more at https://github.com/torvalds/linux/blob/v6.0/Documentation/ABI/testing/sysfs-bus-pci#L344-L355\n",
      "2024-10-19 11:44:03.359586: I tensorflow/core/common_runtime/gpu/gpu_device.cc:2021] Created device /job:localhost/replica:0/task:0/device:GPU:0 with 4283 MB memory:  -> device: 0, name: NVIDIA GeForce GTX 1060 6GB, pci bus id: 0000:06:00.0, compute capability: 6.1\n"
     ]
    }
   ],
   "source": [
    "DATASET_FOLDER_TRAIN = 'CIFAKE/train'\n",
    "DATASET_FOLDER_TEST = 'CIFAKE/test'\n",
    "\n",
    "BATCH_SIZE = 24\n",
    "COLOR_MODE = 'grayscale'\n",
    "CLASS_MODE = 'binary'\n",
    "TARGET_SIZE = (32, 32)\n",
    "LEARN_RATE = 0.0005\n",
    "SEED = 42\n",
    "\n",
    "N_EPOCHS = 50\n",
    "MODEL = VGG16(weights='imagenet', include_top=False, input_shape=(32,32,3))      "
   ]
  },
  {
   "cell_type": "markdown",
   "metadata": {},
   "source": [
    "### Train/test sets"
   ]
  },
  {
   "cell_type": "code",
   "execution_count": 5,
   "metadata": {},
   "outputs": [
    {
     "name": "stdout",
     "output_type": "stream",
     "text": [
      "Found 70000 images belonging to 2 classes.\n",
      "Found 30000 images belonging to 2 classes.\n",
      "Found 20000 images belonging to 2 classes.\n"
     ]
    }
   ],
   "source": [
    "train_datagen = ImageDataGenerator(\n",
    "    rescale=1./255,  \n",
    "    rotation_range=45,\n",
    "    width_shift_range=0.5,\n",
    "    height_shift_range=0.5,\n",
    "    zoom_range=0.5,\n",
    "    horizontal_flip=True,  \n",
    "    vertical_flip=True,  \n",
    "    validation_split=0.3,  \n",
    ")\n",
    "\n",
    "# Load training data from directory and apply transformations\n",
    "train_generator = train_datagen.flow_from_directory(\n",
    "    DATASET_FOLDER_TRAIN,  \n",
    "    target_size=TARGET_SIZE,    \n",
    "    color_mode=COLOR_MODE,  \n",
    "    batch_size=BATCH_SIZE,\n",
    "    class_mode=CLASS_MODE,  \n",
    "    subset='training', \n",
    "    seed = SEED\n",
    ")\n",
    "\n",
    "# Load validation data (20% of the training data)\n",
    "validation_generator = train_datagen.flow_from_directory(\n",
    "    DATASET_FOLDER_TRAIN, \n",
    "    target_size=TARGET_SIZE,\n",
    "    color_mode=COLOR_MODE,\n",
    "    batch_size=BATCH_SIZE,\n",
    "    class_mode=CLASS_MODE,\n",
    "    subset='validation', \n",
    "    shuffle=False,\n",
    ")\n",
    "\n",
    "test_datagen = ImageDataGenerator(rescale=1./255)\n",
    "\n",
    "test_generator = test_datagen.flow_from_directory(\n",
    "    DATASET_FOLDER_TEST,  \n",
    "    target_size=TARGET_SIZE,\n",
    "    color_mode=COLOR_MODE,\n",
    "    batch_size=BATCH_SIZE,\n",
    "    class_mode=CLASS_MODE,\n",
    ")"
   ]
  },
  {
   "cell_type": "markdown",
   "metadata": {},
   "source": [
    "### EDA"
   ]
  },
  {
   "cell_type": "code",
   "execution_count": 6,
   "metadata": {},
   "outputs": [
    {
     "name": "stdout",
     "output_type": "stream",
     "text": [
      "Class distribution: \n",
      "Train REAL images: 50000\n",
      "Train FAKE images: 50000\n",
      "Test REAL images: 10000\n",
      "Test FAKE images: 10000\n"
     ]
    }
   ],
   "source": [
    "print('Class distribution: ')\n",
    "print( f'Train REAL images: {len(glob.glob('CIFAKE/train/REAL/*'))}'  )\n",
    "print( f'Train FAKE images: {len(glob.glob('CIFAKE/train/FAKE/*'))}'  )\n",
    "\n",
    "print( f'Test REAL images: {len(glob.glob('CIFAKE/test/REAL/*'))}'  )\n",
    "print( f'Test FAKE images: {len(glob.glob('CIFAKE/test/FAKE/*'))}'  )"
   ]
  },
  {
   "cell_type": "code",
   "execution_count": 7,
   "metadata": {},
   "outputs": [],
   "source": [
    "# Show random image"
   ]
  },
  {
   "cell_type": "markdown",
   "metadata": {},
   "source": [
    "#### Image normalisation"
   ]
  },
  {
   "cell_type": "code",
   "execution_count": 8,
   "metadata": {},
   "outputs": [],
   "source": [
    "# Image normalisation"
   ]
  },
  {
   "cell_type": "markdown",
   "metadata": {},
   "source": [
    "### Load model"
   ]
  },
  {
   "cell_type": "code",
   "execution_count": 9,
   "metadata": {},
   "outputs": [],
   "source": [
    "# Convert to rgb\n",
    "def convert_grayscale_to_rgb(batch):\n",
    "    tensor_batch = tf.convert_to_tensor(batch)\n",
    "\n",
    "    rgb_batch = tf.image.grayscale_to_rgb(tensor_batch)\n",
    "    return rgb_batch\n",
    "\n",
    "def rgb_wrapper(generator):\n",
    "    for batch, labels in generator:\n",
    "        yield convert_grayscale_to_rgb(batch), labels\n",
    "\n",
    "train_generator_rgb = rgb_wrapper(train_generator)\n",
    "validation_generator_rgb = rgb_wrapper(validation_generator)\n",
    "test_generator_rgb = rgb_wrapper(test_generator)"
   ]
  },
  {
   "cell_type": "code",
   "execution_count": 31,
   "metadata": {},
   "outputs": [],
   "source": [
    "top_layers_text = \"x = Flatten()(VGG_model.output)<br>\"\n",
    "top_layers_text += \"x = Dense(32, activation='relu')(x)<br>\"\n",
    "top_layers_text += \"x = BatchNormalization()(x)<br>\"\n",
    "top_layers_text += \"x = Dense(32, activation='relu')(x)<br>\"\n",
    "top_layers_text += \"x = Dense(1, activation='sigmoid')(x)\""
   ]
  },
  {
   "cell_type": "code",
   "execution_count": 10,
   "metadata": {},
   "outputs": [],
   "source": [
    "n_classes = train_generator.num_classes\n",
    "\n",
    "VGG_model = MODEL\n",
    "\n",
    "for layer in VGG_model.layers:\n",
    "    layer.trainable = False\n",
    "\n",
    "x = Flatten()(VGG_model.output)\n",
    "x = Dense(32, activation='relu')(x)\n",
    "x = BatchNormalization()(x)\n",
    "x = Dense(32, activation='relu')(x)\n",
    "x = Dense(1, activation='sigmoid')(x)\n",
    "\n",
    "# Custom model\n",
    "customVGG = Model(inputs=VGG_model.input, outputs=x)\n",
    "\n",
    "customVGG.compile(loss=BinaryCrossentropy(), \n",
    "                  optimizer=Adam(learning_rate=LEARN_RATE), \n",
    "                  metrics=['accuracy', Precision(), Recall()])"
   ]
  },
  {
   "cell_type": "markdown",
   "metadata": {},
   "source": [
    "### Train model"
   ]
  },
  {
   "cell_type": "code",
   "execution_count": 11,
   "metadata": {},
   "outputs": [
    {
     "name": "stdout",
     "output_type": "stream",
     "text": [
      "Epoch 1/50\n"
     ]
    },
    {
     "name": "stderr",
     "output_type": "stream",
     "text": [
      "WARNING: All log messages before absl::InitializeLog() is called are written to STDERR\n",
      "I0000 00:00:1729331046.428825   11965 service.cc:146] XLA service 0x7ba1bc005060 initialized for platform CUDA (this does not guarantee that XLA will be used). Devices:\n",
      "I0000 00:00:1729331046.428844   11965 service.cc:154]   StreamExecutor device (0): NVIDIA GeForce GTX 1060 6GB, Compute Capability 6.1\n",
      "2024-10-19 11:44:06.469860: I tensorflow/compiler/mlir/tensorflow/utils/dump_mlir_util.cc:268] disabling MLIR crash reproducer, set env var `MLIR_CRASH_REPRODUCER_DIRECTORY` to enable.\n",
      "2024-10-19 11:44:06.657928: I external/local_xla/xla/stream_executor/cuda/cuda_dnn.cc:531] Loaded cuDNN version 8907\n"
     ]
    },
    {
     "name": "stdout",
     "output_type": "stream",
     "text": [
      "\u001b[1m  16/2916\u001b[0m \u001b[37m━━━━━━━━━━━━━━━━━━━━\u001b[0m \u001b[1m31s\u001b[0m 11ms/step - accuracy: 0.4684 - loss: 0.8884 - precision: 0.4705 - recall: 0.8429"
     ]
    },
    {
     "name": "stderr",
     "output_type": "stream",
     "text": [
      "I0000 00:00:1729331048.585342   11965 device_compiler.h:188] Compiled cluster using XLA!  This line is logged at most once for the lifetime of the process.\n"
     ]
    },
    {
     "name": "stdout",
     "output_type": "stream",
     "text": [
      "\u001b[1m2916/2916\u001b[0m \u001b[32m━━━━━━━━━━━━━━━━━━━━\u001b[0m\u001b[37m\u001b[0m \u001b[1m47s\u001b[0m 15ms/step - accuracy: 0.6557 - loss: 0.6194 - precision: 0.6503 - recall: 0.6921 - val_accuracy: 0.7129 - val_loss: 0.5574 - val_precision: 0.7173 - val_recall: 0.7029\n",
      "Epoch 2/50\n",
      "\u001b[1m2916/2916\u001b[0m \u001b[32m━━━━━━━━━━━━━━━━━━━━\u001b[0m\u001b[37m\u001b[0m \u001b[1m45s\u001b[0m 15ms/step - accuracy: 0.7044 - loss: 0.5657 - precision: 0.7052 - recall: 0.6990 - val_accuracy: 0.7135 - val_loss: 0.5594 - val_precision: 0.7412 - val_recall: 0.6561\n",
      "Epoch 3/50\n",
      "\u001b[1m2916/2916\u001b[0m \u001b[32m━━━━━━━━━━━━━━━━━━━━\u001b[0m\u001b[37m\u001b[0m \u001b[1m43s\u001b[0m 15ms/step - accuracy: 0.7112 - loss: 0.5625 - precision: 0.7120 - recall: 0.7107 - val_accuracy: 0.7143 - val_loss: 0.5550 - val_precision: 0.6830 - val_recall: 0.7996\n",
      "Epoch 4/50\n",
      "\u001b[1m2916/2916\u001b[0m \u001b[32m━━━━━━━━━━━━━━━━━━━━\u001b[0m\u001b[37m\u001b[0m \u001b[1m43s\u001b[0m 15ms/step - accuracy: 0.7142 - loss: 0.5577 - precision: 0.7147 - recall: 0.7164 - val_accuracy: 0.7088 - val_loss: 0.5637 - val_precision: 0.6696 - val_recall: 0.8243\n",
      "Epoch 5/50\n",
      "\u001b[1m2916/2916\u001b[0m \u001b[32m━━━━━━━━━━━━━━━━━━━━\u001b[0m\u001b[37m\u001b[0m \u001b[1m43s\u001b[0m 15ms/step - accuracy: 0.7135 - loss: 0.5582 - precision: 0.7138 - recall: 0.7174 - val_accuracy: 0.7258 - val_loss: 0.5382 - val_precision: 0.7287 - val_recall: 0.7196\n",
      "Epoch 6/50\n",
      "\u001b[1m2916/2916\u001b[0m \u001b[32m━━━━━━━━━━━━━━━━━━━━\u001b[0m\u001b[37m\u001b[0m \u001b[1m44s\u001b[0m 15ms/step - accuracy: 0.7226 - loss: 0.5485 - precision: 0.7213 - recall: 0.7196 - val_accuracy: 0.7264 - val_loss: 0.5374 - val_precision: 0.7365 - val_recall: 0.7049\n",
      "Epoch 7/50\n",
      "\u001b[1m2916/2916\u001b[0m \u001b[32m━━━━━━━━━━━━━━━━━━━━\u001b[0m\u001b[37m\u001b[0m \u001b[1m44s\u001b[0m 15ms/step - accuracy: 0.7208 - loss: 0.5482 - precision: 0.7203 - recall: 0.7231 - val_accuracy: 0.7214 - val_loss: 0.5433 - val_precision: 0.7345 - val_recall: 0.6933\n",
      "Epoch 8/50\n",
      "\u001b[1m2916/2916\u001b[0m \u001b[32m━━━━━━━━━━━━━━━━━━━━\u001b[0m\u001b[37m\u001b[0m \u001b[1m45s\u001b[0m 15ms/step - accuracy: 0.7247 - loss: 0.5442 - precision: 0.7252 - recall: 0.7211 - val_accuracy: 0.7312 - val_loss: 0.5340 - val_precision: 0.7385 - val_recall: 0.7159\n",
      "Epoch 9/50\n",
      "\u001b[1m2916/2916\u001b[0m \u001b[32m━━━━━━━━━━━━━━━━━━━━\u001b[0m\u001b[37m\u001b[0m \u001b[1m46s\u001b[0m 16ms/step - accuracy: 0.7229 - loss: 0.5431 - precision: 0.7228 - recall: 0.7227 - val_accuracy: 0.7291 - val_loss: 0.5341 - val_precision: 0.7278 - val_recall: 0.7320\n",
      "Epoch 10/50\n",
      "\u001b[1m2916/2916\u001b[0m \u001b[32m━━━━━━━━━━━━━━━━━━━━\u001b[0m\u001b[37m\u001b[0m \u001b[1m47s\u001b[0m 16ms/step - accuracy: 0.7210 - loss: 0.5462 - precision: 0.7206 - recall: 0.7221 - val_accuracy: 0.7306 - val_loss: 0.5360 - val_precision: 0.7351 - val_recall: 0.7212\n",
      "Epoch 11/50\n",
      "\u001b[1m2916/2916\u001b[0m \u001b[32m━━━━━━━━━━━━━━━━━━━━\u001b[0m\u001b[37m\u001b[0m \u001b[1m45s\u001b[0m 15ms/step - accuracy: 0.7265 - loss: 0.5402 - precision: 0.7262 - recall: 0.7252 - val_accuracy: 0.7331 - val_loss: 0.5310 - val_precision: 0.7575 - val_recall: 0.6859\n",
      "Epoch 12/50\n",
      "\u001b[1m2916/2916\u001b[0m \u001b[32m━━━━━━━━━━━━━━━━━━━━\u001b[0m\u001b[37m\u001b[0m \u001b[1m46s\u001b[0m 16ms/step - accuracy: 0.7294 - loss: 0.5370 - precision: 0.7295 - recall: 0.7293 - val_accuracy: 0.7287 - val_loss: 0.5315 - val_precision: 0.7275 - val_recall: 0.7314\n",
      "Epoch 13/50\n",
      "\u001b[1m2916/2916\u001b[0m \u001b[32m━━━━━━━━━━━━━━━━━━━━\u001b[0m\u001b[37m\u001b[0m \u001b[1m46s\u001b[0m 16ms/step - accuracy: 0.7275 - loss: 0.5382 - precision: 0.7248 - recall: 0.7313 - val_accuracy: 0.7296 - val_loss: 0.5333 - val_precision: 0.7441 - val_recall: 0.6998\n",
      "Epoch 14/50\n",
      "\u001b[1m2916/2916\u001b[0m \u001b[32m━━━━━━━━━━━━━━━━━━━━\u001b[0m\u001b[37m\u001b[0m \u001b[1m45s\u001b[0m 16ms/step - accuracy: 0.7249 - loss: 0.5380 - precision: 0.7237 - recall: 0.7283 - val_accuracy: 0.7331 - val_loss: 0.5312 - val_precision: 0.7124 - val_recall: 0.7817\n",
      "Epoch 15/50\n",
      "\u001b[1m2916/2916\u001b[0m \u001b[32m━━━━━━━━━━━━━━━━━━━━\u001b[0m\u001b[37m\u001b[0m \u001b[1m46s\u001b[0m 16ms/step - accuracy: 0.7290 - loss: 0.5374 - precision: 0.7265 - recall: 0.7258 - val_accuracy: 0.7373 - val_loss: 0.5254 - val_precision: 0.7345 - val_recall: 0.7431\n",
      "Epoch 16/50\n",
      "\u001b[1m2916/2916\u001b[0m \u001b[32m━━━━━━━━━━━━━━━━━━━━\u001b[0m\u001b[37m\u001b[0m \u001b[1m45s\u001b[0m 16ms/step - accuracy: 0.7200 - loss: 0.5414 - precision: 0.7214 - recall: 0.7190 - val_accuracy: 0.7316 - val_loss: 0.5310 - val_precision: 0.7471 - val_recall: 0.7001\n",
      "Epoch 17/50\n",
      "\u001b[1m2916/2916\u001b[0m \u001b[32m━━━━━━━━━━━━━━━━━━━━\u001b[0m\u001b[37m\u001b[0m \u001b[1m45s\u001b[0m 16ms/step - accuracy: 0.7288 - loss: 0.5344 - precision: 0.7271 - recall: 0.7296 - val_accuracy: 0.7365 - val_loss: 0.5265 - val_precision: 0.7203 - val_recall: 0.7733\n",
      "Epoch 18/50\n",
      "\u001b[1m2916/2916\u001b[0m \u001b[32m━━━━━━━━━━━━━━━━━━━━\u001b[0m\u001b[37m\u001b[0m \u001b[1m46s\u001b[0m 16ms/step - accuracy: 0.7282 - loss: 0.5403 - precision: 0.7259 - recall: 0.7304 - val_accuracy: 0.7353 - val_loss: 0.5268 - val_precision: 0.7597 - val_recall: 0.6884\n",
      "Epoch 19/50\n",
      "\u001b[1m2916/2916\u001b[0m \u001b[32m━━━━━━━━━━━━━━━━━━━━\u001b[0m\u001b[37m\u001b[0m \u001b[1m46s\u001b[0m 16ms/step - accuracy: 0.7322 - loss: 0.5351 - precision: 0.7348 - recall: 0.7300 - val_accuracy: 0.7389 - val_loss: 0.5216 - val_precision: 0.7497 - val_recall: 0.7173\n",
      "Epoch 20/50\n",
      "\u001b[1m2916/2916\u001b[0m \u001b[32m━━━━━━━━━━━━━━━━━━━━\u001b[0m\u001b[37m\u001b[0m \u001b[1m45s\u001b[0m 15ms/step - accuracy: 0.7276 - loss: 0.5417 - precision: 0.7291 - recall: 0.7245 - val_accuracy: 0.7329 - val_loss: 0.5300 - val_precision: 0.7084 - val_recall: 0.7916\n",
      "Epoch 21/50\n",
      "\u001b[1m2916/2916\u001b[0m \u001b[32m━━━━━━━━━━━━━━━━━━━━\u001b[0m\u001b[37m\u001b[0m \u001b[1m46s\u001b[0m 16ms/step - accuracy: 0.7276 - loss: 0.5389 - precision: 0.7244 - recall: 0.7333 - val_accuracy: 0.7331 - val_loss: 0.5261 - val_precision: 0.7433 - val_recall: 0.7121\n",
      "Epoch 22/50\n",
      "\u001b[1m2916/2916\u001b[0m \u001b[32m━━━━━━━━━━━━━━━━━━━━\u001b[0m\u001b[37m\u001b[0m \u001b[1m46s\u001b[0m 16ms/step - accuracy: 0.7314 - loss: 0.5357 - precision: 0.7317 - recall: 0.7316 - val_accuracy: 0.7367 - val_loss: 0.5251 - val_precision: 0.7258 - val_recall: 0.7609\n",
      "Epoch 23/50\n",
      "\u001b[1m2916/2916\u001b[0m \u001b[32m━━━━━━━━━━━━━━━━━━━━\u001b[0m\u001b[37m\u001b[0m \u001b[1m46s\u001b[0m 16ms/step - accuracy: 0.7327 - loss: 0.5328 - precision: 0.7353 - recall: 0.7315 - val_accuracy: 0.7386 - val_loss: 0.5248 - val_precision: 0.7433 - val_recall: 0.7288\n",
      "Epoch 24/50\n",
      "\u001b[1m2916/2916\u001b[0m \u001b[32m━━━━━━━━━━━━━━━━━━━━\u001b[0m\u001b[37m\u001b[0m \u001b[1m46s\u001b[0m 16ms/step - accuracy: 0.7293 - loss: 0.5349 - precision: 0.7299 - recall: 0.7330 - val_accuracy: 0.7386 - val_loss: 0.5235 - val_precision: 0.7398 - val_recall: 0.7362\n"
     ]
    }
   ],
   "source": [
    "history = customVGG.fit(train_generator_rgb, \n",
    "                             callbacks=[EarlyStopping(monitor='val_loss', patience=5, restore_best_weights=True)],\n",
    "                             epochs=N_EPOCHS, \n",
    "                             validation_data=validation_generator_rgb,\n",
    "                             steps_per_epoch=train_generator.samples // BATCH_SIZE,\n",
    "                             validation_steps=validation_generator.samples // BATCH_SIZE,\n",
    "                        )"
   ]
  },
  {
   "cell_type": "code",
   "execution_count": 12,
   "metadata": {},
   "outputs": [
    {
     "data": {
      "text/plain": [
       "['accuracy',\n",
       " 'loss',\n",
       " 'precision',\n",
       " 'recall',\n",
       " 'val_accuracy',\n",
       " 'val_loss',\n",
       " 'val_precision',\n",
       " 'val_recall']"
      ]
     },
     "execution_count": 12,
     "metadata": {},
     "output_type": "execute_result"
    }
   ],
   "source": [
    "hist = history.history\n",
    "cols = list(history.history.keys())\n",
    "cols"
   ]
  },
  {
   "cell_type": "code",
   "execution_count": 13,
   "metadata": {},
   "outputs": [],
   "source": [
    "# n = int(cols[3][-1])\n",
    "\n",
    "# dict_ = { 'loss' : hist['loss'],\n",
    "#          'accuracy' : hist[f'accuracy'],\n",
    "#          'precision' : hist[f'precision_{n}'],\n",
    "#          'recall' : hist[f'recall_{n}'],\n",
    "#          'val_loss' : hist['val_loss'],\n",
    "#          'val_accuracy' : hist[f'val_accuracy'],\n",
    "#          'val_precision' : hist[f'val_precision_{n}'],\n",
    "#          'val_recall' : hist[f'val_recall_{n}']\n",
    "\n",
    "# }\n",
    "# hist = pd.DataFrame(dict_)"
   ]
  },
  {
   "cell_type": "markdown",
   "metadata": {},
   "source": [
    "### Evaluation"
   ]
  },
  {
   "cell_type": "code",
   "execution_count": 14,
   "metadata": {},
   "outputs": [],
   "source": [
    "fig_metrics = make_subplots(rows=2, cols=2, subplot_titles=(\"Loss\", f\"Precision\", \"Accuracy\", \"Recall\"), vertical_spacing=0.07)\n",
    "\n",
    "# Loss\n",
    "fig_metrics.add_trace( go.Scatter(x=list(range(len(hist['loss']))), y=hist['loss'], mode='lines+markers', name='Train Loss'), row=1, col=1 )\n",
    "fig_metrics.add_trace( go.Scatter(x=list(range(len(hist['val_loss']))), y=hist['val_loss'], mode='lines+markers', name='Val Loss'), row=1, col=1 )\n",
    "\n",
    "# Precision\n",
    "fig_metrics.add_trace(  go.Scatter(x=list(range(len(hist['precision']))), y=hist['precision'],  mode='lines+markers', name=f'Train precision'),  row=1, col=2 )\n",
    "fig_metrics.add_trace( go.Scatter(x=list(range(len(hist['val_precision']))), y=hist['val_precision'], mode='lines+markers', name=f'Val precision'), row=1, col=2)\n",
    "\n",
    "# Accuracy\n",
    "fig_metrics.add_trace(  go.Scatter(x=list(range(len(hist['accuracy']))), y=hist['accuracy'],  mode='lines+markers', name=f'Train accuracy'),  row=2, col=1 )\n",
    "fig_metrics.add_trace( go.Scatter(x=list(range(len(hist['val_accuracy']))), y=hist['val_accuracy'], mode='lines+markers', name=f'Val accuracy'), row=2, col=1)\n",
    "\n",
    "# Recall\n",
    "fig_metrics.add_trace(  go.Scatter(x=list(range(len(hist['recall']))), y=hist['recall'],  mode='lines+markers', name=f'Train recall'),  row=2, col=2 )\n",
    "fig_metrics.add_trace( go.Scatter(x=list(range(len(hist['val_recall']))), y=hist['val_recall'], mode='lines+markers', name=f'Val recall'), row=2, col=2)\n",
    "\n",
    "# fig.update_xaxes(title_text=\"Epochs\", row=1, col=1)\n",
    "fig_metrics.update_yaxes(title_text=\"Loss\", row=1, col=1)\n",
    "fig_metrics.update_yaxes(title_text=f\"Precision\", row=1, col=2)\n",
    "fig_metrics.update_yaxes(title_text=f\"Accuracy\", row=2, col=1)\n",
    "fig_metrics.update_yaxes(title_text=f\"Recall\", row=2, col=2)\n",
    "\n",
    "fig_metrics.update_layout(\n",
    "    # title_text=\"Training and validation metrics over epochs\",\n",
    "    showlegend=True,\n",
    "    margin=dict(l=10, r=10, b=10, t=30),\n",
    "    width=1400, height=800\n",
    ")\n",
    "\n",
    "for annotation in fig_metrics['layout']['annotations']:\n",
    "    annotation['y'] = annotation['y'] + 0.002"
   ]
  },
  {
   "cell_type": "code",
   "execution_count": 15,
   "metadata": {},
   "outputs": [
    {
     "name": "stdout",
     "output_type": "stream",
     "text": [
      "\u001b[1m833/833\u001b[0m \u001b[32m━━━━━━━━━━━━━━━━━━━━\u001b[0m\u001b[37m\u001b[0m \u001b[1m8s\u001b[0m 10ms/step - accuracy: 0.7635 - loss: 0.4882 - precision: 0.8230 - recall: 0.6712\n"
     ]
    }
   ],
   "source": [
    "# Evaluate the model on test data\n",
    "test_loss, test_acc, test_prec, test_recall = customVGG.evaluate(\n",
    "    test_generator_rgb,\n",
    "    steps=test_generator.samples // test_generator.batch_size\n",
    ")"
   ]
  },
  {
   "cell_type": "code",
   "execution_count": 16,
   "metadata": {},
   "outputs": [
    {
     "name": "stdout",
     "output_type": "stream",
     "text": [
      "\u001b[1m833/833\u001b[0m \u001b[32m━━━━━━━━━━━━━━━━━━━━\u001b[0m\u001b[37m\u001b[0m \u001b[1m9s\u001b[0m 10ms/step\n"
     ]
    }
   ],
   "source": [
    "from sklearn.metrics import confusion_matrix\n",
    "y_true = test_generator.classes\n",
    "y_pred = customVGG.predict(test_generator_rgb, steps=test_generator.samples // test_generator.batch_size)\n",
    "y_pred_classes = np.argmax(y_pred, axis=1)\n",
    "# y_pred_classes = (y_pred > 0.5).astype(int)\n",
    "y_true = y_true[:len(y_pred_classes)]"
   ]
  },
  {
   "cell_type": "code",
   "execution_count": 17,
   "metadata": {},
   "outputs": [
    {
     "data": {
      "text/plain": [
       "((19976,), (19976,), dict_keys(['FAKE', 'REAL']))"
      ]
     },
     "execution_count": 17,
     "metadata": {},
     "output_type": "execute_result"
    }
   ],
   "source": [
    "y_true.shape, y_pred_classes.shape, test_generator.class_indices.keys()"
   ]
  },
  {
   "cell_type": "code",
   "execution_count": 18,
   "metadata": {},
   "outputs": [
    {
     "name": "stdout",
     "output_type": "stream",
     "text": [
      "\n"
     ]
    }
   ],
   "source": [
    "# Generate the confusion matrix\n",
    "cm = confusion_matrix(y_true, y_pred_classes)\n",
    "\n",
    "class_labels = list(test_generator.class_indices.keys())\n",
    "\n",
    "# Plotly heatmap for confusion matrix\n",
    "fig_confMatrix = go.Figure(data=go.Heatmap(\n",
    "    z=cm,\n",
    "    x=['REAL', 'FAKE'] ,  # Predicted labels\n",
    "    y= ['FAKE', 'REAL'],  # True labels\n",
    "    hoverongaps=False,\n",
    "    colorscale='Blues',\n",
    "    showscale=True,\n",
    "    text=cm,\n",
    "    texttemplate=\"%{text}\",\n",
    "    textfont={\"size\":15}\n",
    "))\n",
    "\n",
    "# Update layout to add labels and title\n",
    "fig_confMatrix.update_layout(\n",
    "    title='Confusion Matrix',\n",
    "    xaxis_title='Predicted Label',\n",
    "    yaxis_title='True Label',\n",
    "    width=600,\n",
    "    height=500,\n",
    ")\n",
    "print()"
   ]
  },
  {
   "cell_type": "code",
   "execution_count": 19,
   "metadata": {},
   "outputs": [
    {
     "data": {
      "text/plain": [
       "array([0, 0, 0, ..., 1, 1, 1], dtype=int32)"
      ]
     },
     "execution_count": 19,
     "metadata": {},
     "output_type": "execute_result"
    }
   ],
   "source": [
    "test_generator.classes"
   ]
  },
  {
   "cell_type": "code",
   "execution_count": 20,
   "metadata": {},
   "outputs": [
    {
     "name": "stdout",
     "output_type": "stream",
     "text": [
      "\n"
     ]
    }
   ],
   "source": [
    "from sklearn.preprocessing import label_binarize\n",
    "from sklearn.metrics import roc_curve, auc\n",
    "\n",
    "\n",
    "# Compute ROC curve and ROC AUC\n",
    "fpr, tpr, _ = roc_curve(y_true, y_pred_classes)\n",
    "roc_auc = auc(fpr, tpr)\n",
    "\n",
    "# Plot the ROC curve using Plotly\n",
    "fig_rocauc = go.Figure()\n",
    "\n",
    "# Add the ROC curve\n",
    "fig_rocauc.add_trace(go.Scatter(\n",
    "    x=fpr, y=tpr,\n",
    "    mode='lines',\n",
    "    line=dict(color='blue', width=2),\n",
    "    name=f'ROC curve (AUC = {roc_auc:0.2f})'\n",
    "))\n",
    "\n",
    "# Add the diagonal line (random classifier)\n",
    "fig_rocauc.add_trace(go.Scatter(\n",
    "    x=[0, 1], y=[0, 1],\n",
    "    mode='lines',\n",
    "    line=dict(color='black', dash='dash'),\n",
    "    showlegend=False,\n",
    "    hoverinfo='skip'\n",
    "))\n",
    "\n",
    "# Update layout with axis titles and legend\n",
    "fig_rocauc.update_layout(\n",
    "    title='ROC AUC for Binary Classification',\n",
    "    xaxis_title='False Positive Rate',\n",
    "    yaxis_title='True Positive Rate',\n",
    "    width=700,\n",
    "    height=600,\n",
    "    legend=dict(x=0.6, y=0.1),\n",
    "    margin=dict(l=40, r=40, t=40, b=40),)\n",
    "print()"
   ]
  },
  {
   "cell_type": "code",
   "execution_count": 21,
   "metadata": {},
   "outputs": [],
   "source": [
    "# Classification report \n",
    "from sklearn.metrics import classification_report\n",
    "\n",
    "report = classification_report(y_true, y_pred_classes, target_names=class_labels, \n",
    "                               zero_division=False,\n",
    "                               labels = [0, 1])"
   ]
  },
  {
   "cell_type": "markdown",
   "metadata": {},
   "source": [
    "### Evaluation plots+"
   ]
  },
  {
   "cell_type": "code",
   "execution_count": 22,
   "metadata": {},
   "outputs": [],
   "source": [
    "# print(hist)\n",
    "# hist"
   ]
  },
  {
   "cell_type": "code",
   "execution_count": 32,
   "metadata": {},
   "outputs": [
    {
     "data": {
      "application/vnd.plotly.v1+json": {
       "config": {
        "plotlyServerURL": "https://plot.ly"
       },
       "data": [
        {
         "mode": "text",
         "showlegend": false,
         "text": [
          "x = Flatten()(VGG_model.output)<br>x = Dense(32, activation='relu')(x)<br>x = BatchNormalization()(x)<br>x = Dense(32, activation='relu')(x)<br>x = Dense(1, activation='sigmoid')(x)"
         ],
         "type": "scatter",
         "x": [
          0.5
         ],
         "xaxis": "x",
         "y": [
          0.5
         ],
         "yaxis": "y"
        },
        {
         "mode": "text",
         "showlegend": false,
         "text": [
          "Test loss: 0.4872<br>Test accuracy: 0.7651<br>Test precision: 0.8280<br>Test recall: 0.6691<br><br>ROC-AUC: 0.5000<br><br>Classification report<br>              precision    recall  f1-score   support<br><br>        FAKE       0.50      1.00      0.67     10000<br>        REAL       0.00      0.00      0.00      9976<br><br>    accuracy                           0.50     19976<br>   macro avg       0.25      0.50      0.33     19976<br>weighted avg       0.25      0.50      0.33     19976<br>"
         ],
         "type": "scatter",
         "x": [
          0.5
         ],
         "xaxis": "x2",
         "y": [
          0.5
         ],
         "yaxis": "y2"
        },
        {
         "mode": "lines+markers",
         "name": "Train Loss",
         "type": "scatter",
         "x": [
          0,
          1,
          2,
          3,
          4,
          5,
          6,
          7,
          8,
          9,
          10,
          11,
          12,
          13,
          14,
          15,
          16,
          17,
          18,
          19,
          20,
          21,
          22,
          23
         ],
         "xaxis": "x3",
         "y": [
          0.5910468697547913,
          0.562549889087677,
          0.5588451027870178,
          0.5570690035820007,
          0.5523736476898193,
          0.5468218922615051,
          0.5476380586624146,
          0.5476386547088623,
          0.5435310006141663,
          0.5432655215263367,
          0.5399864912033081,
          0.5393455624580383,
          0.5392187237739563,
          0.5407388210296631,
          0.5367776155471802,
          0.5398514270782471,
          0.5363878607749939,
          0.5359772443771362,
          0.5352309346199036,
          0.5374768376350403,
          0.5370655059814453,
          0.5341429710388184,
          0.5332176685333252,
          0.5329317450523376
         ],
         "yaxis": "y3"
        },
        {
         "mode": "lines+markers",
         "name": "Val Loss",
         "type": "scatter",
         "x": [
          0,
          1,
          2,
          3,
          4,
          5,
          6,
          7,
          8,
          9,
          10,
          11,
          12,
          13,
          14,
          15,
          16,
          17,
          18,
          19,
          20,
          21,
          22,
          23
         ],
         "xaxis": "x3",
         "y": [
          0.5574248433113098,
          0.5593724846839905,
          0.5550428628921509,
          0.5637224316596985,
          0.5382356643676758,
          0.5373802185058594,
          0.5432927012443542,
          0.5339767932891846,
          0.5341282486915588,
          0.5359843969345093,
          0.5309616327285767,
          0.5314739346504211,
          0.5333261489868164,
          0.5311813950538635,
          0.5254468321800232,
          0.5310400724411011,
          0.5264509916305542,
          0.5267576575279236,
          0.5216073989868164,
          0.5300056338310242,
          0.5261144638061523,
          0.5251319408416748,
          0.5247595906257629,
          0.5234659314155579
         ],
         "yaxis": "y3"
        },
        {
         "mode": "lines+markers",
         "name": "Train precision",
         "type": "scatter",
         "x": [
          0,
          1,
          2,
          3,
          4,
          5,
          6,
          7,
          8,
          9,
          10,
          11,
          12,
          13,
          14,
          15,
          16,
          17,
          18,
          19,
          20,
          21,
          22,
          23
         ],
         "xaxis": "x4",
         "y": [
          0.6807145476341248,
          0.7100479006767273,
          0.7128095030784607,
          0.7133992910385132,
          0.7182437181472778,
          0.7219246625900269,
          0.7198790311813354,
          0.7201572060585022,
          0.7221713662147522,
          0.7224316000938416,
          0.7258496880531311,
          0.7258932590484619,
          0.7264390587806702,
          0.7236298322677612,
          0.7301241159439087,
          0.7231754660606384,
          0.7285351753234863,
          0.729548454284668,
          0.7307769656181335,
          0.7300065755844116,
          0.7281847596168518,
          0.7299457788467407,
          0.7323616743087769,
          0.7303162813186646
         ],
         "yaxis": "y4"
        },
        {
         "mode": "lines+markers",
         "name": "Val precision",
         "type": "scatter",
         "x": [
          0,
          1,
          2,
          3,
          4,
          5,
          6,
          7,
          8,
          9,
          10,
          11,
          12,
          13,
          14,
          15,
          16,
          17,
          18,
          19,
          20,
          21,
          22,
          23
         ],
         "xaxis": "x4",
         "y": [
          0.7172597050666809,
          0.7412065863609314,
          0.6830295920372009,
          0.6696452498435974,
          0.7286842465400696,
          0.7365378141403198,
          0.7345482707023621,
          0.7384816408157349,
          0.7278271317481995,
          0.7350682616233826,
          0.7574731111526489,
          0.7275198698043823,
          0.7440986633300781,
          0.7123937010765076,
          0.7345459461212158,
          0.7471362352371216,
          0.720300555229187,
          0.7596557140350342,
          0.749669075012207,
          0.708430290222168,
          0.7432846426963806,
          0.7257869839668274,
          0.7433195114135742,
          0.7397508025169373
         ],
         "yaxis": "y4"
        },
        {
         "mode": "lines+markers",
         "name": "Train accuracy",
         "type": "scatter",
         "x": [
          0,
          1,
          2,
          3,
          4,
          5,
          6,
          7,
          8,
          9,
          10,
          11,
          12,
          13,
          14,
          15,
          16,
          17,
          18,
          19,
          20,
          21,
          22,
          23
         ],
         "xaxis": "x5",
         "y": [
          0.6827560663223267,
          0.7079712748527527,
          0.712544322013855,
          0.713201642036438,
          0.7180318832397461,
          0.7214759588241577,
          0.7202612161636353,
          0.7207042574882507,
          0.7219189405441284,
          0.7227191925048828,
          0.7264490723609924,
          0.7268348932266235,
          0.7266062498092651,
          0.7236195206642151,
          0.7299502491950989,
          0.7228621244430542,
          0.729107141494751,
          0.7300074100494385,
          0.7301217317581177,
          0.729678750038147,
          0.7283782958984375,
          0.7305790781974792,
          0.7316508293151855,
          0.7313793301582336
         ],
         "yaxis": "y5"
        },
        {
         "mode": "lines+markers",
         "name": "Val accuracy",
         "type": "scatter",
         "x": [
          0,
          1,
          2,
          3,
          4,
          5,
          6,
          7,
          8,
          9,
          10,
          11,
          12,
          13,
          14,
          15,
          16,
          17,
          18,
          19,
          20,
          21,
          22,
          23
         ],
         "xaxis": "x5",
         "y": [
          0.7128999829292297,
          0.7135000228881836,
          0.7142666578292847,
          0.7088333368301392,
          0.7258333563804626,
          0.7263666391372681,
          0.7213666439056396,
          0.7311999797821045,
          0.7291333079338074,
          0.7306333184242249,
          0.7331333160400391,
          0.7287333607673645,
          0.7295666933059692,
          0.7330666780471802,
          0.7372666597366333,
          0.7315666675567627,
          0.7365000247955322,
          0.7353000044822693,
          0.7389000058174133,
          0.7329000234603882,
          0.7330666780471802,
          0.7366999983787537,
          0.7385666370391846,
          0.7386000156402588
         ],
         "yaxis": "y5"
        },
        {
         "mode": "lines+markers",
         "name": "Train recall",
         "type": "scatter",
         "x": [
          0,
          1,
          2,
          3,
          4,
          5,
          6,
          7,
          8,
          9,
          10,
          11,
          12,
          13,
          14,
          15,
          16,
          17,
          18,
          19,
          20,
          21,
          22,
          23
         ],
         "xaxis": "x6",
         "y": [
          0.6883020401000977,
          0.7031692266464233,
          0.7118111252784729,
          0.71293044090271,
          0.7173608541488647,
          0.7204390168190002,
          0.7210518717765808,
          0.722338080406189,
          0.7213250398635864,
          0.7232369780540466,
          0.7276754975318909,
          0.7288188934326172,
          0.7268751263618469,
          0.7247452139854431,
          0.7286409139633179,
          0.7224936485290527,
          0.7302843928337097,
          0.7307373285293579,
          0.7290440797805786,
          0.7290886640548706,
          0.7284554243087769,
          0.7313445806503296,
          0.7306044101715088,
          0.7337601184844971
         ],
         "yaxis": "y6"
        },
        {
         "mode": "lines+markers",
         "name": "Val recall",
         "type": "scatter",
         "x": [
          0,
          1,
          2,
          3,
          4,
          5,
          6,
          7,
          8,
          9,
          10,
          11,
          12,
          13,
          14,
          15,
          16,
          17,
          18,
          19,
          20,
          21,
          22,
          23
         ],
         "xaxis": "x6",
         "y": [
          0.7028666734695435,
          0.6560666561126709,
          0.7996000051498413,
          0.8243333101272583,
          0.7196000218391418,
          0.7048666477203369,
          0.6932666897773743,
          0.7159333229064941,
          0.7319999933242798,
          0.7211999893188477,
          0.68586665391922,
          0.7314000129699707,
          0.6998000144958496,
          0.7817333340644836,
          0.743066668510437,
          0.7000666856765747,
          0.7732666730880737,
          0.6883999705314636,
          0.7173333168029785,
          0.7915999889373779,
          0.712066650390625,
          0.760866641998291,
          0.7287999987602234,
          0.7361999750137329
         ],
         "yaxis": "y6"
        },
        {
         "colorscale": [
          [
           0,
           "rgb(247,251,255)"
          ],
          [
           0.125,
           "rgb(222,235,247)"
          ],
          [
           0.25,
           "rgb(198,219,239)"
          ],
          [
           0.375,
           "rgb(158,202,225)"
          ],
          [
           0.5,
           "rgb(107,174,214)"
          ],
          [
           0.625,
           "rgb(66,146,198)"
          ],
          [
           0.75,
           "rgb(33,113,181)"
          ],
          [
           0.875,
           "rgb(8,81,156)"
          ],
          [
           1,
           "rgb(8,48,107)"
          ]
         ],
         "hoverongaps": false,
         "showscale": true,
         "text": [
          [
           10000,
           0
          ],
          [
           9976,
           0
          ]
         ],
         "textfont": {
          "size": 15
         },
         "texttemplate": "%{text}",
         "type": "heatmap",
         "x": [
          "REAL",
          "FAKE"
         ],
         "xaxis": "x7",
         "y": [
          "FAKE",
          "REAL"
         ],
         "yaxis": "y7",
         "z": [
          [
           10000,
           0
          ],
          [
           9976,
           0
          ]
         ]
        },
        {
         "line": {
          "color": "blue",
          "width": 2
         },
         "mode": "lines",
         "name": "ROC curve (AUC = 0.50)",
         "type": "scatter",
         "x": [
          0,
          1
         ],
         "xaxis": "x8",
         "y": [
          0,
          1
         ],
         "yaxis": "y8"
        },
        {
         "hoverinfo": "skip",
         "line": {
          "color": "black",
          "dash": "dash"
         },
         "mode": "lines",
         "showlegend": false,
         "type": "scatter",
         "x": [
          0,
          1
         ],
         "xaxis": "x8",
         "y": [
          0,
          1
         ],
         "yaxis": "y8"
        }
       ],
       "layout": {
        "annotations": [
         {
          "font": {
           "size": 16
          },
          "showarrow": false,
          "text": "Loss",
          "x": 0.2375,
          "xanchor": "center",
          "xref": "paper",
          "y": 0.7375,
          "yanchor": "bottom",
          "yref": "paper"
         },
         {
          "font": {
           "size": 16
          },
          "showarrow": false,
          "text": "Precision",
          "x": 0.7625,
          "xanchor": "center",
          "xref": "paper",
          "y": 0.7375,
          "yanchor": "bottom",
          "yref": "paper"
         },
         {
          "font": {
           "size": 16
          },
          "showarrow": false,
          "text": "Accuracy",
          "x": 0.2375,
          "xanchor": "center",
          "xref": "paper",
          "y": 0.475,
          "yanchor": "bottom",
          "yref": "paper"
         },
         {
          "font": {
           "size": 16
          },
          "showarrow": false,
          "text": "Recall",
          "x": 0.7625,
          "xanchor": "center",
          "xref": "paper",
          "y": 0.475,
          "yanchor": "bottom",
          "yref": "paper"
         },
         {
          "font": {
           "size": 16
          },
          "showarrow": false,
          "text": "Confusion Matrix",
          "x": 0.2375,
          "xanchor": "center",
          "xref": "paper",
          "y": 0.2125,
          "yanchor": "bottom",
          "yref": "paper"
         },
         {
          "font": {
           "size": 16
          },
          "showarrow": false,
          "text": "ROC-AUC curve",
          "x": 0.7625,
          "xanchor": "center",
          "xref": "paper",
          "y": 0.2125,
          "yanchor": "bottom",
          "yref": "paper"
         }
        ],
        "height": 1600,
        "margin": {
         "b": 10,
         "l": 10,
         "r": 10,
         "t": 50
        },
        "showlegend": false,
        "template": {
         "data": {
          "bar": [
           {
            "error_x": {
             "color": "#2a3f5f"
            },
            "error_y": {
             "color": "#2a3f5f"
            },
            "marker": {
             "line": {
              "color": "#E5ECF6",
              "width": 0.5
             },
             "pattern": {
              "fillmode": "overlay",
              "size": 10,
              "solidity": 0.2
             }
            },
            "type": "bar"
           }
          ],
          "barpolar": [
           {
            "marker": {
             "line": {
              "color": "#E5ECF6",
              "width": 0.5
             },
             "pattern": {
              "fillmode": "overlay",
              "size": 10,
              "solidity": 0.2
             }
            },
            "type": "barpolar"
           }
          ],
          "carpet": [
           {
            "aaxis": {
             "endlinecolor": "#2a3f5f",
             "gridcolor": "white",
             "linecolor": "white",
             "minorgridcolor": "white",
             "startlinecolor": "#2a3f5f"
            },
            "baxis": {
             "endlinecolor": "#2a3f5f",
             "gridcolor": "white",
             "linecolor": "white",
             "minorgridcolor": "white",
             "startlinecolor": "#2a3f5f"
            },
            "type": "carpet"
           }
          ],
          "choropleth": [
           {
            "colorbar": {
             "outlinewidth": 0,
             "ticks": ""
            },
            "type": "choropleth"
           }
          ],
          "contour": [
           {
            "colorbar": {
             "outlinewidth": 0,
             "ticks": ""
            },
            "colorscale": [
             [
              0,
              "#0d0887"
             ],
             [
              0.1111111111111111,
              "#46039f"
             ],
             [
              0.2222222222222222,
              "#7201a8"
             ],
             [
              0.3333333333333333,
              "#9c179e"
             ],
             [
              0.4444444444444444,
              "#bd3786"
             ],
             [
              0.5555555555555556,
              "#d8576b"
             ],
             [
              0.6666666666666666,
              "#ed7953"
             ],
             [
              0.7777777777777778,
              "#fb9f3a"
             ],
             [
              0.8888888888888888,
              "#fdca26"
             ],
             [
              1,
              "#f0f921"
             ]
            ],
            "type": "contour"
           }
          ],
          "contourcarpet": [
           {
            "colorbar": {
             "outlinewidth": 0,
             "ticks": ""
            },
            "type": "contourcarpet"
           }
          ],
          "heatmap": [
           {
            "colorbar": {
             "outlinewidth": 0,
             "ticks": ""
            },
            "colorscale": [
             [
              0,
              "#0d0887"
             ],
             [
              0.1111111111111111,
              "#46039f"
             ],
             [
              0.2222222222222222,
              "#7201a8"
             ],
             [
              0.3333333333333333,
              "#9c179e"
             ],
             [
              0.4444444444444444,
              "#bd3786"
             ],
             [
              0.5555555555555556,
              "#d8576b"
             ],
             [
              0.6666666666666666,
              "#ed7953"
             ],
             [
              0.7777777777777778,
              "#fb9f3a"
             ],
             [
              0.8888888888888888,
              "#fdca26"
             ],
             [
              1,
              "#f0f921"
             ]
            ],
            "type": "heatmap"
           }
          ],
          "heatmapgl": [
           {
            "colorbar": {
             "outlinewidth": 0,
             "ticks": ""
            },
            "colorscale": [
             [
              0,
              "#0d0887"
             ],
             [
              0.1111111111111111,
              "#46039f"
             ],
             [
              0.2222222222222222,
              "#7201a8"
             ],
             [
              0.3333333333333333,
              "#9c179e"
             ],
             [
              0.4444444444444444,
              "#bd3786"
             ],
             [
              0.5555555555555556,
              "#d8576b"
             ],
             [
              0.6666666666666666,
              "#ed7953"
             ],
             [
              0.7777777777777778,
              "#fb9f3a"
             ],
             [
              0.8888888888888888,
              "#fdca26"
             ],
             [
              1,
              "#f0f921"
             ]
            ],
            "type": "heatmapgl"
           }
          ],
          "histogram": [
           {
            "marker": {
             "pattern": {
              "fillmode": "overlay",
              "size": 10,
              "solidity": 0.2
             }
            },
            "type": "histogram"
           }
          ],
          "histogram2d": [
           {
            "colorbar": {
             "outlinewidth": 0,
             "ticks": ""
            },
            "colorscale": [
             [
              0,
              "#0d0887"
             ],
             [
              0.1111111111111111,
              "#46039f"
             ],
             [
              0.2222222222222222,
              "#7201a8"
             ],
             [
              0.3333333333333333,
              "#9c179e"
             ],
             [
              0.4444444444444444,
              "#bd3786"
             ],
             [
              0.5555555555555556,
              "#d8576b"
             ],
             [
              0.6666666666666666,
              "#ed7953"
             ],
             [
              0.7777777777777778,
              "#fb9f3a"
             ],
             [
              0.8888888888888888,
              "#fdca26"
             ],
             [
              1,
              "#f0f921"
             ]
            ],
            "type": "histogram2d"
           }
          ],
          "histogram2dcontour": [
           {
            "colorbar": {
             "outlinewidth": 0,
             "ticks": ""
            },
            "colorscale": [
             [
              0,
              "#0d0887"
             ],
             [
              0.1111111111111111,
              "#46039f"
             ],
             [
              0.2222222222222222,
              "#7201a8"
             ],
             [
              0.3333333333333333,
              "#9c179e"
             ],
             [
              0.4444444444444444,
              "#bd3786"
             ],
             [
              0.5555555555555556,
              "#d8576b"
             ],
             [
              0.6666666666666666,
              "#ed7953"
             ],
             [
              0.7777777777777778,
              "#fb9f3a"
             ],
             [
              0.8888888888888888,
              "#fdca26"
             ],
             [
              1,
              "#f0f921"
             ]
            ],
            "type": "histogram2dcontour"
           }
          ],
          "mesh3d": [
           {
            "colorbar": {
             "outlinewidth": 0,
             "ticks": ""
            },
            "type": "mesh3d"
           }
          ],
          "parcoords": [
           {
            "line": {
             "colorbar": {
              "outlinewidth": 0,
              "ticks": ""
             }
            },
            "type": "parcoords"
           }
          ],
          "pie": [
           {
            "automargin": true,
            "type": "pie"
           }
          ],
          "scatter": [
           {
            "fillpattern": {
             "fillmode": "overlay",
             "size": 10,
             "solidity": 0.2
            },
            "type": "scatter"
           }
          ],
          "scatter3d": [
           {
            "line": {
             "colorbar": {
              "outlinewidth": 0,
              "ticks": ""
             }
            },
            "marker": {
             "colorbar": {
              "outlinewidth": 0,
              "ticks": ""
             }
            },
            "type": "scatter3d"
           }
          ],
          "scattercarpet": [
           {
            "marker": {
             "colorbar": {
              "outlinewidth": 0,
              "ticks": ""
             }
            },
            "type": "scattercarpet"
           }
          ],
          "scattergeo": [
           {
            "marker": {
             "colorbar": {
              "outlinewidth": 0,
              "ticks": ""
             }
            },
            "type": "scattergeo"
           }
          ],
          "scattergl": [
           {
            "marker": {
             "colorbar": {
              "outlinewidth": 0,
              "ticks": ""
             }
            },
            "type": "scattergl"
           }
          ],
          "scattermapbox": [
           {
            "marker": {
             "colorbar": {
              "outlinewidth": 0,
              "ticks": ""
             }
            },
            "type": "scattermapbox"
           }
          ],
          "scatterpolar": [
           {
            "marker": {
             "colorbar": {
              "outlinewidth": 0,
              "ticks": ""
             }
            },
            "type": "scatterpolar"
           }
          ],
          "scatterpolargl": [
           {
            "marker": {
             "colorbar": {
              "outlinewidth": 0,
              "ticks": ""
             }
            },
            "type": "scatterpolargl"
           }
          ],
          "scatterternary": [
           {
            "marker": {
             "colorbar": {
              "outlinewidth": 0,
              "ticks": ""
             }
            },
            "type": "scatterternary"
           }
          ],
          "surface": [
           {
            "colorbar": {
             "outlinewidth": 0,
             "ticks": ""
            },
            "colorscale": [
             [
              0,
              "#0d0887"
             ],
             [
              0.1111111111111111,
              "#46039f"
             ],
             [
              0.2222222222222222,
              "#7201a8"
             ],
             [
              0.3333333333333333,
              "#9c179e"
             ],
             [
              0.4444444444444444,
              "#bd3786"
             ],
             [
              0.5555555555555556,
              "#d8576b"
             ],
             [
              0.6666666666666666,
              "#ed7953"
             ],
             [
              0.7777777777777778,
              "#fb9f3a"
             ],
             [
              0.8888888888888888,
              "#fdca26"
             ],
             [
              1,
              "#f0f921"
             ]
            ],
            "type": "surface"
           }
          ],
          "table": [
           {
            "cells": {
             "fill": {
              "color": "#EBF0F8"
             },
             "line": {
              "color": "white"
             }
            },
            "header": {
             "fill": {
              "color": "#C8D4E3"
             },
             "line": {
              "color": "white"
             }
            },
            "type": "table"
           }
          ]
         },
         "layout": {
          "annotationdefaults": {
           "arrowcolor": "#2a3f5f",
           "arrowhead": 0,
           "arrowwidth": 1
          },
          "autotypenumbers": "strict",
          "coloraxis": {
           "colorbar": {
            "outlinewidth": 0,
            "ticks": ""
           }
          },
          "colorscale": {
           "diverging": [
            [
             0,
             "#8e0152"
            ],
            [
             0.1,
             "#c51b7d"
            ],
            [
             0.2,
             "#de77ae"
            ],
            [
             0.3,
             "#f1b6da"
            ],
            [
             0.4,
             "#fde0ef"
            ],
            [
             0.5,
             "#f7f7f7"
            ],
            [
             0.6,
             "#e6f5d0"
            ],
            [
             0.7,
             "#b8e186"
            ],
            [
             0.8,
             "#7fbc41"
            ],
            [
             0.9,
             "#4d9221"
            ],
            [
             1,
             "#276419"
            ]
           ],
           "sequential": [
            [
             0,
             "#0d0887"
            ],
            [
             0.1111111111111111,
             "#46039f"
            ],
            [
             0.2222222222222222,
             "#7201a8"
            ],
            [
             0.3333333333333333,
             "#9c179e"
            ],
            [
             0.4444444444444444,
             "#bd3786"
            ],
            [
             0.5555555555555556,
             "#d8576b"
            ],
            [
             0.6666666666666666,
             "#ed7953"
            ],
            [
             0.7777777777777778,
             "#fb9f3a"
            ],
            [
             0.8888888888888888,
             "#fdca26"
            ],
            [
             1,
             "#f0f921"
            ]
           ],
           "sequentialminus": [
            [
             0,
             "#0d0887"
            ],
            [
             0.1111111111111111,
             "#46039f"
            ],
            [
             0.2222222222222222,
             "#7201a8"
            ],
            [
             0.3333333333333333,
             "#9c179e"
            ],
            [
             0.4444444444444444,
             "#bd3786"
            ],
            [
             0.5555555555555556,
             "#d8576b"
            ],
            [
             0.6666666666666666,
             "#ed7953"
            ],
            [
             0.7777777777777778,
             "#fb9f3a"
            ],
            [
             0.8888888888888888,
             "#fdca26"
            ],
            [
             1,
             "#f0f921"
            ]
           ]
          },
          "colorway": [
           "#636efa",
           "#EF553B",
           "#00cc96",
           "#ab63fa",
           "#FFA15A",
           "#19d3f3",
           "#FF6692",
           "#B6E880",
           "#FF97FF",
           "#FECB52"
          ],
          "font": {
           "color": "#2a3f5f"
          },
          "geo": {
           "bgcolor": "white",
           "lakecolor": "white",
           "landcolor": "#E5ECF6",
           "showlakes": true,
           "showland": true,
           "subunitcolor": "white"
          },
          "hoverlabel": {
           "align": "left"
          },
          "hovermode": "closest",
          "mapbox": {
           "style": "light"
          },
          "paper_bgcolor": "white",
          "plot_bgcolor": "#E5ECF6",
          "polar": {
           "angularaxis": {
            "gridcolor": "white",
            "linecolor": "white",
            "ticks": ""
           },
           "bgcolor": "#E5ECF6",
           "radialaxis": {
            "gridcolor": "white",
            "linecolor": "white",
            "ticks": ""
           }
          },
          "scene": {
           "xaxis": {
            "backgroundcolor": "#E5ECF6",
            "gridcolor": "white",
            "gridwidth": 2,
            "linecolor": "white",
            "showbackground": true,
            "ticks": "",
            "zerolinecolor": "white"
           },
           "yaxis": {
            "backgroundcolor": "#E5ECF6",
            "gridcolor": "white",
            "gridwidth": 2,
            "linecolor": "white",
            "showbackground": true,
            "ticks": "",
            "zerolinecolor": "white"
           },
           "zaxis": {
            "backgroundcolor": "#E5ECF6",
            "gridcolor": "white",
            "gridwidth": 2,
            "linecolor": "white",
            "showbackground": true,
            "ticks": "",
            "zerolinecolor": "white"
           }
          },
          "shapedefaults": {
           "line": {
            "color": "#2a3f5f"
           }
          },
          "ternary": {
           "aaxis": {
            "gridcolor": "white",
            "linecolor": "white",
            "ticks": ""
           },
           "baxis": {
            "gridcolor": "white",
            "linecolor": "white",
            "ticks": ""
           },
           "bgcolor": "#E5ECF6",
           "caxis": {
            "gridcolor": "white",
            "linecolor": "white",
            "ticks": ""
           }
          },
          "title": {
           "x": 0.05
          },
          "xaxis": {
           "automargin": true,
           "gridcolor": "white",
           "linecolor": "white",
           "ticks": "",
           "title": {
            "standoff": 15
           },
           "zerolinecolor": "white",
           "zerolinewidth": 2
          },
          "yaxis": {
           "automargin": true,
           "gridcolor": "white",
           "linecolor": "white",
           "ticks": "",
           "title": {
            "standoff": 15
           },
           "zerolinecolor": "white",
           "zerolinewidth": 2
          }
         }
        },
        "title": {
         "text": "--- vgg16 ---"
        },
        "width": 1400,
        "xaxis": {
         "anchor": "y",
         "domain": [
          0,
          0.475
         ],
         "visible": false
        },
        "xaxis2": {
         "anchor": "y2",
         "domain": [
          0.525,
          1
         ]
        },
        "xaxis3": {
         "anchor": "y3",
         "domain": [
          0,
          0.475
         ]
        },
        "xaxis4": {
         "anchor": "y4",
         "domain": [
          0.525,
          1
         ]
        },
        "xaxis5": {
         "anchor": "y5",
         "domain": [
          0,
          0.475
         ]
        },
        "xaxis6": {
         "anchor": "y6",
         "domain": [
          0.525,
          1
         ]
        },
        "xaxis7": {
         "anchor": "y7",
         "domain": [
          0,
          0.475
         ]
        },
        "xaxis8": {
         "anchor": "y8",
         "domain": [
          0.525,
          1
         ]
        },
        "yaxis": {
         "anchor": "x",
         "domain": [
          0.7875,
          1
         ],
         "visible": false
        },
        "yaxis2": {
         "anchor": "x2",
         "domain": [
          0.7875,
          1
         ]
        },
        "yaxis3": {
         "anchor": "x3",
         "domain": [
          0.525,
          0.7375
         ]
        },
        "yaxis4": {
         "anchor": "x4",
         "domain": [
          0.525,
          0.7375
         ]
        },
        "yaxis5": {
         "anchor": "x5",
         "domain": [
          0.2625,
          0.475
         ]
        },
        "yaxis6": {
         "anchor": "x6",
         "domain": [
          0.2625,
          0.475
         ]
        },
        "yaxis7": {
         "anchor": "x7",
         "domain": [
          0,
          0.2125
         ]
        },
        "yaxis8": {
         "anchor": "x8",
         "domain": [
          0,
          0.2125
         ]
        }
       }
      }
     },
     "metadata": {},
     "output_type": "display_data"
    }
   ],
   "source": [
    "fig = make_subplots(\n",
    "    rows=4, cols=2, \n",
    "    subplot_titles=(\"\", \"\",\n",
    "                    \"Loss\", \"Precision\", \n",
    "                    \"Accuracy\", 'Recall',\n",
    "                    'Confusion Matrix', 'ROC-AUC curve'), \n",
    "    horizontal_spacing=0.05, \n",
    "    vertical_spacing=0.05  \n",
    ")\n",
    "\n",
    "fig.add_trace(\n",
    "    go.Scatter(\n",
    "        x=[0.5], y=[0.5], \n",
    "        text=[\n",
    "            top_layers_text\n",
    "        ],\n",
    "        mode='text',\n",
    "        showlegend=False,\n",
    "    ),\n",
    "    row=1, col=1  \n",
    ")\n",
    "\n",
    "fig.add_trace(\n",
    "    go.Scatter(\n",
    "        x=[0.5], y=[0.5], \n",
    "        text=[\n",
    "            f\"Test loss: {test_loss:.4f}<br>\"\n",
    "            f\"Test accuracy: {test_acc:.4f}<br>\"\n",
    "            f\"Test precision: {test_prec:.4f}<br>\"\n",
    "            f\"Test recall: {test_recall:.4f}<br><br>\"\n",
    "            f\"ROC-AUC: {roc_auc:.4f}<br><br>\"\n",
    "            f\"Classification report<br>\"\n",
    "            f\"{report.replace('\\n','<br>')}\"\n",
    "        ],\n",
    "        mode='text',\n",
    "        showlegend=False,\n",
    "    ),\n",
    "    row=1, col=2  \n",
    ")\n",
    "\n",
    "\n",
    "# fig.update_layout(\n",
    "#     annotations=[dict(text=\"Model Metrics\", x=0.25, y=1.05, showarrow=False, xref=\"paper\", yref=\"paper\", font=dict(size=16))], \n",
    "# )\n",
    "\n",
    "# Hide the axes for the annotation row\n",
    "fig.update_xaxes(visible=False, row=1, col=1)\n",
    "fig.update_yaxes(visible=False, row=1, col=1)\n",
    "\n",
    "\n",
    "# Loss and Precision\n",
    "fig.add_trace(fig_metrics['data'][0], row=2, col=1)\n",
    "fig.add_trace(fig_metrics['data'][1], row=2, col=1)\n",
    "fig.add_trace(fig_metrics['data'][2], row=2, col=2)\n",
    "fig.add_trace(fig_metrics['data'][3], row=2, col=2)\n",
    "\n",
    "# Accuracy and Recall \n",
    "fig.add_trace(fig_metrics['data'][4], row=3, col=1)\n",
    "fig.add_trace(fig_metrics['data'][5], row=3, col=1)\n",
    "fig.add_trace(fig_metrics['data'][6], row=3, col=2)\n",
    "fig.add_trace(fig_metrics['data'][7], row=3, col=2)\n",
    "\n",
    "# Confusion Matrix and ROC-AUC curve \n",
    "fig.add_trace(fig_confMatrix['data'][0], row=4, col=1)\n",
    "fig.add_trace(fig_rocauc['data'][0], row=4, col=2)\n",
    "fig.add_trace(fig_rocauc['data'][1], row=4, col=2)\n",
    "\n",
    "fig.update_layout(\n",
    "    height=400*4, \n",
    "    width=1400, \n",
    "    title_text=f\"--- {MODEL.name} ---\",\n",
    "    showlegend=False, \n",
    "    margin=dict(l=10, r=10, t=50, b=10),  \n",
    ")\n",
    "\n",
    "fig.show()"
   ]
  },
  {
   "cell_type": "markdown",
   "metadata": {},
   "source": [
    "### Class activation map"
   ]
  },
  {
   "cell_type": "code",
   "execution_count": null,
   "metadata": {},
   "outputs": [],
   "source": []
  }
 ],
 "metadata": {
  "kernelspec": {
   "display_name": ".venv",
   "language": "python",
   "name": "python3"
  },
  "language_info": {
   "codemirror_mode": {
    "name": "ipython",
    "version": 3
   },
   "file_extension": ".py",
   "mimetype": "text/x-python",
   "name": "python",
   "nbconvert_exporter": "python",
   "pygments_lexer": "ipython3",
   "version": "3.12.3"
  }
 },
 "nbformat": 4,
 "nbformat_minor": 2
}
