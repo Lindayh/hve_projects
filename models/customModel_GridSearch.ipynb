{
 "cells": [
  {
   "cell_type": "code",
   "execution_count": 1,
   "metadata": {},
   "outputs": [
    {
     "name": "stderr",
     "output_type": "stream",
     "text": [
      "2024-11-08 09:25:21.127562: E external/local_xla/xla/stream_executor/cuda/cuda_fft.cc:485] Unable to register cuFFT factory: Attempting to register factory for plugin cuFFT when one has already been registered\n",
      "2024-11-08 09:25:21.139397: E external/local_xla/xla/stream_executor/cuda/cuda_dnn.cc:8454] Unable to register cuDNN factory: Attempting to register factory for plugin cuDNN when one has already been registered\n",
      "2024-11-08 09:25:21.142798: E external/local_xla/xla/stream_executor/cuda/cuda_blas.cc:1452] Unable to register cuBLAS factory: Attempting to register factory for plugin cuBLAS when one has already been registered\n",
      "2024-11-08 09:25:21.153401: I tensorflow/core/platform/cpu_feature_guard.cc:210] This TensorFlow binary is optimized to use available CPU instructions in performance-critical operations.\n",
      "To enable the following instructions: AVX2 FMA, in other operations, rebuild TensorFlow with the appropriate compiler flags.\n",
      "2024-11-08 09:25:22.051022: W tensorflow/compiler/tf2tensorrt/utils/py_utils.cc:38] TF-TRT Warning: Could not find TensorRT\n"
     ]
    }
   ],
   "source": [
    "import pandas as pd\n",
    "import numpy as np\n",
    "import tensorflow as tf\n",
    "from datetime import datetime as dt\n",
    "import glob\n",
    "from PIL import Image\n",
    "\n",
    "from sklearn import datasets\n",
    "from sklearn.model_selection import train_test_split\n",
    "from sklearn.preprocessing import StandardScaler\n",
    "from sklearn.metrics import confusion_matrix\n",
    "\n",
    "from tensorflow.keras.layers import Dense, Input, Dropout, Rescaling, Conv2D, MaxPooling2D, Flatten\n",
    "from tensorflow.keras.models import Sequential\n",
    "from tensorflow.keras.optimizers import SGD, Adam\n",
    "from tensorflow.keras.losses import BinaryCrossentropy\n",
    "from tensorflow.keras.metrics import Precision, Recall\n",
    "\n",
    "from sklearn.model_selection import GridSearchCV\n",
    "import matplotlib.pyplot as plt\n",
    "from plotly.subplots import make_subplots\n",
    "import plotly.graph_objects as go\n",
    "import plotly.express as px\n",
    "\n",
    "import warnings \n",
    "warnings.filterwarnings('ignore')"
   ]
  },
  {
   "cell_type": "code",
   "execution_count": null,
   "metadata": {},
   "outputs": [
    {
     "name": "stdout",
     "output_type": "stream",
     "text": [
      "Num GPUs Available:  1\n"
     ]
    },
    {
     "name": "stderr",
     "output_type": "stream",
     "text": [
      "WARNING: All log messages before absl::InitializeLog() is called are written to STDERR\n",
      "I0000 00:00:1731054323.665095    1900 cuda_executor.cc:1015] successful NUMA node read from SysFS had negative value (-1), but there must be at least one NUMA node, so returning NUMA node zero. See more at https://github.com/torvalds/linux/blob/v6.0/Documentation/ABI/testing/sysfs-bus-pci#L344-L355\n",
      "I0000 00:00:1731054323.716408    1900 cuda_executor.cc:1015] successful NUMA node read from SysFS had negative value (-1), but there must be at least one NUMA node, so returning NUMA node zero. See more at https://github.com/torvalds/linux/blob/v6.0/Documentation/ABI/testing/sysfs-bus-pci#L344-L355\n",
      "I0000 00:00:1731054323.716616    1900 cuda_executor.cc:1015] successful NUMA node read from SysFS had negative value (-1), but there must be at least one NUMA node, so returning NUMA node zero. See more at https://github.com/torvalds/linux/blob/v6.0/Documentation/ABI/testing/sysfs-bus-pci#L344-L355\n"
     ]
    }
   ],
   "source": [
    "print(\"Num GPUs Available: \", len(tf.config.list_physical_devices('GPU')))"
   ]
  },
  {
   "cell_type": "markdown",
   "metadata": {},
   "source": [
    "#### Train/test sets"
   ]
  },
  {
   "cell_type": "code",
   "execution_count": 4,
   "metadata": {},
   "outputs": [],
   "source": [
    "# X_train, y_train\n",
    "train_imgs = glob.glob(f'../CIFAKE/train/*/*')\n",
    "X_train = []\n",
    "y_train = []\n",
    "\n",
    "for path, img_path in enumerate(train_imgs):\n",
    "    class_ = img_path.split('/')[-2]\n",
    "\n",
    "    # FAKE : 0 -  REAL : 1\n",
    "    if class_=='FAKE': img_class = 0\n",
    "    if class_=='REAL': img_class = 1\n",
    "\n",
    "    # X_train to tensor\n",
    "    img_pil = Image.open(img_path)\n",
    "    img_np = np.asarray(img_pil)\n",
    "\n",
    "    X_train.append(img_np)\n",
    "    y_train.append(img_class)\n",
    "\n",
    "X_train = np.asarray(X_train, dtype='uint8')\n",
    "y_train = np.asarray(y_train)\n",
    "\n",
    "# X_test, y_test\n",
    "test_imgs = glob.glob(f'../CIFAKE/test/*/*')\n",
    "\n",
    "X_test = []\n",
    "y_test = []\n",
    "\n",
    "for path, img_path in enumerate(test_imgs):\n",
    "    class_ = img_path.split('/')[-2]\n",
    "\n",
    "    # FAKE : 0 -  REAL : 1\n",
    "    if class_=='FAKE': img_class = 0\n",
    "    if class_=='REAL': img_class = 1\n",
    "\n",
    "    # X_test to tensor\n",
    "    img_pil = Image.open(img_path)\n",
    "    img_np = np.asarray(img_pil)\n",
    "\n",
    "    X_test.append(img_np)\n",
    "    y_test.append(img_class)\n",
    "    \n",
    "X_test = np.asarray(X_train, dtype='uint8')\n",
    "y_test = np.asarray(y_train)"
   ]
  },
  {
   "cell_type": "code",
   "execution_count": 5,
   "metadata": {},
   "outputs": [
    {
     "name": "stdout",
     "output_type": "stream",
     "text": [
      "X_train shape: (100000, 32, 32, 3) | y_train shape: (100000,)\n",
      "X_test shape: (100000, 32, 32, 3) | y_test shape: (100000,)\n"
     ]
    }
   ],
   "source": [
    "print(f'X_train shape: {X_train.shape} | y_train shape: {y_train.shape}')\n",
    "print(f'X_test shape: {X_test.shape} | y_test shape: {y_test.shape}')"
   ]
  },
  {
   "cell_type": "markdown",
   "metadata": {},
   "source": [
    "#### Class balance"
   ]
  },
  {
   "cell_type": "code",
   "execution_count": 6,
   "metadata": {},
   "outputs": [
    {
     "name": "stdout",
     "output_type": "stream",
     "text": [
      "Class distribution: \n",
      "Train REAL images: 50000\n",
      "Train FAKE images: 50000\n",
      "Test REAL images: 10000\n",
      "Test FAKE images: 10000\n"
     ]
    }
   ],
   "source": [
    "import glob\n",
    "print('Class distribution: ')\n",
    "print( f'Train REAL images: {len(glob.glob('../CIFAKE/train/REAL/*'))}'  )\n",
    "print( f'Train FAKE images: {len(glob.glob('../CIFAKE/train/FAKE/*'))}'  )\n",
    "\n",
    "print( f'Test REAL images: {len(glob.glob('../CIFAKE/test/REAL/*'))}'  )\n",
    "print( f'Test FAKE images: {len(glob.glob('../CIFAKE/test/FAKE/*'))}'  )"
   ]
  },
  {
   "cell_type": "markdown",
   "metadata": {},
   "source": [
    "#### Build model"
   ]
  },
  {
   "cell_type": "code",
   "execution_count": 7,
   "metadata": {},
   "outputs": [],
   "source": [
    "# Build model\n",
    "def CNN_model01(n_neurons_layer01=128, n_neurons_layer02=128, activation='relu', dropout_rate=.2):\n",
    "    model = Sequential([\n",
    "        Rescaling(1./255),\n",
    "\n",
    "        Conv2D(n_neurons_layer01, 3, activation=activation),\n",
    "        MaxPooling2D(),\n",
    "\n",
    "        Conv2D(n_neurons_layer02, 3, activation=activation),\n",
    "        MaxPooling2D(),\n",
    "\n",
    "        Flatten(),\n",
    "        Dense(24, activation=activation),\n",
    "        Dropout(dropout_rate),\n",
    "        Dense(1, activation='sigmoid')\n",
    "    ])\n",
    "\n",
    "    model.compile( optimizer=Adam(), \n",
    "                  loss=BinaryCrossentropy(),\n",
    "                  metrics = ['accuracy', Precision(), Recall()],                \n",
    "                  )\n",
    "\n",
    "    model.build(input_shape=(None, 32, 32, 3))\n",
    "    return model"
   ]
  },
  {
   "cell_type": "markdown",
   "metadata": {},
   "source": [
    "#### Train model"
   ]
  },
  {
   "cell_type": "code",
   "execution_count": 8,
   "metadata": {},
   "outputs": [],
   "source": [
    "N_EPOCHS = 30"
   ]
  },
  {
   "cell_type": "code",
   "execution_count": null,
   "metadata": {},
   "outputs": [],
   "source": [
    "from sklearn.model_selection import GridSearchCV\n",
    "from scikeras.wrappers import KerasClassifier\n",
    "from datetime import datetime as dt\n",
    "\n",
    "\n",
    "def train(model):\n",
    "  time_start = dt.now()\n",
    "  print(f'Start training, time: {time_start.time()}')\n",
    "\n",
    "  history = model.fit(\n",
    "    X_train, y_train,\n",
    "    validation_data=(X_test, y_test),\n",
    "    epochs=N_EPOCHS,\n",
    "    verbose=1\n",
    "  )\n",
    "\n",
    "  print(f'Time elapsed: {dt.now() - time_start}')\n",
    "\n",
    "  return history\n",
    "\n",
    "# Train with GRID search\n",
    "def train_gridSearch(model):\n",
    "\n",
    "  keras_classifier = KerasClassifier(model=model)\n",
    "\n",
    "  param_grid = dict(\n",
    "      epochs=[30],\n",
    "      batch_size= [32, 64],\n",
    "      model__n_neurons_layer01 = np.arange(64,513,64),\n",
    "      model__n_neurons_layer02 = np.arange(64,513,64),\n",
    "      model__dropout_rate = np.arange(.2, .51, .1),\n",
    "      model__activation = ['relu', 'tanh'],\n",
    "  )\n",
    "\n",
    "  grid = GridSearchCV(estimator=keras_classifier, param_grid=param_grid,\n",
    "                      # cv=3,\n",
    "                       scoring='accuracy')\n",
    "\n",
    "  start_t = dt.now()\n",
    "  print(f'GridSearch start time: {start_t.hour}:{start_t.minute:02}:{start_t.second:02}')\n",
    "  grid_result = grid.fit(X_train, y_train, validation_data=(X_test, y_test))\n",
    "\n",
    "  print(f'GridSearch complete. Time elapsed: {dt.now()-start_t}')\n",
    "\n",
    "  # Best results \n",
    "  print(f'Best parameters: {grid_result.best_params_}')\n",
    "  print(f'Best result (R2): {grid_result.best_score_}')\n",
    "\n",
    "  history = grid_result.best_estimator_.history_\n",
    "\n",
    "  return [history, grid_result.best_estimator_]"
   ]
  },
  {
   "cell_type": "code",
   "execution_count": 10,
   "metadata": {},
   "outputs": [
    {
     "name": "stdout",
     "output_type": "stream",
     "text": [
      "GridSearch start time: 9:25:52\n"
     ]
    },
    {
     "name": "stderr",
     "output_type": "stream",
     "text": [
      "I0000 00:00:1731054352.947458    1900 cuda_executor.cc:1015] successful NUMA node read from SysFS had negative value (-1), but there must be at least one NUMA node, so returning NUMA node zero. See more at https://github.com/torvalds/linux/blob/v6.0/Documentation/ABI/testing/sysfs-bus-pci#L344-L355\n",
      "I0000 00:00:1731054352.947668    1900 cuda_executor.cc:1015] successful NUMA node read from SysFS had negative value (-1), but there must be at least one NUMA node, so returning NUMA node zero. See more at https://github.com/torvalds/linux/blob/v6.0/Documentation/ABI/testing/sysfs-bus-pci#L344-L355\n",
      "I0000 00:00:1731054352.947823    1900 cuda_executor.cc:1015] successful NUMA node read from SysFS had negative value (-1), but there must be at least one NUMA node, so returning NUMA node zero. See more at https://github.com/torvalds/linux/blob/v6.0/Documentation/ABI/testing/sysfs-bus-pci#L344-L355\n",
      "I0000 00:00:1731054353.006189    1900 cuda_executor.cc:1015] successful NUMA node read from SysFS had negative value (-1), but there must be at least one NUMA node, so returning NUMA node zero. See more at https://github.com/torvalds/linux/blob/v6.0/Documentation/ABI/testing/sysfs-bus-pci#L344-L355\n",
      "I0000 00:00:1731054353.006378    1900 cuda_executor.cc:1015] successful NUMA node read from SysFS had negative value (-1), but there must be at least one NUMA node, so returning NUMA node zero. See more at https://github.com/torvalds/linux/blob/v6.0/Documentation/ABI/testing/sysfs-bus-pci#L344-L355\n",
      "I0000 00:00:1731054353.006534    1900 cuda_executor.cc:1015] successful NUMA node read from SysFS had negative value (-1), but there must be at least one NUMA node, so returning NUMA node zero. See more at https://github.com/torvalds/linux/blob/v6.0/Documentation/ABI/testing/sysfs-bus-pci#L344-L355\n",
      "2024-11-08 09:25:53.006656: I tensorflow/core/common_runtime/gpu/gpu_device.cc:2021] Created device /job:localhost/replica:0/task:0/device:GPU:0 with 4081 MB memory:  -> device: 0, name: NVIDIA GeForce GTX 1060 6GB, pci bus id: 0000:06:00.0, compute capability: 6.1\n"
     ]
    },
    {
     "name": "stdout",
     "output_type": "stream",
     "text": [
      "Epoch 1/30\n"
     ]
    },
    {
     "name": "stderr",
     "output_type": "stream",
     "text": [
      "2024-11-08 09:25:53.549878: W external/local_tsl/tsl/framework/cpu_allocator_impl.cc:83] Allocation of 245760000 exceeds 10% of free system memory.\n",
      "2024-11-08 09:25:53.776144: W external/local_tsl/tsl/framework/cpu_allocator_impl.cc:83] Allocation of 245760000 exceeds 10% of free system memory.\n",
      "WARNING: All log messages before absl::InitializeLog() is called are written to STDERR\n",
      "I0000 00:00:1731054354.795290    1980 service.cc:146] XLA service 0x7821cc00bc40 initialized for platform CUDA (this does not guarantee that XLA will be used). Devices:\n",
      "I0000 00:00:1731054354.795323    1980 service.cc:154]   StreamExecutor device (0): NVIDIA GeForce GTX 1060 6GB, Compute Capability 6.1\n",
      "2024-11-08 09:25:54.820443: I tensorflow/compiler/mlir/tensorflow/utils/dump_mlir_util.cc:268] disabling MLIR crash reproducer, set env var `MLIR_CRASH_REPRODUCER_DIRECTORY` to enable.\n",
      "2024-11-08 09:25:54.937082: I external/local_xla/xla/stream_executor/cuda/cuda_dnn.cc:531] Loaded cuDNN version 8907\n"
     ]
    },
    {
     "name": "stdout",
     "output_type": "stream",
     "text": [
      "\u001b[1m   8/1250\u001b[0m \u001b[37m━━━━━━━━━━━━━━━━━━━━\u001b[0m \u001b[1m17s\u001b[0m 14ms/step - accuracy: 0.4440 - loss: 0.7143 - precision: 0.4382 - recall: 0.4583"
     ]
    },
    {
     "name": "stderr",
     "output_type": "stream",
     "text": [
      "I0000 00:00:1731054356.961238    1980 device_compiler.h:188] Compiled cluster using XLA!  This line is logged at most once for the lifetime of the process.\n"
     ]
    },
    {
     "name": "stdout",
     "output_type": "stream",
     "text": [
      "\u001b[1m1247/1250\u001b[0m \u001b[32m━━━━━━━━━━━━━━━━━━━\u001b[0m\u001b[37m━\u001b[0m \u001b[1m0s\u001b[0m 13ms/step - accuracy: 0.7471 - loss: 0.5062 - precision: 0.7551 - recall: 0.7179"
     ]
    },
    {
     "name": "stderr",
     "output_type": "stream",
     "text": [
      "2024-11-08 09:26:13.062989: W external/local_tsl/tsl/framework/cpu_allocator_impl.cc:83] Allocation of 307200000 exceeds 10% of free system memory.\n",
      "2024-11-08 09:26:13.371183: W external/local_tsl/tsl/framework/cpu_allocator_impl.cc:83] Allocation of 307200000 exceeds 10% of free system memory.\n"
     ]
    },
    {
     "name": "stdout",
     "output_type": "stream",
     "text": [
      "\u001b[1m1250/1250\u001b[0m \u001b[32m━━━━━━━━━━━━━━━━━━━━\u001b[0m\u001b[37m\u001b[0m \u001b[1m26s\u001b[0m 18ms/step - accuracy: 0.7474 - loss: 0.5060 - precision: 0.7551 - recall: 0.7180 - val_accuracy: 0.8880 - val_loss: 0.2715 - val_precision: 0.8678 - val_recall: 0.9155\n",
      "Epoch 2/30\n",
      "\u001b[1m1250/1250\u001b[0m \u001b[32m━━━━━━━━━━━━━━━━━━━━\u001b[0m\u001b[37m\u001b[0m \u001b[1m21s\u001b[0m 17ms/step - accuracy: 0.8810 - loss: 0.2983 - precision: 0.8777 - recall: 0.8858 - val_accuracy: 0.9171 - val_loss: 0.2096 - val_precision: 0.9015 - val_recall: 0.9365\n",
      "Epoch 3/30\n",
      "\u001b[1m1250/1250\u001b[0m \u001b[32m━━━━━━━━━━━━━━━━━━━━\u001b[0m\u001b[37m\u001b[0m \u001b[1m21s\u001b[0m 17ms/step - accuracy: 0.9045 - loss: 0.2454 - precision: 0.9012 - recall: 0.9078 - val_accuracy: 0.9195 - val_loss: 0.2006 - val_precision: 0.9515 - val_recall: 0.8841\n",
      "Epoch 4/30\n",
      "\u001b[1m1250/1250\u001b[0m \u001b[32m━━━━━━━━━━━━━━━━━━━━\u001b[0m\u001b[37m\u001b[0m \u001b[1m21s\u001b[0m 17ms/step - accuracy: 0.9180 - loss: 0.2141 - precision: 0.9142 - recall: 0.9230 - val_accuracy: 0.9311 - val_loss: 0.1789 - val_precision: 0.9364 - val_recall: 0.9249\n",
      "Epoch 5/30\n",
      "\u001b[1m1250/1250\u001b[0m \u001b[32m━━━━━━━━━━━━━━━━━━━━\u001b[0m\u001b[37m\u001b[0m \u001b[1m21s\u001b[0m 17ms/step - accuracy: 0.9267 - loss: 0.1976 - precision: 0.9207 - recall: 0.9338 - val_accuracy: 0.9243 - val_loss: 0.1903 - val_precision: 0.9595 - val_recall: 0.8859\n",
      "Epoch 6/30\n",
      "\u001b[1m1250/1250\u001b[0m \u001b[32m━━━━━━━━━━━━━━━━━━━━\u001b[0m\u001b[37m\u001b[0m \u001b[1m21s\u001b[0m 17ms/step - accuracy: 0.9308 - loss: 0.1840 - precision: 0.9230 - recall: 0.9396 - val_accuracy: 0.9427 - val_loss: 0.1458 - val_precision: 0.9594 - val_recall: 0.9245\n",
      "Epoch 7/30\n",
      "\u001b[1m1250/1250\u001b[0m \u001b[32m━━━━━━━━━━━━━━━━━━━━\u001b[0m\u001b[37m\u001b[0m \u001b[1m22s\u001b[0m 17ms/step - accuracy: 0.9360 - loss: 0.1709 - precision: 0.9289 - recall: 0.9443 - val_accuracy: 0.9434 - val_loss: 0.1443 - val_precision: 0.9595 - val_recall: 0.9259\n",
      "Epoch 8/30\n",
      "\u001b[1m1250/1250\u001b[0m \u001b[32m━━━━━━━━━━━━━━━━━━━━\u001b[0m\u001b[37m\u001b[0m \u001b[1m22s\u001b[0m 17ms/step - accuracy: 0.9409 - loss: 0.1537 - precision: 0.9328 - recall: 0.9501 - val_accuracy: 0.9510 - val_loss: 0.1256 - val_precision: 0.9407 - val_recall: 0.9628\n",
      "Epoch 9/30\n",
      "\u001b[1m1250/1250\u001b[0m \u001b[32m━━━━━━━━━━━━━━━━━━━━\u001b[0m\u001b[37m\u001b[0m \u001b[1m21s\u001b[0m 17ms/step - accuracy: 0.9465 - loss: 0.1415 - precision: 0.9391 - recall: 0.9543 - val_accuracy: 0.9523 - val_loss: 0.1227 - val_precision: 0.9695 - val_recall: 0.9340\n",
      "Epoch 10/30\n",
      "\u001b[1m1250/1250\u001b[0m \u001b[32m━━━━━━━━━━━━━━━━━━━━\u001b[0m\u001b[37m\u001b[0m \u001b[1m21s\u001b[0m 17ms/step - accuracy: 0.9484 - loss: 0.1364 - precision: 0.9382 - recall: 0.9599 - val_accuracy: 0.9544 - val_loss: 0.1184 - val_precision: 0.9421 - val_recall: 0.9683\n",
      "Epoch 11/30\n",
      "\u001b[1m1250/1250\u001b[0m \u001b[32m━━━━━━━━━━━━━━━━━━━━\u001b[0m\u001b[37m\u001b[0m \u001b[1m20s\u001b[0m 16ms/step - accuracy: 0.9524 - loss: 0.1270 - precision: 0.9424 - recall: 0.9639 - val_accuracy: 0.9519 - val_loss: 0.1236 - val_precision: 0.9258 - val_recall: 0.9825\n",
      "Epoch 12/30\n",
      "\u001b[1m1250/1250\u001b[0m \u001b[32m━━━━━━━━━━━━━━━━━━━━\u001b[0m\u001b[37m\u001b[0m \u001b[1m20s\u001b[0m 16ms/step - accuracy: 0.9554 - loss: 0.1161 - precision: 0.9462 - recall: 0.9656 - val_accuracy: 0.9478 - val_loss: 0.1257 - val_precision: 0.9146 - val_recall: 0.9878\n",
      "Epoch 13/30\n",
      "\u001b[1m1250/1250\u001b[0m \u001b[32m━━━━━━━━━━━━━━━━━━━━\u001b[0m\u001b[37m\u001b[0m \u001b[1m19s\u001b[0m 16ms/step - accuracy: 0.9571 - loss: 0.1104 - precision: 0.9476 - recall: 0.9681 - val_accuracy: 0.9639 - val_loss: 0.0964 - val_precision: 0.9557 - val_recall: 0.9728\n",
      "Epoch 14/30\n",
      "\u001b[1m1250/1250\u001b[0m \u001b[32m━━━━━━━━━━━━━━━━━━━━\u001b[0m\u001b[37m\u001b[0m \u001b[1m19s\u001b[0m 15ms/step - accuracy: 0.9632 - loss: 0.0972 - precision: 0.9545 - recall: 0.9731 - val_accuracy: 0.9561 - val_loss: 0.1182 - val_precision: 0.9281 - val_recall: 0.9887\n",
      "Epoch 15/30\n",
      "\u001b[1m1250/1250\u001b[0m \u001b[32m━━━━━━━━━━━━━━━━━━━━\u001b[0m\u001b[37m\u001b[0m \u001b[1m19s\u001b[0m 16ms/step - accuracy: 0.9632 - loss: 0.0963 - precision: 0.9539 - recall: 0.9732 - val_accuracy: 0.9590 - val_loss: 0.1011 - val_precision: 0.9343 - val_recall: 0.9875\n",
      "Epoch 16/30\n",
      "\u001b[1m1250/1250\u001b[0m \u001b[32m━━━━━━━━━━━━━━━━━━━━\u001b[0m\u001b[37m\u001b[0m \u001b[1m20s\u001b[0m 16ms/step - accuracy: 0.9660 - loss: 0.0878 - precision: 0.9568 - recall: 0.9758 - val_accuracy: 0.9687 - val_loss: 0.0848 - val_precision: 0.9540 - val_recall: 0.9848\n",
      "Epoch 17/30\n",
      "\u001b[1m1250/1250\u001b[0m \u001b[32m━━━━━━━━━━━━━━━━━━━━\u001b[0m\u001b[37m\u001b[0m \u001b[1m20s\u001b[0m 16ms/step - accuracy: 0.9679 - loss: 0.0812 - precision: 0.9588 - recall: 0.9780 - val_accuracy: 0.9643 - val_loss: 0.0973 - val_precision: 0.9445 - val_recall: 0.9866\n",
      "Epoch 18/30\n",
      "\u001b[1m1250/1250\u001b[0m \u001b[32m━━━━━━━━━━━━━━━━━━━━\u001b[0m\u001b[37m\u001b[0m \u001b[1m21s\u001b[0m 16ms/step - accuracy: 0.9707 - loss: 0.0765 - precision: 0.9630 - recall: 0.9790 - val_accuracy: 0.9707 - val_loss: 0.0817 - val_precision: 0.9588 - val_recall: 0.9836\n",
      "Epoch 19/30\n",
      "\u001b[1m1250/1250\u001b[0m \u001b[32m━━━━━━━━━━━━━━━━━━━━\u001b[0m\u001b[37m\u001b[0m \u001b[1m21s\u001b[0m 16ms/step - accuracy: 0.9736 - loss: 0.0711 - precision: 0.9656 - recall: 0.9824 - val_accuracy: 0.9743 - val_loss: 0.0821 - val_precision: 0.9723 - val_recall: 0.9764\n",
      "Epoch 20/30\n",
      "\u001b[1m1250/1250\u001b[0m \u001b[32m━━━━━━━━━━━━━━━━━━━━\u001b[0m\u001b[37m\u001b[0m \u001b[1m20s\u001b[0m 16ms/step - accuracy: 0.9738 - loss: 0.0663 - precision: 0.9655 - recall: 0.9826 - val_accuracy: 0.9720 - val_loss: 0.0849 - val_precision: 0.9567 - val_recall: 0.9886\n",
      "Epoch 21/30\n",
      "\u001b[1m1250/1250\u001b[0m \u001b[32m━━━━━━━━━━━━━━━━━━━━\u001b[0m\u001b[37m\u001b[0m \u001b[1m19s\u001b[0m 15ms/step - accuracy: 0.9747 - loss: 0.0680 - precision: 0.9668 - recall: 0.9833 - val_accuracy: 0.9743 - val_loss: 0.0880 - val_precision: 0.9775 - val_recall: 0.9709\n",
      "Epoch 22/30\n",
      "\u001b[1m1250/1250\u001b[0m \u001b[32m━━━━━━━━━━━━━━━━━━━━\u001b[0m\u001b[37m\u001b[0m \u001b[1m19s\u001b[0m 15ms/step - accuracy: 0.9753 - loss: 0.0632 - precision: 0.9677 - recall: 0.9832 - val_accuracy: 0.9381 - val_loss: 0.1339 - val_precision: 0.8943 - val_recall: 0.9937\n",
      "Epoch 23/30\n",
      "\u001b[1m1250/1250\u001b[0m \u001b[32m━━━━━━━━━━━━━━━━━━━━\u001b[0m\u001b[37m\u001b[0m \u001b[1m20s\u001b[0m 16ms/step - accuracy: 0.9747 - loss: 0.0645 - precision: 0.9658 - recall: 0.9843 - val_accuracy: 0.9769 - val_loss: 0.0836 - val_precision: 0.9815 - val_recall: 0.9722\n",
      "Epoch 24/30\n",
      "\u001b[1m1250/1250\u001b[0m \u001b[32m━━━━━━━━━━━━━━━━━━━━\u001b[0m\u001b[37m\u001b[0m \u001b[1m20s\u001b[0m 16ms/step - accuracy: 0.9774 - loss: 0.0572 - precision: 0.9700 - recall: 0.9852 - val_accuracy: 0.9710 - val_loss: 0.0839 - val_precision: 0.9577 - val_recall: 0.9855\n",
      "Epoch 25/30\n",
      "\u001b[1m1250/1250\u001b[0m \u001b[32m━━━━━━━━━━━━━━━━━━━━\u001b[0m\u001b[37m\u001b[0m \u001b[1m19s\u001b[0m 15ms/step - accuracy: 0.9775 - loss: 0.0576 - precision: 0.9702 - recall: 0.9850 - val_accuracy: 0.9736 - val_loss: 0.0972 - val_precision: 0.9815 - val_recall: 0.9654\n",
      "Epoch 26/30\n",
      "\u001b[1m1250/1250\u001b[0m \u001b[32m━━━━━━━━━━━━━━━━━━━━\u001b[0m\u001b[37m\u001b[0m \u001b[1m19s\u001b[0m 15ms/step - accuracy: 0.9797 - loss: 0.0528 - precision: 0.9728 - recall: 0.9870 - val_accuracy: 0.9757 - val_loss: 0.0943 - val_precision: 0.9828 - val_recall: 0.9683\n",
      "Epoch 27/30\n",
      "\u001b[1m1250/1250\u001b[0m \u001b[32m━━━━━━━━━━━━━━━━━━━━\u001b[0m\u001b[37m\u001b[0m \u001b[1m19s\u001b[0m 15ms/step - accuracy: 0.9809 - loss: 0.0490 - precision: 0.9757 - recall: 0.9864 - val_accuracy: 0.9772 - val_loss: 0.0824 - val_precision: 0.9678 - val_recall: 0.9873\n",
      "Epoch 28/30\n",
      "\u001b[1m1250/1250\u001b[0m \u001b[32m━━━━━━━━━━━━━━━━━━━━\u001b[0m\u001b[37m\u001b[0m \u001b[1m19s\u001b[0m 15ms/step - accuracy: 0.9800 - loss: 0.0501 - precision: 0.9739 - recall: 0.9864 - val_accuracy: 0.9784 - val_loss: 0.0789 - val_precision: 0.9727 - val_recall: 0.9843\n",
      "Epoch 29/30\n",
      "\u001b[1m1250/1250\u001b[0m \u001b[32m━━━━━━━━━━━━━━━━━━━━\u001b[0m\u001b[37m\u001b[0m \u001b[1m19s\u001b[0m 16ms/step - accuracy: 0.9816 - loss: 0.0468 - precision: 0.9753 - recall: 0.9882 - val_accuracy: 0.9791 - val_loss: 0.0792 - val_precision: 0.9728 - val_recall: 0.9858\n",
      "Epoch 30/30\n",
      "\u001b[1m1250/1250\u001b[0m \u001b[32m━━━━━━━━━━━━━━━━━━━━\u001b[0m\u001b[37m\u001b[0m \u001b[1m20s\u001b[0m 16ms/step - accuracy: 0.9809 - loss: 0.0508 - precision: 0.9736 - recall: 0.9885 - val_accuracy: 0.9777 - val_loss: 0.0860 - val_precision: 0.9766 - val_recall: 0.9789\n",
      "\u001b[1m313/313\u001b[0m \u001b[32m━━━━━━━━━━━━━━━━━━━━\u001b[0m\u001b[37m\u001b[0m \u001b[1m1s\u001b[0m 3ms/step\n",
      "Epoch 1/30\n"
     ]
    },
    {
     "name": "stderr",
     "output_type": "stream",
     "text": [
      "2024-11-08 09:36:05.075286: W external/local_tsl/tsl/framework/cpu_allocator_impl.cc:83] Allocation of 245760000 exceeds 10% of free system memory.\n"
     ]
    },
    {
     "name": "stdout",
     "output_type": "stream",
     "text": [
      "\u001b[1m1250/1250\u001b[0m \u001b[32m━━━━━━━━━━━━━━━━━━━━\u001b[0m\u001b[37m\u001b[0m \u001b[1m23s\u001b[0m 17ms/step - accuracy: 0.7836 - loss: 0.4535 - precision_2: 0.7808 - recall_2: 0.7851 - val_accuracy: 0.8944 - val_loss: 0.2562 - val_precision_2: 0.9158 - val_recall_2: 0.8687\n",
      "Epoch 2/30\n",
      "\u001b[1m1250/1250\u001b[0m \u001b[32m━━━━━━━━━━━━━━━━━━━━\u001b[0m\u001b[37m\u001b[0m \u001b[1m20s\u001b[0m 16ms/step - accuracy: 0.8886 - loss: 0.2758 - precision_2: 0.8910 - recall_2: 0.8848 - val_accuracy: 0.9242 - val_loss: 0.1982 - val_precision_2: 0.9264 - val_recall_2: 0.9217\n",
      "Epoch 3/30\n",
      "\u001b[1m1250/1250\u001b[0m \u001b[32m━━━━━━━━━━━━━━━━━━━━\u001b[0m\u001b[37m\u001b[0m \u001b[1m19s\u001b[0m 15ms/step - accuracy: 0.9137 - loss: 0.2217 - precision_2: 0.9156 - recall_2: 0.9124 - val_accuracy: 0.8977 - val_loss: 0.2455 - val_precision_2: 0.8479 - val_recall_2: 0.9691\n",
      "Epoch 4/30\n",
      "\u001b[1m1250/1250\u001b[0m \u001b[32m━━━━━━━━━━━━━━━━━━━━\u001b[0m\u001b[37m\u001b[0m \u001b[1m20s\u001b[0m 16ms/step - accuracy: 0.9219 - loss: 0.2001 - precision_2: 0.9209 - recall_2: 0.9229 - val_accuracy: 0.9362 - val_loss: 0.1638 - val_precision_2: 0.9526 - val_recall_2: 0.9181\n",
      "Epoch 5/30\n",
      "\u001b[1m1250/1250\u001b[0m \u001b[32m━━━━━━━━━━━━━━━━━━━━\u001b[0m\u001b[37m\u001b[0m \u001b[1m20s\u001b[0m 16ms/step - accuracy: 0.9313 - loss: 0.1783 - precision_2: 0.9317 - recall_2: 0.9314 - val_accuracy: 0.9442 - val_loss: 0.1438 - val_precision_2: 0.9332 - val_recall_2: 0.9569\n",
      "Epoch 6/30\n",
      "\u001b[1m1250/1250\u001b[0m \u001b[32m━━━━━━━━━━━━━━━━━━━━\u001b[0m\u001b[37m\u001b[0m \u001b[1m21s\u001b[0m 16ms/step - accuracy: 0.9359 - loss: 0.1658 - precision_2: 0.9346 - recall_2: 0.9374 - val_accuracy: 0.9488 - val_loss: 0.1361 - val_precision_2: 0.9591 - val_recall_2: 0.9376\n",
      "Epoch 7/30\n",
      "\u001b[1m1250/1250\u001b[0m \u001b[32m━━━━━━━━━━━━━━━━━━━━\u001b[0m\u001b[37m\u001b[0m \u001b[1m20s\u001b[0m 16ms/step - accuracy: 0.9427 - loss: 0.1477 - precision_2: 0.9386 - recall_2: 0.9472 - val_accuracy: 0.9297 - val_loss: 0.1816 - val_precision_2: 0.8871 - val_recall_2: 0.9849\n",
      "Epoch 8/30\n",
      "\u001b[1m1250/1250\u001b[0m \u001b[32m━━━━━━━━━━━━━━━━━━━━\u001b[0m\u001b[37m\u001b[0m \u001b[1m20s\u001b[0m 16ms/step - accuracy: 0.9473 - loss: 0.1345 - precision_2: 0.9443 - recall_2: 0.9502 - val_accuracy: 0.9564 - val_loss: 0.1127 - val_precision_2: 0.9595 - val_recall_2: 0.9530\n",
      "Epoch 9/30\n",
      "\u001b[1m1250/1250\u001b[0m \u001b[32m━━━━━━━━━━━━━━━━━━━━\u001b[0m\u001b[37m\u001b[0m \u001b[1m22s\u001b[0m 18ms/step - accuracy: 0.9531 - loss: 0.1230 - precision_2: 0.9500 - recall_2: 0.9567 - val_accuracy: 0.9596 - val_loss: 0.1068 - val_precision_2: 0.9459 - val_recall_2: 0.9751\n",
      "Epoch 10/30\n",
      "\u001b[1m1250/1250\u001b[0m \u001b[32m━━━━━━━━━━━━━━━━━━━━\u001b[0m\u001b[37m\u001b[0m \u001b[1m22s\u001b[0m 18ms/step - accuracy: 0.9583 - loss: 0.1097 - precision_2: 0.9543 - recall_2: 0.9631 - val_accuracy: 0.9593 - val_loss: 0.1116 - val_precision_2: 0.9641 - val_recall_2: 0.9542\n",
      "Epoch 11/30\n",
      "\u001b[1m1250/1250\u001b[0m \u001b[32m━━━━━━━━━━━━━━━━━━━━\u001b[0m\u001b[37m\u001b[0m \u001b[1m21s\u001b[0m 17ms/step - accuracy: 0.9602 - loss: 0.1023 - precision_2: 0.9565 - recall_2: 0.9642 - val_accuracy: 0.9593 - val_loss: 0.1076 - val_precision_2: 0.9368 - val_recall_2: 0.9852\n",
      "Epoch 12/30\n",
      "\u001b[1m1250/1250\u001b[0m \u001b[32m━━━━━━━━━━━━━━━━━━━━\u001b[0m\u001b[37m\u001b[0m \u001b[1m21s\u001b[0m 17ms/step - accuracy: 0.9622 - loss: 0.0978 - precision_2: 0.9565 - recall_2: 0.9684 - val_accuracy: 0.9619 - val_loss: 0.1026 - val_precision_2: 0.9566 - val_recall_2: 0.9677\n",
      "Epoch 13/30\n",
      "\u001b[1m1250/1250\u001b[0m \u001b[32m━━━━━━━━━━━━━━━━━━━━\u001b[0m\u001b[37m\u001b[0m \u001b[1m21s\u001b[0m 17ms/step - accuracy: 0.9641 - loss: 0.0900 - precision_2: 0.9588 - recall_2: 0.9697 - val_accuracy: 0.9643 - val_loss: 0.1030 - val_precision_2: 0.9665 - val_recall_2: 0.9619\n",
      "Epoch 14/30\n",
      "\u001b[1m1250/1250\u001b[0m \u001b[32m━━━━━━━━━━━━━━━━━━━━\u001b[0m\u001b[37m\u001b[0m \u001b[1m21s\u001b[0m 17ms/step - accuracy: 0.9674 - loss: 0.0843 - precision_2: 0.9612 - recall_2: 0.9739 - val_accuracy: 0.9718 - val_loss: 0.0800 - val_precision_2: 0.9675 - val_recall_2: 0.9764\n",
      "Epoch 15/30\n",
      "\u001b[1m1250/1250\u001b[0m \u001b[32m━━━━━━━━━━━━━━━━━━━━\u001b[0m\u001b[37m\u001b[0m \u001b[1m21s\u001b[0m 16ms/step - accuracy: 0.9704 - loss: 0.0759 - precision_2: 0.9648 - recall_2: 0.9765 - val_accuracy: 0.9713 - val_loss: 0.0832 - val_precision_2: 0.9589 - val_recall_2: 0.9848\n",
      "Epoch 16/30\n",
      "\u001b[1m1250/1250\u001b[0m \u001b[32m━━━━━━━━━━━━━━━━━━━━\u001b[0m\u001b[37m\u001b[0m \u001b[1m21s\u001b[0m 17ms/step - accuracy: 0.9710 - loss: 0.0738 - precision_2: 0.9644 - recall_2: 0.9783 - val_accuracy: 0.9695 - val_loss: 0.0852 - val_precision_2: 0.9544 - val_recall_2: 0.9861\n",
      "Epoch 17/30\n",
      "\u001b[1m1250/1250\u001b[0m \u001b[32m━━━━━━━━━━━━━━━━━━━━\u001b[0m\u001b[37m\u001b[0m \u001b[1m21s\u001b[0m 17ms/step - accuracy: 0.9734 - loss: 0.0666 - precision_2: 0.9677 - recall_2: 0.9796 - val_accuracy: 0.9751 - val_loss: 0.0776 - val_precision_2: 0.9715 - val_recall_2: 0.9789\n",
      "Epoch 18/30\n",
      "\u001b[1m1250/1250\u001b[0m \u001b[32m━━━━━━━━━━━━━━━━━━━━\u001b[0m\u001b[37m\u001b[0m \u001b[1m22s\u001b[0m 17ms/step - accuracy: 0.9749 - loss: 0.0633 - precision_2: 0.9691 - recall_2: 0.9812 - val_accuracy: 0.9724 - val_loss: 0.0836 - val_precision_2: 0.9638 - val_recall_2: 0.9817\n",
      "Epoch 19/30\n",
      "\u001b[1m1250/1250\u001b[0m \u001b[32m━━━━━━━━━━━━━━━━━━━━\u001b[0m\u001b[37m\u001b[0m \u001b[1m21s\u001b[0m 17ms/step - accuracy: 0.9760 - loss: 0.0619 - precision_2: 0.9697 - recall_2: 0.9829 - val_accuracy: 0.9754 - val_loss: 0.0801 - val_precision_2: 0.9683 - val_recall_2: 0.9829\n",
      "Epoch 20/30\n",
      "\u001b[1m1250/1250\u001b[0m \u001b[32m━━━━━━━━━━━━━━━━━━━━\u001b[0m\u001b[37m\u001b[0m \u001b[1m21s\u001b[0m 17ms/step - accuracy: 0.9781 - loss: 0.0577 - precision_2: 0.9726 - recall_2: 0.9842 - val_accuracy: 0.9673 - val_loss: 0.1223 - val_precision_2: 0.9877 - val_recall_2: 0.9463\n",
      "Epoch 21/30\n",
      "\u001b[1m1250/1250\u001b[0m \u001b[32m━━━━━━━━━━━━━━━━━━━━\u001b[0m\u001b[37m\u001b[0m \u001b[1m22s\u001b[0m 18ms/step - accuracy: 0.9759 - loss: 0.0603 - precision_2: 0.9692 - recall_2: 0.9830 - val_accuracy: 0.9754 - val_loss: 0.0803 - val_precision_2: 0.9654 - val_recall_2: 0.9861\n",
      "Epoch 22/30\n",
      "\u001b[1m1250/1250\u001b[0m \u001b[32m━━━━━━━━━━━━━━━━━━━━\u001b[0m\u001b[37m\u001b[0m \u001b[1m22s\u001b[0m 17ms/step - accuracy: 0.9779 - loss: 0.0567 - precision_2: 0.9721 - recall_2: 0.9842 - val_accuracy: 0.9678 - val_loss: 0.1129 - val_precision_2: 0.9790 - val_recall_2: 0.9560\n",
      "Epoch 23/30\n",
      "\u001b[1m1250/1250\u001b[0m \u001b[32m━━━━━━━━━━━━━━━━━━━━\u001b[0m\u001b[37m\u001b[0m \u001b[1m23s\u001b[0m 18ms/step - accuracy: 0.9803 - loss: 0.0514 - precision_2: 0.9751 - recall_2: 0.9856 - val_accuracy: 0.9805 - val_loss: 0.0777 - val_precision_2: 0.9801 - val_recall_2: 0.9809\n",
      "Epoch 24/30\n",
      "\u001b[1m1250/1250\u001b[0m \u001b[32m━━━━━━━━━━━━━━━━━━━━\u001b[0m\u001b[37m\u001b[0m \u001b[1m23s\u001b[0m 19ms/step - accuracy: 0.9808 - loss: 0.0487 - precision_2: 0.9754 - recall_2: 0.9867 - val_accuracy: 0.9754 - val_loss: 0.0832 - val_precision_2: 0.9664 - val_recall_2: 0.9851\n",
      "Epoch 25/30\n",
      "\u001b[1m1250/1250\u001b[0m \u001b[32m━━━━━━━━━━━━━━━━━━━━\u001b[0m\u001b[37m\u001b[0m \u001b[1m23s\u001b[0m 19ms/step - accuracy: 0.9800 - loss: 0.0508 - precision_2: 0.9738 - recall_2: 0.9864 - val_accuracy: 0.9771 - val_loss: 0.0938 - val_precision_2: 0.9849 - val_recall_2: 0.9690\n",
      "Epoch 26/30\n",
      "\u001b[1m1250/1250\u001b[0m \u001b[32m━━━━━━━━━━━━━━━━━━━━\u001b[0m\u001b[37m\u001b[0m \u001b[1m23s\u001b[0m 19ms/step - accuracy: 0.9822 - loss: 0.0442 - precision_2: 0.9764 - recall_2: 0.9884 - val_accuracy: 0.9782 - val_loss: 0.0913 - val_precision_2: 0.9836 - val_recall_2: 0.9727\n",
      "Epoch 27/30\n",
      "\u001b[1m1250/1250\u001b[0m \u001b[32m━━━━━━━━━━━━━━━━━━━━\u001b[0m\u001b[37m\u001b[0m \u001b[1m24s\u001b[0m 19ms/step - accuracy: 0.9797 - loss: 0.0533 - precision_2: 0.9740 - recall_2: 0.9859 - val_accuracy: 0.9810 - val_loss: 0.0777 - val_precision_2: 0.9785 - val_recall_2: 0.9835\n",
      "Epoch 28/30\n",
      "\u001b[1m1250/1250\u001b[0m \u001b[32m━━━━━━━━━━━━━━━━━━━━\u001b[0m\u001b[37m\u001b[0m \u001b[1m24s\u001b[0m 19ms/step - accuracy: 0.9832 - loss: 0.0435 - precision_2: 0.9776 - recall_2: 0.9892 - val_accuracy: 0.9798 - val_loss: 0.0864 - val_precision_2: 0.9823 - val_recall_2: 0.9774\n",
      "Epoch 29/30\n",
      "\u001b[1m1250/1250\u001b[0m \u001b[32m━━━━━━━━━━━━━━━━━━━━\u001b[0m\u001b[37m\u001b[0m \u001b[1m23s\u001b[0m 19ms/step - accuracy: 0.9844 - loss: 0.0399 - precision_2: 0.9798 - recall_2: 0.9894 - val_accuracy: 0.9802 - val_loss: 0.0802 - val_precision_2: 0.9743 - val_recall_2: 0.9864\n",
      "Epoch 30/30\n",
      "\u001b[1m1250/1250\u001b[0m \u001b[32m━━━━━━━━━━━━━━━━━━━━\u001b[0m\u001b[37m\u001b[0m \u001b[1m23s\u001b[0m 19ms/step - accuracy: 0.9828 - loss: 0.0453 - precision_2: 0.9767 - recall_2: 0.9890 - val_accuracy: 0.9741 - val_loss: 0.1024 - val_precision_2: 0.9578 - val_recall_2: 0.9919\n",
      "\u001b[1m313/313\u001b[0m \u001b[32m━━━━━━━━━━━━━━━━━━━━\u001b[0m\u001b[37m\u001b[0m \u001b[1m1s\u001b[0m 4ms/step\n",
      "Epoch 1/30\n",
      "\u001b[1m1250/1250\u001b[0m \u001b[32m━━━━━━━━━━━━━━━━━━━━\u001b[0m\u001b[37m\u001b[0m \u001b[1m26s\u001b[0m 20ms/step - accuracy: 0.7686 - loss: 0.4707 - precision_3: 0.7610 - recall_3: 0.7883 - val_accuracy: 0.8695 - val_loss: 0.3069 - val_precision_3: 0.8344 - val_recall_3: 0.9221\n",
      "Epoch 2/30\n",
      "\u001b[1m1250/1250\u001b[0m \u001b[32m━━━━━━━━━━━━━━━━━━━━\u001b[0m\u001b[37m\u001b[0m \u001b[1m23s\u001b[0m 19ms/step - accuracy: 0.8812 - loss: 0.2915 - precision_3: 0.8816 - recall_3: 0.8809 - val_accuracy: 0.9164 - val_loss: 0.2105 - val_precision_3: 0.8997 - val_recall_3: 0.9374\n",
      "Epoch 3/30\n",
      "\u001b[1m1250/1250\u001b[0m \u001b[32m━━━━━━━━━━━━━━━━━━━━\u001b[0m\u001b[37m\u001b[0m \u001b[1m24s\u001b[0m 19ms/step - accuracy: 0.9070 - loss: 0.2390 - precision_3: 0.9083 - recall_3: 0.9048 - val_accuracy: 0.9275 - val_loss: 0.1858 - val_precision_3: 0.9202 - val_recall_3: 0.9360\n",
      "Epoch 4/30\n",
      "\u001b[1m1250/1250\u001b[0m \u001b[32m━━━━━━━━━━━━━━━━━━━━\u001b[0m\u001b[37m\u001b[0m \u001b[1m24s\u001b[0m 19ms/step - accuracy: 0.9177 - loss: 0.2099 - precision_3: 0.9154 - recall_3: 0.9201 - val_accuracy: 0.9254 - val_loss: 0.1902 - val_precision_3: 0.9528 - val_recall_3: 0.8950\n",
      "Epoch 5/30\n",
      "\u001b[1m1250/1250\u001b[0m \u001b[32m━━━━━━━━━━━━━━━━━━━━\u001b[0m\u001b[37m\u001b[0m \u001b[1m24s\u001b[0m 19ms/step - accuracy: 0.9278 - loss: 0.1846 - precision_3: 0.9247 - recall_3: 0.9317 - val_accuracy: 0.9436 - val_loss: 0.1436 - val_precision_3: 0.9531 - val_recall_3: 0.9331\n",
      "Epoch 6/30\n",
      "\u001b[1m1250/1250\u001b[0m \u001b[32m━━━━━━━━━━━━━━━━━━━━\u001b[0m\u001b[37m\u001b[0m \u001b[1m24s\u001b[0m 19ms/step - accuracy: 0.9336 - loss: 0.1705 - precision_3: 0.9319 - recall_3: 0.9352 - val_accuracy: 0.9478 - val_loss: 0.1334 - val_precision_3: 0.9387 - val_recall_3: 0.9583\n",
      "Epoch 7/30\n",
      "\u001b[1m1250/1250\u001b[0m \u001b[32m━━━━━━━━━━━━━━━━━━━━\u001b[0m\u001b[37m\u001b[0m \u001b[1m23s\u001b[0m 19ms/step - accuracy: 0.9366 - loss: 0.1634 - precision_3: 0.9339 - recall_3: 0.9398 - val_accuracy: 0.9487 - val_loss: 0.1316 - val_precision_3: 0.9560 - val_recall_3: 0.9406\n",
      "Epoch 8/30\n",
      "\u001b[1m1250/1250\u001b[0m \u001b[32m━━━━━━━━━━━━━━━━━━━━\u001b[0m\u001b[37m\u001b[0m \u001b[1m24s\u001b[0m 19ms/step - accuracy: 0.9411 - loss: 0.1505 - precision_3: 0.9379 - recall_3: 0.9448 - val_accuracy: 0.9531 - val_loss: 0.1213 - val_precision_3: 0.9525 - val_recall_3: 0.9539\n",
      "Epoch 9/30\n",
      "\u001b[1m1250/1250\u001b[0m \u001b[32m━━━━━━━━━━━━━━━━━━━━\u001b[0m\u001b[37m\u001b[0m \u001b[1m24s\u001b[0m 19ms/step - accuracy: 0.9471 - loss: 0.1384 - precision_3: 0.9421 - recall_3: 0.9525 - val_accuracy: 0.9517 - val_loss: 0.1253 - val_precision_3: 0.9493 - val_recall_3: 0.9543\n",
      "Epoch 10/30\n",
      "\u001b[1m1250/1250\u001b[0m \u001b[32m━━━━━━━━━━━━━━━━━━━━\u001b[0m\u001b[37m\u001b[0m \u001b[1m22s\u001b[0m 18ms/step - accuracy: 0.9486 - loss: 0.1317 - precision_3: 0.9427 - recall_3: 0.9553 - val_accuracy: 0.9561 - val_loss: 0.1120 - val_precision_3: 0.9590 - val_recall_3: 0.9530\n",
      "Epoch 11/30\n",
      "\u001b[1m1250/1250\u001b[0m \u001b[32m━━━━━━━━━━━━━━━━━━━━\u001b[0m\u001b[37m\u001b[0m \u001b[1m21s\u001b[0m 17ms/step - accuracy: 0.9545 - loss: 0.1159 - precision_3: 0.9488 - recall_3: 0.9611 - val_accuracy: 0.9576 - val_loss: 0.1106 - val_precision_3: 0.9476 - val_recall_3: 0.9688\n",
      "Epoch 12/30\n",
      "\u001b[1m1250/1250\u001b[0m \u001b[32m━━━━━━━━━━━━━━━━━━━━\u001b[0m\u001b[37m\u001b[0m \u001b[1m21s\u001b[0m 17ms/step - accuracy: 0.9571 - loss: 0.1092 - precision_3: 0.9510 - recall_3: 0.9638 - val_accuracy: 0.9644 - val_loss: 0.0952 - val_precision_3: 0.9659 - val_recall_3: 0.9628\n",
      "Epoch 13/30\n",
      "\u001b[1m1250/1250\u001b[0m \u001b[32m━━━━━━━━━━━━━━━━━━━━\u001b[0m\u001b[37m\u001b[0m \u001b[1m22s\u001b[0m 17ms/step - accuracy: 0.9606 - loss: 0.1004 - precision_3: 0.9559 - recall_3: 0.9660 - val_accuracy: 0.9578 - val_loss: 0.1102 - val_precision_3: 0.9728 - val_recall_3: 0.9419\n",
      "Epoch 14/30\n",
      "\u001b[1m1250/1250\u001b[0m \u001b[32m━━━━━━━━━━━━━━━━━━━━\u001b[0m\u001b[37m\u001b[0m \u001b[1m21s\u001b[0m 17ms/step - accuracy: 0.9603 - loss: 0.0991 - precision_3: 0.9539 - recall_3: 0.9671 - val_accuracy: 0.9651 - val_loss: 0.0935 - val_precision_3: 0.9689 - val_recall_3: 0.9612\n",
      "Epoch 15/30\n",
      "\u001b[1m1250/1250\u001b[0m \u001b[32m━━━━━━━━━━━━━━━━━━━━\u001b[0m\u001b[37m\u001b[0m \u001b[1m21s\u001b[0m 17ms/step - accuracy: 0.9625 - loss: 0.0918 - precision_3: 0.9548 - recall_3: 0.9712 - val_accuracy: 0.9684 - val_loss: 0.0863 - val_precision_3: 0.9634 - val_recall_3: 0.9738\n",
      "Epoch 16/30\n",
      "\u001b[1m1250/1250\u001b[0m \u001b[32m━━━━━━━━━━━━━━━━━━━━\u001b[0m\u001b[37m\u001b[0m \u001b[1m21s\u001b[0m 17ms/step - accuracy: 0.9674 - loss: 0.0829 - precision_3: 0.9610 - recall_3: 0.9743 - val_accuracy: 0.9667 - val_loss: 0.0947 - val_precision_3: 0.9642 - val_recall_3: 0.9693\n",
      "Epoch 17/30\n",
      "\u001b[1m1250/1250\u001b[0m \u001b[32m━━━━━━━━━━━━━━━━━━━━\u001b[0m\u001b[37m\u001b[0m \u001b[1m20s\u001b[0m 16ms/step - accuracy: 0.9668 - loss: 0.0817 - precision_3: 0.9599 - recall_3: 0.9743 - val_accuracy: 0.9736 - val_loss: 0.0789 - val_precision_3: 0.9759 - val_recall_3: 0.9711\n",
      "Epoch 18/30\n",
      "\u001b[1m1250/1250\u001b[0m \u001b[32m━━━━━━━━━━━━━━━━━━━━\u001b[0m\u001b[37m\u001b[0m \u001b[1m19s\u001b[0m 15ms/step - accuracy: 0.9691 - loss: 0.0757 - precision_3: 0.9632 - recall_3: 0.9754 - val_accuracy: 0.9702 - val_loss: 0.0884 - val_precision_3: 0.9603 - val_recall_3: 0.9809\n",
      "Epoch 19/30\n",
      "\u001b[1m1250/1250\u001b[0m \u001b[32m━━━━━━━━━━━━━━━━━━━━\u001b[0m\u001b[37m\u001b[0m \u001b[1m19s\u001b[0m 15ms/step - accuracy: 0.9707 - loss: 0.0720 - precision_3: 0.9633 - recall_3: 0.9787 - val_accuracy: 0.9732 - val_loss: 0.0813 - val_precision_3: 0.9737 - val_recall_3: 0.9727\n",
      "Epoch 20/30\n",
      "\u001b[1m1250/1250\u001b[0m \u001b[32m━━━━━━━━━━━━━━━━━━━━\u001b[0m\u001b[37m\u001b[0m \u001b[1m19s\u001b[0m 15ms/step - accuracy: 0.9728 - loss: 0.0680 - precision_3: 0.9658 - recall_3: 0.9804 - val_accuracy: 0.9762 - val_loss: 0.0771 - val_precision_3: 0.9753 - val_recall_3: 0.9771\n",
      "Epoch 21/30\n",
      "\u001b[1m1250/1250\u001b[0m \u001b[32m━━━━━━━━━━━━━━━━━━━━\u001b[0m\u001b[37m\u001b[0m \u001b[1m20s\u001b[0m 16ms/step - accuracy: 0.9735 - loss: 0.0655 - precision_3: 0.9664 - recall_3: 0.9810 - val_accuracy: 0.9692 - val_loss: 0.0901 - val_precision_3: 0.9600 - val_recall_3: 0.9792\n",
      "Epoch 22/30\n",
      "\u001b[1m1250/1250\u001b[0m \u001b[32m━━━━━━━━━━━━━━━━━━━━\u001b[0m\u001b[37m\u001b[0m \u001b[1m19s\u001b[0m 15ms/step - accuracy: 0.9751 - loss: 0.0621 - precision_3: 0.9679 - recall_3: 0.9825 - val_accuracy: 0.9699 - val_loss: 0.0936 - val_precision_3: 0.9592 - val_recall_3: 0.9816\n",
      "Epoch 23/30\n",
      "\u001b[1m1250/1250\u001b[0m \u001b[32m━━━━━━━━━━━━━━━━━━━━\u001b[0m\u001b[37m\u001b[0m \u001b[1m19s\u001b[0m 15ms/step - accuracy: 0.9736 - loss: 0.0628 - precision_3: 0.9664 - recall_3: 0.9813 - val_accuracy: 0.9760 - val_loss: 0.0752 - val_precision_3: 0.9693 - val_recall_3: 0.9832\n",
      "Epoch 24/30\n",
      "\u001b[1m1250/1250\u001b[0m \u001b[32m━━━━━━━━━━━━━━━━━━━━\u001b[0m\u001b[37m\u001b[0m \u001b[1m20s\u001b[0m 16ms/step - accuracy: 0.9751 - loss: 0.0588 - precision_3: 0.9677 - recall_3: 0.9832 - val_accuracy: 0.9737 - val_loss: 0.0841 - val_precision_3: 0.9795 - val_recall_3: 0.9676\n",
      "Epoch 25/30\n",
      "\u001b[1m1250/1250\u001b[0m \u001b[32m━━━━━━━━━━━━━━━━━━━━\u001b[0m\u001b[37m\u001b[0m \u001b[1m19s\u001b[0m 15ms/step - accuracy: 0.9773 - loss: 0.0542 - precision_3: 0.9708 - recall_3: 0.9840 - val_accuracy: 0.9779 - val_loss: 0.0728 - val_precision_3: 0.9766 - val_recall_3: 0.9792\n",
      "Epoch 26/30\n",
      "\u001b[1m1250/1250\u001b[0m \u001b[32m━━━━━━━━━━━━━━━━━━━━\u001b[0m\u001b[37m\u001b[0m \u001b[1m19s\u001b[0m 15ms/step - accuracy: 0.9769 - loss: 0.0558 - precision_3: 0.9707 - recall_3: 0.9834 - val_accuracy: 0.9775 - val_loss: 0.0801 - val_precision_3: 0.9755 - val_recall_3: 0.9796\n",
      "Epoch 27/30\n",
      "\u001b[1m1250/1250\u001b[0m \u001b[32m━━━━━━━━━━━━━━━━━━━━\u001b[0m\u001b[37m\u001b[0m \u001b[1m19s\u001b[0m 16ms/step - accuracy: 0.9780 - loss: 0.0523 - precision_3: 0.9710 - recall_3: 0.9857 - val_accuracy: 0.9750 - val_loss: 0.0928 - val_precision_3: 0.9855 - val_recall_3: 0.9641\n",
      "Epoch 28/30\n",
      "\u001b[1m1250/1250\u001b[0m \u001b[32m━━━━━━━━━━━━━━━━━━━━\u001b[0m\u001b[37m\u001b[0m \u001b[1m19s\u001b[0m 15ms/step - accuracy: 0.9775 - loss: 0.0549 - precision_3: 0.9709 - recall_3: 0.9843 - val_accuracy: 0.9788 - val_loss: 0.0801 - val_precision_3: 0.9730 - val_recall_3: 0.9850\n",
      "Epoch 29/30\n",
      "\u001b[1m1250/1250\u001b[0m \u001b[32m━━━━━━━━━━━━━━━━━━━━\u001b[0m\u001b[37m\u001b[0m \u001b[1m19s\u001b[0m 15ms/step - accuracy: 0.9788 - loss: 0.0513 - precision_3: 0.9723 - recall_3: 0.9858 - val_accuracy: 0.9775 - val_loss: 0.0824 - val_precision_3: 0.9791 - val_recall_3: 0.9758\n",
      "Epoch 30/30\n",
      "\u001b[1m1250/1250\u001b[0m \u001b[32m━━━━━━━━━━━━━━━━━━━━\u001b[0m\u001b[37m\u001b[0m \u001b[1m19s\u001b[0m 15ms/step - accuracy: 0.9805 - loss: 0.0478 - precision_3: 0.9734 - recall_3: 0.9880 - val_accuracy: 0.9796 - val_loss: 0.0783 - val_precision_3: 0.9761 - val_recall_3: 0.9832\n",
      "\u001b[1m313/313\u001b[0m \u001b[32m━━━━━━━━━━━━━━━━━━━━\u001b[0m\u001b[37m\u001b[0m \u001b[1m1s\u001b[0m 3ms/step\n",
      "Epoch 1/30\n",
      "\u001b[1m1250/1250\u001b[0m \u001b[32m━━━━━━━━━━━━━━━━━━━━\u001b[0m\u001b[37m\u001b[0m \u001b[1m22s\u001b[0m 16ms/step - accuracy: 0.7493 - loss: 0.5009 - precision_4: 0.7453 - recall_4: 0.7561 - val_accuracy: 0.8626 - val_loss: 0.3319 - val_precision_4: 0.9183 - val_recall_4: 0.7961\n",
      "Epoch 2/30\n",
      "\u001b[1m1250/1250\u001b[0m \u001b[32m━━━━━━━━━━━━━━━━━━━━\u001b[0m\u001b[37m\u001b[0m \u001b[1m19s\u001b[0m 15ms/step - accuracy: 0.8580 - loss: 0.3346 - precision_4: 0.8429 - recall_4: 0.8818 - val_accuracy: 0.8994 - val_loss: 0.2500 - val_precision_4: 0.8830 - val_recall_4: 0.9207\n",
      "Epoch 3/30\n",
      "\u001b[1m1250/1250\u001b[0m \u001b[32m━━━━━━━━━━━━━━━━━━━━\u001b[0m\u001b[37m\u001b[0m \u001b[1m19s\u001b[0m 15ms/step - accuracy: 0.8803 - loss: 0.2801 - precision_4: 0.8644 - recall_4: 0.9006 - val_accuracy: 0.8991 - val_loss: 0.2391 - val_precision_4: 0.8550 - val_recall_4: 0.9612\n",
      "Epoch 4/30\n",
      "\u001b[1m1250/1250\u001b[0m \u001b[32m━━━━━━━━━━━━━━━━━━━━\u001b[0m\u001b[37m\u001b[0m \u001b[1m19s\u001b[0m 15ms/step - accuracy: 0.9060 - loss: 0.2387 - precision_4: 0.9013 - recall_4: 0.9114 - val_accuracy: 0.9275 - val_loss: 0.1812 - val_precision_4: 0.9428 - val_recall_4: 0.9101\n",
      "Epoch 5/30\n",
      "\u001b[1m1250/1250\u001b[0m \u001b[32m━━━━━━━━━━━━━━━━━━━━\u001b[0m\u001b[37m\u001b[0m \u001b[1m19s\u001b[0m 15ms/step - accuracy: 0.9151 - loss: 0.2207 - precision_4: 0.9133 - recall_4: 0.9173 - val_accuracy: 0.9264 - val_loss: 0.1828 - val_precision_4: 0.9515 - val_recall_4: 0.8985\n",
      "Epoch 6/30\n",
      "\u001b[1m1250/1250\u001b[0m \u001b[32m━━━━━━━━━━━━━━━━━━━━\u001b[0m\u001b[37m\u001b[0m \u001b[1m19s\u001b[0m 15ms/step - accuracy: 0.9237 - loss: 0.1994 - precision_4: 0.9209 - recall_4: 0.9255 - val_accuracy: 0.9419 - val_loss: 0.1503 - val_precision_4: 0.9395 - val_recall_4: 0.9446\n",
      "Epoch 7/30\n",
      "\u001b[1m1250/1250\u001b[0m \u001b[32m━━━━━━━━━━━━━━━━━━━━\u001b[0m\u001b[37m\u001b[0m \u001b[1m19s\u001b[0m 15ms/step - accuracy: 0.9340 - loss: 0.1786 - precision_4: 0.9305 - recall_4: 0.9379 - val_accuracy: 0.9435 - val_loss: 0.1492 - val_precision_4: 0.9359 - val_recall_4: 0.9523\n",
      "Epoch 8/30\n",
      "\u001b[1m1250/1250\u001b[0m \u001b[32m━━━━━━━━━━━━━━━━━━━━\u001b[0m\u001b[37m\u001b[0m \u001b[1m19s\u001b[0m 15ms/step - accuracy: 0.9325 - loss: 0.1779 - precision_4: 0.9251 - recall_4: 0.9412 - val_accuracy: 0.9434 - val_loss: 0.1412 - val_precision_4: 0.9192 - val_recall_4: 0.9723\n",
      "Epoch 9/30\n",
      "\u001b[1m1250/1250\u001b[0m \u001b[32m━━━━━━━━━━━━━━━━━━━━\u001b[0m\u001b[37m\u001b[0m \u001b[1m19s\u001b[0m 15ms/step - accuracy: 0.9395 - loss: 0.1587 - precision_4: 0.9320 - recall_4: 0.9482 - val_accuracy: 0.9443 - val_loss: 0.1406 - val_precision_4: 0.9175 - val_recall_4: 0.9763\n",
      "Epoch 10/30\n",
      "\u001b[1m1250/1250\u001b[0m \u001b[32m━━━━━━━━━━━━━━━━━━━━\u001b[0m\u001b[37m\u001b[0m \u001b[1m19s\u001b[0m 15ms/step - accuracy: 0.9446 - loss: 0.1483 - precision_4: 0.9377 - recall_4: 0.9524 - val_accuracy: 0.9546 - val_loss: 0.1186 - val_precision_4: 0.9446 - val_recall_4: 0.9658\n",
      "Epoch 11/30\n",
      "\u001b[1m1250/1250\u001b[0m \u001b[32m━━━━━━━━━━━━━━━━━━━━\u001b[0m\u001b[37m\u001b[0m \u001b[1m19s\u001b[0m 15ms/step - accuracy: 0.9468 - loss: 0.1411 - precision_4: 0.9389 - recall_4: 0.9561 - val_accuracy: 0.9514 - val_loss: 0.1272 - val_precision_4: 0.9635 - val_recall_4: 0.9383\n",
      "Epoch 12/30\n",
      "\u001b[1m1250/1250\u001b[0m \u001b[32m━━━━━━━━━━━━━━━━━━━━\u001b[0m\u001b[37m\u001b[0m \u001b[1m19s\u001b[0m 15ms/step - accuracy: 0.9491 - loss: 0.1322 - precision_4: 0.9411 - recall_4: 0.9583 - val_accuracy: 0.9484 - val_loss: 0.1255 - val_precision_4: 0.9182 - val_recall_4: 0.9846\n",
      "Epoch 13/30\n",
      "\u001b[1m1250/1250\u001b[0m \u001b[32m━━━━━━━━━━━━━━━━━━━━\u001b[0m\u001b[37m\u001b[0m \u001b[1m19s\u001b[0m 15ms/step - accuracy: 0.9546 - loss: 0.1206 - precision_4: 0.9465 - recall_4: 0.9638 - val_accuracy: 0.9581 - val_loss: 0.1104 - val_precision_4: 0.9378 - val_recall_4: 0.9813\n",
      "Epoch 14/30\n",
      "\u001b[1m1250/1250\u001b[0m \u001b[32m━━━━━━━━━━━━━━━━━━━━\u001b[0m\u001b[37m\u001b[0m \u001b[1m19s\u001b[0m 15ms/step - accuracy: 0.9566 - loss: 0.1137 - precision_4: 0.9472 - recall_4: 0.9665 - val_accuracy: 0.9584 - val_loss: 0.1128 - val_precision_4: 0.9709 - val_recall_4: 0.9451\n",
      "Epoch 15/30\n",
      "\u001b[1m1250/1250\u001b[0m \u001b[32m━━━━━━━━━━━━━━━━━━━━\u001b[0m\u001b[37m\u001b[0m \u001b[1m19s\u001b[0m 15ms/step - accuracy: 0.9558 - loss: 0.1145 - precision_4: 0.9456 - recall_4: 0.9670 - val_accuracy: 0.9629 - val_loss: 0.1029 - val_precision_4: 0.9520 - val_recall_4: 0.9749\n",
      "Epoch 16/30\n",
      "\u001b[1m1250/1250\u001b[0m \u001b[32m━━━━━━━━━━━━━━━━━━━━\u001b[0m\u001b[37m\u001b[0m \u001b[1m19s\u001b[0m 15ms/step - accuracy: 0.9610 - loss: 0.1025 - precision_4: 0.9518 - recall_4: 0.9711 - val_accuracy: 0.9671 - val_loss: 0.0921 - val_precision_4: 0.9558 - val_recall_4: 0.9794\n",
      "Epoch 17/30\n",
      "\u001b[1m1250/1250\u001b[0m \u001b[32m━━━━━━━━━━━━━━━━━━━━\u001b[0m\u001b[37m\u001b[0m \u001b[1m19s\u001b[0m 15ms/step - accuracy: 0.9633 - loss: 0.0967 - precision_4: 0.9542 - recall_4: 0.9736 - val_accuracy: 0.9660 - val_loss: 0.0986 - val_precision_4: 0.9641 - val_recall_4: 0.9680\n",
      "Epoch 18/30\n",
      "\u001b[1m1250/1250\u001b[0m \u001b[32m━━━━━━━━━━━━━━━━━━━━\u001b[0m\u001b[37m\u001b[0m \u001b[1m19s\u001b[0m 15ms/step - accuracy: 0.9658 - loss: 0.0900 - precision_4: 0.9572 - recall_4: 0.9754 - val_accuracy: 0.9665 - val_loss: 0.0956 - val_precision_4: 0.9715 - val_recall_4: 0.9613\n",
      "Epoch 19/30\n",
      "\u001b[1m1250/1250\u001b[0m \u001b[32m━━━━━━━━━━━━━━━━━━━━\u001b[0m\u001b[37m\u001b[0m \u001b[1m19s\u001b[0m 15ms/step - accuracy: 0.9660 - loss: 0.0907 - precision_4: 0.9560 - recall_4: 0.9768 - val_accuracy: 0.9660 - val_loss: 0.0999 - val_precision_4: 0.9551 - val_recall_4: 0.9780\n",
      "Epoch 20/30\n",
      "\u001b[1m1250/1250\u001b[0m \u001b[32m━━━━━━━━━━━━━━━━━━━━\u001b[0m\u001b[37m\u001b[0m \u001b[1m20s\u001b[0m 16ms/step - accuracy: 0.9671 - loss: 0.0876 - precision_4: 0.9567 - recall_4: 0.9785 - val_accuracy: 0.9673 - val_loss: 0.0970 - val_precision_4: 0.9652 - val_recall_4: 0.9695\n",
      "Epoch 21/30\n",
      "\u001b[1m1250/1250\u001b[0m \u001b[32m━━━━━━━━━━━━━━━━━━━━\u001b[0m\u001b[37m\u001b[0m \u001b[1m20s\u001b[0m 16ms/step - accuracy: 0.9691 - loss: 0.0832 - precision_4: 0.9596 - recall_4: 0.9792 - val_accuracy: 0.9741 - val_loss: 0.0816 - val_precision_4: 0.9679 - val_recall_4: 0.9807\n",
      "Epoch 22/30\n",
      "\u001b[1m1250/1250\u001b[0m \u001b[32m━━━━━━━━━━━━━━━━━━━━\u001b[0m\u001b[37m\u001b[0m \u001b[1m19s\u001b[0m 15ms/step - accuracy: 0.9676 - loss: 0.0858 - precision_4: 0.9565 - recall_4: 0.9800 - val_accuracy: 0.9700 - val_loss: 0.1028 - val_precision_4: 0.9790 - val_recall_4: 0.9606\n",
      "Epoch 23/30\n",
      "\u001b[1m1250/1250\u001b[0m \u001b[32m━━━━━━━━━━━━━━━━━━━━\u001b[0m\u001b[37m\u001b[0m \u001b[1m19s\u001b[0m 15ms/step - accuracy: 0.9697 - loss: 0.0802 - precision_4: 0.9590 - recall_4: 0.9814 - val_accuracy: 0.9709 - val_loss: 0.0875 - val_precision_4: 0.9556 - val_recall_4: 0.9877\n",
      "Epoch 24/30\n",
      "\u001b[1m1250/1250\u001b[0m \u001b[32m━━━━━━━━━━━━━━━━━━━━\u001b[0m\u001b[37m\u001b[0m \u001b[1m19s\u001b[0m 15ms/step - accuracy: 0.9720 - loss: 0.0736 - precision_4: 0.9626 - recall_4: 0.9822 - val_accuracy: 0.9735 - val_loss: 0.0942 - val_precision_4: 0.9765 - val_recall_4: 0.9703\n",
      "Epoch 25/30\n",
      "\u001b[1m1250/1250\u001b[0m \u001b[32m━━━━━━━━━━━━━━━━━━━━\u001b[0m\u001b[37m\u001b[0m \u001b[1m19s\u001b[0m 15ms/step - accuracy: 0.9743 - loss: 0.0678 - precision_4: 0.9652 - recall_4: 0.9843 - val_accuracy: 0.9744 - val_loss: 0.0861 - val_precision_4: 0.9715 - val_recall_4: 0.9774\n",
      "Epoch 26/30\n",
      "\u001b[1m1250/1250\u001b[0m \u001b[32m━━━━━━━━━━━━━━━━━━━━\u001b[0m\u001b[37m\u001b[0m \u001b[1m19s\u001b[0m 15ms/step - accuracy: 0.9749 - loss: 0.0663 - precision_4: 0.9665 - recall_4: 0.9838 - val_accuracy: 0.9747 - val_loss: 0.0949 - val_precision_4: 0.9774 - val_recall_4: 0.9719\n",
      "Epoch 27/30\n",
      "\u001b[1m1250/1250\u001b[0m \u001b[32m━━━━━━━━━━━━━━━━━━━━\u001b[0m\u001b[37m\u001b[0m \u001b[1m19s\u001b[0m 16ms/step - accuracy: 0.9743 - loss: 0.0695 - precision_4: 0.9655 - recall_4: 0.9841 - val_accuracy: 0.9776 - val_loss: 0.0815 - val_precision_4: 0.9748 - val_recall_4: 0.9805\n",
      "Epoch 28/30\n",
      "\u001b[1m1250/1250\u001b[0m \u001b[32m━━━━━━━━━━━━━━━━━━━━\u001b[0m\u001b[37m\u001b[0m \u001b[1m19s\u001b[0m 15ms/step - accuracy: 0.9770 - loss: 0.0622 - precision_4: 0.9690 - recall_4: 0.9857 - val_accuracy: 0.9760 - val_loss: 0.0831 - val_precision_4: 0.9679 - val_recall_4: 0.9846\n",
      "Epoch 29/30\n",
      "\u001b[1m1250/1250\u001b[0m \u001b[32m━━━━━━━━━━━━━━━━━━━━\u001b[0m\u001b[37m\u001b[0m \u001b[1m19s\u001b[0m 15ms/step - accuracy: 0.9737 - loss: 0.0689 - precision_4: 0.9653 - recall_4: 0.9828 - val_accuracy: 0.9787 - val_loss: 0.0840 - val_precision_4: 0.9694 - val_recall_4: 0.9885\n",
      "Epoch 30/30\n",
      "\u001b[1m1250/1250\u001b[0m \u001b[32m━━━━━━━━━━━━━━━━━━━━\u001b[0m\u001b[37m\u001b[0m \u001b[1m19s\u001b[0m 15ms/step - accuracy: 0.9814 - loss: 0.0527 - precision_4: 0.9754 - recall_4: 0.9878 - val_accuracy: 0.9745 - val_loss: 0.0902 - val_precision_4: 0.9601 - val_recall_4: 0.9901\n",
      "\u001b[1m313/313\u001b[0m \u001b[32m━━━━━━━━━━━━━━━━━━━━\u001b[0m\u001b[37m\u001b[0m \u001b[1m1s\u001b[0m 3ms/step\n",
      "Epoch 1/30\n",
      "\u001b[1m1250/1250\u001b[0m \u001b[32m━━━━━━━━━━━━━━━━━━━━\u001b[0m\u001b[37m\u001b[0m \u001b[1m22s\u001b[0m 16ms/step - accuracy: 0.7690 - loss: 0.4747 - precision_5: 0.7706 - recall_5: 0.7536 - val_accuracy: 0.8693 - val_loss: 0.3125 - val_precision_5: 0.9082 - val_recall_5: 0.8217\n",
      "Epoch 2/30\n",
      "\u001b[1m1250/1250\u001b[0m \u001b[32m━━━━━━━━━━━━━━━━━━━━\u001b[0m\u001b[37m\u001b[0m \u001b[1m19s\u001b[0m 15ms/step - accuracy: 0.8856 - loss: 0.2990 - precision_5: 0.8804 - recall_5: 0.8900 - val_accuracy: 0.9123 - val_loss: 0.2208 - val_precision_5: 0.9344 - val_recall_5: 0.8869\n",
      "Epoch 3/30\n",
      "\u001b[1m1250/1250\u001b[0m \u001b[32m━━━━━━━━━━━━━━━━━━━━\u001b[0m\u001b[37m\u001b[0m \u001b[1m19s\u001b[0m 15ms/step - accuracy: 0.9073 - loss: 0.2478 - precision_5: 0.8993 - recall_5: 0.9175 - val_accuracy: 0.9303 - val_loss: 0.1901 - val_precision_5: 0.9334 - val_recall_5: 0.9268\n",
      "Epoch 4/30\n",
      "\u001b[1m1250/1250\u001b[0m \u001b[32m━━━━━━━━━━━━━━━━━━━━\u001b[0m\u001b[37m\u001b[0m \u001b[1m19s\u001b[0m 15ms/step - accuracy: 0.9217 - loss: 0.2104 - precision_5: 0.9132 - recall_5: 0.9326 - val_accuracy: 0.9409 - val_loss: 0.1562 - val_precision_5: 0.9442 - val_recall_5: 0.9372\n",
      "Epoch 5/30\n",
      "\u001b[1m1250/1250\u001b[0m \u001b[32m━━━━━━━━━━━━━━━━━━━━\u001b[0m\u001b[37m\u001b[0m \u001b[1m19s\u001b[0m 15ms/step - accuracy: 0.9284 - loss: 0.1916 - precision_5: 0.9179 - recall_5: 0.9409 - val_accuracy: 0.9417 - val_loss: 0.1685 - val_precision_5: 0.9398 - val_recall_5: 0.9439\n",
      "Epoch 6/30\n",
      "\u001b[1m1250/1250\u001b[0m \u001b[32m━━━━━━━━━━━━━━━━━━━━\u001b[0m\u001b[37m\u001b[0m \u001b[1m19s\u001b[0m 15ms/step - accuracy: 0.9349 - loss: 0.1731 - precision_5: 0.9241 - recall_5: 0.9479 - val_accuracy: 0.9477 - val_loss: 0.1367 - val_precision_5: 0.9311 - val_recall_5: 0.9668\n",
      "Epoch 7/30\n",
      "\u001b[1m1250/1250\u001b[0m \u001b[32m━━━━━━━━━━━━━━━━━━━━\u001b[0m\u001b[37m\u001b[0m \u001b[1m19s\u001b[0m 15ms/step - accuracy: 0.9409 - loss: 0.1593 - precision_5: 0.9316 - recall_5: 0.9517 - val_accuracy: 0.9476 - val_loss: 0.1406 - val_precision_5: 0.9595 - val_recall_5: 0.9346\n",
      "Epoch 8/30\n",
      "\u001b[1m1250/1250\u001b[0m \u001b[32m━━━━━━━━━━━━━━━━━━━━\u001b[0m\u001b[37m\u001b[0m \u001b[1m20s\u001b[0m 16ms/step - accuracy: 0.9463 - loss: 0.1425 - precision_5: 0.9368 - recall_5: 0.9572 - val_accuracy: 0.9572 - val_loss: 0.1146 - val_precision_5: 0.9514 - val_recall_5: 0.9636\n",
      "Epoch 9/30\n",
      "\u001b[1m1250/1250\u001b[0m \u001b[32m━━━━━━━━━━━━━━━━━━━━\u001b[0m\u001b[37m\u001b[0m \u001b[1m20s\u001b[0m 16ms/step - accuracy: 0.9514 - loss: 0.1289 - precision_5: 0.9415 - recall_5: 0.9626 - val_accuracy: 0.9597 - val_loss: 0.1091 - val_precision_5: 0.9490 - val_recall_5: 0.9716\n",
      "Epoch 10/30\n",
      "\u001b[1m1250/1250\u001b[0m \u001b[32m━━━━━━━━━━━━━━━━━━━━\u001b[0m\u001b[37m\u001b[0m \u001b[1m21s\u001b[0m 17ms/step - accuracy: 0.9572 - loss: 0.1168 - precision_5: 0.9485 - recall_5: 0.9667 - val_accuracy: 0.9580 - val_loss: 0.1179 - val_precision_5: 0.9685 - val_recall_5: 0.9468\n",
      "Epoch 11/30\n",
      "\u001b[1m1250/1250\u001b[0m \u001b[32m━━━━━━━━━━━━━━━━━━━━\u001b[0m\u001b[37m\u001b[0m \u001b[1m21s\u001b[0m 17ms/step - accuracy: 0.9600 - loss: 0.1097 - precision_5: 0.9510 - recall_5: 0.9696 - val_accuracy: 0.9488 - val_loss: 0.1256 - val_precision_5: 0.9176 - val_recall_5: 0.9861\n",
      "Epoch 12/30\n",
      "\u001b[1m1250/1250\u001b[0m \u001b[32m━━━━━━━━━━━━━━━━━━━━\u001b[0m\u001b[37m\u001b[0m \u001b[1m20s\u001b[0m 16ms/step - accuracy: 0.9621 - loss: 0.1025 - precision_5: 0.9523 - recall_5: 0.9727 - val_accuracy: 0.9615 - val_loss: 0.1030 - val_precision_5: 0.9435 - val_recall_5: 0.9817\n",
      "Epoch 13/30\n",
      "\u001b[1m1250/1250\u001b[0m \u001b[32m━━━━━━━━━━━━━━━━━━━━\u001b[0m\u001b[37m\u001b[0m \u001b[1m21s\u001b[0m 16ms/step - accuracy: 0.9653 - loss: 0.0938 - precision_5: 0.9565 - recall_5: 0.9747 - val_accuracy: 0.9703 - val_loss: 0.0847 - val_precision_5: 0.9602 - val_recall_5: 0.9812\n",
      "Epoch 14/30\n",
      "\u001b[1m1250/1250\u001b[0m \u001b[32m━━━━━━━━━━━━━━━━━━━━\u001b[0m\u001b[37m\u001b[0m \u001b[1m21s\u001b[0m 16ms/step - accuracy: 0.9678 - loss: 0.0873 - precision_5: 0.9596 - recall_5: 0.9770 - val_accuracy: 0.9690 - val_loss: 0.0977 - val_precision_5: 0.9781 - val_recall_5: 0.9595\n",
      "Epoch 15/30\n",
      "\u001b[1m1250/1250\u001b[0m \u001b[32m━━━━━━━━━━━━━━━━━━━━\u001b[0m\u001b[37m\u001b[0m \u001b[1m21s\u001b[0m 16ms/step - accuracy: 0.9727 - loss: 0.0752 - precision_5: 0.9655 - recall_5: 0.9802 - val_accuracy: 0.9740 - val_loss: 0.0853 - val_precision_5: 0.9740 - val_recall_5: 0.9741\n",
      "Epoch 16/30\n",
      "\u001b[1m1250/1250\u001b[0m \u001b[32m━━━━━━━━━━━━━━━━━━━━\u001b[0m\u001b[37m\u001b[0m \u001b[1m21s\u001b[0m 17ms/step - accuracy: 0.9735 - loss: 0.0751 - precision_5: 0.9660 - recall_5: 0.9816 - val_accuracy: 0.9745 - val_loss: 0.0779 - val_precision_5: 0.9646 - val_recall_5: 0.9850\n",
      "Epoch 17/30\n",
      "\u001b[1m1250/1250\u001b[0m \u001b[32m━━━━━━━━━━━━━━━━━━━━\u001b[0m\u001b[37m\u001b[0m \u001b[1m21s\u001b[0m 17ms/step - accuracy: 0.9747 - loss: 0.0677 - precision_5: 0.9682 - recall_5: 0.9816 - val_accuracy: 0.9778 - val_loss: 0.0746 - val_precision_5: 0.9748 - val_recall_5: 0.9810\n",
      "Epoch 18/30\n",
      "\u001b[1m1250/1250\u001b[0m \u001b[32m━━━━━━━━━━━━━━━━━━━━\u001b[0m\u001b[37m\u001b[0m \u001b[1m21s\u001b[0m 17ms/step - accuracy: 0.9774 - loss: 0.0637 - precision_5: 0.9704 - recall_5: 0.9846 - val_accuracy: 0.9770 - val_loss: 0.0760 - val_precision_5: 0.9714 - val_recall_5: 0.9828\n",
      "Epoch 19/30\n",
      "\u001b[1m1250/1250\u001b[0m \u001b[32m━━━━━━━━━━━━━━━━━━━━\u001b[0m\u001b[37m\u001b[0m \u001b[1m21s\u001b[0m 17ms/step - accuracy: 0.9789 - loss: 0.0591 - precision_5: 0.9722 - recall_5: 0.9859 - val_accuracy: 0.9730 - val_loss: 0.0822 - val_precision_5: 0.9593 - val_recall_5: 0.9880\n",
      "Epoch 20/30\n",
      "\u001b[1m1250/1250\u001b[0m \u001b[32m━━━━━━━━━━━━━━━━━━━━\u001b[0m\u001b[37m\u001b[0m \u001b[1m21s\u001b[0m 17ms/step - accuracy: 0.9788 - loss: 0.0586 - precision_5: 0.9726 - recall_5: 0.9852 - val_accuracy: 0.9763 - val_loss: 0.0950 - val_precision_5: 0.9856 - val_recall_5: 0.9667\n",
      "Epoch 21/30\n",
      "\u001b[1m1250/1250\u001b[0m \u001b[32m━━━━━━━━━━━━━━━━━━━━\u001b[0m\u001b[37m\u001b[0m \u001b[1m20s\u001b[0m 16ms/step - accuracy: 0.9808 - loss: 0.0538 - precision_5: 0.9750 - recall_5: 0.9872 - val_accuracy: 0.9757 - val_loss: 0.0769 - val_precision_5: 0.9635 - val_recall_5: 0.9888\n",
      "Epoch 22/30\n",
      "\u001b[1m1250/1250\u001b[0m \u001b[32m━━━━━━━━━━━━━━━━━━━━\u001b[0m\u001b[37m\u001b[0m \u001b[1m21s\u001b[0m 17ms/step - accuracy: 0.9803 - loss: 0.0551 - precision_5: 0.9737 - recall_5: 0.9871 - val_accuracy: 0.9736 - val_loss: 0.0826 - val_precision_5: 0.9600 - val_recall_5: 0.9885\n",
      "Epoch 23/30\n",
      "\u001b[1m1250/1250\u001b[0m \u001b[32m━━━━━━━━━━━━━━━━━━━━\u001b[0m\u001b[37m\u001b[0m \u001b[1m19s\u001b[0m 15ms/step - accuracy: 0.9834 - loss: 0.0485 - precision_5: 0.9778 - recall_5: 0.9892 - val_accuracy: 0.9736 - val_loss: 0.0824 - val_precision_5: 0.9569 - val_recall_5: 0.9918\n",
      "Epoch 24/30\n",
      "\u001b[1m1250/1250\u001b[0m \u001b[32m━━━━━━━━━━━━━━━━━━━━\u001b[0m\u001b[37m\u001b[0m \u001b[1m21s\u001b[0m 17ms/step - accuracy: 0.9840 - loss: 0.0464 - precision_5: 0.9787 - recall_5: 0.9894 - val_accuracy: 0.9808 - val_loss: 0.0818 - val_precision_5: 0.9825 - val_recall_5: 0.9790\n",
      "Epoch 25/30\n",
      "\u001b[1m1250/1250\u001b[0m \u001b[32m━━━━━━━━━━━━━━━━━━━━\u001b[0m\u001b[37m\u001b[0m \u001b[1m21s\u001b[0m 17ms/step - accuracy: 0.9839 - loss: 0.0458 - precision_5: 0.9794 - recall_5: 0.9887 - val_accuracy: 0.9789 - val_loss: 0.0994 - val_precision_5: 0.9881 - val_recall_5: 0.9695\n",
      "Epoch 26/30\n",
      "\u001b[1m1250/1250\u001b[0m \u001b[32m━━━━━━━━━━━━━━━━━━━━\u001b[0m\u001b[37m\u001b[0m \u001b[1m21s\u001b[0m 16ms/step - accuracy: 0.9852 - loss: 0.0429 - precision_5: 0.9808 - recall_5: 0.9895 - val_accuracy: 0.9826 - val_loss: 0.0755 - val_precision_5: 0.9818 - val_recall_5: 0.9834\n",
      "Epoch 27/30\n",
      "\u001b[1m1250/1250\u001b[0m \u001b[32m━━━━━━━━━━━━━━━━━━━━\u001b[0m\u001b[37m\u001b[0m \u001b[1m21s\u001b[0m 17ms/step - accuracy: 0.9853 - loss: 0.0418 - precision_5: 0.9803 - recall_5: 0.9905 - val_accuracy: 0.9701 - val_loss: 0.0989 - val_precision_5: 0.9503 - val_recall_5: 0.9921\n",
      "Epoch 28/30\n",
      "\u001b[1m1250/1250\u001b[0m \u001b[32m━━━━━━━━━━━━━━━━━━━━\u001b[0m\u001b[37m\u001b[0m \u001b[1m20s\u001b[0m 16ms/step - accuracy: 0.9844 - loss: 0.0445 - precision_5: 0.9788 - recall_5: 0.9903 - val_accuracy: 0.9778 - val_loss: 0.1022 - val_precision_5: 0.9871 - val_recall_5: 0.9684\n",
      "Epoch 29/30\n",
      "\u001b[1m1250/1250\u001b[0m \u001b[32m━━━━━━━━━━━━━━━━━━━━\u001b[0m\u001b[37m\u001b[0m \u001b[1m21s\u001b[0m 16ms/step - accuracy: 0.9864 - loss: 0.0397 - precision_5: 0.9821 - recall_5: 0.9908 - val_accuracy: 0.9809 - val_loss: 0.0909 - val_precision_5: 0.9862 - val_recall_5: 0.9754\n",
      "Epoch 30/30\n",
      "\u001b[1m1250/1250\u001b[0m \u001b[32m━━━━━━━━━━━━━━━━━━━━\u001b[0m\u001b[37m\u001b[0m \u001b[1m21s\u001b[0m 16ms/step - accuracy: 0.9871 - loss: 0.0379 - precision_5: 0.9828 - recall_5: 0.9915 - val_accuracy: 0.9736 - val_loss: 0.1029 - val_precision_5: 0.9572 - val_recall_5: 0.9916\n",
      "\u001b[1m313/313\u001b[0m \u001b[32m━━━━━━━━━━━━━━━━━━━━\u001b[0m\u001b[37m\u001b[0m \u001b[1m1s\u001b[0m 3ms/step\n",
      "Epoch 1/30\n",
      "\u001b[1m1250/1250\u001b[0m \u001b[32m━━━━━━━━━━━━━━━━━━━━\u001b[0m\u001b[37m\u001b[0m \u001b[1m25s\u001b[0m 19ms/step - accuracy: 0.7527 - loss: 0.4964 - precision_6: 0.7459 - recall_6: 0.7666 - val_accuracy: 0.8749 - val_loss: 0.3072 - val_precision_6: 0.8789 - val_recall_6: 0.8695\n",
      "Epoch 2/30\n",
      "\u001b[1m1250/1250\u001b[0m \u001b[32m━━━━━━━━━━━━━━━━━━━━\u001b[0m\u001b[37m\u001b[0m \u001b[1m21s\u001b[0m 17ms/step - accuracy: 0.8698 - loss: 0.3140 - precision_6: 0.8675 - recall_6: 0.8735 - val_accuracy: 0.8922 - val_loss: 0.2662 - val_precision_6: 0.9162 - val_recall_6: 0.8634\n",
      "Epoch 3/30\n",
      "\u001b[1m1250/1250\u001b[0m \u001b[32m━━━━━━━━━━━━━━━━━━━━\u001b[0m\u001b[37m\u001b[0m \u001b[1m21s\u001b[0m 17ms/step - accuracy: 0.8921 - loss: 0.2689 - precision_6: 0.8925 - recall_6: 0.8913 - val_accuracy: 0.9045 - val_loss: 0.2375 - val_precision_6: 0.8746 - val_recall_6: 0.9444\n",
      "Epoch 4/30\n",
      "\u001b[1m1250/1250\u001b[0m \u001b[32m━━━━━━━━━━━━━━━━━━━━\u001b[0m\u001b[37m\u001b[0m \u001b[1m21s\u001b[0m 17ms/step - accuracy: 0.8949 - loss: 0.2623 - precision_6: 0.8954 - recall_6: 0.8933 - val_accuracy: 0.9135 - val_loss: 0.2187 - val_precision_6: 0.8914 - val_recall_6: 0.9416\n",
      "Epoch 5/30\n",
      "\u001b[1m1250/1250\u001b[0m \u001b[32m━━━━━━━━━━━━━━━━━━━━\u001b[0m\u001b[37m\u001b[0m \u001b[1m21s\u001b[0m 17ms/step - accuracy: 0.9015 - loss: 0.2477 - precision_6: 0.9011 - recall_6: 0.9016 - val_accuracy: 0.9168 - val_loss: 0.2133 - val_precision_6: 0.9480 - val_recall_6: 0.8819\n",
      "Epoch 6/30\n",
      "\u001b[1m1250/1250\u001b[0m \u001b[32m━━━━━━━━━━━━━━━━━━━━\u001b[0m\u001b[37m\u001b[0m \u001b[1m20s\u001b[0m 16ms/step - accuracy: 0.9020 - loss: 0.2456 - precision_6: 0.9028 - recall_6: 0.9011 - val_accuracy: 0.8939 - val_loss: 0.2568 - val_precision_6: 0.8447 - val_recall_6: 0.9652\n",
      "Epoch 7/30\n",
      "\u001b[1m1250/1250\u001b[0m \u001b[32m━━━━━━━━━━━━━━━━━━━━\u001b[0m\u001b[37m\u001b[0m \u001b[1m20s\u001b[0m 16ms/step - accuracy: 0.9069 - loss: 0.2334 - precision_6: 0.9063 - recall_6: 0.9088 - val_accuracy: 0.9164 - val_loss: 0.2149 - val_precision_6: 0.9322 - val_recall_6: 0.8981\n",
      "Epoch 8/30\n",
      "\u001b[1m1250/1250\u001b[0m \u001b[32m━━━━━━━━━━━━━━━━━━━━\u001b[0m\u001b[37m\u001b[0m \u001b[1m21s\u001b[0m 17ms/step - accuracy: 0.9106 - loss: 0.2299 - precision_6: 0.9121 - recall_6: 0.9092 - val_accuracy: 0.9147 - val_loss: 0.2141 - val_precision_6: 0.9001 - val_recall_6: 0.9330\n",
      "Epoch 9/30\n",
      "\u001b[1m1250/1250\u001b[0m \u001b[32m━━━━━━━━━━━━━━━━━━━━\u001b[0m\u001b[37m\u001b[0m \u001b[1m21s\u001b[0m 17ms/step - accuracy: 0.9105 - loss: 0.2291 - precision_6: 0.9133 - recall_6: 0.9062 - val_accuracy: 0.9205 - val_loss: 0.2055 - val_precision_6: 0.9112 - val_recall_6: 0.9319\n",
      "Epoch 10/30\n",
      "\u001b[1m1250/1250\u001b[0m \u001b[32m━━━━━━━━━━━━━━━━━━━━\u001b[0m\u001b[37m\u001b[0m \u001b[1m20s\u001b[0m 16ms/step - accuracy: 0.9128 - loss: 0.2233 - precision_6: 0.9125 - recall_6: 0.9129 - val_accuracy: 0.9262 - val_loss: 0.1959 - val_precision_6: 0.9228 - val_recall_6: 0.9303\n",
      "Epoch 11/30\n",
      "\u001b[1m1250/1250\u001b[0m \u001b[32m━━━━━━━━━━━━━━━━━━━━\u001b[0m\u001b[37m\u001b[0m \u001b[1m18s\u001b[0m 15ms/step - accuracy: 0.9153 - loss: 0.2172 - precision_6: 0.9137 - recall_6: 0.9168 - val_accuracy: 0.9280 - val_loss: 0.1859 - val_precision_6: 0.9180 - val_recall_6: 0.9400\n",
      "Epoch 12/30\n",
      "\u001b[1m1250/1250\u001b[0m \u001b[32m━━━━━━━━━━━━━━━━━━━━\u001b[0m\u001b[37m\u001b[0m \u001b[1m19s\u001b[0m 15ms/step - accuracy: 0.9175 - loss: 0.2118 - precision_6: 0.9196 - recall_6: 0.9146 - val_accuracy: 0.9214 - val_loss: 0.1975 - val_precision_6: 0.8938 - val_recall_6: 0.9565\n",
      "Epoch 13/30\n",
      "\u001b[1m1250/1250\u001b[0m \u001b[32m━━━━━━━━━━━━━━━━━━━━\u001b[0m\u001b[37m\u001b[0m \u001b[1m19s\u001b[0m 15ms/step - accuracy: 0.9193 - loss: 0.2055 - precision_6: 0.9191 - recall_6: 0.9191 - val_accuracy: 0.9172 - val_loss: 0.2118 - val_precision_6: 0.9509 - val_recall_6: 0.8797\n",
      "Epoch 14/30\n",
      "\u001b[1m1250/1250\u001b[0m \u001b[32m━━━━━━━━━━━━━━━━━━━━\u001b[0m\u001b[37m\u001b[0m \u001b[1m19s\u001b[0m 15ms/step - accuracy: 0.9198 - loss: 0.2038 - precision_6: 0.9185 - recall_6: 0.9210 - val_accuracy: 0.9194 - val_loss: 0.2025 - val_precision_6: 0.8879 - val_recall_6: 0.9600\n",
      "Epoch 15/30\n",
      "\u001b[1m1250/1250\u001b[0m \u001b[32m━━━━━━━━━━━━━━━━━━━━\u001b[0m\u001b[37m\u001b[0m \u001b[1m19s\u001b[0m 15ms/step - accuracy: 0.9209 - loss: 0.2041 - precision_6: 0.9209 - recall_6: 0.9215 - val_accuracy: 0.9184 - val_loss: 0.2081 - val_precision_6: 0.8852 - val_recall_6: 0.9614\n",
      "Epoch 16/30\n",
      "\u001b[1m1250/1250\u001b[0m \u001b[32m━━━━━━━━━━━━━━━━━━━━\u001b[0m\u001b[37m\u001b[0m \u001b[1m20s\u001b[0m 16ms/step - accuracy: 0.9196 - loss: 0.2077 - precision_6: 0.9174 - recall_6: 0.9225 - val_accuracy: 0.9182 - val_loss: 0.2110 - val_precision_6: 0.9501 - val_recall_6: 0.8828\n",
      "Epoch 17/30\n",
      "\u001b[1m1250/1250\u001b[0m \u001b[32m━━━━━━━━━━━━━━━━━━━━\u001b[0m\u001b[37m\u001b[0m \u001b[1m19s\u001b[0m 15ms/step - accuracy: 0.9225 - loss: 0.2000 - precision_6: 0.9201 - recall_6: 0.9258 - val_accuracy: 0.9336 - val_loss: 0.1721 - val_precision_6: 0.9294 - val_recall_6: 0.9385\n",
      "Epoch 18/30\n",
      "\u001b[1m1250/1250\u001b[0m \u001b[32m━━━━━━━━━━━━━━━━━━━━\u001b[0m\u001b[37m\u001b[0m \u001b[1m18s\u001b[0m 15ms/step - accuracy: 0.9209 - loss: 0.2000 - precision_6: 0.9216 - recall_6: 0.9206 - val_accuracy: 0.9271 - val_loss: 0.1874 - val_precision_6: 0.9187 - val_recall_6: 0.9372\n",
      "Epoch 19/30\n",
      "\u001b[1m1250/1250\u001b[0m \u001b[32m━━━━━━━━━━━━━━━━━━━━\u001b[0m\u001b[37m\u001b[0m \u001b[1m21s\u001b[0m 17ms/step - accuracy: 0.9215 - loss: 0.2019 - precision_6: 0.9209 - recall_6: 0.9224 - val_accuracy: 0.9204 - val_loss: 0.2023 - val_precision_6: 0.8897 - val_recall_6: 0.9598\n",
      "Epoch 20/30\n",
      "\u001b[1m1250/1250\u001b[0m \u001b[32m━━━━━━━━━━━━━━━━━━━━\u001b[0m\u001b[37m\u001b[0m \u001b[1m21s\u001b[0m 17ms/step - accuracy: 0.9217 - loss: 0.1995 - precision_6: 0.9221 - recall_6: 0.9213 - val_accuracy: 0.9355 - val_loss: 0.1706 - val_precision_6: 0.9562 - val_recall_6: 0.9128\n",
      "Epoch 21/30\n",
      "\u001b[1m1250/1250\u001b[0m \u001b[32m━━━━━━━━━━━━━━━━━━━━\u001b[0m\u001b[37m\u001b[0m \u001b[1m23s\u001b[0m 19ms/step - accuracy: 0.9303 - loss: 0.1814 - precision_6: 0.9321 - recall_6: 0.9286 - val_accuracy: 0.9360 - val_loss: 0.1651 - val_precision_6: 0.9392 - val_recall_6: 0.9323\n",
      "Epoch 22/30\n",
      "\u001b[1m1250/1250\u001b[0m \u001b[32m━━━━━━━━━━━━━━━━━━━━\u001b[0m\u001b[37m\u001b[0m \u001b[1m22s\u001b[0m 17ms/step - accuracy: 0.9292 - loss: 0.1829 - precision_6: 0.9265 - recall_6: 0.9327 - val_accuracy: 0.9364 - val_loss: 0.1664 - val_precision_6: 0.9302 - val_recall_6: 0.9435\n",
      "Epoch 23/30\n",
      "\u001b[1m1250/1250\u001b[0m \u001b[32m━━━━━━━━━━━━━━━━━━━━\u001b[0m\u001b[37m\u001b[0m \u001b[1m22s\u001b[0m 17ms/step - accuracy: 0.9296 - loss: 0.1814 - precision_6: 0.9306 - recall_6: 0.9275 - val_accuracy: 0.9372 - val_loss: 0.1625 - val_precision_6: 0.9345 - val_recall_6: 0.9402\n",
      "Epoch 24/30\n",
      "\u001b[1m1250/1250\u001b[0m \u001b[32m━━━━━━━━━━━━━━━━━━━━\u001b[0m\u001b[37m\u001b[0m \u001b[1m22s\u001b[0m 17ms/step - accuracy: 0.9256 - loss: 0.1885 - precision_6: 0.9251 - recall_6: 0.9252 - val_accuracy: 0.9392 - val_loss: 0.1587 - val_precision_6: 0.9547 - val_recall_6: 0.9221\n",
      "Epoch 25/30\n",
      "\u001b[1m1250/1250\u001b[0m \u001b[32m━━━━━━━━━━━━━━━━━━━━\u001b[0m\u001b[37m\u001b[0m \u001b[1m21s\u001b[0m 17ms/step - accuracy: 0.9296 - loss: 0.1827 - precision_6: 0.9312 - recall_6: 0.9282 - val_accuracy: 0.9405 - val_loss: 0.1586 - val_precision_6: 0.9444 - val_recall_6: 0.9362\n",
      "Epoch 26/30\n",
      "\u001b[1m1250/1250\u001b[0m \u001b[32m━━━━━━━━━━━━━━━━━━━━\u001b[0m\u001b[37m\u001b[0m \u001b[1m22s\u001b[0m 17ms/step - accuracy: 0.9314 - loss: 0.1789 - precision_6: 0.9308 - recall_6: 0.9323 - val_accuracy: 0.9365 - val_loss: 0.1675 - val_precision_6: 0.9469 - val_recall_6: 0.9249\n",
      "Epoch 27/30\n",
      "\u001b[1m1250/1250\u001b[0m \u001b[32m━━━━━━━━━━━━━━━━━━━━\u001b[0m\u001b[37m\u001b[0m \u001b[1m21s\u001b[0m 17ms/step - accuracy: 0.9322 - loss: 0.1736 - precision_6: 0.9338 - recall_6: 0.9297 - val_accuracy: 0.9420 - val_loss: 0.1523 - val_precision_6: 0.9382 - val_recall_6: 0.9464\n",
      "Epoch 28/30\n",
      "\u001b[1m1250/1250\u001b[0m \u001b[32m━━━━━━━━━━━━━━━━━━━━\u001b[0m\u001b[37m\u001b[0m \u001b[1m21s\u001b[0m 17ms/step - accuracy: 0.9308 - loss: 0.1785 - precision_6: 0.9304 - recall_6: 0.9309 - val_accuracy: 0.9378 - val_loss: 0.1628 - val_precision_6: 0.9391 - val_recall_6: 0.9363\n",
      "Epoch 29/30\n",
      "\u001b[1m1250/1250\u001b[0m \u001b[32m━━━━━━━━━━━━━━━━━━━━\u001b[0m\u001b[37m\u001b[0m \u001b[1m21s\u001b[0m 17ms/step - accuracy: 0.9313 - loss: 0.1757 - precision_6: 0.9338 - recall_6: 0.9287 - val_accuracy: 0.9420 - val_loss: 0.1534 - val_precision_6: 0.9446 - val_recall_6: 0.9390\n",
      "Epoch 30/30\n",
      "\u001b[1m1250/1250\u001b[0m \u001b[32m━━━━━━━━━━━━━━━━━━━━\u001b[0m\u001b[37m\u001b[0m \u001b[1m21s\u001b[0m 17ms/step - accuracy: 0.9345 - loss: 0.1689 - precision_6: 0.9375 - recall_6: 0.9316 - val_accuracy: 0.9397 - val_loss: 0.1579 - val_precision_6: 0.9444 - val_recall_6: 0.9345\n",
      "\u001b[1m313/313\u001b[0m \u001b[32m━━━━━━━━━━━━━━━━━━━━\u001b[0m\u001b[37m\u001b[0m \u001b[1m1s\u001b[0m 4ms/step\n",
      "Epoch 1/30\n",
      "\u001b[1m1250/1250\u001b[0m \u001b[32m━━━━━━━━━━━━━━━━━━━━\u001b[0m\u001b[37m\u001b[0m \u001b[1m24s\u001b[0m 18ms/step - accuracy: 0.7599 - loss: 0.4925 - precision_7: 0.7536 - recall_7: 0.7707 - val_accuracy: 0.8823 - val_loss: 0.2883 - val_precision_7: 0.9189 - val_recall_7: 0.8385\n",
      "Epoch 2/30\n",
      "\u001b[1m1250/1250\u001b[0m \u001b[32m━━━━━━━━━━━━━━━━━━━━\u001b[0m\u001b[37m\u001b[0m \u001b[1m22s\u001b[0m 17ms/step - accuracy: 0.8805 - loss: 0.2937 - precision_7: 0.8788 - recall_7: 0.8818 - val_accuracy: 0.8918 - val_loss: 0.2722 - val_precision_7: 0.9001 - val_recall_7: 0.8813\n",
      "Epoch 3/30\n",
      "\u001b[1m1250/1250\u001b[0m \u001b[32m━━━━━━━━━━━━━━━━━━━━\u001b[0m\u001b[37m\u001b[0m \u001b[1m22s\u001b[0m 17ms/step - accuracy: 0.8892 - loss: 0.2729 - precision_7: 0.8900 - recall_7: 0.8882 - val_accuracy: 0.8964 - val_loss: 0.2503 - val_precision_7: 0.8556 - val_recall_7: 0.9539\n",
      "Epoch 4/30\n",
      "\u001b[1m1250/1250\u001b[0m \u001b[32m━━━━━━━━━━━━━━━━━━━━\u001b[0m\u001b[37m\u001b[0m \u001b[1m22s\u001b[0m 17ms/step - accuracy: 0.9007 - loss: 0.2487 - precision_7: 0.9004 - recall_7: 0.9009 - val_accuracy: 0.9203 - val_loss: 0.2099 - val_precision_7: 0.9132 - val_recall_7: 0.9288\n",
      "Epoch 5/30\n",
      "\u001b[1m1250/1250\u001b[0m \u001b[32m━━━━━━━━━━━━━━━━━━━━\u001b[0m\u001b[37m\u001b[0m \u001b[1m22s\u001b[0m 17ms/step - accuracy: 0.9009 - loss: 0.2502 - precision_7: 0.9021 - recall_7: 0.8996 - val_accuracy: 0.9205 - val_loss: 0.2038 - val_precision_7: 0.9412 - val_recall_7: 0.8971\n",
      "Epoch 6/30\n",
      "\u001b[1m1250/1250\u001b[0m \u001b[32m━━━━━━━━━━━━━━━━━━━━\u001b[0m\u001b[37m\u001b[0m \u001b[1m21s\u001b[0m 17ms/step - accuracy: 0.9088 - loss: 0.2287 - precision_7: 0.9090 - recall_7: 0.9078 - val_accuracy: 0.9183 - val_loss: 0.2113 - val_precision_7: 0.9405 - val_recall_7: 0.8931\n",
      "Epoch 7/30\n",
      "\u001b[1m1250/1250\u001b[0m \u001b[32m━━━━━━━━━━━━━━━━━━━━\u001b[0m\u001b[37m\u001b[0m \u001b[1m22s\u001b[0m 17ms/step - accuracy: 0.9080 - loss: 0.2332 - precision_7: 0.9088 - recall_7: 0.9066 - val_accuracy: 0.9091 - val_loss: 0.2246 - val_precision_7: 0.8957 - val_recall_7: 0.9262\n",
      "Epoch 8/30\n",
      "\u001b[1m1250/1250\u001b[0m \u001b[32m━━━━━━━━━━━━━━━━━━━━\u001b[0m\u001b[37m\u001b[0m \u001b[1m22s\u001b[0m 17ms/step - accuracy: 0.9101 - loss: 0.2309 - precision_7: 0.9102 - recall_7: 0.9097 - val_accuracy: 0.9225 - val_loss: 0.2007 - val_precision_7: 0.9437 - val_recall_7: 0.8985\n",
      "Epoch 9/30\n",
      "\u001b[1m1250/1250\u001b[0m \u001b[32m━━━━━━━━━━━━━━━━━━━━\u001b[0m\u001b[37m\u001b[0m \u001b[1m22s\u001b[0m 17ms/step - accuracy: 0.9148 - loss: 0.2159 - precision_7: 0.9157 - recall_7: 0.9153 - val_accuracy: 0.9189 - val_loss: 0.2056 - val_precision_7: 0.8931 - val_recall_7: 0.9517\n",
      "Epoch 10/30\n",
      "\u001b[1m1250/1250\u001b[0m \u001b[32m━━━━━━━━━━━━━━━━━━━━\u001b[0m\u001b[37m\u001b[0m \u001b[1m22s\u001b[0m 17ms/step - accuracy: 0.9139 - loss: 0.2177 - precision_7: 0.9137 - recall_7: 0.9140 - val_accuracy: 0.9064 - val_loss: 0.2375 - val_precision_7: 0.9593 - val_recall_7: 0.8487\n",
      "Epoch 11/30\n",
      "\u001b[1m1250/1250\u001b[0m \u001b[32m━━━━━━━━━━━━━━━━━━━━\u001b[0m\u001b[37m\u001b[0m \u001b[1m22s\u001b[0m 17ms/step - accuracy: 0.9155 - loss: 0.2167 - precision_7: 0.9152 - recall_7: 0.9157 - val_accuracy: 0.9210 - val_loss: 0.2029 - val_precision_7: 0.9518 - val_recall_7: 0.8868\n",
      "Epoch 12/30\n",
      "\u001b[1m1250/1250\u001b[0m \u001b[32m━━━━━━━━━━━━━━━━━━━━\u001b[0m\u001b[37m\u001b[0m \u001b[1m22s\u001b[0m 17ms/step - accuracy: 0.9204 - loss: 0.2051 - precision_7: 0.9206 - recall_7: 0.9203 - val_accuracy: 0.9230 - val_loss: 0.1975 - val_precision_7: 0.9109 - val_recall_7: 0.9379\n",
      "Epoch 13/30\n",
      "\u001b[1m1250/1250\u001b[0m \u001b[32m━━━━━━━━━━━━━━━━━━━━\u001b[0m\u001b[37m\u001b[0m \u001b[1m22s\u001b[0m 17ms/step - accuracy: 0.9174 - loss: 0.2149 - precision_7: 0.9168 - recall_7: 0.9190 - val_accuracy: 0.9120 - val_loss: 0.2165 - val_precision_7: 0.9667 - val_recall_7: 0.8534\n",
      "Epoch 14/30\n",
      "\u001b[1m1250/1250\u001b[0m \u001b[32m━━━━━━━━━━━━━━━━━━━━\u001b[0m\u001b[37m\u001b[0m \u001b[1m21s\u001b[0m 17ms/step - accuracy: 0.9228 - loss: 0.1993 - precision_7: 0.9235 - recall_7: 0.9217 - val_accuracy: 0.9344 - val_loss: 0.1765 - val_precision_7: 0.9431 - val_recall_7: 0.9246\n",
      "Epoch 15/30\n",
      "\u001b[1m1250/1250\u001b[0m \u001b[32m━━━━━━━━━━━━━━━━━━━━\u001b[0m\u001b[37m\u001b[0m \u001b[1m22s\u001b[0m 17ms/step - accuracy: 0.9214 - loss: 0.2021 - precision_7: 0.9215 - recall_7: 0.9209 - val_accuracy: 0.9323 - val_loss: 0.1823 - val_precision_7: 0.9478 - val_recall_7: 0.9150\n",
      "Epoch 16/30\n",
      "\u001b[1m1250/1250\u001b[0m \u001b[32m━━━━━━━━━━━━━━━━━━━━\u001b[0m\u001b[37m\u001b[0m \u001b[1m21s\u001b[0m 17ms/step - accuracy: 0.9241 - loss: 0.1956 - precision_7: 0.9231 - recall_7: 0.9254 - val_accuracy: 0.9316 - val_loss: 0.1778 - val_precision_7: 0.9574 - val_recall_7: 0.9035\n",
      "Epoch 17/30\n",
      "\u001b[1m1250/1250\u001b[0m \u001b[32m━━━━━━━━━━━━━━━━━━━━\u001b[0m\u001b[37m\u001b[0m \u001b[1m21s\u001b[0m 17ms/step - accuracy: 0.9237 - loss: 0.1957 - precision_7: 0.9232 - recall_7: 0.9245 - val_accuracy: 0.9362 - val_loss: 0.1677 - val_precision_7: 0.9317 - val_recall_7: 0.9415\n",
      "Epoch 18/30\n",
      "\u001b[1m1250/1250\u001b[0m \u001b[32m━━━━━━━━━━━━━━━━━━━━\u001b[0m\u001b[37m\u001b[0m \u001b[1m21s\u001b[0m 17ms/step - accuracy: 0.9278 - loss: 0.1865 - precision_7: 0.9291 - recall_7: 0.9257 - val_accuracy: 0.8995 - val_loss: 0.2465 - val_precision_7: 0.8482 - val_recall_7: 0.9732\n",
      "Epoch 19/30\n",
      "\u001b[1m1250/1250\u001b[0m \u001b[32m━━━━━━━━━━━━━━━━━━━━\u001b[0m\u001b[37m\u001b[0m \u001b[1m21s\u001b[0m 17ms/step - accuracy: 0.9265 - loss: 0.1895 - precision_7: 0.9271 - recall_7: 0.9258 - val_accuracy: 0.9372 - val_loss: 0.1649 - val_precision_7: 0.9265 - val_recall_7: 0.9498\n",
      "Epoch 20/30\n",
      "\u001b[1m1250/1250\u001b[0m \u001b[32m━━━━━━━━━━━━━━━━━━━━\u001b[0m\u001b[37m\u001b[0m \u001b[1m22s\u001b[0m 17ms/step - accuracy: 0.9273 - loss: 0.1871 - precision_7: 0.9284 - recall_7: 0.9256 - val_accuracy: 0.9365 - val_loss: 0.1671 - val_precision_7: 0.9337 - val_recall_7: 0.9396\n",
      "Epoch 21/30\n",
      "\u001b[1m1250/1250\u001b[0m \u001b[32m━━━━━━━━━━━━━━━━━━━━\u001b[0m\u001b[37m\u001b[0m \u001b[1m22s\u001b[0m 17ms/step - accuracy: 0.9262 - loss: 0.1893 - precision_7: 0.9264 - recall_7: 0.9258 - val_accuracy: 0.8964 - val_loss: 0.2574 - val_precision_7: 0.8406 - val_recall_7: 0.9785\n",
      "Epoch 22/30\n",
      "\u001b[1m1250/1250\u001b[0m \u001b[32m━━━━━━━━━━━━━━━━━━━━\u001b[0m\u001b[37m\u001b[0m \u001b[1m22s\u001b[0m 17ms/step - accuracy: 0.9247 - loss: 0.1930 - precision_7: 0.9221 - recall_7: 0.9274 - val_accuracy: 0.9401 - val_loss: 0.1591 - val_precision_7: 0.9352 - val_recall_7: 0.9456\n",
      "Epoch 23/30\n",
      "\u001b[1m1250/1250\u001b[0m \u001b[32m━━━━━━━━━━━━━━━━━━━━\u001b[0m\u001b[37m\u001b[0m \u001b[1m22s\u001b[0m 17ms/step - accuracy: 0.9296 - loss: 0.1806 - precision_7: 0.9276 - recall_7: 0.9317 - val_accuracy: 0.9266 - val_loss: 0.1876 - val_precision_7: 0.9037 - val_recall_7: 0.9549\n",
      "Epoch 24/30\n",
      "\u001b[1m1250/1250\u001b[0m \u001b[32m━━━━━━━━━━━━━━━━━━━━\u001b[0m\u001b[37m\u001b[0m \u001b[1m22s\u001b[0m 17ms/step - accuracy: 0.9325 - loss: 0.1745 - precision_7: 0.9327 - recall_7: 0.9311 - val_accuracy: 0.9354 - val_loss: 0.1701 - val_precision_7: 0.9498 - val_recall_7: 0.9193\n",
      "Epoch 25/30\n",
      "\u001b[1m1250/1250\u001b[0m \u001b[32m━━━━━━━━━━━━━━━━━━━━\u001b[0m\u001b[37m\u001b[0m \u001b[1m21s\u001b[0m 17ms/step - accuracy: 0.9295 - loss: 0.1856 - precision_7: 0.9299 - recall_7: 0.9289 - val_accuracy: 0.9151 - val_loss: 0.2139 - val_precision_7: 0.8708 - val_recall_7: 0.9749\n",
      "Epoch 26/30\n",
      "\u001b[1m1250/1250\u001b[0m \u001b[32m━━━━━━━━━━━━━━━━━━━━\u001b[0m\u001b[37m\u001b[0m \u001b[1m21s\u001b[0m 17ms/step - accuracy: 0.9300 - loss: 0.1800 - precision_7: 0.9294 - recall_7: 0.9306 - val_accuracy: 0.9263 - val_loss: 0.1896 - val_precision_7: 0.9675 - val_recall_7: 0.8823\n",
      "Epoch 27/30\n",
      "\u001b[1m1250/1250\u001b[0m \u001b[32m━━━━━━━━━━━━━━━━━━━━\u001b[0m\u001b[37m\u001b[0m \u001b[1m22s\u001b[0m 17ms/step - accuracy: 0.9312 - loss: 0.1783 - precision_7: 0.9327 - recall_7: 0.9294 - val_accuracy: 0.9352 - val_loss: 0.1697 - val_precision_7: 0.9170 - val_recall_7: 0.9571\n",
      "Epoch 28/30\n",
      "\u001b[1m1250/1250\u001b[0m \u001b[32m━━━━━━━━━━━━━━━━━━━━\u001b[0m\u001b[37m\u001b[0m \u001b[1m21s\u001b[0m 17ms/step - accuracy: 0.9316 - loss: 0.1773 - precision_7: 0.9294 - recall_7: 0.9333 - val_accuracy: 0.9385 - val_loss: 0.1606 - val_precision_7: 0.9289 - val_recall_7: 0.9498\n",
      "Epoch 29/30\n",
      "\u001b[1m1250/1250\u001b[0m \u001b[32m━━━━━━━━━━━━━━━━━━━━\u001b[0m\u001b[37m\u001b[0m \u001b[1m22s\u001b[0m 17ms/step - accuracy: 0.9325 - loss: 0.1739 - precision_7: 0.9308 - recall_7: 0.9348 - val_accuracy: 0.9414 - val_loss: 0.1573 - val_precision_7: 0.9560 - val_recall_7: 0.9253\n",
      "Epoch 30/30\n",
      "\u001b[1m1250/1250\u001b[0m \u001b[32m━━━━━━━━━━━━━━━━━━━━\u001b[0m\u001b[37m\u001b[0m \u001b[1m22s\u001b[0m 17ms/step - accuracy: 0.9356 - loss: 0.1714 - precision_7: 0.9334 - recall_7: 0.9381 - val_accuracy: 0.9438 - val_loss: 0.1515 - val_precision_7: 0.9388 - val_recall_7: 0.9495\n",
      "\u001b[1m313/313\u001b[0m \u001b[32m━━━━━━━━━━━━━━━━━━━━\u001b[0m\u001b[37m\u001b[0m \u001b[1m1s\u001b[0m 4ms/step\n",
      "Epoch 1/30\n",
      "\u001b[1m1250/1250\u001b[0m \u001b[32m━━━━━━━━━━━━━━━━━━━━\u001b[0m\u001b[37m\u001b[0m \u001b[1m24s\u001b[0m 18ms/step - accuracy: 0.7600 - loss: 0.4877 - precision_8: 0.7524 - recall_8: 0.7754 - val_accuracy: 0.8729 - val_loss: 0.3045 - val_precision_8: 0.9145 - val_recall_8: 0.8227\n",
      "Epoch 2/30\n",
      "\u001b[1m1250/1250\u001b[0m \u001b[32m━━━━━━━━━━━━━━━━━━━━\u001b[0m\u001b[37m\u001b[0m \u001b[1m22s\u001b[0m 17ms/step - accuracy: 0.8771 - loss: 0.2947 - precision_8: 0.8777 - recall_8: 0.8776 - val_accuracy: 0.8904 - val_loss: 0.2642 - val_precision_8: 0.8468 - val_recall_8: 0.9533\n",
      "Epoch 3/30\n",
      "\u001b[1m1250/1250\u001b[0m \u001b[32m━━━━━━━━━━━━━━━━━━━━\u001b[0m\u001b[37m\u001b[0m \u001b[1m25s\u001b[0m 20ms/step - accuracy: 0.8926 - loss: 0.2679 - precision_8: 0.8930 - recall_8: 0.8916 - val_accuracy: 0.9030 - val_loss: 0.2429 - val_precision_8: 0.8821 - val_recall_8: 0.9304\n",
      "Epoch 4/30\n",
      "\u001b[1m1250/1250\u001b[0m \u001b[32m━━━━━━━━━━━━━━━━━━━━\u001b[0m\u001b[37m\u001b[0m \u001b[1m25s\u001b[0m 20ms/step - accuracy: 0.8949 - loss: 0.2603 - precision_8: 0.8974 - recall_8: 0.8924 - val_accuracy: 0.9086 - val_loss: 0.2320 - val_precision_8: 0.8911 - val_recall_8: 0.9310\n",
      "Epoch 5/30\n",
      "\u001b[1m1250/1250\u001b[0m \u001b[32m━━━━━━━━━━━━━━━━━━━━\u001b[0m\u001b[37m\u001b[0m \u001b[1m25s\u001b[0m 20ms/step - accuracy: 0.9035 - loss: 0.2427 - precision_8: 0.9034 - recall_8: 0.9025 - val_accuracy: 0.9046 - val_loss: 0.2406 - val_precision_8: 0.8633 - val_recall_8: 0.9615\n",
      "Epoch 6/30\n",
      "\u001b[1m1250/1250\u001b[0m \u001b[32m━━━━━━━━━━━━━━━━━━━━\u001b[0m\u001b[37m\u001b[0m \u001b[1m25s\u001b[0m 20ms/step - accuracy: 0.8977 - loss: 0.2515 - precision_8: 0.8965 - recall_8: 0.8994 - val_accuracy: 0.9245 - val_loss: 0.2007 - val_precision_8: 0.9254 - val_recall_8: 0.9234\n",
      "Epoch 7/30\n",
      "\u001b[1m1250/1250\u001b[0m \u001b[32m━━━━━━━━━━━━━━━━━━━━\u001b[0m\u001b[37m\u001b[0m \u001b[1m25s\u001b[0m 20ms/step - accuracy: 0.9063 - loss: 0.2353 - precision_8: 0.9066 - recall_8: 0.9057 - val_accuracy: 0.9175 - val_loss: 0.2088 - val_precision_8: 0.9134 - val_recall_8: 0.9224\n",
      "Epoch 8/30\n",
      "\u001b[1m1250/1250\u001b[0m \u001b[32m━━━━━━━━━━━━━━━━━━━━\u001b[0m\u001b[37m\u001b[0m \u001b[1m25s\u001b[0m 20ms/step - accuracy: 0.9070 - loss: 0.2326 - precision_8: 0.9079 - recall_8: 0.9066 - val_accuracy: 0.9011 - val_loss: 0.2496 - val_precision_8: 0.9268 - val_recall_8: 0.8710\n",
      "Epoch 9/30\n",
      "\u001b[1m1250/1250\u001b[0m \u001b[32m━━━━━━━━━━━━━━━━━━━━\u001b[0m\u001b[37m\u001b[0m \u001b[1m26s\u001b[0m 21ms/step - accuracy: 0.9109 - loss: 0.2276 - precision_8: 0.9100 - recall_8: 0.9111 - val_accuracy: 0.8906 - val_loss: 0.2540 - val_precision_8: 0.9615 - val_recall_8: 0.8137\n",
      "Epoch 10/30\n",
      "\u001b[1m1250/1250\u001b[0m \u001b[32m━━━━━━━━━━━━━━━━━━━━\u001b[0m\u001b[37m\u001b[0m \u001b[1m26s\u001b[0m 21ms/step - accuracy: 0.9093 - loss: 0.2292 - precision_8: 0.9098 - recall_8: 0.9088 - val_accuracy: 0.9250 - val_loss: 0.1960 - val_precision_8: 0.9116 - val_recall_8: 0.9412\n",
      "Epoch 11/30\n",
      "\u001b[1m1250/1250\u001b[0m \u001b[32m━━━━━━━━━━━━━━━━━━━━\u001b[0m\u001b[37m\u001b[0m \u001b[1m26s\u001b[0m 21ms/step - accuracy: 0.9102 - loss: 0.2250 - precision_8: 0.9123 - recall_8: 0.9080 - val_accuracy: 0.9242 - val_loss: 0.1955 - val_precision_8: 0.9237 - val_recall_8: 0.9248\n",
      "Epoch 12/30\n",
      "\u001b[1m1250/1250\u001b[0m \u001b[32m━━━━━━━━━━━━━━━━━━━━\u001b[0m\u001b[37m\u001b[0m \u001b[1m25s\u001b[0m 20ms/step - accuracy: 0.9119 - loss: 0.2219 - precision_8: 0.9119 - recall_8: 0.9108 - val_accuracy: 0.9318 - val_loss: 0.1784 - val_precision_8: 0.9348 - val_recall_8: 0.9284\n",
      "Epoch 13/30\n",
      "\u001b[1m1250/1250\u001b[0m \u001b[32m━━━━━━━━━━━━━━━━━━━━\u001b[0m\u001b[37m\u001b[0m \u001b[1m25s\u001b[0m 20ms/step - accuracy: 0.9180 - loss: 0.2103 - precision_8: 0.9155 - recall_8: 0.9222 - val_accuracy: 0.9300 - val_loss: 0.1818 - val_precision_8: 0.9198 - val_recall_8: 0.9421\n",
      "Epoch 14/30\n",
      "\u001b[1m1250/1250\u001b[0m \u001b[32m━━━━━━━━━━━━━━━━━━━━\u001b[0m\u001b[37m\u001b[0m \u001b[1m25s\u001b[0m 20ms/step - accuracy: 0.9206 - loss: 0.2047 - precision_8: 0.9213 - recall_8: 0.9196 - val_accuracy: 0.9214 - val_loss: 0.2004 - val_precision_8: 0.9599 - val_recall_8: 0.8796\n",
      "Epoch 15/30\n",
      "\u001b[1m1250/1250\u001b[0m \u001b[32m━━━━━━━━━━━━━━━━━━━━\u001b[0m\u001b[37m\u001b[0m \u001b[1m25s\u001b[0m 20ms/step - accuracy: 0.9176 - loss: 0.2081 - precision_8: 0.9193 - recall_8: 0.9151 - val_accuracy: 0.9333 - val_loss: 0.1781 - val_precision_8: 0.9394 - val_recall_8: 0.9263\n",
      "Epoch 16/30\n",
      "\u001b[1m1250/1250\u001b[0m \u001b[32m━━━━━━━━━━━━━━━━━━━━\u001b[0m\u001b[37m\u001b[0m \u001b[1m24s\u001b[0m 19ms/step - accuracy: 0.9223 - loss: 0.2001 - precision_8: 0.9226 - recall_8: 0.9221 - val_accuracy: 0.9301 - val_loss: 0.1807 - val_precision_8: 0.9119 - val_recall_8: 0.9523\n",
      "Epoch 17/30\n",
      "\u001b[1m1250/1250\u001b[0m \u001b[32m━━━━━━━━━━━━━━━━━━━━\u001b[0m\u001b[37m\u001b[0m \u001b[1m22s\u001b[0m 17ms/step - accuracy: 0.9243 - loss: 0.1944 - precision_8: 0.9247 - recall_8: 0.9239 - val_accuracy: 0.9262 - val_loss: 0.1899 - val_precision_8: 0.9229 - val_recall_8: 0.9302\n",
      "Epoch 18/30\n",
      "\u001b[1m1250/1250\u001b[0m \u001b[32m━━━━━━━━━━━━━━━━━━━━\u001b[0m\u001b[37m\u001b[0m \u001b[1m22s\u001b[0m 17ms/step - accuracy: 0.9237 - loss: 0.1980 - precision_8: 0.9241 - recall_8: 0.9238 - val_accuracy: 0.9293 - val_loss: 0.1849 - val_precision_8: 0.9451 - val_recall_8: 0.9115\n",
      "Epoch 19/30\n",
      "\u001b[1m1250/1250\u001b[0m \u001b[32m━━━━━━━━━━━━━━━━━━━━\u001b[0m\u001b[37m\u001b[0m \u001b[1m22s\u001b[0m 17ms/step - accuracy: 0.9217 - loss: 0.2002 - precision_8: 0.9223 - recall_8: 0.9209 - val_accuracy: 0.9181 - val_loss: 0.2075 - val_precision_8: 0.8869 - val_recall_8: 0.9584\n",
      "Epoch 20/30\n",
      "\u001b[1m1250/1250\u001b[0m \u001b[32m━━━━━━━━━━━━━━━━━━━━\u001b[0m\u001b[37m\u001b[0m \u001b[1m22s\u001b[0m 17ms/step - accuracy: 0.9251 - loss: 0.1944 - precision_8: 0.9266 - recall_8: 0.9230 - val_accuracy: 0.9349 - val_loss: 0.1699 - val_precision_8: 0.9390 - val_recall_8: 0.9302\n",
      "Epoch 21/30\n",
      "\u001b[1m1250/1250\u001b[0m \u001b[32m━━━━━━━━━━━━━━━━━━━━\u001b[0m\u001b[37m\u001b[0m \u001b[1m21s\u001b[0m 17ms/step - accuracy: 0.9269 - loss: 0.1907 - precision_8: 0.9281 - recall_8: 0.9245 - val_accuracy: 0.9352 - val_loss: 0.1723 - val_precision_8: 0.9451 - val_recall_8: 0.9240\n",
      "Epoch 22/30\n",
      "\u001b[1m1250/1250\u001b[0m \u001b[32m━━━━━━━━━━━━━━━━━━━━\u001b[0m\u001b[37m\u001b[0m \u001b[1m21s\u001b[0m 17ms/step - accuracy: 0.9288 - loss: 0.1843 - precision_8: 0.9298 - recall_8: 0.9273 - val_accuracy: 0.9389 - val_loss: 0.1629 - val_precision_8: 0.9287 - val_recall_8: 0.9507\n",
      "Epoch 23/30\n",
      "\u001b[1m1250/1250\u001b[0m \u001b[32m━━━━━━━━━━━━━━━━━━━━\u001b[0m\u001b[37m\u001b[0m \u001b[1m21s\u001b[0m 17ms/step - accuracy: 0.9302 - loss: 0.1812 - precision_8: 0.9300 - recall_8: 0.9303 - val_accuracy: 0.9357 - val_loss: 0.1682 - val_precision_8: 0.9511 - val_recall_8: 0.9186\n",
      "Epoch 24/30\n",
      "\u001b[1m1250/1250\u001b[0m \u001b[32m━━━━━━━━━━━━━━━━━━━━\u001b[0m\u001b[37m\u001b[0m \u001b[1m21s\u001b[0m 17ms/step - accuracy: 0.9276 - loss: 0.1881 - precision_8: 0.9259 - recall_8: 0.9291 - val_accuracy: 0.9254 - val_loss: 0.1920 - val_precision_8: 0.9239 - val_recall_8: 0.9272\n",
      "Epoch 25/30\n",
      "\u001b[1m1250/1250\u001b[0m \u001b[32m━━━━━━━━━━━━━━━━━━━━\u001b[0m\u001b[37m\u001b[0m \u001b[1m21s\u001b[0m 17ms/step - accuracy: 0.9306 - loss: 0.1800 - precision_8: 0.9282 - recall_8: 0.9330 - val_accuracy: 0.9356 - val_loss: 0.1663 - val_precision_8: 0.9301 - val_recall_8: 0.9420\n",
      "Epoch 26/30\n",
      "\u001b[1m1250/1250\u001b[0m \u001b[32m━━━━━━━━━━━━━━━━━━━━\u001b[0m\u001b[37m\u001b[0m \u001b[1m21s\u001b[0m 17ms/step - accuracy: 0.9299 - loss: 0.1796 - precision_8: 0.9313 - recall_8: 0.9284 - val_accuracy: 0.9400 - val_loss: 0.1579 - val_precision_8: 0.9363 - val_recall_8: 0.9443\n",
      "Epoch 27/30\n",
      "\u001b[1m1250/1250\u001b[0m \u001b[32m━━━━━━━━━━━━━━━━━━━━\u001b[0m\u001b[37m\u001b[0m \u001b[1m22s\u001b[0m 17ms/step - accuracy: 0.9296 - loss: 0.1839 - precision_8: 0.9289 - recall_8: 0.9300 - val_accuracy: 0.9408 - val_loss: 0.1551 - val_precision_8: 0.9540 - val_recall_8: 0.9263\n",
      "Epoch 28/30\n",
      "\u001b[1m1250/1250\u001b[0m \u001b[32m━━━━━━━━━━━━━━━━━━━━\u001b[0m\u001b[37m\u001b[0m \u001b[1m22s\u001b[0m 17ms/step - accuracy: 0.9316 - loss: 0.1774 - precision_8: 0.9324 - recall_8: 0.9312 - val_accuracy: 0.9381 - val_loss: 0.1606 - val_precision_8: 0.9334 - val_recall_8: 0.9436\n",
      "Epoch 29/30\n",
      "\u001b[1m1250/1250\u001b[0m \u001b[32m━━━━━━━━━━━━━━━━━━━━\u001b[0m\u001b[37m\u001b[0m \u001b[1m22s\u001b[0m 17ms/step - accuracy: 0.9316 - loss: 0.1785 - precision_8: 0.9329 - recall_8: 0.9303 - val_accuracy: 0.9377 - val_loss: 0.1627 - val_precision_8: 0.9432 - val_recall_8: 0.9315\n",
      "Epoch 30/30\n",
      "\u001b[1m1250/1250\u001b[0m \u001b[32m━━━━━━━━━━━━━━━━━━━━\u001b[0m\u001b[37m\u001b[0m \u001b[1m23s\u001b[0m 18ms/step - accuracy: 0.9312 - loss: 0.1813 - precision_8: 0.9316 - recall_8: 0.9312 - val_accuracy: 0.9369 - val_loss: 0.1638 - val_precision_8: 0.9457 - val_recall_8: 0.9269\n",
      "\u001b[1m313/313\u001b[0m \u001b[32m━━━━━━━━━━━━━━━━━━━━\u001b[0m\u001b[37m\u001b[0m \u001b[1m1s\u001b[0m 4ms/step\n",
      "Epoch 1/30\n",
      "\u001b[1m1250/1250\u001b[0m \u001b[32m━━━━━━━━━━━━━━━━━━━━\u001b[0m\u001b[37m\u001b[0m \u001b[1m25s\u001b[0m 19ms/step - accuracy: 0.7537 - loss: 0.4941 - precision_9: 0.7439 - recall_9: 0.7709 - val_accuracy: 0.8831 - val_loss: 0.2849 - val_precision_9: 0.8943 - val_recall_9: 0.8689\n",
      "Epoch 2/30\n",
      "\u001b[1m1250/1250\u001b[0m \u001b[32m━━━━━━━━━━━━━━━━━━━━\u001b[0m\u001b[37m\u001b[0m \u001b[1m22s\u001b[0m 17ms/step - accuracy: 0.8779 - loss: 0.2968 - precision_9: 0.8771 - recall_9: 0.8793 - val_accuracy: 0.9014 - val_loss: 0.2492 - val_precision_9: 0.8880 - val_recall_9: 0.9188\n",
      "Epoch 3/30\n",
      "\u001b[1m1250/1250\u001b[0m \u001b[32m━━━━━━━━━━━━━━━━━━━━\u001b[0m\u001b[37m\u001b[0m \u001b[1m22s\u001b[0m 17ms/step - accuracy: 0.8900 - loss: 0.2723 - precision_9: 0.8893 - recall_9: 0.8907 - val_accuracy: 0.9153 - val_loss: 0.2205 - val_precision_9: 0.9220 - val_recall_9: 0.9073\n",
      "Epoch 4/30\n",
      "\u001b[1m1250/1250\u001b[0m \u001b[32m━━━━━━━━━━━━━━━━━━━━\u001b[0m\u001b[37m\u001b[0m \u001b[1m22s\u001b[0m 17ms/step - accuracy: 0.8984 - loss: 0.2531 - precision_9: 0.8974 - recall_9: 0.8987 - val_accuracy: 0.9119 - val_loss: 0.2246 - val_precision_9: 0.8993 - val_recall_9: 0.9277\n",
      "Epoch 5/30\n",
      "\u001b[1m1250/1250\u001b[0m \u001b[32m━━━━━━━━━━━━━━━━━━━━\u001b[0m\u001b[37m\u001b[0m \u001b[1m22s\u001b[0m 18ms/step - accuracy: 0.9027 - loss: 0.2454 - precision_9: 0.9039 - recall_9: 0.9011 - val_accuracy: 0.9109 - val_loss: 0.2224 - val_precision_9: 0.8898 - val_recall_9: 0.9379\n",
      "Epoch 6/30\n",
      "\u001b[1m1250/1250\u001b[0m \u001b[32m━━━━━━━━━━━━━━━━━━━━\u001b[0m\u001b[37m\u001b[0m \u001b[1m22s\u001b[0m 18ms/step - accuracy: 0.9041 - loss: 0.2359 - precision_9: 0.9046 - recall_9: 0.9024 - val_accuracy: 0.9199 - val_loss: 0.2060 - val_precision_9: 0.9337 - val_recall_9: 0.9040\n",
      "Epoch 7/30\n",
      "\u001b[1m1250/1250\u001b[0m \u001b[32m━━━━━━━━━━━━━━━━━━━━\u001b[0m\u001b[37m\u001b[0m \u001b[1m22s\u001b[0m 18ms/step - accuracy: 0.9089 - loss: 0.2270 - precision_9: 0.9098 - recall_9: 0.9081 - val_accuracy: 0.9104 - val_loss: 0.2251 - val_precision_9: 0.9215 - val_recall_9: 0.8974\n",
      "Epoch 8/30\n",
      "\u001b[1m1250/1250\u001b[0m \u001b[32m━━━━━━━━━━━━━━━━━━━━\u001b[0m\u001b[37m\u001b[0m \u001b[1m22s\u001b[0m 17ms/step - accuracy: 0.9111 - loss: 0.2217 - precision_9: 0.9122 - recall_9: 0.9105 - val_accuracy: 0.9228 - val_loss: 0.1958 - val_precision_9: 0.9415 - val_recall_9: 0.9018\n",
      "Epoch 9/30\n",
      "\u001b[1m1250/1250\u001b[0m \u001b[32m━━━━━━━━━━━━━━━━━━━━\u001b[0m\u001b[37m\u001b[0m \u001b[1m22s\u001b[0m 18ms/step - accuracy: 0.9150 - loss: 0.2159 - precision_9: 0.9129 - recall_9: 0.9170 - val_accuracy: 0.9072 - val_loss: 0.2276 - val_precision_9: 0.8997 - val_recall_9: 0.9165\n",
      "Epoch 10/30\n",
      "\u001b[1m1250/1250\u001b[0m \u001b[32m━━━━━━━━━━━━━━━━━━━━\u001b[0m\u001b[37m\u001b[0m \u001b[1m22s\u001b[0m 17ms/step - accuracy: 0.9142 - loss: 0.2206 - precision_9: 0.9148 - recall_9: 0.9143 - val_accuracy: 0.9298 - val_loss: 0.1824 - val_precision_9: 0.9378 - val_recall_9: 0.9207\n",
      "Epoch 11/30\n",
      "\u001b[1m1250/1250\u001b[0m \u001b[32m━━━━━━━━━━━━━━━━━━━━\u001b[0m\u001b[37m\u001b[0m \u001b[1m22s\u001b[0m 17ms/step - accuracy: 0.9175 - loss: 0.2103 - precision_9: 0.9170 - recall_9: 0.9190 - val_accuracy: 0.9068 - val_loss: 0.2275 - val_precision_9: 0.8844 - val_recall_9: 0.9359\n",
      "Epoch 12/30\n",
      "\u001b[1m1250/1250\u001b[0m \u001b[32m━━━━━━━━━━━━━━━━━━━━\u001b[0m\u001b[37m\u001b[0m \u001b[1m21s\u001b[0m 17ms/step - accuracy: 0.9183 - loss: 0.2089 - precision_9: 0.9192 - recall_9: 0.9174 - val_accuracy: 0.9319 - val_loss: 0.1782 - val_precision_9: 0.9291 - val_recall_9: 0.9352\n",
      "Epoch 13/30\n",
      "\u001b[1m1250/1250\u001b[0m \u001b[32m━━━━━━━━━━━━━━━━━━━━\u001b[0m\u001b[37m\u001b[0m \u001b[1m22s\u001b[0m 17ms/step - accuracy: 0.9192 - loss: 0.2064 - precision_9: 0.9187 - recall_9: 0.9197 - val_accuracy: 0.9077 - val_loss: 0.2276 - val_precision_9: 0.9548 - val_recall_9: 0.8560\n",
      "Epoch 14/30\n",
      "\u001b[1m1250/1250\u001b[0m \u001b[32m━━━━━━━━━━━━━━━━━━━━\u001b[0m\u001b[37m\u001b[0m \u001b[1m22s\u001b[0m 18ms/step - accuracy: 0.9190 - loss: 0.2081 - precision_9: 0.9202 - recall_9: 0.9183 - val_accuracy: 0.9347 - val_loss: 0.1717 - val_precision_9: 0.9273 - val_recall_9: 0.9435\n",
      "Epoch 15/30\n",
      "\u001b[1m1250/1250\u001b[0m \u001b[32m━━━━━━━━━━━━━━━━━━━━\u001b[0m\u001b[37m\u001b[0m \u001b[1m22s\u001b[0m 17ms/step - accuracy: 0.9216 - loss: 0.2019 - precision_9: 0.9202 - recall_9: 0.9236 - val_accuracy: 0.9255 - val_loss: 0.1902 - val_precision_9: 0.9640 - val_recall_9: 0.8839\n",
      "Epoch 16/30\n",
      "\u001b[1m1250/1250\u001b[0m \u001b[32m━━━━━━━━━━━━━━━━━━━━\u001b[0m\u001b[37m\u001b[0m \u001b[1m23s\u001b[0m 18ms/step - accuracy: 0.9215 - loss: 0.1994 - precision_9: 0.9230 - recall_9: 0.9206 - val_accuracy: 0.9262 - val_loss: 0.1916 - val_precision_9: 0.9403 - val_recall_9: 0.9103\n",
      "Epoch 17/30\n",
      "\u001b[1m1250/1250\u001b[0m \u001b[32m━━━━━━━━━━━━━━━━━━━━\u001b[0m\u001b[37m\u001b[0m \u001b[1m24s\u001b[0m 19ms/step - accuracy: 0.9220 - loss: 0.2001 - precision_9: 0.9194 - recall_9: 0.9246 - val_accuracy: 0.9279 - val_loss: 0.1864 - val_precision_9: 0.9380 - val_recall_9: 0.9165\n",
      "Epoch 18/30\n",
      "\u001b[1m1250/1250\u001b[0m \u001b[32m━━━━━━━━━━━━━━━━━━━━\u001b[0m\u001b[37m\u001b[0m \u001b[1m24s\u001b[0m 19ms/step - accuracy: 0.9241 - loss: 0.1946 - precision_9: 0.9254 - recall_9: 0.9224 - val_accuracy: 0.9297 - val_loss: 0.1786 - val_precision_9: 0.9054 - val_recall_9: 0.9596\n",
      "Epoch 19/30\n",
      "\u001b[1m1250/1250\u001b[0m \u001b[32m━━━━━━━━━━━━━━━━━━━━\u001b[0m\u001b[37m\u001b[0m \u001b[1m24s\u001b[0m 19ms/step - accuracy: 0.9273 - loss: 0.1867 - precision_9: 0.9283 - recall_9: 0.9259 - val_accuracy: 0.9156 - val_loss: 0.2108 - val_precision_9: 0.8799 - val_recall_9: 0.9626\n",
      "Epoch 20/30\n",
      "\u001b[1m1250/1250\u001b[0m \u001b[32m━━━━━━━━━━━━━━━━━━━━\u001b[0m\u001b[37m\u001b[0m \u001b[1m24s\u001b[0m 19ms/step - accuracy: 0.9242 - loss: 0.1929 - precision_9: 0.9241 - recall_9: 0.9236 - val_accuracy: 0.9367 - val_loss: 0.1672 - val_precision_9: 0.9431 - val_recall_9: 0.9295\n",
      "Epoch 21/30\n",
      "\u001b[1m1250/1250\u001b[0m \u001b[32m━━━━━━━━━━━━━━━━━━━━\u001b[0m\u001b[37m\u001b[0m \u001b[1m24s\u001b[0m 19ms/step - accuracy: 0.9264 - loss: 0.1849 - precision_9: 0.9264 - recall_9: 0.9265 - val_accuracy: 0.9122 - val_loss: 0.2241 - val_precision_9: 0.8688 - val_recall_9: 0.9710\n",
      "Epoch 22/30\n",
      "\u001b[1m1250/1250\u001b[0m \u001b[32m━━━━━━━━━━━━━━━━━━━━\u001b[0m\u001b[37m\u001b[0m \u001b[1m24s\u001b[0m 19ms/step - accuracy: 0.9258 - loss: 0.1899 - precision_9: 0.9244 - recall_9: 0.9260 - val_accuracy: 0.9181 - val_loss: 0.2043 - val_precision_9: 0.8746 - val_recall_9: 0.9761\n",
      "Epoch 23/30\n",
      "\u001b[1m1250/1250\u001b[0m \u001b[32m━━━━━━━━━━━━━━━━━━━━\u001b[0m\u001b[37m\u001b[0m \u001b[1m24s\u001b[0m 19ms/step - accuracy: 0.9299 - loss: 0.1816 - precision_9: 0.9282 - recall_9: 0.9324 - val_accuracy: 0.9070 - val_loss: 0.2300 - val_precision_9: 0.8619 - val_recall_9: 0.9694\n",
      "Epoch 24/30\n",
      "\u001b[1m1250/1250\u001b[0m \u001b[32m━━━━━━━━━━━━━━━━━━━━\u001b[0m\u001b[37m\u001b[0m \u001b[1m24s\u001b[0m 19ms/step - accuracy: 0.9277 - loss: 0.1825 - precision_9: 0.9287 - recall_9: 0.9261 - val_accuracy: 0.9362 - val_loss: 0.1660 - val_precision_9: 0.9177 - val_recall_9: 0.9583\n",
      "Epoch 25/30\n",
      "\u001b[1m1250/1250\u001b[0m \u001b[32m━━━━━━━━━━━━━━━━━━━━\u001b[0m\u001b[37m\u001b[0m \u001b[1m24s\u001b[0m 19ms/step - accuracy: 0.9310 - loss: 0.1785 - precision_9: 0.9305 - recall_9: 0.9320 - val_accuracy: 0.9350 - val_loss: 0.1681 - val_precision_9: 0.9584 - val_recall_9: 0.9095\n",
      "Epoch 26/30\n",
      "\u001b[1m1250/1250\u001b[0m \u001b[32m━━━━━━━━━━━━━━━━━━━━\u001b[0m\u001b[37m\u001b[0m \u001b[1m24s\u001b[0m 19ms/step - accuracy: 0.9317 - loss: 0.1740 - precision_9: 0.9340 - recall_9: 0.9294 - val_accuracy: 0.9307 - val_loss: 0.1768 - val_precision_9: 0.9621 - val_recall_9: 0.8967\n",
      "Epoch 27/30\n",
      "\u001b[1m1250/1250\u001b[0m \u001b[32m━━━━━━━━━━━━━━━━━━━━\u001b[0m\u001b[37m\u001b[0m \u001b[1m24s\u001b[0m 19ms/step - accuracy: 0.9275 - loss: 0.1857 - precision_9: 0.9285 - recall_9: 0.9278 - val_accuracy: 0.9369 - val_loss: 0.1646 - val_precision_9: 0.9359 - val_recall_9: 0.9381\n",
      "Epoch 28/30\n",
      "\u001b[1m1250/1250\u001b[0m \u001b[32m━━━━━━━━━━━━━━━━━━━━\u001b[0m\u001b[37m\u001b[0m \u001b[1m24s\u001b[0m 19ms/step - accuracy: 0.9311 - loss: 0.1765 - precision_9: 0.9321 - recall_9: 0.9294 - val_accuracy: 0.9319 - val_loss: 0.1761 - val_precision_9: 0.9040 - val_recall_9: 0.9664\n",
      "Epoch 29/30\n",
      "\u001b[1m1250/1250\u001b[0m \u001b[32m━━━━━━━━━━━━━━━━━━━━\u001b[0m\u001b[37m\u001b[0m \u001b[1m24s\u001b[0m 19ms/step - accuracy: 0.9301 - loss: 0.1794 - precision_9: 0.9319 - recall_9: 0.9285 - val_accuracy: 0.9389 - val_loss: 0.1609 - val_precision_9: 0.9351 - val_recall_9: 0.9433\n",
      "Epoch 30/30\n",
      "\u001b[1m1250/1250\u001b[0m \u001b[32m━━━━━━━━━━━━━━━━━━━━\u001b[0m\u001b[37m\u001b[0m \u001b[1m24s\u001b[0m 19ms/step - accuracy: 0.9353 - loss: 0.1697 - precision_9: 0.9349 - recall_9: 0.9354 - val_accuracy: 0.9365 - val_loss: 0.1659 - val_precision_9: 0.9478 - val_recall_9: 0.9239\n",
      "\u001b[1m313/313\u001b[0m \u001b[32m━━━━━━━━━━━━━━━━━━━━\u001b[0m\u001b[37m\u001b[0m \u001b[1m1s\u001b[0m 4ms/step\n",
      "Epoch 1/30\n",
      "\u001b[1m1250/1250\u001b[0m \u001b[32m━━━━━━━━━━━━━━━━━━━━\u001b[0m\u001b[37m\u001b[0m \u001b[1m27s\u001b[0m 20ms/step - accuracy: 0.7561 - loss: 0.4973 - precision_10: 0.7486 - recall_10: 0.7685 - val_accuracy: 0.8824 - val_loss: 0.2832 - val_precision_10: 0.8860 - val_recall_10: 0.8778\n",
      "Epoch 2/30\n",
      "\u001b[1m1250/1250\u001b[0m \u001b[32m━━━━━━━━━━━━━━━━━━━━\u001b[0m\u001b[37m\u001b[0m \u001b[1m24s\u001b[0m 19ms/step - accuracy: 0.8767 - loss: 0.3013 - precision_10: 0.8749 - recall_10: 0.8783 - val_accuracy: 0.9008 - val_loss: 0.2447 - val_precision_10: 0.8653 - val_recall_10: 0.9493\n",
      "Epoch 3/30\n",
      "\u001b[1m1250/1250\u001b[0m \u001b[32m━━━━━━━━━━━━━━━━━━━━\u001b[0m\u001b[37m\u001b[0m \u001b[1m24s\u001b[0m 19ms/step - accuracy: 0.8924 - loss: 0.2663 - precision_10: 0.8926 - recall_10: 0.8926 - val_accuracy: 0.8976 - val_loss: 0.2464 - val_precision_10: 0.8612 - val_recall_10: 0.9481\n",
      "Epoch 4/30\n",
      "\u001b[1m1250/1250\u001b[0m \u001b[32m━━━━━━━━━━━━━━━━━━━━\u001b[0m\u001b[37m\u001b[0m \u001b[1m24s\u001b[0m 19ms/step - accuracy: 0.8975 - loss: 0.2554 - precision_10: 0.8978 - recall_10: 0.8968 - val_accuracy: 0.9112 - val_loss: 0.2228 - val_precision_10: 0.9423 - val_recall_10: 0.8759\n",
      "Epoch 5/30\n",
      "\u001b[1m1250/1250\u001b[0m \u001b[32m━━━━━━━━━━━━━━━━━━━━\u001b[0m\u001b[37m\u001b[0m \u001b[1m24s\u001b[0m 19ms/step - accuracy: 0.9035 - loss: 0.2435 - precision_10: 0.9037 - recall_10: 0.9043 - val_accuracy: 0.9204 - val_loss: 0.2064 - val_precision_10: 0.9168 - val_recall_10: 0.9247\n",
      "Epoch 6/30\n",
      "\u001b[1m1250/1250\u001b[0m \u001b[32m━━━━━━━━━━━━━━━━━━━━\u001b[0m\u001b[37m\u001b[0m \u001b[1m24s\u001b[0m 19ms/step - accuracy: 0.9052 - loss: 0.2361 - precision_10: 0.9058 - recall_10: 0.9049 - val_accuracy: 0.9125 - val_loss: 0.2190 - val_precision_10: 0.8846 - val_recall_10: 0.9487\n",
      "Epoch 7/30\n",
      "\u001b[1m1250/1250\u001b[0m \u001b[32m━━━━━━━━━━━━━━━━━━━━\u001b[0m\u001b[37m\u001b[0m \u001b[1m22s\u001b[0m 18ms/step - accuracy: 0.9099 - loss: 0.2277 - precision_10: 0.9089 - recall_10: 0.9108 - val_accuracy: 0.9014 - val_loss: 0.2437 - val_precision_10: 0.8732 - val_recall_10: 0.9390\n",
      "Epoch 8/30\n",
      "\u001b[1m1250/1250\u001b[0m \u001b[32m━━━━━━━━━━━━━━━━━━━━\u001b[0m\u001b[37m\u001b[0m \u001b[1m22s\u001b[0m 17ms/step - accuracy: 0.9117 - loss: 0.2236 - precision_10: 0.9108 - recall_10: 0.9130 - val_accuracy: 0.9239 - val_loss: 0.1948 - val_precision_10: 0.8982 - val_recall_10: 0.9561\n",
      "Epoch 9/30\n",
      "\u001b[1m1250/1250\u001b[0m \u001b[32m━━━━━━━━━━━━━━━━━━━━\u001b[0m\u001b[37m\u001b[0m \u001b[1m21s\u001b[0m 17ms/step - accuracy: 0.9126 - loss: 0.2202 - precision_10: 0.9108 - recall_10: 0.9142 - val_accuracy: 0.9240 - val_loss: 0.1943 - val_precision_10: 0.9464 - val_recall_10: 0.8989\n",
      "Epoch 10/30\n",
      "\u001b[1m1250/1250\u001b[0m \u001b[32m━━━━━━━━━━━━━━━━━━━━\u001b[0m\u001b[37m\u001b[0m \u001b[1m21s\u001b[0m 17ms/step - accuracy: 0.9164 - loss: 0.2118 - precision_10: 0.9156 - recall_10: 0.9167 - val_accuracy: 0.9277 - val_loss: 0.1882 - val_precision_10: 0.9155 - val_recall_10: 0.9424\n",
      "Epoch 11/30\n",
      "\u001b[1m1250/1250\u001b[0m \u001b[32m━━━━━━━━━━━━━━━━━━━━\u001b[0m\u001b[37m\u001b[0m \u001b[1m21s\u001b[0m 17ms/step - accuracy: 0.9200 - loss: 0.2065 - precision_10: 0.9197 - recall_10: 0.9195 - val_accuracy: 0.9199 - val_loss: 0.2021 - val_precision_10: 0.9612 - val_recall_10: 0.8751\n",
      "Epoch 12/30\n",
      "\u001b[1m1250/1250\u001b[0m \u001b[32m━━━━━━━━━━━━━━━━━━━━\u001b[0m\u001b[37m\u001b[0m \u001b[1m21s\u001b[0m 17ms/step - accuracy: 0.9194 - loss: 0.2076 - precision_10: 0.9187 - recall_10: 0.9197 - val_accuracy: 0.9130 - val_loss: 0.2181 - val_precision_10: 0.9588 - val_recall_10: 0.8631\n",
      "Epoch 13/30\n",
      "\u001b[1m1250/1250\u001b[0m \u001b[32m━━━━━━━━━━━━━━━━━━━━\u001b[0m\u001b[37m\u001b[0m \u001b[1m22s\u001b[0m 17ms/step - accuracy: 0.9229 - loss: 0.1980 - precision_10: 0.9230 - recall_10: 0.9225 - val_accuracy: 0.9134 - val_loss: 0.2184 - val_precision_10: 0.8878 - val_recall_10: 0.9464\n",
      "Epoch 14/30\n",
      "\u001b[1m1250/1250\u001b[0m \u001b[32m━━━━━━━━━━━━━━━━━━━━\u001b[0m\u001b[37m\u001b[0m \u001b[1m22s\u001b[0m 17ms/step - accuracy: 0.9221 - loss: 0.1994 - precision_10: 0.9224 - recall_10: 0.9225 - val_accuracy: 0.9296 - val_loss: 0.1795 - val_precision_10: 0.9387 - val_recall_10: 0.9193\n",
      "Epoch 15/30\n",
      "\u001b[1m1250/1250\u001b[0m \u001b[32m━━━━━━━━━━━━━━━━━━━━\u001b[0m\u001b[37m\u001b[0m \u001b[1m22s\u001b[0m 17ms/step - accuracy: 0.9226 - loss: 0.1990 - precision_10: 0.9231 - recall_10: 0.9214 - val_accuracy: 0.9086 - val_loss: 0.2270 - val_precision_10: 0.8608 - val_recall_10: 0.9747\n",
      "Epoch 16/30\n",
      "\u001b[1m1250/1250\u001b[0m \u001b[32m━━━━━━━━━━━━━━━━━━━━\u001b[0m\u001b[37m\u001b[0m \u001b[1m22s\u001b[0m 17ms/step - accuracy: 0.9234 - loss: 0.1984 - precision_10: 0.9244 - recall_10: 0.9222 - val_accuracy: 0.9307 - val_loss: 0.1794 - val_precision_10: 0.9303 - val_recall_10: 0.9312\n",
      "Epoch 17/30\n",
      "\u001b[1m1250/1250\u001b[0m \u001b[32m━━━━━━━━━━━━━━━━━━━━\u001b[0m\u001b[37m\u001b[0m \u001b[1m21s\u001b[0m 17ms/step - accuracy: 0.9227 - loss: 0.1951 - precision_10: 0.9207 - recall_10: 0.9252 - val_accuracy: 0.9362 - val_loss: 0.1669 - val_precision_10: 0.9369 - val_recall_10: 0.9354\n",
      "Epoch 18/30\n",
      "\u001b[1m1250/1250\u001b[0m \u001b[32m━━━━━━━━━━━━━━━━━━━━\u001b[0m\u001b[37m\u001b[0m \u001b[1m21s\u001b[0m 17ms/step - accuracy: 0.9262 - loss: 0.1891 - precision_10: 0.9258 - recall_10: 0.9269 - val_accuracy: 0.9306 - val_loss: 0.1783 - val_precision_10: 0.9549 - val_recall_10: 0.9040\n",
      "Epoch 19/30\n",
      "\u001b[1m1250/1250\u001b[0m \u001b[32m━━━━━━━━━━━━━━━━━━━━\u001b[0m\u001b[37m\u001b[0m \u001b[1m22s\u001b[0m 17ms/step - accuracy: 0.9259 - loss: 0.1889 - precision_10: 0.9278 - recall_10: 0.9239 - val_accuracy: 0.9240 - val_loss: 0.1933 - val_precision_10: 0.9152 - val_recall_10: 0.9346\n",
      "Epoch 20/30\n",
      "\u001b[1m1250/1250\u001b[0m \u001b[32m━━━━━━━━━━━━━━━━━━━━\u001b[0m\u001b[37m\u001b[0m \u001b[1m22s\u001b[0m 17ms/step - accuracy: 0.9294 - loss: 0.1847 - precision_10: 0.9321 - recall_10: 0.9270 - val_accuracy: 0.9334 - val_loss: 0.1710 - val_precision_10: 0.9439 - val_recall_10: 0.9216\n",
      "Epoch 21/30\n",
      "\u001b[1m1250/1250\u001b[0m \u001b[32m━━━━━━━━━━━━━━━━━━━━\u001b[0m\u001b[37m\u001b[0m \u001b[1m22s\u001b[0m 17ms/step - accuracy: 0.9289 - loss: 0.1821 - precision_10: 0.9293 - recall_10: 0.9288 - val_accuracy: 0.9305 - val_loss: 0.1804 - val_precision_10: 0.9625 - val_recall_10: 0.8959\n",
      "Epoch 22/30\n",
      "\u001b[1m1250/1250\u001b[0m \u001b[32m━━━━━━━━━━━━━━━━━━━━\u001b[0m\u001b[37m\u001b[0m \u001b[1m22s\u001b[0m 17ms/step - accuracy: 0.9305 - loss: 0.1797 - precision_10: 0.9323 - recall_10: 0.9283 - val_accuracy: 0.9418 - val_loss: 0.1542 - val_precision_10: 0.9319 - val_recall_10: 0.9532\n",
      "Epoch 23/30\n",
      "\u001b[1m1250/1250\u001b[0m \u001b[32m━━━━━━━━━━━━━━━━━━━━\u001b[0m\u001b[37m\u001b[0m \u001b[1m22s\u001b[0m 18ms/step - accuracy: 0.9330 - loss: 0.1767 - precision_10: 0.9337 - recall_10: 0.9323 - val_accuracy: 0.9359 - val_loss: 0.1640 - val_precision_10: 0.9613 - val_recall_10: 0.9084\n",
      "Epoch 24/30\n",
      "\u001b[1m1250/1250\u001b[0m \u001b[32m━━━━━━━━━━━━━━━━━━━━\u001b[0m\u001b[37m\u001b[0m \u001b[1m22s\u001b[0m 18ms/step - accuracy: 0.9287 - loss: 0.1820 - precision_10: 0.9306 - recall_10: 0.9258 - val_accuracy: 0.9317 - val_loss: 0.1741 - val_precision_10: 0.9601 - val_recall_10: 0.9008\n",
      "Epoch 25/30\n",
      "\u001b[1m1250/1250\u001b[0m \u001b[32m━━━━━━━━━━━━━━━━━━━━\u001b[0m\u001b[37m\u001b[0m \u001b[1m22s\u001b[0m 18ms/step - accuracy: 0.9332 - loss: 0.1760 - precision_10: 0.9335 - recall_10: 0.9331 - val_accuracy: 0.9424 - val_loss: 0.1529 - val_precision_10: 0.9380 - val_recall_10: 0.9475\n",
      "Epoch 26/30\n",
      "\u001b[1m1250/1250\u001b[0m \u001b[32m━━━━━━━━━━━━━━━━━━━━\u001b[0m\u001b[37m\u001b[0m \u001b[1m22s\u001b[0m 18ms/step - accuracy: 0.9323 - loss: 0.1760 - precision_10: 0.9336 - recall_10: 0.9314 - val_accuracy: 0.9371 - val_loss: 0.1637 - val_precision_10: 0.9327 - val_recall_10: 0.9422\n",
      "Epoch 27/30\n",
      "\u001b[1m1250/1250\u001b[0m \u001b[32m━━━━━━━━━━━━━━━━━━━━\u001b[0m\u001b[37m\u001b[0m \u001b[1m22s\u001b[0m 18ms/step - accuracy: 0.9330 - loss: 0.1759 - precision_10: 0.9315 - recall_10: 0.9346 - val_accuracy: 0.9431 - val_loss: 0.1488 - val_precision_10: 0.9424 - val_recall_10: 0.9440\n",
      "Epoch 28/30\n",
      "\u001b[1m1250/1250\u001b[0m \u001b[32m━━━━━━━━━━━━━━━━━━━━\u001b[0m\u001b[37m\u001b[0m \u001b[1m22s\u001b[0m 18ms/step - accuracy: 0.9334 - loss: 0.1726 - precision_10: 0.9322 - recall_10: 0.9342 - val_accuracy: 0.9412 - val_loss: 0.1550 - val_precision_10: 0.9599 - val_recall_10: 0.9208\n",
      "Epoch 29/30\n",
      "\u001b[1m1250/1250\u001b[0m \u001b[32m━━━━━━━━━━━━━━━━━━━━\u001b[0m\u001b[37m\u001b[0m \u001b[1m22s\u001b[0m 17ms/step - accuracy: 0.9304 - loss: 0.1779 - precision_10: 0.9310 - recall_10: 0.9296 - val_accuracy: 0.9346 - val_loss: 0.1707 - val_precision_10: 0.9603 - val_recall_10: 0.9068\n",
      "Epoch 30/30\n",
      "\u001b[1m1250/1250\u001b[0m \u001b[32m━━━━━━━━━━━━━━━━━━━━\u001b[0m\u001b[37m\u001b[0m \u001b[1m22s\u001b[0m 17ms/step - accuracy: 0.9367 - loss: 0.1659 - precision_10: 0.9378 - recall_10: 0.9354 - val_accuracy: 0.9314 - val_loss: 0.1750 - val_precision_10: 0.9677 - val_recall_10: 0.8925\n",
      "\u001b[1m313/313\u001b[0m \u001b[32m━━━━━━━━━━━━━━━━━━━━\u001b[0m\u001b[37m\u001b[0m \u001b[1m1s\u001b[0m 4ms/step\n",
      "Epoch 1/30\n",
      "\u001b[1m1563/1563\u001b[0m \u001b[32m━━━━━━━━━━━━━━━━━━━━\u001b[0m\u001b[37m\u001b[0m \u001b[1m29s\u001b[0m 17ms/step - accuracy: 0.7747 - loss: 0.4664 - precision_11: 0.7751 - recall_11: 0.7691 - val_accuracy: 0.8701 - val_loss: 0.3087 - val_precision_11: 0.9473 - val_recall_11: 0.7837\n",
      "Epoch 2/30\n",
      "\u001b[1m1563/1563\u001b[0m \u001b[32m━━━━━━━━━━━━━━━━━━━━\u001b[0m\u001b[37m\u001b[0m \u001b[1m25s\u001b[0m 16ms/step - accuracy: 0.8939 - loss: 0.2736 - precision_11: 0.8915 - recall_11: 0.8962 - val_accuracy: 0.9239 - val_loss: 0.1921 - val_precision_11: 0.9322 - val_recall_11: 0.9143\n",
      "Epoch 3/30\n",
      "\u001b[1m1563/1563\u001b[0m \u001b[32m━━━━━━━━━━━━━━━━━━━━\u001b[0m\u001b[37m\u001b[0m \u001b[1m25s\u001b[0m 16ms/step - accuracy: 0.9129 - loss: 0.2259 - precision_11: 0.9099 - recall_11: 0.9166 - val_accuracy: 0.9236 - val_loss: 0.1953 - val_precision_11: 0.8847 - val_recall_11: 0.9741\n",
      "Epoch 4/30\n",
      "\u001b[1m1563/1563\u001b[0m \u001b[32m━━━━━━━━━━━━━━━━━━━━\u001b[0m\u001b[37m\u001b[0m \u001b[1m25s\u001b[0m 16ms/step - accuracy: 0.9251 - loss: 0.1972 - precision_11: 0.9206 - recall_11: 0.9309 - val_accuracy: 0.9289 - val_loss: 0.1759 - val_precision_11: 0.9652 - val_recall_11: 0.8899\n",
      "Epoch 5/30\n",
      "\u001b[1m1563/1563\u001b[0m \u001b[32m━━━━━━━━━━━━━━━━━━━━\u001b[0m\u001b[37m\u001b[0m \u001b[1m25s\u001b[0m 16ms/step - accuracy: 0.9345 - loss: 0.1750 - precision_11: 0.9293 - recall_11: 0.9402 - val_accuracy: 0.9402 - val_loss: 0.1526 - val_precision_11: 0.9661 - val_recall_11: 0.9125\n",
      "Epoch 6/30\n",
      "\u001b[1m1563/1563\u001b[0m \u001b[32m━━━━━━━━━━━━━━━━━━━━\u001b[0m\u001b[37m\u001b[0m \u001b[1m25s\u001b[0m 16ms/step - accuracy: 0.9405 - loss: 0.1591 - precision_11: 0.9344 - recall_11: 0.9477 - val_accuracy: 0.9448 - val_loss: 0.1407 - val_precision_11: 0.9609 - val_recall_11: 0.9273\n",
      "Epoch 7/30\n",
      "\u001b[1m1563/1563\u001b[0m \u001b[32m━━━━━━━━━━━━━━━━━━━━\u001b[0m\u001b[37m\u001b[0m \u001b[1m25s\u001b[0m 16ms/step - accuracy: 0.9426 - loss: 0.1526 - precision_11: 0.9349 - recall_11: 0.9510 - val_accuracy: 0.9498 - val_loss: 0.1238 - val_precision_11: 0.9211 - val_recall_11: 0.9838\n",
      "Epoch 8/30\n",
      "\u001b[1m1563/1563\u001b[0m \u001b[32m━━━━━━━━━━━━━━━━━━━━\u001b[0m\u001b[37m\u001b[0m \u001b[1m24s\u001b[0m 16ms/step - accuracy: 0.9470 - loss: 0.1389 - precision_11: 0.9385 - recall_11: 0.9559 - val_accuracy: 0.9563 - val_loss: 0.1111 - val_precision_11: 0.9703 - val_recall_11: 0.9414\n",
      "Epoch 9/30\n",
      "\u001b[1m1563/1563\u001b[0m \u001b[32m━━━━━━━━━━━━━━━━━━━━\u001b[0m\u001b[37m\u001b[0m \u001b[1m25s\u001b[0m 16ms/step - accuracy: 0.9509 - loss: 0.1256 - precision_11: 0.9416 - recall_11: 0.9611 - val_accuracy: 0.9671 - val_loss: 0.0866 - val_precision_11: 0.9581 - val_recall_11: 0.9771\n",
      "Epoch 10/30\n",
      "\u001b[1m1563/1563\u001b[0m \u001b[32m━━━━━━━━━━━━━━━━━━━━\u001b[0m\u001b[37m\u001b[0m \u001b[1m25s\u001b[0m 16ms/step - accuracy: 0.9572 - loss: 0.1137 - precision_11: 0.9491 - recall_11: 0.9664 - val_accuracy: 0.9646 - val_loss: 0.0935 - val_precision_11: 0.9766 - val_recall_11: 0.9519\n",
      "Epoch 11/30\n",
      "\u001b[1m1563/1563\u001b[0m \u001b[32m━━━━━━━━━━━━━━━━━━━━\u001b[0m\u001b[37m\u001b[0m \u001b[1m25s\u001b[0m 16ms/step - accuracy: 0.9585 - loss: 0.1060 - precision_11: 0.9507 - recall_11: 0.9673 - val_accuracy: 0.9642 - val_loss: 0.0912 - val_precision_11: 0.9410 - val_recall_11: 0.9906\n",
      "Epoch 12/30\n",
      "\u001b[1m1563/1563\u001b[0m \u001b[32m━━━━━━━━━━━━━━━━━━━━\u001b[0m\u001b[37m\u001b[0m \u001b[1m25s\u001b[0m 16ms/step - accuracy: 0.9625 - loss: 0.0964 - precision_11: 0.9537 - recall_11: 0.9723 - val_accuracy: 0.9623 - val_loss: 0.0929 - val_precision_11: 0.9377 - val_recall_11: 0.9904\n",
      "Epoch 13/30\n",
      "\u001b[1m1563/1563\u001b[0m \u001b[32m━━━━━━━━━━━━━━━━━━━━\u001b[0m\u001b[37m\u001b[0m \u001b[1m25s\u001b[0m 16ms/step - accuracy: 0.9652 - loss: 0.0914 - precision_11: 0.9572 - recall_11: 0.9739 - val_accuracy: 0.9644 - val_loss: 0.0900 - val_precision_11: 0.9378 - val_recall_11: 0.9948\n",
      "Epoch 14/30\n",
      "\u001b[1m1563/1563\u001b[0m \u001b[32m━━━━━━━━━━━━━━━━━━━━\u001b[0m\u001b[37m\u001b[0m \u001b[1m25s\u001b[0m 16ms/step - accuracy: 0.9667 - loss: 0.0854 - precision_11: 0.9580 - recall_11: 0.9759 - val_accuracy: 0.9775 - val_loss: 0.0613 - val_precision_11: 0.9749 - val_recall_11: 0.9801\n",
      "Epoch 15/30\n",
      "\u001b[1m1563/1563\u001b[0m \u001b[32m━━━━━━━━━━━━━━━━━━━━\u001b[0m\u001b[37m\u001b[0m \u001b[1m25s\u001b[0m 16ms/step - accuracy: 0.9692 - loss: 0.0802 - precision_11: 0.9610 - recall_11: 0.9781 - val_accuracy: 0.9791 - val_loss: 0.0570 - val_precision_11: 0.9650 - val_recall_11: 0.9941\n",
      "Epoch 16/30\n",
      "\u001b[1m1563/1563\u001b[0m \u001b[32m━━━━━━━━━━━━━━━━━━━━\u001b[0m\u001b[37m\u001b[0m \u001b[1m24s\u001b[0m 16ms/step - accuracy: 0.9719 - loss: 0.0742 - precision_11: 0.9638 - recall_11: 0.9806 - val_accuracy: 0.9819 - val_loss: 0.0509 - val_precision_11: 0.9755 - val_recall_11: 0.9886\n",
      "Epoch 17/30\n",
      "\u001b[1m1563/1563\u001b[0m \u001b[32m━━━━━━━━━━━━━━━━━━━━\u001b[0m\u001b[37m\u001b[0m \u001b[1m25s\u001b[0m 16ms/step - accuracy: 0.9713 - loss: 0.0744 - precision_11: 0.9635 - recall_11: 0.9798 - val_accuracy: 0.9783 - val_loss: 0.0583 - val_precision_11: 0.9757 - val_recall_11: 0.9810\n",
      "Epoch 18/30\n",
      "\u001b[1m1563/1563\u001b[0m \u001b[32m━━━━━━━━━━━━━━━━━━━━\u001b[0m\u001b[37m\u001b[0m \u001b[1m25s\u001b[0m 16ms/step - accuracy: 0.9750 - loss: 0.0665 - precision_11: 0.9683 - recall_11: 0.9823 - val_accuracy: 0.9812 - val_loss: 0.0500 - val_precision_11: 0.9687 - val_recall_11: 0.9944\n",
      "Epoch 19/30\n",
      "\u001b[1m1563/1563\u001b[0m \u001b[32m━━━━━━━━━━━━━━━━━━━━\u001b[0m\u001b[37m\u001b[0m \u001b[1m25s\u001b[0m 16ms/step - accuracy: 0.9765 - loss: 0.0626 - precision_11: 0.9694 - recall_11: 0.9841 - val_accuracy: 0.9838 - val_loss: 0.0468 - val_precision_11: 0.9857 - val_recall_11: 0.9818\n",
      "Epoch 20/30\n",
      "\u001b[1m1563/1563\u001b[0m \u001b[32m━━━━━━━━━━━━━━━━━━━━\u001b[0m\u001b[37m\u001b[0m \u001b[1m25s\u001b[0m 16ms/step - accuracy: 0.9773 - loss: 0.0608 - precision_11: 0.9708 - recall_11: 0.9841 - val_accuracy: 0.9863 - val_loss: 0.0398 - val_precision_11: 0.9880 - val_recall_11: 0.9846\n",
      "Epoch 21/30\n",
      "\u001b[1m1563/1563\u001b[0m \u001b[32m━━━━━━━━━━━━━━━━━━━━\u001b[0m\u001b[37m\u001b[0m \u001b[1m25s\u001b[0m 16ms/step - accuracy: 0.9785 - loss: 0.0577 - precision_11: 0.9721 - recall_11: 0.9853 - val_accuracy: 0.9858 - val_loss: 0.0441 - val_precision_11: 0.9878 - val_recall_11: 0.9838\n",
      "Epoch 22/30\n",
      "\u001b[1m1563/1563\u001b[0m \u001b[32m━━━━━━━━━━━━━━━━━━━━\u001b[0m\u001b[37m\u001b[0m \u001b[1m29s\u001b[0m 19ms/step - accuracy: 0.9788 - loss: 0.0565 - precision_11: 0.9722 - recall_11: 0.9857 - val_accuracy: 0.9893 - val_loss: 0.0313 - val_precision_11: 0.9846 - val_recall_11: 0.9941\n",
      "Epoch 23/30\n",
      "\u001b[1m1563/1563\u001b[0m \u001b[32m━━━━━━━━━━━━━━━━━━━━\u001b[0m\u001b[37m\u001b[0m \u001b[1m29s\u001b[0m 19ms/step - accuracy: 0.9810 - loss: 0.0507 - precision_11: 0.9759 - recall_11: 0.9866 - val_accuracy: 0.9900 - val_loss: 0.0308 - val_precision_11: 0.9889 - val_recall_11: 0.9911\n",
      "Epoch 24/30\n",
      "\u001b[1m1563/1563\u001b[0m \u001b[32m━━━━━━━━━━━━━━━━━━━━\u001b[0m\u001b[37m\u001b[0m \u001b[1m29s\u001b[0m 19ms/step - accuracy: 0.9815 - loss: 0.0504 - precision_11: 0.9760 - recall_11: 0.9874 - val_accuracy: 0.9883 - val_loss: 0.0352 - val_precision_11: 0.9819 - val_recall_11: 0.9949\n",
      "Epoch 25/30\n",
      "\u001b[1m1563/1563\u001b[0m \u001b[32m━━━━━━━━━━━━━━━━━━━━\u001b[0m\u001b[37m\u001b[0m \u001b[1m29s\u001b[0m 19ms/step - accuracy: 0.9818 - loss: 0.0479 - precision_11: 0.9758 - recall_11: 0.9881 - val_accuracy: 0.9892 - val_loss: 0.0306 - val_precision_11: 0.9881 - val_recall_11: 0.9903\n",
      "Epoch 26/30\n",
      "\u001b[1m1563/1563\u001b[0m \u001b[32m━━━━━━━━━━━━━━━━━━━━\u001b[0m\u001b[37m\u001b[0m \u001b[1m29s\u001b[0m 19ms/step - accuracy: 0.9822 - loss: 0.0463 - precision_11: 0.9774 - recall_11: 0.9872 - val_accuracy: 0.9884 - val_loss: 0.0328 - val_precision_11: 0.9902 - val_recall_11: 0.9865\n",
      "Epoch 27/30\n",
      "\u001b[1m1563/1563\u001b[0m \u001b[32m━━━━━━━━━━━━━━━━━━━━\u001b[0m\u001b[37m\u001b[0m \u001b[1m25s\u001b[0m 16ms/step - accuracy: 0.9831 - loss: 0.0451 - precision_11: 0.9772 - recall_11: 0.9892 - val_accuracy: 0.9844 - val_loss: 0.0463 - val_precision_11: 0.9942 - val_recall_11: 0.9745\n",
      "Epoch 28/30\n",
      "\u001b[1m1563/1563\u001b[0m \u001b[32m━━━━━━━━━━━━━━━━━━━━\u001b[0m\u001b[37m\u001b[0m \u001b[1m25s\u001b[0m 16ms/step - accuracy: 0.9842 - loss: 0.0436 - precision_11: 0.9790 - recall_11: 0.9894 - val_accuracy: 0.9914 - val_loss: 0.0262 - val_precision_11: 0.9885 - val_recall_11: 0.9944\n",
      "Epoch 29/30\n",
      "\u001b[1m1563/1563\u001b[0m \u001b[32m━━━━━━━━━━━━━━━━━━━━\u001b[0m\u001b[37m\u001b[0m \u001b[1m25s\u001b[0m 16ms/step - accuracy: 0.9829 - loss: 0.0465 - precision_11: 0.9769 - recall_11: 0.9892 - val_accuracy: 0.9893 - val_loss: 0.0319 - val_precision_11: 0.9923 - val_recall_11: 0.9862\n",
      "Epoch 30/30\n",
      "\u001b[1m1563/1563\u001b[0m \u001b[32m━━━━━━━━━━━━━━━━━━━━\u001b[0m\u001b[37m\u001b[0m \u001b[1m25s\u001b[0m 16ms/step - accuracy: 0.9852 - loss: 0.0411 - precision_11: 0.9806 - recall_11: 0.9902 - val_accuracy: 0.9859 - val_loss: 0.0419 - val_precision_11: 0.9917 - val_recall_11: 0.9800\n",
      "GridSearch complete. Time elapsed: 1:59:59.948744\n",
      "Best parameters: {'batch_size': 64, 'epochs': 30, 'model__activation': 'relu', 'model__dropout_rate': 0.2, 'model__n_neurons_layer01': 192, 'model__n_neurons_layer02': 192}\n",
      "Best result (R2): 0.9352600000000001\n"
     ]
    }
   ],
   "source": [
    "history, best_model = train_gridSearch(CNN_model01)"
   ]
  },
  {
   "cell_type": "markdown",
   "metadata": {},
   "source": [
    "#### Visualisation"
   ]
  },
  {
   "cell_type": "code",
   "execution_count": 11,
   "metadata": {},
   "outputs": [],
   "source": [
    "hist = pd.DataFrame(history)\n",
    "cols = hist.columns\n",
    "\n",
    "n = int(cols[-1].split('_')[-1])\n",
    "\n",
    "\n",
    "dict_ = { 'loss' : hist['loss'],\n",
    "         'accuracy' : hist[f'accuracy'],\n",
    "         'precision' : hist[f'precision_{n}'],\n",
    "         'recall' : hist[f'recall_{n}'],\n",
    "         'val_loss' : hist['val_loss'],\n",
    "         'val_accuracy' : hist[f'val_accuracy'],\n",
    "         'val_precision' : hist[f'val_precision_{n}'],\n",
    "         'val_recall' : hist[f'val_recall_{n}']\n",
    "\n",
    "}\n",
    "hist = pd.DataFrame(dict_)"
   ]
  },
  {
   "cell_type": "code",
   "execution_count": null,
   "metadata": {},
   "outputs": [
    {
     "name": "stdout",
     "output_type": "stream",
     "text": [
      "\u001b[1m1563/1563\u001b[0m \u001b[32m━━━━━━━━━━━━━━━━━━━━\u001b[0m\u001b[37m\u001b[0m \u001b[1m5s\u001b[0m 3ms/step\n"
     ]
    }
   ],
   "source": [
    "# ---------- Metrics over epoch ----------\n",
    "fig_metrics = make_subplots(rows=2, cols=2, subplot_titles=(\"Loss\", f\"Accuracy\", \"Recall\", \"Precision\"), vertical_spacing=0.07)\n",
    "\n",
    "fig_metrics.add_trace( go.Scatter(x=list(range(len(hist['loss']))), y=hist['loss'], mode='lines+markers', name='Training Loss'), row=1, col=1 )\n",
    "fig_metrics.add_trace( go.Scatter(x=list(range(len(hist['val_loss']))), y=hist['val_loss'], mode='lines+markers', name='Validation Loss'), row=1, col=1 )\n",
    "\n",
    "fig_metrics.add_trace(  go.Scatter(x=list(range(len(hist['precision']))), y=hist['precision'],  mode='lines+markers', name=f'Training precision'),  row=2, col=2 )\n",
    "fig_metrics.add_trace( go.Scatter(x=list(range(len(hist['val_precision']))), y=hist['val_precision'], mode='lines+markers', name=f'Validation precision'), row=2, col=2)\n",
    "\n",
    "fig_metrics.add_trace(  go.Scatter(x=list(range(len(hist['recall']))), y=hist['recall'],  mode='lines+markers', name=f'Training recall'),  row=2, col=1 )\n",
    "fig_metrics.add_trace( go.Scatter(x=list(range(len(hist['val_recall']))), y=hist['val_recall'], mode='lines+markers', name=f'Validation recall'), row=2, col=1)\n",
    "\n",
    "fig_metrics.add_trace(  go.Scatter(x=list(range(len(hist['accuracy']))), y=hist['accuracy'],  mode='lines+markers', name=f'Training accuracy'),  row=1, col=2 )\n",
    "fig_metrics.add_trace( go.Scatter(x=list(range(len(hist['val_accuracy']))), y=hist['val_accuracy'], mode='lines+markers', name=f'Validation accuracy'), row=1, col=2)\n",
    "\n",
    "fig_metrics.update_layout(\n",
    "    showlegend=True,\n",
    "    margin=dict(l=10, r=10, b=10, t=30),\n",
    "    width=1400, height=800\n",
    ")\n",
    "\n",
    "for annotation in fig_metrics['layout']['annotations']:\n",
    "    annotation['y'] = annotation['y'] + 0.002\n",
    "\n",
    "\n",
    "# ---------- Confusion matrix ----------\n",
    "y_pred = best_model.predict(X_test)\n",
    "y_pred\n",
    "conf_matrix = confusion_matrix(y_test, y_pred)\n",
    "conf_matrix\n",
    "\n",
    "cm = confusion_matrix(y_test, y_pred)\n",
    "class_labels = ['FAKE', 'REAL']\n",
    "\n",
    "fig_confMatrix = go.Figure(data=go.Heatmap(\n",
    "    z=cm,\n",
    "    x= class_labels ,   # Predicted labels\n",
    "    y= class_labels,    # True labels\n",
    "    hoverongaps=False,\n",
    "    colorscale='Blues',\n",
    "    showscale=True,\n",
    "    text=cm,\n",
    "    texttemplate=\"%{text}\",\n",
    "    textfont={\"size\":15}\n",
    "))\n",
    "\n",
    "fig_confMatrix.update_layout(\n",
    "    title='Confusion Matrix',\n",
    "    xaxis_title='Predicted Label',\n",
    "    yaxis_title='True Label',\n",
    "    width=600,\n",
    "    height=500,\n",
    ")\n",
    "\n",
    "# ---------- ROC AUC ----------\n",
    "from sklearn.metrics import roc_curve, auc\n",
    "fpr, tpr, _ = roc_curve(y_test, y_pred)\n",
    "roc_auc = auc(fpr, tpr)\n",
    "\n",
    "fig_rocauc = go.Figure()\n",
    "\n",
    "fig_rocauc.add_trace(go.Scatter(\n",
    "    x=fpr, y=tpr,\n",
    "    mode='lines',\n",
    "    line=dict(color='blue', width=2),\n",
    "    name=f'ROC curve (AUC = {roc_auc:0.2f})'\n",
    "))\n",
    "\n",
    "fig_rocauc.add_trace(go.Scatter(\n",
    "    x=[0, 1], y=[0, 1],\n",
    "    mode='lines',\n",
    "    line=dict(color='black', dash='dash'),\n",
    "    showlegend=False,\n",
    "    hoverinfo='skip'\n",
    "))\n",
    "\n",
    "fig_rocauc.update_layout(\n",
    "    title='ROC AUC for Binary Classification',\n",
    "    xaxis_title='False Positive Rate',\n",
    "    yaxis_title='True Positive Rate',\n",
    "    width=700,\n",
    "    height=600,\n",
    "    legend=dict(x=0.6, y=0.1),\n",
    "    margin=dict(l=40, r=40, t=40, b=40),)\n",
    "\n",
    "\n",
    "\n",
    "# ---------- Classification Report ----------\n",
    "from sklearn.metrics import classification_report\n",
    "\n",
    "report = classification_report(y_test, y_pred, target_names=class_labels, \n",
    "                               zero_division=False,\n",
    "                               labels = [0, 1])"
   ]
  },
  {
   "cell_type": "code",
   "execution_count": null,
   "metadata": {},
   "outputs": [
    {
     "data": {
      "application/vnd.plotly.v1+json": {
       "config": {
        "plotlyServerURL": "https://plot.ly"
       },
       "data": [
        {
         "mode": "text",
         "showlegend": false,
         "text": [],
         "type": "scatter",
         "x": [
          0.5
         ],
         "xaxis": "x",
         "y": [
          0.5
         ],
         "yaxis": "y"
        },
        {
         "mode": "text",
         "showlegend": false,
         "text": [
          "Classification report<br>              precision    recall  f1-score   support<br><br>        FAKE       0.98      0.99      0.99     50000<br>        REAL       0.99      0.98      0.99     50000<br><br>    accuracy                           0.99    100000<br>   macro avg       0.99      0.99      0.99    100000<br>weighted avg       0.99      0.99      0.99    100000<br>"
         ],
         "type": "scatter",
         "x": [
          0.5
         ],
         "xaxis": "x2",
         "y": [
          0.5
         ],
         "yaxis": "y2"
        },
        {
         "mode": "lines+markers",
         "name": "Training Loss",
         "type": "scatter",
         "x": [
          0,
          1,
          2,
          3,
          4,
          5,
          6,
          7,
          8,
          9,
          10,
          11,
          12,
          13,
          14,
          15,
          16,
          17,
          18,
          19,
          20,
          21,
          22,
          23,
          24,
          25,
          26,
          27,
          28,
          29
         ],
         "xaxis": "x3",
         "y": [
          0.38033342361450195,
          0.25921276211738586,
          0.22024483978748322,
          0.19555070996284485,
          0.17661963403224945,
          0.16113613545894623,
          0.15042945742607117,
          0.14061810076236725,
          0.12697777152061462,
          0.11813127994537354,
          0.10928552597761154,
          0.10288342833518982,
          0.09483683854341507,
          0.08727536350488663,
          0.08222362399101257,
          0.07683026790618896,
          0.0741976648569107,
          0.0689685121178627,
          0.0644165500998497,
          0.06417283415794373,
          0.060641560703516006,
          0.05728859826922417,
          0.05453912541270256,
          0.05234174802899361,
          0.0498017817735672,
          0.04881588742136955,
          0.04572002589702606,
          0.04675998538732529,
          0.045812420547008514,
          0.04379446431994438
         ],
         "yaxis": "y3"
        },
        {
         "mode": "lines+markers",
         "name": "Validation Loss",
         "type": "scatter",
         "x": [
          0,
          1,
          2,
          3,
          4,
          5,
          6,
          7,
          8,
          9,
          10,
          11,
          12,
          13,
          14,
          15,
          16,
          17,
          18,
          19,
          20,
          21,
          22,
          23,
          24,
          25,
          26,
          27,
          28,
          29
         ],
         "xaxis": "x3",
         "y": [
          0.3087282180786133,
          0.19212768971920013,
          0.195286363363266,
          0.17594900727272034,
          0.15255063772201538,
          0.14070166647434235,
          0.12379670888185501,
          0.11113050580024719,
          0.08662804961204529,
          0.0935046598315239,
          0.09121713787317276,
          0.0929221585392952,
          0.08997543901205063,
          0.061315473169088364,
          0.056955333799123764,
          0.05094010382890701,
          0.05827067047357559,
          0.04998274892568588,
          0.046837981790304184,
          0.03976130858063698,
          0.044141001999378204,
          0.03131616488099098,
          0.03076648898422718,
          0.03524801507592201,
          0.030557256191968918,
          0.032753441482782364,
          0.04631274938583374,
          0.02623175084590912,
          0.0319208949804306,
          0.04189172759652138
         ],
         "yaxis": "y3"
        },
        {
         "mode": "lines+markers",
         "name": "Training precision",
         "type": "scatter",
         "x": [
          0,
          1,
          2,
          3,
          4,
          5,
          6,
          7,
          8,
          9,
          10,
          11,
          12,
          13,
          14,
          15,
          16,
          17,
          18,
          19,
          20,
          21,
          22,
          23,
          24,
          25,
          26,
          27,
          28,
          29
         ],
         "xaxis": "x4",
         "y": [
          0.8305917978286743,
          0.8982767462730408,
          0.9119216203689575,
          0.9204094409942627,
          0.9273615479469299,
          0.9314010739326477,
          0.9343490600585938,
          0.9381244778633118,
          0.9415292739868164,
          0.9465735554695129,
          0.9491698145866394,
          0.9510430693626404,
          0.9556022882461548,
          0.9582457542419434,
          0.9602428078651428,
          0.9626390337944031,
          0.9640060067176819,
          0.9671230316162109,
          0.9690499901771545,
          0.9694966673851013,
          0.9707157611846924,
          0.972327470779419,
          0.9738256335258484,
          0.9741336703300476,
          0.9753105640411377,
          0.9762361645698547,
          0.977096676826477,
          0.9771293997764587,
          0.9771788716316223,
          0.9791192412376404
         ],
         "yaxis": "y4"
        },
        {
         "mode": "lines+markers",
         "name": "Validation precision",
         "type": "scatter",
         "x": [
          0,
          1,
          2,
          3,
          4,
          5,
          6,
          7,
          8,
          9,
          10,
          11,
          12,
          13,
          14,
          15,
          16,
          17,
          18,
          19,
          20,
          21,
          22,
          23,
          24,
          25,
          26,
          27,
          28,
          29
         ],
         "xaxis": "x4",
         "y": [
          0.9472768306732178,
          0.932176411151886,
          0.8846747875213623,
          0.9652456641197205,
          0.966059684753418,
          0.9608911871910095,
          0.9211236238479614,
          0.9702553749084473,
          0.9580522179603577,
          0.9766082167625427,
          0.9409719705581665,
          0.9377011656761169,
          0.9377627968788147,
          0.9749338626861572,
          0.965034544467926,
          0.9754509329795837,
          0.9757125973701477,
          0.9687488079071045,
          0.9857228994369507,
          0.9880383610725403,
          0.9877703189849854,
          0.9846276044845581,
          0.9888851046562195,
          0.981860876083374,
          0.9880669713020325,
          0.9902434945106506,
          0.9941648244857788,
          0.988469660282135,
          0.9923324584960938,
          0.9917019009590149
         ],
         "yaxis": "y4"
        },
        {
         "mode": "lines+markers",
         "name": "Training recall",
         "type": "scatter",
         "x": [
          0,
          1,
          2,
          3,
          4,
          5,
          6,
          7,
          8,
          9,
          10,
          11,
          12,
          13,
          14,
          15,
          16,
          17,
          18,
          19,
          20,
          21,
          22,
          23,
          24,
          25,
          26,
          27,
          28,
          29
         ],
         "xaxis": "x5",
         "y": [
          0.8381999731063843,
          0.9017800092697144,
          0.9196000099182129,
          0.9316200017929077,
          0.9416800141334534,
          0.9479799866676331,
          0.9529799818992615,
          0.955780029296875,
          0.9606800079345703,
          0.9652400016784668,
          0.9672799706459045,
          0.9701399803161621,
          0.9724400043487549,
          0.9753599762916565,
          0.9776999950408936,
          0.9796199798583984,
          0.9797000288963318,
          0.9819200038909912,
          0.9831399917602539,
          0.9827399849891663,
          0.9851599931716919,
          0.9852399826049805,
          0.9859399795532227,
          0.9866999983787537,
          0.9875800013542175,
          0.9867600202560425,
          0.9889000058174133,
          0.9886400103569031,
          0.9891200065612793,
          0.9894000291824341
         ],
         "yaxis": "y5"
        },
        {
         "mode": "lines+markers",
         "name": "Validation recall",
         "type": "scatter",
         "x": [
          0,
          1,
          2,
          3,
          4,
          5,
          6,
          7,
          8,
          9,
          10,
          11,
          12,
          13,
          14,
          15,
          16,
          17,
          18,
          19,
          20,
          21,
          22,
          23,
          24,
          25,
          26,
          27,
          28,
          29
         ],
         "xaxis": "x5",
         "y": [
          0.7837200164794922,
          0.9142600297927856,
          0.9740800261497498,
          0.8898599743843079,
          0.9125400185585022,
          0.9272599816322327,
          0.9837599992752075,
          0.9413999915122986,
          0.9770600199699402,
          0.9519000053405762,
          0.9905800223350525,
          0.9904000163078308,
          0.9947599768638611,
          0.980139970779419,
          0.9941400289535522,
          0.9886000156402588,
          0.9810400009155273,
          0.9944400191307068,
          0.9817799925804138,
          0.9846000075340271,
          0.9837599992752075,
          0.9940800070762634,
          0.9911199808120728,
          0.9948999881744385,
          0.9902999997138977,
          0.9865400195121765,
          0.9745399951934814,
          0.9944400191307068,
          0.9861800074577332,
          0.9799799919128418
         ],
         "yaxis": "y5"
        },
        {
         "mode": "lines+markers",
         "name": "Training accuracy",
         "type": "scatter",
         "x": [
          0,
          1,
          2,
          3,
          4,
          5,
          6,
          7,
          8,
          9,
          10,
          11,
          12,
          13,
          14,
          15,
          16,
          17,
          18,
          19,
          20,
          21,
          22,
          23,
          24,
          25,
          26,
          27,
          28,
          29
         ],
         "xaxis": "x6",
         "y": [
          0.833620011806488,
          0.8998299837112427,
          0.9153900146484375,
          0.9255300164222717,
          0.9339600205421448,
          0.939079999923706,
          0.9430099725723267,
          0.946370005607605,
          0.9505100250244141,
          0.9553800225257874,
          0.9577400088310242,
          0.960099995136261,
          0.9636300206184387,
          0.9664300084114075,
          0.9686099886894226,
          0.97079998254776,
          0.971560001373291,
          0.9742699861526489,
          0.9758700132369995,
          0.9759100079536438,
          0.9777200222015381,
          0.978600025177002,
          0.9797199964523315,
          0.9802500009536743,
          0.9812899827957153,
          0.9813699722290039,
          0.9828600287437439,
          0.9827499985694885,
          0.9830099940299988,
          0.9841499924659729
         ],
         "yaxis": "y6"
        },
        {
         "mode": "lines+markers",
         "name": "Validation accuracy",
         "type": "scatter",
         "x": [
          0,
          1,
          2,
          3,
          4,
          5,
          6,
          7,
          8,
          9,
          10,
          11,
          12,
          13,
          14,
          15,
          16,
          17,
          18,
          19,
          20,
          21,
          22,
          23,
          24,
          25,
          26,
          27,
          28,
          29
         ],
         "xaxis": "x6",
         "y": [
          0.8700500130653381,
          0.9238700270652771,
          0.923550009727478,
          0.9289100170135498,
          0.9402400255203247,
          0.9447600245475769,
          0.9497600197792053,
          0.9562699794769287,
          0.9671400189399719,
          0.9645500183105469,
          0.9642199873924255,
          0.9623000025749207,
          0.9643700122833252,
          0.9774699807167053,
          0.9790599942207336,
          0.9818599820137024,
          0.9783099889755249,
          0.9811800122261047,
          0.983780026435852,
          0.9863399863243103,
          0.9857900142669678,
          0.9892799854278564,
          0.9899899959564209,
          0.9882599711418152,
          0.9891700148582458,
          0.9884099960327148,
          0.9844099879264832,
          0.9914199709892273,
          0.9892799854278564,
          0.9858899712562561
         ],
         "yaxis": "y6"
        },
        {
         "colorscale": [
          [
           0,
           "rgb(247,251,255)"
          ],
          [
           0.125,
           "rgb(222,235,247)"
          ],
          [
           0.25,
           "rgb(198,219,239)"
          ],
          [
           0.375,
           "rgb(158,202,225)"
          ],
          [
           0.5,
           "rgb(107,174,214)"
          ],
          [
           0.625,
           "rgb(66,146,198)"
          ],
          [
           0.75,
           "rgb(33,113,181)"
          ],
          [
           0.875,
           "rgb(8,81,156)"
          ],
          [
           1,
           "rgb(8,48,107)"
          ]
         ],
         "hoverongaps": false,
         "showscale": true,
         "text": [
          [
           49590,
           410
          ],
          [
           1001,
           48999
          ]
         ],
         "textfont": {
          "size": 15
         },
         "texttemplate": "%{text}",
         "type": "heatmap",
         "x": [
          "FAKE",
          "REAL"
         ],
         "xaxis": "x7",
         "y": [
          "FAKE",
          "REAL"
         ],
         "yaxis": "y7",
         "z": [
          [
           49590,
           410
          ],
          [
           1001,
           48999
          ]
         ]
        },
        {
         "line": {
          "color": "blue",
          "width": 2
         },
         "mode": "lines",
         "name": "ROC curve (AUC = 0.99)",
         "type": "scatter",
         "x": [
          0,
          0.0082,
          1
         ],
         "xaxis": "x8",
         "y": [
          0,
          0.97998,
          1
         ],
         "yaxis": "y8"
        },
        {
         "hoverinfo": "skip",
         "line": {
          "color": "black",
          "dash": "dash"
         },
         "mode": "lines",
         "showlegend": false,
         "type": "scatter",
         "x": [
          0,
          1
         ],
         "xaxis": "x8",
         "y": [
          0,
          1
         ],
         "yaxis": "y8"
        }
       ],
       "layout": {
        "annotations": [
         {
          "font": {
           "size": 16
          },
          "showarrow": false,
          "text": "Loss",
          "x": 0.2375,
          "xanchor": "center",
          "xref": "paper",
          "y": 0.7375,
          "yanchor": "bottom",
          "yref": "paper"
         },
         {
          "font": {
           "size": 16
          },
          "showarrow": false,
          "text": "Precision",
          "x": 0.7625,
          "xanchor": "center",
          "xref": "paper",
          "y": 0.7375,
          "yanchor": "bottom",
          "yref": "paper"
         },
         {
          "font": {
           "size": 16
          },
          "showarrow": false,
          "text": "Accuracy",
          "x": 0.2375,
          "xanchor": "center",
          "xref": "paper",
          "y": 0.475,
          "yanchor": "bottom",
          "yref": "paper"
         },
         {
          "font": {
           "size": 16
          },
          "showarrow": false,
          "text": "Recall",
          "x": 0.7625,
          "xanchor": "center",
          "xref": "paper",
          "y": 0.475,
          "yanchor": "bottom",
          "yref": "paper"
         },
         {
          "font": {
           "size": 16
          },
          "showarrow": false,
          "text": "Confusion Matrix",
          "x": 0.2375,
          "xanchor": "center",
          "xref": "paper",
          "y": 0.2125,
          "yanchor": "bottom",
          "yref": "paper"
         },
         {
          "font": {
           "size": 16
          },
          "showarrow": false,
          "text": "ROC-AUC curve",
          "x": 0.7625,
          "xanchor": "center",
          "xref": "paper",
          "y": 0.2125,
          "yanchor": "bottom",
          "yref": "paper"
         }
        ],
        "height": 1600,
        "margin": {
         "b": 10,
         "l": 10,
         "r": 10,
         "t": 50
        },
        "showlegend": false,
        "template": {
         "data": {
          "bar": [
           {
            "error_x": {
             "color": "#2a3f5f"
            },
            "error_y": {
             "color": "#2a3f5f"
            },
            "marker": {
             "line": {
              "color": "#E5ECF6",
              "width": 0.5
             },
             "pattern": {
              "fillmode": "overlay",
              "size": 10,
              "solidity": 0.2
             }
            },
            "type": "bar"
           }
          ],
          "barpolar": [
           {
            "marker": {
             "line": {
              "color": "#E5ECF6",
              "width": 0.5
             },
             "pattern": {
              "fillmode": "overlay",
              "size": 10,
              "solidity": 0.2
             }
            },
            "type": "barpolar"
           }
          ],
          "carpet": [
           {
            "aaxis": {
             "endlinecolor": "#2a3f5f",
             "gridcolor": "white",
             "linecolor": "white",
             "minorgridcolor": "white",
             "startlinecolor": "#2a3f5f"
            },
            "baxis": {
             "endlinecolor": "#2a3f5f",
             "gridcolor": "white",
             "linecolor": "white",
             "minorgridcolor": "white",
             "startlinecolor": "#2a3f5f"
            },
            "type": "carpet"
           }
          ],
          "choropleth": [
           {
            "colorbar": {
             "outlinewidth": 0,
             "ticks": ""
            },
            "type": "choropleth"
           }
          ],
          "contour": [
           {
            "colorbar": {
             "outlinewidth": 0,
             "ticks": ""
            },
            "colorscale": [
             [
              0,
              "#0d0887"
             ],
             [
              0.1111111111111111,
              "#46039f"
             ],
             [
              0.2222222222222222,
              "#7201a8"
             ],
             [
              0.3333333333333333,
              "#9c179e"
             ],
             [
              0.4444444444444444,
              "#bd3786"
             ],
             [
              0.5555555555555556,
              "#d8576b"
             ],
             [
              0.6666666666666666,
              "#ed7953"
             ],
             [
              0.7777777777777778,
              "#fb9f3a"
             ],
             [
              0.8888888888888888,
              "#fdca26"
             ],
             [
              1,
              "#f0f921"
             ]
            ],
            "type": "contour"
           }
          ],
          "contourcarpet": [
           {
            "colorbar": {
             "outlinewidth": 0,
             "ticks": ""
            },
            "type": "contourcarpet"
           }
          ],
          "heatmap": [
           {
            "colorbar": {
             "outlinewidth": 0,
             "ticks": ""
            },
            "colorscale": [
             [
              0,
              "#0d0887"
             ],
             [
              0.1111111111111111,
              "#46039f"
             ],
             [
              0.2222222222222222,
              "#7201a8"
             ],
             [
              0.3333333333333333,
              "#9c179e"
             ],
             [
              0.4444444444444444,
              "#bd3786"
             ],
             [
              0.5555555555555556,
              "#d8576b"
             ],
             [
              0.6666666666666666,
              "#ed7953"
             ],
             [
              0.7777777777777778,
              "#fb9f3a"
             ],
             [
              0.8888888888888888,
              "#fdca26"
             ],
             [
              1,
              "#f0f921"
             ]
            ],
            "type": "heatmap"
           }
          ],
          "heatmapgl": [
           {
            "colorbar": {
             "outlinewidth": 0,
             "ticks": ""
            },
            "colorscale": [
             [
              0,
              "#0d0887"
             ],
             [
              0.1111111111111111,
              "#46039f"
             ],
             [
              0.2222222222222222,
              "#7201a8"
             ],
             [
              0.3333333333333333,
              "#9c179e"
             ],
             [
              0.4444444444444444,
              "#bd3786"
             ],
             [
              0.5555555555555556,
              "#d8576b"
             ],
             [
              0.6666666666666666,
              "#ed7953"
             ],
             [
              0.7777777777777778,
              "#fb9f3a"
             ],
             [
              0.8888888888888888,
              "#fdca26"
             ],
             [
              1,
              "#f0f921"
             ]
            ],
            "type": "heatmapgl"
           }
          ],
          "histogram": [
           {
            "marker": {
             "pattern": {
              "fillmode": "overlay",
              "size": 10,
              "solidity": 0.2
             }
            },
            "type": "histogram"
           }
          ],
          "histogram2d": [
           {
            "colorbar": {
             "outlinewidth": 0,
             "ticks": ""
            },
            "colorscale": [
             [
              0,
              "#0d0887"
             ],
             [
              0.1111111111111111,
              "#46039f"
             ],
             [
              0.2222222222222222,
              "#7201a8"
             ],
             [
              0.3333333333333333,
              "#9c179e"
             ],
             [
              0.4444444444444444,
              "#bd3786"
             ],
             [
              0.5555555555555556,
              "#d8576b"
             ],
             [
              0.6666666666666666,
              "#ed7953"
             ],
             [
              0.7777777777777778,
              "#fb9f3a"
             ],
             [
              0.8888888888888888,
              "#fdca26"
             ],
             [
              1,
              "#f0f921"
             ]
            ],
            "type": "histogram2d"
           }
          ],
          "histogram2dcontour": [
           {
            "colorbar": {
             "outlinewidth": 0,
             "ticks": ""
            },
            "colorscale": [
             [
              0,
              "#0d0887"
             ],
             [
              0.1111111111111111,
              "#46039f"
             ],
             [
              0.2222222222222222,
              "#7201a8"
             ],
             [
              0.3333333333333333,
              "#9c179e"
             ],
             [
              0.4444444444444444,
              "#bd3786"
             ],
             [
              0.5555555555555556,
              "#d8576b"
             ],
             [
              0.6666666666666666,
              "#ed7953"
             ],
             [
              0.7777777777777778,
              "#fb9f3a"
             ],
             [
              0.8888888888888888,
              "#fdca26"
             ],
             [
              1,
              "#f0f921"
             ]
            ],
            "type": "histogram2dcontour"
           }
          ],
          "mesh3d": [
           {
            "colorbar": {
             "outlinewidth": 0,
             "ticks": ""
            },
            "type": "mesh3d"
           }
          ],
          "parcoords": [
           {
            "line": {
             "colorbar": {
              "outlinewidth": 0,
              "ticks": ""
             }
            },
            "type": "parcoords"
           }
          ],
          "pie": [
           {
            "automargin": true,
            "type": "pie"
           }
          ],
          "scatter": [
           {
            "fillpattern": {
             "fillmode": "overlay",
             "size": 10,
             "solidity": 0.2
            },
            "type": "scatter"
           }
          ],
          "scatter3d": [
           {
            "line": {
             "colorbar": {
              "outlinewidth": 0,
              "ticks": ""
             }
            },
            "marker": {
             "colorbar": {
              "outlinewidth": 0,
              "ticks": ""
             }
            },
            "type": "scatter3d"
           }
          ],
          "scattercarpet": [
           {
            "marker": {
             "colorbar": {
              "outlinewidth": 0,
              "ticks": ""
             }
            },
            "type": "scattercarpet"
           }
          ],
          "scattergeo": [
           {
            "marker": {
             "colorbar": {
              "outlinewidth": 0,
              "ticks": ""
             }
            },
            "type": "scattergeo"
           }
          ],
          "scattergl": [
           {
            "marker": {
             "colorbar": {
              "outlinewidth": 0,
              "ticks": ""
             }
            },
            "type": "scattergl"
           }
          ],
          "scattermapbox": [
           {
            "marker": {
             "colorbar": {
              "outlinewidth": 0,
              "ticks": ""
             }
            },
            "type": "scattermapbox"
           }
          ],
          "scatterpolar": [
           {
            "marker": {
             "colorbar": {
              "outlinewidth": 0,
              "ticks": ""
             }
            },
            "type": "scatterpolar"
           }
          ],
          "scatterpolargl": [
           {
            "marker": {
             "colorbar": {
              "outlinewidth": 0,
              "ticks": ""
             }
            },
            "type": "scatterpolargl"
           }
          ],
          "scatterternary": [
           {
            "marker": {
             "colorbar": {
              "outlinewidth": 0,
              "ticks": ""
             }
            },
            "type": "scatterternary"
           }
          ],
          "surface": [
           {
            "colorbar": {
             "outlinewidth": 0,
             "ticks": ""
            },
            "colorscale": [
             [
              0,
              "#0d0887"
             ],
             [
              0.1111111111111111,
              "#46039f"
             ],
             [
              0.2222222222222222,
              "#7201a8"
             ],
             [
              0.3333333333333333,
              "#9c179e"
             ],
             [
              0.4444444444444444,
              "#bd3786"
             ],
             [
              0.5555555555555556,
              "#d8576b"
             ],
             [
              0.6666666666666666,
              "#ed7953"
             ],
             [
              0.7777777777777778,
              "#fb9f3a"
             ],
             [
              0.8888888888888888,
              "#fdca26"
             ],
             [
              1,
              "#f0f921"
             ]
            ],
            "type": "surface"
           }
          ],
          "table": [
           {
            "cells": {
             "fill": {
              "color": "#EBF0F8"
             },
             "line": {
              "color": "white"
             }
            },
            "header": {
             "fill": {
              "color": "#C8D4E3"
             },
             "line": {
              "color": "white"
             }
            },
            "type": "table"
           }
          ]
         },
         "layout": {
          "annotationdefaults": {
           "arrowcolor": "#2a3f5f",
           "arrowhead": 0,
           "arrowwidth": 1
          },
          "autotypenumbers": "strict",
          "coloraxis": {
           "colorbar": {
            "outlinewidth": 0,
            "ticks": ""
           }
          },
          "colorscale": {
           "diverging": [
            [
             0,
             "#8e0152"
            ],
            [
             0.1,
             "#c51b7d"
            ],
            [
             0.2,
             "#de77ae"
            ],
            [
             0.3,
             "#f1b6da"
            ],
            [
             0.4,
             "#fde0ef"
            ],
            [
             0.5,
             "#f7f7f7"
            ],
            [
             0.6,
             "#e6f5d0"
            ],
            [
             0.7,
             "#b8e186"
            ],
            [
             0.8,
             "#7fbc41"
            ],
            [
             0.9,
             "#4d9221"
            ],
            [
             1,
             "#276419"
            ]
           ],
           "sequential": [
            [
             0,
             "#0d0887"
            ],
            [
             0.1111111111111111,
             "#46039f"
            ],
            [
             0.2222222222222222,
             "#7201a8"
            ],
            [
             0.3333333333333333,
             "#9c179e"
            ],
            [
             0.4444444444444444,
             "#bd3786"
            ],
            [
             0.5555555555555556,
             "#d8576b"
            ],
            [
             0.6666666666666666,
             "#ed7953"
            ],
            [
             0.7777777777777778,
             "#fb9f3a"
            ],
            [
             0.8888888888888888,
             "#fdca26"
            ],
            [
             1,
             "#f0f921"
            ]
           ],
           "sequentialminus": [
            [
             0,
             "#0d0887"
            ],
            [
             0.1111111111111111,
             "#46039f"
            ],
            [
             0.2222222222222222,
             "#7201a8"
            ],
            [
             0.3333333333333333,
             "#9c179e"
            ],
            [
             0.4444444444444444,
             "#bd3786"
            ],
            [
             0.5555555555555556,
             "#d8576b"
            ],
            [
             0.6666666666666666,
             "#ed7953"
            ],
            [
             0.7777777777777778,
             "#fb9f3a"
            ],
            [
             0.8888888888888888,
             "#fdca26"
            ],
            [
             1,
             "#f0f921"
            ]
           ]
          },
          "colorway": [
           "#636efa",
           "#EF553B",
           "#00cc96",
           "#ab63fa",
           "#FFA15A",
           "#19d3f3",
           "#FF6692",
           "#B6E880",
           "#FF97FF",
           "#FECB52"
          ],
          "font": {
           "color": "#2a3f5f"
          },
          "geo": {
           "bgcolor": "white",
           "lakecolor": "white",
           "landcolor": "#E5ECF6",
           "showlakes": true,
           "showland": true,
           "subunitcolor": "white"
          },
          "hoverlabel": {
           "align": "left"
          },
          "hovermode": "closest",
          "mapbox": {
           "style": "light"
          },
          "paper_bgcolor": "white",
          "plot_bgcolor": "#E5ECF6",
          "polar": {
           "angularaxis": {
            "gridcolor": "white",
            "linecolor": "white",
            "ticks": ""
           },
           "bgcolor": "#E5ECF6",
           "radialaxis": {
            "gridcolor": "white",
            "linecolor": "white",
            "ticks": ""
           }
          },
          "scene": {
           "xaxis": {
            "backgroundcolor": "#E5ECF6",
            "gridcolor": "white",
            "gridwidth": 2,
            "linecolor": "white",
            "showbackground": true,
            "ticks": "",
            "zerolinecolor": "white"
           },
           "yaxis": {
            "backgroundcolor": "#E5ECF6",
            "gridcolor": "white",
            "gridwidth": 2,
            "linecolor": "white",
            "showbackground": true,
            "ticks": "",
            "zerolinecolor": "white"
           },
           "zaxis": {
            "backgroundcolor": "#E5ECF6",
            "gridcolor": "white",
            "gridwidth": 2,
            "linecolor": "white",
            "showbackground": true,
            "ticks": "",
            "zerolinecolor": "white"
           }
          },
          "shapedefaults": {
           "line": {
            "color": "#2a3f5f"
           }
          },
          "ternary": {
           "aaxis": {
            "gridcolor": "white",
            "linecolor": "white",
            "ticks": ""
           },
           "baxis": {
            "gridcolor": "white",
            "linecolor": "white",
            "ticks": ""
           },
           "bgcolor": "#E5ECF6",
           "caxis": {
            "gridcolor": "white",
            "linecolor": "white",
            "ticks": ""
           }
          },
          "title": {
           "x": 0.05
          },
          "xaxis": {
           "automargin": true,
           "gridcolor": "white",
           "linecolor": "white",
           "ticks": "",
           "title": {
            "standoff": 15
           },
           "zerolinecolor": "white",
           "zerolinewidth": 2
          },
          "yaxis": {
           "automargin": true,
           "gridcolor": "white",
           "linecolor": "white",
           "ticks": "",
           "title": {
            "standoff": 15
           },
           "zerolinecolor": "white",
           "zerolinewidth": 2
          }
         }
        },
        "width": 1400,
        "xaxis": {
         "anchor": "y",
         "domain": [
          0,
          0.475
         ],
         "visible": false
        },
        "xaxis2": {
         "anchor": "y2",
         "domain": [
          0.525,
          1
         ],
         "visible": false
        },
        "xaxis3": {
         "anchor": "y3",
         "domain": [
          0,
          0.475
         ]
        },
        "xaxis4": {
         "anchor": "y4",
         "domain": [
          0.525,
          1
         ]
        },
        "xaxis5": {
         "anchor": "y5",
         "domain": [
          0,
          0.475
         ]
        },
        "xaxis6": {
         "anchor": "y6",
         "domain": [
          0.525,
          1
         ]
        },
        "xaxis7": {
         "anchor": "y7",
         "domain": [
          0,
          0.475
         ]
        },
        "xaxis8": {
         "anchor": "y8",
         "domain": [
          0.525,
          1
         ]
        },
        "yaxis": {
         "anchor": "x",
         "domain": [
          0.7875,
          1
         ],
         "visible": false
        },
        "yaxis2": {
         "anchor": "x2",
         "domain": [
          0.7875,
          1
         ],
         "visible": false
        },
        "yaxis3": {
         "anchor": "x3",
         "domain": [
          0.525,
          0.7375
         ]
        },
        "yaxis4": {
         "anchor": "x4",
         "domain": [
          0.525,
          0.7375
         ]
        },
        "yaxis5": {
         "anchor": "x5",
         "domain": [
          0.2625,
          0.475
         ]
        },
        "yaxis6": {
         "anchor": "x6",
         "domain": [
          0.2625,
          0.475
         ]
        },
        "yaxis7": {
         "anchor": "x7",
         "domain": [
          0,
          0.2125
         ]
        },
        "yaxis8": {
         "anchor": "x8",
         "domain": [
          0,
          0.2125
         ]
        }
       }
      }
     },
     "metadata": {},
     "output_type": "display_data"
    }
   ],
   "source": [
    "fig = make_subplots(\n",
    "    rows=4, cols=2, \n",
    "    subplot_titles=(\"\", \"\",\n",
    "                    \"Loss\", \"Precision\", \n",
    "                    \"Accuracy\", 'Recall',\n",
    "                    'Confusion Matrix', 'ROC-AUC curve'), \n",
    "    horizontal_spacing=0.05, \n",
    "    vertical_spacing=0.05  \n",
    ")\n",
    "\n",
    "fig.add_trace(\n",
    "    go.Scatter(\n",
    "        x=[0.5], y=[0.5], \n",
    "        text=[\n",
    "            # top_layers_text\n",
    "        ],\n",
    "        mode='text',\n",
    "        showlegend=False,\n",
    "    ),\n",
    "    row=1, col=1  \n",
    ")\n",
    "\n",
    "fig.add_trace(\n",
    "    go.Scatter(\n",
    "        x=[0.5], y=[0.5], \n",
    "        text=[\n",
    "            f\"Classification report<br>\"\n",
    "            f\"{report.replace('\\n','<br>')}\"\n",
    "        ],\n",
    "        mode='text',\n",
    "        showlegend=False,\n",
    "    ),\n",
    "    row=1, col=2  \n",
    ")\n",
    "\n",
    "fig.update_xaxes(visible=False, row=1, col=1)\n",
    "fig.update_yaxes(visible=False, row=1, col=1)\n",
    "fig.update_xaxes(visible=False, row=1, col=2)\n",
    "fig.update_yaxes(visible=False, row=1, col=2)\n",
    "\n",
    "# Loss and Precision\n",
    "fig.add_trace(fig_metrics['data'][0], row=2, col=1)\n",
    "fig.add_trace(fig_metrics['data'][1], row=2, col=1)\n",
    "fig.add_trace(fig_metrics['data'][2], row=2, col=2)\n",
    "fig.add_trace(fig_metrics['data'][3], row=2, col=2)\n",
    "\n",
    "# Accuracy and Recall \n",
    "fig.add_trace(fig_metrics['data'][4], row=3, col=1)\n",
    "fig.add_trace(fig_metrics['data'][5], row=3, col=1)\n",
    "fig.add_trace(fig_metrics['data'][6], row=3, col=2)\n",
    "fig.add_trace(fig_metrics['data'][7], row=3, col=2)\n",
    "\n",
    "# Confusion Matrix and ROC-AUC curve \n",
    "fig.add_trace(fig_confMatrix['data'][0], row=4, col=1)\n",
    "fig.add_trace(fig_rocauc['data'][0], row=4, col=2)\n",
    "fig.add_trace(fig_rocauc['data'][1], row=4, col=2)\n",
    "\n",
    "fig.update_layout(\n",
    "    height=400*4, \n",
    "    width=1400, \n",
    "    showlegend=False, \n",
    "    margin=dict(l=10, r=10, t=50, b=10),  \n",
    ")\n",
    "\n",
    "fig.show()"
   ]
  },
  {
   "cell_type": "markdown",
   "metadata": {},
   "source": [
    "#### Save model"
   ]
  },
  {
   "cell_type": "code",
   "execution_count": 14,
   "metadata": {},
   "outputs": [],
   "source": [
    "model_name = 'GridSearch_customModel'\n",
    "best_model.model().save(f'{model_name}.keras')"
   ]
  }
 ],
 "metadata": {
  "kernelspec": {
   "display_name": ".venv",
   "language": "python",
   "name": "python3"
  },
  "language_info": {
   "codemirror_mode": {
    "name": "ipython",
    "version": 3
   },
   "file_extension": ".py",
   "mimetype": "text/x-python",
   "name": "python",
   "nbconvert_exporter": "python",
   "pygments_lexer": "ipython3",
   "version": "3.12.7"
  }
 },
 "nbformat": 4,
 "nbformat_minor": 2
}
