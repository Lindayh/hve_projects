{
 "cells": [
  {
   "cell_type": "code",
   "execution_count": 1,
   "metadata": {},
   "outputs": [],
   "source": [
    "# ! pip install pandas numpy scikit-learn plotly matplotlib\n",
    "# ! pip install nbformat\n",
    "# ! pip install --upgrade nbformat\n",
    "# ! pip install tensorflow[and-cuda]"
   ]
  },
  {
   "cell_type": "code",
   "execution_count": 2,
   "metadata": {},
   "outputs": [],
   "source": [
    "# ! pip install pandas numpy scikit-learn plotly matplotlib\n",
    "# ! pip install nbformat\n",
    "# ! pip install --upgrade nbformat\n",
    "# ! pip install tensorflow[and-cuda]"
   ]
  },
  {
   "cell_type": "code",
   "execution_count": 3,
   "metadata": {},
   "outputs": [
    {
     "name": "stderr",
     "output_type": "stream",
     "text": [
      "2024-10-13 15:06:47.421629: E external/local_xla/xla/stream_executor/cuda/cuda_fft.cc:485] Unable to register cuFFT factory: Attempting to register factory for plugin cuFFT when one has already been registered\n",
      "2024-10-13 15:06:47.432801: E external/local_xla/xla/stream_executor/cuda/cuda_dnn.cc:8454] Unable to register cuDNN factory: Attempting to register factory for plugin cuDNN when one has already been registered\n",
      "2024-10-13 15:06:47.435939: E external/local_xla/xla/stream_executor/cuda/cuda_blas.cc:1452] Unable to register cuBLAS factory: Attempting to register factory for plugin cuBLAS when one has already been registered\n",
      "2024-10-13 15:06:47.445288: I tensorflow/core/platform/cpu_feature_guard.cc:210] This TensorFlow binary is optimized to use available CPU instructions in performance-critical operations.\n",
      "To enable the following instructions: AVX2 FMA, in other operations, rebuild TensorFlow with the appropriate compiler flags.\n",
      "2024-10-13 15:06:48.258430: W tensorflow/compiler/tf2tensorrt/utils/py_utils.cc:38] TF-TRT Warning: Could not find TensorRT\n"
     ]
    }
   ],
   "source": [
    "import pandas as pd\n",
    "import numpy as np\n",
    "import tensorflow as tf\n",
    "from datetime import datetime as dt\n",
    "import glob\n",
    "\n",
    "from sklearn import datasets\n",
    "from sklearn.model_selection import train_test_split\n",
    "from sklearn.preprocessing import StandardScaler\n",
    "from sklearn.metrics import confusion_matrix\n",
    "\n",
    "from tensorflow.keras.layers import Dense, Input, Dropout, Rescaling, Conv2D, MaxPooling2D, Flatten\n",
    "from tensorflow.keras.models import Sequential\n",
    "from tensorflow.keras.optimizers import SGD, Adam\n",
    "from tensorflow.keras.losses import BinaryCrossentropy\n",
    "from tensorflow.keras.metrics import Precision, Recall\n",
    "\n",
    "from sklearn.model_selection import GridSearchCV\n",
    "import matplotlib.pyplot as plt\n",
    "from plotly.subplots import make_subplots\n",
    "import plotly.graph_objects as go\n",
    "import plotly.express as px\n",
    "\n",
    "import warnings \n",
    "warnings.filterwarnings('ignore')"
   ]
  },
  {
   "cell_type": "code",
   "execution_count": 4,
   "metadata": {},
   "outputs": [
    {
     "name": "stdout",
     "output_type": "stream",
     "text": [
      "Num GPUs Available:  1\n"
     ]
    },
    {
     "name": "stderr",
     "output_type": "stream",
     "text": [
      "WARNING: All log messages before absl::InitializeLog() is called are written to STDERR\n",
      "I0000 00:00:1728824809.753980   89263 cuda_executor.cc:1015] successful NUMA node read from SysFS had negative value (-1), but there must be at least one NUMA node, so returning NUMA node zero. See more at https://github.com/torvalds/linux/blob/v6.0/Documentation/ABI/testing/sysfs-bus-pci#L344-L355\n",
      "I0000 00:00:1728824809.787707   89263 cuda_executor.cc:1015] successful NUMA node read from SysFS had negative value (-1), but there must be at least one NUMA node, so returning NUMA node zero. See more at https://github.com/torvalds/linux/blob/v6.0/Documentation/ABI/testing/sysfs-bus-pci#L344-L355\n",
      "I0000 00:00:1728824809.787938   89263 cuda_executor.cc:1015] successful NUMA node read from SysFS had negative value (-1), but there must be at least one NUMA node, so returning NUMA node zero. See more at https://github.com/torvalds/linux/blob/v6.0/Documentation/ABI/testing/sysfs-bus-pci#L344-L355\n"
     ]
    }
   ],
   "source": [
    "# Check if GPUs are available for training \n",
    "print(\"Num GPUs Available: \", len(tf.config.list_physical_devices('GPU')))"
   ]
  },
  {
   "cell_type": "code",
   "execution_count": 5,
   "metadata": {},
   "outputs": [],
   "source": [
    "BATCH_SIZE=32"
   ]
  },
  {
   "cell_type": "markdown",
   "metadata": {},
   "source": [
    "#### Train/test sets"
   ]
  },
  {
   "cell_type": "code",
   "execution_count": 6,
   "metadata": {},
   "outputs": [
    {
     "data": {
      "text/plain": [
       "\" # Train set : CIFAKE/train\\ntrain_set = tf.keras.utils.image_dataset_from_directory(\\n    'CIFAKE/train', \\n    seed=42,\\n    image_size=(32,32),\\n    batch_size=BATCH_SIZE\\n)\\n\\n# Test set : CIFAKE > test\\nvalidation_set = tf.keras.utils.image_dataset_from_directory(\\n    'CIFAKE/test', \\n    seed=42,\\n    image_size=(32,32),\\n    batch_size=BATCH_SIZE\\n) \""
      ]
     },
     "execution_count": 6,
     "metadata": {},
     "output_type": "execute_result"
    }
   ],
   "source": [
    "\"\"\" # Train set : CIFAKE/train\n",
    "train_set = tf.keras.utils.image_dataset_from_directory(\n",
    "    'CIFAKE/train', \n",
    "    seed=42,\n",
    "    image_size=(32,32),\n",
    "    batch_size=BATCH_SIZE\n",
    ")\n",
    "\n",
    "# Test set : CIFAKE > test\n",
    "validation_set = tf.keras.utils.image_dataset_from_directory(\n",
    "    'CIFAKE/test', \n",
    "    seed=42,\n",
    "    image_size=(32,32),\n",
    "    batch_size=BATCH_SIZE\n",
    ") \"\"\""
   ]
  },
  {
   "cell_type": "code",
   "execution_count": 7,
   "metadata": {},
   "outputs": [],
   "source": [
    "from PIL import Image\n",
    "\n",
    "def to_imgArrayCSV(df, set, class_):\n",
    "    path = f'CIFAKE/{set}/{class_}'\n",
    "    imgs = glob.glob(f'{path}/*')\n",
    "\n",
    "    for i, img_path in enumerate(imgs):\n",
    "        df.loc[len(df.index)] = [set, class_, img_path.split('/')[-1], img_path]\n",
    "        # df.loc[len(df.index)] = [set, class_, img_path.split('/')[-1], img_np, img_np.shape   ]\n",
    "\n",
    "def create_CSV():\n",
    "    df = pd.DataFrame(columns=['set', 'class', 'img_name', 'image_path'])\n",
    "    # df = pd.DataFrame(columns=['set', 'class', 'img_name', 'np_array', 'np_array.shape'])\n",
    "\n",
    "    to_imgArrayCSV(df, 'train', 'FAKE')\n",
    "    to_imgArrayCSV(df, 'train', 'REAL')\n",
    "    to_imgArrayCSV(df, 'test', 'FAKE')\n",
    "    to_imgArrayCSV(df, 'test', 'REAL')\n",
    "    df.to_csv('CIFAKE_imgpath.csv') # obs index"
   ]
  },
  {
   "cell_type": "code",
   "execution_count": 8,
   "metadata": {},
   "outputs": [
    {
     "data": {
      "text/html": [
       "<div>\n",
       "<style scoped>\n",
       "    .dataframe tbody tr th:only-of-type {\n",
       "        vertical-align: middle;\n",
       "    }\n",
       "\n",
       "    .dataframe tbody tr th {\n",
       "        vertical-align: top;\n",
       "    }\n",
       "\n",
       "    .dataframe thead th {\n",
       "        text-align: right;\n",
       "    }\n",
       "</style>\n",
       "<table border=\"1\" class=\"dataframe\">\n",
       "  <thead>\n",
       "    <tr style=\"text-align: right;\">\n",
       "      <th>class</th>\n",
       "      <th>FAKE</th>\n",
       "      <th>REAL</th>\n",
       "    </tr>\n",
       "    <tr>\n",
       "      <th>set</th>\n",
       "      <th></th>\n",
       "      <th></th>\n",
       "    </tr>\n",
       "  </thead>\n",
       "  <tbody>\n",
       "    <tr>\n",
       "      <th>test</th>\n",
       "      <td>10000</td>\n",
       "      <td>10000</td>\n",
       "    </tr>\n",
       "    <tr>\n",
       "      <th>train</th>\n",
       "      <td>50000</td>\n",
       "      <td>50000</td>\n",
       "    </tr>\n",
       "  </tbody>\n",
       "</table>\n",
       "</div>"
      ],
      "text/plain": [
       "class   FAKE   REAL\n",
       "set                \n",
       "test   10000  10000\n",
       "train  50000  50000"
      ]
     },
     "execution_count": 8,
     "metadata": {},
     "output_type": "execute_result"
    }
   ],
   "source": [
    "df = pd.read_csv('CIFAKE_imgpath.csv')\n",
    "df = df[['set', 'class', 'img_name', 'image_path']]\n",
    "pd.crosstab(df['set'], df['class'])"
   ]
  },
  {
   "cell_type": "code",
   "execution_count": 9,
   "metadata": {},
   "outputs": [
    {
     "data": {
      "text/html": [
       "<div>\n",
       "<style scoped>\n",
       "    .dataframe tbody tr th:only-of-type {\n",
       "        vertical-align: middle;\n",
       "    }\n",
       "\n",
       "    .dataframe tbody tr th {\n",
       "        vertical-align: top;\n",
       "    }\n",
       "\n",
       "    .dataframe thead th {\n",
       "        text-align: right;\n",
       "    }\n",
       "</style>\n",
       "<table border=\"1\" class=\"dataframe\">\n",
       "  <thead>\n",
       "    <tr style=\"text-align: right;\">\n",
       "      <th></th>\n",
       "      <th>set</th>\n",
       "      <th>class</th>\n",
       "      <th>img_name</th>\n",
       "      <th>image_path</th>\n",
       "    </tr>\n",
       "  </thead>\n",
       "  <tbody>\n",
       "    <tr>\n",
       "      <th>0</th>\n",
       "      <td>train</td>\n",
       "      <td>0</td>\n",
       "      <td>5996 (9).jpg</td>\n",
       "      <td>CIFAKE/train/FAKE/5996 (9).jpg</td>\n",
       "    </tr>\n",
       "    <tr>\n",
       "      <th>1</th>\n",
       "      <td>train</td>\n",
       "      <td>0</td>\n",
       "      <td>5996.jpg</td>\n",
       "      <td>CIFAKE/train/FAKE/5996.jpg</td>\n",
       "    </tr>\n",
       "    <tr>\n",
       "      <th>2</th>\n",
       "      <td>train</td>\n",
       "      <td>0</td>\n",
       "      <td>5997 (10).jpg</td>\n",
       "      <td>CIFAKE/train/FAKE/5997 (10).jpg</td>\n",
       "    </tr>\n",
       "    <tr>\n",
       "      <th>3</th>\n",
       "      <td>train</td>\n",
       "      <td>0</td>\n",
       "      <td>5997 (2).jpg</td>\n",
       "      <td>CIFAKE/train/FAKE/5997 (2).jpg</td>\n",
       "    </tr>\n",
       "    <tr>\n",
       "      <th>4</th>\n",
       "      <td>train</td>\n",
       "      <td>0</td>\n",
       "      <td>5997 (3).jpg</td>\n",
       "      <td>CIFAKE/train/FAKE/5997 (3).jpg</td>\n",
       "    </tr>\n",
       "    <tr>\n",
       "      <th>...</th>\n",
       "      <td>...</td>\n",
       "      <td>...</td>\n",
       "      <td>...</td>\n",
       "      <td>...</td>\n",
       "    </tr>\n",
       "    <tr>\n",
       "      <th>119995</th>\n",
       "      <td>test</td>\n",
       "      <td>1</td>\n",
       "      <td>0996 (7).jpg</td>\n",
       "      <td>CIFAKE/test/REAL/0996 (7).jpg</td>\n",
       "    </tr>\n",
       "    <tr>\n",
       "      <th>119996</th>\n",
       "      <td>test</td>\n",
       "      <td>1</td>\n",
       "      <td>0996 (8).jpg</td>\n",
       "      <td>CIFAKE/test/REAL/0996 (8).jpg</td>\n",
       "    </tr>\n",
       "    <tr>\n",
       "      <th>119997</th>\n",
       "      <td>test</td>\n",
       "      <td>1</td>\n",
       "      <td>0996 (9).jpg</td>\n",
       "      <td>CIFAKE/test/REAL/0996 (9).jpg</td>\n",
       "    </tr>\n",
       "    <tr>\n",
       "      <th>119998</th>\n",
       "      <td>test</td>\n",
       "      <td>1</td>\n",
       "      <td>0996.jpg</td>\n",
       "      <td>CIFAKE/test/REAL/0996.jpg</td>\n",
       "    </tr>\n",
       "    <tr>\n",
       "      <th>119999</th>\n",
       "      <td>test</td>\n",
       "      <td>1</td>\n",
       "      <td>0997 (10).jpg</td>\n",
       "      <td>CIFAKE/test/REAL/0997 (10).jpg</td>\n",
       "    </tr>\n",
       "  </tbody>\n",
       "</table>\n",
       "<p>120000 rows × 4 columns</p>\n",
       "</div>"
      ],
      "text/plain": [
       "          set  class       img_name                       image_path\n",
       "0       train      0   5996 (9).jpg   CIFAKE/train/FAKE/5996 (9).jpg\n",
       "1       train      0       5996.jpg       CIFAKE/train/FAKE/5996.jpg\n",
       "2       train      0  5997 (10).jpg  CIFAKE/train/FAKE/5997 (10).jpg\n",
       "3       train      0   5997 (2).jpg   CIFAKE/train/FAKE/5997 (2).jpg\n",
       "4       train      0   5997 (3).jpg   CIFAKE/train/FAKE/5997 (3).jpg\n",
       "...       ...    ...            ...                              ...\n",
       "119995   test      1   0996 (7).jpg    CIFAKE/test/REAL/0996 (7).jpg\n",
       "119996   test      1   0996 (8).jpg    CIFAKE/test/REAL/0996 (8).jpg\n",
       "119997   test      1   0996 (9).jpg    CIFAKE/test/REAL/0996 (9).jpg\n",
       "119998   test      1       0996.jpg        CIFAKE/test/REAL/0996.jpg\n",
       "119999   test      1  0997 (10).jpg   CIFAKE/test/REAL/0997 (10).jpg\n",
       "\n",
       "[120000 rows x 4 columns]"
      ]
     },
     "execution_count": 9,
     "metadata": {},
     "output_type": "execute_result"
    }
   ],
   "source": [
    "df['class'] = df['class'].map({'FAKE':0, 'REAL':1})\n",
    "df"
   ]
  },
  {
   "cell_type": "code",
   "execution_count": 10,
   "metadata": {},
   "outputs": [],
   "source": [
    "X_train = []\n",
    "y_train = []\n",
    "\n",
    "df_train = df[df.set == 'train'].reset_index(drop=True)\n",
    "\n",
    "for i in range(len(df_train)):\n",
    "    img_path = df_train.image_path[i]\n",
    "    img_class = df_train['class'][i]\n",
    "\n",
    "    img_pil = Image.open(img_path)\n",
    "    img_np = np.asarray(img_pil)\n",
    "\n",
    "    X_train.append(img_np)\n",
    "    y_train.append(img_class)\n",
    "\n",
    "X_train = np.asarray(X_train, dtype='uint8')\n",
    "y_train = np.asarray(y_train)"
   ]
  },
  {
   "cell_type": "code",
   "execution_count": 11,
   "metadata": {},
   "outputs": [],
   "source": [
    "X_test = []\n",
    "y_test = []\n",
    "\n",
    "df_test = df[df.set == 'test'].reset_index(drop=True)\n",
    "\n",
    "for i in range(len(df_test)):\n",
    "    img_path = df_test.image_path[i]\n",
    "    img_class = df_test['class'][i]\n",
    "\n",
    "    img_pil = Image.open(img_path)\n",
    "    img_np = np.asarray(img_pil)\n",
    "\n",
    "    X_test.append(img_np)\n",
    "    y_test.append(img_class)\n",
    "\n",
    "X_test = np.asarray(X_test, dtype='uint8')\n",
    "y_test = np.asarray(y_test)"
   ]
  },
  {
   "cell_type": "code",
   "execution_count": 12,
   "metadata": {},
   "outputs": [
    {
     "name": "stdout",
     "output_type": "stream",
     "text": [
      "X_train shape: (100000, 32, 32, 3) | y_train shape: (100000,)\n",
      "X_test shape: (20000, 32, 32, 3) | y_test shape: (20000,)\n"
     ]
    }
   ],
   "source": [
    "print(f'X_train shape: {X_train.shape} | y_train shape: {y_train.shape}')\n",
    "print(f'X_test shape: {X_test.shape} | y_test shape: {y_test.shape}')"
   ]
  },
  {
   "cell_type": "markdown",
   "metadata": {},
   "source": [
    "#### EDA"
   ]
  },
  {
   "cell_type": "code",
   "execution_count": 13,
   "metadata": {},
   "outputs": [
    {
     "name": "stdout",
     "output_type": "stream",
     "text": [
      "Class distribution: \n",
      "Train REAL images: 50000\n",
      "Train FAKE images: 50000\n",
      "Test REAL images: 10000\n",
      "Test FAKE images: 10000\n"
     ]
    }
   ],
   "source": [
    "import glob\n",
    "print('Class distribution: ')\n",
    "print( f'Train REAL images: {len(glob.glob('CIFAKE/train/REAL/*'))}'  )\n",
    "print( f'Train FAKE images: {len(glob.glob('CIFAKE/train/FAKE/*'))}'  )\n",
    "\n",
    "print( f'Test REAL images: {len(glob.glob('CIFAKE/test/REAL/*'))}'  )\n",
    "print( f'Test FAKE images: {len(glob.glob('CIFAKE/test/FAKE/*'))}'  )"
   ]
  },
  {
   "cell_type": "code",
   "execution_count": 14,
   "metadata": {},
   "outputs": [],
   "source": [
    "# Show random image"
   ]
  },
  {
   "cell_type": "markdown",
   "metadata": {},
   "source": [
    "#### Image normalisation"
   ]
  },
  {
   "cell_type": "code",
   "execution_count": 15,
   "metadata": {},
   "outputs": [],
   "source": [
    "# from sklearn.preprocessing import StandardScaler\n",
    "# scaler = StandardScaler()\n",
    "# scaler.fit(X_train)\n",
    "# X_train = scaler.transform(X_train)\n",
    "# X_test = scaler.transform(X_test)"
   ]
  },
  {
   "cell_type": "code",
   "execution_count": 16,
   "metadata": {},
   "outputs": [],
   "source": [
    "# Image normalisation"
   ]
  },
  {
   "cell_type": "markdown",
   "metadata": {},
   "source": [
    "#### Build model"
   ]
  },
  {
   "cell_type": "code",
   "execution_count": 17,
   "metadata": {},
   "outputs": [],
   "source": [
    "# Build model\n",
    "def CNN_model01():\n",
    "    model = Sequential([\n",
    "        Rescaling(1./255),\n",
    "        Conv2D(32, 3, activation='relu'),\n",
    "        MaxPooling2D(),\n",
    "        Flatten(),\n",
    "\n",
    "        Dense(24, activation='relu'),\n",
    "        Dropout(0.2),\n",
    "        Dense(1, activation='sigmoid')\n",
    "    ])\n",
    "\n",
    "    model.compile( optimizer=Adam(learning_rate=0.01), \n",
    "                  loss=BinaryCrossentropy(),\n",
    "                  metrics = ['accuracy', Precision(), Recall()],                \n",
    "                  )\n",
    "\n",
    "    model.build(input_shape=(None, 32, 32, 3))\n",
    "    return model"
   ]
  },
  {
   "cell_type": "code",
   "execution_count": 18,
   "metadata": {},
   "outputs": [],
   "source": [
    "# CNN_model01().summary()"
   ]
  },
  {
   "cell_type": "markdown",
   "metadata": {},
   "source": [
    "#### Train model"
   ]
  },
  {
   "cell_type": "code",
   "execution_count": 19,
   "metadata": {},
   "outputs": [],
   "source": [
    "N_EPOCHS = 30\n",
    "# BATCH SIZE ?? # NOTE"
   ]
  },
  {
   "cell_type": "code",
   "execution_count": 20,
   "metadata": {},
   "outputs": [],
   "source": [
    "from sklearn.model_selection import GridSearchCV\n",
    "from datetime import datetime as dt\n",
    "\n",
    "\n",
    "def train(model):\n",
    "  time_start = dt.now()\n",
    "  print(f'Start training, time: {time_start.time()}')\n",
    "\n",
    "  history = model.fit(\n",
    "    X_train, y_train,\n",
    "    validation_data=(X_test, y_test),\n",
    "    epochs=N_EPOCHS,\n",
    "    verbose=1\n",
    "  )\n",
    "\n",
    "  print(f'Time elapsed: {dt.now() - time_start}')\n",
    "\n",
    "  return history\n",
    "\n",
    "# Train with GRID search\n",
    "def train_gridSearch(model):\n",
    "  param_grid = dict(\n",
    "      epochs=[25],\n",
    "      batch_size=[32],\n",
    "  )\n",
    "\n",
    "  grid = GridSearchCV(estimator=model, param_grid=param_grid, n_jobs=4, cv=10, scoring='accuracy')\n",
    "\n",
    "  start_t = dt.now()\n",
    "  print(f'GridSearch start time: {start_t.hour}:{start_t.minute:02}:{start_t.second:02}')\n",
    "  grid_result = grid.fit(X_train, y_train, validation_data=(X_test, y_test))\n",
    "\n",
    "  print(f'GridSearch complete. Time elapsed: {dt.now()-start_t}')\n",
    "\n",
    "  # Best results \n",
    "  print(f'Best parameters: {grid_result.best_params_}')\n",
    "  print(f'Best result (R2): {grid_result.best_score_}')\n",
    "\n",
    "  history = grid_result.best_estimator_.history_\n",
    "\n",
    "  return history"
   ]
  },
  {
   "cell_type": "code",
   "execution_count": 21,
   "metadata": {},
   "outputs": [
    {
     "name": "stderr",
     "output_type": "stream",
     "text": [
      "I0000 00:00:1728824839.124626   89263 cuda_executor.cc:1015] successful NUMA node read from SysFS had negative value (-1), but there must be at least one NUMA node, so returning NUMA node zero. See more at https://github.com/torvalds/linux/blob/v6.0/Documentation/ABI/testing/sysfs-bus-pci#L344-L355\n",
      "I0000 00:00:1728824839.124869   89263 cuda_executor.cc:1015] successful NUMA node read from SysFS had negative value (-1), but there must be at least one NUMA node, so returning NUMA node zero. See more at https://github.com/torvalds/linux/blob/v6.0/Documentation/ABI/testing/sysfs-bus-pci#L344-L355\n",
      "I0000 00:00:1728824839.125034   89263 cuda_executor.cc:1015] successful NUMA node read from SysFS had negative value (-1), but there must be at least one NUMA node, so returning NUMA node zero. See more at https://github.com/torvalds/linux/blob/v6.0/Documentation/ABI/testing/sysfs-bus-pci#L344-L355\n",
      "I0000 00:00:1728824839.174255   89263 cuda_executor.cc:1015] successful NUMA node read from SysFS had negative value (-1), but there must be at least one NUMA node, so returning NUMA node zero. See more at https://github.com/torvalds/linux/blob/v6.0/Documentation/ABI/testing/sysfs-bus-pci#L344-L355\n",
      "I0000 00:00:1728824839.174457   89263 cuda_executor.cc:1015] successful NUMA node read from SysFS had negative value (-1), but there must be at least one NUMA node, so returning NUMA node zero. See more at https://github.com/torvalds/linux/blob/v6.0/Documentation/ABI/testing/sysfs-bus-pci#L344-L355\n",
      "I0000 00:00:1728824839.174623   89263 cuda_executor.cc:1015] successful NUMA node read from SysFS had negative value (-1), but there must be at least one NUMA node, so returning NUMA node zero. See more at https://github.com/torvalds/linux/blob/v6.0/Documentation/ABI/testing/sysfs-bus-pci#L344-L355\n",
      "2024-10-13 15:07:19.174748: I tensorflow/core/common_runtime/gpu/gpu_device.cc:2021] Created device /job:localhost/replica:0/task:0/device:GPU:0 with 348 MB memory:  -> device: 0, name: NVIDIA GeForce GTX 1060 6GB, pci bus id: 0000:06:00.0, compute capability: 6.1\n"
     ]
    }
   ],
   "source": [
    "from scikeras.wrappers import KerasClassifier\n",
    "\n",
    "# model = CNN_model01()\n",
    "model = KerasClassifier(model=CNN_model01())\n",
    "\n",
    "\n",
    "# history = train_gridSearch(model)"
   ]
  },
  {
   "cell_type": "code",
   "execution_count": 22,
   "metadata": {},
   "outputs": [
    {
     "name": "stderr",
     "output_type": "stream",
     "text": [
      "2024-10-13 15:07:20.109201: W external/local_tsl/tsl/framework/cpu_allocator_impl.cc:83] Allocation of 276480000 exceeds 10% of free system memory.\n",
      "2024-10-13 15:07:20.377690: W external/local_tsl/tsl/framework/cpu_allocator_impl.cc:83] Allocation of 276480000 exceeds 10% of free system memory.\n",
      "WARNING: All log messages before absl::InitializeLog() is called are written to STDERR\n",
      "I0000 00:00:1728824841.138201   89590 service.cc:146] XLA service 0x75d7e40057c0 initialized for platform CUDA (this does not guarantee that XLA will be used). Devices:\n",
      "I0000 00:00:1728824841.138228   89590 service.cc:154]   StreamExecutor device (0): NVIDIA GeForce GTX 1060 6GB, Compute Capability 6.1\n",
      "2024-10-13 15:07:21.162204: I tensorflow/compiler/mlir/tensorflow/utils/dump_mlir_util.cc:268] disabling MLIR crash reproducer, set env var `MLIR_CRASH_REPRODUCER_DIRECTORY` to enable.\n",
      "2024-10-13 15:07:21.267446: I external/local_xla/xla/stream_executor/cuda/cuda_dnn.cc:531] Loaded cuDNN version 8907\n",
      "2024-10-13 15:07:21.340296: W external/local_tsl/tsl/framework/bfc_allocator.cc:291] Allocator (GPU_0_bfc) ran out of memory trying to allocate 16.38MiB with freed_by_count=0. The caller indicates that this is not a failure, but this may mean that there could be performance gains if more memory were available.\n",
      "2024-10-13 15:07:21.343616: W tensorflow/core/framework/op_kernel.cc:1840] OP_REQUIRES failed at xla_ops.cc:577 : UNKNOWN: Failed to determine best cudnn convolution algorithm for:\n",
      "%cudnn-conv-bias-activation.3 = (f32[32,32,30,30]{3,2,1,0}, u8[0]{0}) custom-call(f32[32,3,32,32]{3,2,1,0} %multiply.179, f32[32,3,3,3]{3,2,1,0} %transpose.69, f32[32]{0} %arg3.4), window={size=3x3}, dim_labels=bf01_oi01->bf01, custom_call_target=\"__cudnn$convBiasActivationForward\", metadata={op_type=\"Conv2D\" op_name=\"sequential_1_1/conv2d_1_1/convolution\" source_file=\"/mnt/sde1/My_Files/Code/Git_Repos/hve_projects/.venv/lib/python3.12/site-packages/tensorflow/python/framework/ops.py\" source_line=1177}, backend_config={\"operation_queue_id\":\"0\",\"wait_on_operation_queues\":[],\"cudnn_conv_backend_config\":{\"conv_result_scale\":1,\"activation_mode\":\"kNone\",\"side_input_scale\":0,\"leakyrelu_alpha\":0},\"force_earliest_schedule\":false}\n",
      "\n",
      "Original error: RESOURCE_EXHAUSTED: Out of memory while trying to allocate 17170432 bytes.\n",
      "\n",
      "To ignore this failure and try to use a fallback algorithm (which may have suboptimal performance), use XLA_FLAGS=--xla_gpu_strict_conv_algorithm_picker=false.  Please also file a bug for the root cause of failing autotuning.\n",
      "2024-10-13 15:07:21.343800: I tensorflow/core/framework/local_rendezvous.cc:404] Local rendezvous is aborting with status: UNKNOWN: Failed to determine best cudnn convolution algorithm for:\n",
      "%cudnn-conv-bias-activation.3 = (f32[32,32,30,30]{3,2,1,0}, u8[0]{0}) custom-call(f32[32,3,32,32]{3,2,1,0} %multiply.179, f32[32,3,3,3]{3,2,1,0} %transpose.69, f32[32]{0} %arg3.4), window={size=3x3}, dim_labels=bf01_oi01->bf01, custom_call_target=\"__cudnn$convBiasActivationForward\", metadata={op_type=\"Conv2D\" op_name=\"sequential_1_1/conv2d_1_1/convolution\" source_file=\"/mnt/sde1/My_Files/Code/Git_Repos/hve_projects/.venv/lib/python3.12/site-packages/tensorflow/python/framework/ops.py\" source_line=1177}, backend_config={\"operation_queue_id\":\"0\",\"wait_on_operation_queues\":[],\"cudnn_conv_backend_config\":{\"conv_result_scale\":1,\"activation_mode\":\"kNone\",\"side_input_scale\":0,\"leakyrelu_alpha\":0},\"force_earliest_schedule\":false}\n",
      "\n",
      "Original error: RESOURCE_EXHAUSTED: Out of memory while trying to allocate 17170432 bytes.\n",
      "\n",
      "To ignore this failure and try to use a fallback algorithm (which may have suboptimal performance), use XLA_FLAGS=--xla_gpu_strict_conv_algorithm_picker=false.  Please also file a bug for the root cause of failing autotuning.\n",
      "\t [[{{node StatefulPartitionedCall}}]]\n",
      "2024-10-13 15:07:21.681148: W external/local_tsl/tsl/framework/cpu_allocator_impl.cc:83] Allocation of 276480000 exceeds 10% of free system memory.\n",
      "2024-10-13 15:07:21.945374: W external/local_tsl/tsl/framework/cpu_allocator_impl.cc:83] Allocation of 276480000 exceeds 10% of free system memory.\n",
      "2024-10-13 15:07:22.868211: W external/local_tsl/tsl/framework/bfc_allocator.cc:291] Allocator (GPU_0_bfc) ran out of memory trying to allocate 16.38MiB with freed_by_count=0. The caller indicates that this is not a failure, but this may mean that there could be performance gains if more memory were available.\n",
      "2024-10-13 15:07:22.871279: W tensorflow/core/framework/op_kernel.cc:1840] OP_REQUIRES failed at xla_ops.cc:577 : UNKNOWN: Failed to determine best cudnn convolution algorithm for:\n",
      "%cudnn-conv-bias-activation.3 = (f32[32,32,30,30]{3,2,1,0}, u8[0]{0}) custom-call(f32[32,3,32,32]{3,2,1,0} %multiply.179, f32[32,3,3,3]{3,2,1,0} %transpose.69, f32[32]{0} %arg3.4), window={size=3x3}, dim_labels=bf01_oi01->bf01, custom_call_target=\"__cudnn$convBiasActivationForward\", metadata={op_type=\"Conv2D\" op_name=\"sequential_1_1/conv2d_1_1/convolution\" source_file=\"/mnt/sde1/My_Files/Code/Git_Repos/hve_projects/.venv/lib/python3.12/site-packages/tensorflow/python/framework/ops.py\" source_line=1177}, backend_config={\"operation_queue_id\":\"0\",\"wait_on_operation_queues\":[],\"cudnn_conv_backend_config\":{\"conv_result_scale\":1,\"activation_mode\":\"kNone\",\"side_input_scale\":0,\"leakyrelu_alpha\":0},\"force_earliest_schedule\":false}\n",
      "\n",
      "Original error: RESOURCE_EXHAUSTED: Out of memory while trying to allocate 17170432 bytes.\n",
      "\n",
      "To ignore this failure and try to use a fallback algorithm (which may have suboptimal performance), use XLA_FLAGS=--xla_gpu_strict_conv_algorithm_picker=false.  Please also file a bug for the root cause of failing autotuning.\n",
      "2024-10-13 15:07:22.871334: I tensorflow/core/framework/local_rendezvous.cc:404] Local rendezvous is aborting with status: UNKNOWN: Failed to determine best cudnn convolution algorithm for:\n",
      "%cudnn-conv-bias-activation.3 = (f32[32,32,30,30]{3,2,1,0}, u8[0]{0}) custom-call(f32[32,3,32,32]{3,2,1,0} %multiply.179, f32[32,3,3,3]{3,2,1,0} %transpose.69, f32[32]{0} %arg3.4), window={size=3x3}, dim_labels=bf01_oi01->bf01, custom_call_target=\"__cudnn$convBiasActivationForward\", metadata={op_type=\"Conv2D\" op_name=\"sequential_1_1/conv2d_1_1/convolution\" source_file=\"/mnt/sde1/My_Files/Code/Git_Repos/hve_projects/.venv/lib/python3.12/site-packages/tensorflow/python/framework/ops.py\" source_line=1177}, backend_config={\"operation_queue_id\":\"0\",\"wait_on_operation_queues\":[],\"cudnn_conv_backend_config\":{\"conv_result_scale\":1,\"activation_mode\":\"kNone\",\"side_input_scale\":0,\"leakyrelu_alpha\":0},\"force_earliest_schedule\":false}\n",
      "\n",
      "Original error: RESOURCE_EXHAUSTED: Out of memory while trying to allocate 17170432 bytes.\n",
      "\n",
      "To ignore this failure and try to use a fallback algorithm (which may have suboptimal performance), use XLA_FLAGS=--xla_gpu_strict_conv_algorithm_picker=false.  Please also file a bug for the root cause of failing autotuning.\n",
      "\t [[{{node StatefulPartitionedCall}}]]\n",
      "2024-10-13 15:07:23.044522: W external/local_tsl/tsl/framework/cpu_allocator_impl.cc:83] Allocation of 276480000 exceeds 10% of free system memory.\n",
      "2024-10-13 15:07:24.428206: W external/local_tsl/tsl/framework/bfc_allocator.cc:291] Allocator (GPU_0_bfc) ran out of memory trying to allocate 16.38MiB with freed_by_count=0. The caller indicates that this is not a failure, but this may mean that there could be performance gains if more memory were available.\n",
      "2024-10-13 15:07:24.432070: W tensorflow/core/framework/op_kernel.cc:1840] OP_REQUIRES failed at xla_ops.cc:577 : UNKNOWN: Failed to determine best cudnn convolution algorithm for:\n",
      "%cudnn-conv-bias-activation.3 = (f32[32,32,30,30]{3,2,1,0}, u8[0]{0}) custom-call(f32[32,3,32,32]{3,2,1,0} %multiply.179, f32[32,3,3,3]{3,2,1,0} %transpose.69, f32[32]{0} %arg3.4), window={size=3x3}, dim_labels=bf01_oi01->bf01, custom_call_target=\"__cudnn$convBiasActivationForward\", metadata={op_type=\"Conv2D\" op_name=\"sequential_1_1/conv2d_1_1/convolution\" source_file=\"/mnt/sde1/My_Files/Code/Git_Repos/hve_projects/.venv/lib/python3.12/site-packages/tensorflow/python/framework/ops.py\" source_line=1177}, backend_config={\"operation_queue_id\":\"0\",\"wait_on_operation_queues\":[],\"cudnn_conv_backend_config\":{\"conv_result_scale\":1,\"activation_mode\":\"kNone\",\"side_input_scale\":0,\"leakyrelu_alpha\":0},\"force_earliest_schedule\":false}\n",
      "\n",
      "Original error: RESOURCE_EXHAUSTED: Out of memory while trying to allocate 17170432 bytes.\n",
      "\n",
      "To ignore this failure and try to use a fallback algorithm (which may have suboptimal performance), use XLA_FLAGS=--xla_gpu_strict_conv_algorithm_picker=false.  Please also file a bug for the root cause of failing autotuning.\n",
      "2024-10-13 15:07:25.820741: W external/local_tsl/tsl/framework/bfc_allocator.cc:291] Allocator (GPU_0_bfc) ran out of memory trying to allocate 16.38MiB with freed_by_count=0. The caller indicates that this is not a failure, but this may mean that there could be performance gains if more memory were available.\n",
      "2024-10-13 15:07:25.823939: W tensorflow/core/framework/op_kernel.cc:1840] OP_REQUIRES failed at xla_ops.cc:577 : UNKNOWN: Failed to determine best cudnn convolution algorithm for:\n",
      "%cudnn-conv-bias-activation.3 = (f32[32,32,30,30]{3,2,1,0}, u8[0]{0}) custom-call(f32[32,3,32,32]{3,2,1,0} %multiply.179, f32[32,3,3,3]{3,2,1,0} %transpose.69, f32[32]{0} %arg3.4), window={size=3x3}, dim_labels=bf01_oi01->bf01, custom_call_target=\"__cudnn$convBiasActivationForward\", metadata={op_type=\"Conv2D\" op_name=\"sequential_1_1/conv2d_1_1/convolution\" source_file=\"/mnt/sde1/My_Files/Code/Git_Repos/hve_projects/.venv/lib/python3.12/site-packages/tensorflow/python/framework/ops.py\" source_line=1177}, backend_config={\"operation_queue_id\":\"0\",\"wait_on_operation_queues\":[],\"cudnn_conv_backend_config\":{\"conv_result_scale\":1,\"activation_mode\":\"kNone\",\"side_input_scale\":0,\"leakyrelu_alpha\":0},\"force_earliest_schedule\":false}\n",
      "\n",
      "Original error: RESOURCE_EXHAUSTED: Out of memory while trying to allocate 17170432 bytes.\n",
      "\n",
      "To ignore this failure and try to use a fallback algorithm (which may have suboptimal performance), use XLA_FLAGS=--xla_gpu_strict_conv_algorithm_picker=false.  Please also file a bug for the root cause of failing autotuning.\n",
      "2024-10-13 15:07:25.823997: I tensorflow/core/framework/local_rendezvous.cc:404] Local rendezvous is aborting with status: UNKNOWN: Failed to determine best cudnn convolution algorithm for:\n",
      "%cudnn-conv-bias-activation.3 = (f32[32,32,30,30]{3,2,1,0}, u8[0]{0}) custom-call(f32[32,3,32,32]{3,2,1,0} %multiply.179, f32[32,3,3,3]{3,2,1,0} %transpose.69, f32[32]{0} %arg3.4), window={size=3x3}, dim_labels=bf01_oi01->bf01, custom_call_target=\"__cudnn$convBiasActivationForward\", metadata={op_type=\"Conv2D\" op_name=\"sequential_1_1/conv2d_1_1/convolution\" source_file=\"/mnt/sde1/My_Files/Code/Git_Repos/hve_projects/.venv/lib/python3.12/site-packages/tensorflow/python/framework/ops.py\" source_line=1177}, backend_config={\"operation_queue_id\":\"0\",\"wait_on_operation_queues\":[],\"cudnn_conv_backend_config\":{\"conv_result_scale\":1,\"activation_mode\":\"kNone\",\"side_input_scale\":0,\"leakyrelu_alpha\":0},\"force_earliest_schedule\":false}\n",
      "\n",
      "Original error: RESOURCE_EXHAUSTED: Out of memory while trying to allocate 17170432 bytes.\n",
      "\n",
      "To ignore this failure and try to use a fallback algorithm (which may have suboptimal performance), use XLA_FLAGS=--xla_gpu_strict_conv_algorithm_picker=false.  Please also file a bug for the root cause of failing autotuning.\n",
      "\t [[{{node StatefulPartitionedCall}}]]\n",
      "2024-10-13 15:07:27.240819: W external/local_tsl/tsl/framework/bfc_allocator.cc:291] Allocator (GPU_0_bfc) ran out of memory trying to allocate 16.38MiB with freed_by_count=0. The caller indicates that this is not a failure, but this may mean that there could be performance gains if more memory were available.\n",
      "2024-10-13 15:07:27.244667: W tensorflow/core/framework/op_kernel.cc:1840] OP_REQUIRES failed at xla_ops.cc:577 : UNKNOWN: Failed to determine best cudnn convolution algorithm for:\n",
      "%cudnn-conv-bias-activation.3 = (f32[32,32,30,30]{3,2,1,0}, u8[0]{0}) custom-call(f32[32,3,32,32]{3,2,1,0} %multiply.179, f32[32,3,3,3]{3,2,1,0} %transpose.69, f32[32]{0} %arg3.4), window={size=3x3}, dim_labels=bf01_oi01->bf01, custom_call_target=\"__cudnn$convBiasActivationForward\", metadata={op_type=\"Conv2D\" op_name=\"sequential_1_1/conv2d_1_1/convolution\" source_file=\"/mnt/sde1/My_Files/Code/Git_Repos/hve_projects/.venv/lib/python3.12/site-packages/tensorflow/python/framework/ops.py\" source_line=1177}, backend_config={\"operation_queue_id\":\"0\",\"wait_on_operation_queues\":[],\"cudnn_conv_backend_config\":{\"conv_result_scale\":1,\"activation_mode\":\"kNone\",\"side_input_scale\":0,\"leakyrelu_alpha\":0},\"force_earliest_schedule\":false}\n",
      "\n",
      "Original error: RESOURCE_EXHAUSTED: Out of memory while trying to allocate 17170432 bytes.\n",
      "\n",
      "To ignore this failure and try to use a fallback algorithm (which may have suboptimal performance), use XLA_FLAGS=--xla_gpu_strict_conv_algorithm_picker=false.  Please also file a bug for the root cause of failing autotuning.\n",
      "2024-10-13 15:07:28.647229: W external/local_tsl/tsl/framework/bfc_allocator.cc:291] Allocator (GPU_0_bfc) ran out of memory trying to allocate 16.38MiB with freed_by_count=0. The caller indicates that this is not a failure, but this may mean that there could be performance gains if more memory were available.\n",
      "2024-10-13 15:07:28.652216: W tensorflow/core/framework/op_kernel.cc:1840] OP_REQUIRES failed at xla_ops.cc:577 : UNKNOWN: Failed to determine best cudnn convolution algorithm for:\n",
      "%cudnn-conv-bias-activation.3 = (f32[32,32,30,30]{3,2,1,0}, u8[0]{0}) custom-call(f32[32,3,32,32]{3,2,1,0} %multiply.179, f32[32,3,3,3]{3,2,1,0} %transpose.69, f32[32]{0} %arg3.4), window={size=3x3}, dim_labels=bf01_oi01->bf01, custom_call_target=\"__cudnn$convBiasActivationForward\", metadata={op_type=\"Conv2D\" op_name=\"sequential_1_1/conv2d_1_1/convolution\" source_file=\"/mnt/sde1/My_Files/Code/Git_Repos/hve_projects/.venv/lib/python3.12/site-packages/tensorflow/python/framework/ops.py\" source_line=1177}, backend_config={\"operation_queue_id\":\"0\",\"wait_on_operation_queues\":[],\"cudnn_conv_backend_config\":{\"conv_result_scale\":1,\"activation_mode\":\"kNone\",\"side_input_scale\":0,\"leakyrelu_alpha\":0},\"force_earliest_schedule\":false}\n",
      "\n",
      "Original error: RESOURCE_EXHAUSTED: Out of memory while trying to allocate 17170432 bytes.\n",
      "\n",
      "To ignore this failure and try to use a fallback algorithm (which may have suboptimal performance), use XLA_FLAGS=--xla_gpu_strict_conv_algorithm_picker=false.  Please also file a bug for the root cause of failing autotuning.\n",
      "2024-10-13 15:07:30.082620: W external/local_tsl/tsl/framework/bfc_allocator.cc:291] Allocator (GPU_0_bfc) ran out of memory trying to allocate 16.38MiB with freed_by_count=0. The caller indicates that this is not a failure, but this may mean that there could be performance gains if more memory were available.\n",
      "2024-10-13 15:07:30.086457: W tensorflow/core/framework/op_kernel.cc:1840] OP_REQUIRES failed at xla_ops.cc:577 : UNKNOWN: Failed to determine best cudnn convolution algorithm for:\n",
      "%cudnn-conv-bias-activation.3 = (f32[32,32,30,30]{3,2,1,0}, u8[0]{0}) custom-call(f32[32,3,32,32]{3,2,1,0} %multiply.179, f32[32,3,3,3]{3,2,1,0} %transpose.69, f32[32]{0} %arg3.4), window={size=3x3}, dim_labels=bf01_oi01->bf01, custom_call_target=\"__cudnn$convBiasActivationForward\", metadata={op_type=\"Conv2D\" op_name=\"sequential_1_1/conv2d_1_1/convolution\" source_file=\"/mnt/sde1/My_Files/Code/Git_Repos/hve_projects/.venv/lib/python3.12/site-packages/tensorflow/python/framework/ops.py\" source_line=1177}, backend_config={\"operation_queue_id\":\"0\",\"wait_on_operation_queues\":[],\"cudnn_conv_backend_config\":{\"conv_result_scale\":1,\"activation_mode\":\"kNone\",\"side_input_scale\":0,\"leakyrelu_alpha\":0},\"force_earliest_schedule\":false}\n",
      "\n",
      "Original error: RESOURCE_EXHAUSTED: Out of memory while trying to allocate 17170432 bytes.\n",
      "\n",
      "To ignore this failure and try to use a fallback algorithm (which may have suboptimal performance), use XLA_FLAGS=--xla_gpu_strict_conv_algorithm_picker=false.  Please also file a bug for the root cause of failing autotuning.\n",
      "2024-10-13 15:07:31.471043: W external/local_tsl/tsl/framework/bfc_allocator.cc:291] Allocator (GPU_0_bfc) ran out of memory trying to allocate 16.38MiB with freed_by_count=0. The caller indicates that this is not a failure, but this may mean that there could be performance gains if more memory were available.\n",
      "2024-10-13 15:07:31.474601: W tensorflow/core/framework/op_kernel.cc:1840] OP_REQUIRES failed at xla_ops.cc:577 : UNKNOWN: Failed to determine best cudnn convolution algorithm for:\n",
      "%cudnn-conv-bias-activation.3 = (f32[32,32,30,30]{3,2,1,0}, u8[0]{0}) custom-call(f32[32,3,32,32]{3,2,1,0} %multiply.179, f32[32,3,3,3]{3,2,1,0} %transpose.69, f32[32]{0} %arg3.4), window={size=3x3}, dim_labels=bf01_oi01->bf01, custom_call_target=\"__cudnn$convBiasActivationForward\", metadata={op_type=\"Conv2D\" op_name=\"sequential_1_1/conv2d_1_1/convolution\" source_file=\"/mnt/sde1/My_Files/Code/Git_Repos/hve_projects/.venv/lib/python3.12/site-packages/tensorflow/python/framework/ops.py\" source_line=1177}, backend_config={\"operation_queue_id\":\"0\",\"wait_on_operation_queues\":[],\"cudnn_conv_backend_config\":{\"conv_result_scale\":1,\"activation_mode\":\"kNone\",\"side_input_scale\":0,\"leakyrelu_alpha\":0},\"force_earliest_schedule\":false}\n",
      "\n",
      "Original error: RESOURCE_EXHAUSTED: Out of memory while trying to allocate 17170432 bytes.\n",
      "\n",
      "To ignore this failure and try to use a fallback algorithm (which may have suboptimal performance), use XLA_FLAGS=--xla_gpu_strict_conv_algorithm_picker=false.  Please also file a bug for the root cause of failing autotuning.\n",
      "2024-10-13 15:07:31.474669: I tensorflow/core/framework/local_rendezvous.cc:404] Local rendezvous is aborting with status: UNKNOWN: Failed to determine best cudnn convolution algorithm for:\n",
      "%cudnn-conv-bias-activation.3 = (f32[32,32,30,30]{3,2,1,0}, u8[0]{0}) custom-call(f32[32,3,32,32]{3,2,1,0} %multiply.179, f32[32,3,3,3]{3,2,1,0} %transpose.69, f32[32]{0} %arg3.4), window={size=3x3}, dim_labels=bf01_oi01->bf01, custom_call_target=\"__cudnn$convBiasActivationForward\", metadata={op_type=\"Conv2D\" op_name=\"sequential_1_1/conv2d_1_1/convolution\" source_file=\"/mnt/sde1/My_Files/Code/Git_Repos/hve_projects/.venv/lib/python3.12/site-packages/tensorflow/python/framework/ops.py\" source_line=1177}, backend_config={\"operation_queue_id\":\"0\",\"wait_on_operation_queues\":[],\"cudnn_conv_backend_config\":{\"conv_result_scale\":1,\"activation_mode\":\"kNone\",\"side_input_scale\":0,\"leakyrelu_alpha\":0},\"force_earliest_schedule\":false}\n",
      "\n",
      "Original error: RESOURCE_EXHAUSTED: Out of memory while trying to allocate 17170432 bytes.\n",
      "\n",
      "To ignore this failure and try to use a fallback algorithm (which may have suboptimal performance), use XLA_FLAGS=--xla_gpu_strict_conv_algorithm_picker=false.  Please also file a bug for the root cause of failing autotuning.\n",
      "\t [[{{node StatefulPartitionedCall}}]]\n",
      "2024-10-13 15:07:32.866125: W external/local_tsl/tsl/framework/bfc_allocator.cc:291] Allocator (GPU_0_bfc) ran out of memory trying to allocate 16.38MiB with freed_by_count=0. The caller indicates that this is not a failure, but this may mean that there could be performance gains if more memory were available.\n",
      "2024-10-13 15:07:32.869980: W tensorflow/core/framework/op_kernel.cc:1840] OP_REQUIRES failed at xla_ops.cc:577 : UNKNOWN: Failed to determine best cudnn convolution algorithm for:\n",
      "%cudnn-conv-bias-activation.3 = (f32[32,32,30,30]{3,2,1,0}, u8[0]{0}) custom-call(f32[32,3,32,32]{3,2,1,0} %multiply.179, f32[32,3,3,3]{3,2,1,0} %transpose.69, f32[32]{0} %arg3.4), window={size=3x3}, dim_labels=bf01_oi01->bf01, custom_call_target=\"__cudnn$convBiasActivationForward\", metadata={op_type=\"Conv2D\" op_name=\"sequential_1_1/conv2d_1_1/convolution\" source_file=\"/mnt/sde1/My_Files/Code/Git_Repos/hve_projects/.venv/lib/python3.12/site-packages/tensorflow/python/framework/ops.py\" source_line=1177}, backend_config={\"operation_queue_id\":\"0\",\"wait_on_operation_queues\":[],\"cudnn_conv_backend_config\":{\"conv_result_scale\":1,\"activation_mode\":\"kNone\",\"side_input_scale\":0,\"leakyrelu_alpha\":0},\"force_earliest_schedule\":false}\n",
      "\n",
      "Original error: RESOURCE_EXHAUSTED: Out of memory while trying to allocate 17170432 bytes.\n",
      "\n",
      "To ignore this failure and try to use a fallback algorithm (which may have suboptimal performance), use XLA_FLAGS=--xla_gpu_strict_conv_algorithm_picker=false.  Please also file a bug for the root cause of failing autotuning.\n",
      "2024-10-13 15:07:34.276487: W external/local_tsl/tsl/framework/bfc_allocator.cc:291] Allocator (GPU_0_bfc) ran out of memory trying to allocate 16.38MiB with freed_by_count=0. The caller indicates that this is not a failure, but this may mean that there could be performance gains if more memory were available.\n",
      "2024-10-13 15:07:34.279758: W tensorflow/core/framework/op_kernel.cc:1840] OP_REQUIRES failed at xla_ops.cc:577 : UNKNOWN: Failed to determine best cudnn convolution algorithm for:\n",
      "%cudnn-conv-bias-activation.3 = (f32[32,32,30,30]{3,2,1,0}, u8[0]{0}) custom-call(f32[32,3,32,32]{3,2,1,0} %multiply.179, f32[32,3,3,3]{3,2,1,0} %transpose.69, f32[32]{0} %arg3.4), window={size=3x3}, dim_labels=bf01_oi01->bf01, custom_call_target=\"__cudnn$convBiasActivationForward\", metadata={op_type=\"Conv2D\" op_name=\"sequential_1_1/conv2d_1_1/convolution\" source_file=\"/mnt/sde1/My_Files/Code/Git_Repos/hve_projects/.venv/lib/python3.12/site-packages/tensorflow/python/framework/ops.py\" source_line=1177}, backend_config={\"operation_queue_id\":\"0\",\"wait_on_operation_queues\":[],\"cudnn_conv_backend_config\":{\"conv_result_scale\":1,\"activation_mode\":\"kNone\",\"side_input_scale\":0,\"leakyrelu_alpha\":0},\"force_earliest_schedule\":false}\n",
      "\n",
      "Original error: RESOURCE_EXHAUSTED: Out of memory while trying to allocate 17170432 bytes.\n",
      "\n",
      "To ignore this failure and try to use a fallback algorithm (which may have suboptimal performance), use XLA_FLAGS=--xla_gpu_strict_conv_algorithm_picker=false.  Please also file a bug for the root cause of failing autotuning.\n"
     ]
    },
    {
     "ename": "ValueError",
     "evalue": "\nAll the 10 fits failed.\nIt is very likely that your model is misconfigured.\nYou can try to debug the error by setting error_score='raise'.\n\nBelow are more details about the failures:\n--------------------------------------------------------------------------------\n1 fits failed with the following error:\nTraceback (most recent call last):\n  File \"/mnt/sde1/My_Files/Code/Git_Repos/hve_projects/.venv/lib/python3.12/site-packages/sklearn/model_selection/_validation.py\", line 888, in _fit_and_score\n    estimator.fit(X_train, y_train, **fit_params)\n  File \"/mnt/sde1/My_Files/Code/Git_Repos/hve_projects/.venv/lib/python3.12/site-packages/scikeras/wrappers.py\", line 1501, in fit\n    super().fit(X=X, y=y, sample_weight=sample_weight, **kwargs)\n  File \"/mnt/sde1/My_Files/Code/Git_Repos/hve_projects/.venv/lib/python3.12/site-packages/scikeras/wrappers.py\", line 770, in fit\n    self._fit(\n  File \"/mnt/sde1/My_Files/Code/Git_Repos/hve_projects/.venv/lib/python3.12/site-packages/scikeras/wrappers.py\", line 938, in _fit\n    self._fit_keras_model(\n  File \"/mnt/sde1/My_Files/Code/Git_Repos/hve_projects/.venv/lib/python3.12/site-packages/scikeras/wrappers.py\", line 535, in _fit_keras_model\n    hist = self.model_.fit(x=X, y=y, **fit_args)\n           ^^^^^^^^^^^^^^^^^^^^^^^^^^^^^^^^^^^^^\n  File \"/mnt/sde1/My_Files/Code/Git_Repos/hve_projects/.venv/lib/python3.12/site-packages/keras/src/utils/traceback_utils.py\", line 122, in error_handler\n    raise e.with_traceback(filtered_tb) from None\n  File \"/mnt/sde1/My_Files/Code/Git_Repos/hve_projects/.venv/lib/python3.12/site-packages/tensorflow/python/eager/execute.py\", line 59, in quick_execute\n    except TypeError as e:\ntensorflow.python.framework.errors_impl.UnknownError: Graph execution error:\n\nDetected at node StatefulPartitionedCall defined at (most recent call last):\n  File \"<frozen runpy>\", line 198, in _run_module_as_main\n\n  File \"<frozen runpy>\", line 88, in _run_code\n\n  File \"/mnt/sde1/My_Files/Code/Git_Repos/hve_projects/.venv/lib/python3.12/site-packages/ipykernel_launcher.py\", line 18, in <module>\n\n  File \"/mnt/sde1/My_Files/Code/Git_Repos/hve_projects/.venv/lib/python3.12/site-packages/traitlets/config/application.py\", line 1075, in launch_instance\n\n  File \"/mnt/sde1/My_Files/Code/Git_Repos/hve_projects/.venv/lib/python3.12/site-packages/ipykernel/kernelapp.py\", line 739, in start\n\n  File \"/mnt/sde1/My_Files/Code/Git_Repos/hve_projects/.venv/lib/python3.12/site-packages/tornado/platform/asyncio.py\", line 205, in start\n\n  File \"/usr/lib/python3.12/asyncio/base_events.py\", line 641, in run_forever\n\n  File \"/usr/lib/python3.12/asyncio/base_events.py\", line 1987, in _run_once\n\n  File \"/usr/lib/python3.12/asyncio/events.py\", line 88, in _run\n\n  File \"/mnt/sde1/My_Files/Code/Git_Repos/hve_projects/.venv/lib/python3.12/site-packages/ipykernel/kernelbase.py\", line 545, in dispatch_queue\n\n  File \"/mnt/sde1/My_Files/Code/Git_Repos/hve_projects/.venv/lib/python3.12/site-packages/ipykernel/kernelbase.py\", line 534, in process_one\n\n  File \"/mnt/sde1/My_Files/Code/Git_Repos/hve_projects/.venv/lib/python3.12/site-packages/ipykernel/kernelbase.py\", line 437, in dispatch_shell\n\n  File \"/mnt/sde1/My_Files/Code/Git_Repos/hve_projects/.venv/lib/python3.12/site-packages/ipykernel/ipkernel.py\", line 362, in execute_request\n\n  File \"/mnt/sde1/My_Files/Code/Git_Repos/hve_projects/.venv/lib/python3.12/site-packages/ipykernel/kernelbase.py\", line 778, in execute_request\n\n  File \"/mnt/sde1/My_Files/Code/Git_Repos/hve_projects/.venv/lib/python3.12/site-packages/ipykernel/ipkernel.py\", line 449, in do_execute\n\n  File \"/mnt/sde1/My_Files/Code/Git_Repos/hve_projects/.venv/lib/python3.12/site-packages/ipykernel/zmqshell.py\", line 549, in run_cell\n\n  File \"/mnt/sde1/My_Files/Code/Git_Repos/hve_projects/.venv/lib/python3.12/site-packages/IPython/core/interactiveshell.py\", line 3075, in run_cell\n\n  File \"/mnt/sde1/My_Files/Code/Git_Repos/hve_projects/.venv/lib/python3.12/site-packages/IPython/core/interactiveshell.py\", line 3130, in _run_cell\n\n  File \"/mnt/sde1/My_Files/Code/Git_Repos/hve_projects/.venv/lib/python3.12/site-packages/IPython/core/async_helpers.py\", line 128, in _pseudo_sync_runner\n\n  File \"/mnt/sde1/My_Files/Code/Git_Repos/hve_projects/.venv/lib/python3.12/site-packages/IPython/core/interactiveshell.py\", line 3334, in run_cell_async\n\n  File \"/mnt/sde1/My_Files/Code/Git_Repos/hve_projects/.venv/lib/python3.12/site-packages/IPython/core/interactiveshell.py\", line 3517, in run_ast_nodes\n\n  File \"/mnt/sde1/My_Files/Code/Git_Repos/hve_projects/.venv/lib/python3.12/site-packages/IPython/core/interactiveshell.py\", line 3577, in run_code\n\n  File \"/tmp/ipykernel_89263/4030023438.py\", line 9, in <module>\n\n  File \"/mnt/sde1/My_Files/Code/Git_Repos/hve_projects/.venv/lib/python3.12/site-packages/sklearn/utils/_param_validation.py\", line 213, in wrapper\n\n  File \"/mnt/sde1/My_Files/Code/Git_Repos/hve_projects/.venv/lib/python3.12/site-packages/sklearn/model_selection/_validation.py\", line 712, in cross_val_score\n\n  File \"/mnt/sde1/My_Files/Code/Git_Repos/hve_projects/.venv/lib/python3.12/site-packages/sklearn/utils/_param_validation.py\", line 213, in wrapper\n\n  File \"/mnt/sde1/My_Files/Code/Git_Repos/hve_projects/.venv/lib/python3.12/site-packages/sklearn/model_selection/_validation.py\", line 423, in cross_validate\n\n  File \"/mnt/sde1/My_Files/Code/Git_Repos/hve_projects/.venv/lib/python3.12/site-packages/sklearn/utils/parallel.py\", line 74, in __call__\n\n  File \"/mnt/sde1/My_Files/Code/Git_Repos/hve_projects/.venv/lib/python3.12/site-packages/joblib/parallel.py\", line 1918, in __call__\n\n  File \"/mnt/sde1/My_Files/Code/Git_Repos/hve_projects/.venv/lib/python3.12/site-packages/joblib/parallel.py\", line 1847, in _get_sequential_output\n\n  File \"/mnt/sde1/My_Files/Code/Git_Repos/hve_projects/.venv/lib/python3.12/site-packages/sklearn/utils/parallel.py\", line 136, in __call__\n\n  File \"/mnt/sde1/My_Files/Code/Git_Repos/hve_projects/.venv/lib/python3.12/site-packages/sklearn/model_selection/_validation.py\", line 888, in _fit_and_score\n\n  File \"/mnt/sde1/My_Files/Code/Git_Repos/hve_projects/.venv/lib/python3.12/site-packages/scikeras/wrappers.py\", line 1501, in fit\n\n  File \"/mnt/sde1/My_Files/Code/Git_Repos/hve_projects/.venv/lib/python3.12/site-packages/scikeras/wrappers.py\", line 770, in fit\n\n  File \"/mnt/sde1/My_Files/Code/Git_Repos/hve_projects/.venv/lib/python3.12/site-packages/scikeras/wrappers.py\", line 938, in _fit\n\n  File \"/mnt/sde1/My_Files/Code/Git_Repos/hve_projects/.venv/lib/python3.12/site-packages/scikeras/wrappers.py\", line 535, in _fit_keras_model\n\n  File \"/mnt/sde1/My_Files/Code/Git_Repos/hve_projects/.venv/lib/python3.12/site-packages/keras/src/utils/traceback_utils.py\", line 117, in error_handler\n\n  File \"/mnt/sde1/My_Files/Code/Git_Repos/hve_projects/.venv/lib/python3.12/site-packages/keras/src/backend/tensorflow/trainer.py\", line 320, in fit\n\n  File \"/mnt/sde1/My_Files/Code/Git_Repos/hve_projects/.venv/lib/python3.12/site-packages/keras/src/backend/tensorflow/trainer.py\", line 121, in one_step_on_iterator\n\nFailed to determine best cudnn convolution algorithm for:\n%cudnn-conv-bias-activation.3 = (f32[32,32,30,30]{3,2,1,0}, u8[0]{0}) custom-call(f32[32,3,32,32]{3,2,1,0} %multiply.179, f32[32,3,3,3]{3,2,1,0} %transpose.69, f32[32]{0} %arg3.4), window={size=3x3}, dim_labels=bf01_oi01->bf01, custom_call_target=\"__cudnn$convBiasActivationForward\", metadata={op_type=\"Conv2D\" op_name=\"sequential_1_1/conv2d_1_1/convolution\" source_file=\"/mnt/sde1/My_Files/Code/Git_Repos/hve_projects/.venv/lib/python3.12/site-packages/tensorflow/python/framework/ops.py\" source_line=1177}, backend_config={\"operation_queue_id\":\"0\",\"wait_on_operation_queues\":[],\"cudnn_conv_backend_config\":{\"conv_result_scale\":1,\"activation_mode\":\"kNone\",\"side_input_scale\":0,\"leakyrelu_alpha\":0},\"force_earliest_schedule\":false}\n\nOriginal error: RESOURCE_EXHAUSTED: Out of memory while trying to allocate 17170432 bytes.\n\nTo ignore this failure and try to use a fallback algorithm (which may have suboptimal performance), use XLA_FLAGS=--xla_gpu_strict_conv_algorithm_picker=false.  Please also file a bug for the root cause of failing autotuning.\n\t [[{{node StatefulPartitionedCall}}]] [Op:__inference_one_step_on_iterator_2054]\n\n--------------------------------------------------------------------------------\n1 fits failed with the following error:\nTraceback (most recent call last):\n  File \"/mnt/sde1/My_Files/Code/Git_Repos/hve_projects/.venv/lib/python3.12/site-packages/sklearn/model_selection/_validation.py\", line 888, in _fit_and_score\n    estimator.fit(X_train, y_train, **fit_params)\n  File \"/mnt/sde1/My_Files/Code/Git_Repos/hve_projects/.venv/lib/python3.12/site-packages/scikeras/wrappers.py\", line 1501, in fit\n    super().fit(X=X, y=y, sample_weight=sample_weight, **kwargs)\n  File \"/mnt/sde1/My_Files/Code/Git_Repos/hve_projects/.venv/lib/python3.12/site-packages/scikeras/wrappers.py\", line 770, in fit\n    self._fit(\n  File \"/mnt/sde1/My_Files/Code/Git_Repos/hve_projects/.venv/lib/python3.12/site-packages/scikeras/wrappers.py\", line 938, in _fit\n    self._fit_keras_model(\n  File \"/mnt/sde1/My_Files/Code/Git_Repos/hve_projects/.venv/lib/python3.12/site-packages/scikeras/wrappers.py\", line 535, in _fit_keras_model\n    hist = self.model_.fit(x=X, y=y, **fit_args)\n           ^^^^^^^^^^^^^^^^^^^^^^^^^^^^^^^^^^^^^\n  File \"/mnt/sde1/My_Files/Code/Git_Repos/hve_projects/.venv/lib/python3.12/site-packages/keras/src/utils/traceback_utils.py\", line 122, in error_handler\n    raise e.with_traceback(filtered_tb) from None\n  File \"/mnt/sde1/My_Files/Code/Git_Repos/hve_projects/.venv/lib/python3.12/site-packages/tensorflow/python/eager/execute.py\", line 59, in quick_execute\n    except TypeError as e:\ntensorflow.python.framework.errors_impl.UnknownError: Graph execution error:\n\nDetected at node StatefulPartitionedCall defined at (most recent call last):\n  File \"<frozen runpy>\", line 198, in _run_module_as_main\n\n  File \"<frozen runpy>\", line 88, in _run_code\n\n  File \"/mnt/sde1/My_Files/Code/Git_Repos/hve_projects/.venv/lib/python3.12/site-packages/ipykernel_launcher.py\", line 18, in <module>\n\n  File \"/mnt/sde1/My_Files/Code/Git_Repos/hve_projects/.venv/lib/python3.12/site-packages/traitlets/config/application.py\", line 1075, in launch_instance\n\n  File \"/mnt/sde1/My_Files/Code/Git_Repos/hve_projects/.venv/lib/python3.12/site-packages/ipykernel/kernelapp.py\", line 739, in start\n\n  File \"/mnt/sde1/My_Files/Code/Git_Repos/hve_projects/.venv/lib/python3.12/site-packages/tornado/platform/asyncio.py\", line 205, in start\n\n  File \"/usr/lib/python3.12/asyncio/base_events.py\", line 641, in run_forever\n\n  File \"/usr/lib/python3.12/asyncio/base_events.py\", line 1987, in _run_once\n\n  File \"/usr/lib/python3.12/asyncio/events.py\", line 88, in _run\n\n  File \"/mnt/sde1/My_Files/Code/Git_Repos/hve_projects/.venv/lib/python3.12/site-packages/ipykernel/kernelbase.py\", line 545, in dispatch_queue\n\n  File \"/mnt/sde1/My_Files/Code/Git_Repos/hve_projects/.venv/lib/python3.12/site-packages/ipykernel/kernelbase.py\", line 534, in process_one\n\n  File \"/mnt/sde1/My_Files/Code/Git_Repos/hve_projects/.venv/lib/python3.12/site-packages/ipykernel/kernelbase.py\", line 437, in dispatch_shell\n\n  File \"/mnt/sde1/My_Files/Code/Git_Repos/hve_projects/.venv/lib/python3.12/site-packages/ipykernel/ipkernel.py\", line 362, in execute_request\n\n  File \"/mnt/sde1/My_Files/Code/Git_Repos/hve_projects/.venv/lib/python3.12/site-packages/ipykernel/kernelbase.py\", line 778, in execute_request\n\n  File \"/mnt/sde1/My_Files/Code/Git_Repos/hve_projects/.venv/lib/python3.12/site-packages/ipykernel/ipkernel.py\", line 449, in do_execute\n\n  File \"/mnt/sde1/My_Files/Code/Git_Repos/hve_projects/.venv/lib/python3.12/site-packages/ipykernel/zmqshell.py\", line 549, in run_cell\n\n  File \"/mnt/sde1/My_Files/Code/Git_Repos/hve_projects/.venv/lib/python3.12/site-packages/IPython/core/interactiveshell.py\", line 3075, in run_cell\n\n  File \"/mnt/sde1/My_Files/Code/Git_Repos/hve_projects/.venv/lib/python3.12/site-packages/IPython/core/interactiveshell.py\", line 3130, in _run_cell\n\n  File \"/mnt/sde1/My_Files/Code/Git_Repos/hve_projects/.venv/lib/python3.12/site-packages/IPython/core/async_helpers.py\", line 128, in _pseudo_sync_runner\n\n  File \"/mnt/sde1/My_Files/Code/Git_Repos/hve_projects/.venv/lib/python3.12/site-packages/IPython/core/interactiveshell.py\", line 3334, in run_cell_async\n\n  File \"/mnt/sde1/My_Files/Code/Git_Repos/hve_projects/.venv/lib/python3.12/site-packages/IPython/core/interactiveshell.py\", line 3517, in run_ast_nodes\n\n  File \"/mnt/sde1/My_Files/Code/Git_Repos/hve_projects/.venv/lib/python3.12/site-packages/IPython/core/interactiveshell.py\", line 3577, in run_code\n\n  File \"/tmp/ipykernel_89263/4030023438.py\", line 9, in <module>\n\n  File \"/mnt/sde1/My_Files/Code/Git_Repos/hve_projects/.venv/lib/python3.12/site-packages/sklearn/utils/_param_validation.py\", line 213, in wrapper\n\n  File \"/mnt/sde1/My_Files/Code/Git_Repos/hve_projects/.venv/lib/python3.12/site-packages/sklearn/model_selection/_validation.py\", line 712, in cross_val_score\n\n  File \"/mnt/sde1/My_Files/Code/Git_Repos/hve_projects/.venv/lib/python3.12/site-packages/sklearn/utils/_param_validation.py\", line 213, in wrapper\n\n  File \"/mnt/sde1/My_Files/Code/Git_Repos/hve_projects/.venv/lib/python3.12/site-packages/sklearn/model_selection/_validation.py\", line 423, in cross_validate\n\n  File \"/mnt/sde1/My_Files/Code/Git_Repos/hve_projects/.venv/lib/python3.12/site-packages/sklearn/utils/parallel.py\", line 74, in __call__\n\n  File \"/mnt/sde1/My_Files/Code/Git_Repos/hve_projects/.venv/lib/python3.12/site-packages/joblib/parallel.py\", line 1918, in __call__\n\n  File \"/mnt/sde1/My_Files/Code/Git_Repos/hve_projects/.venv/lib/python3.12/site-packages/joblib/parallel.py\", line 1847, in _get_sequential_output\n\n  File \"/mnt/sde1/My_Files/Code/Git_Repos/hve_projects/.venv/lib/python3.12/site-packages/sklearn/utils/parallel.py\", line 136, in __call__\n\n  File \"/mnt/sde1/My_Files/Code/Git_Repos/hve_projects/.venv/lib/python3.12/site-packages/sklearn/model_selection/_validation.py\", line 888, in _fit_and_score\n\n  File \"/mnt/sde1/My_Files/Code/Git_Repos/hve_projects/.venv/lib/python3.12/site-packages/scikeras/wrappers.py\", line 1501, in fit\n\n  File \"/mnt/sde1/My_Files/Code/Git_Repos/hve_projects/.venv/lib/python3.12/site-packages/scikeras/wrappers.py\", line 770, in fit\n\n  File \"/mnt/sde1/My_Files/Code/Git_Repos/hve_projects/.venv/lib/python3.12/site-packages/scikeras/wrappers.py\", line 938, in _fit\n\n  File \"/mnt/sde1/My_Files/Code/Git_Repos/hve_projects/.venv/lib/python3.12/site-packages/scikeras/wrappers.py\", line 535, in _fit_keras_model\n\n  File \"/mnt/sde1/My_Files/Code/Git_Repos/hve_projects/.venv/lib/python3.12/site-packages/keras/src/utils/traceback_utils.py\", line 117, in error_handler\n\n  File \"/mnt/sde1/My_Files/Code/Git_Repos/hve_projects/.venv/lib/python3.12/site-packages/keras/src/backend/tensorflow/trainer.py\", line 320, in fit\n\n  File \"/mnt/sde1/My_Files/Code/Git_Repos/hve_projects/.venv/lib/python3.12/site-packages/keras/src/backend/tensorflow/trainer.py\", line 121, in one_step_on_iterator\n\nFailed to determine best cudnn convolution algorithm for:\n%cudnn-conv-bias-activation.3 = (f32[32,32,30,30]{3,2,1,0}, u8[0]{0}) custom-call(f32[32,3,32,32]{3,2,1,0} %multiply.179, f32[32,3,3,3]{3,2,1,0} %transpose.69, f32[32]{0} %arg3.4), window={size=3x3}, dim_labels=bf01_oi01->bf01, custom_call_target=\"__cudnn$convBiasActivationForward\", metadata={op_type=\"Conv2D\" op_name=\"sequential_1_1/conv2d_1_1/convolution\" source_file=\"/mnt/sde1/My_Files/Code/Git_Repos/hve_projects/.venv/lib/python3.12/site-packages/tensorflow/python/framework/ops.py\" source_line=1177}, backend_config={\"operation_queue_id\":\"0\",\"wait_on_operation_queues\":[],\"cudnn_conv_backend_config\":{\"conv_result_scale\":1,\"activation_mode\":\"kNone\",\"side_input_scale\":0,\"leakyrelu_alpha\":0},\"force_earliest_schedule\":false}\n\nOriginal error: RESOURCE_EXHAUSTED: Out of memory while trying to allocate 17170432 bytes.\n\nTo ignore this failure and try to use a fallback algorithm (which may have suboptimal performance), use XLA_FLAGS=--xla_gpu_strict_conv_algorithm_picker=false.  Please also file a bug for the root cause of failing autotuning.\n\t [[{{node StatefulPartitionedCall}}]] [Op:__inference_one_step_on_iterator_3904]\n\n--------------------------------------------------------------------------------\n1 fits failed with the following error:\nTraceback (most recent call last):\n  File \"/mnt/sde1/My_Files/Code/Git_Repos/hve_projects/.venv/lib/python3.12/site-packages/sklearn/model_selection/_validation.py\", line 888, in _fit_and_score\n    estimator.fit(X_train, y_train, **fit_params)\n  File \"/mnt/sde1/My_Files/Code/Git_Repos/hve_projects/.venv/lib/python3.12/site-packages/scikeras/wrappers.py\", line 1501, in fit\n    super().fit(X=X, y=y, sample_weight=sample_weight, **kwargs)\n  File \"/mnt/sde1/My_Files/Code/Git_Repos/hve_projects/.venv/lib/python3.12/site-packages/scikeras/wrappers.py\", line 770, in fit\n    self._fit(\n  File \"/mnt/sde1/My_Files/Code/Git_Repos/hve_projects/.venv/lib/python3.12/site-packages/scikeras/wrappers.py\", line 938, in _fit\n    self._fit_keras_model(\n  File \"/mnt/sde1/My_Files/Code/Git_Repos/hve_projects/.venv/lib/python3.12/site-packages/scikeras/wrappers.py\", line 535, in _fit_keras_model\n    hist = self.model_.fit(x=X, y=y, **fit_args)\n           ^^^^^^^^^^^^^^^^^^^^^^^^^^^^^^^^^^^^^\n  File \"/mnt/sde1/My_Files/Code/Git_Repos/hve_projects/.venv/lib/python3.12/site-packages/keras/src/utils/traceback_utils.py\", line 122, in error_handler\n    raise e.with_traceback(filtered_tb) from None\n  File \"/mnt/sde1/My_Files/Code/Git_Repos/hve_projects/.venv/lib/python3.12/site-packages/tensorflow/python/eager/execute.py\", line 59, in quick_execute\n    except TypeError as e:\ntensorflow.python.framework.errors_impl.UnknownError: Graph execution error:\n\nDetected at node StatefulPartitionedCall defined at (most recent call last):\n  File \"<frozen runpy>\", line 198, in _run_module_as_main\n\n  File \"<frozen runpy>\", line 88, in _run_code\n\n  File \"/mnt/sde1/My_Files/Code/Git_Repos/hve_projects/.venv/lib/python3.12/site-packages/ipykernel_launcher.py\", line 18, in <module>\n\n  File \"/mnt/sde1/My_Files/Code/Git_Repos/hve_projects/.venv/lib/python3.12/site-packages/traitlets/config/application.py\", line 1075, in launch_instance\n\n  File \"/mnt/sde1/My_Files/Code/Git_Repos/hve_projects/.venv/lib/python3.12/site-packages/ipykernel/kernelapp.py\", line 739, in start\n\n  File \"/mnt/sde1/My_Files/Code/Git_Repos/hve_projects/.venv/lib/python3.12/site-packages/tornado/platform/asyncio.py\", line 205, in start\n\n  File \"/usr/lib/python3.12/asyncio/base_events.py\", line 641, in run_forever\n\n  File \"/usr/lib/python3.12/asyncio/base_events.py\", line 1987, in _run_once\n\n  File \"/usr/lib/python3.12/asyncio/events.py\", line 88, in _run\n\n  File \"/mnt/sde1/My_Files/Code/Git_Repos/hve_projects/.venv/lib/python3.12/site-packages/ipykernel/kernelbase.py\", line 545, in dispatch_queue\n\n  File \"/mnt/sde1/My_Files/Code/Git_Repos/hve_projects/.venv/lib/python3.12/site-packages/ipykernel/kernelbase.py\", line 534, in process_one\n\n  File \"/mnt/sde1/My_Files/Code/Git_Repos/hve_projects/.venv/lib/python3.12/site-packages/ipykernel/kernelbase.py\", line 437, in dispatch_shell\n\n  File \"/mnt/sde1/My_Files/Code/Git_Repos/hve_projects/.venv/lib/python3.12/site-packages/ipykernel/ipkernel.py\", line 362, in execute_request\n\n  File \"/mnt/sde1/My_Files/Code/Git_Repos/hve_projects/.venv/lib/python3.12/site-packages/ipykernel/kernelbase.py\", line 778, in execute_request\n\n  File \"/mnt/sde1/My_Files/Code/Git_Repos/hve_projects/.venv/lib/python3.12/site-packages/ipykernel/ipkernel.py\", line 449, in do_execute\n\n  File \"/mnt/sde1/My_Files/Code/Git_Repos/hve_projects/.venv/lib/python3.12/site-packages/ipykernel/zmqshell.py\", line 549, in run_cell\n\n  File \"/mnt/sde1/My_Files/Code/Git_Repos/hve_projects/.venv/lib/python3.12/site-packages/IPython/core/interactiveshell.py\", line 3075, in run_cell\n\n  File \"/mnt/sde1/My_Files/Code/Git_Repos/hve_projects/.venv/lib/python3.12/site-packages/IPython/core/interactiveshell.py\", line 3130, in _run_cell\n\n  File \"/mnt/sde1/My_Files/Code/Git_Repos/hve_projects/.venv/lib/python3.12/site-packages/IPython/core/async_helpers.py\", line 128, in _pseudo_sync_runner\n\n  File \"/mnt/sde1/My_Files/Code/Git_Repos/hve_projects/.venv/lib/python3.12/site-packages/IPython/core/interactiveshell.py\", line 3334, in run_cell_async\n\n  File \"/mnt/sde1/My_Files/Code/Git_Repos/hve_projects/.venv/lib/python3.12/site-packages/IPython/core/interactiveshell.py\", line 3517, in run_ast_nodes\n\n  File \"/mnt/sde1/My_Files/Code/Git_Repos/hve_projects/.venv/lib/python3.12/site-packages/IPython/core/interactiveshell.py\", line 3577, in run_code\n\n  File \"/tmp/ipykernel_89263/4030023438.py\", line 9, in <module>\n\n  File \"/mnt/sde1/My_Files/Code/Git_Repos/hve_projects/.venv/lib/python3.12/site-packages/sklearn/utils/_param_validation.py\", line 213, in wrapper\n\n  File \"/mnt/sde1/My_Files/Code/Git_Repos/hve_projects/.venv/lib/python3.12/site-packages/sklearn/model_selection/_validation.py\", line 712, in cross_val_score\n\n  File \"/mnt/sde1/My_Files/Code/Git_Repos/hve_projects/.venv/lib/python3.12/site-packages/sklearn/utils/_param_validation.py\", line 213, in wrapper\n\n  File \"/mnt/sde1/My_Files/Code/Git_Repos/hve_projects/.venv/lib/python3.12/site-packages/sklearn/model_selection/_validation.py\", line 423, in cross_validate\n\n  File \"/mnt/sde1/My_Files/Code/Git_Repos/hve_projects/.venv/lib/python3.12/site-packages/sklearn/utils/parallel.py\", line 74, in __call__\n\n  File \"/mnt/sde1/My_Files/Code/Git_Repos/hve_projects/.venv/lib/python3.12/site-packages/joblib/parallel.py\", line 1918, in __call__\n\n  File \"/mnt/sde1/My_Files/Code/Git_Repos/hve_projects/.venv/lib/python3.12/site-packages/joblib/parallel.py\", line 1847, in _get_sequential_output\n\n  File \"/mnt/sde1/My_Files/Code/Git_Repos/hve_projects/.venv/lib/python3.12/site-packages/sklearn/utils/parallel.py\", line 136, in __call__\n\n  File \"/mnt/sde1/My_Files/Code/Git_Repos/hve_projects/.venv/lib/python3.12/site-packages/sklearn/model_selection/_validation.py\", line 888, in _fit_and_score\n\n  File \"/mnt/sde1/My_Files/Code/Git_Repos/hve_projects/.venv/lib/python3.12/site-packages/scikeras/wrappers.py\", line 1501, in fit\n\n  File \"/mnt/sde1/My_Files/Code/Git_Repos/hve_projects/.venv/lib/python3.12/site-packages/scikeras/wrappers.py\", line 770, in fit\n\n  File \"/mnt/sde1/My_Files/Code/Git_Repos/hve_projects/.venv/lib/python3.12/site-packages/scikeras/wrappers.py\", line 938, in _fit\n\n  File \"/mnt/sde1/My_Files/Code/Git_Repos/hve_projects/.venv/lib/python3.12/site-packages/scikeras/wrappers.py\", line 535, in _fit_keras_model\n\n  File \"/mnt/sde1/My_Files/Code/Git_Repos/hve_projects/.venv/lib/python3.12/site-packages/keras/src/utils/traceback_utils.py\", line 117, in error_handler\n\n  File \"/mnt/sde1/My_Files/Code/Git_Repos/hve_projects/.venv/lib/python3.12/site-packages/keras/src/backend/tensorflow/trainer.py\", line 320, in fit\n\n  File \"/mnt/sde1/My_Files/Code/Git_Repos/hve_projects/.venv/lib/python3.12/site-packages/keras/src/backend/tensorflow/trainer.py\", line 121, in one_step_on_iterator\n\nFailed to determine best cudnn convolution algorithm for:\n%cudnn-conv-bias-activation.3 = (f32[32,32,30,30]{3,2,1,0}, u8[0]{0}) custom-call(f32[32,3,32,32]{3,2,1,0} %multiply.179, f32[32,3,3,3]{3,2,1,0} %transpose.69, f32[32]{0} %arg3.4), window={size=3x3}, dim_labels=bf01_oi01->bf01, custom_call_target=\"__cudnn$convBiasActivationForward\", metadata={op_type=\"Conv2D\" op_name=\"sequential_1_1/conv2d_1_1/convolution\" source_file=\"/mnt/sde1/My_Files/Code/Git_Repos/hve_projects/.venv/lib/python3.12/site-packages/tensorflow/python/framework/ops.py\" source_line=1177}, backend_config={\"operation_queue_id\":\"0\",\"wait_on_operation_queues\":[],\"cudnn_conv_backend_config\":{\"conv_result_scale\":1,\"activation_mode\":\"kNone\",\"side_input_scale\":0,\"leakyrelu_alpha\":0},\"force_earliest_schedule\":false}\n\nOriginal error: RESOURCE_EXHAUSTED: Out of memory while trying to allocate 17170432 bytes.\n\nTo ignore this failure and try to use a fallback algorithm (which may have suboptimal performance), use XLA_FLAGS=--xla_gpu_strict_conv_algorithm_picker=false.  Please also file a bug for the root cause of failing autotuning.\n\t [[{{node StatefulPartitionedCall}}]] [Op:__inference_one_step_on_iterator_5754]\n\n--------------------------------------------------------------------------------\n1 fits failed with the following error:\nTraceback (most recent call last):\n  File \"/mnt/sde1/My_Files/Code/Git_Repos/hve_projects/.venv/lib/python3.12/site-packages/sklearn/model_selection/_validation.py\", line 888, in _fit_and_score\n    estimator.fit(X_train, y_train, **fit_params)\n  File \"/mnt/sde1/My_Files/Code/Git_Repos/hve_projects/.venv/lib/python3.12/site-packages/scikeras/wrappers.py\", line 1501, in fit\n    super().fit(X=X, y=y, sample_weight=sample_weight, **kwargs)\n  File \"/mnt/sde1/My_Files/Code/Git_Repos/hve_projects/.venv/lib/python3.12/site-packages/scikeras/wrappers.py\", line 770, in fit\n    self._fit(\n  File \"/mnt/sde1/My_Files/Code/Git_Repos/hve_projects/.venv/lib/python3.12/site-packages/scikeras/wrappers.py\", line 938, in _fit\n    self._fit_keras_model(\n  File \"/mnt/sde1/My_Files/Code/Git_Repos/hve_projects/.venv/lib/python3.12/site-packages/scikeras/wrappers.py\", line 535, in _fit_keras_model\n    hist = self.model_.fit(x=X, y=y, **fit_args)\n           ^^^^^^^^^^^^^^^^^^^^^^^^^^^^^^^^^^^^^\n  File \"/mnt/sde1/My_Files/Code/Git_Repos/hve_projects/.venv/lib/python3.12/site-packages/keras/src/utils/traceback_utils.py\", line 122, in error_handler\n    raise e.with_traceback(filtered_tb) from None\n  File \"/mnt/sde1/My_Files/Code/Git_Repos/hve_projects/.venv/lib/python3.12/site-packages/tensorflow/python/eager/execute.py\", line 59, in quick_execute\n    except TypeError as e:\ntensorflow.python.framework.errors_impl.UnknownError: Graph execution error:\n\nDetected at node StatefulPartitionedCall defined at (most recent call last):\n  File \"<frozen runpy>\", line 198, in _run_module_as_main\n\n  File \"<frozen runpy>\", line 88, in _run_code\n\n  File \"/mnt/sde1/My_Files/Code/Git_Repos/hve_projects/.venv/lib/python3.12/site-packages/ipykernel_launcher.py\", line 18, in <module>\n\n  File \"/mnt/sde1/My_Files/Code/Git_Repos/hve_projects/.venv/lib/python3.12/site-packages/traitlets/config/application.py\", line 1075, in launch_instance\n\n  File \"/mnt/sde1/My_Files/Code/Git_Repos/hve_projects/.venv/lib/python3.12/site-packages/ipykernel/kernelapp.py\", line 739, in start\n\n  File \"/mnt/sde1/My_Files/Code/Git_Repos/hve_projects/.venv/lib/python3.12/site-packages/tornado/platform/asyncio.py\", line 205, in start\n\n  File \"/usr/lib/python3.12/asyncio/base_events.py\", line 641, in run_forever\n\n  File \"/usr/lib/python3.12/asyncio/base_events.py\", line 1987, in _run_once\n\n  File \"/usr/lib/python3.12/asyncio/events.py\", line 88, in _run\n\n  File \"/mnt/sde1/My_Files/Code/Git_Repos/hve_projects/.venv/lib/python3.12/site-packages/ipykernel/kernelbase.py\", line 545, in dispatch_queue\n\n  File \"/mnt/sde1/My_Files/Code/Git_Repos/hve_projects/.venv/lib/python3.12/site-packages/ipykernel/kernelbase.py\", line 534, in process_one\n\n  File \"/mnt/sde1/My_Files/Code/Git_Repos/hve_projects/.venv/lib/python3.12/site-packages/ipykernel/kernelbase.py\", line 437, in dispatch_shell\n\n  File \"/mnt/sde1/My_Files/Code/Git_Repos/hve_projects/.venv/lib/python3.12/site-packages/ipykernel/ipkernel.py\", line 362, in execute_request\n\n  File \"/mnt/sde1/My_Files/Code/Git_Repos/hve_projects/.venv/lib/python3.12/site-packages/ipykernel/kernelbase.py\", line 778, in execute_request\n\n  File \"/mnt/sde1/My_Files/Code/Git_Repos/hve_projects/.venv/lib/python3.12/site-packages/ipykernel/ipkernel.py\", line 449, in do_execute\n\n  File \"/mnt/sde1/My_Files/Code/Git_Repos/hve_projects/.venv/lib/python3.12/site-packages/ipykernel/zmqshell.py\", line 549, in run_cell\n\n  File \"/mnt/sde1/My_Files/Code/Git_Repos/hve_projects/.venv/lib/python3.12/site-packages/IPython/core/interactiveshell.py\", line 3075, in run_cell\n\n  File \"/mnt/sde1/My_Files/Code/Git_Repos/hve_projects/.venv/lib/python3.12/site-packages/IPython/core/interactiveshell.py\", line 3130, in _run_cell\n\n  File \"/mnt/sde1/My_Files/Code/Git_Repos/hve_projects/.venv/lib/python3.12/site-packages/IPython/core/async_helpers.py\", line 128, in _pseudo_sync_runner\n\n  File \"/mnt/sde1/My_Files/Code/Git_Repos/hve_projects/.venv/lib/python3.12/site-packages/IPython/core/interactiveshell.py\", line 3334, in run_cell_async\n\n  File \"/mnt/sde1/My_Files/Code/Git_Repos/hve_projects/.venv/lib/python3.12/site-packages/IPython/core/interactiveshell.py\", line 3517, in run_ast_nodes\n\n  File \"/mnt/sde1/My_Files/Code/Git_Repos/hve_projects/.venv/lib/python3.12/site-packages/IPython/core/interactiveshell.py\", line 3577, in run_code\n\n  File \"/tmp/ipykernel_89263/4030023438.py\", line 9, in <module>\n\n  File \"/mnt/sde1/My_Files/Code/Git_Repos/hve_projects/.venv/lib/python3.12/site-packages/sklearn/utils/_param_validation.py\", line 213, in wrapper\n\n  File \"/mnt/sde1/My_Files/Code/Git_Repos/hve_projects/.venv/lib/python3.12/site-packages/sklearn/model_selection/_validation.py\", line 712, in cross_val_score\n\n  File \"/mnt/sde1/My_Files/Code/Git_Repos/hve_projects/.venv/lib/python3.12/site-packages/sklearn/utils/_param_validation.py\", line 213, in wrapper\n\n  File \"/mnt/sde1/My_Files/Code/Git_Repos/hve_projects/.venv/lib/python3.12/site-packages/sklearn/model_selection/_validation.py\", line 423, in cross_validate\n\n  File \"/mnt/sde1/My_Files/Code/Git_Repos/hve_projects/.venv/lib/python3.12/site-packages/sklearn/utils/parallel.py\", line 74, in __call__\n\n  File \"/mnt/sde1/My_Files/Code/Git_Repos/hve_projects/.venv/lib/python3.12/site-packages/joblib/parallel.py\", line 1918, in __call__\n\n  File \"/mnt/sde1/My_Files/Code/Git_Repos/hve_projects/.venv/lib/python3.12/site-packages/joblib/parallel.py\", line 1847, in _get_sequential_output\n\n  File \"/mnt/sde1/My_Files/Code/Git_Repos/hve_projects/.venv/lib/python3.12/site-packages/sklearn/utils/parallel.py\", line 136, in __call__\n\n  File \"/mnt/sde1/My_Files/Code/Git_Repos/hve_projects/.venv/lib/python3.12/site-packages/sklearn/model_selection/_validation.py\", line 888, in _fit_and_score\n\n  File \"/mnt/sde1/My_Files/Code/Git_Repos/hve_projects/.venv/lib/python3.12/site-packages/scikeras/wrappers.py\", line 1501, in fit\n\n  File \"/mnt/sde1/My_Files/Code/Git_Repos/hve_projects/.venv/lib/python3.12/site-packages/scikeras/wrappers.py\", line 770, in fit\n\n  File \"/mnt/sde1/My_Files/Code/Git_Repos/hve_projects/.venv/lib/python3.12/site-packages/scikeras/wrappers.py\", line 938, in _fit\n\n  File \"/mnt/sde1/My_Files/Code/Git_Repos/hve_projects/.venv/lib/python3.12/site-packages/scikeras/wrappers.py\", line 535, in _fit_keras_model\n\n  File \"/mnt/sde1/My_Files/Code/Git_Repos/hve_projects/.venv/lib/python3.12/site-packages/keras/src/utils/traceback_utils.py\", line 117, in error_handler\n\n  File \"/mnt/sde1/My_Files/Code/Git_Repos/hve_projects/.venv/lib/python3.12/site-packages/keras/src/backend/tensorflow/trainer.py\", line 320, in fit\n\n  File \"/mnt/sde1/My_Files/Code/Git_Repos/hve_projects/.venv/lib/python3.12/site-packages/keras/src/backend/tensorflow/trainer.py\", line 121, in one_step_on_iterator\n\nFailed to determine best cudnn convolution algorithm for:\n%cudnn-conv-bias-activation.3 = (f32[32,32,30,30]{3,2,1,0}, u8[0]{0}) custom-call(f32[32,3,32,32]{3,2,1,0} %multiply.179, f32[32,3,3,3]{3,2,1,0} %transpose.69, f32[32]{0} %arg3.4), window={size=3x3}, dim_labels=bf01_oi01->bf01, custom_call_target=\"__cudnn$convBiasActivationForward\", metadata={op_type=\"Conv2D\" op_name=\"sequential_1_1/conv2d_1_1/convolution\" source_file=\"/mnt/sde1/My_Files/Code/Git_Repos/hve_projects/.venv/lib/python3.12/site-packages/tensorflow/python/framework/ops.py\" source_line=1177}, backend_config={\"operation_queue_id\":\"0\",\"wait_on_operation_queues\":[],\"cudnn_conv_backend_config\":{\"conv_result_scale\":1,\"activation_mode\":\"kNone\",\"side_input_scale\":0,\"leakyrelu_alpha\":0},\"force_earliest_schedule\":false}\n\nOriginal error: RESOURCE_EXHAUSTED: Out of memory while trying to allocate 17170432 bytes.\n\nTo ignore this failure and try to use a fallback algorithm (which may have suboptimal performance), use XLA_FLAGS=--xla_gpu_strict_conv_algorithm_picker=false.  Please also file a bug for the root cause of failing autotuning.\n\t [[{{node StatefulPartitionedCall}}]] [Op:__inference_one_step_on_iterator_7604]\n\n--------------------------------------------------------------------------------\n1 fits failed with the following error:\nTraceback (most recent call last):\n  File \"/mnt/sde1/My_Files/Code/Git_Repos/hve_projects/.venv/lib/python3.12/site-packages/sklearn/model_selection/_validation.py\", line 888, in _fit_and_score\n    estimator.fit(X_train, y_train, **fit_params)\n  File \"/mnt/sde1/My_Files/Code/Git_Repos/hve_projects/.venv/lib/python3.12/site-packages/scikeras/wrappers.py\", line 1501, in fit\n    super().fit(X=X, y=y, sample_weight=sample_weight, **kwargs)\n  File \"/mnt/sde1/My_Files/Code/Git_Repos/hve_projects/.venv/lib/python3.12/site-packages/scikeras/wrappers.py\", line 770, in fit\n    self._fit(\n  File \"/mnt/sde1/My_Files/Code/Git_Repos/hve_projects/.venv/lib/python3.12/site-packages/scikeras/wrappers.py\", line 938, in _fit\n    self._fit_keras_model(\n  File \"/mnt/sde1/My_Files/Code/Git_Repos/hve_projects/.venv/lib/python3.12/site-packages/scikeras/wrappers.py\", line 535, in _fit_keras_model\n    hist = self.model_.fit(x=X, y=y, **fit_args)\n           ^^^^^^^^^^^^^^^^^^^^^^^^^^^^^^^^^^^^^\n  File \"/mnt/sde1/My_Files/Code/Git_Repos/hve_projects/.venv/lib/python3.12/site-packages/keras/src/utils/traceback_utils.py\", line 122, in error_handler\n    raise e.with_traceback(filtered_tb) from None\n  File \"/mnt/sde1/My_Files/Code/Git_Repos/hve_projects/.venv/lib/python3.12/site-packages/tensorflow/python/eager/execute.py\", line 59, in quick_execute\n    except TypeError as e:\ntensorflow.python.framework.errors_impl.UnknownError: Graph execution error:\n\nDetected at node StatefulPartitionedCall defined at (most recent call last):\n  File \"<frozen runpy>\", line 198, in _run_module_as_main\n\n  File \"<frozen runpy>\", line 88, in _run_code\n\n  File \"/mnt/sde1/My_Files/Code/Git_Repos/hve_projects/.venv/lib/python3.12/site-packages/ipykernel_launcher.py\", line 18, in <module>\n\n  File \"/mnt/sde1/My_Files/Code/Git_Repos/hve_projects/.venv/lib/python3.12/site-packages/traitlets/config/application.py\", line 1075, in launch_instance\n\n  File \"/mnt/sde1/My_Files/Code/Git_Repos/hve_projects/.venv/lib/python3.12/site-packages/ipykernel/kernelapp.py\", line 739, in start\n\n  File \"/mnt/sde1/My_Files/Code/Git_Repos/hve_projects/.venv/lib/python3.12/site-packages/tornado/platform/asyncio.py\", line 205, in start\n\n  File \"/usr/lib/python3.12/asyncio/base_events.py\", line 641, in run_forever\n\n  File \"/usr/lib/python3.12/asyncio/base_events.py\", line 1987, in _run_once\n\n  File \"/usr/lib/python3.12/asyncio/events.py\", line 88, in _run\n\n  File \"/mnt/sde1/My_Files/Code/Git_Repos/hve_projects/.venv/lib/python3.12/site-packages/ipykernel/kernelbase.py\", line 545, in dispatch_queue\n\n  File \"/mnt/sde1/My_Files/Code/Git_Repos/hve_projects/.venv/lib/python3.12/site-packages/ipykernel/kernelbase.py\", line 534, in process_one\n\n  File \"/mnt/sde1/My_Files/Code/Git_Repos/hve_projects/.venv/lib/python3.12/site-packages/ipykernel/kernelbase.py\", line 437, in dispatch_shell\n\n  File \"/mnt/sde1/My_Files/Code/Git_Repos/hve_projects/.venv/lib/python3.12/site-packages/ipykernel/ipkernel.py\", line 362, in execute_request\n\n  File \"/mnt/sde1/My_Files/Code/Git_Repos/hve_projects/.venv/lib/python3.12/site-packages/ipykernel/kernelbase.py\", line 778, in execute_request\n\n  File \"/mnt/sde1/My_Files/Code/Git_Repos/hve_projects/.venv/lib/python3.12/site-packages/ipykernel/ipkernel.py\", line 449, in do_execute\n\n  File \"/mnt/sde1/My_Files/Code/Git_Repos/hve_projects/.venv/lib/python3.12/site-packages/ipykernel/zmqshell.py\", line 549, in run_cell\n\n  File \"/mnt/sde1/My_Files/Code/Git_Repos/hve_projects/.venv/lib/python3.12/site-packages/IPython/core/interactiveshell.py\", line 3075, in run_cell\n\n  File \"/mnt/sde1/My_Files/Code/Git_Repos/hve_projects/.venv/lib/python3.12/site-packages/IPython/core/interactiveshell.py\", line 3130, in _run_cell\n\n  File \"/mnt/sde1/My_Files/Code/Git_Repos/hve_projects/.venv/lib/python3.12/site-packages/IPython/core/async_helpers.py\", line 128, in _pseudo_sync_runner\n\n  File \"/mnt/sde1/My_Files/Code/Git_Repos/hve_projects/.venv/lib/python3.12/site-packages/IPython/core/interactiveshell.py\", line 3334, in run_cell_async\n\n  File \"/mnt/sde1/My_Files/Code/Git_Repos/hve_projects/.venv/lib/python3.12/site-packages/IPython/core/interactiveshell.py\", line 3517, in run_ast_nodes\n\n  File \"/mnt/sde1/My_Files/Code/Git_Repos/hve_projects/.venv/lib/python3.12/site-packages/IPython/core/interactiveshell.py\", line 3577, in run_code\n\n  File \"/tmp/ipykernel_89263/4030023438.py\", line 9, in <module>\n\n  File \"/mnt/sde1/My_Files/Code/Git_Repos/hve_projects/.venv/lib/python3.12/site-packages/sklearn/utils/_param_validation.py\", line 213, in wrapper\n\n  File \"/mnt/sde1/My_Files/Code/Git_Repos/hve_projects/.venv/lib/python3.12/site-packages/sklearn/model_selection/_validation.py\", line 712, in cross_val_score\n\n  File \"/mnt/sde1/My_Files/Code/Git_Repos/hve_projects/.venv/lib/python3.12/site-packages/sklearn/utils/_param_validation.py\", line 213, in wrapper\n\n  File \"/mnt/sde1/My_Files/Code/Git_Repos/hve_projects/.venv/lib/python3.12/site-packages/sklearn/model_selection/_validation.py\", line 423, in cross_validate\n\n  File \"/mnt/sde1/My_Files/Code/Git_Repos/hve_projects/.venv/lib/python3.12/site-packages/sklearn/utils/parallel.py\", line 74, in __call__\n\n  File \"/mnt/sde1/My_Files/Code/Git_Repos/hve_projects/.venv/lib/python3.12/site-packages/joblib/parallel.py\", line 1918, in __call__\n\n  File \"/mnt/sde1/My_Files/Code/Git_Repos/hve_projects/.venv/lib/python3.12/site-packages/joblib/parallel.py\", line 1847, in _get_sequential_output\n\n  File \"/mnt/sde1/My_Files/Code/Git_Repos/hve_projects/.venv/lib/python3.12/site-packages/sklearn/utils/parallel.py\", line 136, in __call__\n\n  File \"/mnt/sde1/My_Files/Code/Git_Repos/hve_projects/.venv/lib/python3.12/site-packages/sklearn/model_selection/_validation.py\", line 888, in _fit_and_score\n\n  File \"/mnt/sde1/My_Files/Code/Git_Repos/hve_projects/.venv/lib/python3.12/site-packages/scikeras/wrappers.py\", line 1501, in fit\n\n  File \"/mnt/sde1/My_Files/Code/Git_Repos/hve_projects/.venv/lib/python3.12/site-packages/scikeras/wrappers.py\", line 770, in fit\n\n  File \"/mnt/sde1/My_Files/Code/Git_Repos/hve_projects/.venv/lib/python3.12/site-packages/scikeras/wrappers.py\", line 938, in _fit\n\n  File \"/mnt/sde1/My_Files/Code/Git_Repos/hve_projects/.venv/lib/python3.12/site-packages/scikeras/wrappers.py\", line 535, in _fit_keras_model\n\n  File \"/mnt/sde1/My_Files/Code/Git_Repos/hve_projects/.venv/lib/python3.12/site-packages/keras/src/utils/traceback_utils.py\", line 117, in error_handler\n\n  File \"/mnt/sde1/My_Files/Code/Git_Repos/hve_projects/.venv/lib/python3.12/site-packages/keras/src/backend/tensorflow/trainer.py\", line 320, in fit\n\n  File \"/mnt/sde1/My_Files/Code/Git_Repos/hve_projects/.venv/lib/python3.12/site-packages/keras/src/backend/tensorflow/trainer.py\", line 121, in one_step_on_iterator\n\nFailed to determine best cudnn convolution algorithm for:\n%cudnn-conv-bias-activation.3 = (f32[32,32,30,30]{3,2,1,0}, u8[0]{0}) custom-call(f32[32,3,32,32]{3,2,1,0} %multiply.179, f32[32,3,3,3]{3,2,1,0} %transpose.69, f32[32]{0} %arg3.4), window={size=3x3}, dim_labels=bf01_oi01->bf01, custom_call_target=\"__cudnn$convBiasActivationForward\", metadata={op_type=\"Conv2D\" op_name=\"sequential_1_1/conv2d_1_1/convolution\" source_file=\"/mnt/sde1/My_Files/Code/Git_Repos/hve_projects/.venv/lib/python3.12/site-packages/tensorflow/python/framework/ops.py\" source_line=1177}, backend_config={\"operation_queue_id\":\"0\",\"wait_on_operation_queues\":[],\"cudnn_conv_backend_config\":{\"conv_result_scale\":1,\"activation_mode\":\"kNone\",\"side_input_scale\":0,\"leakyrelu_alpha\":0},\"force_earliest_schedule\":false}\n\nOriginal error: RESOURCE_EXHAUSTED: Out of memory while trying to allocate 17170432 bytes.\n\nTo ignore this failure and try to use a fallback algorithm (which may have suboptimal performance), use XLA_FLAGS=--xla_gpu_strict_conv_algorithm_picker=false.  Please also file a bug for the root cause of failing autotuning.\n\t [[{{node StatefulPartitionedCall}}]] [Op:__inference_one_step_on_iterator_9454]\n\n--------------------------------------------------------------------------------\n1 fits failed with the following error:\nTraceback (most recent call last):\n  File \"/mnt/sde1/My_Files/Code/Git_Repos/hve_projects/.venv/lib/python3.12/site-packages/sklearn/model_selection/_validation.py\", line 888, in _fit_and_score\n    estimator.fit(X_train, y_train, **fit_params)\n  File \"/mnt/sde1/My_Files/Code/Git_Repos/hve_projects/.venv/lib/python3.12/site-packages/scikeras/wrappers.py\", line 1501, in fit\n    super().fit(X=X, y=y, sample_weight=sample_weight, **kwargs)\n  File \"/mnt/sde1/My_Files/Code/Git_Repos/hve_projects/.venv/lib/python3.12/site-packages/scikeras/wrappers.py\", line 770, in fit\n    self._fit(\n  File \"/mnt/sde1/My_Files/Code/Git_Repos/hve_projects/.venv/lib/python3.12/site-packages/scikeras/wrappers.py\", line 938, in _fit\n    self._fit_keras_model(\n  File \"/mnt/sde1/My_Files/Code/Git_Repos/hve_projects/.venv/lib/python3.12/site-packages/scikeras/wrappers.py\", line 535, in _fit_keras_model\n    hist = self.model_.fit(x=X, y=y, **fit_args)\n           ^^^^^^^^^^^^^^^^^^^^^^^^^^^^^^^^^^^^^\n  File \"/mnt/sde1/My_Files/Code/Git_Repos/hve_projects/.venv/lib/python3.12/site-packages/keras/src/utils/traceback_utils.py\", line 122, in error_handler\n    raise e.with_traceback(filtered_tb) from None\n  File \"/mnt/sde1/My_Files/Code/Git_Repos/hve_projects/.venv/lib/python3.12/site-packages/tensorflow/python/eager/execute.py\", line 59, in quick_execute\n    except TypeError as e:\ntensorflow.python.framework.errors_impl.UnknownError: Graph execution error:\n\nDetected at node StatefulPartitionedCall defined at (most recent call last):\n  File \"<frozen runpy>\", line 198, in _run_module_as_main\n\n  File \"<frozen runpy>\", line 88, in _run_code\n\n  File \"/mnt/sde1/My_Files/Code/Git_Repos/hve_projects/.venv/lib/python3.12/site-packages/ipykernel_launcher.py\", line 18, in <module>\n\n  File \"/mnt/sde1/My_Files/Code/Git_Repos/hve_projects/.venv/lib/python3.12/site-packages/traitlets/config/application.py\", line 1075, in launch_instance\n\n  File \"/mnt/sde1/My_Files/Code/Git_Repos/hve_projects/.venv/lib/python3.12/site-packages/ipykernel/kernelapp.py\", line 739, in start\n\n  File \"/mnt/sde1/My_Files/Code/Git_Repos/hve_projects/.venv/lib/python3.12/site-packages/tornado/platform/asyncio.py\", line 205, in start\n\n  File \"/usr/lib/python3.12/asyncio/base_events.py\", line 641, in run_forever\n\n  File \"/usr/lib/python3.12/asyncio/base_events.py\", line 1987, in _run_once\n\n  File \"/usr/lib/python3.12/asyncio/events.py\", line 88, in _run\n\n  File \"/mnt/sde1/My_Files/Code/Git_Repos/hve_projects/.venv/lib/python3.12/site-packages/ipykernel/kernelbase.py\", line 545, in dispatch_queue\n\n  File \"/mnt/sde1/My_Files/Code/Git_Repos/hve_projects/.venv/lib/python3.12/site-packages/ipykernel/kernelbase.py\", line 534, in process_one\n\n  File \"/mnt/sde1/My_Files/Code/Git_Repos/hve_projects/.venv/lib/python3.12/site-packages/ipykernel/kernelbase.py\", line 437, in dispatch_shell\n\n  File \"/mnt/sde1/My_Files/Code/Git_Repos/hve_projects/.venv/lib/python3.12/site-packages/ipykernel/ipkernel.py\", line 362, in execute_request\n\n  File \"/mnt/sde1/My_Files/Code/Git_Repos/hve_projects/.venv/lib/python3.12/site-packages/ipykernel/kernelbase.py\", line 778, in execute_request\n\n  File \"/mnt/sde1/My_Files/Code/Git_Repos/hve_projects/.venv/lib/python3.12/site-packages/ipykernel/ipkernel.py\", line 449, in do_execute\n\n  File \"/mnt/sde1/My_Files/Code/Git_Repos/hve_projects/.venv/lib/python3.12/site-packages/ipykernel/zmqshell.py\", line 549, in run_cell\n\n  File \"/mnt/sde1/My_Files/Code/Git_Repos/hve_projects/.venv/lib/python3.12/site-packages/IPython/core/interactiveshell.py\", line 3075, in run_cell\n\n  File \"/mnt/sde1/My_Files/Code/Git_Repos/hve_projects/.venv/lib/python3.12/site-packages/IPython/core/interactiveshell.py\", line 3130, in _run_cell\n\n  File \"/mnt/sde1/My_Files/Code/Git_Repos/hve_projects/.venv/lib/python3.12/site-packages/IPython/core/async_helpers.py\", line 128, in _pseudo_sync_runner\n\n  File \"/mnt/sde1/My_Files/Code/Git_Repos/hve_projects/.venv/lib/python3.12/site-packages/IPython/core/interactiveshell.py\", line 3334, in run_cell_async\n\n  File \"/mnt/sde1/My_Files/Code/Git_Repos/hve_projects/.venv/lib/python3.12/site-packages/IPython/core/interactiveshell.py\", line 3517, in run_ast_nodes\n\n  File \"/mnt/sde1/My_Files/Code/Git_Repos/hve_projects/.venv/lib/python3.12/site-packages/IPython/core/interactiveshell.py\", line 3577, in run_code\n\n  File \"/tmp/ipykernel_89263/4030023438.py\", line 9, in <module>\n\n  File \"/mnt/sde1/My_Files/Code/Git_Repos/hve_projects/.venv/lib/python3.12/site-packages/sklearn/utils/_param_validation.py\", line 213, in wrapper\n\n  File \"/mnt/sde1/My_Files/Code/Git_Repos/hve_projects/.venv/lib/python3.12/site-packages/sklearn/model_selection/_validation.py\", line 712, in cross_val_score\n\n  File \"/mnt/sde1/My_Files/Code/Git_Repos/hve_projects/.venv/lib/python3.12/site-packages/sklearn/utils/_param_validation.py\", line 213, in wrapper\n\n  File \"/mnt/sde1/My_Files/Code/Git_Repos/hve_projects/.venv/lib/python3.12/site-packages/sklearn/model_selection/_validation.py\", line 423, in cross_validate\n\n  File \"/mnt/sde1/My_Files/Code/Git_Repos/hve_projects/.venv/lib/python3.12/site-packages/sklearn/utils/parallel.py\", line 74, in __call__\n\n  File \"/mnt/sde1/My_Files/Code/Git_Repos/hve_projects/.venv/lib/python3.12/site-packages/joblib/parallel.py\", line 1918, in __call__\n\n  File \"/mnt/sde1/My_Files/Code/Git_Repos/hve_projects/.venv/lib/python3.12/site-packages/joblib/parallel.py\", line 1847, in _get_sequential_output\n\n  File \"/mnt/sde1/My_Files/Code/Git_Repos/hve_projects/.venv/lib/python3.12/site-packages/sklearn/utils/parallel.py\", line 136, in __call__\n\n  File \"/mnt/sde1/My_Files/Code/Git_Repos/hve_projects/.venv/lib/python3.12/site-packages/sklearn/model_selection/_validation.py\", line 888, in _fit_and_score\n\n  File \"/mnt/sde1/My_Files/Code/Git_Repos/hve_projects/.venv/lib/python3.12/site-packages/scikeras/wrappers.py\", line 1501, in fit\n\n  File \"/mnt/sde1/My_Files/Code/Git_Repos/hve_projects/.venv/lib/python3.12/site-packages/scikeras/wrappers.py\", line 770, in fit\n\n  File \"/mnt/sde1/My_Files/Code/Git_Repos/hve_projects/.venv/lib/python3.12/site-packages/scikeras/wrappers.py\", line 938, in _fit\n\n  File \"/mnt/sde1/My_Files/Code/Git_Repos/hve_projects/.venv/lib/python3.12/site-packages/scikeras/wrappers.py\", line 535, in _fit_keras_model\n\n  File \"/mnt/sde1/My_Files/Code/Git_Repos/hve_projects/.venv/lib/python3.12/site-packages/keras/src/utils/traceback_utils.py\", line 117, in error_handler\n\n  File \"/mnt/sde1/My_Files/Code/Git_Repos/hve_projects/.venv/lib/python3.12/site-packages/keras/src/backend/tensorflow/trainer.py\", line 320, in fit\n\n  File \"/mnt/sde1/My_Files/Code/Git_Repos/hve_projects/.venv/lib/python3.12/site-packages/keras/src/backend/tensorflow/trainer.py\", line 121, in one_step_on_iterator\n\nFailed to determine best cudnn convolution algorithm for:\n%cudnn-conv-bias-activation.3 = (f32[32,32,30,30]{3,2,1,0}, u8[0]{0}) custom-call(f32[32,3,32,32]{3,2,1,0} %multiply.179, f32[32,3,3,3]{3,2,1,0} %transpose.69, f32[32]{0} %arg3.4), window={size=3x3}, dim_labels=bf01_oi01->bf01, custom_call_target=\"__cudnn$convBiasActivationForward\", metadata={op_type=\"Conv2D\" op_name=\"sequential_1_1/conv2d_1_1/convolution\" source_file=\"/mnt/sde1/My_Files/Code/Git_Repos/hve_projects/.venv/lib/python3.12/site-packages/tensorflow/python/framework/ops.py\" source_line=1177}, backend_config={\"operation_queue_id\":\"0\",\"wait_on_operation_queues\":[],\"cudnn_conv_backend_config\":{\"conv_result_scale\":1,\"activation_mode\":\"kNone\",\"side_input_scale\":0,\"leakyrelu_alpha\":0},\"force_earliest_schedule\":false}\n\nOriginal error: RESOURCE_EXHAUSTED: Out of memory while trying to allocate 17170432 bytes.\n\nTo ignore this failure and try to use a fallback algorithm (which may have suboptimal performance), use XLA_FLAGS=--xla_gpu_strict_conv_algorithm_picker=false.  Please also file a bug for the root cause of failing autotuning.\n\t [[{{node StatefulPartitionedCall}}]] [Op:__inference_one_step_on_iterator_11304]\n\n--------------------------------------------------------------------------------\n1 fits failed with the following error:\nTraceback (most recent call last):\n  File \"/mnt/sde1/My_Files/Code/Git_Repos/hve_projects/.venv/lib/python3.12/site-packages/sklearn/model_selection/_validation.py\", line 888, in _fit_and_score\n    estimator.fit(X_train, y_train, **fit_params)\n  File \"/mnt/sde1/My_Files/Code/Git_Repos/hve_projects/.venv/lib/python3.12/site-packages/scikeras/wrappers.py\", line 1501, in fit\n    super().fit(X=X, y=y, sample_weight=sample_weight, **kwargs)\n  File \"/mnt/sde1/My_Files/Code/Git_Repos/hve_projects/.venv/lib/python3.12/site-packages/scikeras/wrappers.py\", line 770, in fit\n    self._fit(\n  File \"/mnt/sde1/My_Files/Code/Git_Repos/hve_projects/.venv/lib/python3.12/site-packages/scikeras/wrappers.py\", line 938, in _fit\n    self._fit_keras_model(\n  File \"/mnt/sde1/My_Files/Code/Git_Repos/hve_projects/.venv/lib/python3.12/site-packages/scikeras/wrappers.py\", line 535, in _fit_keras_model\n    hist = self.model_.fit(x=X, y=y, **fit_args)\n           ^^^^^^^^^^^^^^^^^^^^^^^^^^^^^^^^^^^^^\n  File \"/mnt/sde1/My_Files/Code/Git_Repos/hve_projects/.venv/lib/python3.12/site-packages/keras/src/utils/traceback_utils.py\", line 122, in error_handler\n    raise e.with_traceback(filtered_tb) from None\n  File \"/mnt/sde1/My_Files/Code/Git_Repos/hve_projects/.venv/lib/python3.12/site-packages/tensorflow/python/eager/execute.py\", line 59, in quick_execute\n    except TypeError as e:\ntensorflow.python.framework.errors_impl.UnknownError: Graph execution error:\n\nDetected at node StatefulPartitionedCall defined at (most recent call last):\n  File \"<frozen runpy>\", line 198, in _run_module_as_main\n\n  File \"<frozen runpy>\", line 88, in _run_code\n\n  File \"/mnt/sde1/My_Files/Code/Git_Repos/hve_projects/.venv/lib/python3.12/site-packages/ipykernel_launcher.py\", line 18, in <module>\n\n  File \"/mnt/sde1/My_Files/Code/Git_Repos/hve_projects/.venv/lib/python3.12/site-packages/traitlets/config/application.py\", line 1075, in launch_instance\n\n  File \"/mnt/sde1/My_Files/Code/Git_Repos/hve_projects/.venv/lib/python3.12/site-packages/ipykernel/kernelapp.py\", line 739, in start\n\n  File \"/mnt/sde1/My_Files/Code/Git_Repos/hve_projects/.venv/lib/python3.12/site-packages/tornado/platform/asyncio.py\", line 205, in start\n\n  File \"/usr/lib/python3.12/asyncio/base_events.py\", line 641, in run_forever\n\n  File \"/usr/lib/python3.12/asyncio/base_events.py\", line 1987, in _run_once\n\n  File \"/usr/lib/python3.12/asyncio/events.py\", line 88, in _run\n\n  File \"/mnt/sde1/My_Files/Code/Git_Repos/hve_projects/.venv/lib/python3.12/site-packages/ipykernel/kernelbase.py\", line 545, in dispatch_queue\n\n  File \"/mnt/sde1/My_Files/Code/Git_Repos/hve_projects/.venv/lib/python3.12/site-packages/ipykernel/kernelbase.py\", line 534, in process_one\n\n  File \"/mnt/sde1/My_Files/Code/Git_Repos/hve_projects/.venv/lib/python3.12/site-packages/ipykernel/kernelbase.py\", line 437, in dispatch_shell\n\n  File \"/mnt/sde1/My_Files/Code/Git_Repos/hve_projects/.venv/lib/python3.12/site-packages/ipykernel/ipkernel.py\", line 362, in execute_request\n\n  File \"/mnt/sde1/My_Files/Code/Git_Repos/hve_projects/.venv/lib/python3.12/site-packages/ipykernel/kernelbase.py\", line 778, in execute_request\n\n  File \"/mnt/sde1/My_Files/Code/Git_Repos/hve_projects/.venv/lib/python3.12/site-packages/ipykernel/ipkernel.py\", line 449, in do_execute\n\n  File \"/mnt/sde1/My_Files/Code/Git_Repos/hve_projects/.venv/lib/python3.12/site-packages/ipykernel/zmqshell.py\", line 549, in run_cell\n\n  File \"/mnt/sde1/My_Files/Code/Git_Repos/hve_projects/.venv/lib/python3.12/site-packages/IPython/core/interactiveshell.py\", line 3075, in run_cell\n\n  File \"/mnt/sde1/My_Files/Code/Git_Repos/hve_projects/.venv/lib/python3.12/site-packages/IPython/core/interactiveshell.py\", line 3130, in _run_cell\n\n  File \"/mnt/sde1/My_Files/Code/Git_Repos/hve_projects/.venv/lib/python3.12/site-packages/IPython/core/async_helpers.py\", line 128, in _pseudo_sync_runner\n\n  File \"/mnt/sde1/My_Files/Code/Git_Repos/hve_projects/.venv/lib/python3.12/site-packages/IPython/core/interactiveshell.py\", line 3334, in run_cell_async\n\n  File \"/mnt/sde1/My_Files/Code/Git_Repos/hve_projects/.venv/lib/python3.12/site-packages/IPython/core/interactiveshell.py\", line 3517, in run_ast_nodes\n\n  File \"/mnt/sde1/My_Files/Code/Git_Repos/hve_projects/.venv/lib/python3.12/site-packages/IPython/core/interactiveshell.py\", line 3577, in run_code\n\n  File \"/tmp/ipykernel_89263/4030023438.py\", line 9, in <module>\n\n  File \"/mnt/sde1/My_Files/Code/Git_Repos/hve_projects/.venv/lib/python3.12/site-packages/sklearn/utils/_param_validation.py\", line 213, in wrapper\n\n  File \"/mnt/sde1/My_Files/Code/Git_Repos/hve_projects/.venv/lib/python3.12/site-packages/sklearn/model_selection/_validation.py\", line 712, in cross_val_score\n\n  File \"/mnt/sde1/My_Files/Code/Git_Repos/hve_projects/.venv/lib/python3.12/site-packages/sklearn/utils/_param_validation.py\", line 213, in wrapper\n\n  File \"/mnt/sde1/My_Files/Code/Git_Repos/hve_projects/.venv/lib/python3.12/site-packages/sklearn/model_selection/_validation.py\", line 423, in cross_validate\n\n  File \"/mnt/sde1/My_Files/Code/Git_Repos/hve_projects/.venv/lib/python3.12/site-packages/sklearn/utils/parallel.py\", line 74, in __call__\n\n  File \"/mnt/sde1/My_Files/Code/Git_Repos/hve_projects/.venv/lib/python3.12/site-packages/joblib/parallel.py\", line 1918, in __call__\n\n  File \"/mnt/sde1/My_Files/Code/Git_Repos/hve_projects/.venv/lib/python3.12/site-packages/joblib/parallel.py\", line 1847, in _get_sequential_output\n\n  File \"/mnt/sde1/My_Files/Code/Git_Repos/hve_projects/.venv/lib/python3.12/site-packages/sklearn/utils/parallel.py\", line 136, in __call__\n\n  File \"/mnt/sde1/My_Files/Code/Git_Repos/hve_projects/.venv/lib/python3.12/site-packages/sklearn/model_selection/_validation.py\", line 888, in _fit_and_score\n\n  File \"/mnt/sde1/My_Files/Code/Git_Repos/hve_projects/.venv/lib/python3.12/site-packages/scikeras/wrappers.py\", line 1501, in fit\n\n  File \"/mnt/sde1/My_Files/Code/Git_Repos/hve_projects/.venv/lib/python3.12/site-packages/scikeras/wrappers.py\", line 770, in fit\n\n  File \"/mnt/sde1/My_Files/Code/Git_Repos/hve_projects/.venv/lib/python3.12/site-packages/scikeras/wrappers.py\", line 938, in _fit\n\n  File \"/mnt/sde1/My_Files/Code/Git_Repos/hve_projects/.venv/lib/python3.12/site-packages/scikeras/wrappers.py\", line 535, in _fit_keras_model\n\n  File \"/mnt/sde1/My_Files/Code/Git_Repos/hve_projects/.venv/lib/python3.12/site-packages/keras/src/utils/traceback_utils.py\", line 117, in error_handler\n\n  File \"/mnt/sde1/My_Files/Code/Git_Repos/hve_projects/.venv/lib/python3.12/site-packages/keras/src/backend/tensorflow/trainer.py\", line 320, in fit\n\n  File \"/mnt/sde1/My_Files/Code/Git_Repos/hve_projects/.venv/lib/python3.12/site-packages/keras/src/backend/tensorflow/trainer.py\", line 121, in one_step_on_iterator\n\nFailed to determine best cudnn convolution algorithm for:\n%cudnn-conv-bias-activation.3 = (f32[32,32,30,30]{3,2,1,0}, u8[0]{0}) custom-call(f32[32,3,32,32]{3,2,1,0} %multiply.179, f32[32,3,3,3]{3,2,1,0} %transpose.69, f32[32]{0} %arg3.4), window={size=3x3}, dim_labels=bf01_oi01->bf01, custom_call_target=\"__cudnn$convBiasActivationForward\", metadata={op_type=\"Conv2D\" op_name=\"sequential_1_1/conv2d_1_1/convolution\" source_file=\"/mnt/sde1/My_Files/Code/Git_Repos/hve_projects/.venv/lib/python3.12/site-packages/tensorflow/python/framework/ops.py\" source_line=1177}, backend_config={\"operation_queue_id\":\"0\",\"wait_on_operation_queues\":[],\"cudnn_conv_backend_config\":{\"conv_result_scale\":1,\"activation_mode\":\"kNone\",\"side_input_scale\":0,\"leakyrelu_alpha\":0},\"force_earliest_schedule\":false}\n\nOriginal error: RESOURCE_EXHAUSTED: Out of memory while trying to allocate 17170432 bytes.\n\nTo ignore this failure and try to use a fallback algorithm (which may have suboptimal performance), use XLA_FLAGS=--xla_gpu_strict_conv_algorithm_picker=false.  Please also file a bug for the root cause of failing autotuning.\n\t [[{{node StatefulPartitionedCall}}]] [Op:__inference_one_step_on_iterator_13154]\n\n--------------------------------------------------------------------------------\n1 fits failed with the following error:\nTraceback (most recent call last):\n  File \"/mnt/sde1/My_Files/Code/Git_Repos/hve_projects/.venv/lib/python3.12/site-packages/sklearn/model_selection/_validation.py\", line 888, in _fit_and_score\n    estimator.fit(X_train, y_train, **fit_params)\n  File \"/mnt/sde1/My_Files/Code/Git_Repos/hve_projects/.venv/lib/python3.12/site-packages/scikeras/wrappers.py\", line 1501, in fit\n    super().fit(X=X, y=y, sample_weight=sample_weight, **kwargs)\n  File \"/mnt/sde1/My_Files/Code/Git_Repos/hve_projects/.venv/lib/python3.12/site-packages/scikeras/wrappers.py\", line 770, in fit\n    self._fit(\n  File \"/mnt/sde1/My_Files/Code/Git_Repos/hve_projects/.venv/lib/python3.12/site-packages/scikeras/wrappers.py\", line 938, in _fit\n    self._fit_keras_model(\n  File \"/mnt/sde1/My_Files/Code/Git_Repos/hve_projects/.venv/lib/python3.12/site-packages/scikeras/wrappers.py\", line 535, in _fit_keras_model\n    hist = self.model_.fit(x=X, y=y, **fit_args)\n           ^^^^^^^^^^^^^^^^^^^^^^^^^^^^^^^^^^^^^\n  File \"/mnt/sde1/My_Files/Code/Git_Repos/hve_projects/.venv/lib/python3.12/site-packages/keras/src/utils/traceback_utils.py\", line 122, in error_handler\n    raise e.with_traceback(filtered_tb) from None\n  File \"/mnt/sde1/My_Files/Code/Git_Repos/hve_projects/.venv/lib/python3.12/site-packages/tensorflow/python/eager/execute.py\", line 59, in quick_execute\n    except TypeError as e:\ntensorflow.python.framework.errors_impl.UnknownError: Graph execution error:\n\nDetected at node StatefulPartitionedCall defined at (most recent call last):\n  File \"<frozen runpy>\", line 198, in _run_module_as_main\n\n  File \"<frozen runpy>\", line 88, in _run_code\n\n  File \"/mnt/sde1/My_Files/Code/Git_Repos/hve_projects/.venv/lib/python3.12/site-packages/ipykernel_launcher.py\", line 18, in <module>\n\n  File \"/mnt/sde1/My_Files/Code/Git_Repos/hve_projects/.venv/lib/python3.12/site-packages/traitlets/config/application.py\", line 1075, in launch_instance\n\n  File \"/mnt/sde1/My_Files/Code/Git_Repos/hve_projects/.venv/lib/python3.12/site-packages/ipykernel/kernelapp.py\", line 739, in start\n\n  File \"/mnt/sde1/My_Files/Code/Git_Repos/hve_projects/.venv/lib/python3.12/site-packages/tornado/platform/asyncio.py\", line 205, in start\n\n  File \"/usr/lib/python3.12/asyncio/base_events.py\", line 641, in run_forever\n\n  File \"/usr/lib/python3.12/asyncio/base_events.py\", line 1987, in _run_once\n\n  File \"/usr/lib/python3.12/asyncio/events.py\", line 88, in _run\n\n  File \"/mnt/sde1/My_Files/Code/Git_Repos/hve_projects/.venv/lib/python3.12/site-packages/ipykernel/kernelbase.py\", line 545, in dispatch_queue\n\n  File \"/mnt/sde1/My_Files/Code/Git_Repos/hve_projects/.venv/lib/python3.12/site-packages/ipykernel/kernelbase.py\", line 534, in process_one\n\n  File \"/mnt/sde1/My_Files/Code/Git_Repos/hve_projects/.venv/lib/python3.12/site-packages/ipykernel/kernelbase.py\", line 437, in dispatch_shell\n\n  File \"/mnt/sde1/My_Files/Code/Git_Repos/hve_projects/.venv/lib/python3.12/site-packages/ipykernel/ipkernel.py\", line 362, in execute_request\n\n  File \"/mnt/sde1/My_Files/Code/Git_Repos/hve_projects/.venv/lib/python3.12/site-packages/ipykernel/kernelbase.py\", line 778, in execute_request\n\n  File \"/mnt/sde1/My_Files/Code/Git_Repos/hve_projects/.venv/lib/python3.12/site-packages/ipykernel/ipkernel.py\", line 449, in do_execute\n\n  File \"/mnt/sde1/My_Files/Code/Git_Repos/hve_projects/.venv/lib/python3.12/site-packages/ipykernel/zmqshell.py\", line 549, in run_cell\n\n  File \"/mnt/sde1/My_Files/Code/Git_Repos/hve_projects/.venv/lib/python3.12/site-packages/IPython/core/interactiveshell.py\", line 3075, in run_cell\n\n  File \"/mnt/sde1/My_Files/Code/Git_Repos/hve_projects/.venv/lib/python3.12/site-packages/IPython/core/interactiveshell.py\", line 3130, in _run_cell\n\n  File \"/mnt/sde1/My_Files/Code/Git_Repos/hve_projects/.venv/lib/python3.12/site-packages/IPython/core/async_helpers.py\", line 128, in _pseudo_sync_runner\n\n  File \"/mnt/sde1/My_Files/Code/Git_Repos/hve_projects/.venv/lib/python3.12/site-packages/IPython/core/interactiveshell.py\", line 3334, in run_cell_async\n\n  File \"/mnt/sde1/My_Files/Code/Git_Repos/hve_projects/.venv/lib/python3.12/site-packages/IPython/core/interactiveshell.py\", line 3517, in run_ast_nodes\n\n  File \"/mnt/sde1/My_Files/Code/Git_Repos/hve_projects/.venv/lib/python3.12/site-packages/IPython/core/interactiveshell.py\", line 3577, in run_code\n\n  File \"/tmp/ipykernel_89263/4030023438.py\", line 9, in <module>\n\n  File \"/mnt/sde1/My_Files/Code/Git_Repos/hve_projects/.venv/lib/python3.12/site-packages/sklearn/utils/_param_validation.py\", line 213, in wrapper\n\n  File \"/mnt/sde1/My_Files/Code/Git_Repos/hve_projects/.venv/lib/python3.12/site-packages/sklearn/model_selection/_validation.py\", line 712, in cross_val_score\n\n  File \"/mnt/sde1/My_Files/Code/Git_Repos/hve_projects/.venv/lib/python3.12/site-packages/sklearn/utils/_param_validation.py\", line 213, in wrapper\n\n  File \"/mnt/sde1/My_Files/Code/Git_Repos/hve_projects/.venv/lib/python3.12/site-packages/sklearn/model_selection/_validation.py\", line 423, in cross_validate\n\n  File \"/mnt/sde1/My_Files/Code/Git_Repos/hve_projects/.venv/lib/python3.12/site-packages/sklearn/utils/parallel.py\", line 74, in __call__\n\n  File \"/mnt/sde1/My_Files/Code/Git_Repos/hve_projects/.venv/lib/python3.12/site-packages/joblib/parallel.py\", line 1918, in __call__\n\n  File \"/mnt/sde1/My_Files/Code/Git_Repos/hve_projects/.venv/lib/python3.12/site-packages/joblib/parallel.py\", line 1847, in _get_sequential_output\n\n  File \"/mnt/sde1/My_Files/Code/Git_Repos/hve_projects/.venv/lib/python3.12/site-packages/sklearn/utils/parallel.py\", line 136, in __call__\n\n  File \"/mnt/sde1/My_Files/Code/Git_Repos/hve_projects/.venv/lib/python3.12/site-packages/sklearn/model_selection/_validation.py\", line 888, in _fit_and_score\n\n  File \"/mnt/sde1/My_Files/Code/Git_Repos/hve_projects/.venv/lib/python3.12/site-packages/scikeras/wrappers.py\", line 1501, in fit\n\n  File \"/mnt/sde1/My_Files/Code/Git_Repos/hve_projects/.venv/lib/python3.12/site-packages/scikeras/wrappers.py\", line 770, in fit\n\n  File \"/mnt/sde1/My_Files/Code/Git_Repos/hve_projects/.venv/lib/python3.12/site-packages/scikeras/wrappers.py\", line 938, in _fit\n\n  File \"/mnt/sde1/My_Files/Code/Git_Repos/hve_projects/.venv/lib/python3.12/site-packages/scikeras/wrappers.py\", line 535, in _fit_keras_model\n\n  File \"/mnt/sde1/My_Files/Code/Git_Repos/hve_projects/.venv/lib/python3.12/site-packages/keras/src/utils/traceback_utils.py\", line 117, in error_handler\n\n  File \"/mnt/sde1/My_Files/Code/Git_Repos/hve_projects/.venv/lib/python3.12/site-packages/keras/src/backend/tensorflow/trainer.py\", line 320, in fit\n\n  File \"/mnt/sde1/My_Files/Code/Git_Repos/hve_projects/.venv/lib/python3.12/site-packages/keras/src/backend/tensorflow/trainer.py\", line 121, in one_step_on_iterator\n\nFailed to determine best cudnn convolution algorithm for:\n%cudnn-conv-bias-activation.3 = (f32[32,32,30,30]{3,2,1,0}, u8[0]{0}) custom-call(f32[32,3,32,32]{3,2,1,0} %multiply.179, f32[32,3,3,3]{3,2,1,0} %transpose.69, f32[32]{0} %arg3.4), window={size=3x3}, dim_labels=bf01_oi01->bf01, custom_call_target=\"__cudnn$convBiasActivationForward\", metadata={op_type=\"Conv2D\" op_name=\"sequential_1_1/conv2d_1_1/convolution\" source_file=\"/mnt/sde1/My_Files/Code/Git_Repos/hve_projects/.venv/lib/python3.12/site-packages/tensorflow/python/framework/ops.py\" source_line=1177}, backend_config={\"operation_queue_id\":\"0\",\"wait_on_operation_queues\":[],\"cudnn_conv_backend_config\":{\"conv_result_scale\":1,\"activation_mode\":\"kNone\",\"side_input_scale\":0,\"leakyrelu_alpha\":0},\"force_earliest_schedule\":false}\n\nOriginal error: RESOURCE_EXHAUSTED: Out of memory while trying to allocate 17170432 bytes.\n\nTo ignore this failure and try to use a fallback algorithm (which may have suboptimal performance), use XLA_FLAGS=--xla_gpu_strict_conv_algorithm_picker=false.  Please also file a bug for the root cause of failing autotuning.\n\t [[{{node StatefulPartitionedCall}}]] [Op:__inference_one_step_on_iterator_15004]\n\n--------------------------------------------------------------------------------\n1 fits failed with the following error:\nTraceback (most recent call last):\n  File \"/mnt/sde1/My_Files/Code/Git_Repos/hve_projects/.venv/lib/python3.12/site-packages/sklearn/model_selection/_validation.py\", line 888, in _fit_and_score\n    estimator.fit(X_train, y_train, **fit_params)\n  File \"/mnt/sde1/My_Files/Code/Git_Repos/hve_projects/.venv/lib/python3.12/site-packages/scikeras/wrappers.py\", line 1501, in fit\n    super().fit(X=X, y=y, sample_weight=sample_weight, **kwargs)\n  File \"/mnt/sde1/My_Files/Code/Git_Repos/hve_projects/.venv/lib/python3.12/site-packages/scikeras/wrappers.py\", line 770, in fit\n    self._fit(\n  File \"/mnt/sde1/My_Files/Code/Git_Repos/hve_projects/.venv/lib/python3.12/site-packages/scikeras/wrappers.py\", line 938, in _fit\n    self._fit_keras_model(\n  File \"/mnt/sde1/My_Files/Code/Git_Repos/hve_projects/.venv/lib/python3.12/site-packages/scikeras/wrappers.py\", line 535, in _fit_keras_model\n    hist = self.model_.fit(x=X, y=y, **fit_args)\n           ^^^^^^^^^^^^^^^^^^^^^^^^^^^^^^^^^^^^^\n  File \"/mnt/sde1/My_Files/Code/Git_Repos/hve_projects/.venv/lib/python3.12/site-packages/keras/src/utils/traceback_utils.py\", line 122, in error_handler\n    raise e.with_traceback(filtered_tb) from None\n  File \"/mnt/sde1/My_Files/Code/Git_Repos/hve_projects/.venv/lib/python3.12/site-packages/tensorflow/python/eager/execute.py\", line 59, in quick_execute\n    except TypeError as e:\ntensorflow.python.framework.errors_impl.UnknownError: Graph execution error:\n\nDetected at node StatefulPartitionedCall defined at (most recent call last):\n  File \"<frozen runpy>\", line 198, in _run_module_as_main\n\n  File \"<frozen runpy>\", line 88, in _run_code\n\n  File \"/mnt/sde1/My_Files/Code/Git_Repos/hve_projects/.venv/lib/python3.12/site-packages/ipykernel_launcher.py\", line 18, in <module>\n\n  File \"/mnt/sde1/My_Files/Code/Git_Repos/hve_projects/.venv/lib/python3.12/site-packages/traitlets/config/application.py\", line 1075, in launch_instance\n\n  File \"/mnt/sde1/My_Files/Code/Git_Repos/hve_projects/.venv/lib/python3.12/site-packages/ipykernel/kernelapp.py\", line 739, in start\n\n  File \"/mnt/sde1/My_Files/Code/Git_Repos/hve_projects/.venv/lib/python3.12/site-packages/tornado/platform/asyncio.py\", line 205, in start\n\n  File \"/usr/lib/python3.12/asyncio/base_events.py\", line 641, in run_forever\n\n  File \"/usr/lib/python3.12/asyncio/base_events.py\", line 1987, in _run_once\n\n  File \"/usr/lib/python3.12/asyncio/events.py\", line 88, in _run\n\n  File \"/mnt/sde1/My_Files/Code/Git_Repos/hve_projects/.venv/lib/python3.12/site-packages/ipykernel/kernelbase.py\", line 545, in dispatch_queue\n\n  File \"/mnt/sde1/My_Files/Code/Git_Repos/hve_projects/.venv/lib/python3.12/site-packages/ipykernel/kernelbase.py\", line 534, in process_one\n\n  File \"/mnt/sde1/My_Files/Code/Git_Repos/hve_projects/.venv/lib/python3.12/site-packages/ipykernel/kernelbase.py\", line 437, in dispatch_shell\n\n  File \"/mnt/sde1/My_Files/Code/Git_Repos/hve_projects/.venv/lib/python3.12/site-packages/ipykernel/ipkernel.py\", line 362, in execute_request\n\n  File \"/mnt/sde1/My_Files/Code/Git_Repos/hve_projects/.venv/lib/python3.12/site-packages/ipykernel/kernelbase.py\", line 778, in execute_request\n\n  File \"/mnt/sde1/My_Files/Code/Git_Repos/hve_projects/.venv/lib/python3.12/site-packages/ipykernel/ipkernel.py\", line 449, in do_execute\n\n  File \"/mnt/sde1/My_Files/Code/Git_Repos/hve_projects/.venv/lib/python3.12/site-packages/ipykernel/zmqshell.py\", line 549, in run_cell\n\n  File \"/mnt/sde1/My_Files/Code/Git_Repos/hve_projects/.venv/lib/python3.12/site-packages/IPython/core/interactiveshell.py\", line 3075, in run_cell\n\n  File \"/mnt/sde1/My_Files/Code/Git_Repos/hve_projects/.venv/lib/python3.12/site-packages/IPython/core/interactiveshell.py\", line 3130, in _run_cell\n\n  File \"/mnt/sde1/My_Files/Code/Git_Repos/hve_projects/.venv/lib/python3.12/site-packages/IPython/core/async_helpers.py\", line 128, in _pseudo_sync_runner\n\n  File \"/mnt/sde1/My_Files/Code/Git_Repos/hve_projects/.venv/lib/python3.12/site-packages/IPython/core/interactiveshell.py\", line 3334, in run_cell_async\n\n  File \"/mnt/sde1/My_Files/Code/Git_Repos/hve_projects/.venv/lib/python3.12/site-packages/IPython/core/interactiveshell.py\", line 3517, in run_ast_nodes\n\n  File \"/mnt/sde1/My_Files/Code/Git_Repos/hve_projects/.venv/lib/python3.12/site-packages/IPython/core/interactiveshell.py\", line 3577, in run_code\n\n  File \"/tmp/ipykernel_89263/4030023438.py\", line 9, in <module>\n\n  File \"/mnt/sde1/My_Files/Code/Git_Repos/hve_projects/.venv/lib/python3.12/site-packages/sklearn/utils/_param_validation.py\", line 213, in wrapper\n\n  File \"/mnt/sde1/My_Files/Code/Git_Repos/hve_projects/.venv/lib/python3.12/site-packages/sklearn/model_selection/_validation.py\", line 712, in cross_val_score\n\n  File \"/mnt/sde1/My_Files/Code/Git_Repos/hve_projects/.venv/lib/python3.12/site-packages/sklearn/utils/_param_validation.py\", line 213, in wrapper\n\n  File \"/mnt/sde1/My_Files/Code/Git_Repos/hve_projects/.venv/lib/python3.12/site-packages/sklearn/model_selection/_validation.py\", line 423, in cross_validate\n\n  File \"/mnt/sde1/My_Files/Code/Git_Repos/hve_projects/.venv/lib/python3.12/site-packages/sklearn/utils/parallel.py\", line 74, in __call__\n\n  File \"/mnt/sde1/My_Files/Code/Git_Repos/hve_projects/.venv/lib/python3.12/site-packages/joblib/parallel.py\", line 1918, in __call__\n\n  File \"/mnt/sde1/My_Files/Code/Git_Repos/hve_projects/.venv/lib/python3.12/site-packages/joblib/parallel.py\", line 1847, in _get_sequential_output\n\n  File \"/mnt/sde1/My_Files/Code/Git_Repos/hve_projects/.venv/lib/python3.12/site-packages/sklearn/utils/parallel.py\", line 136, in __call__\n\n  File \"/mnt/sde1/My_Files/Code/Git_Repos/hve_projects/.venv/lib/python3.12/site-packages/sklearn/model_selection/_validation.py\", line 888, in _fit_and_score\n\n  File \"/mnt/sde1/My_Files/Code/Git_Repos/hve_projects/.venv/lib/python3.12/site-packages/scikeras/wrappers.py\", line 1501, in fit\n\n  File \"/mnt/sde1/My_Files/Code/Git_Repos/hve_projects/.venv/lib/python3.12/site-packages/scikeras/wrappers.py\", line 770, in fit\n\n  File \"/mnt/sde1/My_Files/Code/Git_Repos/hve_projects/.venv/lib/python3.12/site-packages/scikeras/wrappers.py\", line 938, in _fit\n\n  File \"/mnt/sde1/My_Files/Code/Git_Repos/hve_projects/.venv/lib/python3.12/site-packages/scikeras/wrappers.py\", line 535, in _fit_keras_model\n\n  File \"/mnt/sde1/My_Files/Code/Git_Repos/hve_projects/.venv/lib/python3.12/site-packages/keras/src/utils/traceback_utils.py\", line 117, in error_handler\n\n  File \"/mnt/sde1/My_Files/Code/Git_Repos/hve_projects/.venv/lib/python3.12/site-packages/keras/src/backend/tensorflow/trainer.py\", line 320, in fit\n\n  File \"/mnt/sde1/My_Files/Code/Git_Repos/hve_projects/.venv/lib/python3.12/site-packages/keras/src/backend/tensorflow/trainer.py\", line 121, in one_step_on_iterator\n\nFailed to determine best cudnn convolution algorithm for:\n%cudnn-conv-bias-activation.3 = (f32[32,32,30,30]{3,2,1,0}, u8[0]{0}) custom-call(f32[32,3,32,32]{3,2,1,0} %multiply.179, f32[32,3,3,3]{3,2,1,0} %transpose.69, f32[32]{0} %arg3.4), window={size=3x3}, dim_labels=bf01_oi01->bf01, custom_call_target=\"__cudnn$convBiasActivationForward\", metadata={op_type=\"Conv2D\" op_name=\"sequential_1_1/conv2d_1_1/convolution\" source_file=\"/mnt/sde1/My_Files/Code/Git_Repos/hve_projects/.venv/lib/python3.12/site-packages/tensorflow/python/framework/ops.py\" source_line=1177}, backend_config={\"operation_queue_id\":\"0\",\"wait_on_operation_queues\":[],\"cudnn_conv_backend_config\":{\"conv_result_scale\":1,\"activation_mode\":\"kNone\",\"side_input_scale\":0,\"leakyrelu_alpha\":0},\"force_earliest_schedule\":false}\n\nOriginal error: RESOURCE_EXHAUSTED: Out of memory while trying to allocate 17170432 bytes.\n\nTo ignore this failure and try to use a fallback algorithm (which may have suboptimal performance), use XLA_FLAGS=--xla_gpu_strict_conv_algorithm_picker=false.  Please also file a bug for the root cause of failing autotuning.\n\t [[{{node StatefulPartitionedCall}}]] [Op:__inference_one_step_on_iterator_16854]\n\n--------------------------------------------------------------------------------\n1 fits failed with the following error:\nTraceback (most recent call last):\n  File \"/mnt/sde1/My_Files/Code/Git_Repos/hve_projects/.venv/lib/python3.12/site-packages/sklearn/model_selection/_validation.py\", line 888, in _fit_and_score\n    estimator.fit(X_train, y_train, **fit_params)\n  File \"/mnt/sde1/My_Files/Code/Git_Repos/hve_projects/.venv/lib/python3.12/site-packages/scikeras/wrappers.py\", line 1501, in fit\n    super().fit(X=X, y=y, sample_weight=sample_weight, **kwargs)\n  File \"/mnt/sde1/My_Files/Code/Git_Repos/hve_projects/.venv/lib/python3.12/site-packages/scikeras/wrappers.py\", line 770, in fit\n    self._fit(\n  File \"/mnt/sde1/My_Files/Code/Git_Repos/hve_projects/.venv/lib/python3.12/site-packages/scikeras/wrappers.py\", line 938, in _fit\n    self._fit_keras_model(\n  File \"/mnt/sde1/My_Files/Code/Git_Repos/hve_projects/.venv/lib/python3.12/site-packages/scikeras/wrappers.py\", line 535, in _fit_keras_model\n    hist = self.model_.fit(x=X, y=y, **fit_args)\n           ^^^^^^^^^^^^^^^^^^^^^^^^^^^^^^^^^^^^^\n  File \"/mnt/sde1/My_Files/Code/Git_Repos/hve_projects/.venv/lib/python3.12/site-packages/keras/src/utils/traceback_utils.py\", line 122, in error_handler\n    raise e.with_traceback(filtered_tb) from None\n  File \"/mnt/sde1/My_Files/Code/Git_Repos/hve_projects/.venv/lib/python3.12/site-packages/tensorflow/python/eager/execute.py\", line 59, in quick_execute\n    except TypeError as e:\ntensorflow.python.framework.errors_impl.UnknownError: Graph execution error:\n\nDetected at node StatefulPartitionedCall defined at (most recent call last):\n  File \"<frozen runpy>\", line 198, in _run_module_as_main\n\n  File \"<frozen runpy>\", line 88, in _run_code\n\n  File \"/mnt/sde1/My_Files/Code/Git_Repos/hve_projects/.venv/lib/python3.12/site-packages/ipykernel_launcher.py\", line 18, in <module>\n\n  File \"/mnt/sde1/My_Files/Code/Git_Repos/hve_projects/.venv/lib/python3.12/site-packages/traitlets/config/application.py\", line 1075, in launch_instance\n\n  File \"/mnt/sde1/My_Files/Code/Git_Repos/hve_projects/.venv/lib/python3.12/site-packages/ipykernel/kernelapp.py\", line 739, in start\n\n  File \"/mnt/sde1/My_Files/Code/Git_Repos/hve_projects/.venv/lib/python3.12/site-packages/tornado/platform/asyncio.py\", line 205, in start\n\n  File \"/usr/lib/python3.12/asyncio/base_events.py\", line 641, in run_forever\n\n  File \"/usr/lib/python3.12/asyncio/base_events.py\", line 1987, in _run_once\n\n  File \"/usr/lib/python3.12/asyncio/events.py\", line 88, in _run\n\n  File \"/mnt/sde1/My_Files/Code/Git_Repos/hve_projects/.venv/lib/python3.12/site-packages/ipykernel/kernelbase.py\", line 545, in dispatch_queue\n\n  File \"/mnt/sde1/My_Files/Code/Git_Repos/hve_projects/.venv/lib/python3.12/site-packages/ipykernel/kernelbase.py\", line 534, in process_one\n\n  File \"/mnt/sde1/My_Files/Code/Git_Repos/hve_projects/.venv/lib/python3.12/site-packages/ipykernel/kernelbase.py\", line 437, in dispatch_shell\n\n  File \"/mnt/sde1/My_Files/Code/Git_Repos/hve_projects/.venv/lib/python3.12/site-packages/ipykernel/ipkernel.py\", line 362, in execute_request\n\n  File \"/mnt/sde1/My_Files/Code/Git_Repos/hve_projects/.venv/lib/python3.12/site-packages/ipykernel/kernelbase.py\", line 778, in execute_request\n\n  File \"/mnt/sde1/My_Files/Code/Git_Repos/hve_projects/.venv/lib/python3.12/site-packages/ipykernel/ipkernel.py\", line 449, in do_execute\n\n  File \"/mnt/sde1/My_Files/Code/Git_Repos/hve_projects/.venv/lib/python3.12/site-packages/ipykernel/zmqshell.py\", line 549, in run_cell\n\n  File \"/mnt/sde1/My_Files/Code/Git_Repos/hve_projects/.venv/lib/python3.12/site-packages/IPython/core/interactiveshell.py\", line 3075, in run_cell\n\n  File \"/mnt/sde1/My_Files/Code/Git_Repos/hve_projects/.venv/lib/python3.12/site-packages/IPython/core/interactiveshell.py\", line 3130, in _run_cell\n\n  File \"/mnt/sde1/My_Files/Code/Git_Repos/hve_projects/.venv/lib/python3.12/site-packages/IPython/core/async_helpers.py\", line 128, in _pseudo_sync_runner\n\n  File \"/mnt/sde1/My_Files/Code/Git_Repos/hve_projects/.venv/lib/python3.12/site-packages/IPython/core/interactiveshell.py\", line 3334, in run_cell_async\n\n  File \"/mnt/sde1/My_Files/Code/Git_Repos/hve_projects/.venv/lib/python3.12/site-packages/IPython/core/interactiveshell.py\", line 3517, in run_ast_nodes\n\n  File \"/mnt/sde1/My_Files/Code/Git_Repos/hve_projects/.venv/lib/python3.12/site-packages/IPython/core/interactiveshell.py\", line 3577, in run_code\n\n  File \"/tmp/ipykernel_89263/4030023438.py\", line 9, in <module>\n\n  File \"/mnt/sde1/My_Files/Code/Git_Repos/hve_projects/.venv/lib/python3.12/site-packages/sklearn/utils/_param_validation.py\", line 213, in wrapper\n\n  File \"/mnt/sde1/My_Files/Code/Git_Repos/hve_projects/.venv/lib/python3.12/site-packages/sklearn/model_selection/_validation.py\", line 712, in cross_val_score\n\n  File \"/mnt/sde1/My_Files/Code/Git_Repos/hve_projects/.venv/lib/python3.12/site-packages/sklearn/utils/_param_validation.py\", line 213, in wrapper\n\n  File \"/mnt/sde1/My_Files/Code/Git_Repos/hve_projects/.venv/lib/python3.12/site-packages/sklearn/model_selection/_validation.py\", line 423, in cross_validate\n\n  File \"/mnt/sde1/My_Files/Code/Git_Repos/hve_projects/.venv/lib/python3.12/site-packages/sklearn/utils/parallel.py\", line 74, in __call__\n\n  File \"/mnt/sde1/My_Files/Code/Git_Repos/hve_projects/.venv/lib/python3.12/site-packages/joblib/parallel.py\", line 1918, in __call__\n\n  File \"/mnt/sde1/My_Files/Code/Git_Repos/hve_projects/.venv/lib/python3.12/site-packages/joblib/parallel.py\", line 1847, in _get_sequential_output\n\n  File \"/mnt/sde1/My_Files/Code/Git_Repos/hve_projects/.venv/lib/python3.12/site-packages/sklearn/utils/parallel.py\", line 136, in __call__\n\n  File \"/mnt/sde1/My_Files/Code/Git_Repos/hve_projects/.venv/lib/python3.12/site-packages/sklearn/model_selection/_validation.py\", line 888, in _fit_and_score\n\n  File \"/mnt/sde1/My_Files/Code/Git_Repos/hve_projects/.venv/lib/python3.12/site-packages/scikeras/wrappers.py\", line 1501, in fit\n\n  File \"/mnt/sde1/My_Files/Code/Git_Repos/hve_projects/.venv/lib/python3.12/site-packages/scikeras/wrappers.py\", line 770, in fit\n\n  File \"/mnt/sde1/My_Files/Code/Git_Repos/hve_projects/.venv/lib/python3.12/site-packages/scikeras/wrappers.py\", line 938, in _fit\n\n  File \"/mnt/sde1/My_Files/Code/Git_Repos/hve_projects/.venv/lib/python3.12/site-packages/scikeras/wrappers.py\", line 535, in _fit_keras_model\n\n  File \"/mnt/sde1/My_Files/Code/Git_Repos/hve_projects/.venv/lib/python3.12/site-packages/keras/src/utils/traceback_utils.py\", line 117, in error_handler\n\n  File \"/mnt/sde1/My_Files/Code/Git_Repos/hve_projects/.venv/lib/python3.12/site-packages/keras/src/backend/tensorflow/trainer.py\", line 320, in fit\n\n  File \"/mnt/sde1/My_Files/Code/Git_Repos/hve_projects/.venv/lib/python3.12/site-packages/keras/src/backend/tensorflow/trainer.py\", line 121, in one_step_on_iterator\n\nFailed to determine best cudnn convolution algorithm for:\n%cudnn-conv-bias-activation.3 = (f32[32,32,30,30]{3,2,1,0}, u8[0]{0}) custom-call(f32[32,3,32,32]{3,2,1,0} %multiply.179, f32[32,3,3,3]{3,2,1,0} %transpose.69, f32[32]{0} %arg3.4), window={size=3x3}, dim_labels=bf01_oi01->bf01, custom_call_target=\"__cudnn$convBiasActivationForward\", metadata={op_type=\"Conv2D\" op_name=\"sequential_1_1/conv2d_1_1/convolution\" source_file=\"/mnt/sde1/My_Files/Code/Git_Repos/hve_projects/.venv/lib/python3.12/site-packages/tensorflow/python/framework/ops.py\" source_line=1177}, backend_config={\"operation_queue_id\":\"0\",\"wait_on_operation_queues\":[],\"cudnn_conv_backend_config\":{\"conv_result_scale\":1,\"activation_mode\":\"kNone\",\"side_input_scale\":0,\"leakyrelu_alpha\":0},\"force_earliest_schedule\":false}\n\nOriginal error: RESOURCE_EXHAUSTED: Out of memory while trying to allocate 17170432 bytes.\n\nTo ignore this failure and try to use a fallback algorithm (which may have suboptimal performance), use XLA_FLAGS=--xla_gpu_strict_conv_algorithm_picker=false.  Please also file a bug for the root cause of failing autotuning.\n\t [[{{node StatefulPartitionedCall}}]] [Op:__inference_one_step_on_iterator_18704]\n",
     "output_type": "error",
     "traceback": [
      "\u001b[0;31m---------------------------------------------------------------------------\u001b[0m",
      "\u001b[0;31mValueError\u001b[0m                                Traceback (most recent call last)",
      "Cell \u001b[0;32mIn[22], line 9\u001b[0m\n\u001b[1;32m      3\u001b[0m model \u001b[38;5;241m=\u001b[39m KerasClassifier(model\u001b[38;5;241m=\u001b[39mCNN_model01())\n\u001b[1;32m      5\u001b[0m fit_params \u001b[38;5;241m=\u001b[39m {\n\u001b[1;32m      6\u001b[0m     \u001b[38;5;66;03m# TODO\u001b[39;00m\n\u001b[1;32m      7\u001b[0m }\n\u001b[0;32m----> 9\u001b[0m k_fold_acc \u001b[38;5;241m=\u001b[39m \u001b[43mcross_val_score\u001b[49m\u001b[43m(\u001b[49m\u001b[43mmodel\u001b[49m\u001b[43m,\u001b[49m\u001b[43m \u001b[49m\u001b[43mX_train\u001b[49m\u001b[43m,\u001b[49m\u001b[43m \u001b[49m\u001b[43my_train\u001b[49m\u001b[43m,\u001b[49m\u001b[43m \u001b[49m\u001b[43mcv\u001b[49m\u001b[38;5;241;43m=\u001b[39;49m\u001b[38;5;241;43m10\u001b[39;49m\u001b[43m,\u001b[49m\u001b[43m \u001b[49m\u001b[43mscoring\u001b[49m\u001b[38;5;241;43m=\u001b[39;49m\u001b[38;5;124;43m'\u001b[39;49m\u001b[38;5;124;43maccuracy\u001b[39;49m\u001b[38;5;124;43m'\u001b[39;49m\u001b[43m,\u001b[49m\u001b[43m \u001b[49m\u001b[43mfit_params\u001b[49m\u001b[38;5;241;43m=\u001b[39;49m\u001b[43mfit_params\u001b[49m\u001b[43m)\u001b[49m\n",
      "File \u001b[0;32m/mnt/sde1/My_Files/Code/Git_Repos/hve_projects/.venv/lib/python3.12/site-packages/sklearn/utils/_param_validation.py:213\u001b[0m, in \u001b[0;36mvalidate_params.<locals>.decorator.<locals>.wrapper\u001b[0;34m(*args, **kwargs)\u001b[0m\n\u001b[1;32m    207\u001b[0m \u001b[38;5;28;01mtry\u001b[39;00m:\n\u001b[1;32m    208\u001b[0m     \u001b[38;5;28;01mwith\u001b[39;00m config_context(\n\u001b[1;32m    209\u001b[0m         skip_parameter_validation\u001b[38;5;241m=\u001b[39m(\n\u001b[1;32m    210\u001b[0m             prefer_skip_nested_validation \u001b[38;5;129;01mor\u001b[39;00m global_skip_validation\n\u001b[1;32m    211\u001b[0m         )\n\u001b[1;32m    212\u001b[0m     ):\n\u001b[0;32m--> 213\u001b[0m         \u001b[38;5;28;01mreturn\u001b[39;00m \u001b[43mfunc\u001b[49m\u001b[43m(\u001b[49m\u001b[38;5;241;43m*\u001b[39;49m\u001b[43margs\u001b[49m\u001b[43m,\u001b[49m\u001b[43m \u001b[49m\u001b[38;5;241;43m*\u001b[39;49m\u001b[38;5;241;43m*\u001b[39;49m\u001b[43mkwargs\u001b[49m\u001b[43m)\u001b[49m\n\u001b[1;32m    214\u001b[0m \u001b[38;5;28;01mexcept\u001b[39;00m InvalidParameterError \u001b[38;5;28;01mas\u001b[39;00m e:\n\u001b[1;32m    215\u001b[0m     \u001b[38;5;66;03m# When the function is just a wrapper around an estimator, we allow\u001b[39;00m\n\u001b[1;32m    216\u001b[0m     \u001b[38;5;66;03m# the function to delegate validation to the estimator, but we replace\u001b[39;00m\n\u001b[1;32m    217\u001b[0m     \u001b[38;5;66;03m# the name of the estimator by the name of the function in the error\u001b[39;00m\n\u001b[1;32m    218\u001b[0m     \u001b[38;5;66;03m# message to avoid confusion.\u001b[39;00m\n\u001b[1;32m    219\u001b[0m     msg \u001b[38;5;241m=\u001b[39m re\u001b[38;5;241m.\u001b[39msub(\n\u001b[1;32m    220\u001b[0m         \u001b[38;5;124mr\u001b[39m\u001b[38;5;124m\"\u001b[39m\u001b[38;5;124mparameter of \u001b[39m\u001b[38;5;124m\\\u001b[39m\u001b[38;5;124mw+ must be\u001b[39m\u001b[38;5;124m\"\u001b[39m,\n\u001b[1;32m    221\u001b[0m         \u001b[38;5;124mf\u001b[39m\u001b[38;5;124m\"\u001b[39m\u001b[38;5;124mparameter of \u001b[39m\u001b[38;5;132;01m{\u001b[39;00mfunc\u001b[38;5;241m.\u001b[39m\u001b[38;5;18m__qualname__\u001b[39m\u001b[38;5;132;01m}\u001b[39;00m\u001b[38;5;124m must be\u001b[39m\u001b[38;5;124m\"\u001b[39m,\n\u001b[1;32m    222\u001b[0m         \u001b[38;5;28mstr\u001b[39m(e),\n\u001b[1;32m    223\u001b[0m     )\n",
      "File \u001b[0;32m/mnt/sde1/My_Files/Code/Git_Repos/hve_projects/.venv/lib/python3.12/site-packages/sklearn/model_selection/_validation.py:712\u001b[0m, in \u001b[0;36mcross_val_score\u001b[0;34m(estimator, X, y, groups, scoring, cv, n_jobs, verbose, fit_params, params, pre_dispatch, error_score)\u001b[0m\n\u001b[1;32m    709\u001b[0m \u001b[38;5;66;03m# To ensure multimetric format is not supported\u001b[39;00m\n\u001b[1;32m    710\u001b[0m scorer \u001b[38;5;241m=\u001b[39m check_scoring(estimator, scoring\u001b[38;5;241m=\u001b[39mscoring)\n\u001b[0;32m--> 712\u001b[0m cv_results \u001b[38;5;241m=\u001b[39m \u001b[43mcross_validate\u001b[49m\u001b[43m(\u001b[49m\n\u001b[1;32m    713\u001b[0m \u001b[43m    \u001b[49m\u001b[43mestimator\u001b[49m\u001b[38;5;241;43m=\u001b[39;49m\u001b[43mestimator\u001b[49m\u001b[43m,\u001b[49m\n\u001b[1;32m    714\u001b[0m \u001b[43m    \u001b[49m\u001b[43mX\u001b[49m\u001b[38;5;241;43m=\u001b[39;49m\u001b[43mX\u001b[49m\u001b[43m,\u001b[49m\n\u001b[1;32m    715\u001b[0m \u001b[43m    \u001b[49m\u001b[43my\u001b[49m\u001b[38;5;241;43m=\u001b[39;49m\u001b[43my\u001b[49m\u001b[43m,\u001b[49m\n\u001b[1;32m    716\u001b[0m \u001b[43m    \u001b[49m\u001b[43mgroups\u001b[49m\u001b[38;5;241;43m=\u001b[39;49m\u001b[43mgroups\u001b[49m\u001b[43m,\u001b[49m\n\u001b[1;32m    717\u001b[0m \u001b[43m    \u001b[49m\u001b[43mscoring\u001b[49m\u001b[38;5;241;43m=\u001b[39;49m\u001b[43m{\u001b[49m\u001b[38;5;124;43m\"\u001b[39;49m\u001b[38;5;124;43mscore\u001b[39;49m\u001b[38;5;124;43m\"\u001b[39;49m\u001b[43m:\u001b[49m\u001b[43m \u001b[49m\u001b[43mscorer\u001b[49m\u001b[43m}\u001b[49m\u001b[43m,\u001b[49m\n\u001b[1;32m    718\u001b[0m \u001b[43m    \u001b[49m\u001b[43mcv\u001b[49m\u001b[38;5;241;43m=\u001b[39;49m\u001b[43mcv\u001b[49m\u001b[43m,\u001b[49m\n\u001b[1;32m    719\u001b[0m \u001b[43m    \u001b[49m\u001b[43mn_jobs\u001b[49m\u001b[38;5;241;43m=\u001b[39;49m\u001b[43mn_jobs\u001b[49m\u001b[43m,\u001b[49m\n\u001b[1;32m    720\u001b[0m \u001b[43m    \u001b[49m\u001b[43mverbose\u001b[49m\u001b[38;5;241;43m=\u001b[39;49m\u001b[43mverbose\u001b[49m\u001b[43m,\u001b[49m\n\u001b[1;32m    721\u001b[0m \u001b[43m    \u001b[49m\u001b[43mfit_params\u001b[49m\u001b[38;5;241;43m=\u001b[39;49m\u001b[43mfit_params\u001b[49m\u001b[43m,\u001b[49m\n\u001b[1;32m    722\u001b[0m \u001b[43m    \u001b[49m\u001b[43mparams\u001b[49m\u001b[38;5;241;43m=\u001b[39;49m\u001b[43mparams\u001b[49m\u001b[43m,\u001b[49m\n\u001b[1;32m    723\u001b[0m \u001b[43m    \u001b[49m\u001b[43mpre_dispatch\u001b[49m\u001b[38;5;241;43m=\u001b[39;49m\u001b[43mpre_dispatch\u001b[49m\u001b[43m,\u001b[49m\n\u001b[1;32m    724\u001b[0m \u001b[43m    \u001b[49m\u001b[43merror_score\u001b[49m\u001b[38;5;241;43m=\u001b[39;49m\u001b[43merror_score\u001b[49m\u001b[43m,\u001b[49m\n\u001b[1;32m    725\u001b[0m \u001b[43m\u001b[49m\u001b[43m)\u001b[49m\n\u001b[1;32m    726\u001b[0m \u001b[38;5;28;01mreturn\u001b[39;00m cv_results[\u001b[38;5;124m\"\u001b[39m\u001b[38;5;124mtest_score\u001b[39m\u001b[38;5;124m\"\u001b[39m]\n",
      "File \u001b[0;32m/mnt/sde1/My_Files/Code/Git_Repos/hve_projects/.venv/lib/python3.12/site-packages/sklearn/utils/_param_validation.py:213\u001b[0m, in \u001b[0;36mvalidate_params.<locals>.decorator.<locals>.wrapper\u001b[0;34m(*args, **kwargs)\u001b[0m\n\u001b[1;32m    207\u001b[0m \u001b[38;5;28;01mtry\u001b[39;00m:\n\u001b[1;32m    208\u001b[0m     \u001b[38;5;28;01mwith\u001b[39;00m config_context(\n\u001b[1;32m    209\u001b[0m         skip_parameter_validation\u001b[38;5;241m=\u001b[39m(\n\u001b[1;32m    210\u001b[0m             prefer_skip_nested_validation \u001b[38;5;129;01mor\u001b[39;00m global_skip_validation\n\u001b[1;32m    211\u001b[0m         )\n\u001b[1;32m    212\u001b[0m     ):\n\u001b[0;32m--> 213\u001b[0m         \u001b[38;5;28;01mreturn\u001b[39;00m \u001b[43mfunc\u001b[49m\u001b[43m(\u001b[49m\u001b[38;5;241;43m*\u001b[39;49m\u001b[43margs\u001b[49m\u001b[43m,\u001b[49m\u001b[43m \u001b[49m\u001b[38;5;241;43m*\u001b[39;49m\u001b[38;5;241;43m*\u001b[39;49m\u001b[43mkwargs\u001b[49m\u001b[43m)\u001b[49m\n\u001b[1;32m    214\u001b[0m \u001b[38;5;28;01mexcept\u001b[39;00m InvalidParameterError \u001b[38;5;28;01mas\u001b[39;00m e:\n\u001b[1;32m    215\u001b[0m     \u001b[38;5;66;03m# When the function is just a wrapper around an estimator, we allow\u001b[39;00m\n\u001b[1;32m    216\u001b[0m     \u001b[38;5;66;03m# the function to delegate validation to the estimator, but we replace\u001b[39;00m\n\u001b[1;32m    217\u001b[0m     \u001b[38;5;66;03m# the name of the estimator by the name of the function in the error\u001b[39;00m\n\u001b[1;32m    218\u001b[0m     \u001b[38;5;66;03m# message to avoid confusion.\u001b[39;00m\n\u001b[1;32m    219\u001b[0m     msg \u001b[38;5;241m=\u001b[39m re\u001b[38;5;241m.\u001b[39msub(\n\u001b[1;32m    220\u001b[0m         \u001b[38;5;124mr\u001b[39m\u001b[38;5;124m\"\u001b[39m\u001b[38;5;124mparameter of \u001b[39m\u001b[38;5;124m\\\u001b[39m\u001b[38;5;124mw+ must be\u001b[39m\u001b[38;5;124m\"\u001b[39m,\n\u001b[1;32m    221\u001b[0m         \u001b[38;5;124mf\u001b[39m\u001b[38;5;124m\"\u001b[39m\u001b[38;5;124mparameter of \u001b[39m\u001b[38;5;132;01m{\u001b[39;00mfunc\u001b[38;5;241m.\u001b[39m\u001b[38;5;18m__qualname__\u001b[39m\u001b[38;5;132;01m}\u001b[39;00m\u001b[38;5;124m must be\u001b[39m\u001b[38;5;124m\"\u001b[39m,\n\u001b[1;32m    222\u001b[0m         \u001b[38;5;28mstr\u001b[39m(e),\n\u001b[1;32m    223\u001b[0m     )\n",
      "File \u001b[0;32m/mnt/sde1/My_Files/Code/Git_Repos/hve_projects/.venv/lib/python3.12/site-packages/sklearn/model_selection/_validation.py:443\u001b[0m, in \u001b[0;36mcross_validate\u001b[0;34m(estimator, X, y, groups, scoring, cv, n_jobs, verbose, fit_params, params, pre_dispatch, return_train_score, return_estimator, return_indices, error_score)\u001b[0m\n\u001b[1;32m    422\u001b[0m parallel \u001b[38;5;241m=\u001b[39m Parallel(n_jobs\u001b[38;5;241m=\u001b[39mn_jobs, verbose\u001b[38;5;241m=\u001b[39mverbose, pre_dispatch\u001b[38;5;241m=\u001b[39mpre_dispatch)\n\u001b[1;32m    423\u001b[0m results \u001b[38;5;241m=\u001b[39m parallel(\n\u001b[1;32m    424\u001b[0m     delayed(_fit_and_score)(\n\u001b[1;32m    425\u001b[0m         clone(estimator),\n\u001b[0;32m   (...)\u001b[0m\n\u001b[1;32m    440\u001b[0m     \u001b[38;5;28;01mfor\u001b[39;00m train, test \u001b[38;5;129;01min\u001b[39;00m indices\n\u001b[1;32m    441\u001b[0m )\n\u001b[0;32m--> 443\u001b[0m \u001b[43m_warn_or_raise_about_fit_failures\u001b[49m\u001b[43m(\u001b[49m\u001b[43mresults\u001b[49m\u001b[43m,\u001b[49m\u001b[43m \u001b[49m\u001b[43merror_score\u001b[49m\u001b[43m)\u001b[49m\n\u001b[1;32m    445\u001b[0m \u001b[38;5;66;03m# For callable scoring, the return type is only know after calling. If the\u001b[39;00m\n\u001b[1;32m    446\u001b[0m \u001b[38;5;66;03m# return type is a dictionary, the error scores can now be inserted with\u001b[39;00m\n\u001b[1;32m    447\u001b[0m \u001b[38;5;66;03m# the correct key.\u001b[39;00m\n\u001b[1;32m    448\u001b[0m \u001b[38;5;28;01mif\u001b[39;00m \u001b[38;5;28mcallable\u001b[39m(scoring):\n",
      "File \u001b[0;32m/mnt/sde1/My_Files/Code/Git_Repos/hve_projects/.venv/lib/python3.12/site-packages/sklearn/model_selection/_validation.py:529\u001b[0m, in \u001b[0;36m_warn_or_raise_about_fit_failures\u001b[0;34m(results, error_score)\u001b[0m\n\u001b[1;32m    522\u001b[0m \u001b[38;5;28;01mif\u001b[39;00m num_failed_fits \u001b[38;5;241m==\u001b[39m num_fits:\n\u001b[1;32m    523\u001b[0m     all_fits_failed_message \u001b[38;5;241m=\u001b[39m (\n\u001b[1;32m    524\u001b[0m         \u001b[38;5;124mf\u001b[39m\u001b[38;5;124m\"\u001b[39m\u001b[38;5;130;01m\\n\u001b[39;00m\u001b[38;5;124mAll the \u001b[39m\u001b[38;5;132;01m{\u001b[39;00mnum_fits\u001b[38;5;132;01m}\u001b[39;00m\u001b[38;5;124m fits failed.\u001b[39m\u001b[38;5;130;01m\\n\u001b[39;00m\u001b[38;5;124m\"\u001b[39m\n\u001b[1;32m    525\u001b[0m         \u001b[38;5;124m\"\u001b[39m\u001b[38;5;124mIt is very likely that your model is misconfigured.\u001b[39m\u001b[38;5;130;01m\\n\u001b[39;00m\u001b[38;5;124m\"\u001b[39m\n\u001b[1;32m    526\u001b[0m         \u001b[38;5;124m\"\u001b[39m\u001b[38;5;124mYou can try to debug the error by setting error_score=\u001b[39m\u001b[38;5;124m'\u001b[39m\u001b[38;5;124mraise\u001b[39m\u001b[38;5;124m'\u001b[39m\u001b[38;5;124m.\u001b[39m\u001b[38;5;130;01m\\n\u001b[39;00m\u001b[38;5;130;01m\\n\u001b[39;00m\u001b[38;5;124m\"\u001b[39m\n\u001b[1;32m    527\u001b[0m         \u001b[38;5;124mf\u001b[39m\u001b[38;5;124m\"\u001b[39m\u001b[38;5;124mBelow are more details about the failures:\u001b[39m\u001b[38;5;130;01m\\n\u001b[39;00m\u001b[38;5;132;01m{\u001b[39;00mfit_errors_summary\u001b[38;5;132;01m}\u001b[39;00m\u001b[38;5;124m\"\u001b[39m\n\u001b[1;32m    528\u001b[0m     )\n\u001b[0;32m--> 529\u001b[0m     \u001b[38;5;28;01mraise\u001b[39;00m \u001b[38;5;167;01mValueError\u001b[39;00m(all_fits_failed_message)\n\u001b[1;32m    531\u001b[0m \u001b[38;5;28;01melse\u001b[39;00m:\n\u001b[1;32m    532\u001b[0m     some_fits_failed_message \u001b[38;5;241m=\u001b[39m (\n\u001b[1;32m    533\u001b[0m         \u001b[38;5;124mf\u001b[39m\u001b[38;5;124m\"\u001b[39m\u001b[38;5;130;01m\\n\u001b[39;00m\u001b[38;5;132;01m{\u001b[39;00mnum_failed_fits\u001b[38;5;132;01m}\u001b[39;00m\u001b[38;5;124m fits failed out of a total of \u001b[39m\u001b[38;5;132;01m{\u001b[39;00mnum_fits\u001b[38;5;132;01m}\u001b[39;00m\u001b[38;5;124m.\u001b[39m\u001b[38;5;130;01m\\n\u001b[39;00m\u001b[38;5;124m\"\u001b[39m\n\u001b[1;32m    534\u001b[0m         \u001b[38;5;124m\"\u001b[39m\u001b[38;5;124mThe score on these train-test partitions for these parameters\u001b[39m\u001b[38;5;124m\"\u001b[39m\n\u001b[0;32m   (...)\u001b[0m\n\u001b[1;32m    538\u001b[0m         \u001b[38;5;124mf\u001b[39m\u001b[38;5;124m\"\u001b[39m\u001b[38;5;124mBelow are more details about the failures:\u001b[39m\u001b[38;5;130;01m\\n\u001b[39;00m\u001b[38;5;132;01m{\u001b[39;00mfit_errors_summary\u001b[38;5;132;01m}\u001b[39;00m\u001b[38;5;124m\"\u001b[39m\n\u001b[1;32m    539\u001b[0m     )\n",
      "\u001b[0;31mValueError\u001b[0m: \nAll the 10 fits failed.\nIt is very likely that your model is misconfigured.\nYou can try to debug the error by setting error_score='raise'.\n\nBelow are more details about the failures:\n--------------------------------------------------------------------------------\n1 fits failed with the following error:\nTraceback (most recent call last):\n  File \"/mnt/sde1/My_Files/Code/Git_Repos/hve_projects/.venv/lib/python3.12/site-packages/sklearn/model_selection/_validation.py\", line 888, in _fit_and_score\n    estimator.fit(X_train, y_train, **fit_params)\n  File \"/mnt/sde1/My_Files/Code/Git_Repos/hve_projects/.venv/lib/python3.12/site-packages/scikeras/wrappers.py\", line 1501, in fit\n    super().fit(X=X, y=y, sample_weight=sample_weight, **kwargs)\n  File \"/mnt/sde1/My_Files/Code/Git_Repos/hve_projects/.venv/lib/python3.12/site-packages/scikeras/wrappers.py\", line 770, in fit\n    self._fit(\n  File \"/mnt/sde1/My_Files/Code/Git_Repos/hve_projects/.venv/lib/python3.12/site-packages/scikeras/wrappers.py\", line 938, in _fit\n    self._fit_keras_model(\n  File \"/mnt/sde1/My_Files/Code/Git_Repos/hve_projects/.venv/lib/python3.12/site-packages/scikeras/wrappers.py\", line 535, in _fit_keras_model\n    hist = self.model_.fit(x=X, y=y, **fit_args)\n           ^^^^^^^^^^^^^^^^^^^^^^^^^^^^^^^^^^^^^\n  File \"/mnt/sde1/My_Files/Code/Git_Repos/hve_projects/.venv/lib/python3.12/site-packages/keras/src/utils/traceback_utils.py\", line 122, in error_handler\n    raise e.with_traceback(filtered_tb) from None\n  File \"/mnt/sde1/My_Files/Code/Git_Repos/hve_projects/.venv/lib/python3.12/site-packages/tensorflow/python/eager/execute.py\", line 59, in quick_execute\n    except TypeError as e:\ntensorflow.python.framework.errors_impl.UnknownError: Graph execution error:\n\nDetected at node StatefulPartitionedCall defined at (most recent call last):\n  File \"<frozen runpy>\", line 198, in _run_module_as_main\n\n  File \"<frozen runpy>\", line 88, in _run_code\n\n  File \"/mnt/sde1/My_Files/Code/Git_Repos/hve_projects/.venv/lib/python3.12/site-packages/ipykernel_launcher.py\", line 18, in <module>\n\n  File \"/mnt/sde1/My_Files/Code/Git_Repos/hve_projects/.venv/lib/python3.12/site-packages/traitlets/config/application.py\", line 1075, in launch_instance\n\n  File \"/mnt/sde1/My_Files/Code/Git_Repos/hve_projects/.venv/lib/python3.12/site-packages/ipykernel/kernelapp.py\", line 739, in start\n\n  File \"/mnt/sde1/My_Files/Code/Git_Repos/hve_projects/.venv/lib/python3.12/site-packages/tornado/platform/asyncio.py\", line 205, in start\n\n  File \"/usr/lib/python3.12/asyncio/base_events.py\", line 641, in run_forever\n\n  File \"/usr/lib/python3.12/asyncio/base_events.py\", line 1987, in _run_once\n\n  File \"/usr/lib/python3.12/asyncio/events.py\", line 88, in _run\n\n  File \"/mnt/sde1/My_Files/Code/Git_Repos/hve_projects/.venv/lib/python3.12/site-packages/ipykernel/kernelbase.py\", line 545, in dispatch_queue\n\n  File \"/mnt/sde1/My_Files/Code/Git_Repos/hve_projects/.venv/lib/python3.12/site-packages/ipykernel/kernelbase.py\", line 534, in process_one\n\n  File \"/mnt/sde1/My_Files/Code/Git_Repos/hve_projects/.venv/lib/python3.12/site-packages/ipykernel/kernelbase.py\", line 437, in dispatch_shell\n\n  File \"/mnt/sde1/My_Files/Code/Git_Repos/hve_projects/.venv/lib/python3.12/site-packages/ipykernel/ipkernel.py\", line 362, in execute_request\n\n  File \"/mnt/sde1/My_Files/Code/Git_Repos/hve_projects/.venv/lib/python3.12/site-packages/ipykernel/kernelbase.py\", line 778, in execute_request\n\n  File \"/mnt/sde1/My_Files/Code/Git_Repos/hve_projects/.venv/lib/python3.12/site-packages/ipykernel/ipkernel.py\", line 449, in do_execute\n\n  File \"/mnt/sde1/My_Files/Code/Git_Repos/hve_projects/.venv/lib/python3.12/site-packages/ipykernel/zmqshell.py\", line 549, in run_cell\n\n  File \"/mnt/sde1/My_Files/Code/Git_Repos/hve_projects/.venv/lib/python3.12/site-packages/IPython/core/interactiveshell.py\", line 3075, in run_cell\n\n  File \"/mnt/sde1/My_Files/Code/Git_Repos/hve_projects/.venv/lib/python3.12/site-packages/IPython/core/interactiveshell.py\", line 3130, in _run_cell\n\n  File \"/mnt/sde1/My_Files/Code/Git_Repos/hve_projects/.venv/lib/python3.12/site-packages/IPython/core/async_helpers.py\", line 128, in _pseudo_sync_runner\n\n  File \"/mnt/sde1/My_Files/Code/Git_Repos/hve_projects/.venv/lib/python3.12/site-packages/IPython/core/interactiveshell.py\", line 3334, in run_cell_async\n\n  File \"/mnt/sde1/My_Files/Code/Git_Repos/hve_projects/.venv/lib/python3.12/site-packages/IPython/core/interactiveshell.py\", line 3517, in run_ast_nodes\n\n  File \"/mnt/sde1/My_Files/Code/Git_Repos/hve_projects/.venv/lib/python3.12/site-packages/IPython/core/interactiveshell.py\", line 3577, in run_code\n\n  File \"/tmp/ipykernel_89263/4030023438.py\", line 9, in <module>\n\n  File \"/mnt/sde1/My_Files/Code/Git_Repos/hve_projects/.venv/lib/python3.12/site-packages/sklearn/utils/_param_validation.py\", line 213, in wrapper\n\n  File \"/mnt/sde1/My_Files/Code/Git_Repos/hve_projects/.venv/lib/python3.12/site-packages/sklearn/model_selection/_validation.py\", line 712, in cross_val_score\n\n  File \"/mnt/sde1/My_Files/Code/Git_Repos/hve_projects/.venv/lib/python3.12/site-packages/sklearn/utils/_param_validation.py\", line 213, in wrapper\n\n  File \"/mnt/sde1/My_Files/Code/Git_Repos/hve_projects/.venv/lib/python3.12/site-packages/sklearn/model_selection/_validation.py\", line 423, in cross_validate\n\n  File \"/mnt/sde1/My_Files/Code/Git_Repos/hve_projects/.venv/lib/python3.12/site-packages/sklearn/utils/parallel.py\", line 74, in __call__\n\n  File \"/mnt/sde1/My_Files/Code/Git_Repos/hve_projects/.venv/lib/python3.12/site-packages/joblib/parallel.py\", line 1918, in __call__\n\n  File \"/mnt/sde1/My_Files/Code/Git_Repos/hve_projects/.venv/lib/python3.12/site-packages/joblib/parallel.py\", line 1847, in _get_sequential_output\n\n  File \"/mnt/sde1/My_Files/Code/Git_Repos/hve_projects/.venv/lib/python3.12/site-packages/sklearn/utils/parallel.py\", line 136, in __call__\n\n  File \"/mnt/sde1/My_Files/Code/Git_Repos/hve_projects/.venv/lib/python3.12/site-packages/sklearn/model_selection/_validation.py\", line 888, in _fit_and_score\n\n  File \"/mnt/sde1/My_Files/Code/Git_Repos/hve_projects/.venv/lib/python3.12/site-packages/scikeras/wrappers.py\", line 1501, in fit\n\n  File \"/mnt/sde1/My_Files/Code/Git_Repos/hve_projects/.venv/lib/python3.12/site-packages/scikeras/wrappers.py\", line 770, in fit\n\n  File \"/mnt/sde1/My_Files/Code/Git_Repos/hve_projects/.venv/lib/python3.12/site-packages/scikeras/wrappers.py\", line 938, in _fit\n\n  File \"/mnt/sde1/My_Files/Code/Git_Repos/hve_projects/.venv/lib/python3.12/site-packages/scikeras/wrappers.py\", line 535, in _fit_keras_model\n\n  File \"/mnt/sde1/My_Files/Code/Git_Repos/hve_projects/.venv/lib/python3.12/site-packages/keras/src/utils/traceback_utils.py\", line 117, in error_handler\n\n  File \"/mnt/sde1/My_Files/Code/Git_Repos/hve_projects/.venv/lib/python3.12/site-packages/keras/src/backend/tensorflow/trainer.py\", line 320, in fit\n\n  File \"/mnt/sde1/My_Files/Code/Git_Repos/hve_projects/.venv/lib/python3.12/site-packages/keras/src/backend/tensorflow/trainer.py\", line 121, in one_step_on_iterator\n\nFailed to determine best cudnn convolution algorithm for:\n%cudnn-conv-bias-activation.3 = (f32[32,32,30,30]{3,2,1,0}, u8[0]{0}) custom-call(f32[32,3,32,32]{3,2,1,0} %multiply.179, f32[32,3,3,3]{3,2,1,0} %transpose.69, f32[32]{0} %arg3.4), window={size=3x3}, dim_labels=bf01_oi01->bf01, custom_call_target=\"__cudnn$convBiasActivationForward\", metadata={op_type=\"Conv2D\" op_name=\"sequential_1_1/conv2d_1_1/convolution\" source_file=\"/mnt/sde1/My_Files/Code/Git_Repos/hve_projects/.venv/lib/python3.12/site-packages/tensorflow/python/framework/ops.py\" source_line=1177}, backend_config={\"operation_queue_id\":\"0\",\"wait_on_operation_queues\":[],\"cudnn_conv_backend_config\":{\"conv_result_scale\":1,\"activation_mode\":\"kNone\",\"side_input_scale\":0,\"leakyrelu_alpha\":0},\"force_earliest_schedule\":false}\n\nOriginal error: RESOURCE_EXHAUSTED: Out of memory while trying to allocate 17170432 bytes.\n\nTo ignore this failure and try to use a fallback algorithm (which may have suboptimal performance), use XLA_FLAGS=--xla_gpu_strict_conv_algorithm_picker=false.  Please also file a bug for the root cause of failing autotuning.\n\t [[{{node StatefulPartitionedCall}}]] [Op:__inference_one_step_on_iterator_2054]\n\n--------------------------------------------------------------------------------\n1 fits failed with the following error:\nTraceback (most recent call last):\n  File \"/mnt/sde1/My_Files/Code/Git_Repos/hve_projects/.venv/lib/python3.12/site-packages/sklearn/model_selection/_validation.py\", line 888, in _fit_and_score\n    estimator.fit(X_train, y_train, **fit_params)\n  File \"/mnt/sde1/My_Files/Code/Git_Repos/hve_projects/.venv/lib/python3.12/site-packages/scikeras/wrappers.py\", line 1501, in fit\n    super().fit(X=X, y=y, sample_weight=sample_weight, **kwargs)\n  File \"/mnt/sde1/My_Files/Code/Git_Repos/hve_projects/.venv/lib/python3.12/site-packages/scikeras/wrappers.py\", line 770, in fit\n    self._fit(\n  File \"/mnt/sde1/My_Files/Code/Git_Repos/hve_projects/.venv/lib/python3.12/site-packages/scikeras/wrappers.py\", line 938, in _fit\n    self._fit_keras_model(\n  File \"/mnt/sde1/My_Files/Code/Git_Repos/hve_projects/.venv/lib/python3.12/site-packages/scikeras/wrappers.py\", line 535, in _fit_keras_model\n    hist = self.model_.fit(x=X, y=y, **fit_args)\n           ^^^^^^^^^^^^^^^^^^^^^^^^^^^^^^^^^^^^^\n  File \"/mnt/sde1/My_Files/Code/Git_Repos/hve_projects/.venv/lib/python3.12/site-packages/keras/src/utils/traceback_utils.py\", line 122, in error_handler\n    raise e.with_traceback(filtered_tb) from None\n  File \"/mnt/sde1/My_Files/Code/Git_Repos/hve_projects/.venv/lib/python3.12/site-packages/tensorflow/python/eager/execute.py\", line 59, in quick_execute\n    except TypeError as e:\ntensorflow.python.framework.errors_impl.UnknownError: Graph execution error:\n\nDetected at node StatefulPartitionedCall defined at (most recent call last):\n  File \"<frozen runpy>\", line 198, in _run_module_as_main\n\n  File \"<frozen runpy>\", line 88, in _run_code\n\n  File \"/mnt/sde1/My_Files/Code/Git_Repos/hve_projects/.venv/lib/python3.12/site-packages/ipykernel_launcher.py\", line 18, in <module>\n\n  File \"/mnt/sde1/My_Files/Code/Git_Repos/hve_projects/.venv/lib/python3.12/site-packages/traitlets/config/application.py\", line 1075, in launch_instance\n\n  File \"/mnt/sde1/My_Files/Code/Git_Repos/hve_projects/.venv/lib/python3.12/site-packages/ipykernel/kernelapp.py\", line 739, in start\n\n  File \"/mnt/sde1/My_Files/Code/Git_Repos/hve_projects/.venv/lib/python3.12/site-packages/tornado/platform/asyncio.py\", line 205, in start\n\n  File \"/usr/lib/python3.12/asyncio/base_events.py\", line 641, in run_forever\n\n  File \"/usr/lib/python3.12/asyncio/base_events.py\", line 1987, in _run_once\n\n  File \"/usr/lib/python3.12/asyncio/events.py\", line 88, in _run\n\n  File \"/mnt/sde1/My_Files/Code/Git_Repos/hve_projects/.venv/lib/python3.12/site-packages/ipykernel/kernelbase.py\", line 545, in dispatch_queue\n\n  File \"/mnt/sde1/My_Files/Code/Git_Repos/hve_projects/.venv/lib/python3.12/site-packages/ipykernel/kernelbase.py\", line 534, in process_one\n\n  File \"/mnt/sde1/My_Files/Code/Git_Repos/hve_projects/.venv/lib/python3.12/site-packages/ipykernel/kernelbase.py\", line 437, in dispatch_shell\n\n  File \"/mnt/sde1/My_Files/Code/Git_Repos/hve_projects/.venv/lib/python3.12/site-packages/ipykernel/ipkernel.py\", line 362, in execute_request\n\n  File \"/mnt/sde1/My_Files/Code/Git_Repos/hve_projects/.venv/lib/python3.12/site-packages/ipykernel/kernelbase.py\", line 778, in execute_request\n\n  File \"/mnt/sde1/My_Files/Code/Git_Repos/hve_projects/.venv/lib/python3.12/site-packages/ipykernel/ipkernel.py\", line 449, in do_execute\n\n  File \"/mnt/sde1/My_Files/Code/Git_Repos/hve_projects/.venv/lib/python3.12/site-packages/ipykernel/zmqshell.py\", line 549, in run_cell\n\n  File \"/mnt/sde1/My_Files/Code/Git_Repos/hve_projects/.venv/lib/python3.12/site-packages/IPython/core/interactiveshell.py\", line 3075, in run_cell\n\n  File \"/mnt/sde1/My_Files/Code/Git_Repos/hve_projects/.venv/lib/python3.12/site-packages/IPython/core/interactiveshell.py\", line 3130, in _run_cell\n\n  File \"/mnt/sde1/My_Files/Code/Git_Repos/hve_projects/.venv/lib/python3.12/site-packages/IPython/core/async_helpers.py\", line 128, in _pseudo_sync_runner\n\n  File \"/mnt/sde1/My_Files/Code/Git_Repos/hve_projects/.venv/lib/python3.12/site-packages/IPython/core/interactiveshell.py\", line 3334, in run_cell_async\n\n  File \"/mnt/sde1/My_Files/Code/Git_Repos/hve_projects/.venv/lib/python3.12/site-packages/IPython/core/interactiveshell.py\", line 3517, in run_ast_nodes\n\n  File \"/mnt/sde1/My_Files/Code/Git_Repos/hve_projects/.venv/lib/python3.12/site-packages/IPython/core/interactiveshell.py\", line 3577, in run_code\n\n  File \"/tmp/ipykernel_89263/4030023438.py\", line 9, in <module>\n\n  File \"/mnt/sde1/My_Files/Code/Git_Repos/hve_projects/.venv/lib/python3.12/site-packages/sklearn/utils/_param_validation.py\", line 213, in wrapper\n\n  File \"/mnt/sde1/My_Files/Code/Git_Repos/hve_projects/.venv/lib/python3.12/site-packages/sklearn/model_selection/_validation.py\", line 712, in cross_val_score\n\n  File \"/mnt/sde1/My_Files/Code/Git_Repos/hve_projects/.venv/lib/python3.12/site-packages/sklearn/utils/_param_validation.py\", line 213, in wrapper\n\n  File \"/mnt/sde1/My_Files/Code/Git_Repos/hve_projects/.venv/lib/python3.12/site-packages/sklearn/model_selection/_validation.py\", line 423, in cross_validate\n\n  File \"/mnt/sde1/My_Files/Code/Git_Repos/hve_projects/.venv/lib/python3.12/site-packages/sklearn/utils/parallel.py\", line 74, in __call__\n\n  File \"/mnt/sde1/My_Files/Code/Git_Repos/hve_projects/.venv/lib/python3.12/site-packages/joblib/parallel.py\", line 1918, in __call__\n\n  File \"/mnt/sde1/My_Files/Code/Git_Repos/hve_projects/.venv/lib/python3.12/site-packages/joblib/parallel.py\", line 1847, in _get_sequential_output\n\n  File \"/mnt/sde1/My_Files/Code/Git_Repos/hve_projects/.venv/lib/python3.12/site-packages/sklearn/utils/parallel.py\", line 136, in __call__\n\n  File \"/mnt/sde1/My_Files/Code/Git_Repos/hve_projects/.venv/lib/python3.12/site-packages/sklearn/model_selection/_validation.py\", line 888, in _fit_and_score\n\n  File \"/mnt/sde1/My_Files/Code/Git_Repos/hve_projects/.venv/lib/python3.12/site-packages/scikeras/wrappers.py\", line 1501, in fit\n\n  File \"/mnt/sde1/My_Files/Code/Git_Repos/hve_projects/.venv/lib/python3.12/site-packages/scikeras/wrappers.py\", line 770, in fit\n\n  File \"/mnt/sde1/My_Files/Code/Git_Repos/hve_projects/.venv/lib/python3.12/site-packages/scikeras/wrappers.py\", line 938, in _fit\n\n  File \"/mnt/sde1/My_Files/Code/Git_Repos/hve_projects/.venv/lib/python3.12/site-packages/scikeras/wrappers.py\", line 535, in _fit_keras_model\n\n  File \"/mnt/sde1/My_Files/Code/Git_Repos/hve_projects/.venv/lib/python3.12/site-packages/keras/src/utils/traceback_utils.py\", line 117, in error_handler\n\n  File \"/mnt/sde1/My_Files/Code/Git_Repos/hve_projects/.venv/lib/python3.12/site-packages/keras/src/backend/tensorflow/trainer.py\", line 320, in fit\n\n  File \"/mnt/sde1/My_Files/Code/Git_Repos/hve_projects/.venv/lib/python3.12/site-packages/keras/src/backend/tensorflow/trainer.py\", line 121, in one_step_on_iterator\n\nFailed to determine best cudnn convolution algorithm for:\n%cudnn-conv-bias-activation.3 = (f32[32,32,30,30]{3,2,1,0}, u8[0]{0}) custom-call(f32[32,3,32,32]{3,2,1,0} %multiply.179, f32[32,3,3,3]{3,2,1,0} %transpose.69, f32[32]{0} %arg3.4), window={size=3x3}, dim_labels=bf01_oi01->bf01, custom_call_target=\"__cudnn$convBiasActivationForward\", metadata={op_type=\"Conv2D\" op_name=\"sequential_1_1/conv2d_1_1/convolution\" source_file=\"/mnt/sde1/My_Files/Code/Git_Repos/hve_projects/.venv/lib/python3.12/site-packages/tensorflow/python/framework/ops.py\" source_line=1177}, backend_config={\"operation_queue_id\":\"0\",\"wait_on_operation_queues\":[],\"cudnn_conv_backend_config\":{\"conv_result_scale\":1,\"activation_mode\":\"kNone\",\"side_input_scale\":0,\"leakyrelu_alpha\":0},\"force_earliest_schedule\":false}\n\nOriginal error: RESOURCE_EXHAUSTED: Out of memory while trying to allocate 17170432 bytes.\n\nTo ignore this failure and try to use a fallback algorithm (which may have suboptimal performance), use XLA_FLAGS=--xla_gpu_strict_conv_algorithm_picker=false.  Please also file a bug for the root cause of failing autotuning.\n\t [[{{node StatefulPartitionedCall}}]] [Op:__inference_one_step_on_iterator_3904]\n\n--------------------------------------------------------------------------------\n1 fits failed with the following error:\nTraceback (most recent call last):\n  File \"/mnt/sde1/My_Files/Code/Git_Repos/hve_projects/.venv/lib/python3.12/site-packages/sklearn/model_selection/_validation.py\", line 888, in _fit_and_score\n    estimator.fit(X_train, y_train, **fit_params)\n  File \"/mnt/sde1/My_Files/Code/Git_Repos/hve_projects/.venv/lib/python3.12/site-packages/scikeras/wrappers.py\", line 1501, in fit\n    super().fit(X=X, y=y, sample_weight=sample_weight, **kwargs)\n  File \"/mnt/sde1/My_Files/Code/Git_Repos/hve_projects/.venv/lib/python3.12/site-packages/scikeras/wrappers.py\", line 770, in fit\n    self._fit(\n  File \"/mnt/sde1/My_Files/Code/Git_Repos/hve_projects/.venv/lib/python3.12/site-packages/scikeras/wrappers.py\", line 938, in _fit\n    self._fit_keras_model(\n  File \"/mnt/sde1/My_Files/Code/Git_Repos/hve_projects/.venv/lib/python3.12/site-packages/scikeras/wrappers.py\", line 535, in _fit_keras_model\n    hist = self.model_.fit(x=X, y=y, **fit_args)\n           ^^^^^^^^^^^^^^^^^^^^^^^^^^^^^^^^^^^^^\n  File \"/mnt/sde1/My_Files/Code/Git_Repos/hve_projects/.venv/lib/python3.12/site-packages/keras/src/utils/traceback_utils.py\", line 122, in error_handler\n    raise e.with_traceback(filtered_tb) from None\n  File \"/mnt/sde1/My_Files/Code/Git_Repos/hve_projects/.venv/lib/python3.12/site-packages/tensorflow/python/eager/execute.py\", line 59, in quick_execute\n    except TypeError as e:\ntensorflow.python.framework.errors_impl.UnknownError: Graph execution error:\n\nDetected at node StatefulPartitionedCall defined at (most recent call last):\n  File \"<frozen runpy>\", line 198, in _run_module_as_main\n\n  File \"<frozen runpy>\", line 88, in _run_code\n\n  File \"/mnt/sde1/My_Files/Code/Git_Repos/hve_projects/.venv/lib/python3.12/site-packages/ipykernel_launcher.py\", line 18, in <module>\n\n  File \"/mnt/sde1/My_Files/Code/Git_Repos/hve_projects/.venv/lib/python3.12/site-packages/traitlets/config/application.py\", line 1075, in launch_instance\n\n  File \"/mnt/sde1/My_Files/Code/Git_Repos/hve_projects/.venv/lib/python3.12/site-packages/ipykernel/kernelapp.py\", line 739, in start\n\n  File \"/mnt/sde1/My_Files/Code/Git_Repos/hve_projects/.venv/lib/python3.12/site-packages/tornado/platform/asyncio.py\", line 205, in start\n\n  File \"/usr/lib/python3.12/asyncio/base_events.py\", line 641, in run_forever\n\n  File \"/usr/lib/python3.12/asyncio/base_events.py\", line 1987, in _run_once\n\n  File \"/usr/lib/python3.12/asyncio/events.py\", line 88, in _run\n\n  File \"/mnt/sde1/My_Files/Code/Git_Repos/hve_projects/.venv/lib/python3.12/site-packages/ipykernel/kernelbase.py\", line 545, in dispatch_queue\n\n  File \"/mnt/sde1/My_Files/Code/Git_Repos/hve_projects/.venv/lib/python3.12/site-packages/ipykernel/kernelbase.py\", line 534, in process_one\n\n  File \"/mnt/sde1/My_Files/Code/Git_Repos/hve_projects/.venv/lib/python3.12/site-packages/ipykernel/kernelbase.py\", line 437, in dispatch_shell\n\n  File \"/mnt/sde1/My_Files/Code/Git_Repos/hve_projects/.venv/lib/python3.12/site-packages/ipykernel/ipkernel.py\", line 362, in execute_request\n\n  File \"/mnt/sde1/My_Files/Code/Git_Repos/hve_projects/.venv/lib/python3.12/site-packages/ipykernel/kernelbase.py\", line 778, in execute_request\n\n  File \"/mnt/sde1/My_Files/Code/Git_Repos/hve_projects/.venv/lib/python3.12/site-packages/ipykernel/ipkernel.py\", line 449, in do_execute\n\n  File \"/mnt/sde1/My_Files/Code/Git_Repos/hve_projects/.venv/lib/python3.12/site-packages/ipykernel/zmqshell.py\", line 549, in run_cell\n\n  File \"/mnt/sde1/My_Files/Code/Git_Repos/hve_projects/.venv/lib/python3.12/site-packages/IPython/core/interactiveshell.py\", line 3075, in run_cell\n\n  File \"/mnt/sde1/My_Files/Code/Git_Repos/hve_projects/.venv/lib/python3.12/site-packages/IPython/core/interactiveshell.py\", line 3130, in _run_cell\n\n  File \"/mnt/sde1/My_Files/Code/Git_Repos/hve_projects/.venv/lib/python3.12/site-packages/IPython/core/async_helpers.py\", line 128, in _pseudo_sync_runner\n\n  File \"/mnt/sde1/My_Files/Code/Git_Repos/hve_projects/.venv/lib/python3.12/site-packages/IPython/core/interactiveshell.py\", line 3334, in run_cell_async\n\n  File \"/mnt/sde1/My_Files/Code/Git_Repos/hve_projects/.venv/lib/python3.12/site-packages/IPython/core/interactiveshell.py\", line 3517, in run_ast_nodes\n\n  File \"/mnt/sde1/My_Files/Code/Git_Repos/hve_projects/.venv/lib/python3.12/site-packages/IPython/core/interactiveshell.py\", line 3577, in run_code\n\n  File \"/tmp/ipykernel_89263/4030023438.py\", line 9, in <module>\n\n  File \"/mnt/sde1/My_Files/Code/Git_Repos/hve_projects/.venv/lib/python3.12/site-packages/sklearn/utils/_param_validation.py\", line 213, in wrapper\n\n  File \"/mnt/sde1/My_Files/Code/Git_Repos/hve_projects/.venv/lib/python3.12/site-packages/sklearn/model_selection/_validation.py\", line 712, in cross_val_score\n\n  File \"/mnt/sde1/My_Files/Code/Git_Repos/hve_projects/.venv/lib/python3.12/site-packages/sklearn/utils/_param_validation.py\", line 213, in wrapper\n\n  File \"/mnt/sde1/My_Files/Code/Git_Repos/hve_projects/.venv/lib/python3.12/site-packages/sklearn/model_selection/_validation.py\", line 423, in cross_validate\n\n  File \"/mnt/sde1/My_Files/Code/Git_Repos/hve_projects/.venv/lib/python3.12/site-packages/sklearn/utils/parallel.py\", line 74, in __call__\n\n  File \"/mnt/sde1/My_Files/Code/Git_Repos/hve_projects/.venv/lib/python3.12/site-packages/joblib/parallel.py\", line 1918, in __call__\n\n  File \"/mnt/sde1/My_Files/Code/Git_Repos/hve_projects/.venv/lib/python3.12/site-packages/joblib/parallel.py\", line 1847, in _get_sequential_output\n\n  File \"/mnt/sde1/My_Files/Code/Git_Repos/hve_projects/.venv/lib/python3.12/site-packages/sklearn/utils/parallel.py\", line 136, in __call__\n\n  File \"/mnt/sde1/My_Files/Code/Git_Repos/hve_projects/.venv/lib/python3.12/site-packages/sklearn/model_selection/_validation.py\", line 888, in _fit_and_score\n\n  File \"/mnt/sde1/My_Files/Code/Git_Repos/hve_projects/.venv/lib/python3.12/site-packages/scikeras/wrappers.py\", line 1501, in fit\n\n  File \"/mnt/sde1/My_Files/Code/Git_Repos/hve_projects/.venv/lib/python3.12/site-packages/scikeras/wrappers.py\", line 770, in fit\n\n  File \"/mnt/sde1/My_Files/Code/Git_Repos/hve_projects/.venv/lib/python3.12/site-packages/scikeras/wrappers.py\", line 938, in _fit\n\n  File \"/mnt/sde1/My_Files/Code/Git_Repos/hve_projects/.venv/lib/python3.12/site-packages/scikeras/wrappers.py\", line 535, in _fit_keras_model\n\n  File \"/mnt/sde1/My_Files/Code/Git_Repos/hve_projects/.venv/lib/python3.12/site-packages/keras/src/utils/traceback_utils.py\", line 117, in error_handler\n\n  File \"/mnt/sde1/My_Files/Code/Git_Repos/hve_projects/.venv/lib/python3.12/site-packages/keras/src/backend/tensorflow/trainer.py\", line 320, in fit\n\n  File \"/mnt/sde1/My_Files/Code/Git_Repos/hve_projects/.venv/lib/python3.12/site-packages/keras/src/backend/tensorflow/trainer.py\", line 121, in one_step_on_iterator\n\nFailed to determine best cudnn convolution algorithm for:\n%cudnn-conv-bias-activation.3 = (f32[32,32,30,30]{3,2,1,0}, u8[0]{0}) custom-call(f32[32,3,32,32]{3,2,1,0} %multiply.179, f32[32,3,3,3]{3,2,1,0} %transpose.69, f32[32]{0} %arg3.4), window={size=3x3}, dim_labels=bf01_oi01->bf01, custom_call_target=\"__cudnn$convBiasActivationForward\", metadata={op_type=\"Conv2D\" op_name=\"sequential_1_1/conv2d_1_1/convolution\" source_file=\"/mnt/sde1/My_Files/Code/Git_Repos/hve_projects/.venv/lib/python3.12/site-packages/tensorflow/python/framework/ops.py\" source_line=1177}, backend_config={\"operation_queue_id\":\"0\",\"wait_on_operation_queues\":[],\"cudnn_conv_backend_config\":{\"conv_result_scale\":1,\"activation_mode\":\"kNone\",\"side_input_scale\":0,\"leakyrelu_alpha\":0},\"force_earliest_schedule\":false}\n\nOriginal error: RESOURCE_EXHAUSTED: Out of memory while trying to allocate 17170432 bytes.\n\nTo ignore this failure and try to use a fallback algorithm (which may have suboptimal performance), use XLA_FLAGS=--xla_gpu_strict_conv_algorithm_picker=false.  Please also file a bug for the root cause of failing autotuning.\n\t [[{{node StatefulPartitionedCall}}]] [Op:__inference_one_step_on_iterator_5754]\n\n--------------------------------------------------------------------------------\n1 fits failed with the following error:\nTraceback (most recent call last):\n  File \"/mnt/sde1/My_Files/Code/Git_Repos/hve_projects/.venv/lib/python3.12/site-packages/sklearn/model_selection/_validation.py\", line 888, in _fit_and_score\n    estimator.fit(X_train, y_train, **fit_params)\n  File \"/mnt/sde1/My_Files/Code/Git_Repos/hve_projects/.venv/lib/python3.12/site-packages/scikeras/wrappers.py\", line 1501, in fit\n    super().fit(X=X, y=y, sample_weight=sample_weight, **kwargs)\n  File \"/mnt/sde1/My_Files/Code/Git_Repos/hve_projects/.venv/lib/python3.12/site-packages/scikeras/wrappers.py\", line 770, in fit\n    self._fit(\n  File \"/mnt/sde1/My_Files/Code/Git_Repos/hve_projects/.venv/lib/python3.12/site-packages/scikeras/wrappers.py\", line 938, in _fit\n    self._fit_keras_model(\n  File \"/mnt/sde1/My_Files/Code/Git_Repos/hve_projects/.venv/lib/python3.12/site-packages/scikeras/wrappers.py\", line 535, in _fit_keras_model\n    hist = self.model_.fit(x=X, y=y, **fit_args)\n           ^^^^^^^^^^^^^^^^^^^^^^^^^^^^^^^^^^^^^\n  File \"/mnt/sde1/My_Files/Code/Git_Repos/hve_projects/.venv/lib/python3.12/site-packages/keras/src/utils/traceback_utils.py\", line 122, in error_handler\n    raise e.with_traceback(filtered_tb) from None\n  File \"/mnt/sde1/My_Files/Code/Git_Repos/hve_projects/.venv/lib/python3.12/site-packages/tensorflow/python/eager/execute.py\", line 59, in quick_execute\n    except TypeError as e:\ntensorflow.python.framework.errors_impl.UnknownError: Graph execution error:\n\nDetected at node StatefulPartitionedCall defined at (most recent call last):\n  File \"<frozen runpy>\", line 198, in _run_module_as_main\n\n  File \"<frozen runpy>\", line 88, in _run_code\n\n  File \"/mnt/sde1/My_Files/Code/Git_Repos/hve_projects/.venv/lib/python3.12/site-packages/ipykernel_launcher.py\", line 18, in <module>\n\n  File \"/mnt/sde1/My_Files/Code/Git_Repos/hve_projects/.venv/lib/python3.12/site-packages/traitlets/config/application.py\", line 1075, in launch_instance\n\n  File \"/mnt/sde1/My_Files/Code/Git_Repos/hve_projects/.venv/lib/python3.12/site-packages/ipykernel/kernelapp.py\", line 739, in start\n\n  File \"/mnt/sde1/My_Files/Code/Git_Repos/hve_projects/.venv/lib/python3.12/site-packages/tornado/platform/asyncio.py\", line 205, in start\n\n  File \"/usr/lib/python3.12/asyncio/base_events.py\", line 641, in run_forever\n\n  File \"/usr/lib/python3.12/asyncio/base_events.py\", line 1987, in _run_once\n\n  File \"/usr/lib/python3.12/asyncio/events.py\", line 88, in _run\n\n  File \"/mnt/sde1/My_Files/Code/Git_Repos/hve_projects/.venv/lib/python3.12/site-packages/ipykernel/kernelbase.py\", line 545, in dispatch_queue\n\n  File \"/mnt/sde1/My_Files/Code/Git_Repos/hve_projects/.venv/lib/python3.12/site-packages/ipykernel/kernelbase.py\", line 534, in process_one\n\n  File \"/mnt/sde1/My_Files/Code/Git_Repos/hve_projects/.venv/lib/python3.12/site-packages/ipykernel/kernelbase.py\", line 437, in dispatch_shell\n\n  File \"/mnt/sde1/My_Files/Code/Git_Repos/hve_projects/.venv/lib/python3.12/site-packages/ipykernel/ipkernel.py\", line 362, in execute_request\n\n  File \"/mnt/sde1/My_Files/Code/Git_Repos/hve_projects/.venv/lib/python3.12/site-packages/ipykernel/kernelbase.py\", line 778, in execute_request\n\n  File \"/mnt/sde1/My_Files/Code/Git_Repos/hve_projects/.venv/lib/python3.12/site-packages/ipykernel/ipkernel.py\", line 449, in do_execute\n\n  File \"/mnt/sde1/My_Files/Code/Git_Repos/hve_projects/.venv/lib/python3.12/site-packages/ipykernel/zmqshell.py\", line 549, in run_cell\n\n  File \"/mnt/sde1/My_Files/Code/Git_Repos/hve_projects/.venv/lib/python3.12/site-packages/IPython/core/interactiveshell.py\", line 3075, in run_cell\n\n  File \"/mnt/sde1/My_Files/Code/Git_Repos/hve_projects/.venv/lib/python3.12/site-packages/IPython/core/interactiveshell.py\", line 3130, in _run_cell\n\n  File \"/mnt/sde1/My_Files/Code/Git_Repos/hve_projects/.venv/lib/python3.12/site-packages/IPython/core/async_helpers.py\", line 128, in _pseudo_sync_runner\n\n  File \"/mnt/sde1/My_Files/Code/Git_Repos/hve_projects/.venv/lib/python3.12/site-packages/IPython/core/interactiveshell.py\", line 3334, in run_cell_async\n\n  File \"/mnt/sde1/My_Files/Code/Git_Repos/hve_projects/.venv/lib/python3.12/site-packages/IPython/core/interactiveshell.py\", line 3517, in run_ast_nodes\n\n  File \"/mnt/sde1/My_Files/Code/Git_Repos/hve_projects/.venv/lib/python3.12/site-packages/IPython/core/interactiveshell.py\", line 3577, in run_code\n\n  File \"/tmp/ipykernel_89263/4030023438.py\", line 9, in <module>\n\n  File \"/mnt/sde1/My_Files/Code/Git_Repos/hve_projects/.venv/lib/python3.12/site-packages/sklearn/utils/_param_validation.py\", line 213, in wrapper\n\n  File \"/mnt/sde1/My_Files/Code/Git_Repos/hve_projects/.venv/lib/python3.12/site-packages/sklearn/model_selection/_validation.py\", line 712, in cross_val_score\n\n  File \"/mnt/sde1/My_Files/Code/Git_Repos/hve_projects/.venv/lib/python3.12/site-packages/sklearn/utils/_param_validation.py\", line 213, in wrapper\n\n  File \"/mnt/sde1/My_Files/Code/Git_Repos/hve_projects/.venv/lib/python3.12/site-packages/sklearn/model_selection/_validation.py\", line 423, in cross_validate\n\n  File \"/mnt/sde1/My_Files/Code/Git_Repos/hve_projects/.venv/lib/python3.12/site-packages/sklearn/utils/parallel.py\", line 74, in __call__\n\n  File \"/mnt/sde1/My_Files/Code/Git_Repos/hve_projects/.venv/lib/python3.12/site-packages/joblib/parallel.py\", line 1918, in __call__\n\n  File \"/mnt/sde1/My_Files/Code/Git_Repos/hve_projects/.venv/lib/python3.12/site-packages/joblib/parallel.py\", line 1847, in _get_sequential_output\n\n  File \"/mnt/sde1/My_Files/Code/Git_Repos/hve_projects/.venv/lib/python3.12/site-packages/sklearn/utils/parallel.py\", line 136, in __call__\n\n  File \"/mnt/sde1/My_Files/Code/Git_Repos/hve_projects/.venv/lib/python3.12/site-packages/sklearn/model_selection/_validation.py\", line 888, in _fit_and_score\n\n  File \"/mnt/sde1/My_Files/Code/Git_Repos/hve_projects/.venv/lib/python3.12/site-packages/scikeras/wrappers.py\", line 1501, in fit\n\n  File \"/mnt/sde1/My_Files/Code/Git_Repos/hve_projects/.venv/lib/python3.12/site-packages/scikeras/wrappers.py\", line 770, in fit\n\n  File \"/mnt/sde1/My_Files/Code/Git_Repos/hve_projects/.venv/lib/python3.12/site-packages/scikeras/wrappers.py\", line 938, in _fit\n\n  File \"/mnt/sde1/My_Files/Code/Git_Repos/hve_projects/.venv/lib/python3.12/site-packages/scikeras/wrappers.py\", line 535, in _fit_keras_model\n\n  File \"/mnt/sde1/My_Files/Code/Git_Repos/hve_projects/.venv/lib/python3.12/site-packages/keras/src/utils/traceback_utils.py\", line 117, in error_handler\n\n  File \"/mnt/sde1/My_Files/Code/Git_Repos/hve_projects/.venv/lib/python3.12/site-packages/keras/src/backend/tensorflow/trainer.py\", line 320, in fit\n\n  File \"/mnt/sde1/My_Files/Code/Git_Repos/hve_projects/.venv/lib/python3.12/site-packages/keras/src/backend/tensorflow/trainer.py\", line 121, in one_step_on_iterator\n\nFailed to determine best cudnn convolution algorithm for:\n%cudnn-conv-bias-activation.3 = (f32[32,32,30,30]{3,2,1,0}, u8[0]{0}) custom-call(f32[32,3,32,32]{3,2,1,0} %multiply.179, f32[32,3,3,3]{3,2,1,0} %transpose.69, f32[32]{0} %arg3.4), window={size=3x3}, dim_labels=bf01_oi01->bf01, custom_call_target=\"__cudnn$convBiasActivationForward\", metadata={op_type=\"Conv2D\" op_name=\"sequential_1_1/conv2d_1_1/convolution\" source_file=\"/mnt/sde1/My_Files/Code/Git_Repos/hve_projects/.venv/lib/python3.12/site-packages/tensorflow/python/framework/ops.py\" source_line=1177}, backend_config={\"operation_queue_id\":\"0\",\"wait_on_operation_queues\":[],\"cudnn_conv_backend_config\":{\"conv_result_scale\":1,\"activation_mode\":\"kNone\",\"side_input_scale\":0,\"leakyrelu_alpha\":0},\"force_earliest_schedule\":false}\n\nOriginal error: RESOURCE_EXHAUSTED: Out of memory while trying to allocate 17170432 bytes.\n\nTo ignore this failure and try to use a fallback algorithm (which may have suboptimal performance), use XLA_FLAGS=--xla_gpu_strict_conv_algorithm_picker=false.  Please also file a bug for the root cause of failing autotuning.\n\t [[{{node StatefulPartitionedCall}}]] [Op:__inference_one_step_on_iterator_7604]\n\n--------------------------------------------------------------------------------\n1 fits failed with the following error:\nTraceback (most recent call last):\n  File \"/mnt/sde1/My_Files/Code/Git_Repos/hve_projects/.venv/lib/python3.12/site-packages/sklearn/model_selection/_validation.py\", line 888, in _fit_and_score\n    estimator.fit(X_train, y_train, **fit_params)\n  File \"/mnt/sde1/My_Files/Code/Git_Repos/hve_projects/.venv/lib/python3.12/site-packages/scikeras/wrappers.py\", line 1501, in fit\n    super().fit(X=X, y=y, sample_weight=sample_weight, **kwargs)\n  File \"/mnt/sde1/My_Files/Code/Git_Repos/hve_projects/.venv/lib/python3.12/site-packages/scikeras/wrappers.py\", line 770, in fit\n    self._fit(\n  File \"/mnt/sde1/My_Files/Code/Git_Repos/hve_projects/.venv/lib/python3.12/site-packages/scikeras/wrappers.py\", line 938, in _fit\n    self._fit_keras_model(\n  File \"/mnt/sde1/My_Files/Code/Git_Repos/hve_projects/.venv/lib/python3.12/site-packages/scikeras/wrappers.py\", line 535, in _fit_keras_model\n    hist = self.model_.fit(x=X, y=y, **fit_args)\n           ^^^^^^^^^^^^^^^^^^^^^^^^^^^^^^^^^^^^^\n  File \"/mnt/sde1/My_Files/Code/Git_Repos/hve_projects/.venv/lib/python3.12/site-packages/keras/src/utils/traceback_utils.py\", line 122, in error_handler\n    raise e.with_traceback(filtered_tb) from None\n  File \"/mnt/sde1/My_Files/Code/Git_Repos/hve_projects/.venv/lib/python3.12/site-packages/tensorflow/python/eager/execute.py\", line 59, in quick_execute\n    except TypeError as e:\ntensorflow.python.framework.errors_impl.UnknownError: Graph execution error:\n\nDetected at node StatefulPartitionedCall defined at (most recent call last):\n  File \"<frozen runpy>\", line 198, in _run_module_as_main\n\n  File \"<frozen runpy>\", line 88, in _run_code\n\n  File \"/mnt/sde1/My_Files/Code/Git_Repos/hve_projects/.venv/lib/python3.12/site-packages/ipykernel_launcher.py\", line 18, in <module>\n\n  File \"/mnt/sde1/My_Files/Code/Git_Repos/hve_projects/.venv/lib/python3.12/site-packages/traitlets/config/application.py\", line 1075, in launch_instance\n\n  File \"/mnt/sde1/My_Files/Code/Git_Repos/hve_projects/.venv/lib/python3.12/site-packages/ipykernel/kernelapp.py\", line 739, in start\n\n  File \"/mnt/sde1/My_Files/Code/Git_Repos/hve_projects/.venv/lib/python3.12/site-packages/tornado/platform/asyncio.py\", line 205, in start\n\n  File \"/usr/lib/python3.12/asyncio/base_events.py\", line 641, in run_forever\n\n  File \"/usr/lib/python3.12/asyncio/base_events.py\", line 1987, in _run_once\n\n  File \"/usr/lib/python3.12/asyncio/events.py\", line 88, in _run\n\n  File \"/mnt/sde1/My_Files/Code/Git_Repos/hve_projects/.venv/lib/python3.12/site-packages/ipykernel/kernelbase.py\", line 545, in dispatch_queue\n\n  File \"/mnt/sde1/My_Files/Code/Git_Repos/hve_projects/.venv/lib/python3.12/site-packages/ipykernel/kernelbase.py\", line 534, in process_one\n\n  File \"/mnt/sde1/My_Files/Code/Git_Repos/hve_projects/.venv/lib/python3.12/site-packages/ipykernel/kernelbase.py\", line 437, in dispatch_shell\n\n  File \"/mnt/sde1/My_Files/Code/Git_Repos/hve_projects/.venv/lib/python3.12/site-packages/ipykernel/ipkernel.py\", line 362, in execute_request\n\n  File \"/mnt/sde1/My_Files/Code/Git_Repos/hve_projects/.venv/lib/python3.12/site-packages/ipykernel/kernelbase.py\", line 778, in execute_request\n\n  File \"/mnt/sde1/My_Files/Code/Git_Repos/hve_projects/.venv/lib/python3.12/site-packages/ipykernel/ipkernel.py\", line 449, in do_execute\n\n  File \"/mnt/sde1/My_Files/Code/Git_Repos/hve_projects/.venv/lib/python3.12/site-packages/ipykernel/zmqshell.py\", line 549, in run_cell\n\n  File \"/mnt/sde1/My_Files/Code/Git_Repos/hve_projects/.venv/lib/python3.12/site-packages/IPython/core/interactiveshell.py\", line 3075, in run_cell\n\n  File \"/mnt/sde1/My_Files/Code/Git_Repos/hve_projects/.venv/lib/python3.12/site-packages/IPython/core/interactiveshell.py\", line 3130, in _run_cell\n\n  File \"/mnt/sde1/My_Files/Code/Git_Repos/hve_projects/.venv/lib/python3.12/site-packages/IPython/core/async_helpers.py\", line 128, in _pseudo_sync_runner\n\n  File \"/mnt/sde1/My_Files/Code/Git_Repos/hve_projects/.venv/lib/python3.12/site-packages/IPython/core/interactiveshell.py\", line 3334, in run_cell_async\n\n  File \"/mnt/sde1/My_Files/Code/Git_Repos/hve_projects/.venv/lib/python3.12/site-packages/IPython/core/interactiveshell.py\", line 3517, in run_ast_nodes\n\n  File \"/mnt/sde1/My_Files/Code/Git_Repos/hve_projects/.venv/lib/python3.12/site-packages/IPython/core/interactiveshell.py\", line 3577, in run_code\n\n  File \"/tmp/ipykernel_89263/4030023438.py\", line 9, in <module>\n\n  File \"/mnt/sde1/My_Files/Code/Git_Repos/hve_projects/.venv/lib/python3.12/site-packages/sklearn/utils/_param_validation.py\", line 213, in wrapper\n\n  File \"/mnt/sde1/My_Files/Code/Git_Repos/hve_projects/.venv/lib/python3.12/site-packages/sklearn/model_selection/_validation.py\", line 712, in cross_val_score\n\n  File \"/mnt/sde1/My_Files/Code/Git_Repos/hve_projects/.venv/lib/python3.12/site-packages/sklearn/utils/_param_validation.py\", line 213, in wrapper\n\n  File \"/mnt/sde1/My_Files/Code/Git_Repos/hve_projects/.venv/lib/python3.12/site-packages/sklearn/model_selection/_validation.py\", line 423, in cross_validate\n\n  File \"/mnt/sde1/My_Files/Code/Git_Repos/hve_projects/.venv/lib/python3.12/site-packages/sklearn/utils/parallel.py\", line 74, in __call__\n\n  File \"/mnt/sde1/My_Files/Code/Git_Repos/hve_projects/.venv/lib/python3.12/site-packages/joblib/parallel.py\", line 1918, in __call__\n\n  File \"/mnt/sde1/My_Files/Code/Git_Repos/hve_projects/.venv/lib/python3.12/site-packages/joblib/parallel.py\", line 1847, in _get_sequential_output\n\n  File \"/mnt/sde1/My_Files/Code/Git_Repos/hve_projects/.venv/lib/python3.12/site-packages/sklearn/utils/parallel.py\", line 136, in __call__\n\n  File \"/mnt/sde1/My_Files/Code/Git_Repos/hve_projects/.venv/lib/python3.12/site-packages/sklearn/model_selection/_validation.py\", line 888, in _fit_and_score\n\n  File \"/mnt/sde1/My_Files/Code/Git_Repos/hve_projects/.venv/lib/python3.12/site-packages/scikeras/wrappers.py\", line 1501, in fit\n\n  File \"/mnt/sde1/My_Files/Code/Git_Repos/hve_projects/.venv/lib/python3.12/site-packages/scikeras/wrappers.py\", line 770, in fit\n\n  File \"/mnt/sde1/My_Files/Code/Git_Repos/hve_projects/.venv/lib/python3.12/site-packages/scikeras/wrappers.py\", line 938, in _fit\n\n  File \"/mnt/sde1/My_Files/Code/Git_Repos/hve_projects/.venv/lib/python3.12/site-packages/scikeras/wrappers.py\", line 535, in _fit_keras_model\n\n  File \"/mnt/sde1/My_Files/Code/Git_Repos/hve_projects/.venv/lib/python3.12/site-packages/keras/src/utils/traceback_utils.py\", line 117, in error_handler\n\n  File \"/mnt/sde1/My_Files/Code/Git_Repos/hve_projects/.venv/lib/python3.12/site-packages/keras/src/backend/tensorflow/trainer.py\", line 320, in fit\n\n  File \"/mnt/sde1/My_Files/Code/Git_Repos/hve_projects/.venv/lib/python3.12/site-packages/keras/src/backend/tensorflow/trainer.py\", line 121, in one_step_on_iterator\n\nFailed to determine best cudnn convolution algorithm for:\n%cudnn-conv-bias-activation.3 = (f32[32,32,30,30]{3,2,1,0}, u8[0]{0}) custom-call(f32[32,3,32,32]{3,2,1,0} %multiply.179, f32[32,3,3,3]{3,2,1,0} %transpose.69, f32[32]{0} %arg3.4), window={size=3x3}, dim_labels=bf01_oi01->bf01, custom_call_target=\"__cudnn$convBiasActivationForward\", metadata={op_type=\"Conv2D\" op_name=\"sequential_1_1/conv2d_1_1/convolution\" source_file=\"/mnt/sde1/My_Files/Code/Git_Repos/hve_projects/.venv/lib/python3.12/site-packages/tensorflow/python/framework/ops.py\" source_line=1177}, backend_config={\"operation_queue_id\":\"0\",\"wait_on_operation_queues\":[],\"cudnn_conv_backend_config\":{\"conv_result_scale\":1,\"activation_mode\":\"kNone\",\"side_input_scale\":0,\"leakyrelu_alpha\":0},\"force_earliest_schedule\":false}\n\nOriginal error: RESOURCE_EXHAUSTED: Out of memory while trying to allocate 17170432 bytes.\n\nTo ignore this failure and try to use a fallback algorithm (which may have suboptimal performance), use XLA_FLAGS=--xla_gpu_strict_conv_algorithm_picker=false.  Please also file a bug for the root cause of failing autotuning.\n\t [[{{node StatefulPartitionedCall}}]] [Op:__inference_one_step_on_iterator_9454]\n\n--------------------------------------------------------------------------------\n1 fits failed with the following error:\nTraceback (most recent call last):\n  File \"/mnt/sde1/My_Files/Code/Git_Repos/hve_projects/.venv/lib/python3.12/site-packages/sklearn/model_selection/_validation.py\", line 888, in _fit_and_score\n    estimator.fit(X_train, y_train, **fit_params)\n  File \"/mnt/sde1/My_Files/Code/Git_Repos/hve_projects/.venv/lib/python3.12/site-packages/scikeras/wrappers.py\", line 1501, in fit\n    super().fit(X=X, y=y, sample_weight=sample_weight, **kwargs)\n  File \"/mnt/sde1/My_Files/Code/Git_Repos/hve_projects/.venv/lib/python3.12/site-packages/scikeras/wrappers.py\", line 770, in fit\n    self._fit(\n  File \"/mnt/sde1/My_Files/Code/Git_Repos/hve_projects/.venv/lib/python3.12/site-packages/scikeras/wrappers.py\", line 938, in _fit\n    self._fit_keras_model(\n  File \"/mnt/sde1/My_Files/Code/Git_Repos/hve_projects/.venv/lib/python3.12/site-packages/scikeras/wrappers.py\", line 535, in _fit_keras_model\n    hist = self.model_.fit(x=X, y=y, **fit_args)\n           ^^^^^^^^^^^^^^^^^^^^^^^^^^^^^^^^^^^^^\n  File \"/mnt/sde1/My_Files/Code/Git_Repos/hve_projects/.venv/lib/python3.12/site-packages/keras/src/utils/traceback_utils.py\", line 122, in error_handler\n    raise e.with_traceback(filtered_tb) from None\n  File \"/mnt/sde1/My_Files/Code/Git_Repos/hve_projects/.venv/lib/python3.12/site-packages/tensorflow/python/eager/execute.py\", line 59, in quick_execute\n    except TypeError as e:\ntensorflow.python.framework.errors_impl.UnknownError: Graph execution error:\n\nDetected at node StatefulPartitionedCall defined at (most recent call last):\n  File \"<frozen runpy>\", line 198, in _run_module_as_main\n\n  File \"<frozen runpy>\", line 88, in _run_code\n\n  File \"/mnt/sde1/My_Files/Code/Git_Repos/hve_projects/.venv/lib/python3.12/site-packages/ipykernel_launcher.py\", line 18, in <module>\n\n  File \"/mnt/sde1/My_Files/Code/Git_Repos/hve_projects/.venv/lib/python3.12/site-packages/traitlets/config/application.py\", line 1075, in launch_instance\n\n  File \"/mnt/sde1/My_Files/Code/Git_Repos/hve_projects/.venv/lib/python3.12/site-packages/ipykernel/kernelapp.py\", line 739, in start\n\n  File \"/mnt/sde1/My_Files/Code/Git_Repos/hve_projects/.venv/lib/python3.12/site-packages/tornado/platform/asyncio.py\", line 205, in start\n\n  File \"/usr/lib/python3.12/asyncio/base_events.py\", line 641, in run_forever\n\n  File \"/usr/lib/python3.12/asyncio/base_events.py\", line 1987, in _run_once\n\n  File \"/usr/lib/python3.12/asyncio/events.py\", line 88, in _run\n\n  File \"/mnt/sde1/My_Files/Code/Git_Repos/hve_projects/.venv/lib/python3.12/site-packages/ipykernel/kernelbase.py\", line 545, in dispatch_queue\n\n  File \"/mnt/sde1/My_Files/Code/Git_Repos/hve_projects/.venv/lib/python3.12/site-packages/ipykernel/kernelbase.py\", line 534, in process_one\n\n  File \"/mnt/sde1/My_Files/Code/Git_Repos/hve_projects/.venv/lib/python3.12/site-packages/ipykernel/kernelbase.py\", line 437, in dispatch_shell\n\n  File \"/mnt/sde1/My_Files/Code/Git_Repos/hve_projects/.venv/lib/python3.12/site-packages/ipykernel/ipkernel.py\", line 362, in execute_request\n\n  File \"/mnt/sde1/My_Files/Code/Git_Repos/hve_projects/.venv/lib/python3.12/site-packages/ipykernel/kernelbase.py\", line 778, in execute_request\n\n  File \"/mnt/sde1/My_Files/Code/Git_Repos/hve_projects/.venv/lib/python3.12/site-packages/ipykernel/ipkernel.py\", line 449, in do_execute\n\n  File \"/mnt/sde1/My_Files/Code/Git_Repos/hve_projects/.venv/lib/python3.12/site-packages/ipykernel/zmqshell.py\", line 549, in run_cell\n\n  File \"/mnt/sde1/My_Files/Code/Git_Repos/hve_projects/.venv/lib/python3.12/site-packages/IPython/core/interactiveshell.py\", line 3075, in run_cell\n\n  File \"/mnt/sde1/My_Files/Code/Git_Repos/hve_projects/.venv/lib/python3.12/site-packages/IPython/core/interactiveshell.py\", line 3130, in _run_cell\n\n  File \"/mnt/sde1/My_Files/Code/Git_Repos/hve_projects/.venv/lib/python3.12/site-packages/IPython/core/async_helpers.py\", line 128, in _pseudo_sync_runner\n\n  File \"/mnt/sde1/My_Files/Code/Git_Repos/hve_projects/.venv/lib/python3.12/site-packages/IPython/core/interactiveshell.py\", line 3334, in run_cell_async\n\n  File \"/mnt/sde1/My_Files/Code/Git_Repos/hve_projects/.venv/lib/python3.12/site-packages/IPython/core/interactiveshell.py\", line 3517, in run_ast_nodes\n\n  File \"/mnt/sde1/My_Files/Code/Git_Repos/hve_projects/.venv/lib/python3.12/site-packages/IPython/core/interactiveshell.py\", line 3577, in run_code\n\n  File \"/tmp/ipykernel_89263/4030023438.py\", line 9, in <module>\n\n  File \"/mnt/sde1/My_Files/Code/Git_Repos/hve_projects/.venv/lib/python3.12/site-packages/sklearn/utils/_param_validation.py\", line 213, in wrapper\n\n  File \"/mnt/sde1/My_Files/Code/Git_Repos/hve_projects/.venv/lib/python3.12/site-packages/sklearn/model_selection/_validation.py\", line 712, in cross_val_score\n\n  File \"/mnt/sde1/My_Files/Code/Git_Repos/hve_projects/.venv/lib/python3.12/site-packages/sklearn/utils/_param_validation.py\", line 213, in wrapper\n\n  File \"/mnt/sde1/My_Files/Code/Git_Repos/hve_projects/.venv/lib/python3.12/site-packages/sklearn/model_selection/_validation.py\", line 423, in cross_validate\n\n  File \"/mnt/sde1/My_Files/Code/Git_Repos/hve_projects/.venv/lib/python3.12/site-packages/sklearn/utils/parallel.py\", line 74, in __call__\n\n  File \"/mnt/sde1/My_Files/Code/Git_Repos/hve_projects/.venv/lib/python3.12/site-packages/joblib/parallel.py\", line 1918, in __call__\n\n  File \"/mnt/sde1/My_Files/Code/Git_Repos/hve_projects/.venv/lib/python3.12/site-packages/joblib/parallel.py\", line 1847, in _get_sequential_output\n\n  File \"/mnt/sde1/My_Files/Code/Git_Repos/hve_projects/.venv/lib/python3.12/site-packages/sklearn/utils/parallel.py\", line 136, in __call__\n\n  File \"/mnt/sde1/My_Files/Code/Git_Repos/hve_projects/.venv/lib/python3.12/site-packages/sklearn/model_selection/_validation.py\", line 888, in _fit_and_score\n\n  File \"/mnt/sde1/My_Files/Code/Git_Repos/hve_projects/.venv/lib/python3.12/site-packages/scikeras/wrappers.py\", line 1501, in fit\n\n  File \"/mnt/sde1/My_Files/Code/Git_Repos/hve_projects/.venv/lib/python3.12/site-packages/scikeras/wrappers.py\", line 770, in fit\n\n  File \"/mnt/sde1/My_Files/Code/Git_Repos/hve_projects/.venv/lib/python3.12/site-packages/scikeras/wrappers.py\", line 938, in _fit\n\n  File \"/mnt/sde1/My_Files/Code/Git_Repos/hve_projects/.venv/lib/python3.12/site-packages/scikeras/wrappers.py\", line 535, in _fit_keras_model\n\n  File \"/mnt/sde1/My_Files/Code/Git_Repos/hve_projects/.venv/lib/python3.12/site-packages/keras/src/utils/traceback_utils.py\", line 117, in error_handler\n\n  File \"/mnt/sde1/My_Files/Code/Git_Repos/hve_projects/.venv/lib/python3.12/site-packages/keras/src/backend/tensorflow/trainer.py\", line 320, in fit\n\n  File \"/mnt/sde1/My_Files/Code/Git_Repos/hve_projects/.venv/lib/python3.12/site-packages/keras/src/backend/tensorflow/trainer.py\", line 121, in one_step_on_iterator\n\nFailed to determine best cudnn convolution algorithm for:\n%cudnn-conv-bias-activation.3 = (f32[32,32,30,30]{3,2,1,0}, u8[0]{0}) custom-call(f32[32,3,32,32]{3,2,1,0} %multiply.179, f32[32,3,3,3]{3,2,1,0} %transpose.69, f32[32]{0} %arg3.4), window={size=3x3}, dim_labels=bf01_oi01->bf01, custom_call_target=\"__cudnn$convBiasActivationForward\", metadata={op_type=\"Conv2D\" op_name=\"sequential_1_1/conv2d_1_1/convolution\" source_file=\"/mnt/sde1/My_Files/Code/Git_Repos/hve_projects/.venv/lib/python3.12/site-packages/tensorflow/python/framework/ops.py\" source_line=1177}, backend_config={\"operation_queue_id\":\"0\",\"wait_on_operation_queues\":[],\"cudnn_conv_backend_config\":{\"conv_result_scale\":1,\"activation_mode\":\"kNone\",\"side_input_scale\":0,\"leakyrelu_alpha\":0},\"force_earliest_schedule\":false}\n\nOriginal error: RESOURCE_EXHAUSTED: Out of memory while trying to allocate 17170432 bytes.\n\nTo ignore this failure and try to use a fallback algorithm (which may have suboptimal performance), use XLA_FLAGS=--xla_gpu_strict_conv_algorithm_picker=false.  Please also file a bug for the root cause of failing autotuning.\n\t [[{{node StatefulPartitionedCall}}]] [Op:__inference_one_step_on_iterator_11304]\n\n--------------------------------------------------------------------------------\n1 fits failed with the following error:\nTraceback (most recent call last):\n  File \"/mnt/sde1/My_Files/Code/Git_Repos/hve_projects/.venv/lib/python3.12/site-packages/sklearn/model_selection/_validation.py\", line 888, in _fit_and_score\n    estimator.fit(X_train, y_train, **fit_params)\n  File \"/mnt/sde1/My_Files/Code/Git_Repos/hve_projects/.venv/lib/python3.12/site-packages/scikeras/wrappers.py\", line 1501, in fit\n    super().fit(X=X, y=y, sample_weight=sample_weight, **kwargs)\n  File \"/mnt/sde1/My_Files/Code/Git_Repos/hve_projects/.venv/lib/python3.12/site-packages/scikeras/wrappers.py\", line 770, in fit\n    self._fit(\n  File \"/mnt/sde1/My_Files/Code/Git_Repos/hve_projects/.venv/lib/python3.12/site-packages/scikeras/wrappers.py\", line 938, in _fit\n    self._fit_keras_model(\n  File \"/mnt/sde1/My_Files/Code/Git_Repos/hve_projects/.venv/lib/python3.12/site-packages/scikeras/wrappers.py\", line 535, in _fit_keras_model\n    hist = self.model_.fit(x=X, y=y, **fit_args)\n           ^^^^^^^^^^^^^^^^^^^^^^^^^^^^^^^^^^^^^\n  File \"/mnt/sde1/My_Files/Code/Git_Repos/hve_projects/.venv/lib/python3.12/site-packages/keras/src/utils/traceback_utils.py\", line 122, in error_handler\n    raise e.with_traceback(filtered_tb) from None\n  File \"/mnt/sde1/My_Files/Code/Git_Repos/hve_projects/.venv/lib/python3.12/site-packages/tensorflow/python/eager/execute.py\", line 59, in quick_execute\n    except TypeError as e:\ntensorflow.python.framework.errors_impl.UnknownError: Graph execution error:\n\nDetected at node StatefulPartitionedCall defined at (most recent call last):\n  File \"<frozen runpy>\", line 198, in _run_module_as_main\n\n  File \"<frozen runpy>\", line 88, in _run_code\n\n  File \"/mnt/sde1/My_Files/Code/Git_Repos/hve_projects/.venv/lib/python3.12/site-packages/ipykernel_launcher.py\", line 18, in <module>\n\n  File \"/mnt/sde1/My_Files/Code/Git_Repos/hve_projects/.venv/lib/python3.12/site-packages/traitlets/config/application.py\", line 1075, in launch_instance\n\n  File \"/mnt/sde1/My_Files/Code/Git_Repos/hve_projects/.venv/lib/python3.12/site-packages/ipykernel/kernelapp.py\", line 739, in start\n\n  File \"/mnt/sde1/My_Files/Code/Git_Repos/hve_projects/.venv/lib/python3.12/site-packages/tornado/platform/asyncio.py\", line 205, in start\n\n  File \"/usr/lib/python3.12/asyncio/base_events.py\", line 641, in run_forever\n\n  File \"/usr/lib/python3.12/asyncio/base_events.py\", line 1987, in _run_once\n\n  File \"/usr/lib/python3.12/asyncio/events.py\", line 88, in _run\n\n  File \"/mnt/sde1/My_Files/Code/Git_Repos/hve_projects/.venv/lib/python3.12/site-packages/ipykernel/kernelbase.py\", line 545, in dispatch_queue\n\n  File \"/mnt/sde1/My_Files/Code/Git_Repos/hve_projects/.venv/lib/python3.12/site-packages/ipykernel/kernelbase.py\", line 534, in process_one\n\n  File \"/mnt/sde1/My_Files/Code/Git_Repos/hve_projects/.venv/lib/python3.12/site-packages/ipykernel/kernelbase.py\", line 437, in dispatch_shell\n\n  File \"/mnt/sde1/My_Files/Code/Git_Repos/hve_projects/.venv/lib/python3.12/site-packages/ipykernel/ipkernel.py\", line 362, in execute_request\n\n  File \"/mnt/sde1/My_Files/Code/Git_Repos/hve_projects/.venv/lib/python3.12/site-packages/ipykernel/kernelbase.py\", line 778, in execute_request\n\n  File \"/mnt/sde1/My_Files/Code/Git_Repos/hve_projects/.venv/lib/python3.12/site-packages/ipykernel/ipkernel.py\", line 449, in do_execute\n\n  File \"/mnt/sde1/My_Files/Code/Git_Repos/hve_projects/.venv/lib/python3.12/site-packages/ipykernel/zmqshell.py\", line 549, in run_cell\n\n  File \"/mnt/sde1/My_Files/Code/Git_Repos/hve_projects/.venv/lib/python3.12/site-packages/IPython/core/interactiveshell.py\", line 3075, in run_cell\n\n  File \"/mnt/sde1/My_Files/Code/Git_Repos/hve_projects/.venv/lib/python3.12/site-packages/IPython/core/interactiveshell.py\", line 3130, in _run_cell\n\n  File \"/mnt/sde1/My_Files/Code/Git_Repos/hve_projects/.venv/lib/python3.12/site-packages/IPython/core/async_helpers.py\", line 128, in _pseudo_sync_runner\n\n  File \"/mnt/sde1/My_Files/Code/Git_Repos/hve_projects/.venv/lib/python3.12/site-packages/IPython/core/interactiveshell.py\", line 3334, in run_cell_async\n\n  File \"/mnt/sde1/My_Files/Code/Git_Repos/hve_projects/.venv/lib/python3.12/site-packages/IPython/core/interactiveshell.py\", line 3517, in run_ast_nodes\n\n  File \"/mnt/sde1/My_Files/Code/Git_Repos/hve_projects/.venv/lib/python3.12/site-packages/IPython/core/interactiveshell.py\", line 3577, in run_code\n\n  File \"/tmp/ipykernel_89263/4030023438.py\", line 9, in <module>\n\n  File \"/mnt/sde1/My_Files/Code/Git_Repos/hve_projects/.venv/lib/python3.12/site-packages/sklearn/utils/_param_validation.py\", line 213, in wrapper\n\n  File \"/mnt/sde1/My_Files/Code/Git_Repos/hve_projects/.venv/lib/python3.12/site-packages/sklearn/model_selection/_validation.py\", line 712, in cross_val_score\n\n  File \"/mnt/sde1/My_Files/Code/Git_Repos/hve_projects/.venv/lib/python3.12/site-packages/sklearn/utils/_param_validation.py\", line 213, in wrapper\n\n  File \"/mnt/sde1/My_Files/Code/Git_Repos/hve_projects/.venv/lib/python3.12/site-packages/sklearn/model_selection/_validation.py\", line 423, in cross_validate\n\n  File \"/mnt/sde1/My_Files/Code/Git_Repos/hve_projects/.venv/lib/python3.12/site-packages/sklearn/utils/parallel.py\", line 74, in __call__\n\n  File \"/mnt/sde1/My_Files/Code/Git_Repos/hve_projects/.venv/lib/python3.12/site-packages/joblib/parallel.py\", line 1918, in __call__\n\n  File \"/mnt/sde1/My_Files/Code/Git_Repos/hve_projects/.venv/lib/python3.12/site-packages/joblib/parallel.py\", line 1847, in _get_sequential_output\n\n  File \"/mnt/sde1/My_Files/Code/Git_Repos/hve_projects/.venv/lib/python3.12/site-packages/sklearn/utils/parallel.py\", line 136, in __call__\n\n  File \"/mnt/sde1/My_Files/Code/Git_Repos/hve_projects/.venv/lib/python3.12/site-packages/sklearn/model_selection/_validation.py\", line 888, in _fit_and_score\n\n  File \"/mnt/sde1/My_Files/Code/Git_Repos/hve_projects/.venv/lib/python3.12/site-packages/scikeras/wrappers.py\", line 1501, in fit\n\n  File \"/mnt/sde1/My_Files/Code/Git_Repos/hve_projects/.venv/lib/python3.12/site-packages/scikeras/wrappers.py\", line 770, in fit\n\n  File \"/mnt/sde1/My_Files/Code/Git_Repos/hve_projects/.venv/lib/python3.12/site-packages/scikeras/wrappers.py\", line 938, in _fit\n\n  File \"/mnt/sde1/My_Files/Code/Git_Repos/hve_projects/.venv/lib/python3.12/site-packages/scikeras/wrappers.py\", line 535, in _fit_keras_model\n\n  File \"/mnt/sde1/My_Files/Code/Git_Repos/hve_projects/.venv/lib/python3.12/site-packages/keras/src/utils/traceback_utils.py\", line 117, in error_handler\n\n  File \"/mnt/sde1/My_Files/Code/Git_Repos/hve_projects/.venv/lib/python3.12/site-packages/keras/src/backend/tensorflow/trainer.py\", line 320, in fit\n\n  File \"/mnt/sde1/My_Files/Code/Git_Repos/hve_projects/.venv/lib/python3.12/site-packages/keras/src/backend/tensorflow/trainer.py\", line 121, in one_step_on_iterator\n\nFailed to determine best cudnn convolution algorithm for:\n%cudnn-conv-bias-activation.3 = (f32[32,32,30,30]{3,2,1,0}, u8[0]{0}) custom-call(f32[32,3,32,32]{3,2,1,0} %multiply.179, f32[32,3,3,3]{3,2,1,0} %transpose.69, f32[32]{0} %arg3.4), window={size=3x3}, dim_labels=bf01_oi01->bf01, custom_call_target=\"__cudnn$convBiasActivationForward\", metadata={op_type=\"Conv2D\" op_name=\"sequential_1_1/conv2d_1_1/convolution\" source_file=\"/mnt/sde1/My_Files/Code/Git_Repos/hve_projects/.venv/lib/python3.12/site-packages/tensorflow/python/framework/ops.py\" source_line=1177}, backend_config={\"operation_queue_id\":\"0\",\"wait_on_operation_queues\":[],\"cudnn_conv_backend_config\":{\"conv_result_scale\":1,\"activation_mode\":\"kNone\",\"side_input_scale\":0,\"leakyrelu_alpha\":0},\"force_earliest_schedule\":false}\n\nOriginal error: RESOURCE_EXHAUSTED: Out of memory while trying to allocate 17170432 bytes.\n\nTo ignore this failure and try to use a fallback algorithm (which may have suboptimal performance), use XLA_FLAGS=--xla_gpu_strict_conv_algorithm_picker=false.  Please also file a bug for the root cause of failing autotuning.\n\t [[{{node StatefulPartitionedCall}}]] [Op:__inference_one_step_on_iterator_13154]\n\n--------------------------------------------------------------------------------\n1 fits failed with the following error:\nTraceback (most recent call last):\n  File \"/mnt/sde1/My_Files/Code/Git_Repos/hve_projects/.venv/lib/python3.12/site-packages/sklearn/model_selection/_validation.py\", line 888, in _fit_and_score\n    estimator.fit(X_train, y_train, **fit_params)\n  File \"/mnt/sde1/My_Files/Code/Git_Repos/hve_projects/.venv/lib/python3.12/site-packages/scikeras/wrappers.py\", line 1501, in fit\n    super().fit(X=X, y=y, sample_weight=sample_weight, **kwargs)\n  File \"/mnt/sde1/My_Files/Code/Git_Repos/hve_projects/.venv/lib/python3.12/site-packages/scikeras/wrappers.py\", line 770, in fit\n    self._fit(\n  File \"/mnt/sde1/My_Files/Code/Git_Repos/hve_projects/.venv/lib/python3.12/site-packages/scikeras/wrappers.py\", line 938, in _fit\n    self._fit_keras_model(\n  File \"/mnt/sde1/My_Files/Code/Git_Repos/hve_projects/.venv/lib/python3.12/site-packages/scikeras/wrappers.py\", line 535, in _fit_keras_model\n    hist = self.model_.fit(x=X, y=y, **fit_args)\n           ^^^^^^^^^^^^^^^^^^^^^^^^^^^^^^^^^^^^^\n  File \"/mnt/sde1/My_Files/Code/Git_Repos/hve_projects/.venv/lib/python3.12/site-packages/keras/src/utils/traceback_utils.py\", line 122, in error_handler\n    raise e.with_traceback(filtered_tb) from None\n  File \"/mnt/sde1/My_Files/Code/Git_Repos/hve_projects/.venv/lib/python3.12/site-packages/tensorflow/python/eager/execute.py\", line 59, in quick_execute\n    except TypeError as e:\ntensorflow.python.framework.errors_impl.UnknownError: Graph execution error:\n\nDetected at node StatefulPartitionedCall defined at (most recent call last):\n  File \"<frozen runpy>\", line 198, in _run_module_as_main\n\n  File \"<frozen runpy>\", line 88, in _run_code\n\n  File \"/mnt/sde1/My_Files/Code/Git_Repos/hve_projects/.venv/lib/python3.12/site-packages/ipykernel_launcher.py\", line 18, in <module>\n\n  File \"/mnt/sde1/My_Files/Code/Git_Repos/hve_projects/.venv/lib/python3.12/site-packages/traitlets/config/application.py\", line 1075, in launch_instance\n\n  File \"/mnt/sde1/My_Files/Code/Git_Repos/hve_projects/.venv/lib/python3.12/site-packages/ipykernel/kernelapp.py\", line 739, in start\n\n  File \"/mnt/sde1/My_Files/Code/Git_Repos/hve_projects/.venv/lib/python3.12/site-packages/tornado/platform/asyncio.py\", line 205, in start\n\n  File \"/usr/lib/python3.12/asyncio/base_events.py\", line 641, in run_forever\n\n  File \"/usr/lib/python3.12/asyncio/base_events.py\", line 1987, in _run_once\n\n  File \"/usr/lib/python3.12/asyncio/events.py\", line 88, in _run\n\n  File \"/mnt/sde1/My_Files/Code/Git_Repos/hve_projects/.venv/lib/python3.12/site-packages/ipykernel/kernelbase.py\", line 545, in dispatch_queue\n\n  File \"/mnt/sde1/My_Files/Code/Git_Repos/hve_projects/.venv/lib/python3.12/site-packages/ipykernel/kernelbase.py\", line 534, in process_one\n\n  File \"/mnt/sde1/My_Files/Code/Git_Repos/hve_projects/.venv/lib/python3.12/site-packages/ipykernel/kernelbase.py\", line 437, in dispatch_shell\n\n  File \"/mnt/sde1/My_Files/Code/Git_Repos/hve_projects/.venv/lib/python3.12/site-packages/ipykernel/ipkernel.py\", line 362, in execute_request\n\n  File \"/mnt/sde1/My_Files/Code/Git_Repos/hve_projects/.venv/lib/python3.12/site-packages/ipykernel/kernelbase.py\", line 778, in execute_request\n\n  File \"/mnt/sde1/My_Files/Code/Git_Repos/hve_projects/.venv/lib/python3.12/site-packages/ipykernel/ipkernel.py\", line 449, in do_execute\n\n  File \"/mnt/sde1/My_Files/Code/Git_Repos/hve_projects/.venv/lib/python3.12/site-packages/ipykernel/zmqshell.py\", line 549, in run_cell\n\n  File \"/mnt/sde1/My_Files/Code/Git_Repos/hve_projects/.venv/lib/python3.12/site-packages/IPython/core/interactiveshell.py\", line 3075, in run_cell\n\n  File \"/mnt/sde1/My_Files/Code/Git_Repos/hve_projects/.venv/lib/python3.12/site-packages/IPython/core/interactiveshell.py\", line 3130, in _run_cell\n\n  File \"/mnt/sde1/My_Files/Code/Git_Repos/hve_projects/.venv/lib/python3.12/site-packages/IPython/core/async_helpers.py\", line 128, in _pseudo_sync_runner\n\n  File \"/mnt/sde1/My_Files/Code/Git_Repos/hve_projects/.venv/lib/python3.12/site-packages/IPython/core/interactiveshell.py\", line 3334, in run_cell_async\n\n  File \"/mnt/sde1/My_Files/Code/Git_Repos/hve_projects/.venv/lib/python3.12/site-packages/IPython/core/interactiveshell.py\", line 3517, in run_ast_nodes\n\n  File \"/mnt/sde1/My_Files/Code/Git_Repos/hve_projects/.venv/lib/python3.12/site-packages/IPython/core/interactiveshell.py\", line 3577, in run_code\n\n  File \"/tmp/ipykernel_89263/4030023438.py\", line 9, in <module>\n\n  File \"/mnt/sde1/My_Files/Code/Git_Repos/hve_projects/.venv/lib/python3.12/site-packages/sklearn/utils/_param_validation.py\", line 213, in wrapper\n\n  File \"/mnt/sde1/My_Files/Code/Git_Repos/hve_projects/.venv/lib/python3.12/site-packages/sklearn/model_selection/_validation.py\", line 712, in cross_val_score\n\n  File \"/mnt/sde1/My_Files/Code/Git_Repos/hve_projects/.venv/lib/python3.12/site-packages/sklearn/utils/_param_validation.py\", line 213, in wrapper\n\n  File \"/mnt/sde1/My_Files/Code/Git_Repos/hve_projects/.venv/lib/python3.12/site-packages/sklearn/model_selection/_validation.py\", line 423, in cross_validate\n\n  File \"/mnt/sde1/My_Files/Code/Git_Repos/hve_projects/.venv/lib/python3.12/site-packages/sklearn/utils/parallel.py\", line 74, in __call__\n\n  File \"/mnt/sde1/My_Files/Code/Git_Repos/hve_projects/.venv/lib/python3.12/site-packages/joblib/parallel.py\", line 1918, in __call__\n\n  File \"/mnt/sde1/My_Files/Code/Git_Repos/hve_projects/.venv/lib/python3.12/site-packages/joblib/parallel.py\", line 1847, in _get_sequential_output\n\n  File \"/mnt/sde1/My_Files/Code/Git_Repos/hve_projects/.venv/lib/python3.12/site-packages/sklearn/utils/parallel.py\", line 136, in __call__\n\n  File \"/mnt/sde1/My_Files/Code/Git_Repos/hve_projects/.venv/lib/python3.12/site-packages/sklearn/model_selection/_validation.py\", line 888, in _fit_and_score\n\n  File \"/mnt/sde1/My_Files/Code/Git_Repos/hve_projects/.venv/lib/python3.12/site-packages/scikeras/wrappers.py\", line 1501, in fit\n\n  File \"/mnt/sde1/My_Files/Code/Git_Repos/hve_projects/.venv/lib/python3.12/site-packages/scikeras/wrappers.py\", line 770, in fit\n\n  File \"/mnt/sde1/My_Files/Code/Git_Repos/hve_projects/.venv/lib/python3.12/site-packages/scikeras/wrappers.py\", line 938, in _fit\n\n  File \"/mnt/sde1/My_Files/Code/Git_Repos/hve_projects/.venv/lib/python3.12/site-packages/scikeras/wrappers.py\", line 535, in _fit_keras_model\n\n  File \"/mnt/sde1/My_Files/Code/Git_Repos/hve_projects/.venv/lib/python3.12/site-packages/keras/src/utils/traceback_utils.py\", line 117, in error_handler\n\n  File \"/mnt/sde1/My_Files/Code/Git_Repos/hve_projects/.venv/lib/python3.12/site-packages/keras/src/backend/tensorflow/trainer.py\", line 320, in fit\n\n  File \"/mnt/sde1/My_Files/Code/Git_Repos/hve_projects/.venv/lib/python3.12/site-packages/keras/src/backend/tensorflow/trainer.py\", line 121, in one_step_on_iterator\n\nFailed to determine best cudnn convolution algorithm for:\n%cudnn-conv-bias-activation.3 = (f32[32,32,30,30]{3,2,1,0}, u8[0]{0}) custom-call(f32[32,3,32,32]{3,2,1,0} %multiply.179, f32[32,3,3,3]{3,2,1,0} %transpose.69, f32[32]{0} %arg3.4), window={size=3x3}, dim_labels=bf01_oi01->bf01, custom_call_target=\"__cudnn$convBiasActivationForward\", metadata={op_type=\"Conv2D\" op_name=\"sequential_1_1/conv2d_1_1/convolution\" source_file=\"/mnt/sde1/My_Files/Code/Git_Repos/hve_projects/.venv/lib/python3.12/site-packages/tensorflow/python/framework/ops.py\" source_line=1177}, backend_config={\"operation_queue_id\":\"0\",\"wait_on_operation_queues\":[],\"cudnn_conv_backend_config\":{\"conv_result_scale\":1,\"activation_mode\":\"kNone\",\"side_input_scale\":0,\"leakyrelu_alpha\":0},\"force_earliest_schedule\":false}\n\nOriginal error: RESOURCE_EXHAUSTED: Out of memory while trying to allocate 17170432 bytes.\n\nTo ignore this failure and try to use a fallback algorithm (which may have suboptimal performance), use XLA_FLAGS=--xla_gpu_strict_conv_algorithm_picker=false.  Please also file a bug for the root cause of failing autotuning.\n\t [[{{node StatefulPartitionedCall}}]] [Op:__inference_one_step_on_iterator_15004]\n\n--------------------------------------------------------------------------------\n1 fits failed with the following error:\nTraceback (most recent call last):\n  File \"/mnt/sde1/My_Files/Code/Git_Repos/hve_projects/.venv/lib/python3.12/site-packages/sklearn/model_selection/_validation.py\", line 888, in _fit_and_score\n    estimator.fit(X_train, y_train, **fit_params)\n  File \"/mnt/sde1/My_Files/Code/Git_Repos/hve_projects/.venv/lib/python3.12/site-packages/scikeras/wrappers.py\", line 1501, in fit\n    super().fit(X=X, y=y, sample_weight=sample_weight, **kwargs)\n  File \"/mnt/sde1/My_Files/Code/Git_Repos/hve_projects/.venv/lib/python3.12/site-packages/scikeras/wrappers.py\", line 770, in fit\n    self._fit(\n  File \"/mnt/sde1/My_Files/Code/Git_Repos/hve_projects/.venv/lib/python3.12/site-packages/scikeras/wrappers.py\", line 938, in _fit\n    self._fit_keras_model(\n  File \"/mnt/sde1/My_Files/Code/Git_Repos/hve_projects/.venv/lib/python3.12/site-packages/scikeras/wrappers.py\", line 535, in _fit_keras_model\n    hist = self.model_.fit(x=X, y=y, **fit_args)\n           ^^^^^^^^^^^^^^^^^^^^^^^^^^^^^^^^^^^^^\n  File \"/mnt/sde1/My_Files/Code/Git_Repos/hve_projects/.venv/lib/python3.12/site-packages/keras/src/utils/traceback_utils.py\", line 122, in error_handler\n    raise e.with_traceback(filtered_tb) from None\n  File \"/mnt/sde1/My_Files/Code/Git_Repos/hve_projects/.venv/lib/python3.12/site-packages/tensorflow/python/eager/execute.py\", line 59, in quick_execute\n    except TypeError as e:\ntensorflow.python.framework.errors_impl.UnknownError: Graph execution error:\n\nDetected at node StatefulPartitionedCall defined at (most recent call last):\n  File \"<frozen runpy>\", line 198, in _run_module_as_main\n\n  File \"<frozen runpy>\", line 88, in _run_code\n\n  File \"/mnt/sde1/My_Files/Code/Git_Repos/hve_projects/.venv/lib/python3.12/site-packages/ipykernel_launcher.py\", line 18, in <module>\n\n  File \"/mnt/sde1/My_Files/Code/Git_Repos/hve_projects/.venv/lib/python3.12/site-packages/traitlets/config/application.py\", line 1075, in launch_instance\n\n  File \"/mnt/sde1/My_Files/Code/Git_Repos/hve_projects/.venv/lib/python3.12/site-packages/ipykernel/kernelapp.py\", line 739, in start\n\n  File \"/mnt/sde1/My_Files/Code/Git_Repos/hve_projects/.venv/lib/python3.12/site-packages/tornado/platform/asyncio.py\", line 205, in start\n\n  File \"/usr/lib/python3.12/asyncio/base_events.py\", line 641, in run_forever\n\n  File \"/usr/lib/python3.12/asyncio/base_events.py\", line 1987, in _run_once\n\n  File \"/usr/lib/python3.12/asyncio/events.py\", line 88, in _run\n\n  File \"/mnt/sde1/My_Files/Code/Git_Repos/hve_projects/.venv/lib/python3.12/site-packages/ipykernel/kernelbase.py\", line 545, in dispatch_queue\n\n  File \"/mnt/sde1/My_Files/Code/Git_Repos/hve_projects/.venv/lib/python3.12/site-packages/ipykernel/kernelbase.py\", line 534, in process_one\n\n  File \"/mnt/sde1/My_Files/Code/Git_Repos/hve_projects/.venv/lib/python3.12/site-packages/ipykernel/kernelbase.py\", line 437, in dispatch_shell\n\n  File \"/mnt/sde1/My_Files/Code/Git_Repos/hve_projects/.venv/lib/python3.12/site-packages/ipykernel/ipkernel.py\", line 362, in execute_request\n\n  File \"/mnt/sde1/My_Files/Code/Git_Repos/hve_projects/.venv/lib/python3.12/site-packages/ipykernel/kernelbase.py\", line 778, in execute_request\n\n  File \"/mnt/sde1/My_Files/Code/Git_Repos/hve_projects/.venv/lib/python3.12/site-packages/ipykernel/ipkernel.py\", line 449, in do_execute\n\n  File \"/mnt/sde1/My_Files/Code/Git_Repos/hve_projects/.venv/lib/python3.12/site-packages/ipykernel/zmqshell.py\", line 549, in run_cell\n\n  File \"/mnt/sde1/My_Files/Code/Git_Repos/hve_projects/.venv/lib/python3.12/site-packages/IPython/core/interactiveshell.py\", line 3075, in run_cell\n\n  File \"/mnt/sde1/My_Files/Code/Git_Repos/hve_projects/.venv/lib/python3.12/site-packages/IPython/core/interactiveshell.py\", line 3130, in _run_cell\n\n  File \"/mnt/sde1/My_Files/Code/Git_Repos/hve_projects/.venv/lib/python3.12/site-packages/IPython/core/async_helpers.py\", line 128, in _pseudo_sync_runner\n\n  File \"/mnt/sde1/My_Files/Code/Git_Repos/hve_projects/.venv/lib/python3.12/site-packages/IPython/core/interactiveshell.py\", line 3334, in run_cell_async\n\n  File \"/mnt/sde1/My_Files/Code/Git_Repos/hve_projects/.venv/lib/python3.12/site-packages/IPython/core/interactiveshell.py\", line 3517, in run_ast_nodes\n\n  File \"/mnt/sde1/My_Files/Code/Git_Repos/hve_projects/.venv/lib/python3.12/site-packages/IPython/core/interactiveshell.py\", line 3577, in run_code\n\n  File \"/tmp/ipykernel_89263/4030023438.py\", line 9, in <module>\n\n  File \"/mnt/sde1/My_Files/Code/Git_Repos/hve_projects/.venv/lib/python3.12/site-packages/sklearn/utils/_param_validation.py\", line 213, in wrapper\n\n  File \"/mnt/sde1/My_Files/Code/Git_Repos/hve_projects/.venv/lib/python3.12/site-packages/sklearn/model_selection/_validation.py\", line 712, in cross_val_score\n\n  File \"/mnt/sde1/My_Files/Code/Git_Repos/hve_projects/.venv/lib/python3.12/site-packages/sklearn/utils/_param_validation.py\", line 213, in wrapper\n\n  File \"/mnt/sde1/My_Files/Code/Git_Repos/hve_projects/.venv/lib/python3.12/site-packages/sklearn/model_selection/_validation.py\", line 423, in cross_validate\n\n  File \"/mnt/sde1/My_Files/Code/Git_Repos/hve_projects/.venv/lib/python3.12/site-packages/sklearn/utils/parallel.py\", line 74, in __call__\n\n  File \"/mnt/sde1/My_Files/Code/Git_Repos/hve_projects/.venv/lib/python3.12/site-packages/joblib/parallel.py\", line 1918, in __call__\n\n  File \"/mnt/sde1/My_Files/Code/Git_Repos/hve_projects/.venv/lib/python3.12/site-packages/joblib/parallel.py\", line 1847, in _get_sequential_output\n\n  File \"/mnt/sde1/My_Files/Code/Git_Repos/hve_projects/.venv/lib/python3.12/site-packages/sklearn/utils/parallel.py\", line 136, in __call__\n\n  File \"/mnt/sde1/My_Files/Code/Git_Repos/hve_projects/.venv/lib/python3.12/site-packages/sklearn/model_selection/_validation.py\", line 888, in _fit_and_score\n\n  File \"/mnt/sde1/My_Files/Code/Git_Repos/hve_projects/.venv/lib/python3.12/site-packages/scikeras/wrappers.py\", line 1501, in fit\n\n  File \"/mnt/sde1/My_Files/Code/Git_Repos/hve_projects/.venv/lib/python3.12/site-packages/scikeras/wrappers.py\", line 770, in fit\n\n  File \"/mnt/sde1/My_Files/Code/Git_Repos/hve_projects/.venv/lib/python3.12/site-packages/scikeras/wrappers.py\", line 938, in _fit\n\n  File \"/mnt/sde1/My_Files/Code/Git_Repos/hve_projects/.venv/lib/python3.12/site-packages/scikeras/wrappers.py\", line 535, in _fit_keras_model\n\n  File \"/mnt/sde1/My_Files/Code/Git_Repos/hve_projects/.venv/lib/python3.12/site-packages/keras/src/utils/traceback_utils.py\", line 117, in error_handler\n\n  File \"/mnt/sde1/My_Files/Code/Git_Repos/hve_projects/.venv/lib/python3.12/site-packages/keras/src/backend/tensorflow/trainer.py\", line 320, in fit\n\n  File \"/mnt/sde1/My_Files/Code/Git_Repos/hve_projects/.venv/lib/python3.12/site-packages/keras/src/backend/tensorflow/trainer.py\", line 121, in one_step_on_iterator\n\nFailed to determine best cudnn convolution algorithm for:\n%cudnn-conv-bias-activation.3 = (f32[32,32,30,30]{3,2,1,0}, u8[0]{0}) custom-call(f32[32,3,32,32]{3,2,1,0} %multiply.179, f32[32,3,3,3]{3,2,1,0} %transpose.69, f32[32]{0} %arg3.4), window={size=3x3}, dim_labels=bf01_oi01->bf01, custom_call_target=\"__cudnn$convBiasActivationForward\", metadata={op_type=\"Conv2D\" op_name=\"sequential_1_1/conv2d_1_1/convolution\" source_file=\"/mnt/sde1/My_Files/Code/Git_Repos/hve_projects/.venv/lib/python3.12/site-packages/tensorflow/python/framework/ops.py\" source_line=1177}, backend_config={\"operation_queue_id\":\"0\",\"wait_on_operation_queues\":[],\"cudnn_conv_backend_config\":{\"conv_result_scale\":1,\"activation_mode\":\"kNone\",\"side_input_scale\":0,\"leakyrelu_alpha\":0},\"force_earliest_schedule\":false}\n\nOriginal error: RESOURCE_EXHAUSTED: Out of memory while trying to allocate 17170432 bytes.\n\nTo ignore this failure and try to use a fallback algorithm (which may have suboptimal performance), use XLA_FLAGS=--xla_gpu_strict_conv_algorithm_picker=false.  Please also file a bug for the root cause of failing autotuning.\n\t [[{{node StatefulPartitionedCall}}]] [Op:__inference_one_step_on_iterator_16854]\n\n--------------------------------------------------------------------------------\n1 fits failed with the following error:\nTraceback (most recent call last):\n  File \"/mnt/sde1/My_Files/Code/Git_Repos/hve_projects/.venv/lib/python3.12/site-packages/sklearn/model_selection/_validation.py\", line 888, in _fit_and_score\n    estimator.fit(X_train, y_train, **fit_params)\n  File \"/mnt/sde1/My_Files/Code/Git_Repos/hve_projects/.venv/lib/python3.12/site-packages/scikeras/wrappers.py\", line 1501, in fit\n    super().fit(X=X, y=y, sample_weight=sample_weight, **kwargs)\n  File \"/mnt/sde1/My_Files/Code/Git_Repos/hve_projects/.venv/lib/python3.12/site-packages/scikeras/wrappers.py\", line 770, in fit\n    self._fit(\n  File \"/mnt/sde1/My_Files/Code/Git_Repos/hve_projects/.venv/lib/python3.12/site-packages/scikeras/wrappers.py\", line 938, in _fit\n    self._fit_keras_model(\n  File \"/mnt/sde1/My_Files/Code/Git_Repos/hve_projects/.venv/lib/python3.12/site-packages/scikeras/wrappers.py\", line 535, in _fit_keras_model\n    hist = self.model_.fit(x=X, y=y, **fit_args)\n           ^^^^^^^^^^^^^^^^^^^^^^^^^^^^^^^^^^^^^\n  File \"/mnt/sde1/My_Files/Code/Git_Repos/hve_projects/.venv/lib/python3.12/site-packages/keras/src/utils/traceback_utils.py\", line 122, in error_handler\n    raise e.with_traceback(filtered_tb) from None\n  File \"/mnt/sde1/My_Files/Code/Git_Repos/hve_projects/.venv/lib/python3.12/site-packages/tensorflow/python/eager/execute.py\", line 59, in quick_execute\n    except TypeError as e:\ntensorflow.python.framework.errors_impl.UnknownError: Graph execution error:\n\nDetected at node StatefulPartitionedCall defined at (most recent call last):\n  File \"<frozen runpy>\", line 198, in _run_module_as_main\n\n  File \"<frozen runpy>\", line 88, in _run_code\n\n  File \"/mnt/sde1/My_Files/Code/Git_Repos/hve_projects/.venv/lib/python3.12/site-packages/ipykernel_launcher.py\", line 18, in <module>\n\n  File \"/mnt/sde1/My_Files/Code/Git_Repos/hve_projects/.venv/lib/python3.12/site-packages/traitlets/config/application.py\", line 1075, in launch_instance\n\n  File \"/mnt/sde1/My_Files/Code/Git_Repos/hve_projects/.venv/lib/python3.12/site-packages/ipykernel/kernelapp.py\", line 739, in start\n\n  File \"/mnt/sde1/My_Files/Code/Git_Repos/hve_projects/.venv/lib/python3.12/site-packages/tornado/platform/asyncio.py\", line 205, in start\n\n  File \"/usr/lib/python3.12/asyncio/base_events.py\", line 641, in run_forever\n\n  File \"/usr/lib/python3.12/asyncio/base_events.py\", line 1987, in _run_once\n\n  File \"/usr/lib/python3.12/asyncio/events.py\", line 88, in _run\n\n  File \"/mnt/sde1/My_Files/Code/Git_Repos/hve_projects/.venv/lib/python3.12/site-packages/ipykernel/kernelbase.py\", line 545, in dispatch_queue\n\n  File \"/mnt/sde1/My_Files/Code/Git_Repos/hve_projects/.venv/lib/python3.12/site-packages/ipykernel/kernelbase.py\", line 534, in process_one\n\n  File \"/mnt/sde1/My_Files/Code/Git_Repos/hve_projects/.venv/lib/python3.12/site-packages/ipykernel/kernelbase.py\", line 437, in dispatch_shell\n\n  File \"/mnt/sde1/My_Files/Code/Git_Repos/hve_projects/.venv/lib/python3.12/site-packages/ipykernel/ipkernel.py\", line 362, in execute_request\n\n  File \"/mnt/sde1/My_Files/Code/Git_Repos/hve_projects/.venv/lib/python3.12/site-packages/ipykernel/kernelbase.py\", line 778, in execute_request\n\n  File \"/mnt/sde1/My_Files/Code/Git_Repos/hve_projects/.venv/lib/python3.12/site-packages/ipykernel/ipkernel.py\", line 449, in do_execute\n\n  File \"/mnt/sde1/My_Files/Code/Git_Repos/hve_projects/.venv/lib/python3.12/site-packages/ipykernel/zmqshell.py\", line 549, in run_cell\n\n  File \"/mnt/sde1/My_Files/Code/Git_Repos/hve_projects/.venv/lib/python3.12/site-packages/IPython/core/interactiveshell.py\", line 3075, in run_cell\n\n  File \"/mnt/sde1/My_Files/Code/Git_Repos/hve_projects/.venv/lib/python3.12/site-packages/IPython/core/interactiveshell.py\", line 3130, in _run_cell\n\n  File \"/mnt/sde1/My_Files/Code/Git_Repos/hve_projects/.venv/lib/python3.12/site-packages/IPython/core/async_helpers.py\", line 128, in _pseudo_sync_runner\n\n  File \"/mnt/sde1/My_Files/Code/Git_Repos/hve_projects/.venv/lib/python3.12/site-packages/IPython/core/interactiveshell.py\", line 3334, in run_cell_async\n\n  File \"/mnt/sde1/My_Files/Code/Git_Repos/hve_projects/.venv/lib/python3.12/site-packages/IPython/core/interactiveshell.py\", line 3517, in run_ast_nodes\n\n  File \"/mnt/sde1/My_Files/Code/Git_Repos/hve_projects/.venv/lib/python3.12/site-packages/IPython/core/interactiveshell.py\", line 3577, in run_code\n\n  File \"/tmp/ipykernel_89263/4030023438.py\", line 9, in <module>\n\n  File \"/mnt/sde1/My_Files/Code/Git_Repos/hve_projects/.venv/lib/python3.12/site-packages/sklearn/utils/_param_validation.py\", line 213, in wrapper\n\n  File \"/mnt/sde1/My_Files/Code/Git_Repos/hve_projects/.venv/lib/python3.12/site-packages/sklearn/model_selection/_validation.py\", line 712, in cross_val_score\n\n  File \"/mnt/sde1/My_Files/Code/Git_Repos/hve_projects/.venv/lib/python3.12/site-packages/sklearn/utils/_param_validation.py\", line 213, in wrapper\n\n  File \"/mnt/sde1/My_Files/Code/Git_Repos/hve_projects/.venv/lib/python3.12/site-packages/sklearn/model_selection/_validation.py\", line 423, in cross_validate\n\n  File \"/mnt/sde1/My_Files/Code/Git_Repos/hve_projects/.venv/lib/python3.12/site-packages/sklearn/utils/parallel.py\", line 74, in __call__\n\n  File \"/mnt/sde1/My_Files/Code/Git_Repos/hve_projects/.venv/lib/python3.12/site-packages/joblib/parallel.py\", line 1918, in __call__\n\n  File \"/mnt/sde1/My_Files/Code/Git_Repos/hve_projects/.venv/lib/python3.12/site-packages/joblib/parallel.py\", line 1847, in _get_sequential_output\n\n  File \"/mnt/sde1/My_Files/Code/Git_Repos/hve_projects/.venv/lib/python3.12/site-packages/sklearn/utils/parallel.py\", line 136, in __call__\n\n  File \"/mnt/sde1/My_Files/Code/Git_Repos/hve_projects/.venv/lib/python3.12/site-packages/sklearn/model_selection/_validation.py\", line 888, in _fit_and_score\n\n  File \"/mnt/sde1/My_Files/Code/Git_Repos/hve_projects/.venv/lib/python3.12/site-packages/scikeras/wrappers.py\", line 1501, in fit\n\n  File \"/mnt/sde1/My_Files/Code/Git_Repos/hve_projects/.venv/lib/python3.12/site-packages/scikeras/wrappers.py\", line 770, in fit\n\n  File \"/mnt/sde1/My_Files/Code/Git_Repos/hve_projects/.venv/lib/python3.12/site-packages/scikeras/wrappers.py\", line 938, in _fit\n\n  File \"/mnt/sde1/My_Files/Code/Git_Repos/hve_projects/.venv/lib/python3.12/site-packages/scikeras/wrappers.py\", line 535, in _fit_keras_model\n\n  File \"/mnt/sde1/My_Files/Code/Git_Repos/hve_projects/.venv/lib/python3.12/site-packages/keras/src/utils/traceback_utils.py\", line 117, in error_handler\n\n  File \"/mnt/sde1/My_Files/Code/Git_Repos/hve_projects/.venv/lib/python3.12/site-packages/keras/src/backend/tensorflow/trainer.py\", line 320, in fit\n\n  File \"/mnt/sde1/My_Files/Code/Git_Repos/hve_projects/.venv/lib/python3.12/site-packages/keras/src/backend/tensorflow/trainer.py\", line 121, in one_step_on_iterator\n\nFailed to determine best cudnn convolution algorithm for:\n%cudnn-conv-bias-activation.3 = (f32[32,32,30,30]{3,2,1,0}, u8[0]{0}) custom-call(f32[32,3,32,32]{3,2,1,0} %multiply.179, f32[32,3,3,3]{3,2,1,0} %transpose.69, f32[32]{0} %arg3.4), window={size=3x3}, dim_labels=bf01_oi01->bf01, custom_call_target=\"__cudnn$convBiasActivationForward\", metadata={op_type=\"Conv2D\" op_name=\"sequential_1_1/conv2d_1_1/convolution\" source_file=\"/mnt/sde1/My_Files/Code/Git_Repos/hve_projects/.venv/lib/python3.12/site-packages/tensorflow/python/framework/ops.py\" source_line=1177}, backend_config={\"operation_queue_id\":\"0\",\"wait_on_operation_queues\":[],\"cudnn_conv_backend_config\":{\"conv_result_scale\":1,\"activation_mode\":\"kNone\",\"side_input_scale\":0,\"leakyrelu_alpha\":0},\"force_earliest_schedule\":false}\n\nOriginal error: RESOURCE_EXHAUSTED: Out of memory while trying to allocate 17170432 bytes.\n\nTo ignore this failure and try to use a fallback algorithm (which may have suboptimal performance), use XLA_FLAGS=--xla_gpu_strict_conv_algorithm_picker=false.  Please also file a bug for the root cause of failing autotuning.\n\t [[{{node StatefulPartitionedCall}}]] [Op:__inference_one_step_on_iterator_18704]\n"
     ]
    }
   ],
   "source": [
    "from sklearn.model_selection import cross_val_score\n",
    "\n",
    "model = KerasClassifier(model=CNN_model01())\n",
    "\n",
    "fit_params = {\n",
    "    # TODO\n",
    "}\n",
    "\n",
    "k_fold_acc = cross_val_score(model, X_train, y_train, cv=10, scoring='accuracy', fit_params=fit_params)"
   ]
  },
  {
   "cell_type": "code",
   "execution_count": 25,
   "metadata": {},
   "outputs": [
    {
     "data": {
      "text/plain": [
       "array([0.7985, 0.5   , 0.7955, 0.5   , 0.8096, 0.7749, 0.7969, 0.793 ,\n",
       "       0.5   , 0.8143])"
      ]
     },
     "execution_count": 25,
     "metadata": {},
     "output_type": "execute_result"
    }
   ],
   "source": [
    "k_fold_acc"
   ]
  },
  {
   "cell_type": "markdown",
   "metadata": {},
   "source": [
    "#### Visualisation"
   ]
  },
  {
   "cell_type": "code",
   "execution_count": 24,
   "metadata": {},
   "outputs": [
    {
     "ename": "NameError",
     "evalue": "name 'history' is not defined",
     "output_type": "error",
     "traceback": [
      "\u001b[0;31m---------------------------------------------------------------------------\u001b[0m",
      "\u001b[0;31mNameError\u001b[0m                                 Traceback (most recent call last)",
      "Cell \u001b[0;32mIn[24], line 1\u001b[0m\n\u001b[0;32m----> 1\u001b[0m cols \u001b[38;5;241m=\u001b[39m pd\u001b[38;5;241m.\u001b[39mDataFrame(\u001b[43mhistory\u001b[49m\u001b[38;5;241m.\u001b[39mhistory)\u001b[38;5;241m.\u001b[39mcolumns\n\u001b[1;32m      2\u001b[0m cols\n",
      "\u001b[0;31mNameError\u001b[0m: name 'history' is not defined"
     ]
    }
   ],
   "source": [
    "cols = pd.DataFrame(history.history).columns\n",
    "cols"
   ]
  },
  {
   "cell_type": "code",
   "execution_count": 65,
   "metadata": {},
   "outputs": [
    {
     "data": {
      "application/vnd.plotly.v1+json": {
       "config": {
        "plotlyServerURL": "https://plot.ly"
       },
       "data": [
        {
         "mode": "lines+markers",
         "name": "Training Loss",
         "type": "scatter",
         "x": [
          0,
          1,
          2,
          3,
          4,
          5,
          6,
          7,
          8,
          9,
          10,
          11,
          12,
          13,
          14,
          15,
          16,
          17,
          18,
          19,
          20,
          21,
          22,
          23,
          24,
          25,
          26,
          27,
          28,
          29
         ],
         "xaxis": "x",
         "y": [
          0.4818636476993561,
          0.3855721950531006,
          0.3575151562690735,
          0.33828315138816833,
          0.32336780428886414,
          0.31339097023010254,
          0.30445942282676697,
          0.3016061782836914,
          0.2969536781311035,
          0.2891673445701599,
          0.28667503595352173,
          0.2760370671749115,
          0.2734435498714447,
          0.27123332023620605,
          0.2682802379131317,
          0.2639273703098297,
          0.2614784240722656,
          0.26191195845603943,
          0.2549855411052704,
          0.25428059697151184,
          0.2560834288597107,
          0.2510039508342743,
          0.2504752576351166,
          0.2516709566116333,
          0.2448905110359192,
          0.24497589468955994,
          0.24282489717006683,
          0.23993486166000366,
          0.2410881668329239,
          0.23999355733394623
         ],
         "yaxis": "y"
        },
        {
         "mode": "lines+markers",
         "name": "Validation Loss",
         "type": "scatter",
         "x": [
          0,
          1,
          2,
          3,
          4,
          5,
          6,
          7,
          8,
          9,
          10,
          11,
          12,
          13,
          14,
          15,
          16,
          17,
          18,
          19,
          20,
          21,
          22,
          23,
          24,
          25,
          26,
          27,
          28,
          29
         ],
         "xaxis": "x",
         "y": [
          0.3696155250072479,
          0.3146370053291321,
          0.34793969988822937,
          0.3188483417034149,
          0.30285027623176575,
          0.3001877963542938,
          0.3089030981063843,
          0.32400888204574585,
          0.3081226646900177,
          0.352680504322052,
          0.31856510043144226,
          0.3071347177028656,
          0.32400333881378174,
          0.3499838411808014,
          0.35405510663986206,
          0.3105948567390442,
          0.3782174289226532,
          0.3116295039653778,
          0.3435054421424866,
          0.3319612443447113,
          0.341923326253891,
          0.310852587223053,
          0.35678762197494507,
          0.3187880516052246,
          0.3246634900569916,
          0.33199039101600647,
          0.3381675183773041,
          0.355129599571228,
          0.3405914902687073,
          0.33588117361068726
         ],
         "yaxis": "y"
        },
        {
         "mode": "lines+markers",
         "name": "Training precision_2",
         "type": "scatter",
         "x": [
          0,
          1,
          2,
          3,
          4,
          5,
          6,
          7,
          8,
          9,
          10,
          11,
          12,
          13,
          14,
          15,
          16,
          17,
          18,
          19,
          20,
          21,
          22,
          23,
          24,
          25,
          26,
          27,
          28,
          29
         ],
         "xaxis": "x2",
         "y": [
          0.7559130787849426,
          0.8115928769111633,
          0.8277941346168518,
          0.8369616270065308,
          0.8433811664581299,
          0.8492528796195984,
          0.8533489108085632,
          0.8538906574249268,
          0.8548287153244019,
          0.857153594493866,
          0.8580687642097473,
          0.8642988801002502,
          0.8636192679405212,
          0.8643636107444763,
          0.8645924925804138,
          0.8677489161491394,
          0.8677082061767578,
          0.8669717311859131,
          0.8703128099441528,
          0.8701109290122986,
          0.8676139116287231,
          0.870895504951477,
          0.8684381246566772,
          0.8688469529151917,
          0.8730776906013489,
          0.8714044094085693,
          0.8727940320968628,
          0.873593807220459,
          0.8717963099479675,
          0.8726884722709656
         ],
         "yaxis": "y2"
        },
        {
         "mode": "lines+markers",
         "name": "Validation precision_2",
         "type": "scatter",
         "x": [
          0,
          1,
          2,
          3,
          4,
          5,
          6,
          7,
          8,
          9,
          10,
          11,
          12,
          13,
          14,
          15,
          16,
          17,
          18,
          19,
          20,
          21,
          22,
          23,
          24,
          25,
          26,
          27,
          28,
          29
         ],
         "xaxis": "x2",
         "y": [
          0.8648189306259155,
          0.828376293182373,
          0.8278108835220337,
          0.8458942770957947,
          0.855587363243103,
          0.8343580365180969,
          0.812462329864502,
          0.8957306146621704,
          0.868085503578186,
          0.7843056321144104,
          0.8040482997894287,
          0.8642094135284424,
          0.8845997452735901,
          0.7783643007278442,
          0.7707411050796509,
          0.8125270009040833,
          0.8803803324699402,
          0.8302543759346008,
          0.8911095261573792,
          0.8867278099060059,
          0.8878790736198425,
          0.8769747018814087,
          0.7896802425384521,
          0.8639649748802185,
          0.8584137558937073,
          0.875434935092926,
          0.8803656697273254,
          0.8115016222000122,
          0.8594164252281189,
          0.8223260641098022
         ],
         "yaxis": "y2"
        },
        {
         "mode": "lines+markers",
         "name": "Training recall_2",
         "type": "scatter",
         "x": [
          0,
          1,
          2,
          3,
          4,
          5,
          6,
          7,
          8,
          9,
          10,
          11,
          12,
          13,
          14,
          15,
          16,
          17,
          18,
          19,
          20,
          21,
          22,
          23,
          24,
          25,
          26,
          27,
          28,
          29
         ],
         "xaxis": "x3",
         "y": [
          0.8194400072097778,
          0.87117999792099,
          0.8841999769210815,
          0.8927199840545654,
          0.8989599943161011,
          0.9013800024986267,
          0.9061200022697449,
          0.9061999917030334,
          0.9086999893188477,
          0.9146000146865845,
          0.9135000109672546,
          0.9179199934005737,
          0.9193400144577026,
          0.922760009765625,
          0.9231600165367126,
          0.926859974861145,
          0.9264000058174133,
          0.9284399747848511,
          0.9293199777603149,
          0.9316800236701965,
          0.9318000078201294,
          0.9336000084877014,
          0.936020016670227,
          0.9340800046920776,
          0.9367600083351135,
          0.9373000264167786,
          0.9366999864578247,
          0.9396200180053711,
          0.9408599734306335,
          0.9410200119018555
         ],
         "yaxis": "y3"
        },
        {
         "mode": "lines+markers",
         "name": "Validation recall_2",
         "type": "scatter",
         "x": [
          0,
          1,
          2,
          3,
          4,
          5,
          6,
          7,
          8,
          9,
          10,
          11,
          12,
          13,
          14,
          15,
          16,
          17,
          18,
          19,
          20,
          21,
          22,
          23,
          24,
          25,
          26,
          27,
          28,
          29
         ],
         "xaxis": "x3",
         "y": [
          0.8144000172615051,
          0.9218999743461609,
          0.8894000053405762,
          0.902400016784668,
          0.895799994468689,
          0.9228000044822693,
          0.9440000057220459,
          0.8539000153541565,
          0.8851000070571899,
          0.9505000114440918,
          0.9453999996185303,
          0.8980000019073486,
          0.8708000183105469,
          0.9584000110626221,
          0.9577999711036682,
          0.940500020980835,
          0.8611000180244446,
          0.9302999973297119,
          0.8650000095367432,
          0.8798999786376953,
          0.8694999814033508,
          0.8881999850273132,
          0.9458000063896179,
          0.9082000255584717,
          0.9070000052452087,
          0.8805999755859375,
          0.8859999775886536,
          0.9398000240325928,
          0.9071999788284302,
          0.9326000213623047
         ],
         "yaxis": "y3"
        },
        {
         "mode": "lines+markers",
         "name": "Training accuracy",
         "type": "scatter",
         "x": [
          0,
          1,
          2,
          3,
          4,
          5,
          6,
          7,
          8,
          9,
          10,
          11,
          12,
          13,
          14,
          15,
          16,
          17,
          18,
          19,
          20,
          21,
          22,
          23,
          24,
          25,
          26,
          27,
          28,
          29
         ],
         "xaxis": "x4",
         "y": [
          0.7774199843406677,
          0.8344699740409851,
          0.850130021572113,
          0.8594099879264832,
          0.8660100102424622,
          0.8706899881362915,
          0.8751999735832214,
          0.8755699992179871,
          0.8771899938583374,
          0.881089985370636,
          0.8812000155448914,
          0.886900007724762,
          0.8870800137519836,
          0.888979971408844,
          0.8892899751663208,
          0.892799973487854,
          0.892579972743988,
          0.892989993095398,
          0.8954200148582458,
          0.8963000178337097,
          0.8948100209236145,
          0.897599995136261,
          0.8971099853515625,
          0.8965399861335754,
          0.9002900123596191,
          0.8994899988174438,
          0.9000899791717529,
          0.9018300175666809,
          0.9012500047683716,
          0.9018700122833252
         ],
         "yaxis": "y4"
        },
        {
         "mode": "lines+markers",
         "name": "Validation accuracy",
         "type": "scatter",
         "x": [
          0,
          1,
          2,
          3,
          4,
          5,
          6,
          7,
          8,
          9,
          10,
          11,
          12,
          13,
          14,
          15,
          16,
          17,
          18,
          19,
          20,
          21,
          22,
          23,
          24,
          25,
          26,
          27,
          28,
          29
         ],
         "xaxis": "x4",
         "y": [
          0.8435500264167786,
          0.8654500246047974,
          0.8521999716758728,
          0.8690000176429749,
          0.8723000288009644,
          0.8697999715805054,
          0.8630499839782715,
          0.8772500157356262,
          0.8752999901771545,
          0.8445500135421753,
          0.8575000166893005,
          0.8784499764442444,
          0.878600001335144,
          0.8427500128746033,
          0.8364499807357788,
          0.8617500066757202,
          0.8720499873161316,
          0.8700500130653381,
          0.8796499967575073,
          0.8837500214576721,
          0.8798499703407288,
          0.8817999958992004,
          0.8469499945640564,
          0.8826000094413757,
          0.8787000179290771,
          0.8776500225067139,
          0.8827999830245972,
          0.8607500195503235,
          0.8794000148773193,
          0.8655499815940857
         ],
         "yaxis": "y4"
        }
       ],
       "layout": {
        "annotations": [
         {
          "font": {
           "size": 16
          },
          "showarrow": false,
          "text": "Loss over epochs",
          "x": 0.225,
          "xanchor": "center",
          "xref": "paper",
          "y": 1.0019999999999998,
          "yanchor": "bottom",
          "yref": "paper"
         },
         {
          "font": {
           "size": 16
          },
          "showarrow": false,
          "text": "precision_2 over epochs",
          "x": 0.775,
          "xanchor": "center",
          "xref": "paper",
          "y": 1.0019999999999998,
          "yanchor": "bottom",
          "yref": "paper"
         }
        ],
        "height": 800,
        "margin": {
         "b": 10,
         "l": 10,
         "r": 10,
         "t": 30
        },
        "showlegend": true,
        "template": {
         "data": {
          "bar": [
           {
            "error_x": {
             "color": "#2a3f5f"
            },
            "error_y": {
             "color": "#2a3f5f"
            },
            "marker": {
             "line": {
              "color": "#E5ECF6",
              "width": 0.5
             },
             "pattern": {
              "fillmode": "overlay",
              "size": 10,
              "solidity": 0.2
             }
            },
            "type": "bar"
           }
          ],
          "barpolar": [
           {
            "marker": {
             "line": {
              "color": "#E5ECF6",
              "width": 0.5
             },
             "pattern": {
              "fillmode": "overlay",
              "size": 10,
              "solidity": 0.2
             }
            },
            "type": "barpolar"
           }
          ],
          "carpet": [
           {
            "aaxis": {
             "endlinecolor": "#2a3f5f",
             "gridcolor": "white",
             "linecolor": "white",
             "minorgridcolor": "white",
             "startlinecolor": "#2a3f5f"
            },
            "baxis": {
             "endlinecolor": "#2a3f5f",
             "gridcolor": "white",
             "linecolor": "white",
             "minorgridcolor": "white",
             "startlinecolor": "#2a3f5f"
            },
            "type": "carpet"
           }
          ],
          "choropleth": [
           {
            "colorbar": {
             "outlinewidth": 0,
             "ticks": ""
            },
            "type": "choropleth"
           }
          ],
          "contour": [
           {
            "colorbar": {
             "outlinewidth": 0,
             "ticks": ""
            },
            "colorscale": [
             [
              0,
              "#0d0887"
             ],
             [
              0.1111111111111111,
              "#46039f"
             ],
             [
              0.2222222222222222,
              "#7201a8"
             ],
             [
              0.3333333333333333,
              "#9c179e"
             ],
             [
              0.4444444444444444,
              "#bd3786"
             ],
             [
              0.5555555555555556,
              "#d8576b"
             ],
             [
              0.6666666666666666,
              "#ed7953"
             ],
             [
              0.7777777777777778,
              "#fb9f3a"
             ],
             [
              0.8888888888888888,
              "#fdca26"
             ],
             [
              1,
              "#f0f921"
             ]
            ],
            "type": "contour"
           }
          ],
          "contourcarpet": [
           {
            "colorbar": {
             "outlinewidth": 0,
             "ticks": ""
            },
            "type": "contourcarpet"
           }
          ],
          "heatmap": [
           {
            "colorbar": {
             "outlinewidth": 0,
             "ticks": ""
            },
            "colorscale": [
             [
              0,
              "#0d0887"
             ],
             [
              0.1111111111111111,
              "#46039f"
             ],
             [
              0.2222222222222222,
              "#7201a8"
             ],
             [
              0.3333333333333333,
              "#9c179e"
             ],
             [
              0.4444444444444444,
              "#bd3786"
             ],
             [
              0.5555555555555556,
              "#d8576b"
             ],
             [
              0.6666666666666666,
              "#ed7953"
             ],
             [
              0.7777777777777778,
              "#fb9f3a"
             ],
             [
              0.8888888888888888,
              "#fdca26"
             ],
             [
              1,
              "#f0f921"
             ]
            ],
            "type": "heatmap"
           }
          ],
          "heatmapgl": [
           {
            "colorbar": {
             "outlinewidth": 0,
             "ticks": ""
            },
            "colorscale": [
             [
              0,
              "#0d0887"
             ],
             [
              0.1111111111111111,
              "#46039f"
             ],
             [
              0.2222222222222222,
              "#7201a8"
             ],
             [
              0.3333333333333333,
              "#9c179e"
             ],
             [
              0.4444444444444444,
              "#bd3786"
             ],
             [
              0.5555555555555556,
              "#d8576b"
             ],
             [
              0.6666666666666666,
              "#ed7953"
             ],
             [
              0.7777777777777778,
              "#fb9f3a"
             ],
             [
              0.8888888888888888,
              "#fdca26"
             ],
             [
              1,
              "#f0f921"
             ]
            ],
            "type": "heatmapgl"
           }
          ],
          "histogram": [
           {
            "marker": {
             "pattern": {
              "fillmode": "overlay",
              "size": 10,
              "solidity": 0.2
             }
            },
            "type": "histogram"
           }
          ],
          "histogram2d": [
           {
            "colorbar": {
             "outlinewidth": 0,
             "ticks": ""
            },
            "colorscale": [
             [
              0,
              "#0d0887"
             ],
             [
              0.1111111111111111,
              "#46039f"
             ],
             [
              0.2222222222222222,
              "#7201a8"
             ],
             [
              0.3333333333333333,
              "#9c179e"
             ],
             [
              0.4444444444444444,
              "#bd3786"
             ],
             [
              0.5555555555555556,
              "#d8576b"
             ],
             [
              0.6666666666666666,
              "#ed7953"
             ],
             [
              0.7777777777777778,
              "#fb9f3a"
             ],
             [
              0.8888888888888888,
              "#fdca26"
             ],
             [
              1,
              "#f0f921"
             ]
            ],
            "type": "histogram2d"
           }
          ],
          "histogram2dcontour": [
           {
            "colorbar": {
             "outlinewidth": 0,
             "ticks": ""
            },
            "colorscale": [
             [
              0,
              "#0d0887"
             ],
             [
              0.1111111111111111,
              "#46039f"
             ],
             [
              0.2222222222222222,
              "#7201a8"
             ],
             [
              0.3333333333333333,
              "#9c179e"
             ],
             [
              0.4444444444444444,
              "#bd3786"
             ],
             [
              0.5555555555555556,
              "#d8576b"
             ],
             [
              0.6666666666666666,
              "#ed7953"
             ],
             [
              0.7777777777777778,
              "#fb9f3a"
             ],
             [
              0.8888888888888888,
              "#fdca26"
             ],
             [
              1,
              "#f0f921"
             ]
            ],
            "type": "histogram2dcontour"
           }
          ],
          "mesh3d": [
           {
            "colorbar": {
             "outlinewidth": 0,
             "ticks": ""
            },
            "type": "mesh3d"
           }
          ],
          "parcoords": [
           {
            "line": {
             "colorbar": {
              "outlinewidth": 0,
              "ticks": ""
             }
            },
            "type": "parcoords"
           }
          ],
          "pie": [
           {
            "automargin": true,
            "type": "pie"
           }
          ],
          "scatter": [
           {
            "fillpattern": {
             "fillmode": "overlay",
             "size": 10,
             "solidity": 0.2
            },
            "type": "scatter"
           }
          ],
          "scatter3d": [
           {
            "line": {
             "colorbar": {
              "outlinewidth": 0,
              "ticks": ""
             }
            },
            "marker": {
             "colorbar": {
              "outlinewidth": 0,
              "ticks": ""
             }
            },
            "type": "scatter3d"
           }
          ],
          "scattercarpet": [
           {
            "marker": {
             "colorbar": {
              "outlinewidth": 0,
              "ticks": ""
             }
            },
            "type": "scattercarpet"
           }
          ],
          "scattergeo": [
           {
            "marker": {
             "colorbar": {
              "outlinewidth": 0,
              "ticks": ""
             }
            },
            "type": "scattergeo"
           }
          ],
          "scattergl": [
           {
            "marker": {
             "colorbar": {
              "outlinewidth": 0,
              "ticks": ""
             }
            },
            "type": "scattergl"
           }
          ],
          "scattermapbox": [
           {
            "marker": {
             "colorbar": {
              "outlinewidth": 0,
              "ticks": ""
             }
            },
            "type": "scattermapbox"
           }
          ],
          "scatterpolar": [
           {
            "marker": {
             "colorbar": {
              "outlinewidth": 0,
              "ticks": ""
             }
            },
            "type": "scatterpolar"
           }
          ],
          "scatterpolargl": [
           {
            "marker": {
             "colorbar": {
              "outlinewidth": 0,
              "ticks": ""
             }
            },
            "type": "scatterpolargl"
           }
          ],
          "scatterternary": [
           {
            "marker": {
             "colorbar": {
              "outlinewidth": 0,
              "ticks": ""
             }
            },
            "type": "scatterternary"
           }
          ],
          "surface": [
           {
            "colorbar": {
             "outlinewidth": 0,
             "ticks": ""
            },
            "colorscale": [
             [
              0,
              "#0d0887"
             ],
             [
              0.1111111111111111,
              "#46039f"
             ],
             [
              0.2222222222222222,
              "#7201a8"
             ],
             [
              0.3333333333333333,
              "#9c179e"
             ],
             [
              0.4444444444444444,
              "#bd3786"
             ],
             [
              0.5555555555555556,
              "#d8576b"
             ],
             [
              0.6666666666666666,
              "#ed7953"
             ],
             [
              0.7777777777777778,
              "#fb9f3a"
             ],
             [
              0.8888888888888888,
              "#fdca26"
             ],
             [
              1,
              "#f0f921"
             ]
            ],
            "type": "surface"
           }
          ],
          "table": [
           {
            "cells": {
             "fill": {
              "color": "#EBF0F8"
             },
             "line": {
              "color": "white"
             }
            },
            "header": {
             "fill": {
              "color": "#C8D4E3"
             },
             "line": {
              "color": "white"
             }
            },
            "type": "table"
           }
          ]
         },
         "layout": {
          "annotationdefaults": {
           "arrowcolor": "#2a3f5f",
           "arrowhead": 0,
           "arrowwidth": 1
          },
          "autotypenumbers": "strict",
          "coloraxis": {
           "colorbar": {
            "outlinewidth": 0,
            "ticks": ""
           }
          },
          "colorscale": {
           "diverging": [
            [
             0,
             "#8e0152"
            ],
            [
             0.1,
             "#c51b7d"
            ],
            [
             0.2,
             "#de77ae"
            ],
            [
             0.3,
             "#f1b6da"
            ],
            [
             0.4,
             "#fde0ef"
            ],
            [
             0.5,
             "#f7f7f7"
            ],
            [
             0.6,
             "#e6f5d0"
            ],
            [
             0.7,
             "#b8e186"
            ],
            [
             0.8,
             "#7fbc41"
            ],
            [
             0.9,
             "#4d9221"
            ],
            [
             1,
             "#276419"
            ]
           ],
           "sequential": [
            [
             0,
             "#0d0887"
            ],
            [
             0.1111111111111111,
             "#46039f"
            ],
            [
             0.2222222222222222,
             "#7201a8"
            ],
            [
             0.3333333333333333,
             "#9c179e"
            ],
            [
             0.4444444444444444,
             "#bd3786"
            ],
            [
             0.5555555555555556,
             "#d8576b"
            ],
            [
             0.6666666666666666,
             "#ed7953"
            ],
            [
             0.7777777777777778,
             "#fb9f3a"
            ],
            [
             0.8888888888888888,
             "#fdca26"
            ],
            [
             1,
             "#f0f921"
            ]
           ],
           "sequentialminus": [
            [
             0,
             "#0d0887"
            ],
            [
             0.1111111111111111,
             "#46039f"
            ],
            [
             0.2222222222222222,
             "#7201a8"
            ],
            [
             0.3333333333333333,
             "#9c179e"
            ],
            [
             0.4444444444444444,
             "#bd3786"
            ],
            [
             0.5555555555555556,
             "#d8576b"
            ],
            [
             0.6666666666666666,
             "#ed7953"
            ],
            [
             0.7777777777777778,
             "#fb9f3a"
            ],
            [
             0.8888888888888888,
             "#fdca26"
            ],
            [
             1,
             "#f0f921"
            ]
           ]
          },
          "colorway": [
           "#636efa",
           "#EF553B",
           "#00cc96",
           "#ab63fa",
           "#FFA15A",
           "#19d3f3",
           "#FF6692",
           "#B6E880",
           "#FF97FF",
           "#FECB52"
          ],
          "font": {
           "color": "#2a3f5f"
          },
          "geo": {
           "bgcolor": "white",
           "lakecolor": "white",
           "landcolor": "#E5ECF6",
           "showlakes": true,
           "showland": true,
           "subunitcolor": "white"
          },
          "hoverlabel": {
           "align": "left"
          },
          "hovermode": "closest",
          "mapbox": {
           "style": "light"
          },
          "paper_bgcolor": "white",
          "plot_bgcolor": "#E5ECF6",
          "polar": {
           "angularaxis": {
            "gridcolor": "white",
            "linecolor": "white",
            "ticks": ""
           },
           "bgcolor": "#E5ECF6",
           "radialaxis": {
            "gridcolor": "white",
            "linecolor": "white",
            "ticks": ""
           }
          },
          "scene": {
           "xaxis": {
            "backgroundcolor": "#E5ECF6",
            "gridcolor": "white",
            "gridwidth": 2,
            "linecolor": "white",
            "showbackground": true,
            "ticks": "",
            "zerolinecolor": "white"
           },
           "yaxis": {
            "backgroundcolor": "#E5ECF6",
            "gridcolor": "white",
            "gridwidth": 2,
            "linecolor": "white",
            "showbackground": true,
            "ticks": "",
            "zerolinecolor": "white"
           },
           "zaxis": {
            "backgroundcolor": "#E5ECF6",
            "gridcolor": "white",
            "gridwidth": 2,
            "linecolor": "white",
            "showbackground": true,
            "ticks": "",
            "zerolinecolor": "white"
           }
          },
          "shapedefaults": {
           "line": {
            "color": "#2a3f5f"
           }
          },
          "ternary": {
           "aaxis": {
            "gridcolor": "white",
            "linecolor": "white",
            "ticks": ""
           },
           "baxis": {
            "gridcolor": "white",
            "linecolor": "white",
            "ticks": ""
           },
           "bgcolor": "#E5ECF6",
           "caxis": {
            "gridcolor": "white",
            "linecolor": "white",
            "ticks": ""
           }
          },
          "title": {
           "x": 0.05
          },
          "xaxis": {
           "automargin": true,
           "gridcolor": "white",
           "linecolor": "white",
           "ticks": "",
           "title": {
            "standoff": 15
           },
           "zerolinecolor": "white",
           "zerolinewidth": 2
          },
          "yaxis": {
           "automargin": true,
           "gridcolor": "white",
           "linecolor": "white",
           "ticks": "",
           "title": {
            "standoff": 15
           },
           "zerolinecolor": "white",
           "zerolinewidth": 2
          }
         }
        },
        "width": 1400,
        "xaxis": {
         "anchor": "y",
         "domain": [
          0,
          0.45
         ],
         "title": {
          "text": "Epochs"
         }
        },
        "xaxis2": {
         "anchor": "y2",
         "domain": [
          0.55,
          1
         ]
        },
        "xaxis3": {
         "anchor": "y3",
         "domain": [
          0,
          0.45
         ]
        },
        "xaxis4": {
         "anchor": "y4",
         "domain": [
          0.55,
          1
         ]
        },
        "yaxis": {
         "anchor": "x",
         "domain": [
          0.5349999999999999,
          0.9999999999999999
         ],
         "title": {
          "text": "Loss"
         }
        },
        "yaxis2": {
         "anchor": "x2",
         "domain": [
          0.5349999999999999,
          0.9999999999999999
         ],
         "title": {
          "text": "accuracy"
         }
        },
        "yaxis3": {
         "anchor": "x3",
         "domain": [
          0,
          0.46499999999999997
         ],
         "title": {
          "text": "accuracy"
         }
        },
        "yaxis4": {
         "anchor": "x4",
         "domain": [
          0,
          0.46499999999999997
         ],
         "title": {
          "text": "accuracy"
         }
        }
       }
      }
     },
     "metadata": {},
     "output_type": "display_data"
    }
   ],
   "source": [
    "hist = history.history\n",
    "\n",
    "n = 5\n",
    "train_col = cols[2]\n",
    "val_col = f'val_{train_col}'\n",
    "\n",
    "fig = make_subplots(rows=2, cols=2, subplot_titles=(\"Loss over epochs\", f\"{train_col} over epochs\"), vertical_spacing=0.07)\n",
    "\n",
    "# Loss\n",
    "fig.add_trace( go.Scatter(x=list(range(len(hist['loss']))), y=hist['loss'], mode='lines+markers', name='Training Loss'), row=1, col=1 )\n",
    "fig.add_trace( go.Scatter(x=list(range(len(hist['val_loss']))), y=hist['val_loss'], mode='lines+markers', name='Validation Loss'), row=1, col=1 )\n",
    "\n",
    "# \n",
    "fig.add_trace(  go.Scatter(x=list(range(len(hist[train_col]))), y=hist[train_col],  mode='lines+markers', name=f'Training {train_col}'),  row=1, col=2 )\n",
    "fig.add_trace( go.Scatter(x=list(range(len(hist[val_col]))), y=hist[val_col], mode='lines+markers', name=f'Validation {train_col}'), row=1, col=2)\n",
    "\n",
    "#\n",
    "train_col = cols[3]\n",
    "val_col = f'val_{train_col}'\n",
    "fig.add_trace(  go.Scatter(x=list(range(len(hist[train_col]))), y=hist[train_col],  mode='lines+markers', name=f'Training {train_col}'),  row=2, col=1 )\n",
    "fig.add_trace( go.Scatter(x=list(range(len(hist[val_col]))), y=hist[val_col], mode='lines+markers', name=f'Validation {train_col}'), row=2, col=1)\n",
    "\n",
    "train_col = 'accuracy'\n",
    "val_col = f'val_{train_col}'\n",
    "fig.add_trace(  go.Scatter(x=list(range(len(hist[train_col]))), y=hist[train_col],  mode='lines+markers', name=f'Training {train_col}'),  row=2, col=2 )\n",
    "fig.add_trace( go.Scatter(x=list(range(len(hist[val_col]))), y=hist[val_col], mode='lines+markers', name=f'Validation {train_col}'), row=2, col=2)\n",
    "\n",
    "\n",
    "fig.update_xaxes(title_text=\"Epochs\", row=1, col=1)\n",
    "fig.update_yaxes(title_text=\"Loss\", row=1, col=1)\n",
    "fig.update_yaxes(title_text=f\"{train_col}\", row=1, col=2)\n",
    "fig.update_yaxes(title_text=f\"{train_col}\", row=2, col=1)\n",
    "fig.update_yaxes(title_text=f\"{train_col}\", row=2, col=2)\n",
    "\n",
    "fig.update_layout(\n",
    "    # title_text=\"Training and validation metrics over epochs\",\n",
    "    showlegend=True,\n",
    "    margin=dict(l=10, r=10, b=10, t=30),\n",
    "    width=1400, height=800\n",
    ")\n",
    "\n",
    "for annotation in fig['layout']['annotations']:\n",
    "    annotation['y'] = annotation['y'] + 0.002\n",
    "\n",
    "fig"
   ]
  },
  {
   "cell_type": "code",
   "execution_count": 66,
   "metadata": {},
   "outputs": [],
   "source": [
    "# Confusion matrix\n",
    "# conf_matrix = confusion_matrix(y_test, y_pred_classes)"
   ]
  },
  {
   "cell_type": "markdown",
   "metadata": {},
   "source": [
    "#### Class activation map"
   ]
  },
  {
   "cell_type": "code",
   "execution_count": null,
   "metadata": {},
   "outputs": [],
   "source": []
  }
 ],
 "metadata": {
  "kernelspec": {
   "display_name": ".venv",
   "language": "python",
   "name": "python3"
  },
  "language_info": {
   "codemirror_mode": {
    "name": "ipython",
    "version": 3
   },
   "file_extension": ".py",
   "mimetype": "text/x-python",
   "name": "python",
   "nbconvert_exporter": "python",
   "pygments_lexer": "ipython3",
   "version": "3.12.3"
  }
 },
 "nbformat": 4,
 "nbformat_minor": 2
}
